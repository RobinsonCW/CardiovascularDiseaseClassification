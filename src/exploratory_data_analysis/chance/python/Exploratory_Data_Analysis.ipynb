{
 "cells": [
  {
   "cell_type": "code",
   "execution_count": 90,
   "metadata": {},
   "outputs": [],
   "source": [
    "MODEL_TYPES = [\"Full\", \"New Features\"]\n",
    "\n",
    "MODEL_TYPE = MODEL_TYPES[1]"
   ]
  },
  {
   "cell_type": "code",
   "execution_count": 91,
   "metadata": {},
   "outputs": [],
   "source": [
    "import pandas as pd\n",
    "import numpy as np \n",
    "from matplotlib import pyplot as plt\n",
    "from matplotlib.ticker import MaxNLocator\n",
    "import seaborn as sns\n",
    "import plotly.express as px\n",
    "%matplotlib inline"
   ]
  },
  {
   "cell_type": "markdown",
   "metadata": {},
   "source": [
    "#### Load the CSV Data"
   ]
  },
  {
   "cell_type": "code",
   "execution_count": 92,
   "metadata": {},
   "outputs": [],
   "source": [
    "df = pd.read_csv('../../../../data/cardio_train.csv', delimiter=';')\n"
   ]
  },
  {
   "cell_type": "markdown",
   "metadata": {},
   "source": [
    "# Data Meaning Type\n",
    "\n",
    "\n",
    "The cardiovascular dataset consists of 11 features and 1 target variable. Attribute descriptions can be found on [Kaggle](https://www.kaggle.com/sulianova/cardiovascular-disease-dataset). They are provided below.\n",
    "\n",
    "There are 3 types of input features in the data set.\n",
    "- **Objective**: factual information\n",
    "- **Examination**:  results from a medical examination\n",
    "- **Subjective**:  response provided by patient\n",
    "\n"
   ]
  },
  {
   "cell_type": "markdown",
   "metadata": {},
   "source": [
    "**Table 1: Cardiovascular Dataset - Attribute Descriptions**\n",
    "\n",
    "| Column Description | Feature Type | Column Name | Data Type |\n",
    "|:---|:---|:---|:---|\n",
    "| **Age**                        | Objective | age | int (days) |\n",
    "| **Height**                     | Objective | height | int (cm) |\n",
    "| **Weight**                     | Objective | weight | float (kg) |\n",
    "| **Gender**                     | Objective | gender | 1: female, 2: male |\n",
    "| **Systolic blood pressure**    | Examination | ap_hi | int |\n",
    "| **Diastolic blood pressure**   | Examination | ap_lo | int |\n",
    "| **Cholesterol**                | Examination | cholesterol | 1: normal, 2: above normal, 3: well above normal |\n",
    "| **Glucose**                    | Examination | gluc | 1: normal, 2: above normal, 3: well above normal |\n",
    "| **Smoking**                    | Subjective | smoke | binary |\n",
    "| **Alcohol intake**             | Subjective | alco | binary |\n",
    "| **Physical activity**          | Subjective | active | binary |\n",
    "| **Has CVD?**                   | Target | cardio | binary |"
   ]
  },
  {
   "cell_type": "markdown",
   "metadata": {},
   "source": [
    "We decided to use the `id` column as the index as it appears to be a unique identifier for the subject."
   ]
  },
  {
   "cell_type": "code",
   "execution_count": 93,
   "metadata": {},
   "outputs": [],
   "source": [
    "df.set_index(\"id\", inplace=True)"
   ]
  },
  {
   "cell_type": "code",
   "execution_count": 94,
   "metadata": {},
   "outputs": [
    {
     "output_type": "execute_result",
     "data": {
      "text/plain": "True"
     },
     "metadata": {},
     "execution_count": 94
    }
   ],
   "source": [
    "df.index.is_unique"
   ]
  },
  {
   "cell_type": "markdown",
   "metadata": {},
   "source": [
    "# Data Quality\n"
   ]
  },
  {
   "cell_type": "code",
   "execution_count": 95,
   "metadata": {},
   "outputs": [],
   "source": [
    "df_clean = df.copy(deep=True)"
   ]
  },
  {
   "cell_type": "code",
   "execution_count": 96,
   "metadata": {},
   "outputs": [],
   "source": [
    "df_clean.drop_duplicates(inplace=True)"
   ]
  },
  {
   "cell_type": "markdown",
   "metadata": {},
   "source": [
    "We'll remove the duplicates entirely, as this should not affect the ability of our models to make predictions with the amount of observations at our disposal. "
   ]
  },
  {
   "cell_type": "markdown",
   "metadata": {},
   "source": [
    "## Transformations"
   ]
  },
  {
   "cell_type": "code",
   "execution_count": 97,
   "metadata": {},
   "outputs": [],
   "source": [
    "# %%time\n",
    "# df_clean['age'] = df_clean['age'].apply(lambda x: round(x / 365))\n",
    "df_clean['age'] = (df_clean['age'] / 365).round().astype('int')"
   ]
  },
  {
   "cell_type": "markdown",
   "metadata": {},
   "source": [
    "`Age` was provided in `days`, and for the sake of interpretability we'll be converting this to years for all observations."
   ]
  },
  {
   "cell_type": "code",
   "execution_count": 98,
   "metadata": {},
   "outputs": [],
   "source": [
    "\n",
    "df_clean['gender'] = np.where((df_clean.gender == 2), 1, 0)"
   ]
  },
  {
   "cell_type": "code",
   "execution_count": 99,
   "metadata": {},
   "outputs": [
    {
     "output_type": "execute_result",
     "data": {
      "text/plain": "    age  gender  height  weight  ap_hi  ap_lo  cholesterol  gluc  smoke  alco  \\\nid                                                                              \n0    50       1     168    62.0    110     80            1     1      0     0   \n1    55       0     156    85.0    140     90            3     1      0     0   \n2    52       0     165    64.0    130     70            3     1      0     0   \n3    48       1     169    82.0    150    100            1     1      0     0   \n4    48       0     156    56.0    100     60            1     1      0     0   \n\n    active  cardio  \nid                  \n0        1       0  \n1        1       1  \n2        0       1  \n3        1       1  \n4        0       0  ",
      "text/html": "<div>\n<style scoped>\n    .dataframe tbody tr th:only-of-type {\n        vertical-align: middle;\n    }\n\n    .dataframe tbody tr th {\n        vertical-align: top;\n    }\n\n    .dataframe thead th {\n        text-align: right;\n    }\n</style>\n<table border=\"1\" class=\"dataframe\">\n  <thead>\n    <tr style=\"text-align: right;\">\n      <th></th>\n      <th>age</th>\n      <th>gender</th>\n      <th>height</th>\n      <th>weight</th>\n      <th>ap_hi</th>\n      <th>ap_lo</th>\n      <th>cholesterol</th>\n      <th>gluc</th>\n      <th>smoke</th>\n      <th>alco</th>\n      <th>active</th>\n      <th>cardio</th>\n    </tr>\n    <tr>\n      <th>id</th>\n      <th></th>\n      <th></th>\n      <th></th>\n      <th></th>\n      <th></th>\n      <th></th>\n      <th></th>\n      <th></th>\n      <th></th>\n      <th></th>\n      <th></th>\n      <th></th>\n    </tr>\n  </thead>\n  <tbody>\n    <tr>\n      <th>0</th>\n      <td>50</td>\n      <td>1</td>\n      <td>168</td>\n      <td>62.0</td>\n      <td>110</td>\n      <td>80</td>\n      <td>1</td>\n      <td>1</td>\n      <td>0</td>\n      <td>0</td>\n      <td>1</td>\n      <td>0</td>\n    </tr>\n    <tr>\n      <th>1</th>\n      <td>55</td>\n      <td>0</td>\n      <td>156</td>\n      <td>85.0</td>\n      <td>140</td>\n      <td>90</td>\n      <td>3</td>\n      <td>1</td>\n      <td>0</td>\n      <td>0</td>\n      <td>1</td>\n      <td>1</td>\n    </tr>\n    <tr>\n      <th>2</th>\n      <td>52</td>\n      <td>0</td>\n      <td>165</td>\n      <td>64.0</td>\n      <td>130</td>\n      <td>70</td>\n      <td>3</td>\n      <td>1</td>\n      <td>0</td>\n      <td>0</td>\n      <td>0</td>\n      <td>1</td>\n    </tr>\n    <tr>\n      <th>3</th>\n      <td>48</td>\n      <td>1</td>\n      <td>169</td>\n      <td>82.0</td>\n      <td>150</td>\n      <td>100</td>\n      <td>1</td>\n      <td>1</td>\n      <td>0</td>\n      <td>0</td>\n      <td>1</td>\n      <td>1</td>\n    </tr>\n    <tr>\n      <th>4</th>\n      <td>48</td>\n      <td>0</td>\n      <td>156</td>\n      <td>56.0</td>\n      <td>100</td>\n      <td>60</td>\n      <td>1</td>\n      <td>1</td>\n      <td>0</td>\n      <td>0</td>\n      <td>0</td>\n      <td>0</td>\n    </tr>\n  </tbody>\n</table>\n</div>"
     },
     "metadata": {},
     "execution_count": 99
    }
   ],
   "source": [
    "df_clean.head()"
   ]
  },
  {
   "cell_type": "markdown",
   "metadata": {},
   "source": [
    "## Outliers"
   ]
  },
  {
   "cell_type": "code",
   "execution_count": 100,
   "metadata": {},
   "outputs": [],
   "source": [
    "plt.style.use('ggplot')"
   ]
  },
  {
   "cell_type": "code",
   "execution_count": 101,
   "metadata": {},
   "outputs": [
    {
     "output_type": "execute_result",
     "data": {
      "text/plain": "                age        gender        height        weight         ap_hi  \\\ncount  69976.000000  69976.000000  69976.000000  69976.000000  69976.000000   \nmean      53.338945      0.349648    164.359152     74.208519    128.820453   \nstd        6.765633      0.476862      8.211218     14.397211    154.037729   \nmin       30.000000      0.000000     55.000000     10.000000   -150.000000   \n25%       48.000000      0.000000    159.000000     65.000000    120.000000   \n50%       54.000000      0.000000    165.000000     72.000000    120.000000   \n75%       58.000000      1.000000    170.000000     82.000000    140.000000   \nmax       65.000000      1.000000    250.000000    200.000000  16020.000000   \n\n              ap_lo   cholesterol          gluc         smoke          alco  \\\ncount  69976.000000  69976.000000  69976.000000  69976.000000  69976.000000   \nmean      96.636261      1.366997      1.226535      0.088159      0.053790   \nstd      188.504581      0.680333      0.572353      0.283528      0.225604   \nmin      -70.000000      1.000000      1.000000      0.000000      0.000000   \n25%       80.000000      1.000000      1.000000      0.000000      0.000000   \n50%       80.000000      1.000000      1.000000      0.000000      0.000000   \n75%       90.000000      2.000000      1.000000      0.000000      0.000000   \nmax    11000.000000      3.000000      3.000000      1.000000      1.000000   \n\n             active        cardio  \ncount  69976.000000  69976.000000  \nmean       0.803718      0.499771  \nstd        0.397187      0.500004  \nmin        0.000000      0.000000  \n25%        1.000000      0.000000  \n50%        1.000000      0.000000  \n75%        1.000000      1.000000  \nmax        1.000000      1.000000  ",
      "text/html": "<div>\n<style scoped>\n    .dataframe tbody tr th:only-of-type {\n        vertical-align: middle;\n    }\n\n    .dataframe tbody tr th {\n        vertical-align: top;\n    }\n\n    .dataframe thead th {\n        text-align: right;\n    }\n</style>\n<table border=\"1\" class=\"dataframe\">\n  <thead>\n    <tr style=\"text-align: right;\">\n      <th></th>\n      <th>age</th>\n      <th>gender</th>\n      <th>height</th>\n      <th>weight</th>\n      <th>ap_hi</th>\n      <th>ap_lo</th>\n      <th>cholesterol</th>\n      <th>gluc</th>\n      <th>smoke</th>\n      <th>alco</th>\n      <th>active</th>\n      <th>cardio</th>\n    </tr>\n  </thead>\n  <tbody>\n    <tr>\n      <th>count</th>\n      <td>69976.000000</td>\n      <td>69976.000000</td>\n      <td>69976.000000</td>\n      <td>69976.000000</td>\n      <td>69976.000000</td>\n      <td>69976.000000</td>\n      <td>69976.000000</td>\n      <td>69976.000000</td>\n      <td>69976.000000</td>\n      <td>69976.000000</td>\n      <td>69976.000000</td>\n      <td>69976.000000</td>\n    </tr>\n    <tr>\n      <th>mean</th>\n      <td>53.338945</td>\n      <td>0.349648</td>\n      <td>164.359152</td>\n      <td>74.208519</td>\n      <td>128.820453</td>\n      <td>96.636261</td>\n      <td>1.366997</td>\n      <td>1.226535</td>\n      <td>0.088159</td>\n      <td>0.053790</td>\n      <td>0.803718</td>\n      <td>0.499771</td>\n    </tr>\n    <tr>\n      <th>std</th>\n      <td>6.765633</td>\n      <td>0.476862</td>\n      <td>8.211218</td>\n      <td>14.397211</td>\n      <td>154.037729</td>\n      <td>188.504581</td>\n      <td>0.680333</td>\n      <td>0.572353</td>\n      <td>0.283528</td>\n      <td>0.225604</td>\n      <td>0.397187</td>\n      <td>0.500004</td>\n    </tr>\n    <tr>\n      <th>min</th>\n      <td>30.000000</td>\n      <td>0.000000</td>\n      <td>55.000000</td>\n      <td>10.000000</td>\n      <td>-150.000000</td>\n      <td>-70.000000</td>\n      <td>1.000000</td>\n      <td>1.000000</td>\n      <td>0.000000</td>\n      <td>0.000000</td>\n      <td>0.000000</td>\n      <td>0.000000</td>\n    </tr>\n    <tr>\n      <th>25%</th>\n      <td>48.000000</td>\n      <td>0.000000</td>\n      <td>159.000000</td>\n      <td>65.000000</td>\n      <td>120.000000</td>\n      <td>80.000000</td>\n      <td>1.000000</td>\n      <td>1.000000</td>\n      <td>0.000000</td>\n      <td>0.000000</td>\n      <td>1.000000</td>\n      <td>0.000000</td>\n    </tr>\n    <tr>\n      <th>50%</th>\n      <td>54.000000</td>\n      <td>0.000000</td>\n      <td>165.000000</td>\n      <td>72.000000</td>\n      <td>120.000000</td>\n      <td>80.000000</td>\n      <td>1.000000</td>\n      <td>1.000000</td>\n      <td>0.000000</td>\n      <td>0.000000</td>\n      <td>1.000000</td>\n      <td>0.000000</td>\n    </tr>\n    <tr>\n      <th>75%</th>\n      <td>58.000000</td>\n      <td>1.000000</td>\n      <td>170.000000</td>\n      <td>82.000000</td>\n      <td>140.000000</td>\n      <td>90.000000</td>\n      <td>2.000000</td>\n      <td>1.000000</td>\n      <td>0.000000</td>\n      <td>0.000000</td>\n      <td>1.000000</td>\n      <td>1.000000</td>\n    </tr>\n    <tr>\n      <th>max</th>\n      <td>65.000000</td>\n      <td>1.000000</td>\n      <td>250.000000</td>\n      <td>200.000000</td>\n      <td>16020.000000</td>\n      <td>11000.000000</td>\n      <td>3.000000</td>\n      <td>3.000000</td>\n      <td>1.000000</td>\n      <td>1.000000</td>\n      <td>1.000000</td>\n      <td>1.000000</td>\n    </tr>\n  </tbody>\n</table>\n</div>"
     },
     "metadata": {},
     "execution_count": 101
    }
   ],
   "source": [
    "df_clean.describe()"
   ]
  },
  {
   "cell_type": "markdown",
   "metadata": {},
   "source": [
    "## Imputation"
   ]
  },
  {
   "cell_type": "markdown",
   "metadata": {},
   "source": [
    "#### Age"
   ]
  },
  {
   "cell_type": "code",
   "execution_count": 102,
   "metadata": {},
   "outputs": [],
   "source": [
    "median_age = df_clean['age'].median()"
   ]
  },
  {
   "cell_type": "code",
   "execution_count": 103,
   "metadata": {},
   "outputs": [],
   "source": [
    "age_outlier_ids = df_clean.index[(np.abs(df_clean['age'] - df_clean['age'].mean()) > (3 * df_clean['age'].std()))]"
   ]
  },
  {
   "cell_type": "code",
   "execution_count": 104,
   "metadata": {},
   "outputs": [],
   "source": [
    "df_clean.loc[df_clean.index.isin(age_outlier_ids), \"age\"] = np.nan"
   ]
  },
  {
   "cell_type": "code",
   "execution_count": 105,
   "metadata": {},
   "outputs": [
    {
     "output_type": "execute_result",
     "data": {
      "text/plain": "       age  gender  height  weight  ap_hi  ap_lo  cholesterol  gluc  smoke  \\\nid                                                                           \n8850   NaN       0     175    59.0    120     80            1     1      0   \n31922  NaN       1     175    92.0    100     60            1     1      0   \n43842  NaN       0     159    59.0    120     80            1     1      0   \n79749  NaN       0     160    59.0    110     70            1     1      0   \n\n       alco  active  cardio  \nid                           \n8850      0       1       0  \n31922     0       1       0  \n43842     0       1       0  \n79749     0       1       0  ",
      "text/html": "<div>\n<style scoped>\n    .dataframe tbody tr th:only-of-type {\n        vertical-align: middle;\n    }\n\n    .dataframe tbody tr th {\n        vertical-align: top;\n    }\n\n    .dataframe thead th {\n        text-align: right;\n    }\n</style>\n<table border=\"1\" class=\"dataframe\">\n  <thead>\n    <tr style=\"text-align: right;\">\n      <th></th>\n      <th>age</th>\n      <th>gender</th>\n      <th>height</th>\n      <th>weight</th>\n      <th>ap_hi</th>\n      <th>ap_lo</th>\n      <th>cholesterol</th>\n      <th>gluc</th>\n      <th>smoke</th>\n      <th>alco</th>\n      <th>active</th>\n      <th>cardio</th>\n    </tr>\n    <tr>\n      <th>id</th>\n      <th></th>\n      <th></th>\n      <th></th>\n      <th></th>\n      <th></th>\n      <th></th>\n      <th></th>\n      <th></th>\n      <th></th>\n      <th></th>\n      <th></th>\n      <th></th>\n    </tr>\n  </thead>\n  <tbody>\n    <tr>\n      <th>8850</th>\n      <td>NaN</td>\n      <td>0</td>\n      <td>175</td>\n      <td>59.0</td>\n      <td>120</td>\n      <td>80</td>\n      <td>1</td>\n      <td>1</td>\n      <td>0</td>\n      <td>0</td>\n      <td>1</td>\n      <td>0</td>\n    </tr>\n    <tr>\n      <th>31922</th>\n      <td>NaN</td>\n      <td>1</td>\n      <td>175</td>\n      <td>92.0</td>\n      <td>100</td>\n      <td>60</td>\n      <td>1</td>\n      <td>1</td>\n      <td>0</td>\n      <td>0</td>\n      <td>1</td>\n      <td>0</td>\n    </tr>\n    <tr>\n      <th>43842</th>\n      <td>NaN</td>\n      <td>0</td>\n      <td>159</td>\n      <td>59.0</td>\n      <td>120</td>\n      <td>80</td>\n      <td>1</td>\n      <td>1</td>\n      <td>0</td>\n      <td>0</td>\n      <td>1</td>\n      <td>0</td>\n    </tr>\n    <tr>\n      <th>79749</th>\n      <td>NaN</td>\n      <td>0</td>\n      <td>160</td>\n      <td>59.0</td>\n      <td>110</td>\n      <td>70</td>\n      <td>1</td>\n      <td>1</td>\n      <td>0</td>\n      <td>0</td>\n      <td>1</td>\n      <td>0</td>\n    </tr>\n  </tbody>\n</table>\n</div>"
     },
     "metadata": {},
     "execution_count": 105
    }
   ],
   "source": [
    "df_clean.loc[df_clean.index.isin(age_outlier_ids)].head()"
   ]
  },
  {
   "cell_type": "markdown",
   "metadata": {},
   "source": [
    "We've imputed observations with an `age` of more than `three standard deviations` from the mean with the median value. (~4 observations in total)  These may well have been valid observations but we wanted our model to extend well to other new and unseen data sets."
   ]
  },
  {
   "cell_type": "markdown",
   "metadata": {},
   "source": []
  },
  {
   "cell_type": "markdown",
   "metadata": {},
   "source": [
    "#### Height"
   ]
  },
  {
   "cell_type": "code",
   "execution_count": 106,
   "metadata": {},
   "outputs": [],
   "source": [
    "median_height = df_clean['height'].median()"
   ]
  },
  {
   "cell_type": "code",
   "execution_count": 107,
   "metadata": {},
   "outputs": [],
   "source": [
    "height_outlier_ids = df_clean.index[(np.abs(df_clean['height'] - df_clean['height'].mean()) > (3 * df_clean['height'].std()))]\n"
   ]
  },
  {
   "cell_type": "code",
   "execution_count": 108,
   "metadata": {},
   "outputs": [],
   "source": [
    "df_clean.loc[df_clean.index.isin(height_outlier_ids), \"height\"] = np.nan"
   ]
  },
  {
   "cell_type": "code",
   "execution_count": 109,
   "metadata": {},
   "outputs": [
    {
     "output_type": "execute_result",
     "data": {
      "text/plain": "       age  gender  height  weight  ap_hi  ap_lo  cholesterol  gluc  smoke  \\\nid                                                                           \n309   60.0       1     NaN    55.0    120     80            1     1      0   \n1432  42.0       1     NaN   111.0    148     86            1     1      0   \n1554  61.0       1     NaN    68.0    120     80            1     1      0   \n3049  44.0       1     NaN    74.0    140     90            1     1      1   \n3399  62.0       1     NaN    52.0    140    100            1     1      0   \n\n      alco  active  cardio  \nid                          \n309      0       1       0  \n1432     0       1       1  \n1554     0       1       1  \n3049     1       1       1  \n3399     0       1       1  ",
      "text/html": "<div>\n<style scoped>\n    .dataframe tbody tr th:only-of-type {\n        vertical-align: middle;\n    }\n\n    .dataframe tbody tr th {\n        vertical-align: top;\n    }\n\n    .dataframe thead th {\n        text-align: right;\n    }\n</style>\n<table border=\"1\" class=\"dataframe\">\n  <thead>\n    <tr style=\"text-align: right;\">\n      <th></th>\n      <th>age</th>\n      <th>gender</th>\n      <th>height</th>\n      <th>weight</th>\n      <th>ap_hi</th>\n      <th>ap_lo</th>\n      <th>cholesterol</th>\n      <th>gluc</th>\n      <th>smoke</th>\n      <th>alco</th>\n      <th>active</th>\n      <th>cardio</th>\n    </tr>\n    <tr>\n      <th>id</th>\n      <th></th>\n      <th></th>\n      <th></th>\n      <th></th>\n      <th></th>\n      <th></th>\n      <th></th>\n      <th></th>\n      <th></th>\n      <th></th>\n      <th></th>\n      <th></th>\n    </tr>\n  </thead>\n  <tbody>\n    <tr>\n      <th>309</th>\n      <td>60.0</td>\n      <td>1</td>\n      <td>NaN</td>\n      <td>55.0</td>\n      <td>120</td>\n      <td>80</td>\n      <td>1</td>\n      <td>1</td>\n      <td>0</td>\n      <td>0</td>\n      <td>1</td>\n      <td>0</td>\n    </tr>\n    <tr>\n      <th>1432</th>\n      <td>42.0</td>\n      <td>1</td>\n      <td>NaN</td>\n      <td>111.0</td>\n      <td>148</td>\n      <td>86</td>\n      <td>1</td>\n      <td>1</td>\n      <td>0</td>\n      <td>0</td>\n      <td>1</td>\n      <td>1</td>\n    </tr>\n    <tr>\n      <th>1554</th>\n      <td>61.0</td>\n      <td>1</td>\n      <td>NaN</td>\n      <td>68.0</td>\n      <td>120</td>\n      <td>80</td>\n      <td>1</td>\n      <td>1</td>\n      <td>0</td>\n      <td>0</td>\n      <td>1</td>\n      <td>1</td>\n    </tr>\n    <tr>\n      <th>3049</th>\n      <td>44.0</td>\n      <td>1</td>\n      <td>NaN</td>\n      <td>74.0</td>\n      <td>140</td>\n      <td>90</td>\n      <td>1</td>\n      <td>1</td>\n      <td>1</td>\n      <td>1</td>\n      <td>1</td>\n      <td>1</td>\n    </tr>\n    <tr>\n      <th>3399</th>\n      <td>62.0</td>\n      <td>1</td>\n      <td>NaN</td>\n      <td>52.0</td>\n      <td>140</td>\n      <td>100</td>\n      <td>1</td>\n      <td>1</td>\n      <td>0</td>\n      <td>0</td>\n      <td>1</td>\n      <td>1</td>\n    </tr>\n  </tbody>\n</table>\n</div>"
     },
     "metadata": {},
     "execution_count": 109
    }
   ],
   "source": [
    "df_clean.loc[df_clean.index.isin(height_outlier_ids)].head()"
   ]
  },
  {
   "cell_type": "markdown",
   "metadata": {},
   "source": [
    "We've imputed observations with a `height` more than three standard deviations from the mean with the median value. (~287 observations in total)"
   ]
  },
  {
   "cell_type": "markdown",
   "metadata": {},
   "source": [
    "#### Weight"
   ]
  },
  {
   "cell_type": "code",
   "execution_count": 110,
   "metadata": {},
   "outputs": [],
   "source": [
    "median_weight = df_clean['weight'].median()"
   ]
  },
  {
   "cell_type": "code",
   "execution_count": 111,
   "metadata": {},
   "outputs": [],
   "source": [
    "weight_outlier_ids = df_clean.index[(np.abs(df_clean['weight'] - df_clean['weight'].mean()) > (3 * df_clean['weight'].std()))]\n"
   ]
  },
  {
   "cell_type": "code",
   "execution_count": 112,
   "metadata": {},
   "outputs": [],
   "source": [
    "df_clean.loc[df_clean.index.isin(weight_outlier_ids), \"weight\"] = np.nan\n"
   ]
  },
  {
   "cell_type": "code",
   "execution_count": 113,
   "metadata": {},
   "outputs": [
    {
     "output_type": "execute_result",
     "data": {
      "text/plain": "      age  gender  height  weight  ap_hi  ap_lo  cholesterol  gluc  smoke  \\\nid                                                                          \n474  58.0       0   157.0     NaN    120     80            1     1      0   \n552  46.0       1   165.0     NaN    120     80            1     1      0   \n618  46.0       0   186.0     NaN    130     70            1     1      0   \n634  58.0       1   178.0     NaN    160     90            1     3      0   \n846  40.0       0   164.0     NaN    130     90            1     1      0   \n\n     alco  active  cardio  \nid                         \n474     0       1       1  \n552     0       1       0  \n618     0       0       0  \n634     0       1       1  \n846     0       0       0  ",
      "text/html": "<div>\n<style scoped>\n    .dataframe tbody tr th:only-of-type {\n        vertical-align: middle;\n    }\n\n    .dataframe tbody tr th {\n        vertical-align: top;\n    }\n\n    .dataframe thead th {\n        text-align: right;\n    }\n</style>\n<table border=\"1\" class=\"dataframe\">\n  <thead>\n    <tr style=\"text-align: right;\">\n      <th></th>\n      <th>age</th>\n      <th>gender</th>\n      <th>height</th>\n      <th>weight</th>\n      <th>ap_hi</th>\n      <th>ap_lo</th>\n      <th>cholesterol</th>\n      <th>gluc</th>\n      <th>smoke</th>\n      <th>alco</th>\n      <th>active</th>\n      <th>cardio</th>\n    </tr>\n    <tr>\n      <th>id</th>\n      <th></th>\n      <th></th>\n      <th></th>\n      <th></th>\n      <th></th>\n      <th></th>\n      <th></th>\n      <th></th>\n      <th></th>\n      <th></th>\n      <th></th>\n      <th></th>\n    </tr>\n  </thead>\n  <tbody>\n    <tr>\n      <th>474</th>\n      <td>58.0</td>\n      <td>0</td>\n      <td>157.0</td>\n      <td>NaN</td>\n      <td>120</td>\n      <td>80</td>\n      <td>1</td>\n      <td>1</td>\n      <td>0</td>\n      <td>0</td>\n      <td>1</td>\n      <td>1</td>\n    </tr>\n    <tr>\n      <th>552</th>\n      <td>46.0</td>\n      <td>1</td>\n      <td>165.0</td>\n      <td>NaN</td>\n      <td>120</td>\n      <td>80</td>\n      <td>1</td>\n      <td>1</td>\n      <td>0</td>\n      <td>0</td>\n      <td>1</td>\n      <td>0</td>\n    </tr>\n    <tr>\n      <th>618</th>\n      <td>46.0</td>\n      <td>0</td>\n      <td>186.0</td>\n      <td>NaN</td>\n      <td>130</td>\n      <td>70</td>\n      <td>1</td>\n      <td>1</td>\n      <td>0</td>\n      <td>0</td>\n      <td>0</td>\n      <td>0</td>\n    </tr>\n    <tr>\n      <th>634</th>\n      <td>58.0</td>\n      <td>1</td>\n      <td>178.0</td>\n      <td>NaN</td>\n      <td>160</td>\n      <td>90</td>\n      <td>1</td>\n      <td>3</td>\n      <td>0</td>\n      <td>0</td>\n      <td>1</td>\n      <td>1</td>\n    </tr>\n    <tr>\n      <th>846</th>\n      <td>40.0</td>\n      <td>0</td>\n      <td>164.0</td>\n      <td>NaN</td>\n      <td>130</td>\n      <td>90</td>\n      <td>1</td>\n      <td>1</td>\n      <td>0</td>\n      <td>0</td>\n      <td>0</td>\n      <td>0</td>\n    </tr>\n  </tbody>\n</table>\n</div>"
     },
     "metadata": {},
     "execution_count": 113
    }
   ],
   "source": [
    "df_clean.loc[df_clean.index.isin(weight_outlier_ids)].head()"
   ]
  },
  {
   "cell_type": "markdown",
   "metadata": {},
   "source": [
    "The same method was applied to the 702 `weight` outliers."
   ]
  },
  {
   "cell_type": "markdown",
   "metadata": {},
   "source": [
    "#### Systolic blood pressure (ap_hi)"
   ]
  },
  {
   "cell_type": "code",
   "execution_count": 114,
   "metadata": {},
   "outputs": [],
   "source": [
    "median_ap_hi = df_clean['ap_hi'].median()"
   ]
  },
  {
   "cell_type": "code",
   "execution_count": 115,
   "metadata": {},
   "outputs": [],
   "source": [
    "ap_hi_outlier_ids = df_clean.index[(np.abs(df_clean['ap_hi'] - df_clean['ap_hi'].mean()) > (3 * df_clean['ap_hi'].std()))]\n"
   ]
  },
  {
   "cell_type": "code",
   "execution_count": 116,
   "metadata": {},
   "outputs": [],
   "source": [
    "df_clean.loc[df_clean.index.isin(ap_hi_outlier_ids), \"ap_hi\"] = np.nan"
   ]
  },
  {
   "cell_type": "code",
   "execution_count": 117,
   "metadata": {},
   "outputs": [
    {
     "output_type": "execute_result",
     "data": {
      "text/plain": "        age  gender  height  weight  ap_hi  ap_lo  cholesterol  gluc  smoke  \\\nid                                                                            \n2654   41.0       0   160.0    60.0    NaN     60            1     1      0   \n2845   62.0       1   167.0    59.0    NaN      0            1     1      0   \n6822   40.0       0   168.0    63.0    NaN     60            2     1      0   \n11089  58.0       0   175.0    80.0    NaN     90            1     1      0   \n12710  52.0       0   164.0    75.0    NaN     80            2     1      0   \n\n       alco  active  cardio  \nid                           \n2654      0       1       0  \n2845      0       1       0  \n6822      0       1       0  \n11089     0       1       1  \n12710     0       1       1  ",
      "text/html": "<div>\n<style scoped>\n    .dataframe tbody tr th:only-of-type {\n        vertical-align: middle;\n    }\n\n    .dataframe tbody tr th {\n        vertical-align: top;\n    }\n\n    .dataframe thead th {\n        text-align: right;\n    }\n</style>\n<table border=\"1\" class=\"dataframe\">\n  <thead>\n    <tr style=\"text-align: right;\">\n      <th></th>\n      <th>age</th>\n      <th>gender</th>\n      <th>height</th>\n      <th>weight</th>\n      <th>ap_hi</th>\n      <th>ap_lo</th>\n      <th>cholesterol</th>\n      <th>gluc</th>\n      <th>smoke</th>\n      <th>alco</th>\n      <th>active</th>\n      <th>cardio</th>\n    </tr>\n    <tr>\n      <th>id</th>\n      <th></th>\n      <th></th>\n      <th></th>\n      <th></th>\n      <th></th>\n      <th></th>\n      <th></th>\n      <th></th>\n      <th></th>\n      <th></th>\n      <th></th>\n      <th></th>\n    </tr>\n  </thead>\n  <tbody>\n    <tr>\n      <th>2654</th>\n      <td>41.0</td>\n      <td>0</td>\n      <td>160.0</td>\n      <td>60.0</td>\n      <td>NaN</td>\n      <td>60</td>\n      <td>1</td>\n      <td>1</td>\n      <td>0</td>\n      <td>0</td>\n      <td>1</td>\n      <td>0</td>\n    </tr>\n    <tr>\n      <th>2845</th>\n      <td>62.0</td>\n      <td>1</td>\n      <td>167.0</td>\n      <td>59.0</td>\n      <td>NaN</td>\n      <td>0</td>\n      <td>1</td>\n      <td>1</td>\n      <td>0</td>\n      <td>0</td>\n      <td>1</td>\n      <td>0</td>\n    </tr>\n    <tr>\n      <th>6822</th>\n      <td>40.0</td>\n      <td>0</td>\n      <td>168.0</td>\n      <td>63.0</td>\n      <td>NaN</td>\n      <td>60</td>\n      <td>2</td>\n      <td>1</td>\n      <td>0</td>\n      <td>0</td>\n      <td>1</td>\n      <td>0</td>\n    </tr>\n    <tr>\n      <th>11089</th>\n      <td>58.0</td>\n      <td>0</td>\n      <td>175.0</td>\n      <td>80.0</td>\n      <td>NaN</td>\n      <td>90</td>\n      <td>1</td>\n      <td>1</td>\n      <td>0</td>\n      <td>0</td>\n      <td>1</td>\n      <td>1</td>\n    </tr>\n    <tr>\n      <th>12710</th>\n      <td>52.0</td>\n      <td>0</td>\n      <td>164.0</td>\n      <td>75.0</td>\n      <td>NaN</td>\n      <td>80</td>\n      <td>2</td>\n      <td>1</td>\n      <td>0</td>\n      <td>0</td>\n      <td>1</td>\n      <td>1</td>\n    </tr>\n  </tbody>\n</table>\n</div>"
     },
     "metadata": {},
     "execution_count": 117
    }
   ],
   "source": [
    "df_clean.loc[df_clean.index.isin(ap_hi_outlier_ids)].head()"
   ]
  },
  {
   "cell_type": "code",
   "execution_count": 118,
   "metadata": {},
   "outputs": [],
   "source": [
    "ap_hi_outlier_ids2 = df_clean.index[(df_clean['ap_hi'] < 40) | (df_clean['ap_hi'] > 300)]\n"
   ]
  },
  {
   "cell_type": "code",
   "execution_count": 119,
   "metadata": {},
   "outputs": [],
   "source": [
    "df_clean.loc[df_clean.index.isin(ap_hi_outlier_ids2), \"ap_hi\"] = np.nan"
   ]
  },
  {
   "cell_type": "markdown",
   "metadata": {},
   "source": [
    "Even after handling the `ap_hi` outliers through the standard deviation method, there were still some unusual entries that were manually addressed.  (readings less that 40 or greater than 300)"
   ]
  },
  {
   "cell_type": "markdown",
   "metadata": {},
   "source": [
    "#### Diastolic blood pressure (ap_lo)"
   ]
  },
  {
   "cell_type": "code",
   "execution_count": 120,
   "metadata": {},
   "outputs": [],
   "source": [
    "median_ap_lo = df_clean['ap_lo'].median()"
   ]
  },
  {
   "cell_type": "code",
   "execution_count": 121,
   "metadata": {},
   "outputs": [],
   "source": [
    "ap_lo_outlier_ids = df_clean.index[(np.abs(df_clean['ap_lo'] - df_clean['ap_lo'].mean()) > (3 * df_clean['ap_lo'].std()))]"
   ]
  },
  {
   "cell_type": "code",
   "execution_count": 122,
   "metadata": {},
   "outputs": [],
   "source": [
    "df_clean.loc[df_clean.index.isin(ap_lo_outlier_ids), \"ap_lo\"] = np.nan"
   ]
  },
  {
   "cell_type": "code",
   "execution_count": 123,
   "metadata": {},
   "outputs": [
    {
     "output_type": "execute_result",
     "data": {
      "text/plain": "      age  gender  height  weight  ap_hi  ap_lo  cholesterol  gluc  smoke  \\\nid                                                                          \n314  48.0       1   183.0    98.0  160.0    NaN            1     2      1   \n334  60.0       1   157.0    60.0  160.0    NaN            2     1      0   \n357  50.0       0   150.0    83.0  140.0    NaN            1     1      0   \n458  64.0       0   176.0    63.0  160.0    NaN            2     2      0   \n482  51.0       0   154.0    81.0  140.0    NaN            2     1      0   \n\n     alco  active  cardio  \nid                         \n314     0       1       1  \n334     0       0       1  \n357     0       1       1  \n458     0       0       1  \n482     0       1       1  ",
      "text/html": "<div>\n<style scoped>\n    .dataframe tbody tr th:only-of-type {\n        vertical-align: middle;\n    }\n\n    .dataframe tbody tr th {\n        vertical-align: top;\n    }\n\n    .dataframe thead th {\n        text-align: right;\n    }\n</style>\n<table border=\"1\" class=\"dataframe\">\n  <thead>\n    <tr style=\"text-align: right;\">\n      <th></th>\n      <th>age</th>\n      <th>gender</th>\n      <th>height</th>\n      <th>weight</th>\n      <th>ap_hi</th>\n      <th>ap_lo</th>\n      <th>cholesterol</th>\n      <th>gluc</th>\n      <th>smoke</th>\n      <th>alco</th>\n      <th>active</th>\n      <th>cardio</th>\n    </tr>\n    <tr>\n      <th>id</th>\n      <th></th>\n      <th></th>\n      <th></th>\n      <th></th>\n      <th></th>\n      <th></th>\n      <th></th>\n      <th></th>\n      <th></th>\n      <th></th>\n      <th></th>\n      <th></th>\n    </tr>\n  </thead>\n  <tbody>\n    <tr>\n      <th>314</th>\n      <td>48.0</td>\n      <td>1</td>\n      <td>183.0</td>\n      <td>98.0</td>\n      <td>160.0</td>\n      <td>NaN</td>\n      <td>1</td>\n      <td>2</td>\n      <td>1</td>\n      <td>0</td>\n      <td>1</td>\n      <td>1</td>\n    </tr>\n    <tr>\n      <th>334</th>\n      <td>60.0</td>\n      <td>1</td>\n      <td>157.0</td>\n      <td>60.0</td>\n      <td>160.0</td>\n      <td>NaN</td>\n      <td>2</td>\n      <td>1</td>\n      <td>0</td>\n      <td>0</td>\n      <td>0</td>\n      <td>1</td>\n    </tr>\n    <tr>\n      <th>357</th>\n      <td>50.0</td>\n      <td>0</td>\n      <td>150.0</td>\n      <td>83.0</td>\n      <td>140.0</td>\n      <td>NaN</td>\n      <td>1</td>\n      <td>1</td>\n      <td>0</td>\n      <td>0</td>\n      <td>1</td>\n      <td>1</td>\n    </tr>\n    <tr>\n      <th>458</th>\n      <td>64.0</td>\n      <td>0</td>\n      <td>176.0</td>\n      <td>63.0</td>\n      <td>160.0</td>\n      <td>NaN</td>\n      <td>2</td>\n      <td>2</td>\n      <td>0</td>\n      <td>0</td>\n      <td>0</td>\n      <td>1</td>\n    </tr>\n    <tr>\n      <th>482</th>\n      <td>51.0</td>\n      <td>0</td>\n      <td>154.0</td>\n      <td>81.0</td>\n      <td>140.0</td>\n      <td>NaN</td>\n      <td>2</td>\n      <td>1</td>\n      <td>0</td>\n      <td>0</td>\n      <td>1</td>\n      <td>1</td>\n    </tr>\n  </tbody>\n</table>\n</div>"
     },
     "metadata": {},
     "execution_count": 123
    }
   ],
   "source": [
    "df_clean.loc[df_clean.index.isin(ap_lo_outlier_ids)].head()"
   ]
  },
  {
   "cell_type": "code",
   "execution_count": 124,
   "metadata": {},
   "outputs": [],
   "source": [
    "ap_lo_outlier_ids2 = df_clean.index[(df_clean['ap_lo'] < 40) | (df_clean['ap_lo'] > 300)]"
   ]
  },
  {
   "cell_type": "code",
   "execution_count": 125,
   "metadata": {},
   "outputs": [],
   "source": [
    "df_clean.loc[df_clean.index.isin(ap_lo_outlier_ids2), \"ap_lo\"] = np.nan"
   ]
  },
  {
   "cell_type": "markdown",
   "metadata": {},
   "source": [
    "The `ap_lo` feature needed similar processing."
   ]
  },
  {
   "cell_type": "markdown",
   "metadata": {},
   "source": [
    "### Transformations"
   ]
  },
  {
   "cell_type": "code",
   "execution_count": 126,
   "metadata": {},
   "outputs": [],
   "source": [
    "df_clean['bmi'] = df_clean['weight'] / (df_clean['height']/100)**2"
   ]
  },
  {
   "cell_type": "code",
   "execution_count": 127,
   "metadata": {},
   "outputs": [],
   "source": [
    "df_clean['bmiGrp'] = np.where((df_clean.bmi < 18.5), 1, 0)\n",
    "df_clean['bmiGrp'] = np.where((df_clean.bmi >= 18.5) & (df_clean.bmi < 25), 2, df_clean.bmiGrp)\n",
    "df_clean['bmiGrp'] = np.where((df_clean.bmi >= 25) & (df_clean.bmi < 30), 3, df_clean.bmiGrp)\n",
    "df_clean['bmiGrp'] = np.where((df_clean.bmi >= 30), 4, df_clean.bmiGrp)"
   ]
  },
  {
   "cell_type": "code",
   "execution_count": 128,
   "metadata": {},
   "outputs": [],
   "source": [
    "df_clean['bp'] = np.where((df_clean.ap_hi < 120) & (df_clean.ap_lo < 80), 1, 0)\n",
    "df_clean['bp'] = np.where((df_clean.ap_hi >= 120) & (df_clean.ap_hi < 130) & (df_clean.ap_lo < 80), 2, df_clean.bp)\n",
    "df_clean['bp'] = np.where((df_clean.ap_hi >= 130) & (df_clean.ap_hi < 140) | ((df_clean.ap_lo >= 80) & (df_clean.ap_lo < 90)), 3, df_clean.bp)\n",
    "df_clean['bp'] = np.where((df_clean.ap_hi >= 140) | (df_clean.ap_lo >= 90), 4, df_clean.bp)\n",
    "df_clean['bp'] = np.where((df_clean.ap_hi > 180) | (df_clean.ap_lo > 120), 5, df_clean.bp)"
   ]
  },
  {
   "cell_type": "code",
   "execution_count": 129,
   "metadata": {},
   "outputs": [
    {
     "output_type": "execute_result",
     "data": {
      "text/plain": "                age        gender        height        weight         ap_hi  \\\ncount  69972.000000  69976.000000  69683.000000  69274.000000  69748.000000   \nmean      53.340279      0.349648    164.409411     73.660568    127.004373   \nstd        6.763525      0.476862      7.724155     13.259621     17.098915   \nmin       39.000000      0.000000    140.000000     32.000000     60.000000   \n25%       48.000000      0.000000    159.000000     65.000000    120.000000   \n50%       54.000000      0.000000    165.000000     72.000000    120.000000   \n75%       58.000000      1.000000    170.000000     82.000000    140.000000   \nmax       65.000000      1.000000    188.000000    117.000000    240.000000   \n\n              ap_lo   cholesterol          gluc         smoke          alco  \\\ncount  68964.000000  69976.000000  69976.000000  69976.000000  69976.000000   \nmean      81.385157      1.366997      1.226535      0.088159      0.053790   \nstd        9.693621      0.680333      0.572353      0.283528      0.225604   \nmin       40.000000      1.000000      1.000000      0.000000      0.000000   \n25%       80.000000      1.000000      1.000000      0.000000      0.000000   \n50%       80.000000      1.000000      1.000000      0.000000      0.000000   \n75%       90.000000      2.000000      1.000000      0.000000      0.000000   \nmax      190.000000      3.000000      3.000000      1.000000      1.000000   \n\n             active        cardio           bmi        bmiGrp           bp  \ncount  69976.000000  69976.000000  69004.000000  69976.000000  69976.00000  \nmean       0.803718      0.499771     27.295220      2.825526      3.03454  \nstd        0.397187      0.500004      4.870912      0.865923      0.98658  \nmin        0.000000      0.000000     12.254473      0.000000      0.00000  \n25%        1.000000      0.000000     23.875115      2.000000      3.00000  \n50%        1.000000      0.000000     26.297578      3.000000      3.00000  \n75%        1.000000      1.000000     30.091432      4.000000      4.00000  \nmax        1.000000      1.000000     58.024202      4.000000      5.00000  ",
      "text/html": "<div>\n<style scoped>\n    .dataframe tbody tr th:only-of-type {\n        vertical-align: middle;\n    }\n\n    .dataframe tbody tr th {\n        vertical-align: top;\n    }\n\n    .dataframe thead th {\n        text-align: right;\n    }\n</style>\n<table border=\"1\" class=\"dataframe\">\n  <thead>\n    <tr style=\"text-align: right;\">\n      <th></th>\n      <th>age</th>\n      <th>gender</th>\n      <th>height</th>\n      <th>weight</th>\n      <th>ap_hi</th>\n      <th>ap_lo</th>\n      <th>cholesterol</th>\n      <th>gluc</th>\n      <th>smoke</th>\n      <th>alco</th>\n      <th>active</th>\n      <th>cardio</th>\n      <th>bmi</th>\n      <th>bmiGrp</th>\n      <th>bp</th>\n    </tr>\n  </thead>\n  <tbody>\n    <tr>\n      <th>count</th>\n      <td>69972.000000</td>\n      <td>69976.000000</td>\n      <td>69683.000000</td>\n      <td>69274.000000</td>\n      <td>69748.000000</td>\n      <td>68964.000000</td>\n      <td>69976.000000</td>\n      <td>69976.000000</td>\n      <td>69976.000000</td>\n      <td>69976.000000</td>\n      <td>69976.000000</td>\n      <td>69976.000000</td>\n      <td>69004.000000</td>\n      <td>69976.000000</td>\n      <td>69976.00000</td>\n    </tr>\n    <tr>\n      <th>mean</th>\n      <td>53.340279</td>\n      <td>0.349648</td>\n      <td>164.409411</td>\n      <td>73.660568</td>\n      <td>127.004373</td>\n      <td>81.385157</td>\n      <td>1.366997</td>\n      <td>1.226535</td>\n      <td>0.088159</td>\n      <td>0.053790</td>\n      <td>0.803718</td>\n      <td>0.499771</td>\n      <td>27.295220</td>\n      <td>2.825526</td>\n      <td>3.03454</td>\n    </tr>\n    <tr>\n      <th>std</th>\n      <td>6.763525</td>\n      <td>0.476862</td>\n      <td>7.724155</td>\n      <td>13.259621</td>\n      <td>17.098915</td>\n      <td>9.693621</td>\n      <td>0.680333</td>\n      <td>0.572353</td>\n      <td>0.283528</td>\n      <td>0.225604</td>\n      <td>0.397187</td>\n      <td>0.500004</td>\n      <td>4.870912</td>\n      <td>0.865923</td>\n      <td>0.98658</td>\n    </tr>\n    <tr>\n      <th>min</th>\n      <td>39.000000</td>\n      <td>0.000000</td>\n      <td>140.000000</td>\n      <td>32.000000</td>\n      <td>60.000000</td>\n      <td>40.000000</td>\n      <td>1.000000</td>\n      <td>1.000000</td>\n      <td>0.000000</td>\n      <td>0.000000</td>\n      <td>0.000000</td>\n      <td>0.000000</td>\n      <td>12.254473</td>\n      <td>0.000000</td>\n      <td>0.00000</td>\n    </tr>\n    <tr>\n      <th>25%</th>\n      <td>48.000000</td>\n      <td>0.000000</td>\n      <td>159.000000</td>\n      <td>65.000000</td>\n      <td>120.000000</td>\n      <td>80.000000</td>\n      <td>1.000000</td>\n      <td>1.000000</td>\n      <td>0.000000</td>\n      <td>0.000000</td>\n      <td>1.000000</td>\n      <td>0.000000</td>\n      <td>23.875115</td>\n      <td>2.000000</td>\n      <td>3.00000</td>\n    </tr>\n    <tr>\n      <th>50%</th>\n      <td>54.000000</td>\n      <td>0.000000</td>\n      <td>165.000000</td>\n      <td>72.000000</td>\n      <td>120.000000</td>\n      <td>80.000000</td>\n      <td>1.000000</td>\n      <td>1.000000</td>\n      <td>0.000000</td>\n      <td>0.000000</td>\n      <td>1.000000</td>\n      <td>0.000000</td>\n      <td>26.297578</td>\n      <td>3.000000</td>\n      <td>3.00000</td>\n    </tr>\n    <tr>\n      <th>75%</th>\n      <td>58.000000</td>\n      <td>1.000000</td>\n      <td>170.000000</td>\n      <td>82.000000</td>\n      <td>140.000000</td>\n      <td>90.000000</td>\n      <td>2.000000</td>\n      <td>1.000000</td>\n      <td>0.000000</td>\n      <td>0.000000</td>\n      <td>1.000000</td>\n      <td>1.000000</td>\n      <td>30.091432</td>\n      <td>4.000000</td>\n      <td>4.00000</td>\n    </tr>\n    <tr>\n      <th>max</th>\n      <td>65.000000</td>\n      <td>1.000000</td>\n      <td>188.000000</td>\n      <td>117.000000</td>\n      <td>240.000000</td>\n      <td>190.000000</td>\n      <td>3.000000</td>\n      <td>3.000000</td>\n      <td>1.000000</td>\n      <td>1.000000</td>\n      <td>1.000000</td>\n      <td>1.000000</td>\n      <td>58.024202</td>\n      <td>4.000000</td>\n      <td>5.00000</td>\n    </tr>\n  </tbody>\n</table>\n</div>"
     },
     "metadata": {},
     "execution_count": 129
    }
   ],
   "source": [
    "df_clean.describe()"
   ]
  },
  {
   "cell_type": "markdown",
   "metadata": {},
   "source": [
    "# Create Models (50 points)\n",
    "\n",
    "Create a logistic regression model and a support vector machine model for the classification task involved with your dataset. Assess how well each model performs (use 80/20 training/testing split for your data). Adjust parameters of the models to make them more accurate. If your dataset size requires the use of stochastic gradient descent, then linear kernel only is fine to use. That is, the SGDClassifier is fine to use for optimizing logistic regression and linear support vector machines. For many problems, SGD will be required in order to train the SVM model in a reasonable timeframe. \n",
    "\n"
   ]
  },
  {
   "cell_type": "markdown",
   "metadata": {},
   "source": [
    "# Model Advantages (10)\n",
    "\n",
    "Does one type of model offer superior performance over another in terms of prediction accuracy? In terms of training time or efficiency? Explain in detail.\n"
   ]
  },
  {
   "cell_type": "markdown",
   "metadata": {},
   "source": [
    "# Interpret Feature Importance (30)\n",
    "\n",
    "Use the weights from logistic regression to interpret the importance of different features for the classification task. Explain your interpretation in detail. Why do you think some variables are more important?"
   ]
  },
  {
   "cell_type": "markdown",
   "metadata": {},
   "source": [
    "# Interpret Support Vectors (10)\n",
    "\n",
    "Look at the chosen support vectors for the classification task. Do these provide any insight into the data? Explain. If you used stochastic gradient descent (and therefore did not explicitly solve for support vectors), try subsampling your data to train the SVC model— then analyze the support vectors from the subsampled dataset."
   ]
  },
  {
   "cell_type": "markdown",
   "metadata": {},
   "source": [
    "Store feature matrix "
   ]
  },
  {
   "cell_type": "code",
   "execution_count": 130,
   "metadata": {},
   "outputs": [],
   "source": [
    "if MODEL_TYPE == \"Full\":\n",
    "    # Full Model\n",
    "    X_cols = ['age', 'gender', 'height', 'weight', 'ap_hi', 'ap_lo', 'cholesterol', 'gluc', 'smoke', 'alco', 'active']\n",
    "else:\n",
    "    # New Feature Model\n",
    "    X_cols = ['age', 'gender', 'cholesterol', 'gluc', 'smoke', 'alco', 'active', 'bmiGrp', 'bp']\n",
    "\n",
    "X = df_clean[X_cols] #.to_numpy()\n"
   ]
  },
  {
   "cell_type": "markdown",
   "metadata": {},
   "source": [
    "Store response vector"
   ]
  },
  {
   "cell_type": "code",
   "execution_count": 131,
   "metadata": {},
   "outputs": [],
   "source": [
    "y = df_clean['cardio'] #.to_numpy()\n"
   ]
  },
  {
   "cell_type": "markdown",
   "metadata": {},
   "source": [
    "## Logistic Regression\n",
    "\n",
    "Full Model consisting of all features with standardized values.\n"
   ]
  },
  {
   "cell_type": "code",
   "execution_count": 132,
   "metadata": {},
   "outputs": [],
   "source": [
    "from sklearn import metrics\n",
    "from sklearn.model_selection import train_test_split\n",
    "from sklearn.linear_model import LogisticRegression\n",
    "from sklearn.preprocessing import StandardScaler\n",
    "from sklearn.impute import SimpleImputer\n",
    "\n"
   ]
  },
  {
   "cell_type": "code",
   "execution_count": 133,
   "metadata": {},
   "outputs": [
    {
     "output_type": "execute_result",
     "data": {
      "text/plain": "LogisticRegression(C=1.0, class_weight=None, dual=False, fit_intercept=True,\n                   intercept_scaling=1, l1_ratio=None, max_iter=100,\n                   multi_class='auto', n_jobs=-1, penalty='l2',\n                   random_state=None, solver='lbfgs', tol=0.0001, verbose=0,\n                   warm_start=False)"
     },
     "metadata": {},
     "execution_count": 133
    }
   ],
   "source": [
    "X_train, X_test, y_train, y_test = train_test_split(X, y, stratify=y, test_size=0.2, random_state=1)\n",
    "\n",
    "sc = StandardScaler()\n",
    "X_train_std = sc.fit_transform(X_train)\n",
    "X_test_std = sc.transform(X_test)\n",
    "\n",
    "si = SimpleImputer(strategy=\"median\")\n",
    "\n",
    "X_train_std = si.fit_transform(X_train_std)\n",
    "X_test_std = si.transform(X_test_std)\n",
    "\n",
    "logreg = LogisticRegression(n_jobs=-1)\n",
    "logreg.fit(X_train_std, y_train)\n"
   ]
  },
  {
   "cell_type": "code",
   "execution_count": 134,
   "metadata": {},
   "outputs": [
    {
     "output_type": "stream",
     "name": "stdout",
     "text": "age has weight of 0.3626040076274842\ngender has weight of 0.012238421230904583\ncholesterol has weight of 0.37130139078093605\ngluc has weight of -0.047670870798900866\nsmoke has weight of -0.029967101824084966\nalco has weight of -0.042743903889620766\nactive has weight of -0.07940342948592896\nbmiGrp has weight of 0.14847149949336727\nbp has weight of 0.7944330305274281\n"
    }
   ],
   "source": [
    "# sort these attributes and spit them out\n",
    "zip_vars = zip(logreg.coef_.T, X.columns) # combine attributes\n",
    "zip_vars = zip_vars # sorted(zip_vars)\n",
    "for coef, name in zip_vars:\n",
    "    print(name, 'has weight of', coef[0]) # now print them out"
   ]
  },
  {
   "cell_type": "code",
   "execution_count": 135,
   "metadata": {},
   "outputs": [
    {
     "output_type": "display_data",
     "data": {
      "text/plain": "<Figure size 432x288 with 1 Axes>",
      "image/svg+xml": "<?xml version=\"1.0\" encoding=\"utf-8\" standalone=\"no\"?>\r\n<!DOCTYPE svg PUBLIC \"-//W3C//DTD SVG 1.1//EN\"\r\n  \"http://www.w3.org/Graphics/SVG/1.1/DTD/svg11.dtd\">\r\n<!-- Created with matplotlib (https://matplotlib.org/) -->\r\n<svg height=\"293.791562pt\" version=\"1.1\" viewBox=\"0 0 372.103125 293.791562\" width=\"372.103125pt\" xmlns=\"http://www.w3.org/2000/svg\" xmlns:xlink=\"http://www.w3.org/1999/xlink\">\r\n <defs>\r\n  <style type=\"text/css\">\r\n*{stroke-linecap:butt;stroke-linejoin:round;}\r\n  </style>\r\n </defs>\r\n <g id=\"figure_1\">\r\n  <g id=\"patch_1\">\r\n   <path d=\"M 0 293.791562 \r\nL 372.103125 293.791562 \r\nL 372.103125 0 \r\nL 0 0 \r\nz\r\n\" style=\"fill:#ffffff;\"/>\r\n  </g>\r\n  <g id=\"axes_1\">\r\n   <g id=\"patch_2\">\r\n    <path d=\"M 30.103125 224.64 \r\nL 364.903125 224.64 \r\nL 364.903125 7.2 \r\nL 30.103125 7.2 \r\nz\r\n\" style=\"fill:#e5e5e5;\"/>\r\n   </g>\r\n   <g id=\"matplotlib.axis_1\">\r\n    <g id=\"xtick_1\">\r\n     <g id=\"line2d_1\">\r\n      <path clip-path=\"url(#p66620aaa8f)\" d=\"M 48.703125 224.64 \r\nL 48.703125 7.2 \r\n\" style=\"fill:none;stroke:#ffffff;stroke-linecap:square;stroke-width:0.8;\"/>\r\n     </g>\r\n     <g id=\"line2d_2\">\r\n      <defs>\r\n       <path d=\"M 0 0 \r\nL 0 3.5 \r\n\" id=\"m4dbf8b6330\" style=\"stroke:#555555;stroke-width:0.8;\"/>\r\n      </defs>\r\n      <g>\r\n       <use style=\"fill:#555555;stroke:#555555;stroke-width:0.8;\" x=\"48.703125\" xlink:href=\"#m4dbf8b6330\" y=\"224.64\"/>\r\n      </g>\r\n     </g>\r\n     <g id=\"text_1\">\r\n      <!-- age -->\r\n      <defs>\r\n       <path d=\"M 34.28125 27.484375 \r\nQ 23.390625 27.484375 19.1875 25 \r\nQ 14.984375 22.515625 14.984375 16.5 \r\nQ 14.984375 11.71875 18.140625 8.90625 \r\nQ 21.296875 6.109375 26.703125 6.109375 \r\nQ 34.1875 6.109375 38.703125 11.40625 \r\nQ 43.21875 16.703125 43.21875 25.484375 \r\nL 43.21875 27.484375 \r\nz\r\nM 52.203125 31.203125 \r\nL 52.203125 0 \r\nL 43.21875 0 \r\nL 43.21875 8.296875 \r\nQ 40.140625 3.328125 35.546875 0.953125 \r\nQ 30.953125 -1.421875 24.3125 -1.421875 \r\nQ 15.921875 -1.421875 10.953125 3.296875 \r\nQ 6 8.015625 6 15.921875 \r\nQ 6 25.140625 12.171875 29.828125 \r\nQ 18.359375 34.515625 30.609375 34.515625 \r\nL 43.21875 34.515625 \r\nL 43.21875 35.40625 \r\nQ 43.21875 41.609375 39.140625 45 \r\nQ 35.0625 48.390625 27.6875 48.390625 \r\nQ 23 48.390625 18.546875 47.265625 \r\nQ 14.109375 46.140625 10.015625 43.890625 \r\nL 10.015625 52.203125 \r\nQ 14.9375 54.109375 19.578125 55.046875 \r\nQ 24.21875 56 28.609375 56 \r\nQ 40.484375 56 46.34375 49.84375 \r\nQ 52.203125 43.703125 52.203125 31.203125 \r\nz\r\n\" id=\"DejaVuSans-97\"/>\r\n       <path d=\"M 45.40625 27.984375 \r\nQ 45.40625 37.75 41.375 43.109375 \r\nQ 37.359375 48.484375 30.078125 48.484375 \r\nQ 22.859375 48.484375 18.828125 43.109375 \r\nQ 14.796875 37.75 14.796875 27.984375 \r\nQ 14.796875 18.265625 18.828125 12.890625 \r\nQ 22.859375 7.515625 30.078125 7.515625 \r\nQ 37.359375 7.515625 41.375 12.890625 \r\nQ 45.40625 18.265625 45.40625 27.984375 \r\nz\r\nM 54.390625 6.78125 \r\nQ 54.390625 -7.171875 48.1875 -13.984375 \r\nQ 42 -20.796875 29.203125 -20.796875 \r\nQ 24.46875 -20.796875 20.265625 -20.09375 \r\nQ 16.0625 -19.390625 12.109375 -17.921875 \r\nL 12.109375 -9.1875 \r\nQ 16.0625 -11.328125 19.921875 -12.34375 \r\nQ 23.78125 -13.375 27.78125 -13.375 \r\nQ 36.625 -13.375 41.015625 -8.765625 \r\nQ 45.40625 -4.15625 45.40625 5.171875 \r\nL 45.40625 9.625 \r\nQ 42.625 4.78125 38.28125 2.390625 \r\nQ 33.9375 0 27.875 0 \r\nQ 17.828125 0 11.671875 7.65625 \r\nQ 5.515625 15.328125 5.515625 27.984375 \r\nQ 5.515625 40.671875 11.671875 48.328125 \r\nQ 17.828125 56 27.875 56 \r\nQ 33.9375 56 38.28125 53.609375 \r\nQ 42.625 51.21875 45.40625 46.390625 \r\nL 45.40625 54.6875 \r\nL 54.390625 54.6875 \r\nz\r\n\" id=\"DejaVuSans-103\"/>\r\n       <path d=\"M 56.203125 29.59375 \r\nL 56.203125 25.203125 \r\nL 14.890625 25.203125 \r\nQ 15.484375 15.921875 20.484375 11.0625 \r\nQ 25.484375 6.203125 34.421875 6.203125 \r\nQ 39.59375 6.203125 44.453125 7.46875 \r\nQ 49.3125 8.734375 54.109375 11.28125 \r\nL 54.109375 2.78125 \r\nQ 49.265625 0.734375 44.1875 -0.34375 \r\nQ 39.109375 -1.421875 33.890625 -1.421875 \r\nQ 20.796875 -1.421875 13.15625 6.1875 \r\nQ 5.515625 13.8125 5.515625 26.8125 \r\nQ 5.515625 40.234375 12.765625 48.109375 \r\nQ 20.015625 56 32.328125 56 \r\nQ 43.359375 56 49.78125 48.890625 \r\nQ 56.203125 41.796875 56.203125 29.59375 \r\nz\r\nM 47.21875 32.234375 \r\nQ 47.125 39.59375 43.09375 43.984375 \r\nQ 39.0625 48.390625 32.421875 48.390625 \r\nQ 24.90625 48.390625 20.390625 44.140625 \r\nQ 15.875 39.890625 15.1875 32.171875 \r\nz\r\n\" id=\"DejaVuSans-101\"/>\r\n      </defs>\r\n      <g style=\"fill:#555555;\" transform=\"translate(51.4625 250.269687)rotate(-90)scale(0.1 -0.1)\">\r\n       <use xlink:href=\"#DejaVuSans-97\"/>\r\n       <use x=\"61.279297\" xlink:href=\"#DejaVuSans-103\"/>\r\n       <use x=\"124.755859\" xlink:href=\"#DejaVuSans-101\"/>\r\n      </g>\r\n     </g>\r\n    </g>\r\n    <g id=\"xtick_2\">\r\n     <g id=\"line2d_3\">\r\n      <path clip-path=\"url(#p66620aaa8f)\" d=\"M 85.903125 224.64 \r\nL 85.903125 7.2 \r\n\" style=\"fill:none;stroke:#ffffff;stroke-linecap:square;stroke-width:0.8;\"/>\r\n     </g>\r\n     <g id=\"line2d_4\">\r\n      <g>\r\n       <use style=\"fill:#555555;stroke:#555555;stroke-width:0.8;\" x=\"85.903125\" xlink:href=\"#m4dbf8b6330\" y=\"224.64\"/>\r\n      </g>\r\n     </g>\r\n     <g id=\"text_2\">\r\n      <!-- gender -->\r\n      <defs>\r\n       <path d=\"M 54.890625 33.015625 \r\nL 54.890625 0 \r\nL 45.90625 0 \r\nL 45.90625 32.71875 \r\nQ 45.90625 40.484375 42.875 44.328125 \r\nQ 39.84375 48.1875 33.796875 48.1875 \r\nQ 26.515625 48.1875 22.3125 43.546875 \r\nQ 18.109375 38.921875 18.109375 30.90625 \r\nL 18.109375 0 \r\nL 9.078125 0 \r\nL 9.078125 54.6875 \r\nL 18.109375 54.6875 \r\nL 18.109375 46.1875 \r\nQ 21.34375 51.125 25.703125 53.5625 \r\nQ 30.078125 56 35.796875 56 \r\nQ 45.21875 56 50.046875 50.171875 \r\nQ 54.890625 44.34375 54.890625 33.015625 \r\nz\r\n\" id=\"DejaVuSans-110\"/>\r\n       <path d=\"M 45.40625 46.390625 \r\nL 45.40625 75.984375 \r\nL 54.390625 75.984375 \r\nL 54.390625 0 \r\nL 45.40625 0 \r\nL 45.40625 8.203125 \r\nQ 42.578125 3.328125 38.25 0.953125 \r\nQ 33.9375 -1.421875 27.875 -1.421875 \r\nQ 17.96875 -1.421875 11.734375 6.484375 \r\nQ 5.515625 14.40625 5.515625 27.296875 \r\nQ 5.515625 40.1875 11.734375 48.09375 \r\nQ 17.96875 56 27.875 56 \r\nQ 33.9375 56 38.25 53.625 \r\nQ 42.578125 51.265625 45.40625 46.390625 \r\nz\r\nM 14.796875 27.296875 \r\nQ 14.796875 17.390625 18.875 11.75 \r\nQ 22.953125 6.109375 30.078125 6.109375 \r\nQ 37.203125 6.109375 41.296875 11.75 \r\nQ 45.40625 17.390625 45.40625 27.296875 \r\nQ 45.40625 37.203125 41.296875 42.84375 \r\nQ 37.203125 48.484375 30.078125 48.484375 \r\nQ 22.953125 48.484375 18.875 42.84375 \r\nQ 14.796875 37.203125 14.796875 27.296875 \r\nz\r\n\" id=\"DejaVuSans-100\"/>\r\n       <path d=\"M 41.109375 46.296875 \r\nQ 39.59375 47.171875 37.8125 47.578125 \r\nQ 36.03125 48 33.890625 48 \r\nQ 26.265625 48 22.1875 43.046875 \r\nQ 18.109375 38.09375 18.109375 28.8125 \r\nL 18.109375 0 \r\nL 9.078125 0 \r\nL 9.078125 54.6875 \r\nL 18.109375 54.6875 \r\nL 18.109375 46.1875 \r\nQ 20.953125 51.171875 25.484375 53.578125 \r\nQ 30.03125 56 36.53125 56 \r\nQ 37.453125 56 38.578125 55.875 \r\nQ 39.703125 55.765625 41.0625 55.515625 \r\nz\r\n\" id=\"DejaVuSans-114\"/>\r\n      </defs>\r\n      <g style=\"fill:#555555;\" transform=\"translate(88.6625 267.091562)rotate(-90)scale(0.1 -0.1)\">\r\n       <use xlink:href=\"#DejaVuSans-103\"/>\r\n       <use x=\"63.476562\" xlink:href=\"#DejaVuSans-101\"/>\r\n       <use x=\"125\" xlink:href=\"#DejaVuSans-110\"/>\r\n       <use x=\"188.378906\" xlink:href=\"#DejaVuSans-100\"/>\r\n       <use x=\"251.855469\" xlink:href=\"#DejaVuSans-101\"/>\r\n       <use x=\"313.378906\" xlink:href=\"#DejaVuSans-114\"/>\r\n      </g>\r\n     </g>\r\n    </g>\r\n    <g id=\"xtick_3\">\r\n     <g id=\"line2d_5\">\r\n      <path clip-path=\"url(#p66620aaa8f)\" d=\"M 123.103125 224.64 \r\nL 123.103125 7.2 \r\n\" style=\"fill:none;stroke:#ffffff;stroke-linecap:square;stroke-width:0.8;\"/>\r\n     </g>\r\n     <g id=\"line2d_6\">\r\n      <g>\r\n       <use style=\"fill:#555555;stroke:#555555;stroke-width:0.8;\" x=\"123.103125\" xlink:href=\"#m4dbf8b6330\" y=\"224.64\"/>\r\n      </g>\r\n     </g>\r\n     <g id=\"text_3\">\r\n      <!-- cholesterol -->\r\n      <defs>\r\n       <path d=\"M 48.78125 52.59375 \r\nL 48.78125 44.1875 \r\nQ 44.96875 46.296875 41.140625 47.34375 \r\nQ 37.3125 48.390625 33.40625 48.390625 \r\nQ 24.65625 48.390625 19.8125 42.84375 \r\nQ 14.984375 37.3125 14.984375 27.296875 \r\nQ 14.984375 17.28125 19.8125 11.734375 \r\nQ 24.65625 6.203125 33.40625 6.203125 \r\nQ 37.3125 6.203125 41.140625 7.25 \r\nQ 44.96875 8.296875 48.78125 10.40625 \r\nL 48.78125 2.09375 \r\nQ 45.015625 0.34375 40.984375 -0.53125 \r\nQ 36.96875 -1.421875 32.421875 -1.421875 \r\nQ 20.0625 -1.421875 12.78125 6.34375 \r\nQ 5.515625 14.109375 5.515625 27.296875 \r\nQ 5.515625 40.671875 12.859375 48.328125 \r\nQ 20.21875 56 33.015625 56 \r\nQ 37.15625 56 41.109375 55.140625 \r\nQ 45.0625 54.296875 48.78125 52.59375 \r\nz\r\n\" id=\"DejaVuSans-99\"/>\r\n       <path d=\"M 54.890625 33.015625 \r\nL 54.890625 0 \r\nL 45.90625 0 \r\nL 45.90625 32.71875 \r\nQ 45.90625 40.484375 42.875 44.328125 \r\nQ 39.84375 48.1875 33.796875 48.1875 \r\nQ 26.515625 48.1875 22.3125 43.546875 \r\nQ 18.109375 38.921875 18.109375 30.90625 \r\nL 18.109375 0 \r\nL 9.078125 0 \r\nL 9.078125 75.984375 \r\nL 18.109375 75.984375 \r\nL 18.109375 46.1875 \r\nQ 21.34375 51.125 25.703125 53.5625 \r\nQ 30.078125 56 35.796875 56 \r\nQ 45.21875 56 50.046875 50.171875 \r\nQ 54.890625 44.34375 54.890625 33.015625 \r\nz\r\n\" id=\"DejaVuSans-104\"/>\r\n       <path d=\"M 30.609375 48.390625 \r\nQ 23.390625 48.390625 19.1875 42.75 \r\nQ 14.984375 37.109375 14.984375 27.296875 \r\nQ 14.984375 17.484375 19.15625 11.84375 \r\nQ 23.34375 6.203125 30.609375 6.203125 \r\nQ 37.796875 6.203125 41.984375 11.859375 \r\nQ 46.1875 17.53125 46.1875 27.296875 \r\nQ 46.1875 37.015625 41.984375 42.703125 \r\nQ 37.796875 48.390625 30.609375 48.390625 \r\nz\r\nM 30.609375 56 \r\nQ 42.328125 56 49.015625 48.375 \r\nQ 55.71875 40.765625 55.71875 27.296875 \r\nQ 55.71875 13.875 49.015625 6.21875 \r\nQ 42.328125 -1.421875 30.609375 -1.421875 \r\nQ 18.84375 -1.421875 12.171875 6.21875 \r\nQ 5.515625 13.875 5.515625 27.296875 \r\nQ 5.515625 40.765625 12.171875 48.375 \r\nQ 18.84375 56 30.609375 56 \r\nz\r\n\" id=\"DejaVuSans-111\"/>\r\n       <path d=\"M 9.421875 75.984375 \r\nL 18.40625 75.984375 \r\nL 18.40625 0 \r\nL 9.421875 0 \r\nz\r\n\" id=\"DejaVuSans-108\"/>\r\n       <path d=\"M 44.28125 53.078125 \r\nL 44.28125 44.578125 \r\nQ 40.484375 46.53125 36.375 47.5 \r\nQ 32.28125 48.484375 27.875 48.484375 \r\nQ 21.1875 48.484375 17.84375 46.4375 \r\nQ 14.5 44.390625 14.5 40.28125 \r\nQ 14.5 37.15625 16.890625 35.375 \r\nQ 19.28125 33.59375 26.515625 31.984375 \r\nL 29.59375 31.296875 \r\nQ 39.15625 29.25 43.1875 25.515625 \r\nQ 47.21875 21.78125 47.21875 15.09375 \r\nQ 47.21875 7.46875 41.1875 3.015625 \r\nQ 35.15625 -1.421875 24.609375 -1.421875 \r\nQ 20.21875 -1.421875 15.453125 -0.5625 \r\nQ 10.6875 0.296875 5.421875 2 \r\nL 5.421875 11.28125 \r\nQ 10.40625 8.6875 15.234375 7.390625 \r\nQ 20.0625 6.109375 24.8125 6.109375 \r\nQ 31.15625 6.109375 34.5625 8.28125 \r\nQ 37.984375 10.453125 37.984375 14.40625 \r\nQ 37.984375 18.0625 35.515625 20.015625 \r\nQ 33.0625 21.96875 24.703125 23.78125 \r\nL 21.578125 24.515625 \r\nQ 13.234375 26.265625 9.515625 29.90625 \r\nQ 5.8125 33.546875 5.8125 39.890625 \r\nQ 5.8125 47.609375 11.28125 51.796875 \r\nQ 16.75 56 26.8125 56 \r\nQ 31.78125 56 36.171875 55.265625 \r\nQ 40.578125 54.546875 44.28125 53.078125 \r\nz\r\n\" id=\"DejaVuSans-115\"/>\r\n       <path d=\"M 18.3125 70.21875 \r\nL 18.3125 54.6875 \r\nL 36.8125 54.6875 \r\nL 36.8125 47.703125 \r\nL 18.3125 47.703125 \r\nL 18.3125 18.015625 \r\nQ 18.3125 11.328125 20.140625 9.421875 \r\nQ 21.96875 7.515625 27.59375 7.515625 \r\nL 36.8125 7.515625 \r\nL 36.8125 0 \r\nL 27.59375 0 \r\nQ 17.1875 0 13.234375 3.875 \r\nQ 9.28125 7.765625 9.28125 18.015625 \r\nL 9.28125 47.703125 \r\nL 2.6875 47.703125 \r\nL 2.6875 54.6875 \r\nL 9.28125 54.6875 \r\nL 9.28125 70.21875 \r\nz\r\n\" id=\"DejaVuSans-116\"/>\r\n      </defs>\r\n      <g style=\"fill:#555555;\" transform=\"translate(125.8625 286.591562)rotate(-90)scale(0.1 -0.1)\">\r\n       <use xlink:href=\"#DejaVuSans-99\"/>\r\n       <use x=\"54.980469\" xlink:href=\"#DejaVuSans-104\"/>\r\n       <use x=\"118.359375\" xlink:href=\"#DejaVuSans-111\"/>\r\n       <use x=\"179.541016\" xlink:href=\"#DejaVuSans-108\"/>\r\n       <use x=\"207.324219\" xlink:href=\"#DejaVuSans-101\"/>\r\n       <use x=\"268.847656\" xlink:href=\"#DejaVuSans-115\"/>\r\n       <use x=\"320.947266\" xlink:href=\"#DejaVuSans-116\"/>\r\n       <use x=\"360.15625\" xlink:href=\"#DejaVuSans-101\"/>\r\n       <use x=\"421.679688\" xlink:href=\"#DejaVuSans-114\"/>\r\n       <use x=\"460.542969\" xlink:href=\"#DejaVuSans-111\"/>\r\n       <use x=\"521.724609\" xlink:href=\"#DejaVuSans-108\"/>\r\n      </g>\r\n     </g>\r\n    </g>\r\n    <g id=\"xtick_4\">\r\n     <g id=\"line2d_7\">\r\n      <path clip-path=\"url(#p66620aaa8f)\" d=\"M 160.303125 224.64 \r\nL 160.303125 7.2 \r\n\" style=\"fill:none;stroke:#ffffff;stroke-linecap:square;stroke-width:0.8;\"/>\r\n     </g>\r\n     <g id=\"line2d_8\">\r\n      <g>\r\n       <use style=\"fill:#555555;stroke:#555555;stroke-width:0.8;\" x=\"160.303125\" xlink:href=\"#m4dbf8b6330\" y=\"224.64\"/>\r\n      </g>\r\n     </g>\r\n     <g id=\"text_4\">\r\n      <!-- gluc -->\r\n      <defs>\r\n       <path d=\"M 8.5 21.578125 \r\nL 8.5 54.6875 \r\nL 17.484375 54.6875 \r\nL 17.484375 21.921875 \r\nQ 17.484375 14.15625 20.5 10.265625 \r\nQ 23.53125 6.390625 29.59375 6.390625 \r\nQ 36.859375 6.390625 41.078125 11.03125 \r\nQ 45.3125 15.671875 45.3125 23.6875 \r\nL 45.3125 54.6875 \r\nL 54.296875 54.6875 \r\nL 54.296875 0 \r\nL 45.3125 0 \r\nL 45.3125 8.40625 \r\nQ 42.046875 3.421875 37.71875 1 \r\nQ 33.40625 -1.421875 27.6875 -1.421875 \r\nQ 18.265625 -1.421875 13.375 4.4375 \r\nQ 8.5 10.296875 8.5 21.578125 \r\nz\r\nM 31.109375 56 \r\nz\r\n\" id=\"DejaVuSans-117\"/>\r\n      </defs>\r\n      <g style=\"fill:#555555;\" transform=\"translate(163.0625 252.6025)rotate(-90)scale(0.1 -0.1)\">\r\n       <use xlink:href=\"#DejaVuSans-103\"/>\r\n       <use x=\"63.476562\" xlink:href=\"#DejaVuSans-108\"/>\r\n       <use x=\"91.259766\" xlink:href=\"#DejaVuSans-117\"/>\r\n       <use x=\"154.638672\" xlink:href=\"#DejaVuSans-99\"/>\r\n      </g>\r\n     </g>\r\n    </g>\r\n    <g id=\"xtick_5\">\r\n     <g id=\"line2d_9\">\r\n      <path clip-path=\"url(#p66620aaa8f)\" d=\"M 197.503125 224.64 \r\nL 197.503125 7.2 \r\n\" style=\"fill:none;stroke:#ffffff;stroke-linecap:square;stroke-width:0.8;\"/>\r\n     </g>\r\n     <g id=\"line2d_10\">\r\n      <g>\r\n       <use style=\"fill:#555555;stroke:#555555;stroke-width:0.8;\" x=\"197.503125\" xlink:href=\"#m4dbf8b6330\" y=\"224.64\"/>\r\n      </g>\r\n     </g>\r\n     <g id=\"text_5\">\r\n      <!-- smoke -->\r\n      <defs>\r\n       <path d=\"M 52 44.1875 \r\nQ 55.375 50.25 60.0625 53.125 \r\nQ 64.75 56 71.09375 56 \r\nQ 79.640625 56 84.28125 50.015625 \r\nQ 88.921875 44.046875 88.921875 33.015625 \r\nL 88.921875 0 \r\nL 79.890625 0 \r\nL 79.890625 32.71875 \r\nQ 79.890625 40.578125 77.09375 44.375 \r\nQ 74.3125 48.1875 68.609375 48.1875 \r\nQ 61.625 48.1875 57.5625 43.546875 \r\nQ 53.515625 38.921875 53.515625 30.90625 \r\nL 53.515625 0 \r\nL 44.484375 0 \r\nL 44.484375 32.71875 \r\nQ 44.484375 40.625 41.703125 44.40625 \r\nQ 38.921875 48.1875 33.109375 48.1875 \r\nQ 26.21875 48.1875 22.15625 43.53125 \r\nQ 18.109375 38.875 18.109375 30.90625 \r\nL 18.109375 0 \r\nL 9.078125 0 \r\nL 9.078125 54.6875 \r\nL 18.109375 54.6875 \r\nL 18.109375 46.1875 \r\nQ 21.1875 51.21875 25.484375 53.609375 \r\nQ 29.78125 56 35.6875 56 \r\nQ 41.65625 56 45.828125 52.96875 \r\nQ 50 49.953125 52 44.1875 \r\nz\r\n\" id=\"DejaVuSans-109\"/>\r\n       <path d=\"M 9.078125 75.984375 \r\nL 18.109375 75.984375 \r\nL 18.109375 31.109375 \r\nL 44.921875 54.6875 \r\nL 56.390625 54.6875 \r\nL 27.390625 29.109375 \r\nL 57.625 0 \r\nL 45.90625 0 \r\nL 18.109375 26.703125 \r\nL 18.109375 0 \r\nL 9.078125 0 \r\nz\r\n\" id=\"DejaVuSans-107\"/>\r\n      </defs>\r\n      <g style=\"fill:#555555;\" transform=\"translate(200.2625 264.29)rotate(-90)scale(0.1 -0.1)\">\r\n       <use xlink:href=\"#DejaVuSans-115\"/>\r\n       <use x=\"52.099609\" xlink:href=\"#DejaVuSans-109\"/>\r\n       <use x=\"149.511719\" xlink:href=\"#DejaVuSans-111\"/>\r\n       <use x=\"210.693359\" xlink:href=\"#DejaVuSans-107\"/>\r\n       <use x=\"264.978516\" xlink:href=\"#DejaVuSans-101\"/>\r\n      </g>\r\n     </g>\r\n    </g>\r\n    <g id=\"xtick_6\">\r\n     <g id=\"line2d_11\">\r\n      <path clip-path=\"url(#p66620aaa8f)\" d=\"M 234.703125 224.64 \r\nL 234.703125 7.2 \r\n\" style=\"fill:none;stroke:#ffffff;stroke-linecap:square;stroke-width:0.8;\"/>\r\n     </g>\r\n     <g id=\"line2d_12\">\r\n      <g>\r\n       <use style=\"fill:#555555;stroke:#555555;stroke-width:0.8;\" x=\"234.703125\" xlink:href=\"#m4dbf8b6330\" y=\"224.64\"/>\r\n      </g>\r\n     </g>\r\n     <g id=\"text_6\">\r\n      <!-- alco -->\r\n      <g style=\"fill:#555555;\" transform=\"translate(237.4625 252.163437)rotate(-90)scale(0.1 -0.1)\">\r\n       <use xlink:href=\"#DejaVuSans-97\"/>\r\n       <use x=\"61.279297\" xlink:href=\"#DejaVuSans-108\"/>\r\n       <use x=\"89.0625\" xlink:href=\"#DejaVuSans-99\"/>\r\n       <use x=\"144.042969\" xlink:href=\"#DejaVuSans-111\"/>\r\n      </g>\r\n     </g>\r\n    </g>\r\n    <g id=\"xtick_7\">\r\n     <g id=\"line2d_13\">\r\n      <path clip-path=\"url(#p66620aaa8f)\" d=\"M 271.903125 224.64 \r\nL 271.903125 7.2 \r\n\" style=\"fill:none;stroke:#ffffff;stroke-linecap:square;stroke-width:0.8;\"/>\r\n     </g>\r\n     <g id=\"line2d_14\">\r\n      <g>\r\n       <use style=\"fill:#555555;stroke:#555555;stroke-width:0.8;\" x=\"271.903125\" xlink:href=\"#m4dbf8b6330\" y=\"224.64\"/>\r\n      </g>\r\n     </g>\r\n     <g id=\"text_7\">\r\n      <!-- active -->\r\n      <defs>\r\n       <path d=\"M 9.421875 54.6875 \r\nL 18.40625 54.6875 \r\nL 18.40625 0 \r\nL 9.421875 0 \r\nz\r\nM 9.421875 75.984375 \r\nL 18.40625 75.984375 \r\nL 18.40625 64.59375 \r\nL 9.421875 64.59375 \r\nz\r\n\" id=\"DejaVuSans-105\"/>\r\n       <path d=\"M 2.984375 54.6875 \r\nL 12.5 54.6875 \r\nL 29.59375 8.796875 \r\nL 46.6875 54.6875 \r\nL 56.203125 54.6875 \r\nL 35.6875 0 \r\nL 23.484375 0 \r\nz\r\n\" id=\"DejaVuSans-118\"/>\r\n      </defs>\r\n      <g style=\"fill:#555555;\" transform=\"translate(274.6625 262.036875)rotate(-90)scale(0.1 -0.1)\">\r\n       <use xlink:href=\"#DejaVuSans-97\"/>\r\n       <use x=\"61.279297\" xlink:href=\"#DejaVuSans-99\"/>\r\n       <use x=\"116.259766\" xlink:href=\"#DejaVuSans-116\"/>\r\n       <use x=\"155.46875\" xlink:href=\"#DejaVuSans-105\"/>\r\n       <use x=\"183.251953\" xlink:href=\"#DejaVuSans-118\"/>\r\n       <use x=\"242.431641\" xlink:href=\"#DejaVuSans-101\"/>\r\n      </g>\r\n     </g>\r\n    </g>\r\n    <g id=\"xtick_8\">\r\n     <g id=\"line2d_15\">\r\n      <path clip-path=\"url(#p66620aaa8f)\" d=\"M 309.103125 224.64 \r\nL 309.103125 7.2 \r\n\" style=\"fill:none;stroke:#ffffff;stroke-linecap:square;stroke-width:0.8;\"/>\r\n     </g>\r\n     <g id=\"line2d_16\">\r\n      <g>\r\n       <use style=\"fill:#555555;stroke:#555555;stroke-width:0.8;\" x=\"309.103125\" xlink:href=\"#m4dbf8b6330\" y=\"224.64\"/>\r\n      </g>\r\n     </g>\r\n     <g id=\"text_8\">\r\n      <!-- bmiGrp -->\r\n      <defs>\r\n       <path d=\"M 48.6875 27.296875 \r\nQ 48.6875 37.203125 44.609375 42.84375 \r\nQ 40.53125 48.484375 33.40625 48.484375 \r\nQ 26.265625 48.484375 22.1875 42.84375 \r\nQ 18.109375 37.203125 18.109375 27.296875 \r\nQ 18.109375 17.390625 22.1875 11.75 \r\nQ 26.265625 6.109375 33.40625 6.109375 \r\nQ 40.53125 6.109375 44.609375 11.75 \r\nQ 48.6875 17.390625 48.6875 27.296875 \r\nz\r\nM 18.109375 46.390625 \r\nQ 20.953125 51.265625 25.265625 53.625 \r\nQ 29.59375 56 35.59375 56 \r\nQ 45.5625 56 51.78125 48.09375 \r\nQ 58.015625 40.1875 58.015625 27.296875 \r\nQ 58.015625 14.40625 51.78125 6.484375 \r\nQ 45.5625 -1.421875 35.59375 -1.421875 \r\nQ 29.59375 -1.421875 25.265625 0.953125 \r\nQ 20.953125 3.328125 18.109375 8.203125 \r\nL 18.109375 0 \r\nL 9.078125 0 \r\nL 9.078125 75.984375 \r\nL 18.109375 75.984375 \r\nz\r\n\" id=\"DejaVuSans-98\"/>\r\n       <path d=\"M 59.515625 10.40625 \r\nL 59.515625 29.984375 \r\nL 43.40625 29.984375 \r\nL 43.40625 38.09375 \r\nL 69.28125 38.09375 \r\nL 69.28125 6.78125 \r\nQ 63.578125 2.734375 56.6875 0.65625 \r\nQ 49.8125 -1.421875 42 -1.421875 \r\nQ 24.90625 -1.421875 15.25 8.5625 \r\nQ 5.609375 18.5625 5.609375 36.375 \r\nQ 5.609375 54.25 15.25 64.234375 \r\nQ 24.90625 74.21875 42 74.21875 \r\nQ 49.125 74.21875 55.546875 72.453125 \r\nQ 61.96875 70.703125 67.390625 67.28125 \r\nL 67.390625 56.78125 \r\nQ 61.921875 61.421875 55.765625 63.765625 \r\nQ 49.609375 66.109375 42.828125 66.109375 \r\nQ 29.4375 66.109375 22.71875 58.640625 \r\nQ 16.015625 51.171875 16.015625 36.375 \r\nQ 16.015625 21.625 22.71875 14.15625 \r\nQ 29.4375 6.6875 42.828125 6.6875 \r\nQ 48.046875 6.6875 52.140625 7.59375 \r\nQ 56.25 8.5 59.515625 10.40625 \r\nz\r\n\" id=\"DejaVuSans-71\"/>\r\n       <path d=\"M 18.109375 8.203125 \r\nL 18.109375 -20.796875 \r\nL 9.078125 -20.796875 \r\nL 9.078125 54.6875 \r\nL 18.109375 54.6875 \r\nL 18.109375 46.390625 \r\nQ 20.953125 51.265625 25.265625 53.625 \r\nQ 29.59375 56 35.59375 56 \r\nQ 45.5625 56 51.78125 48.09375 \r\nQ 58.015625 40.1875 58.015625 27.296875 \r\nQ 58.015625 14.40625 51.78125 6.484375 \r\nQ 45.5625 -1.421875 35.59375 -1.421875 \r\nQ 29.59375 -1.421875 25.265625 0.953125 \r\nQ 20.953125 3.328125 18.109375 8.203125 \r\nz\r\nM 48.6875 27.296875 \r\nQ 48.6875 37.203125 44.609375 42.84375 \r\nQ 40.53125 48.484375 33.40625 48.484375 \r\nQ 26.265625 48.484375 22.1875 42.84375 \r\nQ 18.109375 37.203125 18.109375 27.296875 \r\nQ 18.109375 17.390625 22.1875 11.75 \r\nQ 26.265625 6.109375 33.40625 6.109375 \r\nQ 40.53125 6.109375 44.609375 11.75 \r\nQ 48.6875 17.390625 48.6875 27.296875 \r\nz\r\n\" id=\"DejaVuSans-112\"/>\r\n      </defs>\r\n      <g style=\"fill:#555555;\" transform=\"translate(311.8625 268.715)rotate(-90)scale(0.1 -0.1)\">\r\n       <use xlink:href=\"#DejaVuSans-98\"/>\r\n       <use x=\"63.476562\" xlink:href=\"#DejaVuSans-109\"/>\r\n       <use x=\"160.888672\" xlink:href=\"#DejaVuSans-105\"/>\r\n       <use x=\"188.671875\" xlink:href=\"#DejaVuSans-71\"/>\r\n       <use x=\"266.162109\" xlink:href=\"#DejaVuSans-114\"/>\r\n       <use x=\"307.275391\" xlink:href=\"#DejaVuSans-112\"/>\r\n      </g>\r\n     </g>\r\n    </g>\r\n    <g id=\"xtick_9\">\r\n     <g id=\"line2d_17\">\r\n      <path clip-path=\"url(#p66620aaa8f)\" d=\"M 346.303125 224.64 \r\nL 346.303125 7.2 \r\n\" style=\"fill:none;stroke:#ffffff;stroke-linecap:square;stroke-width:0.8;\"/>\r\n     </g>\r\n     <g id=\"line2d_18\">\r\n      <g>\r\n       <use style=\"fill:#555555;stroke:#555555;stroke-width:0.8;\" x=\"346.303125\" xlink:href=\"#m4dbf8b6330\" y=\"224.64\"/>\r\n      </g>\r\n     </g>\r\n     <g id=\"text_9\">\r\n      <!-- bp -->\r\n      <g style=\"fill:#555555;\" transform=\"translate(349.0625 244.336875)rotate(-90)scale(0.1 -0.1)\">\r\n       <use xlink:href=\"#DejaVuSans-98\"/>\r\n       <use x=\"63.476562\" xlink:href=\"#DejaVuSans-112\"/>\r\n      </g>\r\n     </g>\r\n    </g>\r\n   </g>\r\n   <g id=\"matplotlib.axis_2\">\r\n    <g id=\"ytick_1\">\r\n     <g id=\"line2d_19\">\r\n      <path clip-path=\"url(#p66620aaa8f)\" d=\"M 30.103125 196.794316 \r\nL 364.903125 196.794316 \r\n\" style=\"fill:none;stroke:#ffffff;stroke-linecap:square;stroke-width:0.8;\"/>\r\n     </g>\r\n     <g id=\"line2d_20\">\r\n      <defs>\r\n       <path d=\"M 0 0 \r\nL -3.5 0 \r\n\" id=\"mc2762e793e\" style=\"stroke:#555555;stroke-width:0.8;\"/>\r\n      </defs>\r\n      <g>\r\n       <use style=\"fill:#555555;stroke:#555555;stroke-width:0.8;\" x=\"30.103125\" xlink:href=\"#mc2762e793e\" y=\"196.794316\"/>\r\n      </g>\r\n     </g>\r\n     <g id=\"text_10\">\r\n      <!-- 0.0 -->\r\n      <defs>\r\n       <path d=\"M 31.78125 66.40625 \r\nQ 24.171875 66.40625 20.328125 58.90625 \r\nQ 16.5 51.421875 16.5 36.375 \r\nQ 16.5 21.390625 20.328125 13.890625 \r\nQ 24.171875 6.390625 31.78125 6.390625 \r\nQ 39.453125 6.390625 43.28125 13.890625 \r\nQ 47.125 21.390625 47.125 36.375 \r\nQ 47.125 51.421875 43.28125 58.90625 \r\nQ 39.453125 66.40625 31.78125 66.40625 \r\nz\r\nM 31.78125 74.21875 \r\nQ 44.046875 74.21875 50.515625 64.515625 \r\nQ 56.984375 54.828125 56.984375 36.375 \r\nQ 56.984375 17.96875 50.515625 8.265625 \r\nQ 44.046875 -1.421875 31.78125 -1.421875 \r\nQ 19.53125 -1.421875 13.0625 8.265625 \r\nQ 6.59375 17.96875 6.59375 36.375 \r\nQ 6.59375 54.828125 13.0625 64.515625 \r\nQ 19.53125 74.21875 31.78125 74.21875 \r\nz\r\n\" id=\"DejaVuSans-48\"/>\r\n       <path d=\"M 10.6875 12.40625 \r\nL 21 12.40625 \r\nL 21 0 \r\nL 10.6875 0 \r\nz\r\n\" id=\"DejaVuSans-46\"/>\r\n      </defs>\r\n      <g style=\"fill:#555555;\" transform=\"translate(7.2 200.593534)scale(0.1 -0.1)\">\r\n       <use xlink:href=\"#DejaVuSans-48\"/>\r\n       <use x=\"63.623047\" xlink:href=\"#DejaVuSans-46\"/>\r\n       <use x=\"95.410156\" xlink:href=\"#DejaVuSans-48\"/>\r\n      </g>\r\n     </g>\r\n    </g>\r\n    <g id=\"ytick_2\">\r\n     <g id=\"line2d_21\">\r\n      <path clip-path=\"url(#p66620aaa8f)\" d=\"M 30.103125 151.551816 \r\nL 364.903125 151.551816 \r\n\" style=\"fill:none;stroke:#ffffff;stroke-linecap:square;stroke-width:0.8;\"/>\r\n     </g>\r\n     <g id=\"line2d_22\">\r\n      <g>\r\n       <use style=\"fill:#555555;stroke:#555555;stroke-width:0.8;\" x=\"30.103125\" xlink:href=\"#mc2762e793e\" y=\"151.551816\"/>\r\n      </g>\r\n     </g>\r\n     <g id=\"text_11\">\r\n      <!-- 0.2 -->\r\n      <defs>\r\n       <path d=\"M 19.1875 8.296875 \r\nL 53.609375 8.296875 \r\nL 53.609375 0 \r\nL 7.328125 0 \r\nL 7.328125 8.296875 \r\nQ 12.9375 14.109375 22.625 23.890625 \r\nQ 32.328125 33.6875 34.8125 36.53125 \r\nQ 39.546875 41.84375 41.421875 45.53125 \r\nQ 43.3125 49.21875 43.3125 52.78125 \r\nQ 43.3125 58.59375 39.234375 62.25 \r\nQ 35.15625 65.921875 28.609375 65.921875 \r\nQ 23.96875 65.921875 18.8125 64.3125 \r\nQ 13.671875 62.703125 7.8125 59.421875 \r\nL 7.8125 69.390625 \r\nQ 13.765625 71.78125 18.9375 73 \r\nQ 24.125 74.21875 28.421875 74.21875 \r\nQ 39.75 74.21875 46.484375 68.546875 \r\nQ 53.21875 62.890625 53.21875 53.421875 \r\nQ 53.21875 48.921875 51.53125 44.890625 \r\nQ 49.859375 40.875 45.40625 35.40625 \r\nQ 44.1875 33.984375 37.640625 27.21875 \r\nQ 31.109375 20.453125 19.1875 8.296875 \r\nz\r\n\" id=\"DejaVuSans-50\"/>\r\n      </defs>\r\n      <g style=\"fill:#555555;\" transform=\"translate(7.2 155.351035)scale(0.1 -0.1)\">\r\n       <use xlink:href=\"#DejaVuSans-48\"/>\r\n       <use x=\"63.623047\" xlink:href=\"#DejaVuSans-46\"/>\r\n       <use x=\"95.410156\" xlink:href=\"#DejaVuSans-50\"/>\r\n      </g>\r\n     </g>\r\n    </g>\r\n    <g id=\"ytick_3\">\r\n     <g id=\"line2d_23\">\r\n      <path clip-path=\"url(#p66620aaa8f)\" d=\"M 30.103125 106.309317 \r\nL 364.903125 106.309317 \r\n\" style=\"fill:none;stroke:#ffffff;stroke-linecap:square;stroke-width:0.8;\"/>\r\n     </g>\r\n     <g id=\"line2d_24\">\r\n      <g>\r\n       <use style=\"fill:#555555;stroke:#555555;stroke-width:0.8;\" x=\"30.103125\" xlink:href=\"#mc2762e793e\" y=\"106.309317\"/>\r\n      </g>\r\n     </g>\r\n     <g id=\"text_12\">\r\n      <!-- 0.4 -->\r\n      <defs>\r\n       <path d=\"M 37.796875 64.3125 \r\nL 12.890625 25.390625 \r\nL 37.796875 25.390625 \r\nz\r\nM 35.203125 72.90625 \r\nL 47.609375 72.90625 \r\nL 47.609375 25.390625 \r\nL 58.015625 25.390625 \r\nL 58.015625 17.1875 \r\nL 47.609375 17.1875 \r\nL 47.609375 0 \r\nL 37.796875 0 \r\nL 37.796875 17.1875 \r\nL 4.890625 17.1875 \r\nL 4.890625 26.703125 \r\nz\r\n\" id=\"DejaVuSans-52\"/>\r\n      </defs>\r\n      <g style=\"fill:#555555;\" transform=\"translate(7.2 110.108536)scale(0.1 -0.1)\">\r\n       <use xlink:href=\"#DejaVuSans-48\"/>\r\n       <use x=\"63.623047\" xlink:href=\"#DejaVuSans-46\"/>\r\n       <use x=\"95.410156\" xlink:href=\"#DejaVuSans-52\"/>\r\n      </g>\r\n     </g>\r\n    </g>\r\n    <g id=\"ytick_4\">\r\n     <g id=\"line2d_25\">\r\n      <path clip-path=\"url(#p66620aaa8f)\" d=\"M 30.103125 61.066818 \r\nL 364.903125 61.066818 \r\n\" style=\"fill:none;stroke:#ffffff;stroke-linecap:square;stroke-width:0.8;\"/>\r\n     </g>\r\n     <g id=\"line2d_26\">\r\n      <g>\r\n       <use style=\"fill:#555555;stroke:#555555;stroke-width:0.8;\" x=\"30.103125\" xlink:href=\"#mc2762e793e\" y=\"61.066818\"/>\r\n      </g>\r\n     </g>\r\n     <g id=\"text_13\">\r\n      <!-- 0.6 -->\r\n      <defs>\r\n       <path d=\"M 33.015625 40.375 \r\nQ 26.375 40.375 22.484375 35.828125 \r\nQ 18.609375 31.296875 18.609375 23.390625 \r\nQ 18.609375 15.53125 22.484375 10.953125 \r\nQ 26.375 6.390625 33.015625 6.390625 \r\nQ 39.65625 6.390625 43.53125 10.953125 \r\nQ 47.40625 15.53125 47.40625 23.390625 \r\nQ 47.40625 31.296875 43.53125 35.828125 \r\nQ 39.65625 40.375 33.015625 40.375 \r\nz\r\nM 52.59375 71.296875 \r\nL 52.59375 62.3125 \r\nQ 48.875 64.0625 45.09375 64.984375 \r\nQ 41.3125 65.921875 37.59375 65.921875 \r\nQ 27.828125 65.921875 22.671875 59.328125 \r\nQ 17.53125 52.734375 16.796875 39.40625 \r\nQ 19.671875 43.65625 24.015625 45.921875 \r\nQ 28.375 48.1875 33.59375 48.1875 \r\nQ 44.578125 48.1875 50.953125 41.515625 \r\nQ 57.328125 34.859375 57.328125 23.390625 \r\nQ 57.328125 12.15625 50.6875 5.359375 \r\nQ 44.046875 -1.421875 33.015625 -1.421875 \r\nQ 20.359375 -1.421875 13.671875 8.265625 \r\nQ 6.984375 17.96875 6.984375 36.375 \r\nQ 6.984375 53.65625 15.1875 63.9375 \r\nQ 23.390625 74.21875 37.203125 74.21875 \r\nQ 40.921875 74.21875 44.703125 73.484375 \r\nQ 48.484375 72.75 52.59375 71.296875 \r\nz\r\n\" id=\"DejaVuSans-54\"/>\r\n      </defs>\r\n      <g style=\"fill:#555555;\" transform=\"translate(7.2 64.866036)scale(0.1 -0.1)\">\r\n       <use xlink:href=\"#DejaVuSans-48\"/>\r\n       <use x=\"63.623047\" xlink:href=\"#DejaVuSans-46\"/>\r\n       <use x=\"95.410156\" xlink:href=\"#DejaVuSans-54\"/>\r\n      </g>\r\n     </g>\r\n    </g>\r\n    <g id=\"ytick_5\">\r\n     <g id=\"line2d_27\">\r\n      <path clip-path=\"url(#p66620aaa8f)\" d=\"M 30.103125 15.824318 \r\nL 364.903125 15.824318 \r\n\" style=\"fill:none;stroke:#ffffff;stroke-linecap:square;stroke-width:0.8;\"/>\r\n     </g>\r\n     <g id=\"line2d_28\">\r\n      <g>\r\n       <use style=\"fill:#555555;stroke:#555555;stroke-width:0.8;\" x=\"30.103125\" xlink:href=\"#mc2762e793e\" y=\"15.824318\"/>\r\n      </g>\r\n     </g>\r\n     <g id=\"text_14\">\r\n      <!-- 0.8 -->\r\n      <defs>\r\n       <path d=\"M 31.78125 34.625 \r\nQ 24.75 34.625 20.71875 30.859375 \r\nQ 16.703125 27.09375 16.703125 20.515625 \r\nQ 16.703125 13.921875 20.71875 10.15625 \r\nQ 24.75 6.390625 31.78125 6.390625 \r\nQ 38.8125 6.390625 42.859375 10.171875 \r\nQ 46.921875 13.96875 46.921875 20.515625 \r\nQ 46.921875 27.09375 42.890625 30.859375 \r\nQ 38.875 34.625 31.78125 34.625 \r\nz\r\nM 21.921875 38.8125 \r\nQ 15.578125 40.375 12.03125 44.71875 \r\nQ 8.5 49.078125 8.5 55.328125 \r\nQ 8.5 64.0625 14.71875 69.140625 \r\nQ 20.953125 74.21875 31.78125 74.21875 \r\nQ 42.671875 74.21875 48.875 69.140625 \r\nQ 55.078125 64.0625 55.078125 55.328125 \r\nQ 55.078125 49.078125 51.53125 44.71875 \r\nQ 48 40.375 41.703125 38.8125 \r\nQ 48.828125 37.15625 52.796875 32.3125 \r\nQ 56.78125 27.484375 56.78125 20.515625 \r\nQ 56.78125 9.90625 50.3125 4.234375 \r\nQ 43.84375 -1.421875 31.78125 -1.421875 \r\nQ 19.734375 -1.421875 13.25 4.234375 \r\nQ 6.78125 9.90625 6.78125 20.515625 \r\nQ 6.78125 27.484375 10.78125 32.3125 \r\nQ 14.796875 37.15625 21.921875 38.8125 \r\nz\r\nM 18.3125 54.390625 \r\nQ 18.3125 48.734375 21.84375 45.5625 \r\nQ 25.390625 42.390625 31.78125 42.390625 \r\nQ 38.140625 42.390625 41.71875 45.5625 \r\nQ 45.3125 48.734375 45.3125 54.390625 \r\nQ 45.3125 60.0625 41.71875 63.234375 \r\nQ 38.140625 66.40625 31.78125 66.40625 \r\nQ 25.390625 66.40625 21.84375 63.234375 \r\nQ 18.3125 60.0625 18.3125 54.390625 \r\nz\r\n\" id=\"DejaVuSans-56\"/>\r\n      </defs>\r\n      <g style=\"fill:#555555;\" transform=\"translate(7.2 19.623537)scale(0.1 -0.1)\">\r\n       <use xlink:href=\"#DejaVuSans-48\"/>\r\n       <use x=\"63.623047\" xlink:href=\"#DejaVuSans-46\"/>\r\n       <use x=\"95.410156\" xlink:href=\"#DejaVuSans-56\"/>\r\n      </g>\r\n     </g>\r\n    </g>\r\n   </g>\r\n   <g id=\"patch_3\">\r\n    <path clip-path=\"url(#p66620aaa8f)\" d=\"M 39.403125 196.794316 \r\nL 58.003125 196.794316 \r\nL 58.003125 114.768758 \r\nL 39.403125 114.768758 \r\nz\r\n\" style=\"fill:#e24a33;\"/>\r\n   </g>\r\n   <g id=\"patch_4\">\r\n    <path clip-path=\"url(#p66620aaa8f)\" d=\"M 76.603125 196.794316 \r\nL 95.203125 196.794316 \r\nL 95.203125 194.025832 \r\nL 76.603125 194.025832 \r\nz\r\n\" style=\"fill:#e24a33;\"/>\r\n   </g>\r\n   <g id=\"patch_5\">\r\n    <path clip-path=\"url(#p66620aaa8f)\" d=\"M 113.803125 196.794316 \r\nL 132.403125 196.794316 \r\nL 132.403125 112.801301 \r\nL 113.803125 112.801301 \r\nz\r\n\" style=\"fill:#e24a33;\"/>\r\n   </g>\r\n   <g id=\"patch_6\">\r\n    <path clip-path=\"url(#p66620aaa8f)\" d=\"M 151.003125 196.794316 \r\nL 169.603125 196.794316 \r\nL 169.603125 207.578062 \r\nL 151.003125 207.578062 \r\nz\r\n\" style=\"fill:#e24a33;\"/>\r\n   </g>\r\n   <g id=\"patch_7\">\r\n    <path clip-path=\"url(#p66620aaa8f)\" d=\"M 188.203125 196.794316 \r\nL 206.803125 196.794316 \r\nL 206.803125 203.573249 \r\nL 188.203125 203.573249 \r\nz\r\n\" style=\"fill:#e24a33;\"/>\r\n   </g>\r\n   <g id=\"patch_8\">\r\n    <path clip-path=\"url(#p66620aaa8f)\" d=\"M 225.403125 196.794316 \r\nL 244.003125 196.794316 \r\nL 244.003125 206.463521 \r\nL 225.403125 206.463521 \r\nz\r\n\" style=\"fill:#e24a33;\"/>\r\n   </g>\r\n   <g id=\"patch_9\">\r\n    <path clip-path=\"url(#p66620aaa8f)\" d=\"M 262.603125 196.794316 \r\nL 281.203125 196.794316 \r\nL 281.203125 214.756364 \r\nL 262.603125 214.756364 \r\nz\r\n\" style=\"fill:#e24a33;\"/>\r\n   </g>\r\n   <g id=\"patch_10\">\r\n    <path clip-path=\"url(#p66620aaa8f)\" d=\"M 299.803125 196.794316 \r\nL 318.403125 196.794316 \r\nL 318.403125 163.208207 \r\nL 299.803125 163.208207 \r\nz\r\n\" style=\"fill:#e24a33;\"/>\r\n   </g>\r\n   <g id=\"patch_11\">\r\n    <path clip-path=\"url(#p66620aaa8f)\" d=\"M 337.003125 196.794316 \r\nL 355.603125 196.794316 \r\nL 355.603125 17.083636 \r\nL 337.003125 17.083636 \r\nz\r\n\" style=\"fill:#e24a33;\"/>\r\n   </g>\r\n   <g id=\"patch_12\">\r\n    <path d=\"M 30.103125 224.64 \r\nL 30.103125 7.2 \r\n\" style=\"fill:none;stroke:#ffffff;stroke-linecap:square;stroke-linejoin:miter;\"/>\r\n   </g>\r\n   <g id=\"patch_13\">\r\n    <path d=\"M 364.903125 224.64 \r\nL 364.903125 7.2 \r\n\" style=\"fill:none;stroke:#ffffff;stroke-linecap:square;stroke-linejoin:miter;\"/>\r\n   </g>\r\n   <g id=\"patch_14\">\r\n    <path d=\"M 30.103125 224.64 \r\nL 364.903125 224.64 \r\n\" style=\"fill:none;stroke:#ffffff;stroke-linecap:square;stroke-linejoin:miter;\"/>\r\n   </g>\r\n   <g id=\"patch_15\">\r\n    <path d=\"M 30.103125 7.2 \r\nL 364.903125 7.2 \r\n\" style=\"fill:none;stroke:#ffffff;stroke-linecap:square;stroke-linejoin:miter;\"/>\r\n   </g>\r\n  </g>\r\n </g>\r\n <defs>\r\n  <clipPath id=\"p66620aaa8f\">\r\n   <rect height=\"217.44\" width=\"334.8\" x=\"30.103125\" y=\"7.2\"/>\r\n  </clipPath>\r\n </defs>\r\n</svg>\r\n",
      "image/png": "[encoded data removed]"
     },
     "metadata": {}
    }
   ],
   "source": [
    "# now let's make a pandas Series with the names and values, and plot them\n",
    "plt.style.use('ggplot')\n",
    "\n",
    "weights = pd.Series(logreg.coef_[0],index=X.columns)\n",
    "weights.plot(kind='bar')\n",
    "plt.show()"
   ]
  },
  {
   "cell_type": "code",
   "execution_count": 136,
   "metadata": {},
   "outputs": [],
   "source": [
    "y_pred = logreg.predict(X_test_std)"
   ]
  },
  {
   "cell_type": "code",
   "execution_count": 137,
   "metadata": {},
   "outputs": [
    {
     "output_type": "stream",
     "name": "stdout",
     "text": "precision    recall  f1-score   support\n\n           0       0.71      0.70      0.70      7001\n           1       0.70      0.72      0.71      6995\n\n    accuracy                           0.71     13996\n   macro avg       0.71      0.71      0.71     13996\nweighted avg       0.71      0.71      0.71     13996\n\n"
    }
   ],
   "source": [
    "from sklearn.metrics import classification_report\n",
    "print(classification_report(y_test, y_pred))"
   ]
  },
  {
   "cell_type": "code",
   "execution_count": 138,
   "metadata": {},
   "outputs": [
    {
     "output_type": "stream",
     "name": "stdout",
     "text": "Scores: [0.715 0.707 0.714]\nMean: 0.712\nStandard deviation: 0.003\n"
    }
   ],
   "source": [
    "from sklearn.model_selection import cross_val_score\n",
    "\n",
    "scores = cross_val_score(logreg, X_train_std, y_train,\n",
    "                         scoring=\"accuracy\", cv=3)\n",
    "\n",
    "def display_scores(scores):\n",
    "    print(\"Scores:\", scores.round(3))\n",
    "    print(\"Mean:\", scores.mean().round(3))\n",
    "    print(\"Standard deviation:\", scores.std().round(3))\n",
    "\n",
    "display_scores(scores)"
   ]
  },
  {
   "cell_type": "code",
   "execution_count": 139,
   "metadata": {},
   "outputs": [],
   "source": [
    "if MODEL_TYPE == \"Full\":\n",
    "    # Full Model\n",
    "    num_attribs = [\"age\", \"height\", \"weight\", \"ap_hi\", \"ap_lo\"]\n",
    "    cat_attribs = [\"gender\", \"cholesterol\", \"gluc\", \"smoke\", \"alco\", \"active\"]\n",
    "else:\n",
    "    # With New Features\n",
    "    num_attribs = [\"age\", \"bmiGrp\", \"bp\"]\n",
    "    cat_attribs = [\"gender\", \"cholesterol\", \"gluc\", \"smoke\", \"alco\", \"active\"]\n",
    "\n"
   ]
  },
  {
   "cell_type": "code",
   "execution_count": 140,
   "metadata": {},
   "outputs": [],
   "source": [
    "from sklearn.pipeline import Pipeline\n",
    "from sklearn.preprocessing import StandardScaler\n",
    "from sklearn.impute import SimpleImputer\n",
    "from sklearn.preprocessing import OneHotEncoder\n",
    "from sklearn.metrics import classification_report\n",
    "\n",
    "\n",
    "num_pipeline = Pipeline([\n",
    "        ('imputer', SimpleImputer(strategy=\"median\")),\n",
    "        ('std_scaler', StandardScaler()),\n",
    "    ])\n"
   ]
  },
  {
   "cell_type": "code",
   "execution_count": 141,
   "metadata": {},
   "outputs": [],
   "source": [
    "from sklearn.compose import ColumnTransformer\n",
    "\n",
    "full_pipeline = ColumnTransformer([\n",
    "        (\"num\", num_pipeline, num_attribs),\n",
    "        (\"cat\", OneHotEncoder(drop=\"first\"), cat_attribs),\n",
    "    ])\n",
    "\n",
    "X_prepared = full_pipeline.fit_transform(X)"
   ]
  },
  {
   "cell_type": "code",
   "execution_count": 142,
   "metadata": {},
   "outputs": [],
   "source": [
    "X_train, X_test, y_train, y_test = train_test_split(X_prepared, y, stratify=y, test_size=0.2, random_state=1)\n"
   ]
  },
  {
   "cell_type": "code",
   "execution_count": 143,
   "metadata": {},
   "outputs": [
    {
     "output_type": "execute_result",
     "data": {
      "text/plain": "LogisticRegression(C=1.0, class_weight=None, dual=False, fit_intercept=True,\n                   intercept_scaling=1, l1_ratio=None, max_iter=100,\n                   multi_class='auto', n_jobs=-1, penalty='l2',\n                   random_state=None, solver='lbfgs', tol=0.0001, verbose=0,\n                   warm_start=False)"
     },
     "metadata": {},
     "execution_count": 143
    }
   ],
   "source": [
    "logreg = LogisticRegression(n_jobs=-1)\n",
    "logreg.fit(X_train, y_train)"
   ]
  },
  {
   "cell_type": "code",
   "execution_count": 144,
   "metadata": {},
   "outputs": [],
   "source": [
    "y_pred = logreg.predict(X_test)\n"
   ]
  },
  {
   "cell_type": "code",
   "execution_count": 145,
   "metadata": {},
   "outputs": [
    {
     "output_type": "stream",
     "name": "stdout",
     "text": "precision    recall  f1-score   support\n\n           0       0.71      0.70      0.70      7001\n           1       0.70      0.72      0.71      6995\n\n    accuracy                           0.71     13996\n   macro avg       0.71      0.71      0.71     13996\nweighted avg       0.71      0.71      0.71     13996\n\n"
    }
   ],
   "source": [
    "print(classification_report(y_test, y_pred))"
   ]
  },
  {
   "cell_type": "code",
   "execution_count": 146,
   "metadata": {},
   "outputs": [
    {
     "output_type": "stream",
     "name": "stdout",
     "text": "[[4874 2127]\n [1975 5020]]\n"
    }
   ],
   "source": [
    "from sklearn.metrics import confusion_matrix\n",
    "confusion_matrix = confusion_matrix(y_test, y_pred)\n",
    "print(confusion_matrix)"
   ]
  },
  {
   "cell_type": "code",
   "execution_count": 147,
   "metadata": {},
   "outputs": [
    {
     "output_type": "display_data",
     "data": {
      "text/plain": "<Figure size 1440x360 with 3 Axes>",
      "image/svg+xml": "<?xml version=\"1.0\" encoding=\"utf-8\" standalone=\"no\"?>\r\n<!DOCTYPE svg PUBLIC \"-//W3C//DTD SVG 1.1//EN\"\r\n  \"http://www.w3.org/Graphics/SVG/1.1/DTD/svg11.dtd\">\r\n<!-- Created with matplotlib (https://matplotlib.org/) -->\r\n<svg height=\"335.433625pt\" version=\"1.1\" viewBox=\"0 0 1025.358068 335.433625\" width=\"1025.358068pt\" xmlns=\"http://www.w3.org/2000/svg\" xmlns:xlink=\"http://www.w3.org/1999/xlink\">\r\n <defs>\r\n  <style type=\"text/css\">\r\n*{stroke-linecap:butt;stroke-linejoin:round;}\r\n  </style>\r\n </defs>\r\n <g id=\"figure_1\">\r\n  <g id=\"patch_1\">\r\n   <path d=\"M 0 335.433625 \r\nL 1025.358068 335.433625 \r\nL 1025.358068 0 \r\nL 0 0 \r\nz\r\n\" style=\"fill:#ffffff;\"/>\r\n  </g>\r\n  <g id=\"axes_1\">\r\n   <g id=\"patch_2\">\r\n    <path d=\"M 36.17625 295.94175 \r\nL 307.97625 295.94175 \r\nL 307.97625 24.14175 \r\nL 36.17625 24.14175 \r\nz\r\n\" style=\"fill:#e5e5e5;\"/>\r\n   </g>\r\n   <g clip-path=\"url(#p17f9cfc14f)\">\r\n    <image height=\"272\" id=\"image1457a407a8\" transform=\"scale(1 -1)translate(0 -272)\" width=\"272\" x=\"36.17625\" xlink:href=\"data:image/png;base64,\r\niVBORw0KGgoAAAANSUhEUgAAARAAAAEQCAYAAAB4CisVAAAABHNCSVQICAgIfAhkiAAAA3RJREFUeJzt1jENAkEARFEWFbjABC0dIrB4LnBAQYKNQ8E1v9kleU/BVD8zbuOxn+DA9n3NnsDCzrMHAP9LQIBMQIBMQIBMQIBMQIBMQIBMQIBMQIBMQIBMQIBMQIBMQIBMQIBMQIBMQIBMQIBMQIBMQIBMQIBMQIBMQIBMQIBMQIBMQIBMQIBMQIBMQIBMQIBMQIBMQIBMQIBMQIBMQIBMQIBMQIBMQIBMQIBMQIBMQIBMQIBMQIBMQIBMQIBMQIBMQIBMQIBMQIBMQIBMQIBMQIBMQIBMQIBMQIBMQIBMQIBMQIBMQIBMQIBMQIBMQIBMQIBMQIBMQIBMQIBMQIBMQIBMQIBMQIBMQIBMQIBMQIBMQIBMQIBMQIBMQIBMQIBMQIBMQIBMQIBMQIBMQIBMQIBMQIBMQIBMQIBMQIBMQIBMQIBMQIBMQIBMQIBMQIBMQIBMQIBMQIBMQIBMQIBMQIBMQIBMQIBMQIBMQIBMQIBMQIBMQIBMQIBMQIBMQIBMQIBMQIBMQIBMQIBMQIBMQIBMQIBMQIBMQIBMQIBMQIBMQIBMQIBMQIBMQIBMQIBMQIBMQIBMQIBMQIBMQIBMQIBMQIBMQIBMQIBMQIBsvD+XffYI1vW83mdPYGEeCJAJCJAJCJAJCJAJCJAJCJAJCJAJCJAJCJAJCJAJCJAJCJAJCJAJCJAJCJAJCJAJCJAJCJAJCJAJCJAJCJAJCJAJCJAJCJAJCJAJCJAJCJAJCJAJCJAJCJAJCJAJCJAJCJAJCJAJCJAJCJAJCJAJCJAJCJAJCJAJCJAJCJAJCJAJCJAJCJAJCJAJCJAJCJAJCJAJCJAJCJAJCJAJCJAJCJAJCJAJCJAJCJAJCJAJCJAJCJAJCJAJCJAJCJAJCJAJCJAJCJAJCJAJCJAJCJAJCJAJCJAJCJAJCJAJCJAJCJAJCJAJCJAJCJAJCJAJCJAJCJAJCJAJCJAJCJAJCJAJCJAJCJAJCJAJCJAJCJAJCJAJCJAJCJAJCJAJCJAJCJAJCJAJCJAJCJAJCJAJCJAJCJAJCJAJCJAJCJAJCJAJCJAJCJAJCJAJCJAJCJAJCJAJCJAJCJAJCJAJCJAJCJAJCJAJCJAJCJAJCJAJCJAJCJAJCJAJCJAJCJAJCJAJCJAJCJAJCJAJCJAJCJAJCJAJCJAJCJD9APHHCeM0aYLhAAAAAElFTkSuQmCC\" y=\"-23.94175\"/>\r\n   </g>\r\n   <g id=\"matplotlib.axis_1\">\r\n    <g id=\"xtick_1\">\r\n     <g id=\"line2d_1\">\r\n      <path clip-path=\"url(#p17f9cfc14f)\" d=\"M 104.12625 295.94175 \r\nL 104.12625 24.14175 \r\n\" style=\"fill:none;stroke:#ffffff;stroke-linecap:square;stroke-width:0.8;\"/>\r\n     </g>\r\n     <g id=\"line2d_2\">\r\n      <defs>\r\n       <path d=\"M 0 0 \r\nL 0 3.5 \r\n\" id=\"m84a6104e00\" style=\"stroke:#555555;stroke-width:0.8;\"/>\r\n      </defs>\r\n      <g>\r\n       <use style=\"fill:#555555;stroke:#555555;stroke-width:0.8;\" x=\"104.12625\" xlink:href=\"#m84a6104e00\" y=\"295.94175\"/>\r\n      </g>\r\n     </g>\r\n     <g id=\"text_1\">\r\n      <!-- 0 -->\r\n      <defs>\r\n       <path d=\"M 31.78125 66.40625 \r\nQ 24.171875 66.40625 20.328125 58.90625 \r\nQ 16.5 51.421875 16.5 36.375 \r\nQ 16.5 21.390625 20.328125 13.890625 \r\nQ 24.171875 6.390625 31.78125 6.390625 \r\nQ 39.453125 6.390625 43.28125 13.890625 \r\nQ 47.125 21.390625 47.125 36.375 \r\nQ 47.125 51.421875 43.28125 58.90625 \r\nQ 39.453125 66.40625 31.78125 66.40625 \r\nz\r\nM 31.78125 74.21875 \r\nQ 44.046875 74.21875 50.515625 64.515625 \r\nQ 56.984375 54.828125 56.984375 36.375 \r\nQ 56.984375 17.96875 50.515625 8.265625 \r\nQ 44.046875 -1.421875 31.78125 -1.421875 \r\nQ 19.53125 -1.421875 13.0625 8.265625 \r\nQ 6.59375 17.96875 6.59375 36.375 \r\nQ 6.59375 54.828125 13.0625 64.515625 \r\nQ 19.53125 74.21875 31.78125 74.21875 \r\nz\r\n\" id=\"DejaVuSans-48\"/>\r\n      </defs>\r\n      <g style=\"fill:#555555;\" transform=\"translate(100.945 310.540188)scale(0.1 -0.1)\">\r\n       <use xlink:href=\"#DejaVuSans-48\"/>\r\n      </g>\r\n     </g>\r\n    </g>\r\n    <g id=\"xtick_2\">\r\n     <g id=\"line2d_3\">\r\n      <path clip-path=\"url(#p17f9cfc14f)\" d=\"M 240.02625 295.94175 \r\nL 240.02625 24.14175 \r\n\" style=\"fill:none;stroke:#ffffff;stroke-linecap:square;stroke-width:0.8;\"/>\r\n     </g>\r\n     <g id=\"line2d_4\">\r\n      <g>\r\n       <use style=\"fill:#555555;stroke:#555555;stroke-width:0.8;\" x=\"240.02625\" xlink:href=\"#m84a6104e00\" y=\"295.94175\"/>\r\n      </g>\r\n     </g>\r\n     <g id=\"text_2\">\r\n      <!-- 1 -->\r\n      <defs>\r\n       <path d=\"M 12.40625 8.296875 \r\nL 28.515625 8.296875 \r\nL 28.515625 63.921875 \r\nL 10.984375 60.40625 \r\nL 10.984375 69.390625 \r\nL 28.421875 72.90625 \r\nL 38.28125 72.90625 \r\nL 38.28125 8.296875 \r\nL 54.390625 8.296875 \r\nL 54.390625 0 \r\nL 12.40625 0 \r\nz\r\n\" id=\"DejaVuSans-49\"/>\r\n      </defs>\r\n      <g style=\"fill:#555555;\" transform=\"translate(236.845 310.540188)scale(0.1 -0.1)\">\r\n       <use xlink:href=\"#DejaVuSans-49\"/>\r\n      </g>\r\n     </g>\r\n    </g>\r\n    <g id=\"text_3\">\r\n     <!-- Predicted label -->\r\n     <defs>\r\n      <path d=\"M 19.671875 64.796875 \r\nL 19.671875 37.40625 \r\nL 32.078125 37.40625 \r\nQ 38.96875 37.40625 42.71875 40.96875 \r\nQ 46.484375 44.53125 46.484375 51.125 \r\nQ 46.484375 57.671875 42.71875 61.234375 \r\nQ 38.96875 64.796875 32.078125 64.796875 \r\nz\r\nM 9.8125 72.90625 \r\nL 32.078125 72.90625 \r\nQ 44.34375 72.90625 50.609375 67.359375 \r\nQ 56.890625 61.8125 56.890625 51.125 \r\nQ 56.890625 40.328125 50.609375 34.8125 \r\nQ 44.34375 29.296875 32.078125 29.296875 \r\nL 19.671875 29.296875 \r\nL 19.671875 0 \r\nL 9.8125 0 \r\nz\r\n\" id=\"DejaVuSans-80\"/>\r\n      <path d=\"M 41.109375 46.296875 \r\nQ 39.59375 47.171875 37.8125 47.578125 \r\nQ 36.03125 48 33.890625 48 \r\nQ 26.265625 48 22.1875 43.046875 \r\nQ 18.109375 38.09375 18.109375 28.8125 \r\nL 18.109375 0 \r\nL 9.078125 0 \r\nL 9.078125 54.6875 \r\nL 18.109375 54.6875 \r\nL 18.109375 46.1875 \r\nQ 20.953125 51.171875 25.484375 53.578125 \r\nQ 30.03125 56 36.53125 56 \r\nQ 37.453125 56 38.578125 55.875 \r\nQ 39.703125 55.765625 41.0625 55.515625 \r\nz\r\n\" id=\"DejaVuSans-114\"/>\r\n      <path d=\"M 56.203125 29.59375 \r\nL 56.203125 25.203125 \r\nL 14.890625 25.203125 \r\nQ 15.484375 15.921875 20.484375 11.0625 \r\nQ 25.484375 6.203125 34.421875 6.203125 \r\nQ 39.59375 6.203125 44.453125 7.46875 \r\nQ 49.3125 8.734375 54.109375 11.28125 \r\nL 54.109375 2.78125 \r\nQ 49.265625 0.734375 44.1875 -0.34375 \r\nQ 39.109375 -1.421875 33.890625 -1.421875 \r\nQ 20.796875 -1.421875 13.15625 6.1875 \r\nQ 5.515625 13.8125 5.515625 26.8125 \r\nQ 5.515625 40.234375 12.765625 48.109375 \r\nQ 20.015625 56 32.328125 56 \r\nQ 43.359375 56 49.78125 48.890625 \r\nQ 56.203125 41.796875 56.203125 29.59375 \r\nz\r\nM 47.21875 32.234375 \r\nQ 47.125 39.59375 43.09375 43.984375 \r\nQ 39.0625 48.390625 32.421875 48.390625 \r\nQ 24.90625 48.390625 20.390625 44.140625 \r\nQ 15.875 39.890625 15.1875 32.171875 \r\nz\r\n\" id=\"DejaVuSans-101\"/>\r\n      <path d=\"M 45.40625 46.390625 \r\nL 45.40625 75.984375 \r\nL 54.390625 75.984375 \r\nL 54.390625 0 \r\nL 45.40625 0 \r\nL 45.40625 8.203125 \r\nQ 42.578125 3.328125 38.25 0.953125 \r\nQ 33.9375 -1.421875 27.875 -1.421875 \r\nQ 17.96875 -1.421875 11.734375 6.484375 \r\nQ 5.515625 14.40625 5.515625 27.296875 \r\nQ 5.515625 40.1875 11.734375 48.09375 \r\nQ 17.96875 56 27.875 56 \r\nQ 33.9375 56 38.25 53.625 \r\nQ 42.578125 51.265625 45.40625 46.390625 \r\nz\r\nM 14.796875 27.296875 \r\nQ 14.796875 17.390625 18.875 11.75 \r\nQ 22.953125 6.109375 30.078125 6.109375 \r\nQ 37.203125 6.109375 41.296875 11.75 \r\nQ 45.40625 17.390625 45.40625 27.296875 \r\nQ 45.40625 37.203125 41.296875 42.84375 \r\nQ 37.203125 48.484375 30.078125 48.484375 \r\nQ 22.953125 48.484375 18.875 42.84375 \r\nQ 14.796875 37.203125 14.796875 27.296875 \r\nz\r\n\" id=\"DejaVuSans-100\"/>\r\n      <path d=\"M 9.421875 54.6875 \r\nL 18.40625 54.6875 \r\nL 18.40625 0 \r\nL 9.421875 0 \r\nz\r\nM 9.421875 75.984375 \r\nL 18.40625 75.984375 \r\nL 18.40625 64.59375 \r\nL 9.421875 64.59375 \r\nz\r\n\" id=\"DejaVuSans-105\"/>\r\n      <path d=\"M 48.78125 52.59375 \r\nL 48.78125 44.1875 \r\nQ 44.96875 46.296875 41.140625 47.34375 \r\nQ 37.3125 48.390625 33.40625 48.390625 \r\nQ 24.65625 48.390625 19.8125 42.84375 \r\nQ 14.984375 37.3125 14.984375 27.296875 \r\nQ 14.984375 17.28125 19.8125 11.734375 \r\nQ 24.65625 6.203125 33.40625 6.203125 \r\nQ 37.3125 6.203125 41.140625 7.25 \r\nQ 44.96875 8.296875 48.78125 10.40625 \r\nL 48.78125 2.09375 \r\nQ 45.015625 0.34375 40.984375 -0.53125 \r\nQ 36.96875 -1.421875 32.421875 -1.421875 \r\nQ 20.0625 -1.421875 12.78125 6.34375 \r\nQ 5.515625 14.109375 5.515625 27.296875 \r\nQ 5.515625 40.671875 12.859375 48.328125 \r\nQ 20.21875 56 33.015625 56 \r\nQ 37.15625 56 41.109375 55.140625 \r\nQ 45.0625 54.296875 48.78125 52.59375 \r\nz\r\n\" id=\"DejaVuSans-99\"/>\r\n      <path d=\"M 18.3125 70.21875 \r\nL 18.3125 54.6875 \r\nL 36.8125 54.6875 \r\nL 36.8125 47.703125 \r\nL 18.3125 47.703125 \r\nL 18.3125 18.015625 \r\nQ 18.3125 11.328125 20.140625 9.421875 \r\nQ 21.96875 7.515625 27.59375 7.515625 \r\nL 36.8125 7.515625 \r\nL 36.8125 0 \r\nL 27.59375 0 \r\nQ 17.1875 0 13.234375 3.875 \r\nQ 9.28125 7.765625 9.28125 18.015625 \r\nL 9.28125 47.703125 \r\nL 2.6875 47.703125 \r\nL 2.6875 54.6875 \r\nL 9.28125 54.6875 \r\nL 9.28125 70.21875 \r\nz\r\n\" id=\"DejaVuSans-116\"/>\r\n      <path id=\"DejaVuSans-32\"/>\r\n      <path d=\"M 9.421875 75.984375 \r\nL 18.40625 75.984375 \r\nL 18.40625 0 \r\nL 9.421875 0 \r\nz\r\n\" id=\"DejaVuSans-108\"/>\r\n      <path d=\"M 34.28125 27.484375 \r\nQ 23.390625 27.484375 19.1875 25 \r\nQ 14.984375 22.515625 14.984375 16.5 \r\nQ 14.984375 11.71875 18.140625 8.90625 \r\nQ 21.296875 6.109375 26.703125 6.109375 \r\nQ 34.1875 6.109375 38.703125 11.40625 \r\nQ 43.21875 16.703125 43.21875 25.484375 \r\nL 43.21875 27.484375 \r\nz\r\nM 52.203125 31.203125 \r\nL 52.203125 0 \r\nL 43.21875 0 \r\nL 43.21875 8.296875 \r\nQ 40.140625 3.328125 35.546875 0.953125 \r\nQ 30.953125 -1.421875 24.3125 -1.421875 \r\nQ 15.921875 -1.421875 10.953125 3.296875 \r\nQ 6 8.015625 6 15.921875 \r\nQ 6 25.140625 12.171875 29.828125 \r\nQ 18.359375 34.515625 30.609375 34.515625 \r\nL 43.21875 34.515625 \r\nL 43.21875 35.40625 \r\nQ 43.21875 41.609375 39.140625 45 \r\nQ 35.0625 48.390625 27.6875 48.390625 \r\nQ 23 48.390625 18.546875 47.265625 \r\nQ 14.109375 46.140625 10.015625 43.890625 \r\nL 10.015625 52.203125 \r\nQ 14.9375 54.109375 19.578125 55.046875 \r\nQ 24.21875 56 28.609375 56 \r\nQ 40.484375 56 46.34375 49.84375 \r\nQ 52.203125 43.703125 52.203125 31.203125 \r\nz\r\n\" id=\"DejaVuSans-97\"/>\r\n      <path d=\"M 48.6875 27.296875 \r\nQ 48.6875 37.203125 44.609375 42.84375 \r\nQ 40.53125 48.484375 33.40625 48.484375 \r\nQ 26.265625 48.484375 22.1875 42.84375 \r\nQ 18.109375 37.203125 18.109375 27.296875 \r\nQ 18.109375 17.390625 22.1875 11.75 \r\nQ 26.265625 6.109375 33.40625 6.109375 \r\nQ 40.53125 6.109375 44.609375 11.75 \r\nQ 48.6875 17.390625 48.6875 27.296875 \r\nz\r\nM 18.109375 46.390625 \r\nQ 20.953125 51.265625 25.265625 53.625 \r\nQ 29.59375 56 35.59375 56 \r\nQ 45.5625 56 51.78125 48.09375 \r\nQ 58.015625 40.1875 58.015625 27.296875 \r\nQ 58.015625 14.40625 51.78125 6.484375 \r\nQ 45.5625 -1.421875 35.59375 -1.421875 \r\nQ 29.59375 -1.421875 25.265625 0.953125 \r\nQ 20.953125 3.328125 18.109375 8.203125 \r\nL 18.109375 0 \r\nL 9.078125 0 \r\nL 9.078125 75.984375 \r\nL 18.109375 75.984375 \r\nz\r\n\" id=\"DejaVuSans-98\"/>\r\n     </defs>\r\n     <g style=\"fill:#555555;\" transform=\"translate(127.493437 325.738)scale(0.12 -0.12)\">\r\n      <use xlink:href=\"#DejaVuSans-80\"/>\r\n      <use x=\"58.552734\" xlink:href=\"#DejaVuSans-114\"/>\r\n      <use x=\"97.416016\" xlink:href=\"#DejaVuSans-101\"/>\r\n      <use x=\"158.939453\" xlink:href=\"#DejaVuSans-100\"/>\r\n      <use x=\"222.416016\" xlink:href=\"#DejaVuSans-105\"/>\r\n      <use x=\"250.199219\" xlink:href=\"#DejaVuSans-99\"/>\r\n      <use x=\"305.179688\" xlink:href=\"#DejaVuSans-116\"/>\r\n      <use x=\"344.388672\" xlink:href=\"#DejaVuSans-101\"/>\r\n      <use x=\"405.912109\" xlink:href=\"#DejaVuSans-100\"/>\r\n      <use x=\"469.388672\" xlink:href=\"#DejaVuSans-32\"/>\r\n      <use x=\"501.175781\" xlink:href=\"#DejaVuSans-108\"/>\r\n      <use x=\"528.958984\" xlink:href=\"#DejaVuSans-97\"/>\r\n      <use x=\"590.238281\" xlink:href=\"#DejaVuSans-98\"/>\r\n      <use x=\"653.714844\" xlink:href=\"#DejaVuSans-101\"/>\r\n      <use x=\"715.238281\" xlink:href=\"#DejaVuSans-108\"/>\r\n     </g>\r\n    </g>\r\n   </g>\r\n   <g id=\"matplotlib.axis_2\">\r\n    <g id=\"ytick_1\">\r\n     <g id=\"line2d_5\">\r\n      <path clip-path=\"url(#p17f9cfc14f)\" d=\"M 36.17625 92.09175 \r\nL 307.97625 92.09175 \r\n\" style=\"fill:none;stroke:#ffffff;stroke-linecap:square;stroke-width:0.8;\"/>\r\n     </g>\r\n     <g id=\"line2d_6\">\r\n      <defs>\r\n       <path d=\"M 0 0 \r\nL -3.5 0 \r\n\" id=\"mcea2310dfe\" style=\"stroke:#555555;stroke-width:0.8;\"/>\r\n      </defs>\r\n      <g>\r\n       <use style=\"fill:#555555;stroke:#555555;stroke-width:0.8;\" x=\"36.17625\" xlink:href=\"#mcea2310dfe\" y=\"92.09175\"/>\r\n      </g>\r\n     </g>\r\n     <g id=\"text_4\">\r\n      <!-- 0 -->\r\n      <g style=\"fill:#555555;\" transform=\"translate(22.81375 95.890969)scale(0.1 -0.1)\">\r\n       <use xlink:href=\"#DejaVuSans-48\"/>\r\n      </g>\r\n     </g>\r\n    </g>\r\n    <g id=\"ytick_2\">\r\n     <g id=\"line2d_7\">\r\n      <path clip-path=\"url(#p17f9cfc14f)\" d=\"M 36.17625 227.99175 \r\nL 307.97625 227.99175 \r\n\" style=\"fill:none;stroke:#ffffff;stroke-linecap:square;stroke-width:0.8;\"/>\r\n     </g>\r\n     <g id=\"line2d_8\">\r\n      <g>\r\n       <use style=\"fill:#555555;stroke:#555555;stroke-width:0.8;\" x=\"36.17625\" xlink:href=\"#mcea2310dfe\" y=\"227.99175\"/>\r\n      </g>\r\n     </g>\r\n     <g id=\"text_5\">\r\n      <!-- 1 -->\r\n      <g style=\"fill:#555555;\" transform=\"translate(22.81375 231.790969)scale(0.1 -0.1)\">\r\n       <use xlink:href=\"#DejaVuSans-49\"/>\r\n      </g>\r\n     </g>\r\n    </g>\r\n    <g id=\"text_6\">\r\n     <!-- True label -->\r\n     <defs>\r\n      <path d=\"M -0.296875 72.90625 \r\nL 61.375 72.90625 \r\nL 61.375 64.59375 \r\nL 35.5 64.59375 \r\nL 35.5 0 \r\nL 25.59375 0 \r\nL 25.59375 64.59375 \r\nL -0.296875 64.59375 \r\nz\r\n\" id=\"DejaVuSans-84\"/>\r\n      <path d=\"M 8.5 21.578125 \r\nL 8.5 54.6875 \r\nL 17.484375 54.6875 \r\nL 17.484375 21.921875 \r\nQ 17.484375 14.15625 20.5 10.265625 \r\nQ 23.53125 6.390625 29.59375 6.390625 \r\nQ 36.859375 6.390625 41.078125 11.03125 \r\nQ 45.3125 15.671875 45.3125 23.6875 \r\nL 45.3125 54.6875 \r\nL 54.296875 54.6875 \r\nL 54.296875 0 \r\nL 45.3125 0 \r\nL 45.3125 8.40625 \r\nQ 42.046875 3.421875 37.71875 1 \r\nQ 33.40625 -1.421875 27.6875 -1.421875 \r\nQ 18.265625 -1.421875 13.375 4.4375 \r\nQ 8.5 10.296875 8.5 21.578125 \r\nz\r\nM 31.109375 56 \r\nz\r\n\" id=\"DejaVuSans-117\"/>\r\n     </defs>\r\n     <g style=\"fill:#555555;\" transform=\"translate(16.318125 189.200813)rotate(-90)scale(0.12 -0.12)\">\r\n      <use xlink:href=\"#DejaVuSans-84\"/>\r\n      <use x=\"46.333984\" xlink:href=\"#DejaVuSans-114\"/>\r\n      <use x=\"87.447266\" xlink:href=\"#DejaVuSans-117\"/>\r\n      <use x=\"150.826172\" xlink:href=\"#DejaVuSans-101\"/>\r\n      <use x=\"212.349609\" xlink:href=\"#DejaVuSans-32\"/>\r\n      <use x=\"244.136719\" xlink:href=\"#DejaVuSans-108\"/>\r\n      <use x=\"271.919922\" xlink:href=\"#DejaVuSans-97\"/>\r\n      <use x=\"333.199219\" xlink:href=\"#DejaVuSans-98\"/>\r\n      <use x=\"396.675781\" xlink:href=\"#DejaVuSans-101\"/>\r\n      <use x=\"458.199219\" xlink:href=\"#DejaVuSans-108\"/>\r\n     </g>\r\n    </g>\r\n   </g>\r\n   <g id=\"patch_3\">\r\n    <path d=\"M 36.17625 295.94175 \r\nL 36.17625 24.14175 \r\n\" style=\"fill:none;stroke:#ffffff;stroke-linecap:square;stroke-linejoin:miter;\"/>\r\n   </g>\r\n   <g id=\"patch_4\">\r\n    <path d=\"M 307.97625 295.94175 \r\nL 307.97625 24.14175 \r\n\" style=\"fill:none;stroke:#ffffff;stroke-linecap:square;stroke-linejoin:miter;\"/>\r\n   </g>\r\n   <g id=\"patch_5\">\r\n    <path d=\"M 36.17625 295.94175 \r\nL 307.97625 295.94175 \r\n\" style=\"fill:none;stroke:#ffffff;stroke-linecap:square;stroke-linejoin:miter;\"/>\r\n   </g>\r\n   <g id=\"patch_6\">\r\n    <path d=\"M 36.17625 24.14175 \r\nL 307.97625 24.14175 \r\n\" style=\"fill:none;stroke:#ffffff;stroke-linecap:square;stroke-linejoin:miter;\"/>\r\n   </g>\r\n   <g id=\"text_7\">\r\n    <!-- 0.7 -->\r\n    <defs>\r\n     <path d=\"M 10.6875 12.40625 \r\nL 21 12.40625 \r\nL 21 0 \r\nL 10.6875 0 \r\nz\r\n\" id=\"DejaVuSans-46\"/>\r\n     <path d=\"M 8.203125 72.90625 \r\nL 55.078125 72.90625 \r\nL 55.078125 68.703125 \r\nL 28.609375 0 \r\nL 18.3125 0 \r\nL 43.21875 64.59375 \r\nL 8.203125 64.59375 \r\nz\r\n\" id=\"DejaVuSans-55\"/>\r\n    </defs>\r\n    <g style=\"fill:#440154;\" transform=\"translate(96.174688 94.851125)scale(0.1 -0.1)\">\r\n     <use xlink:href=\"#DejaVuSans-48\"/>\r\n     <use x=\"63.623047\" xlink:href=\"#DejaVuSans-46\"/>\r\n     <use x=\"95.410156\" xlink:href=\"#DejaVuSans-55\"/>\r\n    </g>\r\n   </g>\r\n   <g id=\"text_8\">\r\n    <!-- 0.3 -->\r\n    <defs>\r\n     <path d=\"M 40.578125 39.3125 \r\nQ 47.65625 37.796875 51.625 33 \r\nQ 55.609375 28.21875 55.609375 21.1875 \r\nQ 55.609375 10.40625 48.1875 4.484375 \r\nQ 40.765625 -1.421875 27.09375 -1.421875 \r\nQ 22.515625 -1.421875 17.65625 -0.515625 \r\nQ 12.796875 0.390625 7.625 2.203125 \r\nL 7.625 11.71875 \r\nQ 11.71875 9.328125 16.59375 8.109375 \r\nQ 21.484375 6.890625 26.8125 6.890625 \r\nQ 36.078125 6.890625 40.9375 10.546875 \r\nQ 45.796875 14.203125 45.796875 21.1875 \r\nQ 45.796875 27.640625 41.28125 31.265625 \r\nQ 36.765625 34.90625 28.71875 34.90625 \r\nL 20.21875 34.90625 \r\nL 20.21875 43.015625 \r\nL 29.109375 43.015625 \r\nQ 36.375 43.015625 40.234375 45.921875 \r\nQ 44.09375 48.828125 44.09375 54.296875 \r\nQ 44.09375 59.90625 40.109375 62.90625 \r\nQ 36.140625 65.921875 28.71875 65.921875 \r\nQ 24.65625 65.921875 20.015625 65.03125 \r\nQ 15.375 64.15625 9.8125 62.3125 \r\nL 9.8125 71.09375 \r\nQ 15.4375 72.65625 20.34375 73.4375 \r\nQ 25.25 74.21875 29.59375 74.21875 \r\nQ 40.828125 74.21875 47.359375 69.109375 \r\nQ 53.90625 64.015625 53.90625 55.328125 \r\nQ 53.90625 49.265625 50.4375 45.09375 \r\nQ 46.96875 40.921875 40.578125 39.3125 \r\nz\r\n\" id=\"DejaVuSans-51\"/>\r\n    </defs>\r\n    <g style=\"fill:#fde725;\" transform=\"translate(232.074687 94.851125)scale(0.1 -0.1)\">\r\n     <use xlink:href=\"#DejaVuSans-48\"/>\r\n     <use x=\"63.623047\" xlink:href=\"#DejaVuSans-46\"/>\r\n     <use x=\"95.410156\" xlink:href=\"#DejaVuSans-51\"/>\r\n    </g>\r\n   </g>\r\n   <g id=\"text_9\">\r\n    <!-- 0.28 -->\r\n    <defs>\r\n     <path d=\"M 19.1875 8.296875 \r\nL 53.609375 8.296875 \r\nL 53.609375 0 \r\nL 7.328125 0 \r\nL 7.328125 8.296875 \r\nQ 12.9375 14.109375 22.625 23.890625 \r\nQ 32.328125 33.6875 34.8125 36.53125 \r\nQ 39.546875 41.84375 41.421875 45.53125 \r\nQ 43.3125 49.21875 43.3125 52.78125 \r\nQ 43.3125 58.59375 39.234375 62.25 \r\nQ 35.15625 65.921875 28.609375 65.921875 \r\nQ 23.96875 65.921875 18.8125 64.3125 \r\nQ 13.671875 62.703125 7.8125 59.421875 \r\nL 7.8125 69.390625 \r\nQ 13.765625 71.78125 18.9375 73 \r\nQ 24.125 74.21875 28.421875 74.21875 \r\nQ 39.75 74.21875 46.484375 68.546875 \r\nQ 53.21875 62.890625 53.21875 53.421875 \r\nQ 53.21875 48.921875 51.53125 44.890625 \r\nQ 49.859375 40.875 45.40625 35.40625 \r\nQ 44.1875 33.984375 37.640625 27.21875 \r\nQ 31.109375 20.453125 19.1875 8.296875 \r\nz\r\n\" id=\"DejaVuSans-50\"/>\r\n     <path d=\"M 31.78125 34.625 \r\nQ 24.75 34.625 20.71875 30.859375 \r\nQ 16.703125 27.09375 16.703125 20.515625 \r\nQ 16.703125 13.921875 20.71875 10.15625 \r\nQ 24.75 6.390625 31.78125 6.390625 \r\nQ 38.8125 6.390625 42.859375 10.171875 \r\nQ 46.921875 13.96875 46.921875 20.515625 \r\nQ 46.921875 27.09375 42.890625 30.859375 \r\nQ 38.875 34.625 31.78125 34.625 \r\nz\r\nM 21.921875 38.8125 \r\nQ 15.578125 40.375 12.03125 44.71875 \r\nQ 8.5 49.078125 8.5 55.328125 \r\nQ 8.5 64.0625 14.71875 69.140625 \r\nQ 20.953125 74.21875 31.78125 74.21875 \r\nQ 42.671875 74.21875 48.875 69.140625 \r\nQ 55.078125 64.0625 55.078125 55.328125 \r\nQ 55.078125 49.078125 51.53125 44.71875 \r\nQ 48 40.375 41.703125 38.8125 \r\nQ 48.828125 37.15625 52.796875 32.3125 \r\nQ 56.78125 27.484375 56.78125 20.515625 \r\nQ 56.78125 9.90625 50.3125 4.234375 \r\nQ 43.84375 -1.421875 31.78125 -1.421875 \r\nQ 19.734375 -1.421875 13.25 4.234375 \r\nQ 6.78125 9.90625 6.78125 20.515625 \r\nQ 6.78125 27.484375 10.78125 32.3125 \r\nQ 14.796875 37.15625 21.921875 38.8125 \r\nz\r\nM 18.3125 54.390625 \r\nQ 18.3125 48.734375 21.84375 45.5625 \r\nQ 25.390625 42.390625 31.78125 42.390625 \r\nQ 38.140625 42.390625 41.71875 45.5625 \r\nQ 45.3125 48.734375 45.3125 54.390625 \r\nQ 45.3125 60.0625 41.71875 63.234375 \r\nQ 38.140625 66.40625 31.78125 66.40625 \r\nQ 25.390625 66.40625 21.84375 63.234375 \r\nQ 18.3125 60.0625 18.3125 54.390625 \r\nz\r\n\" id=\"DejaVuSans-56\"/>\r\n    </defs>\r\n    <g style=\"fill:#fde725;\" transform=\"translate(92.993438 230.751125)scale(0.1 -0.1)\">\r\n     <use xlink:href=\"#DejaVuSans-48\"/>\r\n     <use x=\"63.623047\" xlink:href=\"#DejaVuSans-46\"/>\r\n     <use x=\"95.410156\" xlink:href=\"#DejaVuSans-50\"/>\r\n     <use x=\"159.033203\" xlink:href=\"#DejaVuSans-56\"/>\r\n    </g>\r\n   </g>\r\n   <g id=\"text_10\">\r\n    <!-- 0.72 -->\r\n    <g style=\"fill:#440154;\" transform=\"translate(228.893437 230.751125)scale(0.1 -0.1)\">\r\n     <use xlink:href=\"#DejaVuSans-48\"/>\r\n     <use x=\"63.623047\" xlink:href=\"#DejaVuSans-46\"/>\r\n     <use x=\"95.410156\" xlink:href=\"#DejaVuSans-55\"/>\r\n     <use x=\"159.033203\" xlink:href=\"#DejaVuSans-50\"/>\r\n    </g>\r\n   </g>\r\n   <g id=\"text_11\">\r\n    <!-- Confusion Matrix -->\r\n    <defs>\r\n     <path d=\"M 64.40625 67.28125 \r\nL 64.40625 56.890625 \r\nQ 59.421875 61.53125 53.78125 63.8125 \r\nQ 48.140625 66.109375 41.796875 66.109375 \r\nQ 29.296875 66.109375 22.65625 58.46875 \r\nQ 16.015625 50.828125 16.015625 36.375 \r\nQ 16.015625 21.96875 22.65625 14.328125 \r\nQ 29.296875 6.6875 41.796875 6.6875 \r\nQ 48.140625 6.6875 53.78125 8.984375 \r\nQ 59.421875 11.28125 64.40625 15.921875 \r\nL 64.40625 5.609375 \r\nQ 59.234375 2.09375 53.4375 0.328125 \r\nQ 47.65625 -1.421875 41.21875 -1.421875 \r\nQ 24.65625 -1.421875 15.125 8.703125 \r\nQ 5.609375 18.84375 5.609375 36.375 \r\nQ 5.609375 53.953125 15.125 64.078125 \r\nQ 24.65625 74.21875 41.21875 74.21875 \r\nQ 47.75 74.21875 53.53125 72.484375 \r\nQ 59.328125 70.75 64.40625 67.28125 \r\nz\r\n\" id=\"DejaVuSans-67\"/>\r\n     <path d=\"M 30.609375 48.390625 \r\nQ 23.390625 48.390625 19.1875 42.75 \r\nQ 14.984375 37.109375 14.984375 27.296875 \r\nQ 14.984375 17.484375 19.15625 11.84375 \r\nQ 23.34375 6.203125 30.609375 6.203125 \r\nQ 37.796875 6.203125 41.984375 11.859375 \r\nQ 46.1875 17.53125 46.1875 27.296875 \r\nQ 46.1875 37.015625 41.984375 42.703125 \r\nQ 37.796875 48.390625 30.609375 48.390625 \r\nz\r\nM 30.609375 56 \r\nQ 42.328125 56 49.015625 48.375 \r\nQ 55.71875 40.765625 55.71875 27.296875 \r\nQ 55.71875 13.875 49.015625 6.21875 \r\nQ 42.328125 -1.421875 30.609375 -1.421875 \r\nQ 18.84375 -1.421875 12.171875 6.21875 \r\nQ 5.515625 13.875 5.515625 27.296875 \r\nQ 5.515625 40.765625 12.171875 48.375 \r\nQ 18.84375 56 30.609375 56 \r\nz\r\n\" id=\"DejaVuSans-111\"/>\r\n     <path d=\"M 54.890625 33.015625 \r\nL 54.890625 0 \r\nL 45.90625 0 \r\nL 45.90625 32.71875 \r\nQ 45.90625 40.484375 42.875 44.328125 \r\nQ 39.84375 48.1875 33.796875 48.1875 \r\nQ 26.515625 48.1875 22.3125 43.546875 \r\nQ 18.109375 38.921875 18.109375 30.90625 \r\nL 18.109375 0 \r\nL 9.078125 0 \r\nL 9.078125 54.6875 \r\nL 18.109375 54.6875 \r\nL 18.109375 46.1875 \r\nQ 21.34375 51.125 25.703125 53.5625 \r\nQ 30.078125 56 35.796875 56 \r\nQ 45.21875 56 50.046875 50.171875 \r\nQ 54.890625 44.34375 54.890625 33.015625 \r\nz\r\n\" id=\"DejaVuSans-110\"/>\r\n     <path d=\"M 37.109375 75.984375 \r\nL 37.109375 68.5 \r\nL 28.515625 68.5 \r\nQ 23.6875 68.5 21.796875 66.546875 \r\nQ 19.921875 64.59375 19.921875 59.515625 \r\nL 19.921875 54.6875 \r\nL 34.71875 54.6875 \r\nL 34.71875 47.703125 \r\nL 19.921875 47.703125 \r\nL 19.921875 0 \r\nL 10.890625 0 \r\nL 10.890625 47.703125 \r\nL 2.296875 47.703125 \r\nL 2.296875 54.6875 \r\nL 10.890625 54.6875 \r\nL 10.890625 58.5 \r\nQ 10.890625 67.625 15.140625 71.796875 \r\nQ 19.390625 75.984375 28.609375 75.984375 \r\nz\r\n\" id=\"DejaVuSans-102\"/>\r\n     <path d=\"M 44.28125 53.078125 \r\nL 44.28125 44.578125 \r\nQ 40.484375 46.53125 36.375 47.5 \r\nQ 32.28125 48.484375 27.875 48.484375 \r\nQ 21.1875 48.484375 17.84375 46.4375 \r\nQ 14.5 44.390625 14.5 40.28125 \r\nQ 14.5 37.15625 16.890625 35.375 \r\nQ 19.28125 33.59375 26.515625 31.984375 \r\nL 29.59375 31.296875 \r\nQ 39.15625 29.25 43.1875 25.515625 \r\nQ 47.21875 21.78125 47.21875 15.09375 \r\nQ 47.21875 7.46875 41.1875 3.015625 \r\nQ 35.15625 -1.421875 24.609375 -1.421875 \r\nQ 20.21875 -1.421875 15.453125 -0.5625 \r\nQ 10.6875 0.296875 5.421875 2 \r\nL 5.421875 11.28125 \r\nQ 10.40625 8.6875 15.234375 7.390625 \r\nQ 20.0625 6.109375 24.8125 6.109375 \r\nQ 31.15625 6.109375 34.5625 8.28125 \r\nQ 37.984375 10.453125 37.984375 14.40625 \r\nQ 37.984375 18.0625 35.515625 20.015625 \r\nQ 33.0625 21.96875 24.703125 23.78125 \r\nL 21.578125 24.515625 \r\nQ 13.234375 26.265625 9.515625 29.90625 \r\nQ 5.8125 33.546875 5.8125 39.890625 \r\nQ 5.8125 47.609375 11.28125 51.796875 \r\nQ 16.75 56 26.8125 56 \r\nQ 31.78125 56 36.171875 55.265625 \r\nQ 40.578125 54.546875 44.28125 53.078125 \r\nz\r\n\" id=\"DejaVuSans-115\"/>\r\n     <path d=\"M 9.8125 72.90625 \r\nL 24.515625 72.90625 \r\nL 43.109375 23.296875 \r\nL 61.8125 72.90625 \r\nL 76.515625 72.90625 \r\nL 76.515625 0 \r\nL 66.890625 0 \r\nL 66.890625 64.015625 \r\nL 48.09375 14.015625 \r\nL 38.1875 14.015625 \r\nL 19.390625 64.015625 \r\nL 19.390625 0 \r\nL 9.8125 0 \r\nz\r\n\" id=\"DejaVuSans-77\"/>\r\n     <path d=\"M 54.890625 54.6875 \r\nL 35.109375 28.078125 \r\nL 55.90625 0 \r\nL 45.3125 0 \r\nL 29.390625 21.484375 \r\nL 13.484375 0 \r\nL 2.875 0 \r\nL 24.125 28.609375 \r\nL 4.6875 54.6875 \r\nL 15.28125 54.6875 \r\nL 29.78125 35.203125 \r\nL 44.28125 54.6875 \r\nz\r\n\" id=\"DejaVuSans-120\"/>\r\n    </defs>\r\n    <g transform=\"translate(111.306 18.14175)scale(0.144 -0.144)\">\r\n     <use xlink:href=\"#DejaVuSans-67\"/>\r\n     <use x=\"69.824219\" xlink:href=\"#DejaVuSans-111\"/>\r\n     <use x=\"131.005859\" xlink:href=\"#DejaVuSans-110\"/>\r\n     <use x=\"194.384766\" xlink:href=\"#DejaVuSans-102\"/>\r\n     <use x=\"229.589844\" xlink:href=\"#DejaVuSans-117\"/>\r\n     <use x=\"292.96875\" xlink:href=\"#DejaVuSans-115\"/>\r\n     <use x=\"345.068359\" xlink:href=\"#DejaVuSans-105\"/>\r\n     <use x=\"372.851562\" xlink:href=\"#DejaVuSans-111\"/>\r\n     <use x=\"434.033203\" xlink:href=\"#DejaVuSans-110\"/>\r\n     <use x=\"497.412109\" xlink:href=\"#DejaVuSans-32\"/>\r\n     <use x=\"529.199219\" xlink:href=\"#DejaVuSans-77\"/>\r\n     <use x=\"615.478516\" xlink:href=\"#DejaVuSans-97\"/>\r\n     <use x=\"676.757812\" xlink:href=\"#DejaVuSans-116\"/>\r\n     <use x=\"715.966797\" xlink:href=\"#DejaVuSans-114\"/>\r\n     <use x=\"757.080078\" xlink:href=\"#DejaVuSans-105\"/>\r\n     <use x=\"784.863281\" xlink:href=\"#DejaVuSans-120\"/>\r\n    </g>\r\n   </g>\r\n  </g>\r\n  <g id=\"axes_2\">\r\n   <g id=\"patch_7\">\r\n    <path d=\"M 510.885341 295.94175 \r\nL 1018.158068 295.94175 \r\nL 1018.158068 24.14175 \r\nL 510.885341 24.14175 \r\nz\r\n\" style=\"fill:#e5e5e5;\"/>\r\n   </g>\r\n   <g id=\"matplotlib.axis_3\">\r\n    <g id=\"xtick_3\">\r\n     <g id=\"line2d_9\">\r\n      <path clip-path=\"url(#pa56fdb7e31)\" d=\"M 533.943192 295.94175 \r\nL 533.943192 24.14175 \r\n\" style=\"fill:none;stroke:#ffffff;stroke-linecap:square;stroke-width:0.8;\"/>\r\n     </g>\r\n     <g id=\"line2d_10\">\r\n      <g>\r\n       <use style=\"fill:#555555;stroke:#555555;stroke-width:0.8;\" x=\"533.943192\" xlink:href=\"#m84a6104e00\" y=\"295.94175\"/>\r\n      </g>\r\n     </g>\r\n     <g id=\"text_12\">\r\n      <!-- 0.0 -->\r\n      <g style=\"fill:#555555;\" transform=\"translate(525.99163 310.540188)scale(0.1 -0.1)\">\r\n       <use xlink:href=\"#DejaVuSans-48\"/>\r\n       <use x=\"63.623047\" xlink:href=\"#DejaVuSans-46\"/>\r\n       <use x=\"95.410156\" xlink:href=\"#DejaVuSans-48\"/>\r\n      </g>\r\n     </g>\r\n    </g>\r\n    <g id=\"xtick_4\">\r\n     <g id=\"line2d_11\">\r\n      <path clip-path=\"url(#pa56fdb7e31)\" d=\"M 626.174597 295.94175 \r\nL 626.174597 24.14175 \r\n\" style=\"fill:none;stroke:#ffffff;stroke-linecap:square;stroke-width:0.8;\"/>\r\n     </g>\r\n     <g id=\"line2d_12\">\r\n      <g>\r\n       <use style=\"fill:#555555;stroke:#555555;stroke-width:0.8;\" x=\"626.174597\" xlink:href=\"#m84a6104e00\" y=\"295.94175\"/>\r\n      </g>\r\n     </g>\r\n     <g id=\"text_13\">\r\n      <!-- 0.2 -->\r\n      <g style=\"fill:#555555;\" transform=\"translate(618.223035 310.540188)scale(0.1 -0.1)\">\r\n       <use xlink:href=\"#DejaVuSans-48\"/>\r\n       <use x=\"63.623047\" xlink:href=\"#DejaVuSans-46\"/>\r\n       <use x=\"95.410156\" xlink:href=\"#DejaVuSans-50\"/>\r\n      </g>\r\n     </g>\r\n    </g>\r\n    <g id=\"xtick_5\">\r\n     <g id=\"line2d_13\">\r\n      <path clip-path=\"url(#pa56fdb7e31)\" d=\"M 718.406002 295.94175 \r\nL 718.406002 24.14175 \r\n\" style=\"fill:none;stroke:#ffffff;stroke-linecap:square;stroke-width:0.8;\"/>\r\n     </g>\r\n     <g id=\"line2d_14\">\r\n      <g>\r\n       <use style=\"fill:#555555;stroke:#555555;stroke-width:0.8;\" x=\"718.406002\" xlink:href=\"#m84a6104e00\" y=\"295.94175\"/>\r\n      </g>\r\n     </g>\r\n     <g id=\"text_14\">\r\n      <!-- 0.4 -->\r\n      <defs>\r\n       <path d=\"M 37.796875 64.3125 \r\nL 12.890625 25.390625 \r\nL 37.796875 25.390625 \r\nz\r\nM 35.203125 72.90625 \r\nL 47.609375 72.90625 \r\nL 47.609375 25.390625 \r\nL 58.015625 25.390625 \r\nL 58.015625 17.1875 \r\nL 47.609375 17.1875 \r\nL 47.609375 0 \r\nL 37.796875 0 \r\nL 37.796875 17.1875 \r\nL 4.890625 17.1875 \r\nL 4.890625 26.703125 \r\nz\r\n\" id=\"DejaVuSans-52\"/>\r\n      </defs>\r\n      <g style=\"fill:#555555;\" transform=\"translate(710.45444 310.540188)scale(0.1 -0.1)\">\r\n       <use xlink:href=\"#DejaVuSans-48\"/>\r\n       <use x=\"63.623047\" xlink:href=\"#DejaVuSans-46\"/>\r\n       <use x=\"95.410156\" xlink:href=\"#DejaVuSans-52\"/>\r\n      </g>\r\n     </g>\r\n    </g>\r\n    <g id=\"xtick_6\">\r\n     <g id=\"line2d_15\">\r\n      <path clip-path=\"url(#pa56fdb7e31)\" d=\"M 810.637407 295.94175 \r\nL 810.637407 24.14175 \r\n\" style=\"fill:none;stroke:#ffffff;stroke-linecap:square;stroke-width:0.8;\"/>\r\n     </g>\r\n     <g id=\"line2d_16\">\r\n      <g>\r\n       <use style=\"fill:#555555;stroke:#555555;stroke-width:0.8;\" x=\"810.637407\" xlink:href=\"#m84a6104e00\" y=\"295.94175\"/>\r\n      </g>\r\n     </g>\r\n     <g id=\"text_15\">\r\n      <!-- 0.6 -->\r\n      <defs>\r\n       <path d=\"M 33.015625 40.375 \r\nQ 26.375 40.375 22.484375 35.828125 \r\nQ 18.609375 31.296875 18.609375 23.390625 \r\nQ 18.609375 15.53125 22.484375 10.953125 \r\nQ 26.375 6.390625 33.015625 6.390625 \r\nQ 39.65625 6.390625 43.53125 10.953125 \r\nQ 47.40625 15.53125 47.40625 23.390625 \r\nQ 47.40625 31.296875 43.53125 35.828125 \r\nQ 39.65625 40.375 33.015625 40.375 \r\nz\r\nM 52.59375 71.296875 \r\nL 52.59375 62.3125 \r\nQ 48.875 64.0625 45.09375 64.984375 \r\nQ 41.3125 65.921875 37.59375 65.921875 \r\nQ 27.828125 65.921875 22.671875 59.328125 \r\nQ 17.53125 52.734375 16.796875 39.40625 \r\nQ 19.671875 43.65625 24.015625 45.921875 \r\nQ 28.375 48.1875 33.59375 48.1875 \r\nQ 44.578125 48.1875 50.953125 41.515625 \r\nQ 57.328125 34.859375 57.328125 23.390625 \r\nQ 57.328125 12.15625 50.6875 5.359375 \r\nQ 44.046875 -1.421875 33.015625 -1.421875 \r\nQ 20.359375 -1.421875 13.671875 8.265625 \r\nQ 6.984375 17.96875 6.984375 36.375 \r\nQ 6.984375 53.65625 15.1875 63.9375 \r\nQ 23.390625 74.21875 37.203125 74.21875 \r\nQ 40.921875 74.21875 44.703125 73.484375 \r\nQ 48.484375 72.75 52.59375 71.296875 \r\nz\r\n\" id=\"DejaVuSans-54\"/>\r\n      </defs>\r\n      <g style=\"fill:#555555;\" transform=\"translate(802.685845 310.540188)scale(0.1 -0.1)\">\r\n       <use xlink:href=\"#DejaVuSans-48\"/>\r\n       <use x=\"63.623047\" xlink:href=\"#DejaVuSans-46\"/>\r\n       <use x=\"95.410156\" xlink:href=\"#DejaVuSans-54\"/>\r\n      </g>\r\n     </g>\r\n    </g>\r\n    <g id=\"xtick_7\">\r\n     <g id=\"line2d_17\">\r\n      <path clip-path=\"url(#pa56fdb7e31)\" d=\"M 902.868812 295.94175 \r\nL 902.868812 24.14175 \r\n\" style=\"fill:none;stroke:#ffffff;stroke-linecap:square;stroke-width:0.8;\"/>\r\n     </g>\r\n     <g id=\"line2d_18\">\r\n      <g>\r\n       <use style=\"fill:#555555;stroke:#555555;stroke-width:0.8;\" x=\"902.868812\" xlink:href=\"#m84a6104e00\" y=\"295.94175\"/>\r\n      </g>\r\n     </g>\r\n     <g id=\"text_16\">\r\n      <!-- 0.8 -->\r\n      <g style=\"fill:#555555;\" transform=\"translate(894.917249 310.540188)scale(0.1 -0.1)\">\r\n       <use xlink:href=\"#DejaVuSans-48\"/>\r\n       <use x=\"63.623047\" xlink:href=\"#DejaVuSans-46\"/>\r\n       <use x=\"95.410156\" xlink:href=\"#DejaVuSans-56\"/>\r\n      </g>\r\n     </g>\r\n    </g>\r\n    <g id=\"xtick_8\">\r\n     <g id=\"line2d_19\">\r\n      <path clip-path=\"url(#pa56fdb7e31)\" d=\"M 995.100217 295.94175 \r\nL 995.100217 24.14175 \r\n\" style=\"fill:none;stroke:#ffffff;stroke-linecap:square;stroke-width:0.8;\"/>\r\n     </g>\r\n     <g id=\"line2d_20\">\r\n      <g>\r\n       <use style=\"fill:#555555;stroke:#555555;stroke-width:0.8;\" x=\"995.100217\" xlink:href=\"#m84a6104e00\" y=\"295.94175\"/>\r\n      </g>\r\n     </g>\r\n     <g id=\"text_17\">\r\n      <!-- 1.0 -->\r\n      <g style=\"fill:#555555;\" transform=\"translate(987.148654 310.540188)scale(0.1 -0.1)\">\r\n       <use xlink:href=\"#DejaVuSans-49\"/>\r\n       <use x=\"63.623047\" xlink:href=\"#DejaVuSans-46\"/>\r\n       <use x=\"95.410156\" xlink:href=\"#DejaVuSans-48\"/>\r\n      </g>\r\n     </g>\r\n    </g>\r\n    <g id=\"text_18\">\r\n     <!-- False Positive Rate -->\r\n     <defs>\r\n      <path d=\"M 9.8125 72.90625 \r\nL 51.703125 72.90625 \r\nL 51.703125 64.59375 \r\nL 19.671875 64.59375 \r\nL 19.671875 43.109375 \r\nL 48.578125 43.109375 \r\nL 48.578125 34.8125 \r\nL 19.671875 34.8125 \r\nL 19.671875 0 \r\nL 9.8125 0 \r\nz\r\n\" id=\"DejaVuSans-70\"/>\r\n      <path d=\"M 2.984375 54.6875 \r\nL 12.5 54.6875 \r\nL 29.59375 8.796875 \r\nL 46.6875 54.6875 \r\nL 56.203125 54.6875 \r\nL 35.6875 0 \r\nL 23.484375 0 \r\nz\r\n\" id=\"DejaVuSans-118\"/>\r\n      <path d=\"M 44.390625 34.1875 \r\nQ 47.5625 33.109375 50.5625 29.59375 \r\nQ 53.5625 26.078125 56.59375 19.921875 \r\nL 66.609375 0 \r\nL 56 0 \r\nL 46.6875 18.703125 \r\nQ 43.0625 26.03125 39.671875 28.421875 \r\nQ 36.28125 30.8125 30.421875 30.8125 \r\nL 19.671875 30.8125 \r\nL 19.671875 0 \r\nL 9.8125 0 \r\nL 9.8125 72.90625 \r\nL 32.078125 72.90625 \r\nQ 44.578125 72.90625 50.734375 67.671875 \r\nQ 56.890625 62.453125 56.890625 51.90625 \r\nQ 56.890625 45.015625 53.6875 40.46875 \r\nQ 50.484375 35.9375 44.390625 34.1875 \r\nz\r\nM 19.671875 64.796875 \r\nL 19.671875 38.921875 \r\nL 32.078125 38.921875 \r\nQ 39.203125 38.921875 42.84375 42.21875 \r\nQ 46.484375 45.515625 46.484375 51.90625 \r\nQ 46.484375 58.296875 42.84375 61.546875 \r\nQ 39.203125 64.796875 32.078125 64.796875 \r\nz\r\n\" id=\"DejaVuSans-82\"/>\r\n     </defs>\r\n     <g style=\"fill:#555555;\" transform=\"translate(708.762017 325.738)scale(0.12 -0.12)\">\r\n      <use xlink:href=\"#DejaVuSans-70\"/>\r\n      <use x=\"48.394531\" xlink:href=\"#DejaVuSans-97\"/>\r\n      <use x=\"109.673828\" xlink:href=\"#DejaVuSans-108\"/>\r\n      <use x=\"137.457031\" xlink:href=\"#DejaVuSans-115\"/>\r\n      <use x=\"189.556641\" xlink:href=\"#DejaVuSans-101\"/>\r\n      <use x=\"251.080078\" xlink:href=\"#DejaVuSans-32\"/>\r\n      <use x=\"282.867188\" xlink:href=\"#DejaVuSans-80\"/>\r\n      <use x=\"339.544922\" xlink:href=\"#DejaVuSans-111\"/>\r\n      <use x=\"400.726562\" xlink:href=\"#DejaVuSans-115\"/>\r\n      <use x=\"452.826172\" xlink:href=\"#DejaVuSans-105\"/>\r\n      <use x=\"480.609375\" xlink:href=\"#DejaVuSans-116\"/>\r\n      <use x=\"519.818359\" xlink:href=\"#DejaVuSans-105\"/>\r\n      <use x=\"547.601562\" xlink:href=\"#DejaVuSans-118\"/>\r\n      <use x=\"606.78125\" xlink:href=\"#DejaVuSans-101\"/>\r\n      <use x=\"668.304688\" xlink:href=\"#DejaVuSans-32\"/>\r\n      <use x=\"700.091797\" xlink:href=\"#DejaVuSans-82\"/>\r\n      <use x=\"767.324219\" xlink:href=\"#DejaVuSans-97\"/>\r\n      <use x=\"828.603516\" xlink:href=\"#DejaVuSans-116\"/>\r\n      <use x=\"867.8125\" xlink:href=\"#DejaVuSans-101\"/>\r\n     </g>\r\n    </g>\r\n   </g>\r\n   <g id=\"matplotlib.axis_4\">\r\n    <g id=\"ytick_3\">\r\n     <g id=\"line2d_21\">\r\n      <path clip-path=\"url(#pa56fdb7e31)\" d=\"M 510.885341 283.587205 \r\nL 1018.158068 283.587205 \r\n\" style=\"fill:none;stroke:#ffffff;stroke-linecap:square;stroke-width:0.8;\"/>\r\n     </g>\r\n     <g id=\"line2d_22\">\r\n      <g>\r\n       <use style=\"fill:#555555;stroke:#555555;stroke-width:0.8;\" x=\"510.885341\" xlink:href=\"#mcea2310dfe\" y=\"283.587205\"/>\r\n      </g>\r\n     </g>\r\n     <g id=\"text_19\">\r\n      <!-- 0.0 -->\r\n      <g style=\"fill:#555555;\" transform=\"translate(487.982216 287.386423)scale(0.1 -0.1)\">\r\n       <use xlink:href=\"#DejaVuSans-48\"/>\r\n       <use x=\"63.623047\" xlink:href=\"#DejaVuSans-46\"/>\r\n       <use x=\"95.410156\" xlink:href=\"#DejaVuSans-48\"/>\r\n      </g>\r\n     </g>\r\n    </g>\r\n    <g id=\"ytick_4\">\r\n     <g id=\"line2d_23\">\r\n      <path clip-path=\"url(#pa56fdb7e31)\" d=\"M 510.885341 234.169023 \r\nL 1018.158068 234.169023 \r\n\" style=\"fill:none;stroke:#ffffff;stroke-linecap:square;stroke-width:0.8;\"/>\r\n     </g>\r\n     <g id=\"line2d_24\">\r\n      <g>\r\n       <use style=\"fill:#555555;stroke:#555555;stroke-width:0.8;\" x=\"510.885341\" xlink:href=\"#mcea2310dfe\" y=\"234.169023\"/>\r\n      </g>\r\n     </g>\r\n     <g id=\"text_20\">\r\n      <!-- 0.2 -->\r\n      <g style=\"fill:#555555;\" transform=\"translate(487.982216 237.968241)scale(0.1 -0.1)\">\r\n       <use xlink:href=\"#DejaVuSans-48\"/>\r\n       <use x=\"63.623047\" xlink:href=\"#DejaVuSans-46\"/>\r\n       <use x=\"95.410156\" xlink:href=\"#DejaVuSans-50\"/>\r\n      </g>\r\n     </g>\r\n    </g>\r\n    <g id=\"ytick_5\">\r\n     <g id=\"line2d_25\">\r\n      <path clip-path=\"url(#pa56fdb7e31)\" d=\"M 510.885341 184.750841 \r\nL 1018.158068 184.750841 \r\n\" style=\"fill:none;stroke:#ffffff;stroke-linecap:square;stroke-width:0.8;\"/>\r\n     </g>\r\n     <g id=\"line2d_26\">\r\n      <g>\r\n       <use style=\"fill:#555555;stroke:#555555;stroke-width:0.8;\" x=\"510.885341\" xlink:href=\"#mcea2310dfe\" y=\"184.750841\"/>\r\n      </g>\r\n     </g>\r\n     <g id=\"text_21\">\r\n      <!-- 0.4 -->\r\n      <g style=\"fill:#555555;\" transform=\"translate(487.982216 188.55006)scale(0.1 -0.1)\">\r\n       <use xlink:href=\"#DejaVuSans-48\"/>\r\n       <use x=\"63.623047\" xlink:href=\"#DejaVuSans-46\"/>\r\n       <use x=\"95.410156\" xlink:href=\"#DejaVuSans-52\"/>\r\n      </g>\r\n     </g>\r\n    </g>\r\n    <g id=\"ytick_6\">\r\n     <g id=\"line2d_27\">\r\n      <path clip-path=\"url(#pa56fdb7e31)\" d=\"M 510.885341 135.332659 \r\nL 1018.158068 135.332659 \r\n\" style=\"fill:none;stroke:#ffffff;stroke-linecap:square;stroke-width:0.8;\"/>\r\n     </g>\r\n     <g id=\"line2d_28\">\r\n      <g>\r\n       <use style=\"fill:#555555;stroke:#555555;stroke-width:0.8;\" x=\"510.885341\" xlink:href=\"#mcea2310dfe\" y=\"135.332659\"/>\r\n      </g>\r\n     </g>\r\n     <g id=\"text_22\">\r\n      <!-- 0.6 -->\r\n      <g style=\"fill:#555555;\" transform=\"translate(487.982216 139.131878)scale(0.1 -0.1)\">\r\n       <use xlink:href=\"#DejaVuSans-48\"/>\r\n       <use x=\"63.623047\" xlink:href=\"#DejaVuSans-46\"/>\r\n       <use x=\"95.410156\" xlink:href=\"#DejaVuSans-54\"/>\r\n      </g>\r\n     </g>\r\n    </g>\r\n    <g id=\"ytick_7\">\r\n     <g id=\"line2d_29\">\r\n      <path clip-path=\"url(#pa56fdb7e31)\" d=\"M 510.885341 85.914477 \r\nL 1018.158068 85.914477 \r\n\" style=\"fill:none;stroke:#ffffff;stroke-linecap:square;stroke-width:0.8;\"/>\r\n     </g>\r\n     <g id=\"line2d_30\">\r\n      <g>\r\n       <use style=\"fill:#555555;stroke:#555555;stroke-width:0.8;\" x=\"510.885341\" xlink:href=\"#mcea2310dfe\" y=\"85.914477\"/>\r\n      </g>\r\n     </g>\r\n     <g id=\"text_23\">\r\n      <!-- 0.8 -->\r\n      <g style=\"fill:#555555;\" transform=\"translate(487.982216 89.713696)scale(0.1 -0.1)\">\r\n       <use xlink:href=\"#DejaVuSans-48\"/>\r\n       <use x=\"63.623047\" xlink:href=\"#DejaVuSans-46\"/>\r\n       <use x=\"95.410156\" xlink:href=\"#DejaVuSans-56\"/>\r\n      </g>\r\n     </g>\r\n    </g>\r\n    <g id=\"ytick_8\">\r\n     <g id=\"line2d_31\">\r\n      <path clip-path=\"url(#pa56fdb7e31)\" d=\"M 510.885341 36.496295 \r\nL 1018.158068 36.496295 \r\n\" style=\"fill:none;stroke:#ffffff;stroke-linecap:square;stroke-width:0.8;\"/>\r\n     </g>\r\n     <g id=\"line2d_32\">\r\n      <g>\r\n       <use style=\"fill:#555555;stroke:#555555;stroke-width:0.8;\" x=\"510.885341\" xlink:href=\"#mcea2310dfe\" y=\"36.496295\"/>\r\n      </g>\r\n     </g>\r\n     <g id=\"text_24\">\r\n      <!-- 1.0 -->\r\n      <g style=\"fill:#555555;\" transform=\"translate(487.982216 40.295514)scale(0.1 -0.1)\">\r\n       <use xlink:href=\"#DejaVuSans-49\"/>\r\n       <use x=\"63.623047\" xlink:href=\"#DejaVuSans-46\"/>\r\n       <use x=\"95.410156\" xlink:href=\"#DejaVuSans-48\"/>\r\n      </g>\r\n     </g>\r\n    </g>\r\n    <g id=\"text_25\">\r\n     <!-- True Positive Rate -->\r\n     <g style=\"fill:#555555;\" transform=\"translate(481.486591 213.477375)rotate(-90)scale(0.12 -0.12)\">\r\n      <use xlink:href=\"#DejaVuSans-84\"/>\r\n      <use x=\"46.333984\" xlink:href=\"#DejaVuSans-114\"/>\r\n      <use x=\"87.447266\" xlink:href=\"#DejaVuSans-117\"/>\r\n      <use x=\"150.826172\" xlink:href=\"#DejaVuSans-101\"/>\r\n      <use x=\"212.349609\" xlink:href=\"#DejaVuSans-32\"/>\r\n      <use x=\"244.136719\" xlink:href=\"#DejaVuSans-80\"/>\r\n      <use x=\"300.814453\" xlink:href=\"#DejaVuSans-111\"/>\r\n      <use x=\"361.996094\" xlink:href=\"#DejaVuSans-115\"/>\r\n      <use x=\"414.095703\" xlink:href=\"#DejaVuSans-105\"/>\r\n      <use x=\"441.878906\" xlink:href=\"#DejaVuSans-116\"/>\r\n      <use x=\"481.087891\" xlink:href=\"#DejaVuSans-105\"/>\r\n      <use x=\"508.871094\" xlink:href=\"#DejaVuSans-118\"/>\r\n      <use x=\"568.050781\" xlink:href=\"#DejaVuSans-101\"/>\r\n      <use x=\"629.574219\" xlink:href=\"#DejaVuSans-32\"/>\r\n      <use x=\"661.361328\" xlink:href=\"#DejaVuSans-82\"/>\r\n      <use x=\"728.59375\" xlink:href=\"#DejaVuSans-97\"/>\r\n      <use x=\"789.873047\" xlink:href=\"#DejaVuSans-116\"/>\r\n      <use x=\"829.082031\" xlink:href=\"#DejaVuSans-101\"/>\r\n     </g>\r\n    </g>\r\n   </g>\r\n   <g id=\"line2d_33\">\r\n    <path clip-path=\"url(#pa56fdb7e31)\" d=\"M 533.943192 283.587205 \r\nL 534.009062 283.127993 \r\nL 534.206673 282.774754 \r\nL 534.272543 282.56281 \r\nL 534.338413 282.492163 \r\nL 534.404283 281.538416 \r\nL 534.865374 279.984163 \r\nL 534.931245 279.030417 \r\nL 535.062985 278.924445 \r\nL 535.326466 277.723432 \r\nL 535.655816 277.334868 \r\nL 535.655816 277.016953 \r\nL 535.787557 276.805009 \r\nL 536.248648 275.356728 \r\nL 536.314518 274.932841 \r\nL 536.90735 273.908447 \r\nL 536.97322 273.519884 \r\nL 537.10496 272.954701 \r\nL 537.302571 272.813405 \r\nL 537.368441 271.894983 \r\nL 537.434311 271.753687 \r\nL 537.434311 271.683039 \r\nL 537.697792 271.435772 \r\nL 537.961272 270.764617 \r\nL 538.158883 270.411378 \r\nL 538.224753 270.199434 \r\nL 538.356493 269.98749 \r\nL 538.817584 269.846195 \r\nL 538.883455 268.786477 \r\nL 539.081065 268.715829 \r\nL 539.146935 268.18597 \r\nL 539.344546 267.514815 \r\nL 539.608026 267.267548 \r\nL 539.673896 266.737689 \r\nL 539.739767 266.596393 \r\nL 540.003247 265.925238 \r\nL 540.134988 265.819266 \r\nL 540.200858 265.289407 \r\nL 540.398468 265.21876 \r\nL 540.727819 264.724224 \r\nL 540.92543 264.229689 \r\nL 541.05717 263.558535 \r\nL 541.12304 263.346591 \r\nL 541.25478 263.275943 \r\nL 541.386521 263.134648 \r\nL 541.452391 262.922704 \r\nL 541.584131 262.640112 \r\nL 541.650001 262.286873 \r\nL 541.715872 262.286873 \r\nL 541.715872 262.180901 \r\nL 541.847612 261.509747 \r\nL 541.847612 260.90924 \r\nL 542.111093 260.73262 \r\nL 542.176963 260.061465 \r\nL 542.308703 259.955494 \r\nL 542.374573 259.637578 \r\nL 542.506314 259.602254 \r\nL 542.506314 259.531606 \r\nL 542.506314 259.496282 \r\nL 542.703924 259.390311 \r\nL 542.769794 259.178367 \r\nL 542.835664 259.072395 \r\nL 542.901535 258.860452 \r\nL 543.165015 258.75448 \r\nL 543.165015 258.719156 \r\nL 543.362626 258.613184 \r\nL 543.362626 258.542536 \r\nL 543.494366 258.401241 \r\nL 543.889587 257.58879 \r\nL 543.955457 256.741016 \r\nL 544.087198 256.670368 \r\nL 544.087198 256.458424 \r\nL 544.218938 256.4231 \r\nL 544.218938 256.211157 \r\nL 544.284808 256.211157 \r\nL 544.416548 255.928565 \r\nL 544.482419 255.257411 \r\nL 544.614159 254.904171 \r\nL 544.680029 254.44496 \r\nL 544.745899 254.44496 \r\nL 544.745899 254.374312 \r\nL 544.745899 254.26834 \r\nL 545.07525 254.162369 \r\nL 545.14112 254.091721 \r\nL 545.536341 253.738481 \r\nL 545.997432 252.431496 \r\nL 546.063302 252.219552 \r\nL 546.260913 252.219552 \r\nL 546.260913 252.042933 \r\nL 546.392653 252.042933 \r\nL 546.392653 251.936961 \r\nL 546.853744 251.47775 \r\nL 546.919615 251.230482 \r\nL 546.985485 251.230482 \r\nL 546.985485 251.053863 \r\nL 547.183095 251.018539 \r\nL 547.183095 250.559327 \r\nL 547.380706 250.453356 \r\nL 547.380706 250.418032 \r\nL 547.578316 249.958821 \r\nL 547.578316 249.711553 \r\nL 547.907667 249.32299 \r\nL 547.907667 249.217018 \r\nL 548.105278 248.793131 \r\nL 548.171148 248.545863 \r\nL 548.237018 248.510539 \r\nL 548.302888 248.298596 \r\nL 548.434628 248.1573 \r\nL 548.434628 248.086652 \r\nL 548.632239 247.804061 \r\nL 548.763979 247.804061 \r\nL 548.763979 247.768737 \r\nL 548.763979 247.556793 \r\nL 548.829849 247.556793 \r\nL 548.96159 247.309526 \r\nL 548.96159 246.885638 \r\nL 549.1592 246.744343 \r\nL 549.488551 245.684625 \r\nL 549.488551 245.437357 \r\nL 549.620291 245.366709 \r\nL 549.752032 245.048794 \r\nL 549.817902 244.306991 \r\nL 550.213123 244.0244 \r\nL 550.278993 243.989076 \r\nL 550.608344 243.070654 \r\nL 550.608344 242.964682 \r\nL 550.740084 242.717414 \r\nL 550.805954 242.187555 \r\nL 551.267046 241.551725 \r\nL 551.332916 241.375105 \r\nL 551.859877 240.386035 \r\nL 552.057488 240.280063 \r\nL 552.057488 240.244739 \r\nL 552.650319 239.432289 \r\nL 552.716189 239.432289 \r\nL 552.716189 239.326317 \r\nL 552.9138 239.079049 \r\nL 553.374891 237.73674 \r\nL 553.506631 237.454148 \r\nL 553.506631 237.312853 \r\nL 553.572501 237.312853 \r\nL 553.770112 237.030261 \r\nL 553.835982 236.74767 \r\nL 554.033592 235.970543 \r\nL 554.297073 235.7586 \r\nL 554.362943 235.58198 \r\nL 554.560554 235.370036 \r\nL 554.560554 235.158093 \r\nL 554.758164 235.122769 \r\nL 554.758164 235.052121 \r\nL 555.482736 232.544122 \r\nL 555.614476 232.473474 \r\nL 555.614476 232.43815 \r\nL 555.614476 232.367502 \r\nL 555.812087 231.661024 \r\nL 555.877957 231.166488 \r\nL 555.943827 231.166488 \r\nL 555.943827 231.095841 \r\nL 556.141438 230.742601 \r\nL 556.273178 230.707277 \r\nL 556.668399 230.000799 \r\nL 556.99775 229.364968 \r\nL 557.19536 229.188348 \r\nL 557.327101 228.905757 \r\nL 557.392971 228.799785 \r\nL 557.722322 228.411222 \r\nL 558.117543 227.351504 \r\nL 558.315153 227.31618 \r\nL 558.315153 227.245532 \r\nL 558.381023 226.821645 \r\nL 558.644504 226.291786 \r\nL 558.710374 226.115166 \r\nL 558.776244 226.115166 \r\nL 559.171465 225.16142 \r\nL 559.434946 224.949476 \r\nL 559.698427 224.348969 \r\nL 559.698427 224.17235 \r\nL 559.830167 224.066378 \r\nL 560.554739 222.229533 \r\nL 561.0817 221.452407 \r\nL 561.14757 221.240463 \r\nL 561.21344 221.240463 \r\nL 561.21344 221.134492 \r\nL 561.740402 220.639957 \r\nL 561.806272 220.357365 \r\nL 562.530844 218.167281 \r\nL 562.596714 217.778718 \r\nL 562.728454 217.53145 \r\nL 563.057805 217.354831 \r\nL 563.123675 217.248859 \r\nL 563.321286 217.142887 \r\nL 563.716507 216.083169 \r\nL 563.979987 216.012521 \r\nL 564.045858 215.694606 \r\nL 564.111728 215.694606 \r\nL 564.243468 215.200071 \r\nL 564.375208 215.200071 \r\nL 564.375208 215.164747 \r\nL 564.638689 214.56424 \r\nL 564.704559 214.352296 \r\nL 564.90217 214.140353 \r\nL 565.16565 213.893085 \r\nL 565.363261 213.822438 \r\nL 565.363261 213.787114 \r\nL 565.560871 213.221931 \r\nL 565.956092 212.5861 \r\nL 567.141755 211.491058 \r\nL 567.207625 211.102495 \r\nL 567.339366 210.643284 \r\nL 567.405236 210.501988 \r\nL 567.668717 210.007453 \r\nL 568.129808 208.488524 \r\nL 568.195678 208.488524 \r\nL 568.261548 208.09996 \r\nL 568.590899 207.817369 \r\nL 568.590899 207.782045 \r\nL 568.85438 207.605425 \r\nL 569.513081 207.040242 \r\nL 569.644822 206.757651 \r\nL 569.710692 206.757651 \r\nL 569.710692 206.651679 \r\nL 569.776562 206.510383 \r\nL 570.040043 206.47506 \r\nL 570.105913 205.591961 \r\nL 570.171783 205.485989 \r\nL 570.435264 205.168074 \r\nL 570.501134 205.168074 \r\nL 570.501134 205.097426 \r\nL 571.159835 203.825765 \r\nL 571.225706 203.472525 \r\nL 571.357446 203.472525 \r\nL 571.357446 203.401877 \r\nL 571.489186 202.801371 \r\nL 571.818537 202.766047 \r\nL 572.147888 202.094892 \r\nL 572.411368 201.8123 \r\nL 572.87246 201.600357 \r\nL 572.87246 201.459061 \r\nL 573.20181 200.505315 \r\nL 573.333551 200.505315 \r\nL 573.399421 200.187399 \r\nL 573.597031 200.152076 \r\nL 574.848565 198.244583 \r\nL 574.980305 198.209259 \r\nL 574.980305 198.138611 \r\nL 575.177915 197.785372 \r\nL 575.243786 197.502781 \r\nL 575.639007 196.51371 \r\nL 575.770747 196.51371 \r\nL 575.770747 196.407739 \r\nL 575.836617 196.266443 \r\nL 576.231838 194.994781 \r\nL 576.297708 194.994781 \r\nL 576.297708 194.924134 \r\nL 576.363578 194.394275 \r\nL 576.627059 194.358951 \r\nL 576.627059 194.323627 \r\nL 577.02228 193.829092 \r\nL 577.351631 193.652472 \r\nL 578.010332 192.38081 \r\nL 578.142073 192.310163 \r\nL 578.339683 191.533036 \r\nL 578.669034 191.003177 \r\nL 578.866645 191.003177 \r\nL 578.866645 190.932529 \r\nL 578.998385 190.755909 \r\nL 579.327736 190.720586 \r\nL 579.327736 190.57929 \r\nL 579.525346 190.473318 \r\nL 579.525346 190.190727 \r\nL 580.184048 189.201656 \r\nL 580.184048 189.095685 \r\nL 581.303841 187.929995 \r\nL 581.567321 187.859347 \r\nL 582.555374 185.881207 \r\nL 582.818855 185.739911 \r\nL 582.884725 185.669263 \r\nL 582.950595 185.669263 \r\nL 582.950595 185.598615 \r\nL 583.016465 185.210052 \r\nL 583.279946 185.10408 \r\nL 583.345816 183.549827 \r\nL 583.609297 183.231912 \r\nL 583.675167 183.055292 \r\nL 584.004518 182.772701 \r\nL 584.004518 182.596081 \r\nL 584.070388 182.596081 \r\nL 584.202128 182.172194 \r\nL 584.202128 182.030898 \r\nL 584.267998 182.030898 \r\nL 584.531479 181.854278 \r\nL 584.531479 181.783631 \r\nL 585.914752 180.017434 \r\nL 585.914752 179.770166 \r\nL 586.507584 179.593547 \r\nL 586.705194 179.16966 \r\nL 586.771064 179.16966 \r\nL 586.771064 179.134336 \r\nL 586.836935 178.99304 \r\nL 587.495636 178.498505 \r\nL 587.561506 177.933322 \r\nL 587.759117 177.686054 \r\nL 587.824987 177.686054 \r\nL 587.824987 177.580083 \r\nL 588.681299 176.520365 \r\nL 588.747169 176.379069 \r\nL 588.81304 176.237773 \r\nL 589.669352 174.542224 \r\nL 589.669352 174.400929 \r\nL 589.932832 173.623802 \r\nL 589.932832 173.553154 \r\nL 590.130443 172.634732 \r\nL 590.328053 172.458112 \r\nL 590.328053 172.387464 \r\nL 590.393924 172.387464 \r\nL 590.591534 171.963577 \r\nL 590.789144 171.71631 \r\nL 591.711327 170.55062 \r\nL 592.172418 170.479972 \r\nL 592.633509 170.303352 \r\nL 592.699379 169.985437 \r\nL 593.0946 169.031691 \r\nL 593.885042 168.183916 \r\nL 594.346133 167.901325 \r\nL 594.412004 167.512762 \r\nL 594.873095 166.982903 \r\nL 595.334186 166.170452 \r\nL 595.729407 165.923185 \r\nL 595.795277 165.711241 \r\nL 596.124628 164.934115 \r\nL 596.453979 164.757495 \r\nL 596.453979 164.722171 \r\nL 596.717459 164.686847 \r\nL 597.705512 163.379862 \r\nL 598.100733 162.991298 \r\nL 598.232473 162.955974 \r\nL 598.298343 162.602735 \r\nL 598.825305 161.896256 \r\nL 599.286396 161.790285 \r\nL 599.286396 161.754961 \r\nL 599.813357 161.437045 \r\nL 600.010968 161.437045 \r\nL 600.010968 161.366397 \r\nL 600.603799 160.236032 \r\nL 601.06489 159.670849 \r\nL 601.328371 159.670849 \r\nL 601.328371 159.564877 \r\nL 601.591852 159.352933 \r\nL 601.657722 159.176314 \r\nL 601.855332 159.070342 \r\nL 602.052943 158.717103 \r\nL 602.052943 158.434511 \r\nL 602.909255 157.9753 \r\nL 602.909255 157.763356 \r\nL 602.975125 157.763356 \r\nL 603.040995 157.622061 \r\nL 603.040995 157.516089 \r\nL 603.370346 157.410117 \r\nL 603.370346 157.339469 \r\nL 603.831437 155.961836 \r\nL 604.094918 155.82054 \r\nL 604.490139 155.361329 \r\nL 604.621879 155.326005 \r\nL 604.81949 154.760822 \r\nL 605.214711 154.619526 \r\nL 605.280581 154.548878 \r\nL 605.412321 154.513555 \r\nL 605.412321 154.442907 \r\nL 605.412321 154.372259 \r\nL 605.741672 154.372259 \r\nL 606.400374 154.124991 \r\nL 606.400374 153.807076 \r\nL 606.729724 153.559808 \r\nL 606.729724 153.48916 \r\nL 606.993205 153.312541 \r\nL 607.059075 153.312541 \r\nL 607.059075 153.171245 \r\nL 607.388426 153.065273 \r\nL 607.915387 152.288147 \r\nL 609.03518 151.793612 \r\nL 609.10105 151.616992 \r\nL 609.298661 151.581668 \r\nL 609.298661 151.546344 \r\nL 609.298661 151.334401 \r\nL 609.364531 151.334401 \r\nL 610.286713 150.310007 \r\nL 610.484324 150.310007 \r\nL 611.011285 149.921443 \r\nL 611.077155 149.674176 \r\nL 611.208896 149.497556 \r\nL 611.208896 149.391584 \r\nL 611.538246 149.285612 \r\nL 612.262818 148.579134 \r\nL 612.92152 148.437838 \r\nL 612.98739 148.261218 \r\nL 613.250871 148.261218 \r\nL 613.250871 148.225895 \r\nL 614.173053 147.55474 \r\nL 614.238923 147.448768 \r\nL 614.436534 147.2015 \r\nL 615.095235 147.060205 \r\nL 615.951548 145.823867 \r\nL 616.610249 145.541276 \r\nL 616.676119 145.329332 \r\nL 617.07134 145.152712 \r\nL 617.334821 144.799473 \r\nL 618.125263 144.304938 \r\nL 618.125263 144.23429 \r\nL 618.586354 143.704431 \r\nL 618.586354 143.527811 \r\nL 618.652224 143.527811 \r\nL 619.113315 143.24522 \r\nL 620.101368 142.185502 \r\nL 620.430719 141.973558 \r\nL 620.95768 141.514347 \r\nL 621.08942 141.514347 \r\nL 622.011603 140.313334 \r\nL 622.340954 140.242686 \r\nL 622.406824 140.066066 \r\nL 622.604434 139.324263 \r\nL 622.670304 139.324263 \r\nL 622.670304 139.182968 \r\nL 622.802045 139.182968 \r\nL 623.460746 138.759081 \r\nL 623.724227 138.547137 \r\nL 624.580539 138.299869 \r\nL 624.97576 137.805334 \r\nL 625.04163 137.558067 \r\nL 625.1075 137.452095 \r\nL 625.370981 137.416771 \r\nL 625.370981 137.381447 \r\nL 626.095553 137.204828 \r\nL 626.490774 137.098856 \r\nL 627.939918 136.498349 \r\nL 627.939918 136.286405 \r\nL 628.203398 136.180433 \r\nL 628.335139 135.897842 \r\nL 628.79623 135.650574 \r\nL 629.05971 135.014744 \r\nL 629.784282 134.484885 \r\nL 630.047763 134.414237 \r\nL 630.047763 134.378913 \r\nL 630.047763 134.237617 \r\nL 630.442984 134.060998 \r\nL 631.299296 133.425167 \r\nL 631.299296 133.283871 \r\nL 631.957998 132.82466 \r\nL 632.023868 132.683364 \r\nL 632.287348 132.436097 \r\nL 632.287348 132.330125 \r\nL 632.682569 132.082857 \r\nL 632.682569 131.941562 \r\nL 633.538882 131.800266 \r\nL 633.868232 131.164435 \r\nL 634.263453 131.058463 \r\nL 634.263453 130.811196 \r\nL 635.514986 129.963421 \r\nL 635.580857 129.892773 \r\nL 635.778467 129.822126 \r\nL 636.041948 129.645506 \r\nL 636.041948 129.539534 \r\nL 636.239558 129.433562 \r\nL 636.76652 128.444492 \r\nL 637.09587 128.409168 \r\nL 637.09587 128.373844 \r\nL 638.281533 127.561394 \r\nL 638.281533 127.455422 \r\nL 638.413274 127.455422 \r\nL 638.742625 126.960887 \r\nL 638.940235 126.925563 \r\nL 638.940235 126.854915 \r\nL 638.940235 126.71362 \r\nL 640.85047 125.936493 \r\nL 642.167873 125.088719 \r\nL 642.167873 124.982747 \r\nL 642.958315 124.099648 \r\nL 643.221796 123.675761 \r\nL 643.485276 123.675761 \r\nL 644.012238 123.357846 \r\nL 645.197901 122.22748 \r\nL 645.593122 122.156832 \r\nL 645.593122 122.086184 \r\nL 646.054213 121.909565 \r\nL 646.054213 121.803593 \r\nL 646.383564 121.803593 \r\nL 647.174006 121.309058 \r\nL 647.174006 121.203086 \r\nL 647.371616 121.167762 \r\nL 648.293798 120.673227 \r\nL 648.293798 120.496607 \r\nL 648.9525 120.24934 \r\nL 649.01837 120.24934 \r\nL 649.01837 120.143368 \r\nL 649.215981 119.896101 \r\nL 649.940553 119.754805 \r\nL 650.599254 119.578185 \r\nL 650.862735 119.224946 \r\nL 651.323826 119.048326 \r\nL 653.563412 117.847312 \r\nL 653.761022 117.635369 \r\nL 654.287984 117.282129 \r\nL 654.353854 116.610975 \r\nL 654.485594 116.610975 \r\nL 655.144296 116.257735 \r\nL 655.341906 116.257735 \r\nL 655.341906 116.187088 \r\nL 655.407776 116.11644 \r\nL 656.198218 115.7632 \r\nL 656.198218 115.586581 \r\nL 656.329959 115.515933 \r\nL 656.92279 115.409961 \r\nL 656.92279 115.162694 \r\nL 657.186271 114.668158 \r\nL 657.318011 114.597511 \r\nL 657.318011 114.526863 \r\nL 657.449751 114.456215 \r\nL 659.030635 113.749736 \r\nL 659.096506 113.573117 \r\nL 659.623467 113.431821 \r\nL 659.623467 113.325849 \r\nL 659.821077 113.255201 \r\nL 661.533702 112.478075 \r\nL 662.126533 112.301455 \r\nL 662.785235 112.089511 \r\nL 663.180456 111.665624 \r\nL 663.773287 111.418357 \r\nL 665.090691 110.570582 \r\nL 665.551782 110.499934 \r\nL 665.551782 110.46461 \r\nL 665.749392 110.182019 \r\nL 666.078743 110.076047 \r\nL 666.605704 109.722808 \r\nL 666.869185 109.616836 \r\nL 666.869185 109.47554 \r\nL 668.647679 108.945681 \r\nL 668.647679 108.875034 \r\nL 668.77942 108.875034 \r\nL 669.372251 108.48647 \r\nL 669.438121 108.345175 \r\nL 670.821395 107.709344 \r\nL 671.545967 107.462076 \r\nL 674.049033 106.261062 \r\nL 675.037085 106.049119 \r\nL 675.234696 105.589908 \r\nL 675.498177 105.589908 \r\nL 675.498177 105.51926 \r\nL 676.420359 105.166021 \r\nL 676.420359 105.060049 \r\nL 676.486229 105.060049 \r\nL 677.408411 104.459542 \r\nL 677.606022 104.35357 \r\nL 677.935373 104.070979 \r\nL 678.001243 103.859035 \r\nL 678.132983 103.788387 \r\nL 678.132983 103.753063 \r\nL 679.055166 103.647091 \r\nL 680.9654 103.117232 \r\nL 680.9654 103.046585 \r\nL 681.097141 103.046585 \r\nL 683.007375 102.128162 \r\nL 685.181091 101.810247 \r\nL 685.312831 101.421684 \r\nL 685.839793 101.315712 \r\nL 686.037403 101.245064 \r\nL 689.396781 99.761459 \r\nL 689.923743 99.514191 \r\nL 691.702237 99.302248 \r\nL 693.283121 98.807713 \r\nL 693.283121 98.701741 \r\nL 693.546602 98.631093 \r\nL 693.546602 98.525121 \r\nL 694.007693 98.383826 \r\nL 694.139433 97.995262 \r\nL 694.205303 97.995262 \r\nL 694.732265 97.712671 \r\nL 695.654447 97.359431 \r\nL 695.654447 97.147488 \r\nL 695.786187 97.147488 \r\nL 695.786187 97.112164 \r\nL 700.067748 95.981798 \r\nL 700.067748 95.840502 \r\nL 700.66058 95.557911 \r\nL 700.98993 95.204672 \r\nL 701.977983 94.851432 \r\nL 701.977983 94.816108 \r\nL 703.163646 94.462869 \r\nL 703.229516 94.286249 \r\nL 704.415179 93.75639 \r\nL 706.588894 93.332503 \r\nL 706.654765 93.191207 \r\nL 706.786505 93.191207 \r\nL 706.786505 93.155883 \r\nL 709.223701 92.378757 \r\nL 709.816533 92.025518 \r\nL 710.475234 91.848898 \r\nL 710.804585 91.636954 \r\nL 714.163963 90.577236 \r\nL 714.295704 90.294645 \r\nL 714.690925 90.223997 \r\nL 715.415497 89.517518 \r\nL 715.810718 89.411547 \r\nL 718.116173 89.058307 \r\nL 718.182044 88.881688 \r\nL 718.511394 88.63442 \r\nL 718.577264 88.528448 \r\nL 718.774875 88.422476 \r\nL 720.092278 88.210533 \r\nL 722.595345 87.221463 \r\nL 722.595345 87.150815 \r\nL 723.451657 86.373688 \r\nL 723.583397 86.373688 \r\nL 724.63732 86.091097 \r\nL 724.63732 85.914477 \r\nL 726.086463 85.561238 \r\nL 726.152333 85.419942 \r\nL 726.481684 85.384618 \r\nL 728.194309 84.925407 \r\nL 728.194309 84.854759 \r\nL 731.092596 84.3249 \r\nL 731.290206 84.077633 \r\nL 731.487817 84.077633 \r\nL 731.487817 84.042309 \r\nL 733.529792 83.865689 \r\nL 738.206574 81.816901 \r\nL 738.404184 81.640281 \r\nL 739.589847 81.322366 \r\nL 739.589847 81.18107 \r\nL 739.919198 81.110422 \r\nL 741.763563 80.509916 \r\nL 742.554005 80.403944 \r\nL 742.619875 80.227324 \r\nL 743.015096 80.156676 \r\nL 743.015096 80.121352 \r\nL 744.069018 79.838761 \r\nL 744.200759 79.732789 \r\nL 749.404502 78.284508 \r\nL 749.404502 78.21386 \r\nL 749.470372 78.21386 \r\nL 750.129074 78.107888 \r\nL 750.721905 78.107888 \r\nL 751.512347 77.684001 \r\nL 751.512347 77.507381 \r\nL 752.236919 77.401409 \r\nL 756.386739 76.094424 \r\nL 757.243051 76.023776 \r\nL 762.446794 74.610819 \r\nL 763.039626 74.540171 \r\nL 763.105496 74.222256 \r\nL 763.171366 74.222256 \r\nL 764.62051 73.974988 \r\nL 766.794225 73.409805 \r\nL 767.518797 73.303833 \r\nL 767.584667 73.162538 \r\nL 767.782278 73.056566 \r\nL 767.782278 72.985918 \r\nL 773.644722 72.208791 \r\nL 775.686698 72.10282 \r\nL 775.686698 72.067496 \r\nL 776.081918 72.067496 \r\nL 776.081918 71.961524 \r\nL 776.081918 71.820228 \r\nL 776.477139 71.608285 \r\nL 778.584985 70.831158 \r\nL 780.363479 70.371947 \r\nL 781.285662 70.301299 \r\nL 781.483272 70.195327 \r\nL 782.010233 70.195327 \r\nL 787.609197 69.382877 \r\nL 787.740938 69.347553 \r\nL 791.429667 68.60575 \r\nL 791.429667 68.570426 \r\nL 791.759018 68.464455 \r\nL 791.759018 68.429131 \r\nL 793.208161 67.969919 \r\nL 796.040578 67.757976 \r\nL 796.962761 67.61668 \r\nL 797.028631 67.510708 \r\nL 798.346034 67.157469 \r\nL 801.112581 66.309695 \r\nL 801.837153 66.133075 \r\nL 801.837153 66.097751 \r\nL 808.424169 64.826089 \r\nL 809.082871 64.614146 \r\nL 809.082871 64.543498 \r\nL 809.609832 64.543498 \r\nL 811.520067 64.048963 \r\nL 811.585937 63.978315 \r\nL 812.047029 63.907667 \r\nL 812.310509 63.801695 \r\nL 812.969211 63.766371 \r\nL 814.879446 63.30716 \r\nL 815.933368 62.953921 \r\nL 816.78968 62.847949 \r\nL 817.514252 62.530034 \r\nL 818.238824 62.530034 \r\nL 821.927553 62.176795 \r\nL 822.652125 61.858879 \r\nL 825.352802 61.50564 \r\nL 825.352802 61.434992 \r\nL 826.077374 61.434992 \r\nL 826.077374 61.399668 \r\nL 826.340854 61.258372 \r\nL 828.251089 60.940457 \r\nL 829.305012 60.799161 \r\nL 829.370882 60.693189 \r\nL 831.412857 60.33995 \r\nL 831.544597 60.198654 \r\nL 832.40091 60.057359 \r\nL 834.508755 59.880739 \r\nL 835.892028 59.5275 \r\nL 837.670523 59.35088 \r\nL 840.173589 58.644401 \r\nL 840.56881 58.609077 \r\nL 843.730578 57.973247 \r\nL 845.904293 57.620007 \r\nL 845.970164 57.37274 \r\nL 850.383465 56.878205 \r\nL 851.173907 56.807557 \r\nL 851.173907 56.666261 \r\nL 858.880716 55.394599 \r\nL 859.934638 55.323952 \r\nL 860.000509 55.21798 \r\nL 861.647263 55.006036 \r\nL 862.701185 54.688121 \r\nL 864.809031 54.511501 \r\nL 865.862953 54.22891 \r\nL 866.521655 54.158262 \r\nL 867.114486 53.946318 \r\nL 869.222332 53.522431 \r\nL 869.617553 53.310487 \r\nL 870.078644 53.310487 \r\nL 873.438022 52.8866 \r\nL 874.096724 52.533361 \r\nL 874.821296 52.427389 \r\nL 874.821296 52.392065 \r\nL 875.348257 52.321417 \r\nL 875.414127 52.144798 \r\nL 876.138699 52.038826 \r\nL 876.204569 51.968178 \r\nL 879.300467 51.862206 \r\nL 879.695688 51.685587 \r\nL 880.552 51.544291 \r\nL 880.749611 51.508967 \r\nL 883.516158 51.261699 \r\nL 883.516158 51.226375 \r\nL 883.911379 51.226375 \r\nL 883.911379 51.155728 \r\nL 884.043119 51.08508 \r\nL 884.899431 51.014432 \r\nL 884.899431 50.943784 \r\nL 886.282704 50.837812 \r\nL 886.282704 50.802488 \r\nL 890.630135 49.707446 \r\nL 891.157097 49.601474 \r\nL 891.157097 49.566151 \r\nL 892.67211 49.460179 \r\nL 893.133202 49.283559 \r\nL 893.462552 49.177587 \r\nL 894.779956 48.789024 \r\nL 895.438657 48.718376 \r\nL 895.438657 48.647728 \r\nL 896.29497 48.57708 \r\nL 899.390867 47.799954 \r\nL 900.31305 47.340743 \r\nL 900.971751 47.270095 \r\nL 901.893934 47.022827 \r\nL 902.025674 47.022827 \r\nL 903.738298 46.175053 \r\nL 904.397 46.069081 \r\nL 904.397 46.033757 \r\nL 905.450922 45.927785 \r\nL 905.450922 45.892462 \r\nL 905.516793 45.892462 \r\nL 905.582663 45.78649 \r\nL 906.307235 45.680518 \r\nL 907.097677 45.574546 \r\nL 907.295287 45.43325 \r\nL 909.073782 45.362603 \r\nL 910.127704 45.150659 \r\nL 910.588795 45.044687 \r\nL 910.588795 45.009363 \r\nL 910.984016 44.938715 \r\nL 917.439292 43.702378 \r\nL 918.756696 43.349138 \r\nL 919.151917 43.278491 \r\nL 920.139969 43.066547 \r\nL 920.798671 43.066547 \r\nL 935.224237 41.229702 \r\nL 935.224237 41.194379 \r\nL 935.553588 41.088407 \r\nL 935.619458 41.017759 \r\nL 937.661433 40.911787 \r\nL 937.990784 40.805815 \r\nL 940.625591 40.558548 \r\nL 940.625591 40.523224 \r\nL 941.020812 40.4879 \r\nL 941.020812 40.452576 \r\nL 941.284292 40.381928 \r\nL 945.170632 40.099337 \r\nL 947.146737 39.852069 \r\nL 947.937179 39.746097 \r\nL 952.086999 39.251562 \r\nL 957.093132 39.14559 \r\nL 965.656253 38.474436 \r\nL 965.853864 38.368464 \r\nL 967.764098 38.121196 \r\nL 967.764098 38.050548 \r\nL 967.829969 38.050548 \r\nL 967.961709 38.050548 \r\nL 968.35693 37.909253 \r\nL 969.410853 37.873929 \r\nL 972.638491 37.414718 \r\nL 972.901971 37.414718 \r\nL 972.901971 37.379394 \r\nL 981.530963 36.920183 \r\nL 984.824471 36.884859 \r\nL 991.806709 36.496295 \r\nL 995.100217 36.496295 \r\nL 995.100217 36.496295 \r\n\" style=\"fill:none;stroke:#e24a33;stroke-linecap:square;stroke-width:1.5;\"/>\r\n   </g>\r\n   <g id=\"patch_8\">\r\n    <path d=\"M 510.885341 295.94175 \r\nL 510.885341 24.14175 \r\n\" style=\"fill:none;stroke:#ffffff;stroke-linecap:square;stroke-linejoin:miter;\"/>\r\n   </g>\r\n   <g id=\"patch_9\">\r\n    <path d=\"M 1018.158068 295.94175 \r\nL 1018.158068 24.14175 \r\n\" style=\"fill:none;stroke:#ffffff;stroke-linecap:square;stroke-linejoin:miter;\"/>\r\n   </g>\r\n   <g id=\"patch_10\">\r\n    <path d=\"M 510.885341 295.94175 \r\nL 1018.158068 295.94175 \r\n\" style=\"fill:none;stroke:#ffffff;stroke-linecap:square;stroke-linejoin:miter;\"/>\r\n   </g>\r\n   <g id=\"patch_11\">\r\n    <path d=\"M 510.885341 24.14175 \r\nL 1018.158068 24.14175 \r\n\" style=\"fill:none;stroke:#ffffff;stroke-linecap:square;stroke-linejoin:miter;\"/>\r\n   </g>\r\n   <g id=\"text_26\">\r\n    <!-- ROC Curve -->\r\n    <defs>\r\n     <path d=\"M 39.40625 66.21875 \r\nQ 28.65625 66.21875 22.328125 58.203125 \r\nQ 16.015625 50.203125 16.015625 36.375 \r\nQ 16.015625 22.609375 22.328125 14.59375 \r\nQ 28.65625 6.59375 39.40625 6.59375 \r\nQ 50.140625 6.59375 56.421875 14.59375 \r\nQ 62.703125 22.609375 62.703125 36.375 \r\nQ 62.703125 50.203125 56.421875 58.203125 \r\nQ 50.140625 66.21875 39.40625 66.21875 \r\nz\r\nM 39.40625 74.21875 \r\nQ 54.734375 74.21875 63.90625 63.9375 \r\nQ 73.09375 53.65625 73.09375 36.375 \r\nQ 73.09375 19.140625 63.90625 8.859375 \r\nQ 54.734375 -1.421875 39.40625 -1.421875 \r\nQ 24.03125 -1.421875 14.8125 8.828125 \r\nQ 5.609375 19.09375 5.609375 36.375 \r\nQ 5.609375 53.65625 14.8125 63.9375 \r\nQ 24.03125 74.21875 39.40625 74.21875 \r\nz\r\n\" id=\"DejaVuSans-79\"/>\r\n    </defs>\r\n    <g transform=\"translate(725.292955 18.14175)scale(0.144 -0.144)\">\r\n     <use xlink:href=\"#DejaVuSans-82\"/>\r\n     <use x=\"69.482422\" xlink:href=\"#DejaVuSans-79\"/>\r\n     <use x=\"148.193359\" xlink:href=\"#DejaVuSans-67\"/>\r\n     <use x=\"218.017578\" xlink:href=\"#DejaVuSans-32\"/>\r\n     <use x=\"249.804688\" xlink:href=\"#DejaVuSans-67\"/>\r\n     <use x=\"319.628906\" xlink:href=\"#DejaVuSans-117\"/>\r\n     <use x=\"383.007812\" xlink:href=\"#DejaVuSans-114\"/>\r\n     <use x=\"424.121094\" xlink:href=\"#DejaVuSans-118\"/>\r\n     <use x=\"483.300781\" xlink:href=\"#DejaVuSans-101\"/>\r\n    </g>\r\n   </g>\r\n   <g id=\"legend_1\">\r\n    <g id=\"patch_12\">\r\n     <path d=\"M 817.292443 290.94175 \r\nL 1011.158068 290.94175 \r\nQ 1013.158068 290.94175 1013.158068 288.94175 \r\nL 1013.158068 275.263625 \r\nQ 1013.158068 273.263625 1011.158068 273.263625 \r\nL 817.292443 273.263625 \r\nQ 815.292443 273.263625 815.292443 275.263625 \r\nL 815.292443 288.94175 \r\nQ 815.292443 290.94175 817.292443 290.94175 \r\nz\r\n\" style=\"fill:#e5e5e5;opacity:0.8;stroke:#cccccc;stroke-linejoin:miter;stroke-width:0.5;\"/>\r\n    </g>\r\n    <g id=\"line2d_34\">\r\n     <path d=\"M 819.292443 281.362062 \r\nL 839.292443 281.362062 \r\n\" style=\"fill:none;stroke:#e24a33;stroke-linecap:square;stroke-width:1.5;\"/>\r\n    </g>\r\n    <g id=\"line2d_35\"/>\r\n    <g id=\"text_27\">\r\n     <!-- LogisticRegression (AUC = 0.76) -->\r\n     <defs>\r\n      <path d=\"M 9.8125 72.90625 \r\nL 19.671875 72.90625 \r\nL 19.671875 8.296875 \r\nL 55.171875 8.296875 \r\nL 55.171875 0 \r\nL 9.8125 0 \r\nz\r\n\" id=\"DejaVuSans-76\"/>\r\n      <path d=\"M 45.40625 27.984375 \r\nQ 45.40625 37.75 41.375 43.109375 \r\nQ 37.359375 48.484375 30.078125 48.484375 \r\nQ 22.859375 48.484375 18.828125 43.109375 \r\nQ 14.796875 37.75 14.796875 27.984375 \r\nQ 14.796875 18.265625 18.828125 12.890625 \r\nQ 22.859375 7.515625 30.078125 7.515625 \r\nQ 37.359375 7.515625 41.375 12.890625 \r\nQ 45.40625 18.265625 45.40625 27.984375 \r\nz\r\nM 54.390625 6.78125 \r\nQ 54.390625 -7.171875 48.1875 -13.984375 \r\nQ 42 -20.796875 29.203125 -20.796875 \r\nQ 24.46875 -20.796875 20.265625 -20.09375 \r\nQ 16.0625 -19.390625 12.109375 -17.921875 \r\nL 12.109375 -9.1875 \r\nQ 16.0625 -11.328125 19.921875 -12.34375 \r\nQ 23.78125 -13.375 27.78125 -13.375 \r\nQ 36.625 -13.375 41.015625 -8.765625 \r\nQ 45.40625 -4.15625 45.40625 5.171875 \r\nL 45.40625 9.625 \r\nQ 42.625 4.78125 38.28125 2.390625 \r\nQ 33.9375 0 27.875 0 \r\nQ 17.828125 0 11.671875 7.65625 \r\nQ 5.515625 15.328125 5.515625 27.984375 \r\nQ 5.515625 40.671875 11.671875 48.328125 \r\nQ 17.828125 56 27.875 56 \r\nQ 33.9375 56 38.28125 53.609375 \r\nQ 42.625 51.21875 45.40625 46.390625 \r\nL 45.40625 54.6875 \r\nL 54.390625 54.6875 \r\nz\r\n\" id=\"DejaVuSans-103\"/>\r\n      <path d=\"M 31 75.875 \r\nQ 24.46875 64.65625 21.28125 53.65625 \r\nQ 18.109375 42.671875 18.109375 31.390625 \r\nQ 18.109375 20.125 21.3125 9.0625 \r\nQ 24.515625 -2 31 -13.1875 \r\nL 23.1875 -13.1875 \r\nQ 15.875 -1.703125 12.234375 9.375 \r\nQ 8.59375 20.453125 8.59375 31.390625 \r\nQ 8.59375 42.28125 12.203125 53.3125 \r\nQ 15.828125 64.359375 23.1875 75.875 \r\nz\r\n\" id=\"DejaVuSans-40\"/>\r\n      <path d=\"M 34.1875 63.1875 \r\nL 20.796875 26.90625 \r\nL 47.609375 26.90625 \r\nz\r\nM 28.609375 72.90625 \r\nL 39.796875 72.90625 \r\nL 67.578125 0 \r\nL 57.328125 0 \r\nL 50.6875 18.703125 \r\nL 17.828125 18.703125 \r\nL 11.1875 0 \r\nL 0.78125 0 \r\nz\r\n\" id=\"DejaVuSans-65\"/>\r\n      <path d=\"M 8.6875 72.90625 \r\nL 18.609375 72.90625 \r\nL 18.609375 28.609375 \r\nQ 18.609375 16.890625 22.84375 11.734375 \r\nQ 27.09375 6.59375 36.625 6.59375 \r\nQ 46.09375 6.59375 50.34375 11.734375 \r\nQ 54.59375 16.890625 54.59375 28.609375 \r\nL 54.59375 72.90625 \r\nL 64.5 72.90625 \r\nL 64.5 27.390625 \r\nQ 64.5 13.140625 57.4375 5.859375 \r\nQ 50.390625 -1.421875 36.625 -1.421875 \r\nQ 22.796875 -1.421875 15.734375 5.859375 \r\nQ 8.6875 13.140625 8.6875 27.390625 \r\nz\r\n\" id=\"DejaVuSans-85\"/>\r\n      <path d=\"M 10.59375 45.40625 \r\nL 73.1875 45.40625 \r\nL 73.1875 37.203125 \r\nL 10.59375 37.203125 \r\nz\r\nM 10.59375 25.484375 \r\nL 73.1875 25.484375 \r\nL 73.1875 17.1875 \r\nL 10.59375 17.1875 \r\nz\r\n\" id=\"DejaVuSans-61\"/>\r\n      <path d=\"M 8.015625 75.875 \r\nL 15.828125 75.875 \r\nQ 23.140625 64.359375 26.78125 53.3125 \r\nQ 30.421875 42.28125 30.421875 31.390625 \r\nQ 30.421875 20.453125 26.78125 9.375 \r\nQ 23.140625 -1.703125 15.828125 -13.1875 \r\nL 8.015625 -13.1875 \r\nQ 14.5 -2 17.703125 9.0625 \r\nQ 20.90625 20.125 20.90625 31.390625 \r\nQ 20.90625 42.671875 17.703125 53.65625 \r\nQ 14.5 64.65625 8.015625 75.875 \r\nz\r\n\" id=\"DejaVuSans-41\"/>\r\n     </defs>\r\n     <g transform=\"translate(847.292443 284.862062)scale(0.1 -0.1)\">\r\n      <use xlink:href=\"#DejaVuSans-76\"/>\r\n      <use x=\"53.962891\" xlink:href=\"#DejaVuSans-111\"/>\r\n      <use x=\"115.144531\" xlink:href=\"#DejaVuSans-103\"/>\r\n      <use x=\"178.621094\" xlink:href=\"#DejaVuSans-105\"/>\r\n      <use x=\"206.404297\" xlink:href=\"#DejaVuSans-115\"/>\r\n      <use x=\"258.503906\" xlink:href=\"#DejaVuSans-116\"/>\r\n      <use x=\"297.712891\" xlink:href=\"#DejaVuSans-105\"/>\r\n      <use x=\"325.496094\" xlink:href=\"#DejaVuSans-99\"/>\r\n      <use x=\"380.476562\" xlink:href=\"#DejaVuSans-82\"/>\r\n      <use x=\"445.458984\" xlink:href=\"#DejaVuSans-101\"/>\r\n      <use x=\"506.982422\" xlink:href=\"#DejaVuSans-103\"/>\r\n      <use x=\"570.458984\" xlink:href=\"#DejaVuSans-114\"/>\r\n      <use x=\"609.322266\" xlink:href=\"#DejaVuSans-101\"/>\r\n      <use x=\"670.845703\" xlink:href=\"#DejaVuSans-115\"/>\r\n      <use x=\"722.945312\" xlink:href=\"#DejaVuSans-115\"/>\r\n      <use x=\"775.044922\" xlink:href=\"#DejaVuSans-105\"/>\r\n      <use x=\"802.828125\" xlink:href=\"#DejaVuSans-111\"/>\r\n      <use x=\"864.009766\" xlink:href=\"#DejaVuSans-110\"/>\r\n      <use x=\"927.388672\" xlink:href=\"#DejaVuSans-32\"/>\r\n      <use x=\"959.175781\" xlink:href=\"#DejaVuSans-40\"/>\r\n      <use x=\"998.189453\" xlink:href=\"#DejaVuSans-65\"/>\r\n      <use x=\"1066.597656\" xlink:href=\"#DejaVuSans-85\"/>\r\n      <use x=\"1139.791016\" xlink:href=\"#DejaVuSans-67\"/>\r\n      <use x=\"1209.615234\" xlink:href=\"#DejaVuSans-32\"/>\r\n      <use x=\"1241.402344\" xlink:href=\"#DejaVuSans-61\"/>\r\n      <use x=\"1325.191406\" xlink:href=\"#DejaVuSans-32\"/>\r\n      <use x=\"1356.978516\" xlink:href=\"#DejaVuSans-48\"/>\r\n      <use x=\"1420.601562\" xlink:href=\"#DejaVuSans-46\"/>\r\n      <use x=\"1452.388672\" xlink:href=\"#DejaVuSans-55\"/>\r\n      <use x=\"1516.011719\" xlink:href=\"#DejaVuSans-54\"/>\r\n      <use x=\"1579.634766\" xlink:href=\"#DejaVuSans-41\"/>\r\n     </g>\r\n    </g>\r\n   </g>\r\n  </g>\r\n  <g id=\"axes_3\">\r\n   <g id=\"patch_13\">\r\n    <path clip-path=\"url(#pbf8d0c5a56)\" d=\"M 333.339886 295.94175 \r\nL 333.339886 294.880031 \r\nL 333.339886 25.203469 \r\nL 333.339886 24.14175 \r\nL 346.929886 24.14175 \r\nL 346.929886 25.203469 \r\nL 346.929886 294.880031 \r\nL 346.929886 295.94175 \r\nz\r\n\" style=\"fill:#e5e5e5;stroke:#e5e5e5;stroke-linejoin:miter;stroke-width:0.01;\"/>\r\n   </g>\r\n   <g id=\"matplotlib.axis_5\"/>\r\n   <g id=\"matplotlib.axis_6\">\r\n    <g id=\"ytick_9\">\r\n     <g id=\"line2d_36\">\r\n      <defs>\r\n       <path d=\"M 0 0 \r\nL 3.5 0 \r\n\" id=\"m308e41dd72\" style=\"stroke:#555555;stroke-width:0.8;\"/>\r\n      </defs>\r\n      <g>\r\n       <use style=\"fill:#555555;stroke:#555555;stroke-width:0.8;\" x=\"346.929886\" xlink:href=\"#m308e41dd72\" y=\"284.918006\"/>\r\n      </g>\r\n     </g>\r\n     <g id=\"text_28\">\r\n      <!-- 0.30 -->\r\n      <g style=\"fill:#555555;\" transform=\"translate(353.929886 288.717225)scale(0.1 -0.1)\">\r\n       <use xlink:href=\"#DejaVuSans-48\"/>\r\n       <use x=\"63.623047\" xlink:href=\"#DejaVuSans-46\"/>\r\n       <use x=\"95.410156\" xlink:href=\"#DejaVuSans-51\"/>\r\n       <use x=\"159.033203\" xlink:href=\"#DejaVuSans-48\"/>\r\n      </g>\r\n     </g>\r\n    </g>\r\n    <g id=\"ytick_10\">\r\n     <g id=\"line2d_37\">\r\n      <g>\r\n       <use style=\"fill:#555555;stroke:#555555;stroke-width:0.8;\" x=\"346.929886\" xlink:href=\"#m308e41dd72\" y=\"253.698942\"/>\r\n      </g>\r\n     </g>\r\n     <g id=\"text_29\">\r\n      <!-- 0.35 -->\r\n      <defs>\r\n       <path d=\"M 10.796875 72.90625 \r\nL 49.515625 72.90625 \r\nL 49.515625 64.59375 \r\nL 19.828125 64.59375 \r\nL 19.828125 46.734375 \r\nQ 21.96875 47.46875 24.109375 47.828125 \r\nQ 26.265625 48.1875 28.421875 48.1875 \r\nQ 40.625 48.1875 47.75 41.5 \r\nQ 54.890625 34.8125 54.890625 23.390625 \r\nQ 54.890625 11.625 47.5625 5.09375 \r\nQ 40.234375 -1.421875 26.90625 -1.421875 \r\nQ 22.3125 -1.421875 17.546875 -0.640625 \r\nQ 12.796875 0.140625 7.71875 1.703125 \r\nL 7.71875 11.625 \r\nQ 12.109375 9.234375 16.796875 8.0625 \r\nQ 21.484375 6.890625 26.703125 6.890625 \r\nQ 35.15625 6.890625 40.078125 11.328125 \r\nQ 45.015625 15.765625 45.015625 23.390625 \r\nQ 45.015625 31 40.078125 35.4375 \r\nQ 35.15625 39.890625 26.703125 39.890625 \r\nQ 22.75 39.890625 18.8125 39.015625 \r\nQ 14.890625 38.140625 10.796875 36.28125 \r\nz\r\n\" id=\"DejaVuSans-53\"/>\r\n      </defs>\r\n      <g style=\"fill:#555555;\" transform=\"translate(353.929886 257.498161)scale(0.1 -0.1)\">\r\n       <use xlink:href=\"#DejaVuSans-48\"/>\r\n       <use x=\"63.623047\" xlink:href=\"#DejaVuSans-46\"/>\r\n       <use x=\"95.410156\" xlink:href=\"#DejaVuSans-51\"/>\r\n       <use x=\"159.033203\" xlink:href=\"#DejaVuSans-53\"/>\r\n      </g>\r\n     </g>\r\n    </g>\r\n    <g id=\"ytick_11\">\r\n     <g id=\"line2d_38\">\r\n      <g>\r\n       <use style=\"fill:#555555;stroke:#555555;stroke-width:0.8;\" x=\"346.929886\" xlink:href=\"#m308e41dd72\" y=\"222.479878\"/>\r\n      </g>\r\n     </g>\r\n     <g id=\"text_30\">\r\n      <!-- 0.40 -->\r\n      <g style=\"fill:#555555;\" transform=\"translate(353.929886 226.279097)scale(0.1 -0.1)\">\r\n       <use xlink:href=\"#DejaVuSans-48\"/>\r\n       <use x=\"63.623047\" xlink:href=\"#DejaVuSans-46\"/>\r\n       <use x=\"95.410156\" xlink:href=\"#DejaVuSans-52\"/>\r\n       <use x=\"159.033203\" xlink:href=\"#DejaVuSans-48\"/>\r\n      </g>\r\n     </g>\r\n    </g>\r\n    <g id=\"ytick_12\">\r\n     <g id=\"line2d_39\">\r\n      <g>\r\n       <use style=\"fill:#555555;stroke:#555555;stroke-width:0.8;\" x=\"346.929886\" xlink:href=\"#m308e41dd72\" y=\"191.260814\"/>\r\n      </g>\r\n     </g>\r\n     <g id=\"text_31\">\r\n      <!-- 0.45 -->\r\n      <g style=\"fill:#555555;\" transform=\"translate(353.929886 195.060033)scale(0.1 -0.1)\">\r\n       <use xlink:href=\"#DejaVuSans-48\"/>\r\n       <use x=\"63.623047\" xlink:href=\"#DejaVuSans-46\"/>\r\n       <use x=\"95.410156\" xlink:href=\"#DejaVuSans-52\"/>\r\n       <use x=\"159.033203\" xlink:href=\"#DejaVuSans-53\"/>\r\n      </g>\r\n     </g>\r\n    </g>\r\n    <g id=\"ytick_13\">\r\n     <g id=\"line2d_40\">\r\n      <g>\r\n       <use style=\"fill:#555555;stroke:#555555;stroke-width:0.8;\" x=\"346.929886\" xlink:href=\"#m308e41dd72\" y=\"160.04175\"/>\r\n      </g>\r\n     </g>\r\n     <g id=\"text_32\">\r\n      <!-- 0.50 -->\r\n      <g style=\"fill:#555555;\" transform=\"translate(353.929886 163.840969)scale(0.1 -0.1)\">\r\n       <use xlink:href=\"#DejaVuSans-48\"/>\r\n       <use x=\"63.623047\" xlink:href=\"#DejaVuSans-46\"/>\r\n       <use x=\"95.410156\" xlink:href=\"#DejaVuSans-53\"/>\r\n       <use x=\"159.033203\" xlink:href=\"#DejaVuSans-48\"/>\r\n      </g>\r\n     </g>\r\n    </g>\r\n    <g id=\"ytick_14\">\r\n     <g id=\"line2d_41\">\r\n      <g>\r\n       <use style=\"fill:#555555;stroke:#555555;stroke-width:0.8;\" x=\"346.929886\" xlink:href=\"#m308e41dd72\" y=\"128.822686\"/>\r\n      </g>\r\n     </g>\r\n     <g id=\"text_33\">\r\n      <!-- 0.55 -->\r\n      <g style=\"fill:#555555;\" transform=\"translate(353.929886 132.621905)scale(0.1 -0.1)\">\r\n       <use xlink:href=\"#DejaVuSans-48\"/>\r\n       <use x=\"63.623047\" xlink:href=\"#DejaVuSans-46\"/>\r\n       <use x=\"95.410156\" xlink:href=\"#DejaVuSans-53\"/>\r\n       <use x=\"159.033203\" xlink:href=\"#DejaVuSans-53\"/>\r\n      </g>\r\n     </g>\r\n    </g>\r\n    <g id=\"ytick_15\">\r\n     <g id=\"line2d_42\">\r\n      <g>\r\n       <use style=\"fill:#555555;stroke:#555555;stroke-width:0.8;\" x=\"346.929886\" xlink:href=\"#m308e41dd72\" y=\"97.603622\"/>\r\n      </g>\r\n     </g>\r\n     <g id=\"text_34\">\r\n      <!-- 0.60 -->\r\n      <g style=\"fill:#555555;\" transform=\"translate(353.929886 101.402841)scale(0.1 -0.1)\">\r\n       <use xlink:href=\"#DejaVuSans-48\"/>\r\n       <use x=\"63.623047\" xlink:href=\"#DejaVuSans-46\"/>\r\n       <use x=\"95.410156\" xlink:href=\"#DejaVuSans-54\"/>\r\n       <use x=\"159.033203\" xlink:href=\"#DejaVuSans-48\"/>\r\n      </g>\r\n     </g>\r\n    </g>\r\n    <g id=\"ytick_16\">\r\n     <g id=\"line2d_43\">\r\n      <g>\r\n       <use style=\"fill:#555555;stroke:#555555;stroke-width:0.8;\" x=\"346.929886\" xlink:href=\"#m308e41dd72\" y=\"66.384558\"/>\r\n      </g>\r\n     </g>\r\n     <g id=\"text_35\">\r\n      <!-- 0.65 -->\r\n      <g style=\"fill:#555555;\" transform=\"translate(353.929886 70.183777)scale(0.1 -0.1)\">\r\n       <use xlink:href=\"#DejaVuSans-48\"/>\r\n       <use x=\"63.623047\" xlink:href=\"#DejaVuSans-46\"/>\r\n       <use x=\"95.410156\" xlink:href=\"#DejaVuSans-54\"/>\r\n       <use x=\"159.033203\" xlink:href=\"#DejaVuSans-53\"/>\r\n      </g>\r\n     </g>\r\n    </g>\r\n    <g id=\"ytick_17\">\r\n     <g id=\"line2d_44\">\r\n      <g>\r\n       <use style=\"fill:#555555;stroke:#555555;stroke-width:0.8;\" x=\"346.929886\" xlink:href=\"#m308e41dd72\" y=\"35.165494\"/>\r\n      </g>\r\n     </g>\r\n     <g id=\"text_36\">\r\n      <!-- 0.70 -->\r\n      <g style=\"fill:#555555;\" transform=\"translate(353.929886 38.964713)scale(0.1 -0.1)\">\r\n       <use xlink:href=\"#DejaVuSans-48\"/>\r\n       <use x=\"63.623047\" xlink:href=\"#DejaVuSans-46\"/>\r\n       <use x=\"95.410156\" xlink:href=\"#DejaVuSans-55\"/>\r\n       <use x=\"159.033203\" xlink:href=\"#DejaVuSans-48\"/>\r\n      </g>\r\n     </g>\r\n    </g>\r\n   </g>\r\n   <image height=\"272\" id=\"imagea305a52921\" transform=\"scale(1 -1)translate(0 -272)\" width=\"14\" x=\"333\" xlink:href=\"data:image/png;base64,\r\niVBORw0KGgoAAAANSUhEUgAAAA4AAAEQCAYAAACA40WOAAAABHNCSVQICAgIfAhkiAAAAXpJREFUaIHtm8uRwzAMQyXZpaWE9F9KnA58eIjBQai9Y/AhSCUz2fma72uAv3PMRXDjnGsyYBDj4IwQOBeTylBDkTqgVIWRpppTgKRxFHj0SzU3p2KRG8zx4lIRLmocHcKxeyxYZO6R4RSp9uZcdo84Vf8++pvjHwdlVBaZAun7KKQKgTlz3B5vGflBpowxqRZcgKiSBzEGPXNuYIMC8EXec7xjZLgm4ezm/B6YtMg5qe6D/AiwR+XYI7AL8AijfY5NvlvBcCrmiIHuRe4wR/i9M6tyw59qB0YIxM2hHvkFwB6DCgAJFUYORLhxrgKp/+9x0btKPfJFLggnh1GYo11qEJCmmuTR/iJXpPpxM+Z4PAo8usdxBEnl42BSC17kA0pVUqWMtDmcES+yveQVjP7Tge+quXJ8kQWp7kdHKIC7cvZLzufIU7WfR35zClKN+UzOS27/oIsZBakIJ3WVMnKp8NdrglTMCIGCR8oIPSpfruH/lAkeMSMDfgGEcI0i+PmBrwAAAABJRU5ErkJggg==\" y=\"-24\"/>\r\n   <g id=\"patch_14\">\r\n    <path d=\"M 333.339886 295.94175 \r\nL 333.339886 294.880031 \r\nL 333.339886 25.203469 \r\nL 333.339886 24.14175 \r\nL 346.929886 24.14175 \r\nL 346.929886 25.203469 \r\nL 346.929886 294.880031 \r\nL 346.929886 295.94175 \r\nz\r\n\" style=\"fill:none;stroke:#ffffff;stroke-linejoin:miter;\"/>\r\n   </g>\r\n  </g>\r\n </g>\r\n <defs>\r\n  <clipPath id=\"p17f9cfc14f\">\r\n   <rect height=\"271.8\" width=\"271.8\" x=\"36.17625\" y=\"24.14175\"/>\r\n  </clipPath>\r\n  <clipPath id=\"pa56fdb7e31\">\r\n   <rect height=\"271.8\" width=\"507.272727\" x=\"510.885341\" y=\"24.14175\"/>\r\n  </clipPath>\r\n  <clipPath id=\"pbf8d0c5a56\">\r\n   <rect height=\"271.8\" width=\"13.59\" x=\"333.339886\" y=\"24.14175\"/>\r\n  </clipPath>\r\n </defs>\r\n</svg>\r\n",
      "image/png": "[encoded data removed]"
     },
     "metadata": {}
    }
   ],
   "source": [
    "from sklearn.metrics import plot_confusion_matrix\n",
    "from sklearn.metrics import plot_roc_curve\n",
    "\n",
    "fig = plt.figure(1, figsize=(20, 5))\n",
    "\n",
    "chart_1 = fig.add_subplot(121)\n",
    "chart_2 = fig.add_subplot(122)\n",
    "\n",
    "plot_confusion_matrix(logreg, X_test, y_test, normalize='true', ax=chart_1)\n",
    "chart_1.set_title('Confusion Matrix')\n",
    "\n",
    "plot_roc_curve(logreg, X_test, y_test, ax=chart_2)\n",
    "chart_2.set_title('ROC Curve')\n",
    "\n",
    "plt.show()"
   ]
  },
  {
   "cell_type": "code",
   "execution_count": 148,
   "metadata": {},
   "outputs": [
    {
     "output_type": "stream",
     "name": "stdout",
     "text": "Accuracy of the log reg model on the test data: 0.71\n"
    }
   ],
   "source": [
    "\n",
    "print('Accuracy of the log reg model on the test data: {:.2f}'.format(logreg.score(X_test, y_test)))"
   ]
  },
  {
   "cell_type": "code",
   "execution_count": 149,
   "metadata": {},
   "outputs": [],
   "source": [
    "from IPython.display import Markdown as md"
   ]
  },
  {
   "cell_type": "code",
   "execution_count": 150,
   "metadata": {},
   "outputs": [
    {
     "output_type": "execute_result",
     "data": {
      "text/plain": "<IPython.core.display.Markdown object>",
      "text/markdown": "**True Positives:**  5020 \n\n **True Negatives:**  4874 \n\n **False Positives:**  2127 \n\n **False Negatives:**  1975"
     },
     "metadata": {},
     "execution_count": 150
    }
   ],
   "source": [
    "### Logistic Regression Metrics\n",
    "\n",
    "md(f\"**True Positives:**  {confusion_matrix[1, 1]} \\n\\n **True Negatives:**  {confusion_matrix[0, 0]} \\n\\n **False Positives:**  {confusion_matrix[0, 1]} \\n\\n **False Negatives:**  {confusion_matrix[1, 0]}\")\n"
   ]
  },
  {
   "cell_type": "code",
   "execution_count": 151,
   "metadata": {},
   "outputs": [
    {
     "output_type": "execute_result",
     "data": {
      "text/plain": "<IPython.core.display.Markdown object>",
      "text/markdown": "**Accuracy:**  0.707\n\n-how often we were correct overall"
     },
     "metadata": {},
     "execution_count": 151
    }
   ],
   "source": [
    "md(f\"**Accuracy:**  { format(( confusion_matrix[1, 1] + confusion_matrix[0, 0] ) / confusion_matrix.sum(), '.3f')}\\n\\n-how often we were correct overall\")"
   ]
  },
  {
   "cell_type": "code",
   "execution_count": 152,
   "metadata": {},
   "outputs": [
    {
     "output_type": "execute_result",
     "data": {
      "text/plain": "<IPython.core.display.Markdown object>",
      "text/markdown": "**Error:**  0.293\n\n-how often we were incorrect overall"
     },
     "metadata": {},
     "execution_count": 152
    }
   ],
   "source": [
    "md(f\"**Error:**  { format(( confusion_matrix[0, 1] + confusion_matrix[1, 0] ) / confusion_matrix.sum(), '.3f')}\\n\\n-how often we were incorrect overall\")"
   ]
  },
  {
   "cell_type": "code",
   "execution_count": 153,
   "metadata": {},
   "outputs": [
    {
     "output_type": "execute_result",
     "data": {
      "text/plain": "<IPython.core.display.Markdown object>",
      "text/markdown": "**Sensitivity/ Recall:**  0.718\n\n-when the patient actually had CVD, how often were we correct"
     },
     "metadata": {},
     "execution_count": 153
    }
   ],
   "source": [
    "md(f\"**Sensitivity/ Recall:**  { format(( confusion_matrix[1, 1] ) / confusion_matrix[1].sum(axis=0), '.3f')}\\n\\n-when the patient actually had CVD, how often were we correct\")"
   ]
  },
  {
   "cell_type": "code",
   "execution_count": 154,
   "metadata": {},
   "outputs": [
    {
     "output_type": "execute_result",
     "data": {
      "text/plain": "<IPython.core.display.Markdown object>",
      "text/markdown": "**Specificity:**  0.696\n\n-when the patient did not had CVD, how often were we correct"
     },
     "metadata": {},
     "execution_count": 154
    }
   ],
   "source": [
    "md(f\"**Specificity:**  { format(( confusion_matrix[0, 0] ) / confusion_matrix[0].sum(), '.3f')}\\n\\n-when the patient did not had CVD, how often were we correct\")"
   ]
  },
  {
   "cell_type": "code",
   "execution_count": 155,
   "metadata": {},
   "outputs": [
    {
     "output_type": "execute_result",
     "data": {
      "text/plain": "<IPython.core.display.Markdown object>",
      "text/markdown": "**False Postive Rate:**  0.304\n\n-when the patient did not had CVD, how often were we incorrect"
     },
     "metadata": {},
     "execution_count": 155
    }
   ],
   "source": [
    "md(f\"**False Postive Rate:**  { format(( confusion_matrix[0, 1] ) / ( confusion_matrix[0, 0] + confusion_matrix[0, 1] ), '.3f')}\\n\\n-when the patient did not had CVD, how often were we incorrect\")"
   ]
  },
  {
   "cell_type": "code",
   "execution_count": 156,
   "metadata": {},
   "outputs": [
    {
     "output_type": "execute_result",
     "data": {
      "text/plain": "<IPython.core.display.Markdown object>",
      "text/markdown": "**Precision:**  0.702\n\n-how precise were we when classifying the patient as having CVD"
     },
     "metadata": {},
     "execution_count": 156
    }
   ],
   "source": [
    "md(f\"**Precision:**  { format(( confusion_matrix[1, 1] ) / ( confusion_matrix[1, 1] + confusion_matrix[0, 1] ), '.3f')}\\n\\n-how precise were we when classifying the patient as having CVD\")"
   ]
  },
  {
   "cell_type": "code",
   "execution_count": 157,
   "metadata": {},
   "outputs": [],
   "source": [
    "from sklearn.linear_model import SGDClassifier\n",
    "\n",
    "SGDClassifier(alpha=0.001, class_weight=\"balanced\")\n",
    "svm_sgd = SGDClassifier() # get object"
   ]
  },
  {
   "cell_type": "code",
   "execution_count": 158,
   "metadata": {},
   "outputs": [
    {
     "output_type": "execute_result",
     "data": {
      "text/plain": "SGDClassifier(alpha=0.0001, average=False, class_weight=None,\n              early_stopping=False, epsilon=0.1, eta0=0.0, fit_intercept=True,\n              l1_ratio=0.15, learning_rate='optimal', loss='hinge',\n              max_iter=1000, n_iter_no_change=5, n_jobs=None, penalty='l2',\n              power_t=0.5, random_state=None, shuffle=True, tol=0.001,\n              validation_fraction=0.1, verbose=0, warm_start=False)"
     },
     "metadata": {},
     "execution_count": 158
    }
   ],
   "source": [
    "svm_sgd.fit(X_train, y_train)  # train object"
   ]
  },
  {
   "cell_type": "code",
   "execution_count": 159,
   "metadata": {},
   "outputs": [],
   "source": [
    "y_pred = svm_sgd.predict(X_test)"
   ]
  },
  {
   "cell_type": "code",
   "execution_count": 160,
   "metadata": {},
   "outputs": [
    {
     "output_type": "stream",
     "name": "stdout",
     "text": "precision    recall  f1-score   support\n\n           0       0.69      0.68      0.69      7001\n           1       0.69      0.70      0.69      6995\n\n    accuracy                           0.69     13996\n   macro avg       0.69      0.69      0.69     13996\nweighted avg       0.69      0.69      0.69     13996\n\n"
    }
   ],
   "source": [
    "print(classification_report(y_test, y_pred))"
   ]
  },
  {
   "cell_type": "code",
   "execution_count": 161,
   "metadata": {},
   "outputs": [
    {
     "output_type": "execute_result",
     "data": {
      "text/plain": "LinearSVC(C=5, class_weight=None, dual=True, fit_intercept=True,\n          intercept_scaling=1, loss='squared_hinge', max_iter=1000,\n          multi_class='ovr', penalty='l2', random_state=None, tol=0.0001,\n          verbose=0)"
     },
     "metadata": {},
     "execution_count": 161
    }
   ],
   "source": [
    "from sklearn.svm import LinearSVC\n",
    "\n",
    "svm_lin = LinearSVC(C=5) # get object\n",
    "svm_lin.fit(X_train, y_train)  # train object\n"
   ]
  },
  {
   "cell_type": "code",
   "execution_count": 162,
   "metadata": {},
   "outputs": [],
   "source": [
    "y_pred = svm_lin.predict(X_test)"
   ]
  },
  {
   "cell_type": "code",
   "execution_count": 163,
   "metadata": {},
   "outputs": [
    {
     "output_type": "stream",
     "name": "stdout",
     "text": "precision    recall  f1-score   support\n\n           0       0.71      0.69      0.70      7001\n           1       0.70      0.72      0.71      6995\n\n    accuracy                           0.71     13996\n   macro avg       0.71      0.71      0.71     13996\nweighted avg       0.71      0.71      0.71     13996\n\n"
    }
   ],
   "source": [
    "print(classification_report(y_test, y_pred))"
   ]
  },
  {
   "cell_type": "code",
   "execution_count": 164,
   "metadata": {},
   "outputs": [],
   "source": [
    "from sklearn.model_selection import GridSearchCV\n",
    "\n",
    "# SVC rfb\n",
    "# paramaters = [{\"C\": [1, 10, 100, 1000], \"kernel\": [\"rbf\"], \"gamma\": [0.1, 0.2, 0.3, 0.4, 0.5, 0.6, 0.7, 0.8, 0.9]}]\n",
    "\n",
    "# svm_sgd\n",
    "# paramaters = [{\"alpha\": [0.00001, 0.0001, 0.001, 0.01, 0.1], \"class_weight\": [\"balanced\", None]}]\n",
    "\n",
    "# logistic\n",
    "# paramaters = [{\"C\": [1, 10, 100, 1000]}]\n",
    "# # {'C': 10}\n",
    "\n",
    "# grid_search = GridSearchCV(estimator = svm_sgd, param_grid=paramaters, scoring=\"accuracy\", cv=10, n_jobs=-1)\n",
    "\n",
    "# grid_search = grid_search.fit(X_train, y_train)\n",
    "\n",
    "# accuracy = grid_search.best_score_\n",
    "\n",
    "# grid_search.best_params_\n",
    "\n",
    "# svm_best = SVC(kernel='rbf', C=1, gamma=0.1, n_jobs=-1) # get object\n"
   ]
  },
  {
   "cell_type": "code",
   "execution_count": 165,
   "metadata": {},
   "outputs": [],
   "source": [
    "# SGDClassifier()\n",
    "# LogisticRegression\n",
    "# LinearSVC()\n",
    "\n",
    "model_params = {\n",
    "    \"sgd\": {\n",
    "        \"model\": SGDClassifier(n_jobs=-1),\n",
    "        \"params\": {\n",
    "            \"alpha\": [0.00001, 0.0001, 0.001, 0.01, 0.1],\n",
    "            \"class_weight\": [\"balanced\", None]\n",
    "        }\n",
    "    },\n",
    "    \"logistic_regression\": {\n",
    "        \"model\": LogisticRegression(n_jobs=-1),\n",
    "        \"params\": {\n",
    "            \"C\": [1, 5, 10, 25, 50]\n",
    "        }\n",
    "    },\n",
    "    \"linear_svc\": {\n",
    "        \"model\": LinearSVC(),\n",
    "        \"params\": {\n",
    "            \"C\": [1, 5, 10, 25, 50]\n",
    "        }\n",
    "    }\n",
    "}"
   ]
  },
  {
   "cell_type": "code",
   "execution_count": 166,
   "metadata": {},
   "outputs": [],
   "source": [
    "scores = []\n",
    "\n",
    "for model_name, mp in model_params.items():\n",
    "    clf = GridSearchCV(estimator = mp[\"model\"], param_grid=mp[\"params\"], cv=2, scoring=\"roc_auc\")\n",
    "    clf.fit(X_train, y_train)\n",
    "    scores.append({\"model\": model_name,\n",
    "    \"best_score\": clf.best_score_, # Mean cross-validated score of the best_estimator\n",
    "    \"best_params\": clf.best_params_\n",
    "    })\n"
   ]
  },
  {
   "cell_type": "code",
   "execution_count": 167,
   "metadata": {},
   "outputs": [
    {
     "output_type": "execute_result",
     "data": {
      "text/plain": "                 model  best_score                            best_params\n0                  sgd    0.766308  {'alpha': 0.01, 'class_weight': None}\n1  logistic_regression    0.767676                               {'C': 5}\n2           linear_svc    0.767229                              {'C': 10}",
      "text/html": "<div>\n<style scoped>\n    .dataframe tbody tr th:only-of-type {\n        vertical-align: middle;\n    }\n\n    .dataframe tbody tr th {\n        vertical-align: top;\n    }\n\n    .dataframe thead th {\n        text-align: right;\n    }\n</style>\n<table border=\"1\" class=\"dataframe\">\n  <thead>\n    <tr style=\"text-align: right;\">\n      <th></th>\n      <th>model</th>\n      <th>best_score</th>\n      <th>best_params</th>\n    </tr>\n  </thead>\n  <tbody>\n    <tr>\n      <th>0</th>\n      <td>sgd</td>\n      <td>0.766308</td>\n      <td>{'alpha': 0.01, 'class_weight': None}</td>\n    </tr>\n    <tr>\n      <th>1</th>\n      <td>logistic_regression</td>\n      <td>0.767676</td>\n      <td>{'C': 5}</td>\n    </tr>\n    <tr>\n      <th>2</th>\n      <td>linear_svc</td>\n      <td>0.767229</td>\n      <td>{'C': 10}</td>\n    </tr>\n  </tbody>\n</table>\n</div>"
     },
     "metadata": {},
     "execution_count": 167
    }
   ],
   "source": [
    "import pandas as pd\n",
    "df = pd.DataFrame(scores, columns=[\"model\", \"best_score\", \"best_params\"])\n",
    "df"
   ]
  },
  {
   "cell_type": "code",
   "execution_count": 168,
   "metadata": {},
   "outputs": [],
   "source": [
    "from sklearn.svm import SVC\n",
    "\n",
    "# svm_best = SVC(kernel='rbf', C=1, gamma=0.1) # get object\n",
    "# svm_best = SVC() # get object\n"
   ]
  },
  {
   "cell_type": "code",
   "execution_count": 169,
   "metadata": {},
   "outputs": [],
   "source": [
    "# svm_best.fit(X_train, y_train)  # train object"
   ]
  },
  {
   "cell_type": "code",
   "execution_count": 170,
   "metadata": {},
   "outputs": [],
   "source": [
    "# y_pred = svm_best.predict(X_test)"
   ]
  },
  {
   "cell_type": "code",
   "execution_count": 171,
   "metadata": {},
   "outputs": [],
   "source": [
    "# print(classification_report(y_test, y_pred))"
   ]
  },
  {
   "cell_type": "code",
   "execution_count": 172,
   "metadata": {},
   "outputs": [],
   "source": [
    "# fig = plt.figure(1, figsize=(20, 5))\n",
    "\n",
    "# chart_1 = fig.add_subplot(121)\n",
    "# chart_2 = fig.add_subplot(122)\n",
    "\n",
    "# plot_confusion_matrix(svm_best, X_test, y_test, normalize='true', ax=chart_1)\n",
    "# chart_1.set_title('Confusion Matrix')\n",
    "\n",
    "# plot_roc_curve(svm_best, X_test, y_test, ax=chart_2)\n",
    "# chart_2.set_title('ROC Curve')\n",
    "\n",
    "# plt.show()"
   ]
  }
 ],
 "metadata": {
  "kernelspec": {
   "display_name": "Python 3.7.1 64-bit ('ML7331': conda)",
   "language": "python",
   "name": "python37164bitml7331condacf2794d0fef349cfa281e1878aa68ff6"
  },
  "language_info": {
   "codemirror_mode": {
    "name": "ipython",
    "version": 3
   },
   "file_extension": ".py",
   "mimetype": "text/x-python",
   "name": "python",
   "nbconvert_exporter": "python",
   "pygments_lexer": "ipython3",
   "version": "3.7.1-final"
  }
 },
 "nbformat": 4,
 "nbformat_minor": 2
}