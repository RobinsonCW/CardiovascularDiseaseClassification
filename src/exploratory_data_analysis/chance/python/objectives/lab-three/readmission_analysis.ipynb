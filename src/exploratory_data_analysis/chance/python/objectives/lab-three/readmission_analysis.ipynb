{
 "metadata": {
  "language_info": {
   "codemirror_mode": {
    "name": "ipython",
    "version": 3
   },
   "file_extension": ".py",
   "mimetype": "text/x-python",
   "name": "python",
   "nbconvert_exporter": "python",
   "pygments_lexer": "ipython3",
   "version": 3
  },
  "orig_nbformat": 2,
  "kernelspec": {
   "name": "python_defaultSpec_1595692926315",
   "display_name": "Python 3.6.8 64-bit ('PY368': conda)"
  }
 },
 "nbformat": 4,
 "nbformat_minor": 2,
 "cells": [
  {
   "cell_type": "markdown",
   "metadata": {},
   "source": [
    "References:\n",
    "\n",
    "* https://archive.ics.uci.edu/ml/datasets/Diabetes+130-US+hospitals+for+years+1999-2008#\n",
    "* https://www.hindawi.com/journals/bmri/2014/781670/\n"
   ]
  },
  {
   "cell_type": "code",
   "execution_count": 39,
   "metadata": {},
   "outputs": [],
   "source": [
    "import pandas as pd\n",
    "import numpy as np\n",
    "import seaborn as sns\n",
    "import matplotlib\n",
    "from matplotlib import pyplot as plt"
   ]
  },
  {
   "cell_type": "code",
   "execution_count": 40,
   "metadata": {
    "tags": []
   },
   "outputs": [
    {
     "output_type": "stream",
     "name": "stdout",
     "text": "<class 'pandas.core.frame.DataFrame'>\nRangeIndex: 101766 entries, 0 to 101765\nData columns (total 50 columns):\n #   Column                    Non-Null Count   Dtype \n---  ------                    --------------   ----- \n 0   encounter_id              101766 non-null  int64 \n 1   patient_nbr               101766 non-null  int64 \n 2   race                      101766 non-null  object\n 3   gender                    101766 non-null  object\n 4   age                       101766 non-null  object\n 5   weight                    101766 non-null  object\n 6   admission_type_id         101766 non-null  int64 \n 7   discharge_disposition_id  101766 non-null  int64 \n 8   admission_source_id       101766 non-null  int64 \n 9   time_in_hospital          101766 non-null  int64 \n 10  payer_code                101766 non-null  object\n 11  medical_specialty         101766 non-null  object\n 12  num_lab_procedures        101766 non-null  int64 \n 13  num_procedures            101766 non-null  int64 \n 14  num_medications           101766 non-null  int64 \n 15  number_outpatient         101766 non-null  int64 \n 16  number_emergency          101766 non-null  int64 \n 17  number_inpatient          101766 non-null  int64 \n 18  diag_1                    101766 non-null  object\n 19  diag_2                    101766 non-null  object\n 20  diag_3                    101766 non-null  object\n 21  number_diagnoses          101766 non-null  int64 \n 22  max_glu_serum             101766 non-null  object\n 23  A1Cresult                 101766 non-null  object\n 24  metformin                 101766 non-null  object\n 25  repaglinide               101766 non-null  object\n 26  nateglinide               101766 non-null  object\n 27  chlorpropamide            101766 non-null  object\n 28  glimepiride               101766 non-null  object\n 29  acetohexamide             101766 non-null  object\n 30  glipizide                 101766 non-null  object\n 31  glyburide                 101766 non-null  object\n 32  tolbutamide               101766 non-null  object\n 33  pioglitazone              101766 non-null  object\n 34  rosiglitazone             101766 non-null  object\n 35  acarbose                  101766 non-null  object\n 36  miglitol                  101766 non-null  object\n 37  troglitazone              101766 non-null  object\n 38  tolazamide                101766 non-null  object\n 39  examide                   101766 non-null  object\n 40  citoglipton               101766 non-null  object\n 41  insulin                   101766 non-null  object\n 42  glyburide-metformin       101766 non-null  object\n 43  glipizide-metformin       101766 non-null  object\n 44  glimepiride-pioglitazone  101766 non-null  object\n 45  metformin-rosiglitazone   101766 non-null  object\n 46  metformin-pioglitazone    101766 non-null  object\n 47  change                    101766 non-null  object\n 48  diabetesMed               101766 non-null  object\n 49  readmitted                101766 non-null  object\ndtypes: int64(13), object(37)\nmemory usage: 38.8+ MB\n"
    }
   ],
   "source": [
    "data = pd.read_csv('../../../../../../data/diabetic_data.csv')\n",
    "data.info()"
   ]
  },
  {
   "cell_type": "markdown",
   "metadata": {},
   "source": [
    "The above shows there are no missing values. Let's examine a few of the records."
   ]
  },
  {
   "cell_type": "code",
   "execution_count": 41,
   "metadata": {},
   "outputs": [
    {
     "output_type": "execute_result",
     "data": {
      "text/plain": "   encounter_id  patient_nbr             race  gender      age weight  \\\n0       2278392      8222157        Caucasian  Female   [0-10)      ?   \n1        149190     55629189        Caucasian  Female  [10-20)      ?   \n2         64410     86047875  AfricanAmerican  Female  [20-30)      ?   \n3        500364     82442376        Caucasian    Male  [30-40)      ?   \n4         16680     42519267        Caucasian    Male  [40-50)      ?   \n\n   admission_type_id  discharge_disposition_id  admission_source_id  \\\n0                  6                        25                    1   \n1                  1                         1                    7   \n2                  1                         1                    7   \n3                  1                         1                    7   \n4                  1                         1                    7   \n\n   time_in_hospital  ... citoglipton insulin  glyburide-metformin  \\\n0                 1  ...          No      No                   No   \n1                 3  ...          No      Up                   No   \n2                 2  ...          No      No                   No   \n3                 2  ...          No      Up                   No   \n4                 1  ...          No  Steady                   No   \n\n   glipizide-metformin  glimepiride-pioglitazone  metformin-rosiglitazone  \\\n0                   No                        No                       No   \n1                   No                        No                       No   \n2                   No                        No                       No   \n3                   No                        No                       No   \n4                   No                        No                       No   \n\n   metformin-pioglitazone  change diabetesMed readmitted  \n0                      No      No          No         NO  \n1                      No      Ch         Yes        >30  \n2                      No      No         Yes         NO  \n3                      No      Ch         Yes         NO  \n4                      No      Ch         Yes         NO  \n\n[5 rows x 50 columns]",
      "text/html": "<div>\n<style scoped>\n    .dataframe tbody tr th:only-of-type {\n        vertical-align: middle;\n    }\n\n    .dataframe tbody tr th {\n        vertical-align: top;\n    }\n\n    .dataframe thead th {\n        text-align: right;\n    }\n</style>\n<table border=\"1\" class=\"dataframe\">\n  <thead>\n    <tr style=\"text-align: right;\">\n      <th></th>\n      <th>encounter_id</th>\n      <th>patient_nbr</th>\n      <th>race</th>\n      <th>gender</th>\n      <th>age</th>\n      <th>weight</th>\n      <th>admission_type_id</th>\n      <th>discharge_disposition_id</th>\n      <th>admission_source_id</th>\n      <th>time_in_hospital</th>\n      <th>...</th>\n      <th>citoglipton</th>\n      <th>insulin</th>\n      <th>glyburide-metformin</th>\n      <th>glipizide-metformin</th>\n      <th>glimepiride-pioglitazone</th>\n      <th>metformin-rosiglitazone</th>\n      <th>metformin-pioglitazone</th>\n      <th>change</th>\n      <th>diabetesMed</th>\n      <th>readmitted</th>\n    </tr>\n  </thead>\n  <tbody>\n    <tr>\n      <th>0</th>\n      <td>2278392</td>\n      <td>8222157</td>\n      <td>Caucasian</td>\n      <td>Female</td>\n      <td>[0-10)</td>\n      <td>?</td>\n      <td>6</td>\n      <td>25</td>\n      <td>1</td>\n      <td>1</td>\n      <td>...</td>\n      <td>No</td>\n      <td>No</td>\n      <td>No</td>\n      <td>No</td>\n      <td>No</td>\n      <td>No</td>\n      <td>No</td>\n      <td>No</td>\n      <td>No</td>\n      <td>NO</td>\n    </tr>\n    <tr>\n      <th>1</th>\n      <td>149190</td>\n      <td>55629189</td>\n      <td>Caucasian</td>\n      <td>Female</td>\n      <td>[10-20)</td>\n      <td>?</td>\n      <td>1</td>\n      <td>1</td>\n      <td>7</td>\n      <td>3</td>\n      <td>...</td>\n      <td>No</td>\n      <td>Up</td>\n      <td>No</td>\n      <td>No</td>\n      <td>No</td>\n      <td>No</td>\n      <td>No</td>\n      <td>Ch</td>\n      <td>Yes</td>\n      <td>&gt;30</td>\n    </tr>\n    <tr>\n      <th>2</th>\n      <td>64410</td>\n      <td>86047875</td>\n      <td>AfricanAmerican</td>\n      <td>Female</td>\n      <td>[20-30)</td>\n      <td>?</td>\n      <td>1</td>\n      <td>1</td>\n      <td>7</td>\n      <td>2</td>\n      <td>...</td>\n      <td>No</td>\n      <td>No</td>\n      <td>No</td>\n      <td>No</td>\n      <td>No</td>\n      <td>No</td>\n      <td>No</td>\n      <td>No</td>\n      <td>Yes</td>\n      <td>NO</td>\n    </tr>\n    <tr>\n      <th>3</th>\n      <td>500364</td>\n      <td>82442376</td>\n      <td>Caucasian</td>\n      <td>Male</td>\n      <td>[30-40)</td>\n      <td>?</td>\n      <td>1</td>\n      <td>1</td>\n      <td>7</td>\n      <td>2</td>\n      <td>...</td>\n      <td>No</td>\n      <td>Up</td>\n      <td>No</td>\n      <td>No</td>\n      <td>No</td>\n      <td>No</td>\n      <td>No</td>\n      <td>Ch</td>\n      <td>Yes</td>\n      <td>NO</td>\n    </tr>\n    <tr>\n      <th>4</th>\n      <td>16680</td>\n      <td>42519267</td>\n      <td>Caucasian</td>\n      <td>Male</td>\n      <td>[40-50)</td>\n      <td>?</td>\n      <td>1</td>\n      <td>1</td>\n      <td>7</td>\n      <td>1</td>\n      <td>...</td>\n      <td>No</td>\n      <td>Steady</td>\n      <td>No</td>\n      <td>No</td>\n      <td>No</td>\n      <td>No</td>\n      <td>No</td>\n      <td>Ch</td>\n      <td>Yes</td>\n      <td>NO</td>\n    </tr>\n  </tbody>\n</table>\n<p>5 rows × 50 columns</p>\n</div>"
     },
     "metadata": {},
     "execution_count": 41
    }
   ],
   "source": [
    "data.head()"
   ]
  },
  {
   "cell_type": "markdown",
   "metadata": {},
   "source": [
    "Above shows there are many values represented by '?'. We'll replace '?' with NAN."
   ]
  },
  {
   "cell_type": "code",
   "execution_count": 42,
   "metadata": {},
   "outputs": [],
   "source": [
    "data.replace('?', np.nan, inplace=True)"
   ]
  },
  {
   "cell_type": "markdown",
   "metadata": {},
   "source": [
    "Find features with missing values."
   ]
  },
  {
   "cell_type": "code",
   "execution_count": 43,
   "metadata": {},
   "outputs": [
    {
     "output_type": "execute_result",
     "data": {
      "text/plain": "encounter_id                    0\npatient_nbr                     0\nrace                         2273\ngender                          0\nage                             0\nweight                      98569\nadmission_type_id               0\ndischarge_disposition_id        0\nadmission_source_id             0\ntime_in_hospital                0\npayer_code                  40256\nmedical_specialty           49949\nnum_lab_procedures              0\nnum_procedures                  0\nnum_medications                 0\nnumber_outpatient               0\nnumber_emergency                0\nnumber_inpatient                0\ndiag_1                         21\ndiag_2                        358\ndiag_3                       1423\nnumber_diagnoses                0\nmax_glu_serum                   0\nA1Cresult                       0\nmetformin                       0\nrepaglinide                     0\nnateglinide                     0\nchlorpropamide                  0\nglimepiride                     0\nacetohexamide                   0\nglipizide                       0\nglyburide                       0\ntolbutamide                     0\npioglitazone                    0\nrosiglitazone                   0\nacarbose                        0\nmiglitol                        0\ntroglitazone                    0\ntolazamide                      0\nexamide                         0\ncitoglipton                     0\ninsulin                         0\nglyburide-metformin             0\nglipizide-metformin             0\nglimepiride-pioglitazone        0\nmetformin-rosiglitazone         0\nmetformin-pioglitazone          0\nchange                          0\ndiabetesMed                     0\nreadmitted                      0\ndtype: int64"
     },
     "metadata": {},
     "execution_count": 43
    }
   ],
   "source": [
    "data.isnull().sum()"
   ]
  },
  {
   "cell_type": "markdown",
   "metadata": {},
   "source": [
    "Due to the frequency of missing data, let's remove 'weight', 'medical_specialty', and 'payer_code'."
   ]
  },
  {
   "cell_type": "code",
   "execution_count": 44,
   "metadata": {},
   "outputs": [],
   "source": [
    "data.drop(columns=[\"weight\",\"medical_specialty\",\"payer_code\"], inplace=True)"
   ]
  },
  {
   "cell_type": "markdown",
   "metadata": {},
   "source": [
    "Next, let's remove observations where the discharge disposition is related to hospice or death, since these will not add to the possibility of being readmitted.\n",
    "* 11 - Expired\n",
    "* 13 - Hospice/Home\n",
    "* 14 - Hospice/Medical Facility\n",
    "* 19 - Expired at Home\n",
    "* 20 - Expired at Medical Facility\n",
    "* 21 - Expired at Unknown"
   ]
  },
  {
   "cell_type": "code",
   "execution_count": 45,
   "metadata": {},
   "outputs": [],
   "source": [
    "dispositionsToRemove = ['11','13','14','19','20','21']\n",
    "data = data[~data.discharge_disposition_id.isin(dispositionsToRemove)]"
   ]
  },
  {
   "cell_type": "markdown",
   "metadata": {},
   "source": [
    "In the data set, we find that patients have multiple admissions. The paper (referenced above) suggests using only the first one to satisfy the independence assumption. So we will filter and only use the first encounter (the lowest for a given member). I wonder if this could be challenged. If the diagnosis or reason for visit is different than a previous admission, I think it could be considered statistically independent.\n",
    "\n",
    "The below filters the data frame to use the first encounter for a given member 'patient_nbr'."
   ]
  },
  {
   "cell_type": "code",
   "execution_count": 46,
   "metadata": {},
   "outputs": [],
   "source": [
    "def get_min_encounter_id(df):\n",
    "    min_enc = df.groupby('patient_nbr').encounter_id.transform(min)\n",
    "    return df[df.encounter_id == min_enc]\n",
    "\n",
    "data = get_min_encounter_id(data)"
   ]
  },
  {
   "cell_type": "markdown",
   "metadata": {},
   "source": [
    "Create buckets for the ICD-9 diagnosis codes. We'll use the mapping defined based on the following. https://www.hindawi.com/journals/bmri/2014/781670/tab2/ Regular Expressions are used below to translate the ICD9 codes into buckets"
   ]
  },
  {
   "cell_type": "code",
   "execution_count": 47,
   "metadata": {},
   "outputs": [],
   "source": [
    "def map_dx(data,regex,replace):\n",
    "    data['diag_1'] = np.where(data['diag_1'].str.contains(regex,regex=True,na=False),replace,data['diag_1'])\n",
    "    data['diag_2'] = np.where(data['diag_2'].str.contains(regex,regex=True,na=False),replace,data['diag_2'])\n",
    "    data['diag_3'] = np.where(data['diag_3'].str.contains(regex,regex=True,na=False),replace,data['diag_3'])"
   ]
  },
  {
   "cell_type": "code",
   "execution_count": 48,
   "metadata": {},
   "outputs": [],
   "source": [
    "# Circulatory\n",
    "map_dx(data,'^39[0-9]|^4[0-5][0-9]','Circulatory')\n",
    "map_dx(data,'^785','Circulatory')\n",
    "\n",
    "# Respiratory\n",
    "map_dx(data,'^4[6-9][0-9]|^5[0-1][0-9]','Respiratory')\n",
    "map_dx(data,'^786','Respiratory')\n",
    "\n",
    "# Digestive\n",
    "map_dx(data,'^5[2-7][0-9]','Digestive')\n",
    "map_dx(data,'^787','Digestive')\n",
    "\n",
    "# Diabetes\n",
    "map_dx(data,'^250','Diabetes')\n",
    "\n",
    "# Injury\n",
    "map_dx(data,'^[8-9][0-9][0-9]','Injury')\n",
    "\n",
    "# Musculoskeletal\n",
    "map_dx(data,'^7[1-3][0-9]','Musculoskeletal')\n",
    "\n",
    "# Genitourinary\n",
    "map_dx(data,'^5[8-9][0-9]|^6[0-2][0-9]','Genitourinary')\n",
    "map_dx(data,'^788','Genitourinary')\n",
    "\n",
    "# Neoplasms\n",
    "map_dx(data,'^1[4-9][0-9]|^2[0-7][0-9]','Neoplasms')\n",
    "map_dx(data,'^78[0-2]|^79[0-9]','Neoplasms')\n",
    "map_dx(data,'^6[8-9][0-9]|^70[0-9]','Neoplasms')\n",
    "map_dx(data,'^([1-9]|[1-9][0-9]|1[0-3][0-9])$','Neoplasms')\n",
    "map_dx(data,'^784','Neoplasms')\n",
    "\n",
    "# For those that are missing, label as \"None\"\n",
    "data['diag_1'].fillna(value=\"None\",inplace=True)\n",
    "data['diag_2'].fillna(value=\"None\",inplace=True)\n",
    "data['diag_3'].fillna(value=\"None\",inplace=True)\n",
    "\n",
    "# For everything else that hasn't been bucketed, label as \"Other\" \n",
    "dxBuckets = ['Circulatory','Respiratory','Digestive','Diabetes','Injury','Musculoskeletal','Genitourinary','Neoplasms']\n",
    "data['diag_1'] = np.where(~data['diag_1'].isin(dxBuckets),'Other',data['diag_1'])\n",
    "data['diag_2'] = np.where(~data['diag_2'].isin(dxBuckets),'Other',data['diag_2'])\n",
    "data['diag_3'] = np.where(~data['diag_3'].isin(dxBuckets),'Other',data['diag_3'])"
   ]
  },
  {
   "cell_type": "markdown",
   "metadata": {},
   "source": [
    "Let's take a look at the value counts for 'diag_1'"
   ]
  },
  {
   "cell_type": "code",
   "execution_count": 49,
   "metadata": {},
   "outputs": [
    {
     "output_type": "execute_result",
     "data": {
      "text/plain": "Circulatory        21390\nNeoplasms           9680\nRespiratory         9491\nDigestive           6488\nDiabetes            5748\nOther               4992\nInjury              4696\nMusculoskeletal     4064\nGenitourinary       3441\nName: diag_1, dtype: int64"
     },
     "metadata": {},
     "execution_count": 49
    }
   ],
   "source": [
    "data.diag_1.value_counts()"
   ]
  },
  {
   "cell_type": "markdown",
   "metadata": {},
   "source": [
    "Age is a factor with 10 levels. We are going to bucket these into 3 different groups in a new feature, and remove the old feature.\n",
    "\n",
    "* 0 - 30\n",
    "* 30 - 60\n",
    "* 60 - 100"
   ]
  },
  {
   "cell_type": "code",
   "execution_count": 50,
   "metadata": {
    "tags": []
   },
   "outputs": [
    {
     "output_type": "stream",
     "name": "stdout",
     "text": "[60-100]    46311\n[30-60]     21871\n[0-30]       1808\nName: ageGrp, dtype: int64\n"
    }
   ],
   "source": [
    "data['ageGrp'] = np.where(data['age'] == '[0-10)','[0-30]','')\n",
    "data['ageGrp'] = np.where(data['age'] == '[10-20)','[0-30]',data['ageGrp'])\n",
    "data['ageGrp'] = np.where(data['age'] == '[20-30)','[0-30]',data['ageGrp'])\n",
    "data['ageGrp'] = np.where(data['age'] == '[30-40)','[30-60]',data['ageGrp'])\n",
    "data['ageGrp'] = np.where(data['age'] == '[40-50)','[30-60]',data['ageGrp'])\n",
    "data['ageGrp'] = np.where(data['age'] == '[50-60)','[30-60]',data['ageGrp'])\n",
    "data['ageGrp'] = np.where(data['ageGrp'] == '','[60-100]',data['ageGrp'])\n",
    "\n",
    "ageCounts = data.ageGrp.value_counts()\n",
    "print(ageCounts)"
   ]
  },
  {
   "cell_type": "markdown",
   "metadata": {},
   "source": [
    "Next we'll remove some features that won't be used.\n",
    "\n",
    "* Age - Replaced with AgeGrp\n",
    "* There are two medications that have only 1 factor level, \"examide\" and \"citoglipton\". We will remove these from the data set.\n",
    "* Since encounter_id and patient_nbr are identifiers, we will remove these as well."
   ]
  },
  {
   "cell_type": "code",
   "execution_count": 51,
   "metadata": {},
   "outputs": [],
   "source": [
    "data.drop(columns=['age','examide','citoglipton','encounter_id','patient_nbr'], inplace=True)"
   ]
  },
  {
   "cell_type": "markdown",
   "metadata": {},
   "source": [
    "Clean missing race values, label as \"Missing\""
   ]
  },
  {
   "cell_type": "code",
   "execution_count": 52,
   "metadata": {
    "tags": []
   },
   "outputs": [
    {
     "output_type": "stream",
     "name": "stdout",
     "text": "Caucasian          52305\nAfricanAmerican    12627\nMissing             1919\nHispanic            1501\nOther               1150\nAsian                488\nName: race, dtype: int64\n"
    },
    {
     "output_type": "display_data",
     "data": {
      "text/plain": "<Figure size 432x288 with 1 Axes>",
      "image/svg+xml": "<?xml version=\"1.0\" encoding=\"utf-8\" standalone=\"no\"?>\n<!DOCTYPE svg PUBLIC \"-//W3C//DTD SVG 1.1//EN\"\n  \"http://www.w3.org/Graphics/SVG/1.1/DTD/svg11.dtd\">\n<!-- Created with matplotlib (https://matplotlib.org/) -->\n<svg height=\"262.19625pt\" version=\"1.1\" viewBox=\"0 0 401.690625 262.19625\" width=\"401.690625pt\" xmlns=\"http://www.w3.org/2000/svg\" xmlns:xlink=\"http://www.w3.org/1999/xlink\">\n <defs>\n  <style type=\"text/css\">\n*{stroke-linecap:butt;stroke-linejoin:round;}\n  </style>\n </defs>\n <g id=\"figure_1\">\n  <g id=\"patch_1\">\n   <path d=\"M 0 262.19625 \nL 401.690625 262.19625 \nL 401.690625 0 \nL 0 0 \nz\n\" style=\"fill:none;\"/>\n  </g>\n  <g id=\"axes_1\">\n   <g id=\"patch_2\">\n    <path d=\"M 59.690625 224.64 \nL 394.490625 224.64 \nL 394.490625 7.2 \nL 59.690625 7.2 \nz\n\" style=\"fill:#ffffff;\"/>\n   </g>\n   <g id=\"patch_3\">\n    <path clip-path=\"url(#pbcf5104aff)\" d=\"M 65.270625 224.64 \nL 109.910625 224.64 \nL 109.910625 17.554286 \nL 65.270625 17.554286 \nz\n\" style=\"fill:#3274a1;\"/>\n   </g>\n   <g id=\"patch_4\">\n    <path clip-path=\"url(#pbcf5104aff)\" d=\"M 121.070625 224.64 \nL 165.710625 224.64 \nL 165.710625 174.64724 \nL 121.070625 174.64724 \nz\n\" style=\"fill:#e1812c;\"/>\n   </g>\n   <g id=\"patch_5\">\n    <path clip-path=\"url(#pbcf5104aff)\" d=\"M 176.870625 224.64 \nL 221.510625 224.64 \nL 221.510625 217.042304 \nL 176.870625 217.042304 \nz\n\" style=\"fill:#3a923a;\"/>\n   </g>\n   <g id=\"patch_6\">\n    <path clip-path=\"url(#pbcf5104aff)\" d=\"M 232.670625 224.64 \nL 277.310625 224.64 \nL 277.310625 220.086925 \nL 232.670625 220.086925 \nz\n\" style=\"fill:#c03d3e;\"/>\n   </g>\n   <g id=\"patch_7\">\n    <path clip-path=\"url(#pbcf5104aff)\" d=\"M 288.470625 224.64 \nL 333.110625 224.64 \nL 333.110625 222.707913 \nL 288.470625 222.707913 \nz\n\" style=\"fill:#9372b2;\"/>\n   </g>\n   <g id=\"patch_8\">\n    <path clip-path=\"url(#pbcf5104aff)\" d=\"M 344.270625 224.64 \nL 388.910625 224.64 \nL 388.910625 218.697248 \nL 344.270625 218.697248 \nz\n\" style=\"fill:#845b53;\"/>\n   </g>\n   <g id=\"matplotlib.axis_1\">\n    <g id=\"xtick_1\">\n     <g id=\"line2d_1\">\n      <defs>\n       <path d=\"M 0 0 \nL 0 3.5 \n\" id=\"ma0593cc9f6\" style=\"stroke:#000000;stroke-width:0.8;\"/>\n      </defs>\n      <g>\n       <use style=\"stroke:#000000;stroke-width:0.8;\" x=\"87.590625\" xlink:href=\"#ma0593cc9f6\" y=\"224.64\"/>\n      </g>\n     </g>\n     <g id=\"text_1\">\n      <!-- Caucasian -->\n      <defs>\n       <path d=\"M 64.40625 67.28125 \nL 64.40625 56.890625 \nQ 59.421875 61.53125 53.78125 63.8125 \nQ 48.140625 66.109375 41.796875 66.109375 \nQ 29.296875 66.109375 22.65625 58.46875 \nQ 16.015625 50.828125 16.015625 36.375 \nQ 16.015625 21.96875 22.65625 14.328125 \nQ 29.296875 6.6875 41.796875 6.6875 \nQ 48.140625 6.6875 53.78125 8.984375 \nQ 59.421875 11.28125 64.40625 15.921875 \nL 64.40625 5.609375 \nQ 59.234375 2.09375 53.4375 0.328125 \nQ 47.65625 -1.421875 41.21875 -1.421875 \nQ 24.65625 -1.421875 15.125 8.703125 \nQ 5.609375 18.84375 5.609375 36.375 \nQ 5.609375 53.953125 15.125 64.078125 \nQ 24.65625 74.21875 41.21875 74.21875 \nQ 47.75 74.21875 53.53125 72.484375 \nQ 59.328125 70.75 64.40625 67.28125 \nz\n\" id=\"DejaVuSans-67\"/>\n       <path d=\"M 34.28125 27.484375 \nQ 23.390625 27.484375 19.1875 25 \nQ 14.984375 22.515625 14.984375 16.5 \nQ 14.984375 11.71875 18.140625 8.90625 \nQ 21.296875 6.109375 26.703125 6.109375 \nQ 34.1875 6.109375 38.703125 11.40625 \nQ 43.21875 16.703125 43.21875 25.484375 \nL 43.21875 27.484375 \nz\nM 52.203125 31.203125 \nL 52.203125 0 \nL 43.21875 0 \nL 43.21875 8.296875 \nQ 40.140625 3.328125 35.546875 0.953125 \nQ 30.953125 -1.421875 24.3125 -1.421875 \nQ 15.921875 -1.421875 10.953125 3.296875 \nQ 6 8.015625 6 15.921875 \nQ 6 25.140625 12.171875 29.828125 \nQ 18.359375 34.515625 30.609375 34.515625 \nL 43.21875 34.515625 \nL 43.21875 35.40625 \nQ 43.21875 41.609375 39.140625 45 \nQ 35.0625 48.390625 27.6875 48.390625 \nQ 23 48.390625 18.546875 47.265625 \nQ 14.109375 46.140625 10.015625 43.890625 \nL 10.015625 52.203125 \nQ 14.9375 54.109375 19.578125 55.046875 \nQ 24.21875 56 28.609375 56 \nQ 40.484375 56 46.34375 49.84375 \nQ 52.203125 43.703125 52.203125 31.203125 \nz\n\" id=\"DejaVuSans-97\"/>\n       <path d=\"M 8.5 21.578125 \nL 8.5 54.6875 \nL 17.484375 54.6875 \nL 17.484375 21.921875 \nQ 17.484375 14.15625 20.5 10.265625 \nQ 23.53125 6.390625 29.59375 6.390625 \nQ 36.859375 6.390625 41.078125 11.03125 \nQ 45.3125 15.671875 45.3125 23.6875 \nL 45.3125 54.6875 \nL 54.296875 54.6875 \nL 54.296875 0 \nL 45.3125 0 \nL 45.3125 8.40625 \nQ 42.046875 3.421875 37.71875 1 \nQ 33.40625 -1.421875 27.6875 -1.421875 \nQ 18.265625 -1.421875 13.375 4.4375 \nQ 8.5 10.296875 8.5 21.578125 \nz\nM 31.109375 56 \nz\n\" id=\"DejaVuSans-117\"/>\n       <path d=\"M 48.78125 52.59375 \nL 48.78125 44.1875 \nQ 44.96875 46.296875 41.140625 47.34375 \nQ 37.3125 48.390625 33.40625 48.390625 \nQ 24.65625 48.390625 19.8125 42.84375 \nQ 14.984375 37.3125 14.984375 27.296875 \nQ 14.984375 17.28125 19.8125 11.734375 \nQ 24.65625 6.203125 33.40625 6.203125 \nQ 37.3125 6.203125 41.140625 7.25 \nQ 44.96875 8.296875 48.78125 10.40625 \nL 48.78125 2.09375 \nQ 45.015625 0.34375 40.984375 -0.53125 \nQ 36.96875 -1.421875 32.421875 -1.421875 \nQ 20.0625 -1.421875 12.78125 6.34375 \nQ 5.515625 14.109375 5.515625 27.296875 \nQ 5.515625 40.671875 12.859375 48.328125 \nQ 20.21875 56 33.015625 56 \nQ 37.15625 56 41.109375 55.140625 \nQ 45.0625 54.296875 48.78125 52.59375 \nz\n\" id=\"DejaVuSans-99\"/>\n       <path d=\"M 44.28125 53.078125 \nL 44.28125 44.578125 \nQ 40.484375 46.53125 36.375 47.5 \nQ 32.28125 48.484375 27.875 48.484375 \nQ 21.1875 48.484375 17.84375 46.4375 \nQ 14.5 44.390625 14.5 40.28125 \nQ 14.5 37.15625 16.890625 35.375 \nQ 19.28125 33.59375 26.515625 31.984375 \nL 29.59375 31.296875 \nQ 39.15625 29.25 43.1875 25.515625 \nQ 47.21875 21.78125 47.21875 15.09375 \nQ 47.21875 7.46875 41.1875 3.015625 \nQ 35.15625 -1.421875 24.609375 -1.421875 \nQ 20.21875 -1.421875 15.453125 -0.5625 \nQ 10.6875 0.296875 5.421875 2 \nL 5.421875 11.28125 \nQ 10.40625 8.6875 15.234375 7.390625 \nQ 20.0625 6.109375 24.8125 6.109375 \nQ 31.15625 6.109375 34.5625 8.28125 \nQ 37.984375 10.453125 37.984375 14.40625 \nQ 37.984375 18.0625 35.515625 20.015625 \nQ 33.0625 21.96875 24.703125 23.78125 \nL 21.578125 24.515625 \nQ 13.234375 26.265625 9.515625 29.90625 \nQ 5.8125 33.546875 5.8125 39.890625 \nQ 5.8125 47.609375 11.28125 51.796875 \nQ 16.75 56 26.8125 56 \nQ 31.78125 56 36.171875 55.265625 \nQ 40.578125 54.546875 44.28125 53.078125 \nz\n\" id=\"DejaVuSans-115\"/>\n       <path d=\"M 9.421875 54.6875 \nL 18.40625 54.6875 \nL 18.40625 0 \nL 9.421875 0 \nz\nM 9.421875 75.984375 \nL 18.40625 75.984375 \nL 18.40625 64.59375 \nL 9.421875 64.59375 \nz\n\" id=\"DejaVuSans-105\"/>\n       <path d=\"M 54.890625 33.015625 \nL 54.890625 0 \nL 45.90625 0 \nL 45.90625 32.71875 \nQ 45.90625 40.484375 42.875 44.328125 \nQ 39.84375 48.1875 33.796875 48.1875 \nQ 26.515625 48.1875 22.3125 43.546875 \nQ 18.109375 38.921875 18.109375 30.90625 \nL 18.109375 0 \nL 9.078125 0 \nL 9.078125 54.6875 \nL 18.109375 54.6875 \nL 18.109375 46.1875 \nQ 21.34375 51.125 25.703125 53.5625 \nQ 30.078125 56 35.796875 56 \nQ 45.21875 56 50.046875 50.171875 \nQ 54.890625 44.34375 54.890625 33.015625 \nz\n\" id=\"DejaVuSans-110\"/>\n      </defs>\n      <g transform=\"translate(61.826563 239.238437)scale(0.1 -0.1)\">\n       <use xlink:href=\"#DejaVuSans-67\"/>\n       <use x=\"69.824219\" xlink:href=\"#DejaVuSans-97\"/>\n       <use x=\"131.103516\" xlink:href=\"#DejaVuSans-117\"/>\n       <use x=\"194.482422\" xlink:href=\"#DejaVuSans-99\"/>\n       <use x=\"249.462891\" xlink:href=\"#DejaVuSans-97\"/>\n       <use x=\"310.742188\" xlink:href=\"#DejaVuSans-115\"/>\n       <use x=\"362.841797\" xlink:href=\"#DejaVuSans-105\"/>\n       <use x=\"390.625\" xlink:href=\"#DejaVuSans-97\"/>\n       <use x=\"451.904297\" xlink:href=\"#DejaVuSans-110\"/>\n      </g>\n     </g>\n    </g>\n    <g id=\"xtick_2\">\n     <g id=\"line2d_2\">\n      <g>\n       <use style=\"stroke:#000000;stroke-width:0.8;\" x=\"143.390625\" xlink:href=\"#ma0593cc9f6\" y=\"224.64\"/>\n      </g>\n     </g>\n     <g id=\"text_2\">\n      <!-- AfricanAmerican -->\n      <defs>\n       <path d=\"M 34.1875 63.1875 \nL 20.796875 26.90625 \nL 47.609375 26.90625 \nz\nM 28.609375 72.90625 \nL 39.796875 72.90625 \nL 67.578125 0 \nL 57.328125 0 \nL 50.6875 18.703125 \nL 17.828125 18.703125 \nL 11.1875 0 \nL 0.78125 0 \nz\n\" id=\"DejaVuSans-65\"/>\n       <path d=\"M 37.109375 75.984375 \nL 37.109375 68.5 \nL 28.515625 68.5 \nQ 23.6875 68.5 21.796875 66.546875 \nQ 19.921875 64.59375 19.921875 59.515625 \nL 19.921875 54.6875 \nL 34.71875 54.6875 \nL 34.71875 47.703125 \nL 19.921875 47.703125 \nL 19.921875 0 \nL 10.890625 0 \nL 10.890625 47.703125 \nL 2.296875 47.703125 \nL 2.296875 54.6875 \nL 10.890625 54.6875 \nL 10.890625 58.5 \nQ 10.890625 67.625 15.140625 71.796875 \nQ 19.390625 75.984375 28.609375 75.984375 \nz\n\" id=\"DejaVuSans-102\"/>\n       <path d=\"M 41.109375 46.296875 \nQ 39.59375 47.171875 37.8125 47.578125 \nQ 36.03125 48 33.890625 48 \nQ 26.265625 48 22.1875 43.046875 \nQ 18.109375 38.09375 18.109375 28.8125 \nL 18.109375 0 \nL 9.078125 0 \nL 9.078125 54.6875 \nL 18.109375 54.6875 \nL 18.109375 46.1875 \nQ 20.953125 51.171875 25.484375 53.578125 \nQ 30.03125 56 36.53125 56 \nQ 37.453125 56 38.578125 55.875 \nQ 39.703125 55.765625 41.0625 55.515625 \nz\n\" id=\"DejaVuSans-114\"/>\n       <path d=\"M 52 44.1875 \nQ 55.375 50.25 60.0625 53.125 \nQ 64.75 56 71.09375 56 \nQ 79.640625 56 84.28125 50.015625 \nQ 88.921875 44.046875 88.921875 33.015625 \nL 88.921875 0 \nL 79.890625 0 \nL 79.890625 32.71875 \nQ 79.890625 40.578125 77.09375 44.375 \nQ 74.3125 48.1875 68.609375 48.1875 \nQ 61.625 48.1875 57.5625 43.546875 \nQ 53.515625 38.921875 53.515625 30.90625 \nL 53.515625 0 \nL 44.484375 0 \nL 44.484375 32.71875 \nQ 44.484375 40.625 41.703125 44.40625 \nQ 38.921875 48.1875 33.109375 48.1875 \nQ 26.21875 48.1875 22.15625 43.53125 \nQ 18.109375 38.875 18.109375 30.90625 \nL 18.109375 0 \nL 9.078125 0 \nL 9.078125 54.6875 \nL 18.109375 54.6875 \nL 18.109375 46.1875 \nQ 21.1875 51.21875 25.484375 53.609375 \nQ 29.78125 56 35.6875 56 \nQ 41.65625 56 45.828125 52.96875 \nQ 50 49.953125 52 44.1875 \nz\n\" id=\"DejaVuSans-109\"/>\n       <path d=\"M 56.203125 29.59375 \nL 56.203125 25.203125 \nL 14.890625 25.203125 \nQ 15.484375 15.921875 20.484375 11.0625 \nQ 25.484375 6.203125 34.421875 6.203125 \nQ 39.59375 6.203125 44.453125 7.46875 \nQ 49.3125 8.734375 54.109375 11.28125 \nL 54.109375 2.78125 \nQ 49.265625 0.734375 44.1875 -0.34375 \nQ 39.109375 -1.421875 33.890625 -1.421875 \nQ 20.796875 -1.421875 13.15625 6.1875 \nQ 5.515625 13.8125 5.515625 26.8125 \nQ 5.515625 40.234375 12.765625 48.109375 \nQ 20.015625 56 32.328125 56 \nQ 43.359375 56 49.78125 48.890625 \nQ 56.203125 41.796875 56.203125 29.59375 \nz\nM 47.21875 32.234375 \nQ 47.125 39.59375 43.09375 43.984375 \nQ 39.0625 48.390625 32.421875 48.390625 \nQ 24.90625 48.390625 20.390625 44.140625 \nQ 15.875 39.890625 15.1875 32.171875 \nz\n\" id=\"DejaVuSans-101\"/>\n      </defs>\n      <g transform=\"translate(102.171094 239.238437)scale(0.1 -0.1)\">\n       <use xlink:href=\"#DejaVuSans-65\"/>\n       <use x=\"64.783203\" xlink:href=\"#DejaVuSans-102\"/>\n       <use x=\"99.988281\" xlink:href=\"#DejaVuSans-114\"/>\n       <use x=\"141.101562\" xlink:href=\"#DejaVuSans-105\"/>\n       <use x=\"168.884766\" xlink:href=\"#DejaVuSans-99\"/>\n       <use x=\"223.865234\" xlink:href=\"#DejaVuSans-97\"/>\n       <use x=\"285.144531\" xlink:href=\"#DejaVuSans-110\"/>\n       <use x=\"348.523438\" xlink:href=\"#DejaVuSans-65\"/>\n       <use x=\"416.931641\" xlink:href=\"#DejaVuSans-109\"/>\n       <use x=\"514.34375\" xlink:href=\"#DejaVuSans-101\"/>\n       <use x=\"575.867188\" xlink:href=\"#DejaVuSans-114\"/>\n       <use x=\"616.980469\" xlink:href=\"#DejaVuSans-105\"/>\n       <use x=\"644.763672\" xlink:href=\"#DejaVuSans-99\"/>\n       <use x=\"699.744141\" xlink:href=\"#DejaVuSans-97\"/>\n       <use x=\"761.023438\" xlink:href=\"#DejaVuSans-110\"/>\n      </g>\n     </g>\n    </g>\n    <g id=\"xtick_3\">\n     <g id=\"line2d_3\">\n      <g>\n       <use style=\"stroke:#000000;stroke-width:0.8;\" x=\"199.190625\" xlink:href=\"#ma0593cc9f6\" y=\"224.64\"/>\n      </g>\n     </g>\n     <g id=\"text_3\">\n      <!-- Missing -->\n      <defs>\n       <path d=\"M 9.8125 72.90625 \nL 24.515625 72.90625 \nL 43.109375 23.296875 \nL 61.8125 72.90625 \nL 76.515625 72.90625 \nL 76.515625 0 \nL 66.890625 0 \nL 66.890625 64.015625 \nL 48.09375 14.015625 \nL 38.1875 14.015625 \nL 19.390625 64.015625 \nL 19.390625 0 \nL 9.8125 0 \nz\n\" id=\"DejaVuSans-77\"/>\n       <path d=\"M 45.40625 27.984375 \nQ 45.40625 37.75 41.375 43.109375 \nQ 37.359375 48.484375 30.078125 48.484375 \nQ 22.859375 48.484375 18.828125 43.109375 \nQ 14.796875 37.75 14.796875 27.984375 \nQ 14.796875 18.265625 18.828125 12.890625 \nQ 22.859375 7.515625 30.078125 7.515625 \nQ 37.359375 7.515625 41.375 12.890625 \nQ 45.40625 18.265625 45.40625 27.984375 \nz\nM 54.390625 6.78125 \nQ 54.390625 -7.171875 48.1875 -13.984375 \nQ 42 -20.796875 29.203125 -20.796875 \nQ 24.46875 -20.796875 20.265625 -20.09375 \nQ 16.0625 -19.390625 12.109375 -17.921875 \nL 12.109375 -9.1875 \nQ 16.0625 -11.328125 19.921875 -12.34375 \nQ 23.78125 -13.375 27.78125 -13.375 \nQ 36.625 -13.375 41.015625 -8.765625 \nQ 45.40625 -4.15625 45.40625 5.171875 \nL 45.40625 9.625 \nQ 42.625 4.78125 38.28125 2.390625 \nQ 33.9375 0 27.875 0 \nQ 17.828125 0 11.671875 7.65625 \nQ 5.515625 15.328125 5.515625 27.984375 \nQ 5.515625 40.671875 11.671875 48.328125 \nQ 17.828125 56 27.875 56 \nQ 33.9375 56 38.28125 53.609375 \nQ 42.625 51.21875 45.40625 46.390625 \nL 45.40625 54.6875 \nL 54.390625 54.6875 \nz\n\" id=\"DejaVuSans-103\"/>\n      </defs>\n      <g transform=\"translate(180.546094 239.238437)scale(0.1 -0.1)\">\n       <use xlink:href=\"#DejaVuSans-77\"/>\n       <use x=\"86.279297\" xlink:href=\"#DejaVuSans-105\"/>\n       <use x=\"114.0625\" xlink:href=\"#DejaVuSans-115\"/>\n       <use x=\"166.162109\" xlink:href=\"#DejaVuSans-115\"/>\n       <use x=\"218.261719\" xlink:href=\"#DejaVuSans-105\"/>\n       <use x=\"246.044922\" xlink:href=\"#DejaVuSans-110\"/>\n       <use x=\"309.423828\" xlink:href=\"#DejaVuSans-103\"/>\n      </g>\n     </g>\n    </g>\n    <g id=\"xtick_4\">\n     <g id=\"line2d_4\">\n      <g>\n       <use style=\"stroke:#000000;stroke-width:0.8;\" x=\"254.990625\" xlink:href=\"#ma0593cc9f6\" y=\"224.64\"/>\n      </g>\n     </g>\n     <g id=\"text_4\">\n      <!-- Other -->\n      <defs>\n       <path d=\"M 39.40625 66.21875 \nQ 28.65625 66.21875 22.328125 58.203125 \nQ 16.015625 50.203125 16.015625 36.375 \nQ 16.015625 22.609375 22.328125 14.59375 \nQ 28.65625 6.59375 39.40625 6.59375 \nQ 50.140625 6.59375 56.421875 14.59375 \nQ 62.703125 22.609375 62.703125 36.375 \nQ 62.703125 50.203125 56.421875 58.203125 \nQ 50.140625 66.21875 39.40625 66.21875 \nz\nM 39.40625 74.21875 \nQ 54.734375 74.21875 63.90625 63.9375 \nQ 73.09375 53.65625 73.09375 36.375 \nQ 73.09375 19.140625 63.90625 8.859375 \nQ 54.734375 -1.421875 39.40625 -1.421875 \nQ 24.03125 -1.421875 14.8125 8.828125 \nQ 5.609375 19.09375 5.609375 36.375 \nQ 5.609375 53.65625 14.8125 63.9375 \nQ 24.03125 74.21875 39.40625 74.21875 \nz\n\" id=\"DejaVuSans-79\"/>\n       <path d=\"M 18.3125 70.21875 \nL 18.3125 54.6875 \nL 36.8125 54.6875 \nL 36.8125 47.703125 \nL 18.3125 47.703125 \nL 18.3125 18.015625 \nQ 18.3125 11.328125 20.140625 9.421875 \nQ 21.96875 7.515625 27.59375 7.515625 \nL 36.8125 7.515625 \nL 36.8125 0 \nL 27.59375 0 \nQ 17.1875 0 13.234375 3.875 \nQ 9.28125 7.765625 9.28125 18.015625 \nL 9.28125 47.703125 \nL 2.6875 47.703125 \nL 2.6875 54.6875 \nL 9.28125 54.6875 \nL 9.28125 70.21875 \nz\n\" id=\"DejaVuSans-116\"/>\n       <path d=\"M 54.890625 33.015625 \nL 54.890625 0 \nL 45.90625 0 \nL 45.90625 32.71875 \nQ 45.90625 40.484375 42.875 44.328125 \nQ 39.84375 48.1875 33.796875 48.1875 \nQ 26.515625 48.1875 22.3125 43.546875 \nQ 18.109375 38.921875 18.109375 30.90625 \nL 18.109375 0 \nL 9.078125 0 \nL 9.078125 75.984375 \nL 18.109375 75.984375 \nL 18.109375 46.1875 \nQ 21.34375 51.125 25.703125 53.5625 \nQ 30.078125 56 35.796875 56 \nQ 45.21875 56 50.046875 50.171875 \nQ 54.890625 44.34375 54.890625 33.015625 \nz\n\" id=\"DejaVuSans-104\"/>\n      </defs>\n      <g transform=\"translate(240.79375 239.238437)scale(0.1 -0.1)\">\n       <use xlink:href=\"#DejaVuSans-79\"/>\n       <use x=\"78.710938\" xlink:href=\"#DejaVuSans-116\"/>\n       <use x=\"117.919922\" xlink:href=\"#DejaVuSans-104\"/>\n       <use x=\"181.298828\" xlink:href=\"#DejaVuSans-101\"/>\n       <use x=\"242.822266\" xlink:href=\"#DejaVuSans-114\"/>\n      </g>\n     </g>\n    </g>\n    <g id=\"xtick_5\">\n     <g id=\"line2d_5\">\n      <g>\n       <use style=\"stroke:#000000;stroke-width:0.8;\" x=\"310.790625\" xlink:href=\"#ma0593cc9f6\" y=\"224.64\"/>\n      </g>\n     </g>\n     <g id=\"text_5\">\n      <!-- Asian -->\n      <g transform=\"translate(297.14375 239.238437)scale(0.1 -0.1)\">\n       <use xlink:href=\"#DejaVuSans-65\"/>\n       <use x=\"68.408203\" xlink:href=\"#DejaVuSans-115\"/>\n       <use x=\"120.507812\" xlink:href=\"#DejaVuSans-105\"/>\n       <use x=\"148.291016\" xlink:href=\"#DejaVuSans-97\"/>\n       <use x=\"209.570312\" xlink:href=\"#DejaVuSans-110\"/>\n      </g>\n     </g>\n    </g>\n    <g id=\"xtick_6\">\n     <g id=\"line2d_6\">\n      <g>\n       <use style=\"stroke:#000000;stroke-width:0.8;\" x=\"366.590625\" xlink:href=\"#ma0593cc9f6\" y=\"224.64\"/>\n      </g>\n     </g>\n     <g id=\"text_6\">\n      <!-- Hispanic -->\n      <defs>\n       <path d=\"M 9.8125 72.90625 \nL 19.671875 72.90625 \nL 19.671875 43.015625 \nL 55.515625 43.015625 \nL 55.515625 72.90625 \nL 65.375 72.90625 \nL 65.375 0 \nL 55.515625 0 \nL 55.515625 34.71875 \nL 19.671875 34.71875 \nL 19.671875 0 \nL 9.8125 0 \nz\n\" id=\"DejaVuSans-72\"/>\n       <path d=\"M 18.109375 8.203125 \nL 18.109375 -20.796875 \nL 9.078125 -20.796875 \nL 9.078125 54.6875 \nL 18.109375 54.6875 \nL 18.109375 46.390625 \nQ 20.953125 51.265625 25.265625 53.625 \nQ 29.59375 56 35.59375 56 \nQ 45.5625 56 51.78125 48.09375 \nQ 58.015625 40.1875 58.015625 27.296875 \nQ 58.015625 14.40625 51.78125 6.484375 \nQ 45.5625 -1.421875 35.59375 -1.421875 \nQ 29.59375 -1.421875 25.265625 0.953125 \nQ 20.953125 3.328125 18.109375 8.203125 \nz\nM 48.6875 27.296875 \nQ 48.6875 37.203125 44.609375 42.84375 \nQ 40.53125 48.484375 33.40625 48.484375 \nQ 26.265625 48.484375 22.1875 42.84375 \nQ 18.109375 37.203125 18.109375 27.296875 \nQ 18.109375 17.390625 22.1875 11.75 \nQ 26.265625 6.109375 33.40625 6.109375 \nQ 40.53125 6.109375 44.609375 11.75 \nQ 48.6875 17.390625 48.6875 27.296875 \nz\n\" id=\"DejaVuSans-112\"/>\n      </defs>\n      <g transform=\"translate(345.291406 239.238437)scale(0.1 -0.1)\">\n       <use xlink:href=\"#DejaVuSans-72\"/>\n       <use x=\"75.195312\" xlink:href=\"#DejaVuSans-105\"/>\n       <use x=\"102.978516\" xlink:href=\"#DejaVuSans-115\"/>\n       <use x=\"155.078125\" xlink:href=\"#DejaVuSans-112\"/>\n       <use x=\"218.554688\" xlink:href=\"#DejaVuSans-97\"/>\n       <use x=\"279.833984\" xlink:href=\"#DejaVuSans-110\"/>\n       <use x=\"343.212891\" xlink:href=\"#DejaVuSans-105\"/>\n       <use x=\"370.996094\" xlink:href=\"#DejaVuSans-99\"/>\n      </g>\n     </g>\n    </g>\n    <g id=\"text_7\">\n     <!-- race -->\n     <g transform=\"translate(216.145313 252.916562)scale(0.1 -0.1)\">\n      <use xlink:href=\"#DejaVuSans-114\"/>\n      <use x=\"41.113281\" xlink:href=\"#DejaVuSans-97\"/>\n      <use x=\"102.392578\" xlink:href=\"#DejaVuSans-99\"/>\n      <use x=\"157.373047\" xlink:href=\"#DejaVuSans-101\"/>\n     </g>\n    </g>\n   </g>\n   <g id=\"matplotlib.axis_2\">\n    <g id=\"ytick_1\">\n     <g id=\"line2d_7\">\n      <defs>\n       <path d=\"M 0 0 \nL -3.5 0 \n\" id=\"m59f9390915\" style=\"stroke:#000000;stroke-width:0.8;\"/>\n      </defs>\n      <g>\n       <use style=\"stroke:#000000;stroke-width:0.8;\" x=\"59.690625\" xlink:href=\"#m59f9390915\" y=\"224.64\"/>\n      </g>\n     </g>\n     <g id=\"text_8\">\n      <!-- 0 -->\n      <defs>\n       <path d=\"M 31.78125 66.40625 \nQ 24.171875 66.40625 20.328125 58.90625 \nQ 16.5 51.421875 16.5 36.375 \nQ 16.5 21.390625 20.328125 13.890625 \nQ 24.171875 6.390625 31.78125 6.390625 \nQ 39.453125 6.390625 43.28125 13.890625 \nQ 47.125 21.390625 47.125 36.375 \nQ 47.125 51.421875 43.28125 58.90625 \nQ 39.453125 66.40625 31.78125 66.40625 \nz\nM 31.78125 74.21875 \nQ 44.046875 74.21875 50.515625 64.515625 \nQ 56.984375 54.828125 56.984375 36.375 \nQ 56.984375 17.96875 50.515625 8.265625 \nQ 44.046875 -1.421875 31.78125 -1.421875 \nQ 19.53125 -1.421875 13.0625 8.265625 \nQ 6.59375 17.96875 6.59375 36.375 \nQ 6.59375 54.828125 13.0625 64.515625 \nQ 19.53125 74.21875 31.78125 74.21875 \nz\n\" id=\"DejaVuSans-48\"/>\n      </defs>\n      <g transform=\"translate(46.328125 228.439219)scale(0.1 -0.1)\">\n       <use xlink:href=\"#DejaVuSans-48\"/>\n      </g>\n     </g>\n    </g>\n    <g id=\"ytick_2\">\n     <g id=\"line2d_8\">\n      <g>\n       <use style=\"stroke:#000000;stroke-width:0.8;\" x=\"59.690625\" xlink:href=\"#m59f9390915\" y=\"185.048046\"/>\n      </g>\n     </g>\n     <g id=\"text_9\">\n      <!-- 10000 -->\n      <defs>\n       <path d=\"M 12.40625 8.296875 \nL 28.515625 8.296875 \nL 28.515625 63.921875 \nL 10.984375 60.40625 \nL 10.984375 69.390625 \nL 28.421875 72.90625 \nL 38.28125 72.90625 \nL 38.28125 8.296875 \nL 54.390625 8.296875 \nL 54.390625 0 \nL 12.40625 0 \nz\n\" id=\"DejaVuSans-49\"/>\n      </defs>\n      <g transform=\"translate(20.878125 188.847265)scale(0.1 -0.1)\">\n       <use xlink:href=\"#DejaVuSans-49\"/>\n       <use x=\"63.623047\" xlink:href=\"#DejaVuSans-48\"/>\n       <use x=\"127.246094\" xlink:href=\"#DejaVuSans-48\"/>\n       <use x=\"190.869141\" xlink:href=\"#DejaVuSans-48\"/>\n       <use x=\"254.492188\" xlink:href=\"#DejaVuSans-48\"/>\n      </g>\n     </g>\n    </g>\n    <g id=\"ytick_3\">\n     <g id=\"line2d_9\">\n      <g>\n       <use style=\"stroke:#000000;stroke-width:0.8;\" x=\"59.690625\" xlink:href=\"#m59f9390915\" y=\"145.456092\"/>\n      </g>\n     </g>\n     <g id=\"text_10\">\n      <!-- 20000 -->\n      <defs>\n       <path d=\"M 19.1875 8.296875 \nL 53.609375 8.296875 \nL 53.609375 0 \nL 7.328125 0 \nL 7.328125 8.296875 \nQ 12.9375 14.109375 22.625 23.890625 \nQ 32.328125 33.6875 34.8125 36.53125 \nQ 39.546875 41.84375 41.421875 45.53125 \nQ 43.3125 49.21875 43.3125 52.78125 \nQ 43.3125 58.59375 39.234375 62.25 \nQ 35.15625 65.921875 28.609375 65.921875 \nQ 23.96875 65.921875 18.8125 64.3125 \nQ 13.671875 62.703125 7.8125 59.421875 \nL 7.8125 69.390625 \nQ 13.765625 71.78125 18.9375 73 \nQ 24.125 74.21875 28.421875 74.21875 \nQ 39.75 74.21875 46.484375 68.546875 \nQ 53.21875 62.890625 53.21875 53.421875 \nQ 53.21875 48.921875 51.53125 44.890625 \nQ 49.859375 40.875 45.40625 35.40625 \nQ 44.1875 33.984375 37.640625 27.21875 \nQ 31.109375 20.453125 19.1875 8.296875 \nz\n\" id=\"DejaVuSans-50\"/>\n      </defs>\n      <g transform=\"translate(20.878125 149.255311)scale(0.1 -0.1)\">\n       <use xlink:href=\"#DejaVuSans-50\"/>\n       <use x=\"63.623047\" xlink:href=\"#DejaVuSans-48\"/>\n       <use x=\"127.246094\" xlink:href=\"#DejaVuSans-48\"/>\n       <use x=\"190.869141\" xlink:href=\"#DejaVuSans-48\"/>\n       <use x=\"254.492188\" xlink:href=\"#DejaVuSans-48\"/>\n      </g>\n     </g>\n    </g>\n    <g id=\"ytick_4\">\n     <g id=\"line2d_10\">\n      <g>\n       <use style=\"stroke:#000000;stroke-width:0.8;\" x=\"59.690625\" xlink:href=\"#m59f9390915\" y=\"105.864139\"/>\n      </g>\n     </g>\n     <g id=\"text_11\">\n      <!-- 30000 -->\n      <defs>\n       <path d=\"M 40.578125 39.3125 \nQ 47.65625 37.796875 51.625 33 \nQ 55.609375 28.21875 55.609375 21.1875 \nQ 55.609375 10.40625 48.1875 4.484375 \nQ 40.765625 -1.421875 27.09375 -1.421875 \nQ 22.515625 -1.421875 17.65625 -0.515625 \nQ 12.796875 0.390625 7.625 2.203125 \nL 7.625 11.71875 \nQ 11.71875 9.328125 16.59375 8.109375 \nQ 21.484375 6.890625 26.8125 6.890625 \nQ 36.078125 6.890625 40.9375 10.546875 \nQ 45.796875 14.203125 45.796875 21.1875 \nQ 45.796875 27.640625 41.28125 31.265625 \nQ 36.765625 34.90625 28.71875 34.90625 \nL 20.21875 34.90625 \nL 20.21875 43.015625 \nL 29.109375 43.015625 \nQ 36.375 43.015625 40.234375 45.921875 \nQ 44.09375 48.828125 44.09375 54.296875 \nQ 44.09375 59.90625 40.109375 62.90625 \nQ 36.140625 65.921875 28.71875 65.921875 \nQ 24.65625 65.921875 20.015625 65.03125 \nQ 15.375 64.15625 9.8125 62.3125 \nL 9.8125 71.09375 \nQ 15.4375 72.65625 20.34375 73.4375 \nQ 25.25 74.21875 29.59375 74.21875 \nQ 40.828125 74.21875 47.359375 69.109375 \nQ 53.90625 64.015625 53.90625 55.328125 \nQ 53.90625 49.265625 50.4375 45.09375 \nQ 46.96875 40.921875 40.578125 39.3125 \nz\n\" id=\"DejaVuSans-51\"/>\n      </defs>\n      <g transform=\"translate(20.878125 109.663357)scale(0.1 -0.1)\">\n       <use xlink:href=\"#DejaVuSans-51\"/>\n       <use x=\"63.623047\" xlink:href=\"#DejaVuSans-48\"/>\n       <use x=\"127.246094\" xlink:href=\"#DejaVuSans-48\"/>\n       <use x=\"190.869141\" xlink:href=\"#DejaVuSans-48\"/>\n       <use x=\"254.492188\" xlink:href=\"#DejaVuSans-48\"/>\n      </g>\n     </g>\n    </g>\n    <g id=\"ytick_5\">\n     <g id=\"line2d_11\">\n      <g>\n       <use style=\"stroke:#000000;stroke-width:0.8;\" x=\"59.690625\" xlink:href=\"#m59f9390915\" y=\"66.272185\"/>\n      </g>\n     </g>\n     <g id=\"text_12\">\n      <!-- 40000 -->\n      <defs>\n       <path d=\"M 37.796875 64.3125 \nL 12.890625 25.390625 \nL 37.796875 25.390625 \nz\nM 35.203125 72.90625 \nL 47.609375 72.90625 \nL 47.609375 25.390625 \nL 58.015625 25.390625 \nL 58.015625 17.1875 \nL 47.609375 17.1875 \nL 47.609375 0 \nL 37.796875 0 \nL 37.796875 17.1875 \nL 4.890625 17.1875 \nL 4.890625 26.703125 \nz\n\" id=\"DejaVuSans-52\"/>\n      </defs>\n      <g transform=\"translate(20.878125 70.071404)scale(0.1 -0.1)\">\n       <use xlink:href=\"#DejaVuSans-52\"/>\n       <use x=\"63.623047\" xlink:href=\"#DejaVuSans-48\"/>\n       <use x=\"127.246094\" xlink:href=\"#DejaVuSans-48\"/>\n       <use x=\"190.869141\" xlink:href=\"#DejaVuSans-48\"/>\n       <use x=\"254.492188\" xlink:href=\"#DejaVuSans-48\"/>\n      </g>\n     </g>\n    </g>\n    <g id=\"ytick_6\">\n     <g id=\"line2d_12\">\n      <g>\n       <use style=\"stroke:#000000;stroke-width:0.8;\" x=\"59.690625\" xlink:href=\"#m59f9390915\" y=\"26.680231\"/>\n      </g>\n     </g>\n     <g id=\"text_13\">\n      <!-- 50000 -->\n      <defs>\n       <path d=\"M 10.796875 72.90625 \nL 49.515625 72.90625 \nL 49.515625 64.59375 \nL 19.828125 64.59375 \nL 19.828125 46.734375 \nQ 21.96875 47.46875 24.109375 47.828125 \nQ 26.265625 48.1875 28.421875 48.1875 \nQ 40.625 48.1875 47.75 41.5 \nQ 54.890625 34.8125 54.890625 23.390625 \nQ 54.890625 11.625 47.5625 5.09375 \nQ 40.234375 -1.421875 26.90625 -1.421875 \nQ 22.3125 -1.421875 17.546875 -0.640625 \nQ 12.796875 0.140625 7.71875 1.703125 \nL 7.71875 11.625 \nQ 12.109375 9.234375 16.796875 8.0625 \nQ 21.484375 6.890625 26.703125 6.890625 \nQ 35.15625 6.890625 40.078125 11.328125 \nQ 45.015625 15.765625 45.015625 23.390625 \nQ 45.015625 31 40.078125 35.4375 \nQ 35.15625 39.890625 26.703125 39.890625 \nQ 22.75 39.890625 18.8125 39.015625 \nQ 14.890625 38.140625 10.796875 36.28125 \nz\n\" id=\"DejaVuSans-53\"/>\n      </defs>\n      <g transform=\"translate(20.878125 30.47945)scale(0.1 -0.1)\">\n       <use xlink:href=\"#DejaVuSans-53\"/>\n       <use x=\"63.623047\" xlink:href=\"#DejaVuSans-48\"/>\n       <use x=\"127.246094\" xlink:href=\"#DejaVuSans-48\"/>\n       <use x=\"190.869141\" xlink:href=\"#DejaVuSans-48\"/>\n       <use x=\"254.492188\" xlink:href=\"#DejaVuSans-48\"/>\n      </g>\n     </g>\n    </g>\n    <g id=\"text_14\">\n     <!-- count -->\n     <defs>\n      <path d=\"M 30.609375 48.390625 \nQ 23.390625 48.390625 19.1875 42.75 \nQ 14.984375 37.109375 14.984375 27.296875 \nQ 14.984375 17.484375 19.15625 11.84375 \nQ 23.34375 6.203125 30.609375 6.203125 \nQ 37.796875 6.203125 41.984375 11.859375 \nQ 46.1875 17.53125 46.1875 27.296875 \nQ 46.1875 37.015625 41.984375 42.703125 \nQ 37.796875 48.390625 30.609375 48.390625 \nz\nM 30.609375 56 \nQ 42.328125 56 49.015625 48.375 \nQ 55.71875 40.765625 55.71875 27.296875 \nQ 55.71875 13.875 49.015625 6.21875 \nQ 42.328125 -1.421875 30.609375 -1.421875 \nQ 18.84375 -1.421875 12.171875 6.21875 \nQ 5.515625 13.875 5.515625 27.296875 \nQ 5.515625 40.765625 12.171875 48.375 \nQ 18.84375 56 30.609375 56 \nz\n\" id=\"DejaVuSans-111\"/>\n     </defs>\n     <g transform=\"translate(14.798438 130.02625)rotate(-90)scale(0.1 -0.1)\">\n      <use xlink:href=\"#DejaVuSans-99\"/>\n      <use x=\"54.980469\" xlink:href=\"#DejaVuSans-111\"/>\n      <use x=\"116.162109\" xlink:href=\"#DejaVuSans-117\"/>\n      <use x=\"179.541016\" xlink:href=\"#DejaVuSans-110\"/>\n      <use x=\"242.919922\" xlink:href=\"#DejaVuSans-116\"/>\n     </g>\n    </g>\n   </g>\n   <g id=\"patch_9\">\n    <path d=\"M 59.690625 224.64 \nL 59.690625 7.2 \n\" style=\"fill:none;stroke:#000000;stroke-linecap:square;stroke-linejoin:miter;stroke-width:0.8;\"/>\n   </g>\n   <g id=\"patch_10\">\n    <path d=\"M 394.490625 224.64 \nL 394.490625 7.2 \n\" style=\"fill:none;stroke:#000000;stroke-linecap:square;stroke-linejoin:miter;stroke-width:0.8;\"/>\n   </g>\n   <g id=\"patch_11\">\n    <path d=\"M 59.690625 224.64 \nL 394.490625 224.64 \n\" style=\"fill:none;stroke:#000000;stroke-linecap:square;stroke-linejoin:miter;stroke-width:0.8;\"/>\n   </g>\n   <g id=\"patch_12\">\n    <path d=\"M 59.690625 7.2 \nL 394.490625 7.2 \n\" style=\"fill:none;stroke:#000000;stroke-linecap:square;stroke-linejoin:miter;stroke-width:0.8;\"/>\n   </g>\n  </g>\n </g>\n <defs>\n  <clipPath id=\"pbcf5104aff\">\n   <rect height=\"217.44\" width=\"334.8\" x=\"59.690625\" y=\"7.2\"/>\n  </clipPath>\n </defs>\n</svg>\n",
      "image/png": "[encoded data removed]"
     },
     "metadata": {
      "needs_background": "light"
     }
    }
   ],
   "source": [
    "data.race.fillna(value='Missing',inplace=True)\n",
    "raceCounts = data.race.value_counts()\n",
    "print(raceCounts)\n",
    "ax = sns.countplot(x='race',data=data)"
   ]
  },
  {
   "cell_type": "markdown",
   "metadata": {},
   "source": [
    "There are some levels for discharge disposition that have very few values."
   ]
  },
  {
   "cell_type": "code",
   "execution_count": 53,
   "metadata": {
    "tags": []
   },
   "outputs": [
    {
     "output_type": "stream",
     "name": "stdout",
     "text": "1     44322\n3      8790\n6      8291\n18     2474\n2      1541\n22     1411\n5       913\n25      778\n4       542\n7       409\n23      260\n28       90\n8        73\n15       40\n24       25\n9         9\n17        8\n10        6\n27        3\n16        3\n12        2\nName: discharge_disposition_id, dtype: int64\n"
    }
   ],
   "source": [
    "dispositionCounts = data['discharge_disposition_id'].value_counts()\n",
    "print(dispositionCounts)"
   ]
  },
  {
   "cell_type": "markdown",
   "metadata": {},
   "source": [
    "We'll move ids 9, 10, 17, 27, 16 and 12 in to bucket 25"
   ]
  },
  {
   "cell_type": "code",
   "execution_count": 54,
   "metadata": {
    "tags": []
   },
   "outputs": [
    {
     "output_type": "stream",
     "name": "stdout",
     "text": "<class 'pandas.core.frame.DataFrame'>\nInt64Index: 69990 entries, 0 to 101765\nData columns (total 43 columns):\n #   Column                    Non-Null Count  Dtype   \n---  ------                    --------------  -----   \n 0   race                      69990 non-null  object  \n 1   gender                    69990 non-null  object  \n 2   admission_type_id         69990 non-null  int64   \n 3   discharge_disposition_id  69990 non-null  category\n 4   admission_source_id       69990 non-null  int64   \n 5   time_in_hospital          69990 non-null  int64   \n 6   num_lab_procedures        69990 non-null  int64   \n 7   num_procedures            69990 non-null  int64   \n 8   num_medications           69990 non-null  int64   \n 9   number_outpatient         69990 non-null  int64   \n 10  number_emergency          69990 non-null  int64   \n 11  number_inpatient          69990 non-null  int64   \n 12  diag_1                    69990 non-null  object  \n 13  diag_2                    69990 non-null  object  \n 14  diag_3                    69990 non-null  object  \n 15  number_diagnoses          69990 non-null  int64   \n 16  max_glu_serum             69990 non-null  object  \n 17  A1Cresult                 69990 non-null  object  \n 18  metformin                 69990 non-null  object  \n 19  repaglinide               69990 non-null  object  \n 20  nateglinide               69990 non-null  object  \n 21  chlorpropamide            69990 non-null  object  \n 22  glimepiride               69990 non-null  object  \n 23  acetohexamide             69990 non-null  object  \n 24  glipizide                 69990 non-null  object  \n 25  glyburide                 69990 non-null  object  \n 26  tolbutamide               69990 non-null  object  \n 27  pioglitazone              69990 non-null  object  \n 28  rosiglitazone             69990 non-null  object  \n 29  acarbose                  69990 non-null  object  \n 30  miglitol                  69990 non-null  object  \n 31  troglitazone              69990 non-null  object  \n 32  tolazamide                69990 non-null  object  \n 33  insulin                   69990 non-null  object  \n 34  glyburide-metformin       69990 non-null  object  \n 35  glipizide-metformin       69990 non-null  object  \n 36  glimepiride-pioglitazone  69990 non-null  object  \n 37  metformin-rosiglitazone   69990 non-null  object  \n 38  metformin-pioglitazone    69990 non-null  object  \n 39  change                    69990 non-null  object  \n 40  diabetesMed               69990 non-null  object  \n 41  readmitted                69990 non-null  object  \n 42  ageGrp                    69990 non-null  object  \ndtypes: category(1), int64(10), object(32)\nmemory usage: 25.5+ MB\n"
    }
   ],
   "source": [
    "disBucket = [9,10,12,16,17,27]\n",
    "data['discharge_disposition_id'] = pd.Categorical(data.discharge_disposition_id)\n",
    "test = data['discharge_disposition_id'].isin(disBucket)\n",
    "data['discharge_disposition_id'] = np.where(data['discharge_disposition_id'].isin(disBucket),'25',data['discharge_disposition_id'])\n",
    "dispositionCounts = data['discharge_disposition_id'].value_counts()\n",
    "data['discharge_disposition_id'] = pd.Categorical(data.discharge_disposition_id)\n",
    "data.info()"
   ]
  },
  {
   "cell_type": "markdown",
   "metadata": {},
   "source": [
    "Lastly, let's create an outcome column that is Yes if admitted within 30 days, and No for everything else. Then remove the readmitted column. We'll use \"outcome\" as the response variable."
   ]
  },
  {
   "cell_type": "code",
   "execution_count": 55,
   "metadata": {
    "tags": []
   },
   "outputs": [
    {
     "output_type": "stream",
     "name": "stdout",
     "text": "0    63705\n1     6285\nName: outcome, dtype: int64\n"
    }
   ],
   "source": [
    "data['outcome'] = np.where(data['readmitted'] == '<30',1,0)\n",
    "data.drop(columns=['readmitted'],inplace=True)\n",
    "outcomeCounts = data['outcome'].value_counts()\n",
    "print(outcomeCounts)"
   ]
  },
  {
   "cell_type": "markdown",
   "metadata": {},
   "source": [
    "Above we see that about 10% of our data shows as readmitted, so we have an imbalanced data set. Need to consider that in our analysis later."
   ]
  },
  {
   "cell_type": "code",
   "execution_count": 56,
   "metadata": {
    "tags": []
   },
   "outputs": [
    {
     "output_type": "stream",
     "name": "stdout",
     "text": "<class 'pandas.core.frame.DataFrame'>\nInt64Index: 69990 entries, 0 to 101765\nData columns (total 43 columns):\n #   Column                    Non-Null Count  Dtype   \n---  ------                    --------------  -----   \n 0   race                      69990 non-null  object  \n 1   gender                    69990 non-null  object  \n 2   admission_type_id         69990 non-null  int64   \n 3   discharge_disposition_id  69990 non-null  category\n 4   admission_source_id       69990 non-null  int64   \n 5   time_in_hospital          69990 non-null  int64   \n 6   num_lab_procedures        69990 non-null  int64   \n 7   num_procedures            69990 non-null  int64   \n 8   num_medications           69990 non-null  int64   \n 9   number_outpatient         69990 non-null  int64   \n 10  number_emergency          69990 non-null  int64   \n 11  number_inpatient          69990 non-null  int64   \n 12  diag_1                    69990 non-null  object  \n 13  diag_2                    69990 non-null  object  \n 14  diag_3                    69990 non-null  object  \n 15  number_diagnoses          69990 non-null  int64   \n 16  max_glu_serum             69990 non-null  object  \n 17  A1Cresult                 69990 non-null  object  \n 18  metformin                 69990 non-null  object  \n 19  repaglinide               69990 non-null  object  \n 20  nateglinide               69990 non-null  object  \n 21  chlorpropamide            69990 non-null  object  \n 22  glimepiride               69990 non-null  object  \n 23  acetohexamide             69990 non-null  object  \n 24  glipizide                 69990 non-null  object  \n 25  glyburide                 69990 non-null  object  \n 26  tolbutamide               69990 non-null  object  \n 27  pioglitazone              69990 non-null  object  \n 28  rosiglitazone             69990 non-null  object  \n 29  acarbose                  69990 non-null  object  \n 30  miglitol                  69990 non-null  object  \n 31  troglitazone              69990 non-null  object  \n 32  tolazamide                69990 non-null  object  \n 33  insulin                   69990 non-null  object  \n 34  glyburide-metformin       69990 non-null  object  \n 35  glipizide-metformin       69990 non-null  object  \n 36  glimepiride-pioglitazone  69990 non-null  object  \n 37  metformin-rosiglitazone   69990 non-null  object  \n 38  metformin-pioglitazone    69990 non-null  object  \n 39  change                    69990 non-null  object  \n 40  diabetesMed               69990 non-null  object  \n 41  ageGrp                    69990 non-null  object  \n 42  outcome                   69990 non-null  int64   \ndtypes: category(1), int64(11), object(31)\nmemory usage: 25.5+ MB\n"
    }
   ],
   "source": [
    "data.info()"
   ]
  },
  {
   "cell_type": "markdown",
   "metadata": {},
   "source": [
    "There attributes are shown as numeric, which should be converted to categorical. Additionally, let's convert our objects to categories."
   ]
  },
  {
   "cell_type": "code",
   "execution_count": 57,
   "metadata": {
    "tags": []
   },
   "outputs": [
    {
     "output_type": "stream",
     "name": "stdout",
     "text": "<class 'pandas.core.frame.DataFrame'>\nInt64Index: 69990 entries, 0 to 101765\nData columns (total 43 columns):\n #   Column                    Non-Null Count  Dtype   \n---  ------                    --------------  -----   \n 0   race                      69990 non-null  category\n 1   gender                    69990 non-null  category\n 2   admission_type_id         69990 non-null  category\n 3   discharge_disposition_id  69990 non-null  category\n 4   admission_source_id       69990 non-null  category\n 5   time_in_hospital          69990 non-null  int64   \n 6   num_lab_procedures        69990 non-null  int64   \n 7   num_procedures            69990 non-null  int64   \n 8   num_medications           69990 non-null  int64   \n 9   number_outpatient         69990 non-null  int64   \n 10  number_emergency          69990 non-null  int64   \n 11  number_inpatient          69990 non-null  int64   \n 12  diag_1                    69990 non-null  category\n 13  diag_2                    69990 non-null  category\n 14  diag_3                    69990 non-null  category\n 15  number_diagnoses          69990 non-null  int64   \n 16  max_glu_serum             69990 non-null  category\n 17  A1Cresult                 69990 non-null  category\n 18  metformin                 69990 non-null  category\n 19  repaglinide               69990 non-null  category\n 20  nateglinide               69990 non-null  category\n 21  chlorpropamide            69990 non-null  category\n 22  glimepiride               69990 non-null  category\n 23  acetohexamide             69990 non-null  category\n 24  glipizide                 69990 non-null  category\n 25  glyburide                 69990 non-null  category\n 26  tolbutamide               69990 non-null  category\n 27  pioglitazone              69990 non-null  category\n 28  rosiglitazone             69990 non-null  category\n 29  acarbose                  69990 non-null  category\n 30  miglitol                  69990 non-null  category\n 31  troglitazone              69990 non-null  category\n 32  tolazamide                69990 non-null  category\n 33  insulin                   69990 non-null  category\n 34  glyburide-metformin       69990 non-null  category\n 35  glipizide-metformin       69990 non-null  category\n 36  glimepiride-pioglitazone  69990 non-null  category\n 37  metformin-rosiglitazone   69990 non-null  category\n 38  metformin-pioglitazone    69990 non-null  category\n 39  change                    69990 non-null  category\n 40  diabetesMed               69990 non-null  category\n 41  ageGrp                    69990 non-null  category\n 42  outcome                   69990 non-null  int64   \ndtypes: category(34), int64(9)\nmemory usage: 10.1 MB\n"
    }
   ],
   "source": [
    "data['admission_type_id'] = pd.Categorical(data.admission_type_id)\n",
    "data['admission_source_id'] = pd.Categorical(data.admission_source_id)\n",
    "data['discharge_disposition_id'] = pd.Categorical(data.discharge_disposition_id)\n",
    "\n",
    "catObjs = data.select_dtypes(include = ['object'])\n",
    "data[catObjs.columns] = data[catObjs.columns].astype('category')\n",
    "data.info()"
   ]
  },
  {
   "cell_type": "code",
   "execution_count": null,
   "metadata": {},
   "outputs": [],
   "source": []
  }
 ]
}