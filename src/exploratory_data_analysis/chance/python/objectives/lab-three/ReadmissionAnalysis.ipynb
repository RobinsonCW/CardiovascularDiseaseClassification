{
 "metadata": {
  "language_info": {
   "codemirror_mode": {
    "name": "ipython",
    "version": 3
   },
   "file_extension": ".py",
   "mimetype": "text/x-python",
   "name": "python",
   "nbconvert_exporter": "python",
   "pygments_lexer": "ipython3",
   "version": 3
  },
  "orig_nbformat": 2,
  "kernelspec": {
   "name": "python_defaultSpec_1595911684071",
   "display_name": "Python 3.6.8 64-bit ('PY368': conda)"
  }
 },
 "nbformat": 4,
 "nbformat_minor": 2,
 "cells": [
  {
   "cell_type": "code",
   "execution_count": 1,
   "metadata": {},
   "outputs": [],
   "source": [
    "# Base Imports\n",
    "import pandas as pd\n",
    "import numpy as np \n",
    "import time\n",
    "from matplotlib import pyplot as plt\n",
    "from matplotlib.ticker import MaxNLocator\n",
    "import seaborn as sns\n",
    "%matplotlib inline\n",
    "\n",
    "# Pre-Processing\n",
    "from sklearn.preprocessing import RobustScaler\n",
    "from sklearn.preprocessing import StandardScaler\n",
    "from sklearn.preprocessing import OneHotEncoder\n",
    "from sklearn.impute import SimpleImputer\n",
    "from sklearn.compose import ColumnTransformer\n",
    "\n",
    "# Metrics and Evaluation\n",
    "from sklearn import metrics\n",
    "from sklearn.metrics import classification_report\n",
    "from sklearn.metrics import plot_confusion_matrix\n",
    "from sklearn.metrics import plot_roc_curve\n",
    "\n",
    "# Train/ Test Split\n",
    "from sklearn.model_selection import train_test_split\n",
    "from sklearn.model_selection import cross_val_score\n",
    "\n",
    "from sklearn.pipeline import Pipeline\n",
    "\n",
    "# Imbalanced Data\n",
    "from imblearn.over_sampling import SMOTE\n",
    "from imblearn.over_sampling import BorderlineSMOTE\n",
    "from imblearn.pipeline import make_pipeline, Pipeline\n",
    "\n",
    "# Estimators\n",
    "from sklearn.naive_bayes import MultinomialNB\n",
    "from sklearn.neighbors import KNeighborsClassifier\n",
    "from sklearn.ensemble import RandomForestClassifier\n",
    "from sklearn.ensemble import GradientBoostingClassifier\n",
    "from sklearn.linear_model import LogisticRegression\n",
    "from sklearn.tree import DecisionTreeClassifier\n",
    "\n",
    "# Hyper Parameter Tuning\n",
    "from sklearn.model_selection import GridSearchCV\n",
    "from sklearn.model_selection import RandomizedSearchCV\n",
    "\n",
    "# T-Tests\n",
    "from mlxtend.evaluate import paired_ttest_5x2cv\n",
    "\n",
    "# Machine Learning Visualizations\n",
    "from yellowbrick.classifier import ROCAUC\n",
    "from yellowbrick.classifier import PrecisionRecallCurve\n",
    "from yellowbrick.classifier import ClassificationReport"
   ]
  },
  {
   "cell_type": "markdown",
   "metadata": {},
   "source": [
    "References:\n",
    "\n",
    "* https://archive.ics.uci.edu/ml/datasets/Diabetes+130-US+hospitals+for+years+1999-2008#\n",
    "* https://www.hindawi.com/journals/bmri/2014/781670/\n"
   ]
  },
  {
   "cell_type": "code",
   "execution_count": 2,
   "metadata": {
    "tags": []
   },
   "outputs": [
    {
     "output_type": "stream",
     "name": "stdout",
     "text": "<class 'pandas.core.frame.DataFrame'>\nRangeIndex: 101766 entries, 0 to 101765\nData columns (total 50 columns):\n #   Column                    Non-Null Count   Dtype \n---  ------                    --------------   ----- \n 0   encounter_id              101766 non-null  int64 \n 1   patient_nbr               101766 non-null  int64 \n 2   race                      101766 non-null  object\n 3   gender                    101766 non-null  object\n 4   age                       101766 non-null  object\n 5   weight                    101766 non-null  object\n 6   admission_type_id         101766 non-null  int64 \n 7   discharge_disposition_id  101766 non-null  int64 \n 8   admission_source_id       101766 non-null  int64 \n 9   time_in_hospital          101766 non-null  int64 \n 10  payer_code                101766 non-null  object\n 11  medical_specialty         101766 non-null  object\n 12  num_lab_procedures        101766 non-null  int64 \n 13  num_procedures            101766 non-null  int64 \n 14  num_medications           101766 non-null  int64 \n 15  number_outpatient         101766 non-null  int64 \n 16  number_emergency          101766 non-null  int64 \n 17  number_inpatient          101766 non-null  int64 \n 18  diag_1                    101766 non-null  object\n 19  diag_2                    101766 non-null  object\n 20  diag_3                    101766 non-null  object\n 21  number_diagnoses          101766 non-null  int64 \n 22  max_glu_serum             101766 non-null  object\n 23  A1Cresult                 101766 non-null  object\n 24  metformin                 101766 non-null  object\n 25  repaglinide               101766 non-null  object\n 26  nateglinide               101766 non-null  object\n 27  chlorpropamide            101766 non-null  object\n 28  glimepiride               101766 non-null  object\n 29  acetohexamide             101766 non-null  object\n 30  glipizide                 101766 non-null  object\n 31  glyburide                 101766 non-null  object\n 32  tolbutamide               101766 non-null  object\n 33  pioglitazone              101766 non-null  object\n 34  rosiglitazone             101766 non-null  object\n 35  acarbose                  101766 non-null  object\n 36  miglitol                  101766 non-null  object\n 37  troglitazone              101766 non-null  object\n 38  tolazamide                101766 non-null  object\n 39  examide                   101766 non-null  object\n 40  citoglipton               101766 non-null  object\n 41  insulin                   101766 non-null  object\n 42  glyburide-metformin       101766 non-null  object\n 43  glipizide-metformin       101766 non-null  object\n 44  glimepiride-pioglitazone  101766 non-null  object\n 45  metformin-rosiglitazone   101766 non-null  object\n 46  metformin-pioglitazone    101766 non-null  object\n 47  change                    101766 non-null  object\n 48  diabetesMed               101766 non-null  object\n 49  readmitted                101766 non-null  object\ndtypes: int64(13), object(37)\nmemory usage: 38.8+ MB\n"
    }
   ],
   "source": [
    "data = pd.read_csv('../../../../../../data/diabetic_data.csv')\n",
    "data.info()"
   ]
  },
  {
   "cell_type": "markdown",
   "metadata": {},
   "source": [
    "The above shows there are no missing values. Let's examine a few of the records."
   ]
  },
  {
   "cell_type": "code",
   "execution_count": 3,
   "metadata": {},
   "outputs": [
    {
     "output_type": "execute_result",
     "data": {
      "text/plain": "   encounter_id  patient_nbr             race  gender      age weight  \\\n0       2278392      8222157        Caucasian  Female   [0-10)      ?   \n1        149190     55629189        Caucasian  Female  [10-20)      ?   \n2         64410     86047875  AfricanAmerican  Female  [20-30)      ?   \n3        500364     82442376        Caucasian    Male  [30-40)      ?   \n4         16680     42519267        Caucasian    Male  [40-50)      ?   \n\n   admission_type_id  discharge_disposition_id  admission_source_id  \\\n0                  6                        25                    1   \n1                  1                         1                    7   \n2                  1                         1                    7   \n3                  1                         1                    7   \n4                  1                         1                    7   \n\n   time_in_hospital  ... citoglipton insulin  glyburide-metformin  \\\n0                 1  ...          No      No                   No   \n1                 3  ...          No      Up                   No   \n2                 2  ...          No      No                   No   \n3                 2  ...          No      Up                   No   \n4                 1  ...          No  Steady                   No   \n\n   glipizide-metformin  glimepiride-pioglitazone  metformin-rosiglitazone  \\\n0                   No                        No                       No   \n1                   No                        No                       No   \n2                   No                        No                       No   \n3                   No                        No                       No   \n4                   No                        No                       No   \n\n   metformin-pioglitazone  change diabetesMed readmitted  \n0                      No      No          No         NO  \n1                      No      Ch         Yes        >30  \n2                      No      No         Yes         NO  \n3                      No      Ch         Yes         NO  \n4                      No      Ch         Yes         NO  \n\n[5 rows x 50 columns]",
      "text/html": "<div>\n<style scoped>\n    .dataframe tbody tr th:only-of-type {\n        vertical-align: middle;\n    }\n\n    .dataframe tbody tr th {\n        vertical-align: top;\n    }\n\n    .dataframe thead th {\n        text-align: right;\n    }\n</style>\n<table border=\"1\" class=\"dataframe\">\n  <thead>\n    <tr style=\"text-align: right;\">\n      <th></th>\n      <th>encounter_id</th>\n      <th>patient_nbr</th>\n      <th>race</th>\n      <th>gender</th>\n      <th>age</th>\n      <th>weight</th>\n      <th>admission_type_id</th>\n      <th>discharge_disposition_id</th>\n      <th>admission_source_id</th>\n      <th>time_in_hospital</th>\n      <th>...</th>\n      <th>citoglipton</th>\n      <th>insulin</th>\n      <th>glyburide-metformin</th>\n      <th>glipizide-metformin</th>\n      <th>glimepiride-pioglitazone</th>\n      <th>metformin-rosiglitazone</th>\n      <th>metformin-pioglitazone</th>\n      <th>change</th>\n      <th>diabetesMed</th>\n      <th>readmitted</th>\n    </tr>\n  </thead>\n  <tbody>\n    <tr>\n      <th>0</th>\n      <td>2278392</td>\n      <td>8222157</td>\n      <td>Caucasian</td>\n      <td>Female</td>\n      <td>[0-10)</td>\n      <td>?</td>\n      <td>6</td>\n      <td>25</td>\n      <td>1</td>\n      <td>1</td>\n      <td>...</td>\n      <td>No</td>\n      <td>No</td>\n      <td>No</td>\n      <td>No</td>\n      <td>No</td>\n      <td>No</td>\n      <td>No</td>\n      <td>No</td>\n      <td>No</td>\n      <td>NO</td>\n    </tr>\n    <tr>\n      <th>1</th>\n      <td>149190</td>\n      <td>55629189</td>\n      <td>Caucasian</td>\n      <td>Female</td>\n      <td>[10-20)</td>\n      <td>?</td>\n      <td>1</td>\n      <td>1</td>\n      <td>7</td>\n      <td>3</td>\n      <td>...</td>\n      <td>No</td>\n      <td>Up</td>\n      <td>No</td>\n      <td>No</td>\n      <td>No</td>\n      <td>No</td>\n      <td>No</td>\n      <td>Ch</td>\n      <td>Yes</td>\n      <td>&gt;30</td>\n    </tr>\n    <tr>\n      <th>2</th>\n      <td>64410</td>\n      <td>86047875</td>\n      <td>AfricanAmerican</td>\n      <td>Female</td>\n      <td>[20-30)</td>\n      <td>?</td>\n      <td>1</td>\n      <td>1</td>\n      <td>7</td>\n      <td>2</td>\n      <td>...</td>\n      <td>No</td>\n      <td>No</td>\n      <td>No</td>\n      <td>No</td>\n      <td>No</td>\n      <td>No</td>\n      <td>No</td>\n      <td>No</td>\n      <td>Yes</td>\n      <td>NO</td>\n    </tr>\n    <tr>\n      <th>3</th>\n      <td>500364</td>\n      <td>82442376</td>\n      <td>Caucasian</td>\n      <td>Male</td>\n      <td>[30-40)</td>\n      <td>?</td>\n      <td>1</td>\n      <td>1</td>\n      <td>7</td>\n      <td>2</td>\n      <td>...</td>\n      <td>No</td>\n      <td>Up</td>\n      <td>No</td>\n      <td>No</td>\n      <td>No</td>\n      <td>No</td>\n      <td>No</td>\n      <td>Ch</td>\n      <td>Yes</td>\n      <td>NO</td>\n    </tr>\n    <tr>\n      <th>4</th>\n      <td>16680</td>\n      <td>42519267</td>\n      <td>Caucasian</td>\n      <td>Male</td>\n      <td>[40-50)</td>\n      <td>?</td>\n      <td>1</td>\n      <td>1</td>\n      <td>7</td>\n      <td>1</td>\n      <td>...</td>\n      <td>No</td>\n      <td>Steady</td>\n      <td>No</td>\n      <td>No</td>\n      <td>No</td>\n      <td>No</td>\n      <td>No</td>\n      <td>Ch</td>\n      <td>Yes</td>\n      <td>NO</td>\n    </tr>\n  </tbody>\n</table>\n<p>5 rows × 50 columns</p>\n</div>"
     },
     "metadata": {},
     "execution_count": 3
    }
   ],
   "source": [
    "data.head()"
   ]
  },
  {
   "cell_type": "markdown",
   "metadata": {},
   "source": [
    "Above shows there are many values represented by '?'. We'll replace '?' with NAN."
   ]
  },
  {
   "cell_type": "code",
   "execution_count": 4,
   "metadata": {},
   "outputs": [],
   "source": [
    "data.replace('?', np.nan, inplace=True)"
   ]
  },
  {
   "cell_type": "markdown",
   "metadata": {},
   "source": [
    "Find features with missing values."
   ]
  },
  {
   "cell_type": "code",
   "execution_count": 5,
   "metadata": {},
   "outputs": [
    {
     "output_type": "execute_result",
     "data": {
      "text/plain": "encounter_id                    0\npatient_nbr                     0\nrace                         2273\ngender                          0\nage                             0\nweight                      98569\nadmission_type_id               0\ndischarge_disposition_id        0\nadmission_source_id             0\ntime_in_hospital                0\npayer_code                  40256\nmedical_specialty           49949\nnum_lab_procedures              0\nnum_procedures                  0\nnum_medications                 0\nnumber_outpatient               0\nnumber_emergency                0\nnumber_inpatient                0\ndiag_1                         21\ndiag_2                        358\ndiag_3                       1423\nnumber_diagnoses                0\nmax_glu_serum                   0\nA1Cresult                       0\nmetformin                       0\nrepaglinide                     0\nnateglinide                     0\nchlorpropamide                  0\nglimepiride                     0\nacetohexamide                   0\nglipizide                       0\nglyburide                       0\ntolbutamide                     0\npioglitazone                    0\nrosiglitazone                   0\nacarbose                        0\nmiglitol                        0\ntroglitazone                    0\ntolazamide                      0\nexamide                         0\ncitoglipton                     0\ninsulin                         0\nglyburide-metformin             0\nglipizide-metformin             0\nglimepiride-pioglitazone        0\nmetformin-rosiglitazone         0\nmetformin-pioglitazone          0\nchange                          0\ndiabetesMed                     0\nreadmitted                      0\ndtype: int64"
     },
     "metadata": {},
     "execution_count": 5
    }
   ],
   "source": [
    "data.isnull().sum()"
   ]
  },
  {
   "cell_type": "markdown",
   "metadata": {},
   "source": [
    "Due to the frequency of missing data, let's remove 'weight', 'medical_specialty', and 'payer_code'."
   ]
  },
  {
   "cell_type": "code",
   "execution_count": 6,
   "metadata": {},
   "outputs": [],
   "source": [
    "data.drop(columns=[\"weight\",\"medical_specialty\",\"payer_code\"], inplace=True)"
   ]
  },
  {
   "cell_type": "markdown",
   "metadata": {},
   "source": [
    "Next, let's remove observations where the discharge disposition is related to hospice or death, since these will not add to the possibility of being readmitted.\n",
    "* 11 - Expired\n",
    "* 13 - Hospice/Home\n",
    "* 14 - Hospice/Medical Facility\n",
    "* 19 - Expired at Home\n",
    "* 20 - Expired at Medical Facility\n",
    "* 21 - Expired at Unknown"
   ]
  },
  {
   "cell_type": "code",
   "execution_count": 7,
   "metadata": {},
   "outputs": [],
   "source": [
    "dispositionsToRemove = ['11','13','14','19','20','21']\n",
    "data = data[~data.discharge_disposition_id.isin(dispositionsToRemove)]"
   ]
  },
  {
   "cell_type": "markdown",
   "metadata": {},
   "source": [
    "In the data set, we find that patients have multiple admissions. The paper (referenced above) suggests using only the first one to satisfy the independence assumption. So we will filter and only use the first encounter (the lowest for a given member). I wonder if this could be challenged. If the diagnosis or reason for visit is different than a previous admission, I think it could be considered statistically independent.\n",
    "\n",
    "The below filters the data frame to use the first encounter for a given member 'patient_nbr'."
   ]
  },
  {
   "cell_type": "code",
   "execution_count": 8,
   "metadata": {},
   "outputs": [],
   "source": [
    "def get_min_encounter_id(df):\n",
    "    min_enc = df.groupby('patient_nbr').encounter_id.transform(min)\n",
    "    return df[df.encounter_id == min_enc]\n",
    "\n",
    "data = get_min_encounter_id(data)"
   ]
  },
  {
   "cell_type": "markdown",
   "metadata": {},
   "source": [
    "Create buckets for the ICD-9 diagnosis codes. We'll use the mapping defined based on the following. https://www.hindawi.com/journals/bmri/2014/781670/tab2/ Regular Expressions are used below to translate the ICD9 codes into buckets"
   ]
  },
  {
   "cell_type": "code",
   "execution_count": 9,
   "metadata": {},
   "outputs": [],
   "source": [
    "def map_dx(data,regex,replace):\n",
    "    data['diag_1'] = np.where(data['diag_1'].str.contains(regex,regex=True,na=False),replace,data['diag_1'])\n",
    "    data['diag_2'] = np.where(data['diag_2'].str.contains(regex,regex=True,na=False),replace,data['diag_2'])\n",
    "    data['diag_3'] = np.where(data['diag_3'].str.contains(regex,regex=True,na=False),replace,data['diag_3'])"
   ]
  },
  {
   "cell_type": "code",
   "execution_count": 10,
   "metadata": {},
   "outputs": [],
   "source": [
    "# Circulatory\n",
    "map_dx(data,'^39[0-9]|^4[0-5][0-9]','Circulatory')\n",
    "map_dx(data,'^785','Circulatory')\n",
    "\n",
    "# Respiratory\n",
    "map_dx(data,'^4[6-9][0-9]|^5[0-1][0-9]','Respiratory')\n",
    "map_dx(data,'^786','Respiratory')\n",
    "\n",
    "# Digestive\n",
    "map_dx(data,'^5[2-7][0-9]','Digestive')\n",
    "map_dx(data,'^787','Digestive')\n",
    "\n",
    "# Diabetes\n",
    "map_dx(data,'^250','Diabetes')\n",
    "\n",
    "# Injury\n",
    "map_dx(data,'^[8-9][0-9][0-9]','Injury')\n",
    "\n",
    "# Musculoskeletal\n",
    "map_dx(data,'^7[1-3][0-9]','Musculoskeletal')\n",
    "\n",
    "# Genitourinary\n",
    "map_dx(data,'^5[8-9][0-9]|^6[0-2][0-9]','Genitourinary')\n",
    "map_dx(data,'^788','Genitourinary')\n",
    "\n",
    "# Neoplasms\n",
    "map_dx(data,'^1[4-9][0-9]|^2[0-7][0-9]','Neoplasms')\n",
    "map_dx(data,'^78[0-2]|^79[0-9]','Neoplasms')\n",
    "map_dx(data,'^6[8-9][0-9]|^70[0-9]','Neoplasms')\n",
    "map_dx(data,'^([1-9]|[1-9][0-9]|1[0-3][0-9])$','Neoplasms')\n",
    "map_dx(data,'^784','Neoplasms')\n",
    "\n",
    "# For those that are missing, label as \"None\"\n",
    "data['diag_1'].fillna(value=\"None\",inplace=True)\n",
    "data['diag_2'].fillna(value=\"None\",inplace=True)\n",
    "data['diag_3'].fillna(value=\"None\",inplace=True)\n",
    "\n",
    "# For everything else that hasn't been bucketed, label as \"Other\" \n",
    "dxBuckets = ['Circulatory','Respiratory','Digestive','Diabetes','Injury','Musculoskeletal','Genitourinary','Neoplasms']\n",
    "data['diag_1'] = np.where(~data['diag_1'].isin(dxBuckets),'Other',data['diag_1'])\n",
    "data['diag_2'] = np.where(~data['diag_2'].isin(dxBuckets),'Other',data['diag_2'])\n",
    "data['diag_3'] = np.where(~data['diag_3'].isin(dxBuckets),'Other',data['diag_3'])"
   ]
  },
  {
   "cell_type": "markdown",
   "metadata": {},
   "source": [
    "Let's take a look at the value counts for 'diag_1'"
   ]
  },
  {
   "cell_type": "code",
   "execution_count": 11,
   "metadata": {},
   "outputs": [
    {
     "output_type": "execute_result",
     "data": {
      "text/plain": "Circulatory        21390\nNeoplasms           9680\nRespiratory         9491\nDigestive           6488\nDiabetes            5748\nOther               4992\nInjury              4696\nMusculoskeletal     4064\nGenitourinary       3441\nName: diag_1, dtype: int64"
     },
     "metadata": {},
     "execution_count": 11
    }
   ],
   "source": [
    "data.diag_1.value_counts()"
   ]
  },
  {
   "cell_type": "markdown",
   "metadata": {},
   "source": [
    "Age is a factor with 10 levels. We are going to bucket these into 3 different groups in a new feature, and remove the old feature.\n",
    "\n",
    "* 0 - 30\n",
    "* 30 - 60\n",
    "* 60 - 100"
   ]
  },
  {
   "cell_type": "code",
   "execution_count": 12,
   "metadata": {
    "tags": []
   },
   "outputs": [
    {
     "output_type": "stream",
     "name": "stdout",
     "text": "[60-100]    46311\n[30-60]     21871\n[0-30]       1808\nName: ageGrp, dtype: int64\n"
    }
   ],
   "source": [
    "data['ageGrp'] = np.where(data['age'] == '[0-10)','[0-30]','')\n",
    "data['ageGrp'] = np.where(data['age'] == '[10-20)','[0-30]',data['ageGrp'])\n",
    "data['ageGrp'] = np.where(data['age'] == '[20-30)','[0-30]',data['ageGrp'])\n",
    "data['ageGrp'] = np.where(data['age'] == '[30-40)','[30-60]',data['ageGrp'])\n",
    "data['ageGrp'] = np.where(data['age'] == '[40-50)','[30-60]',data['ageGrp'])\n",
    "data['ageGrp'] = np.where(data['age'] == '[50-60)','[30-60]',data['ageGrp'])\n",
    "data['ageGrp'] = np.where(data['ageGrp'] == '','[60-100]',data['ageGrp'])\n",
    "\n",
    "ageCounts = data.ageGrp.value_counts()\n",
    "print(ageCounts)"
   ]
  },
  {
   "cell_type": "markdown",
   "metadata": {},
   "source": [
    "Next we'll remove some features that won't be used.\n",
    "\n",
    "* Age - Replaced with AgeGrp\n",
    "* There are two medications that have only 1 factor level, \"examide\" and \"citoglipton\". We will remove these from the data set.\n",
    "* Since encounter_id and patient_nbr are identifiers, we will remove these as well."
   ]
  },
  {
   "cell_type": "code",
   "execution_count": 13,
   "metadata": {},
   "outputs": [],
   "source": [
    "data.drop(columns=['age','examide','citoglipton','encounter_id','patient_nbr'], inplace=True)"
   ]
  },
  {
   "cell_type": "markdown",
   "metadata": {},
   "source": [
    "Clean missing race values, label as \"Missing\""
   ]
  },
  {
   "cell_type": "code",
   "execution_count": 14,
   "metadata": {
    "tags": []
   },
   "outputs": [
    {
     "output_type": "stream",
     "name": "stdout",
     "text": "Caucasian          52305\nAfricanAmerican    12627\nMissing             1919\nHispanic            1501\nOther               1150\nAsian                488\nName: race, dtype: int64\n"
    },
    {
     "output_type": "display_data",
     "data": {
      "text/plain": "<Figure size 576x396 with 1 Axes>",
      "image/svg+xml": "<?xml version=\"1.0\" encoding=\"utf-8\" standalone=\"no\"?>\r\n<!DOCTYPE svg PUBLIC \"-//W3C//DTD SVG 1.1//EN\"\r\n  \"http://www.w3.org/Graphics/SVG/1.1/DTD/svg11.dtd\">\r\n<!-- Created with matplotlib (https://matplotlib.org/) -->\r\n<svg height=\"343.702344pt\" version=\"1.1\" viewBox=\"0 0 509.664531 343.702344\" width=\"509.664531pt\" xmlns=\"http://www.w3.org/2000/svg\" xmlns:xlink=\"http://www.w3.org/1999/xlink\">\r\n <defs>\r\n  <style type=\"text/css\">\r\n*{stroke-linecap:butt;stroke-linejoin:round;}\r\n  </style>\r\n </defs>\r\n <g id=\"figure_1\">\r\n  <g id=\"patch_1\">\r\n   <path d=\"M 0 343.702344 \r\nL 509.664531 343.702344 \r\nL 509.664531 0 \r\nL 0 0 \r\nz\r\n\" style=\"fill:#ffffff;\"/>\r\n  </g>\r\n  <g id=\"axes_1\">\r\n   <g id=\"patch_2\">\r\n    <path d=\"M 56.064531 306.18 \r\nL 502.464531 306.18 \r\nL 502.464531 7.2 \r\nL 56.064531 7.2 \r\nz\r\n\" style=\"fill:#ffffff;\"/>\r\n   </g>\r\n   <g id=\"matplotlib.axis_1\">\r\n    <g id=\"xtick_1\">\r\n     <g id=\"line2d_1\"/>\r\n     <g id=\"text_1\">\r\n      <!-- Caucasian -->\r\n      <defs>\r\n       <path d=\"M 58.796875 25.09375 \r\nL 68.265625 22.703125 \r\nQ 65.28125 11.03125 57.546875 4.90625 \r\nQ 49.8125 -1.21875 38.625 -1.21875 \r\nQ 27.046875 -1.21875 19.796875 3.484375 \r\nQ 12.546875 8.203125 8.765625 17.140625 \r\nQ 4.984375 26.078125 4.984375 36.328125 \r\nQ 4.984375 47.515625 9.25 55.828125 \r\nQ 13.53125 64.15625 21.40625 68.46875 \r\nQ 29.296875 72.796875 38.765625 72.796875 \r\nQ 49.515625 72.796875 56.828125 67.328125 \r\nQ 64.15625 61.859375 67.046875 51.953125 \r\nL 57.71875 49.75 \r\nQ 55.21875 57.5625 50.484375 61.125 \r\nQ 45.75 64.703125 38.578125 64.703125 \r\nQ 30.328125 64.703125 24.78125 60.734375 \r\nQ 19.234375 56.78125 16.984375 50.109375 \r\nQ 14.75 43.453125 14.75 36.375 \r\nQ 14.75 27.25 17.40625 20.4375 \r\nQ 20.0625 13.625 25.671875 10.25 \r\nQ 31.296875 6.890625 37.84375 6.890625 \r\nQ 45.796875 6.890625 51.3125 11.46875 \r\nQ 56.84375 16.0625 58.796875 25.09375 \r\nz\r\n\" id=\"ArialMT-67\"/>\r\n       <path d=\"M 40.4375 6.390625 \r\nQ 35.546875 2.25 31.03125 0.53125 \r\nQ 26.515625 -1.171875 21.34375 -1.171875 \r\nQ 12.796875 -1.171875 8.203125 3 \r\nQ 3.609375 7.171875 3.609375 13.671875 \r\nQ 3.609375 17.484375 5.34375 20.625 \r\nQ 7.078125 23.78125 9.890625 25.6875 \r\nQ 12.703125 27.59375 16.21875 28.5625 \r\nQ 18.796875 29.25 24.03125 29.890625 \r\nQ 34.671875 31.15625 39.703125 32.90625 \r\nQ 39.75 34.71875 39.75 35.203125 \r\nQ 39.75 40.578125 37.25 42.78125 \r\nQ 33.890625 45.75 27.25 45.75 \r\nQ 21.046875 45.75 18.09375 43.578125 \r\nQ 15.140625 41.40625 13.71875 35.890625 \r\nL 5.125 37.0625 \r\nQ 6.296875 42.578125 8.984375 45.96875 \r\nQ 11.671875 49.359375 16.75 51.1875 \r\nQ 21.828125 53.03125 28.515625 53.03125 \r\nQ 35.15625 53.03125 39.296875 51.46875 \r\nQ 43.453125 49.90625 45.40625 47.53125 \r\nQ 47.359375 45.171875 48.140625 41.546875 \r\nQ 48.578125 39.3125 48.578125 33.453125 \r\nL 48.578125 21.734375 \r\nQ 48.578125 9.46875 49.140625 6.21875 \r\nQ 49.703125 2.984375 51.375 0 \r\nL 42.1875 0 \r\nQ 40.828125 2.734375 40.4375 6.390625 \r\nz\r\nM 39.703125 26.03125 \r\nQ 34.90625 24.078125 25.34375 22.703125 \r\nQ 19.921875 21.921875 17.671875 20.9375 \r\nQ 15.4375 19.96875 14.203125 18.09375 \r\nQ 12.984375 16.21875 12.984375 13.921875 \r\nQ 12.984375 10.40625 15.640625 8.0625 \r\nQ 18.3125 5.71875 23.4375 5.71875 \r\nQ 28.515625 5.71875 32.46875 7.9375 \r\nQ 36.421875 10.15625 38.28125 14.015625 \r\nQ 39.703125 17 39.703125 22.796875 \r\nz\r\n\" id=\"ArialMT-97\"/>\r\n       <path d=\"M 40.578125 0 \r\nL 40.578125 7.625 \r\nQ 34.515625 -1.171875 24.125 -1.171875 \r\nQ 19.53125 -1.171875 15.546875 0.578125 \r\nQ 11.578125 2.34375 9.640625 5 \r\nQ 7.71875 7.671875 6.9375 11.53125 \r\nQ 6.390625 14.109375 6.390625 19.734375 \r\nL 6.390625 51.859375 \r\nL 15.1875 51.859375 \r\nL 15.1875 23.09375 \r\nQ 15.1875 16.21875 15.71875 13.8125 \r\nQ 16.546875 10.359375 19.234375 8.375 \r\nQ 21.921875 6.390625 25.875 6.390625 \r\nQ 29.828125 6.390625 33.296875 8.421875 \r\nQ 36.765625 10.453125 38.203125 13.9375 \r\nQ 39.65625 17.4375 39.65625 24.078125 \r\nL 39.65625 51.859375 \r\nL 48.4375 51.859375 \r\nL 48.4375 0 \r\nz\r\n\" id=\"ArialMT-117\"/>\r\n       <path d=\"M 40.4375 19 \r\nL 49.078125 17.875 \r\nQ 47.65625 8.9375 41.8125 3.875 \r\nQ 35.984375 -1.171875 27.484375 -1.171875 \r\nQ 16.84375 -1.171875 10.375 5.78125 \r\nQ 3.90625 12.75 3.90625 25.734375 \r\nQ 3.90625 34.125 6.6875 40.421875 \r\nQ 9.46875 46.734375 15.15625 49.875 \r\nQ 20.84375 53.03125 27.546875 53.03125 \r\nQ 35.984375 53.03125 41.359375 48.75 \r\nQ 46.734375 44.484375 48.25 36.625 \r\nL 39.703125 35.296875 \r\nQ 38.484375 40.53125 35.375 43.15625 \r\nQ 32.28125 45.796875 27.875 45.796875 \r\nQ 21.234375 45.796875 17.078125 41.03125 \r\nQ 12.9375 36.28125 12.9375 25.984375 \r\nQ 12.9375 15.53125 16.9375 10.796875 \r\nQ 20.953125 6.0625 27.390625 6.0625 \r\nQ 32.5625 6.0625 36.03125 9.234375 \r\nQ 39.5 12.40625 40.4375 19 \r\nz\r\n\" id=\"ArialMT-99\"/>\r\n       <path d=\"M 3.078125 15.484375 \r\nL 11.765625 16.84375 \r\nQ 12.5 11.625 15.84375 8.84375 \r\nQ 19.1875 6.0625 25.203125 6.0625 \r\nQ 31.25 6.0625 34.171875 8.515625 \r\nQ 37.109375 10.984375 37.109375 14.3125 \r\nQ 37.109375 17.28125 34.515625 19 \r\nQ 32.71875 20.171875 25.53125 21.96875 \r\nQ 15.875 24.421875 12.140625 26.203125 \r\nQ 8.40625 27.984375 6.46875 31.125 \r\nQ 4.546875 34.28125 4.546875 38.09375 \r\nQ 4.546875 41.546875 6.125 44.5 \r\nQ 7.71875 47.46875 10.453125 49.421875 \r\nQ 12.5 50.921875 16.03125 51.96875 \r\nQ 19.578125 53.03125 23.640625 53.03125 \r\nQ 29.734375 53.03125 34.34375 51.265625 \r\nQ 38.96875 49.515625 41.15625 46.5 \r\nQ 43.359375 43.5 44.1875 38.484375 \r\nL 35.59375 37.3125 \r\nQ 35.015625 41.3125 32.203125 43.546875 \r\nQ 29.390625 45.796875 24.265625 45.796875 \r\nQ 18.21875 45.796875 15.625 43.796875 \r\nQ 13.03125 41.796875 13.03125 39.109375 \r\nQ 13.03125 37.40625 14.109375 36.03125 \r\nQ 15.1875 34.625 17.484375 33.6875 \r\nQ 18.796875 33.203125 25.25 31.453125 \r\nQ 34.578125 28.953125 38.25 27.359375 \r\nQ 41.9375 25.78125 44.03125 22.75 \r\nQ 46.140625 19.734375 46.140625 15.234375 \r\nQ 46.140625 10.84375 43.578125 6.953125 \r\nQ 41.015625 3.078125 36.171875 0.953125 \r\nQ 31.34375 -1.171875 25.25 -1.171875 \r\nQ 15.140625 -1.171875 9.84375 3.03125 \r\nQ 4.546875 7.234375 3.078125 15.484375 \r\nz\r\n\" id=\"ArialMT-115\"/>\r\n       <path d=\"M 6.640625 61.46875 \r\nL 6.640625 71.578125 \r\nL 15.4375 71.578125 \r\nL 15.4375 61.46875 \r\nz\r\nM 6.640625 0 \r\nL 6.640625 51.859375 \r\nL 15.4375 51.859375 \r\nL 15.4375 0 \r\nz\r\n\" id=\"ArialMT-105\"/>\r\n       <path d=\"M 6.59375 0 \r\nL 6.59375 51.859375 \r\nL 14.5 51.859375 \r\nL 14.5 44.484375 \r\nQ 20.21875 53.03125 31 53.03125 \r\nQ 35.6875 53.03125 39.625 51.34375 \r\nQ 43.5625 49.65625 45.515625 46.921875 \r\nQ 47.46875 44.1875 48.25 40.4375 \r\nQ 48.734375 37.984375 48.734375 31.890625 \r\nL 48.734375 0 \r\nL 39.9375 0 \r\nL 39.9375 31.546875 \r\nQ 39.9375 36.921875 38.90625 39.578125 \r\nQ 37.890625 42.234375 35.28125 43.8125 \r\nQ 32.671875 45.40625 29.15625 45.40625 \r\nQ 23.53125 45.40625 19.453125 41.84375 \r\nQ 15.375 38.28125 15.375 28.328125 \r\nL 15.375 0 \r\nz\r\n\" id=\"ArialMT-110\"/>\r\n      </defs>\r\n      <g style=\"fill:#262626;\" transform=\"translate(69.640313 320.337812)scale(0.1 -0.1)\">\r\n       <use xlink:href=\"#ArialMT-67\"/>\r\n       <use x=\"72.216797\" xlink:href=\"#ArialMT-97\"/>\r\n       <use x=\"127.832031\" xlink:href=\"#ArialMT-117\"/>\r\n       <use x=\"183.447266\" xlink:href=\"#ArialMT-99\"/>\r\n       <use x=\"233.447266\" xlink:href=\"#ArialMT-97\"/>\r\n       <use x=\"289.0625\" xlink:href=\"#ArialMT-115\"/>\r\n       <use x=\"339.0625\" xlink:href=\"#ArialMT-105\"/>\r\n       <use x=\"361.279297\" xlink:href=\"#ArialMT-97\"/>\r\n       <use x=\"416.894531\" xlink:href=\"#ArialMT-110\"/>\r\n      </g>\r\n     </g>\r\n    </g>\r\n    <g id=\"xtick_2\">\r\n     <g id=\"line2d_2\"/>\r\n     <g id=\"text_2\">\r\n      <!-- AfricanAmerican -->\r\n      <defs>\r\n       <path d=\"M -0.140625 0 \r\nL 27.34375 71.578125 \r\nL 37.546875 71.578125 \r\nL 66.84375 0 \r\nL 56.0625 0 \r\nL 47.703125 21.6875 \r\nL 17.78125 21.6875 \r\nL 9.90625 0 \r\nz\r\nM 20.515625 29.390625 \r\nL 44.78125 29.390625 \r\nL 37.3125 49.21875 \r\nQ 33.890625 58.25 32.234375 64.0625 \r\nQ 30.859375 57.171875 28.375 50.390625 \r\nz\r\n\" id=\"ArialMT-65\"/>\r\n       <path d=\"M 8.6875 0 \r\nL 8.6875 45.015625 \r\nL 0.921875 45.015625 \r\nL 0.921875 51.859375 \r\nL 8.6875 51.859375 \r\nL 8.6875 57.375 \r\nQ 8.6875 62.59375 9.625 65.140625 \r\nQ 10.890625 68.5625 14.078125 70.671875 \r\nQ 17.28125 72.796875 23.046875 72.796875 \r\nQ 26.765625 72.796875 31.25 71.921875 \r\nL 29.9375 64.265625 \r\nQ 27.203125 64.75 24.75 64.75 \r\nQ 20.75 64.75 19.09375 63.03125 \r\nQ 17.4375 61.328125 17.4375 56.640625 \r\nL 17.4375 51.859375 \r\nL 27.546875 51.859375 \r\nL 27.546875 45.015625 \r\nL 17.4375 45.015625 \r\nL 17.4375 0 \r\nz\r\n\" id=\"ArialMT-102\"/>\r\n       <path d=\"M 6.5 0 \r\nL 6.5 51.859375 \r\nL 14.40625 51.859375 \r\nL 14.40625 44 \r\nQ 17.4375 49.515625 20 51.265625 \r\nQ 22.5625 53.03125 25.640625 53.03125 \r\nQ 30.078125 53.03125 34.671875 50.203125 \r\nL 31.640625 42.046875 \r\nQ 28.421875 43.953125 25.203125 43.953125 \r\nQ 22.3125 43.953125 20.015625 42.21875 \r\nQ 17.71875 40.484375 16.75 37.40625 \r\nQ 15.28125 32.71875 15.28125 27.15625 \r\nL 15.28125 0 \r\nz\r\n\" id=\"ArialMT-114\"/>\r\n       <path d=\"M 6.59375 0 \r\nL 6.59375 51.859375 \r\nL 14.453125 51.859375 \r\nL 14.453125 44.578125 \r\nQ 16.890625 48.390625 20.9375 50.703125 \r\nQ 25 53.03125 30.171875 53.03125 \r\nQ 35.9375 53.03125 39.625 50.640625 \r\nQ 43.3125 48.25 44.828125 43.953125 \r\nQ 50.984375 53.03125 60.84375 53.03125 \r\nQ 68.5625 53.03125 72.703125 48.75 \r\nQ 76.859375 44.484375 76.859375 35.59375 \r\nL 76.859375 0 \r\nL 68.109375 0 \r\nL 68.109375 32.671875 \r\nQ 68.109375 37.9375 67.25 40.25 \r\nQ 66.40625 42.578125 64.15625 43.984375 \r\nQ 61.921875 45.40625 58.890625 45.40625 \r\nQ 53.421875 45.40625 49.796875 41.765625 \r\nQ 46.1875 38.140625 46.1875 30.125 \r\nL 46.1875 0 \r\nL 37.40625 0 \r\nL 37.40625 33.6875 \r\nQ 37.40625 39.546875 35.25 42.46875 \r\nQ 33.109375 45.40625 28.21875 45.40625 \r\nQ 24.515625 45.40625 21.359375 43.453125 \r\nQ 18.21875 41.5 16.796875 37.734375 \r\nQ 15.375 33.984375 15.375 26.90625 \r\nL 15.375 0 \r\nz\r\n\" id=\"ArialMT-109\"/>\r\n       <path d=\"M 42.09375 16.703125 \r\nL 51.171875 15.578125 \r\nQ 49.03125 7.625 43.21875 3.21875 \r\nQ 37.40625 -1.171875 28.375 -1.171875 \r\nQ 17 -1.171875 10.328125 5.828125 \r\nQ 3.65625 12.84375 3.65625 25.484375 \r\nQ 3.65625 38.578125 10.390625 45.796875 \r\nQ 17.140625 53.03125 27.875 53.03125 \r\nQ 38.28125 53.03125 44.875 45.953125 \r\nQ 51.46875 38.875 51.46875 26.03125 \r\nQ 51.46875 25.25 51.421875 23.6875 \r\nL 12.75 23.6875 \r\nQ 13.234375 15.140625 17.578125 10.59375 \r\nQ 21.921875 6.0625 28.421875 6.0625 \r\nQ 33.25 6.0625 36.671875 8.59375 \r\nQ 40.09375 11.140625 42.09375 16.703125 \r\nz\r\nM 13.234375 30.90625 \r\nL 42.1875 30.90625 \r\nQ 41.609375 37.453125 38.875 40.71875 \r\nQ 34.671875 45.796875 27.984375 45.796875 \r\nQ 21.921875 45.796875 17.796875 41.75 \r\nQ 13.671875 37.703125 13.234375 30.90625 \r\nz\r\n\" id=\"ArialMT-101\"/>\r\n      </defs>\r\n      <g style=\"fill:#262626;\" transform=\"translate(130.986406 320.337812)scale(0.1 -0.1)\">\r\n       <use xlink:href=\"#ArialMT-65\"/>\r\n       <use x=\"66.699219\" xlink:href=\"#ArialMT-102\"/>\r\n       <use x=\"94.482422\" xlink:href=\"#ArialMT-114\"/>\r\n       <use x=\"127.783203\" xlink:href=\"#ArialMT-105\"/>\r\n       <use x=\"150\" xlink:href=\"#ArialMT-99\"/>\r\n       <use x=\"200\" xlink:href=\"#ArialMT-97\"/>\r\n       <use x=\"255.615234\" xlink:href=\"#ArialMT-110\"/>\r\n       <use x=\"311.230469\" xlink:href=\"#ArialMT-65\"/>\r\n       <use x=\"377.929688\" xlink:href=\"#ArialMT-109\"/>\r\n       <use x=\"461.230469\" xlink:href=\"#ArialMT-101\"/>\r\n       <use x=\"516.845703\" xlink:href=\"#ArialMT-114\"/>\r\n       <use x=\"550.146484\" xlink:href=\"#ArialMT-105\"/>\r\n       <use x=\"572.363281\" xlink:href=\"#ArialMT-99\"/>\r\n       <use x=\"622.363281\" xlink:href=\"#ArialMT-97\"/>\r\n       <use x=\"677.978516\" xlink:href=\"#ArialMT-110\"/>\r\n      </g>\r\n     </g>\r\n    </g>\r\n    <g id=\"xtick_3\">\r\n     <g id=\"line2d_3\"/>\r\n     <g id=\"text_3\">\r\n      <!-- Missing -->\r\n      <defs>\r\n       <path d=\"M 7.421875 0 \r\nL 7.421875 71.578125 \r\nL 21.6875 71.578125 \r\nL 38.625 20.90625 \r\nQ 40.96875 13.8125 42.046875 10.296875 \r\nQ 43.265625 14.203125 45.84375 21.78125 \r\nL 62.984375 71.578125 \r\nL 75.734375 71.578125 \r\nL 75.734375 0 \r\nL 66.609375 0 \r\nL 66.609375 59.90625 \r\nL 45.796875 0 \r\nL 37.25 0 \r\nL 16.546875 60.9375 \r\nL 16.546875 0 \r\nz\r\n\" id=\"ArialMT-77\"/>\r\n       <path d=\"M 4.984375 -4.296875 \r\nL 13.53125 -5.5625 \r\nQ 14.0625 -9.515625 16.5 -11.328125 \r\nQ 19.78125 -13.765625 25.4375 -13.765625 \r\nQ 31.546875 -13.765625 34.859375 -11.328125 \r\nQ 38.1875 -8.890625 39.359375 -4.5 \r\nQ 40.046875 -1.8125 39.984375 6.78125 \r\nQ 34.234375 0 25.640625 0 \r\nQ 14.9375 0 9.078125 7.71875 \r\nQ 3.21875 15.4375 3.21875 26.21875 \r\nQ 3.21875 33.640625 5.90625 39.90625 \r\nQ 8.59375 46.1875 13.6875 49.609375 \r\nQ 18.796875 53.03125 25.6875 53.03125 \r\nQ 34.859375 53.03125 40.828125 45.609375 \r\nL 40.828125 51.859375 \r\nL 48.921875 51.859375 \r\nL 48.921875 7.03125 \r\nQ 48.921875 -5.078125 46.453125 -10.125 \r\nQ 44 -15.1875 38.640625 -18.109375 \r\nQ 33.296875 -21.046875 25.484375 -21.046875 \r\nQ 16.21875 -21.046875 10.5 -16.875 \r\nQ 4.78125 -12.703125 4.984375 -4.296875 \r\nz\r\nM 12.25 26.859375 \r\nQ 12.25 16.65625 16.296875 11.96875 \r\nQ 20.359375 7.28125 26.46875 7.28125 \r\nQ 32.515625 7.28125 36.609375 11.9375 \r\nQ 40.71875 16.609375 40.71875 26.5625 \r\nQ 40.71875 36.078125 36.5 40.90625 \r\nQ 32.28125 45.75 26.3125 45.75 \r\nQ 20.453125 45.75 16.34375 40.984375 \r\nQ 12.25 36.234375 12.25 26.859375 \r\nz\r\n\" id=\"ArialMT-103\"/>\r\n      </defs>\r\n      <g style=\"fill:#262626;\" transform=\"translate(225.116875 320.337812)scale(0.1 -0.1)\">\r\n       <use xlink:href=\"#ArialMT-77\"/>\r\n       <use x=\"83.300781\" xlink:href=\"#ArialMT-105\"/>\r\n       <use x=\"105.517578\" xlink:href=\"#ArialMT-115\"/>\r\n       <use x=\"155.517578\" xlink:href=\"#ArialMT-115\"/>\r\n       <use x=\"205.517578\" xlink:href=\"#ArialMT-105\"/>\r\n       <use x=\"227.734375\" xlink:href=\"#ArialMT-110\"/>\r\n       <use x=\"283.349609\" xlink:href=\"#ArialMT-103\"/>\r\n      </g>\r\n     </g>\r\n    </g>\r\n    <g id=\"xtick_4\">\r\n     <g id=\"line2d_4\"/>\r\n     <g id=\"text_4\">\r\n      <!-- Other -->\r\n      <defs>\r\n       <path d=\"M 4.828125 34.859375 \r\nQ 4.828125 52.6875 14.390625 62.765625 \r\nQ 23.96875 72.859375 39.109375 72.859375 \r\nQ 49.03125 72.859375 56.984375 68.109375 \r\nQ 64.9375 63.375 69.109375 54.90625 \r\nQ 73.296875 46.4375 73.296875 35.6875 \r\nQ 73.296875 24.8125 68.890625 16.21875 \r\nQ 64.5 7.625 56.4375 3.203125 \r\nQ 48.390625 -1.21875 39.0625 -1.21875 \r\nQ 28.953125 -1.21875 20.984375 3.65625 \r\nQ 13.03125 8.546875 8.921875 16.984375 \r\nQ 4.828125 25.4375 4.828125 34.859375 \r\nz\r\nM 14.59375 34.71875 \r\nQ 14.59375 21.78125 21.546875 14.328125 \r\nQ 28.515625 6.890625 39.015625 6.890625 \r\nQ 49.703125 6.890625 56.609375 14.40625 \r\nQ 63.53125 21.921875 63.53125 35.75 \r\nQ 63.53125 44.484375 60.578125 51 \r\nQ 57.625 57.515625 51.921875 61.109375 \r\nQ 46.234375 64.703125 39.15625 64.703125 \r\nQ 29.109375 64.703125 21.84375 57.78125 \r\nQ 14.59375 50.875 14.59375 34.71875 \r\nz\r\n\" id=\"ArialMT-79\"/>\r\n       <path d=\"M 25.78125 7.859375 \r\nL 27.046875 0.09375 \r\nQ 23.34375 -0.6875 20.40625 -0.6875 \r\nQ 15.625 -0.6875 12.984375 0.828125 \r\nQ 10.359375 2.34375 9.28125 4.8125 \r\nQ 8.203125 7.28125 8.203125 15.1875 \r\nL 8.203125 45.015625 \r\nL 1.765625 45.015625 \r\nL 1.765625 51.859375 \r\nL 8.203125 51.859375 \r\nL 8.203125 64.703125 \r\nL 16.9375 69.96875 \r\nL 16.9375 51.859375 \r\nL 25.78125 51.859375 \r\nL 25.78125 45.015625 \r\nL 16.9375 45.015625 \r\nL 16.9375 14.703125 \r\nQ 16.9375 10.9375 17.40625 9.859375 \r\nQ 17.875 8.796875 18.921875 8.15625 \r\nQ 19.96875 7.515625 21.921875 7.515625 \r\nQ 23.390625 7.515625 25.78125 7.859375 \r\nz\r\n\" id=\"ArialMT-116\"/>\r\n       <path d=\"M 6.59375 0 \r\nL 6.59375 71.578125 \r\nL 15.375 71.578125 \r\nL 15.375 45.90625 \r\nQ 21.53125 53.03125 30.90625 53.03125 \r\nQ 36.671875 53.03125 40.921875 50.75 \r\nQ 45.171875 48.484375 47 44.484375 \r\nQ 48.828125 40.484375 48.828125 32.859375 \r\nL 48.828125 0 \r\nL 40.046875 0 \r\nL 40.046875 32.859375 \r\nQ 40.046875 39.453125 37.1875 42.453125 \r\nQ 34.328125 45.453125 29.109375 45.453125 \r\nQ 25.203125 45.453125 21.75 43.421875 \r\nQ 18.3125 41.40625 16.84375 37.9375 \r\nQ 15.375 34.46875 15.375 28.375 \r\nL 15.375 0 \r\nz\r\n\" id=\"ArialMT-104\"/>\r\n      </defs>\r\n      <g style=\"fill:#262626;\" transform=\"translate(303.960625 320.337812)scale(0.1 -0.1)\">\r\n       <use xlink:href=\"#ArialMT-79\"/>\r\n       <use x=\"77.783203\" xlink:href=\"#ArialMT-116\"/>\r\n       <use x=\"105.566406\" xlink:href=\"#ArialMT-104\"/>\r\n       <use x=\"161.181641\" xlink:href=\"#ArialMT-101\"/>\r\n       <use x=\"216.796875\" xlink:href=\"#ArialMT-114\"/>\r\n      </g>\r\n     </g>\r\n    </g>\r\n    <g id=\"xtick_5\">\r\n     <g id=\"line2d_5\"/>\r\n     <g id=\"text_5\">\r\n      <!-- Asian -->\r\n      <g style=\"fill:#262626;\" transform=\"translate(378.3575 320.337812)scale(0.1 -0.1)\">\r\n       <use xlink:href=\"#ArialMT-65\"/>\r\n       <use x=\"66.699219\" xlink:href=\"#ArialMT-115\"/>\r\n       <use x=\"116.699219\" xlink:href=\"#ArialMT-105\"/>\r\n       <use x=\"138.916016\" xlink:href=\"#ArialMT-97\"/>\r\n       <use x=\"194.53125\" xlink:href=\"#ArialMT-110\"/>\r\n      </g>\r\n     </g>\r\n    </g>\r\n    <g id=\"xtick_6\">\r\n     <g id=\"line2d_6\"/>\r\n     <g id=\"text_6\">\r\n      <!-- Hispanic -->\r\n      <defs>\r\n       <path d=\"M 8.015625 0 \r\nL 8.015625 71.578125 \r\nL 17.484375 71.578125 \r\nL 17.484375 42.1875 \r\nL 54.6875 42.1875 \r\nL 54.6875 71.578125 \r\nL 64.15625 71.578125 \r\nL 64.15625 0 \r\nL 54.6875 0 \r\nL 54.6875 33.734375 \r\nL 17.484375 33.734375 \r\nL 17.484375 0 \r\nz\r\n\" id=\"ArialMT-72\"/>\r\n       <path d=\"M 6.59375 -19.875 \r\nL 6.59375 51.859375 \r\nL 14.59375 51.859375 \r\nL 14.59375 45.125 \r\nQ 17.4375 49.078125 21 51.046875 \r\nQ 24.5625 53.03125 29.640625 53.03125 \r\nQ 36.28125 53.03125 41.359375 49.609375 \r\nQ 46.4375 46.1875 49.015625 39.953125 \r\nQ 51.609375 33.734375 51.609375 26.3125 \r\nQ 51.609375 18.359375 48.75 11.984375 \r\nQ 45.90625 5.609375 40.453125 2.21875 \r\nQ 35.015625 -1.171875 29 -1.171875 \r\nQ 24.609375 -1.171875 21.109375 0.6875 \r\nQ 17.625 2.546875 15.375 5.375 \r\nL 15.375 -19.875 \r\nz\r\nM 14.546875 25.640625 \r\nQ 14.546875 15.625 18.59375 10.84375 \r\nQ 22.65625 6.0625 28.421875 6.0625 \r\nQ 34.28125 6.0625 38.453125 11.015625 \r\nQ 42.625 15.96875 42.625 26.375 \r\nQ 42.625 36.28125 38.546875 41.203125 \r\nQ 34.46875 46.140625 28.8125 46.140625 \r\nQ 23.1875 46.140625 18.859375 40.890625 \r\nQ 14.546875 35.640625 14.546875 25.640625 \r\nz\r\n\" id=\"ArialMT-112\"/>\r\n      </defs>\r\n      <g style=\"fill:#262626;\" transform=\"translate(446.090312 320.337812)scale(0.1 -0.1)\">\r\n       <use xlink:href=\"#ArialMT-72\"/>\r\n       <use x=\"72.216797\" xlink:href=\"#ArialMT-105\"/>\r\n       <use x=\"94.433594\" xlink:href=\"#ArialMT-115\"/>\r\n       <use x=\"144.433594\" xlink:href=\"#ArialMT-112\"/>\r\n       <use x=\"200.048828\" xlink:href=\"#ArialMT-97\"/>\r\n       <use x=\"255.664062\" xlink:href=\"#ArialMT-110\"/>\r\n       <use x=\"311.279297\" xlink:href=\"#ArialMT-105\"/>\r\n       <use x=\"333.496094\" xlink:href=\"#ArialMT-99\"/>\r\n      </g>\r\n     </g>\r\n    </g>\r\n    <g id=\"text_7\">\r\n     <!-- race -->\r\n     <g style=\"fill:#262626;\" transform=\"translate(268.566172 334.316094)scale(0.11 -0.11)\">\r\n      <use xlink:href=\"#ArialMT-114\"/>\r\n      <use x=\"33.300781\" xlink:href=\"#ArialMT-97\"/>\r\n      <use x=\"88.916016\" xlink:href=\"#ArialMT-99\"/>\r\n      <use x=\"138.916016\" xlink:href=\"#ArialMT-101\"/>\r\n     </g>\r\n    </g>\r\n   </g>\r\n   <g id=\"matplotlib.axis_2\">\r\n    <g id=\"ytick_1\">\r\n     <g id=\"line2d_7\">\r\n      <path clip-path=\"url(#p9b22a9d161)\" d=\"M 56.064531 306.18 \r\nL 502.464531 306.18 \r\n\" style=\"fill:none;stroke:#cccccc;stroke-linecap:round;\"/>\r\n     </g>\r\n     <g id=\"line2d_8\"/>\r\n     <g id=\"text_8\">\r\n      <!-- 0 -->\r\n      <defs>\r\n       <path d=\"M 4.15625 35.296875 \r\nQ 4.15625 48 6.765625 55.734375 \r\nQ 9.375 63.484375 14.515625 67.671875 \r\nQ 19.671875 71.875 27.484375 71.875 \r\nQ 33.25 71.875 37.59375 69.546875 \r\nQ 41.9375 67.234375 44.765625 62.859375 \r\nQ 47.609375 58.5 49.21875 52.21875 \r\nQ 50.828125 45.953125 50.828125 35.296875 \r\nQ 50.828125 22.703125 48.234375 14.96875 \r\nQ 45.65625 7.234375 40.5 3 \r\nQ 35.359375 -1.21875 27.484375 -1.21875 \r\nQ 17.140625 -1.21875 11.234375 6.203125 \r\nQ 4.15625 15.140625 4.15625 35.296875 \r\nz\r\nM 13.1875 35.296875 \r\nQ 13.1875 17.671875 17.3125 11.828125 \r\nQ 21.4375 6 27.484375 6 \r\nQ 33.546875 6 37.671875 11.859375 \r\nQ 41.796875 17.71875 41.796875 35.296875 \r\nQ 41.796875 52.984375 37.671875 58.78125 \r\nQ 33.546875 64.59375 27.390625 64.59375 \r\nQ 21.34375 64.59375 17.71875 59.46875 \r\nQ 13.1875 52.9375 13.1875 35.296875 \r\nz\r\n\" id=\"ArialMT-48\"/>\r\n      </defs>\r\n      <g style=\"fill:#262626;\" transform=\"translate(43.503594 309.758906)scale(0.1 -0.1)\">\r\n       <use xlink:href=\"#ArialMT-48\"/>\r\n      </g>\r\n     </g>\r\n    </g>\r\n    <g id=\"ytick_2\">\r\n     <g id=\"line2d_9\">\r\n      <path clip-path=\"url(#p9b22a9d161)\" d=\"M 56.064531 251.741064 \r\nL 502.464531 251.741064 \r\n\" style=\"fill:none;stroke:#cccccc;stroke-linecap:round;\"/>\r\n     </g>\r\n     <g id=\"line2d_10\"/>\r\n     <g id=\"text_9\">\r\n      <!-- 10000 -->\r\n      <defs>\r\n       <path d=\"M 37.25 0 \r\nL 28.46875 0 \r\nL 28.46875 56 \r\nQ 25.296875 52.984375 20.140625 49.953125 \r\nQ 14.984375 46.921875 10.890625 45.40625 \r\nL 10.890625 53.90625 \r\nQ 18.265625 57.375 23.78125 62.296875 \r\nQ 29.296875 67.234375 31.59375 71.875 \r\nL 37.25 71.875 \r\nz\r\n\" id=\"ArialMT-49\"/>\r\n      </defs>\r\n      <g style=\"fill:#262626;\" transform=\"translate(21.259844 255.31997)scale(0.1 -0.1)\">\r\n       <use xlink:href=\"#ArialMT-49\"/>\r\n       <use x=\"55.615234\" xlink:href=\"#ArialMT-48\"/>\r\n       <use x=\"111.230469\" xlink:href=\"#ArialMT-48\"/>\r\n       <use x=\"166.845703\" xlink:href=\"#ArialMT-48\"/>\r\n       <use x=\"222.460938\" xlink:href=\"#ArialMT-48\"/>\r\n      </g>\r\n     </g>\r\n    </g>\r\n    <g id=\"ytick_3\">\r\n     <g id=\"line2d_11\">\r\n      <path clip-path=\"url(#p9b22a9d161)\" d=\"M 56.064531 197.302127 \r\nL 502.464531 197.302127 \r\n\" style=\"fill:none;stroke:#cccccc;stroke-linecap:round;\"/>\r\n     </g>\r\n     <g id=\"line2d_12\"/>\r\n     <g id=\"text_10\">\r\n      <!-- 20000 -->\r\n      <defs>\r\n       <path d=\"M 50.34375 8.453125 \r\nL 50.34375 0 \r\nL 3.03125 0 \r\nQ 2.9375 3.171875 4.046875 6.109375 \r\nQ 5.859375 10.9375 9.828125 15.625 \r\nQ 13.8125 20.3125 21.34375 26.46875 \r\nQ 33.015625 36.03125 37.109375 41.625 \r\nQ 41.21875 47.21875 41.21875 52.203125 \r\nQ 41.21875 57.421875 37.46875 61 \r\nQ 33.734375 64.59375 27.734375 64.59375 \r\nQ 21.390625 64.59375 17.578125 60.78125 \r\nQ 13.765625 56.984375 13.71875 50.25 \r\nL 4.6875 51.171875 \r\nQ 5.609375 61.28125 11.65625 66.578125 \r\nQ 17.71875 71.875 27.9375 71.875 \r\nQ 38.234375 71.875 44.234375 66.15625 \r\nQ 50.25 60.453125 50.25 52 \r\nQ 50.25 47.703125 48.484375 43.546875 \r\nQ 46.734375 39.40625 42.65625 34.8125 \r\nQ 38.578125 30.21875 29.109375 22.21875 \r\nQ 21.1875 15.578125 18.9375 13.203125 \r\nQ 16.703125 10.84375 15.234375 8.453125 \r\nz\r\n\" id=\"ArialMT-50\"/>\r\n      </defs>\r\n      <g style=\"fill:#262626;\" transform=\"translate(21.259844 200.881033)scale(0.1 -0.1)\">\r\n       <use xlink:href=\"#ArialMT-50\"/>\r\n       <use x=\"55.615234\" xlink:href=\"#ArialMT-48\"/>\r\n       <use x=\"111.230469\" xlink:href=\"#ArialMT-48\"/>\r\n       <use x=\"166.845703\" xlink:href=\"#ArialMT-48\"/>\r\n       <use x=\"222.460938\" xlink:href=\"#ArialMT-48\"/>\r\n      </g>\r\n     </g>\r\n    </g>\r\n    <g id=\"ytick_4\">\r\n     <g id=\"line2d_13\">\r\n      <path clip-path=\"url(#p9b22a9d161)\" d=\"M 56.064531 142.863191 \r\nL 502.464531 142.863191 \r\n\" style=\"fill:none;stroke:#cccccc;stroke-linecap:round;\"/>\r\n     </g>\r\n     <g id=\"line2d_14\"/>\r\n     <g id=\"text_11\">\r\n      <!-- 30000 -->\r\n      <defs>\r\n       <path d=\"M 4.203125 18.890625 \r\nL 12.984375 20.0625 \r\nQ 14.5 12.59375 18.140625 9.296875 \r\nQ 21.78125 6 27 6 \r\nQ 33.203125 6 37.46875 10.296875 \r\nQ 41.75 14.59375 41.75 20.953125 \r\nQ 41.75 27 37.796875 30.921875 \r\nQ 33.84375 34.859375 27.734375 34.859375 \r\nQ 25.25 34.859375 21.53125 33.890625 \r\nL 22.515625 41.609375 \r\nQ 23.390625 41.5 23.921875 41.5 \r\nQ 29.546875 41.5 34.03125 44.421875 \r\nQ 38.53125 47.359375 38.53125 53.46875 \r\nQ 38.53125 58.296875 35.25 61.46875 \r\nQ 31.984375 64.65625 26.8125 64.65625 \r\nQ 21.6875 64.65625 18.265625 61.421875 \r\nQ 14.84375 58.203125 13.875 51.765625 \r\nL 5.078125 53.328125 \r\nQ 6.6875 62.15625 12.390625 67.015625 \r\nQ 18.109375 71.875 26.609375 71.875 \r\nQ 32.46875 71.875 37.390625 69.359375 \r\nQ 42.328125 66.84375 44.9375 62.5 \r\nQ 47.5625 58.15625 47.5625 53.265625 \r\nQ 47.5625 48.640625 45.0625 44.828125 \r\nQ 42.578125 41.015625 37.703125 38.765625 \r\nQ 44.046875 37.3125 47.5625 32.6875 \r\nQ 51.078125 28.078125 51.078125 21.140625 \r\nQ 51.078125 11.765625 44.234375 5.25 \r\nQ 37.40625 -1.265625 26.953125 -1.265625 \r\nQ 17.53125 -1.265625 11.296875 4.34375 \r\nQ 5.078125 9.96875 4.203125 18.890625 \r\nz\r\n\" id=\"ArialMT-51\"/>\r\n      </defs>\r\n      <g style=\"fill:#262626;\" transform=\"translate(21.259844 146.442097)scale(0.1 -0.1)\">\r\n       <use xlink:href=\"#ArialMT-51\"/>\r\n       <use x=\"55.615234\" xlink:href=\"#ArialMT-48\"/>\r\n       <use x=\"111.230469\" xlink:href=\"#ArialMT-48\"/>\r\n       <use x=\"166.845703\" xlink:href=\"#ArialMT-48\"/>\r\n       <use x=\"222.460938\" xlink:href=\"#ArialMT-48\"/>\r\n      </g>\r\n     </g>\r\n    </g>\r\n    <g id=\"ytick_5\">\r\n     <g id=\"line2d_15\">\r\n      <path clip-path=\"url(#p9b22a9d161)\" d=\"M 56.064531 88.424254 \r\nL 502.464531 88.424254 \r\n\" style=\"fill:none;stroke:#cccccc;stroke-linecap:round;\"/>\r\n     </g>\r\n     <g id=\"line2d_16\"/>\r\n     <g id=\"text_12\">\r\n      <!-- 40000 -->\r\n      <defs>\r\n       <path d=\"M 32.328125 0 \r\nL 32.328125 17.140625 \r\nL 1.265625 17.140625 \r\nL 1.265625 25.203125 \r\nL 33.9375 71.578125 \r\nL 41.109375 71.578125 \r\nL 41.109375 25.203125 \r\nL 50.78125 25.203125 \r\nL 50.78125 17.140625 \r\nL 41.109375 17.140625 \r\nL 41.109375 0 \r\nz\r\nM 32.328125 25.203125 \r\nL 32.328125 57.46875 \r\nL 9.90625 25.203125 \r\nz\r\n\" id=\"ArialMT-52\"/>\r\n      </defs>\r\n      <g style=\"fill:#262626;\" transform=\"translate(21.259844 92.00316)scale(0.1 -0.1)\">\r\n       <use xlink:href=\"#ArialMT-52\"/>\r\n       <use x=\"55.615234\" xlink:href=\"#ArialMT-48\"/>\r\n       <use x=\"111.230469\" xlink:href=\"#ArialMT-48\"/>\r\n       <use x=\"166.845703\" xlink:href=\"#ArialMT-48\"/>\r\n       <use x=\"222.460938\" xlink:href=\"#ArialMT-48\"/>\r\n      </g>\r\n     </g>\r\n    </g>\r\n    <g id=\"ytick_6\">\r\n     <g id=\"line2d_17\">\r\n      <path clip-path=\"url(#p9b22a9d161)\" d=\"M 56.064531 33.985318 \r\nL 502.464531 33.985318 \r\n\" style=\"fill:none;stroke:#cccccc;stroke-linecap:round;\"/>\r\n     </g>\r\n     <g id=\"line2d_18\"/>\r\n     <g id=\"text_13\">\r\n      <!-- 50000 -->\r\n      <defs>\r\n       <path d=\"M 4.15625 18.75 \r\nL 13.375 19.53125 \r\nQ 14.40625 12.796875 18.140625 9.390625 \r\nQ 21.875 6 27.15625 6 \r\nQ 33.5 6 37.890625 10.78125 \r\nQ 42.28125 15.578125 42.28125 23.484375 \r\nQ 42.28125 31 38.0625 35.34375 \r\nQ 33.84375 39.703125 27 39.703125 \r\nQ 22.75 39.703125 19.328125 37.765625 \r\nQ 15.921875 35.84375 13.96875 32.765625 \r\nL 5.71875 33.84375 \r\nL 12.640625 70.609375 \r\nL 48.25 70.609375 \r\nL 48.25 62.203125 \r\nL 19.671875 62.203125 \r\nL 15.828125 42.96875 \r\nQ 22.265625 47.46875 29.34375 47.46875 \r\nQ 38.71875 47.46875 45.15625 40.96875 \r\nQ 51.609375 34.46875 51.609375 24.265625 \r\nQ 51.609375 14.546875 45.953125 7.46875 \r\nQ 39.0625 -1.21875 27.15625 -1.21875 \r\nQ 17.390625 -1.21875 11.203125 4.25 \r\nQ 5.03125 9.71875 4.15625 18.75 \r\nz\r\n\" id=\"ArialMT-53\"/>\r\n      </defs>\r\n      <g style=\"fill:#262626;\" transform=\"translate(21.259844 37.564224)scale(0.1 -0.1)\">\r\n       <use xlink:href=\"#ArialMT-53\"/>\r\n       <use x=\"55.615234\" xlink:href=\"#ArialMT-48\"/>\r\n       <use x=\"111.230469\" xlink:href=\"#ArialMT-48\"/>\r\n       <use x=\"166.845703\" xlink:href=\"#ArialMT-48\"/>\r\n       <use x=\"222.460938\" xlink:href=\"#ArialMT-48\"/>\r\n      </g>\r\n     </g>\r\n    </g>\r\n    <g id=\"text_14\">\r\n     <!-- count -->\r\n     <defs>\r\n      <path d=\"M 3.328125 25.921875 \r\nQ 3.328125 40.328125 11.328125 47.265625 \r\nQ 18.015625 53.03125 27.640625 53.03125 \r\nQ 38.328125 53.03125 45.109375 46.015625 \r\nQ 51.90625 39.015625 51.90625 26.65625 \r\nQ 51.90625 16.65625 48.90625 10.90625 \r\nQ 45.90625 5.171875 40.15625 2 \r\nQ 34.421875 -1.171875 27.640625 -1.171875 \r\nQ 16.75 -1.171875 10.03125 5.8125 \r\nQ 3.328125 12.796875 3.328125 25.921875 \r\nz\r\nM 12.359375 25.921875 \r\nQ 12.359375 15.96875 16.703125 11.015625 \r\nQ 21.046875 6.0625 27.640625 6.0625 \r\nQ 34.1875 6.0625 38.53125 11.03125 \r\nQ 42.875 16.015625 42.875 26.21875 \r\nQ 42.875 35.84375 38.5 40.796875 \r\nQ 34.125 45.75 27.640625 45.75 \r\nQ 21.046875 45.75 16.703125 40.8125 \r\nQ 12.359375 35.890625 12.359375 25.921875 \r\nz\r\n\" id=\"ArialMT-111\"/>\r\n     </defs>\r\n     <g style=\"fill:#262626;\" transform=\"translate(15.073594 170.143516)rotate(-90)scale(0.11 -0.11)\">\r\n      <use xlink:href=\"#ArialMT-99\"/>\r\n      <use x=\"50\" xlink:href=\"#ArialMT-111\"/>\r\n      <use x=\"105.615234\" xlink:href=\"#ArialMT-117\"/>\r\n      <use x=\"161.230469\" xlink:href=\"#ArialMT-110\"/>\r\n      <use x=\"216.845703\" xlink:href=\"#ArialMT-116\"/>\r\n     </g>\r\n    </g>\r\n   </g>\r\n   <g id=\"patch_3\">\r\n    <path clip-path=\"url(#p9b22a9d161)\" d=\"M 63.504531 306.18 \r\nL 123.024531 306.18 \r\nL 123.024531 21.437143 \r\nL 63.504531 21.437143 \r\nz\r\n\" style=\"fill:#166a8e;\"/>\r\n   </g>\r\n   <g id=\"patch_4\">\r\n    <path clip-path=\"url(#p9b22a9d161)\" d=\"M 137.904531 306.18 \r\nL 197.424531 306.18 \r\nL 197.424531 237.439955 \r\nL 137.904531 237.439955 \r\nz\r\n\" style=\"fill:#9eba81;\"/>\r\n   </g>\r\n   <g id=\"patch_5\">\r\n    <path clip-path=\"url(#p9b22a9d161)\" d=\"M 212.304531 306.18 \r\nL 271.824531 306.18 \r\nL 271.824531 295.733168 \r\nL 212.304531 295.733168 \r\nz\r\n\" style=\"fill:#b1221c;\"/>\r\n   </g>\r\n   <g id=\"patch_6\">\r\n    <path clip-path=\"url(#p9b22a9d161)\" d=\"M 286.704531 306.18 \r\nL 346.224531 306.18 \r\nL 346.224531 299.919522 \r\nL 286.704531 299.919522 \r\nz\r\n\" style=\"fill:#911657;\"/>\r\n   </g>\r\n   <g id=\"patch_7\">\r\n    <path clip-path=\"url(#p9b22a9d161)\" d=\"M 361.104531 306.18 \r\nL 420.624531 306.18 \r\nL 420.624531 303.52338 \r\nL 361.104531 303.52338 \r\nz\r\n\" style=\"fill:#bcb11d;\"/>\r\n   </g>\r\n   <g id=\"patch_8\">\r\n    <path clip-path=\"url(#p9b22a9d161)\" d=\"M 435.504531 306.18 \r\nL 495.024531 306.18 \r\nL 495.024531 298.008716 \r\nL 435.504531 298.008716 \r\nz\r\n\" style=\"fill:#92c4d0;\"/>\r\n   </g>\r\n   <g id=\"patch_9\">\r\n    <path d=\"M 56.064531 306.18 \r\nL 56.064531 7.2 \r\n\" style=\"fill:none;stroke:#cccccc;stroke-linecap:square;stroke-linejoin:miter;stroke-width:1.25;\"/>\r\n   </g>\r\n   <g id=\"patch_10\">\r\n    <path d=\"M 502.464531 306.18 \r\nL 502.464531 7.2 \r\n\" style=\"fill:none;stroke:#cccccc;stroke-linecap:square;stroke-linejoin:miter;stroke-width:1.25;\"/>\r\n   </g>\r\n   <g id=\"patch_11\">\r\n    <path d=\"M 56.064531 306.18 \r\nL 502.464531 306.18 \r\n\" style=\"fill:none;stroke:#cccccc;stroke-linecap:square;stroke-linejoin:miter;stroke-width:1.25;\"/>\r\n   </g>\r\n   <g id=\"patch_12\">\r\n    <path d=\"M 56.064531 7.2 \r\nL 502.464531 7.2 \r\n\" style=\"fill:none;stroke:#cccccc;stroke-linecap:square;stroke-linejoin:miter;stroke-width:1.25;\"/>\r\n   </g>\r\n  </g>\r\n </g>\r\n <defs>\r\n  <clipPath id=\"p9b22a9d161\">\r\n   <rect height=\"298.98\" width=\"446.4\" x=\"56.064531\" y=\"7.2\"/>\r\n  </clipPath>\r\n </defs>\r\n</svg>\r\n",
      "image/png": "[encoded data removed]"
     },
     "metadata": {}
    }
   ],
   "source": [
    "data.race.fillna(value='Missing',inplace=True)\n",
    "raceCounts = data.race.value_counts()\n",
    "print(raceCounts)\n",
    "ax = sns.countplot(x='race',data=data)"
   ]
  },
  {
   "cell_type": "markdown",
   "metadata": {},
   "source": [
    "There are some levels for discharge disposition that have very few values."
   ]
  },
  {
   "cell_type": "code",
   "execution_count": 15,
   "metadata": {
    "tags": []
   },
   "outputs": [
    {
     "output_type": "stream",
     "name": "stdout",
     "text": "1     44322\n3      8790\n6      8291\n18     2474\n2      1541\n22     1411\n5       913\n25      778\n4       542\n7       409\n23      260\n28       90\n8        73\n15       40\n24       25\n9         9\n17        8\n10        6\n27        3\n16        3\n12        2\nName: discharge_disposition_id, dtype: int64\n"
    }
   ],
   "source": [
    "dispositionCounts = data['discharge_disposition_id'].value_counts()\n",
    "print(dispositionCounts)"
   ]
  },
  {
   "cell_type": "markdown",
   "metadata": {},
   "source": [
    "We'll move ids 9, 10, 17, 27, 16 and 12 in to bucket 25"
   ]
  },
  {
   "cell_type": "code",
   "execution_count": 16,
   "metadata": {
    "tags": []
   },
   "outputs": [
    {
     "output_type": "stream",
     "name": "stdout",
     "text": "<class 'pandas.core.frame.DataFrame'>\nInt64Index: 69990 entries, 0 to 101765\nData columns (total 43 columns):\n #   Column                    Non-Null Count  Dtype   \n---  ------                    --------------  -----   \n 0   race                      69990 non-null  object  \n 1   gender                    69990 non-null  object  \n 2   admission_type_id         69990 non-null  int64   \n 3   discharge_disposition_id  69990 non-null  category\n 4   admission_source_id       69990 non-null  int64   \n 5   time_in_hospital          69990 non-null  int64   \n 6   num_lab_procedures        69990 non-null  int64   \n 7   num_procedures            69990 non-null  int64   \n 8   num_medications           69990 non-null  int64   \n 9   number_outpatient         69990 non-null  int64   \n 10  number_emergency          69990 non-null  int64   \n 11  number_inpatient          69990 non-null  int64   \n 12  diag_1                    69990 non-null  object  \n 13  diag_2                    69990 non-null  object  \n 14  diag_3                    69990 non-null  object  \n 15  number_diagnoses          69990 non-null  int64   \n 16  max_glu_serum             69990 non-null  object  \n 17  A1Cresult                 69990 non-null  object  \n 18  metformin                 69990 non-null  object  \n 19  repaglinide               69990 non-null  object  \n 20  nateglinide               69990 non-null  object  \n 21  chlorpropamide            69990 non-null  object  \n 22  glimepiride               69990 non-null  object  \n 23  acetohexamide             69990 non-null  object  \n 24  glipizide                 69990 non-null  object  \n 25  glyburide                 69990 non-null  object  \n 26  tolbutamide               69990 non-null  object  \n 27  pioglitazone              69990 non-null  object  \n 28  rosiglitazone             69990 non-null  object  \n 29  acarbose                  69990 non-null  object  \n 30  miglitol                  69990 non-null  object  \n 31  troglitazone              69990 non-null  object  \n 32  tolazamide                69990 non-null  object  \n 33  insulin                   69990 non-null  object  \n 34  glyburide-metformin       69990 non-null  object  \n 35  glipizide-metformin       69990 non-null  object  \n 36  glimepiride-pioglitazone  69990 non-null  object  \n 37  metformin-rosiglitazone   69990 non-null  object  \n 38  metformin-pioglitazone    69990 non-null  object  \n 39  change                    69990 non-null  object  \n 40  diabetesMed               69990 non-null  object  \n 41  readmitted                69990 non-null  object  \n 42  ageGrp                    69990 non-null  object  \ndtypes: category(1), int64(10), object(32)\nmemory usage: 25.5+ MB\n"
    }
   ],
   "source": [
    "disBucket = [9,10,12,16,17,27]\n",
    "data['discharge_disposition_id'] = pd.Categorical(data.discharge_disposition_id)\n",
    "test = data['discharge_disposition_id'].isin(disBucket)\n",
    "data['discharge_disposition_id'] = np.where(data['discharge_disposition_id'].isin(disBucket),'25',data['discharge_disposition_id'])\n",
    "dispositionCounts = data['discharge_disposition_id'].value_counts()\n",
    "data['discharge_disposition_id'] = pd.Categorical(data.discharge_disposition_id)\n",
    "data.info()"
   ]
  },
  {
   "cell_type": "markdown",
   "metadata": {},
   "source": [
    "Lastly, let's create an outcome column that is Yes if admitted within 30 days, and No for everything else. Then remove the readmitted column. We'll use \"outcome\" as the response variable."
   ]
  },
  {
   "cell_type": "code",
   "execution_count": 17,
   "metadata": {
    "tags": []
   },
   "outputs": [
    {
     "output_type": "stream",
     "name": "stdout",
     "text": "0    63705\n1     6285\nName: outcome, dtype: int64\n"
    }
   ],
   "source": [
    "data['outcome'] = np.where(data['readmitted'] == '<30',1,0)\n",
    "data.drop(columns=['readmitted'],inplace=True)\n",
    "outcomeCounts = data['outcome'].value_counts()\n",
    "print(outcomeCounts)"
   ]
  },
  {
   "cell_type": "markdown",
   "metadata": {},
   "source": [
    "Above we see that about 10% of our data shows as readmitted, so we have an imbalanced data set. Need to consider that in our analysis later."
   ]
  },
  {
   "cell_type": "code",
   "execution_count": 18,
   "metadata": {
    "tags": []
   },
   "outputs": [
    {
     "output_type": "stream",
     "name": "stdout",
     "text": "<class 'pandas.core.frame.DataFrame'>\nInt64Index: 69990 entries, 0 to 101765\nData columns (total 43 columns):\n #   Column                    Non-Null Count  Dtype   \n---  ------                    --------------  -----   \n 0   race                      69990 non-null  object  \n 1   gender                    69990 non-null  object  \n 2   admission_type_id         69990 non-null  int64   \n 3   discharge_disposition_id  69990 non-null  category\n 4   admission_source_id       69990 non-null  int64   \n 5   time_in_hospital          69990 non-null  int64   \n 6   num_lab_procedures        69990 non-null  int64   \n 7   num_procedures            69990 non-null  int64   \n 8   num_medications           69990 non-null  int64   \n 9   number_outpatient         69990 non-null  int64   \n 10  number_emergency          69990 non-null  int64   \n 11  number_inpatient          69990 non-null  int64   \n 12  diag_1                    69990 non-null  object  \n 13  diag_2                    69990 non-null  object  \n 14  diag_3                    69990 non-null  object  \n 15  number_diagnoses          69990 non-null  int64   \n 16  max_glu_serum             69990 non-null  object  \n 17  A1Cresult                 69990 non-null  object  \n 18  metformin                 69990 non-null  object  \n 19  repaglinide               69990 non-null  object  \n 20  nateglinide               69990 non-null  object  \n 21  chlorpropamide            69990 non-null  object  \n 22  glimepiride               69990 non-null  object  \n 23  acetohexamide             69990 non-null  object  \n 24  glipizide                 69990 non-null  object  \n 25  glyburide                 69990 non-null  object  \n 26  tolbutamide               69990 non-null  object  \n 27  pioglitazone              69990 non-null  object  \n 28  rosiglitazone             69990 non-null  object  \n 29  acarbose                  69990 non-null  object  \n 30  miglitol                  69990 non-null  object  \n 31  troglitazone              69990 non-null  object  \n 32  tolazamide                69990 non-null  object  \n 33  insulin                   69990 non-null  object  \n 34  glyburide-metformin       69990 non-null  object  \n 35  glipizide-metformin       69990 non-null  object  \n 36  glimepiride-pioglitazone  69990 non-null  object  \n 37  metformin-rosiglitazone   69990 non-null  object  \n 38  metformin-pioglitazone    69990 non-null  object  \n 39  change                    69990 non-null  object  \n 40  diabetesMed               69990 non-null  object  \n 41  ageGrp                    69990 non-null  object  \n 42  outcome                   69990 non-null  int32   \ndtypes: category(1), int32(1), int64(10), object(31)\nmemory usage: 25.3+ MB\n"
    }
   ],
   "source": [
    "data.info()"
   ]
  },
  {
   "cell_type": "markdown",
   "metadata": {},
   "source": [
    "There attributes are shown as numeric, which should be converted to categorical. Additionally, let's convert our objects to categories."
   ]
  },
  {
   "cell_type": "code",
   "execution_count": 19,
   "metadata": {
    "tags": []
   },
   "outputs": [
    {
     "output_type": "stream",
     "name": "stdout",
     "text": "<class 'pandas.core.frame.DataFrame'>\nInt64Index: 69990 entries, 0 to 101765\nData columns (total 43 columns):\n #   Column                    Non-Null Count  Dtype   \n---  ------                    --------------  -----   \n 0   race                      69990 non-null  category\n 1   gender                    69990 non-null  category\n 2   admission_type_id         69990 non-null  category\n 3   discharge_disposition_id  69990 non-null  category\n 4   admission_source_id       69990 non-null  category\n 5   time_in_hospital          69990 non-null  int64   \n 6   num_lab_procedures        69990 non-null  int64   \n 7   num_procedures            69990 non-null  int64   \n 8   num_medications           69990 non-null  int64   \n 9   number_outpatient         69990 non-null  int64   \n 10  number_emergency          69990 non-null  int64   \n 11  number_inpatient          69990 non-null  int64   \n 12  diag_1                    69990 non-null  category\n 13  diag_2                    69990 non-null  category\n 14  diag_3                    69990 non-null  category\n 15  number_diagnoses          69990 non-null  int64   \n 16  max_glu_serum             69990 non-null  category\n 17  A1Cresult                 69990 non-null  category\n 18  metformin                 69990 non-null  category\n 19  repaglinide               69990 non-null  category\n 20  nateglinide               69990 non-null  category\n 21  chlorpropamide            69990 non-null  category\n 22  glimepiride               69990 non-null  category\n 23  acetohexamide             69990 non-null  category\n 24  glipizide                 69990 non-null  category\n 25  glyburide                 69990 non-null  category\n 26  tolbutamide               69990 non-null  category\n 27  pioglitazone              69990 non-null  category\n 28  rosiglitazone             69990 non-null  category\n 29  acarbose                  69990 non-null  category\n 30  miglitol                  69990 non-null  category\n 31  troglitazone              69990 non-null  category\n 32  tolazamide                69990 non-null  category\n 33  insulin                   69990 non-null  category\n 34  glyburide-metformin       69990 non-null  category\n 35  glipizide-metformin       69990 non-null  category\n 36  glimepiride-pioglitazone  69990 non-null  category\n 37  metformin-rosiglitazone   69990 non-null  category\n 38  metformin-pioglitazone    69990 non-null  category\n 39  change                    69990 non-null  category\n 40  diabetesMed               69990 non-null  category\n 41  ageGrp                    69990 non-null  category\n 42  outcome                   69990 non-null  int32   \ndtypes: category(34), int32(1), int64(8)\nmemory usage: 9.8 MB\n"
    }
   ],
   "source": [
    "data['admission_type_id'] = pd.Categorical(data.admission_type_id)\n",
    "data['admission_source_id'] = pd.Categorical(data.admission_source_id)\n",
    "data['discharge_disposition_id'] = pd.Categorical(data.discharge_disposition_id)\n",
    "\n",
    "catObjs = data.select_dtypes(include = ['object'])\n",
    "data[catObjs.columns] = data[catObjs.columns].astype('category')\n",
    "data.info()"
   ]
  },
  {
   "cell_type": "code",
   "execution_count": 20,
   "metadata": {},
   "outputs": [],
   "source": [
    "x_cols = ['race', 'gender', 'admission_type_id', 'discharge_disposition_id',\n",
    "       'admission_source_id', 'time_in_hospital', 'num_lab_procedures',\n",
    "       'num_procedures', 'num_medications', 'number_outpatient',\n",
    "       'number_emergency', 'number_inpatient', 'diag_1', 'diag_2', 'diag_3',\n",
    "       'number_diagnoses', 'max_glu_serum', 'A1Cresult', 'metformin',\n",
    "       'repaglinide', 'nateglinide', 'chlorpropamide', 'glimepiride',\n",
    "       'acetohexamide', 'glipizide', 'glyburide', 'tolbutamide',\n",
    "       'pioglitazone', 'rosiglitazone', 'acarbose', 'miglitol', 'troglitazone',\n",
    "       'tolazamide', 'insulin', 'glyburide-metformin', 'glipizide-metformin',\n",
    "       'glimepiride-pioglitazone', 'metformin-rosiglitazone',\n",
    "       'metformin-pioglitazone', 'change', 'diabetesMed', 'ageGrp']"
   ]
  },
  {
   "cell_type": "code",
   "execution_count": 21,
   "metadata": {
    "tags": []
   },
   "outputs": [],
   "source": [
    "# X = data[x_cols]\n",
    "# y = data[\"outcome\"]\n",
    "\n",
    "# smt = SMOTE(sampling_strategy='not majority')\n",
    "\n",
    "# numeric_features = ['time_in_hospital', 'num_lab_procedures', 'num_procedures',\n",
    "#        'num_medications', 'number_outpatient', 'number_emergency',\n",
    "#        'number_inpatient', 'number_diagnoses']\n",
    "\n",
    "# categorical_features = ['race', 'gender', 'admission_type_id', 'discharge_disposition_id',\n",
    "#        'admission_source_id', 'diag_1', 'diag_2', 'diag_3', 'max_glu_serum',\n",
    "#        'A1Cresult', 'metformin', 'repaglinide', 'nateglinide',\n",
    "#        'chlorpropamide', 'glimepiride', 'acetohexamide', 'glipizide',\n",
    "#        'glyburide', 'tolbutamide', 'pioglitazone', 'rosiglitazone', 'acarbose',\n",
    "#        'miglitol', 'troglitazone', 'tolazamide', 'insulin',\n",
    "#        'glyburide-metformin', 'glipizide-metformin',\n",
    "#        'glimepiride-pioglitazone', 'metformin-rosiglitazone',\n",
    "#        'metformin-pioglitazone', 'change', 'diabetesMed', 'ageGrp']\n",
    "\n",
    "# numeric_transformer = Pipeline(steps=[\n",
    "#     ('imputer', SimpleImputer(missing_values=np.nan, strategy=\"median\"))])\n",
    "\n",
    "# categorical_transformer = Pipeline(steps=[\n",
    "#     ('imputer', SimpleImputer(missing_values=np.nan, strategy=\"most_frequent\")),\n",
    "#     ('onehot', OneHotEncoder(handle_unknown='ignore'))])\n",
    "\n",
    "# preprocessor = ColumnTransformer(\n",
    "#     transformers=[\n",
    "#         ('num', numeric_transformer, numeric_features),\n",
    "#         ('cat', categorical_transformer, categorical_features)])\n",
    "        \n",
    "\n",
    "# # clf1 = DecisionTreeClassifier(random_state=1)\n",
    "# clf1 = MultinomialNB(alpha=0.001)\n",
    "\n",
    "\n",
    "\n",
    "# pipe1 = Pipeline([['preprocessor', preprocessor], \n",
    "#                  # ['rs', RobustScaler()],     \n",
    "#                  ['smt', smt],        \n",
    "#                  ['clf', clf1]])\n",
    "\n",
    "\n",
    "# clf_labels = ['Naive Bayes']\n",
    "\n",
    "\n",
    "\n",
    "# # Note n_jobs below. Setting it to -1 will create cv number of threads\n",
    "# print('10-fold cross validation:\\n')\n",
    "# for clf, label in zip([pipe1], clf_labels):\n",
    "#     scores = cross_val_score(estimator=clf,\n",
    "#                              X=X,\n",
    "#                              y=y,\n",
    "#                              cv=3,\n",
    "#                              scoring='roc_auc',\n",
    "#                              n_jobs=-1)\n",
    "#     print(\"ROC AUC: %0.3f (+/- %0.2f) [%s]\"\n",
    "#           % (scores.mean(), scores.std(), label))\n"
   ]
  },
  {
   "cell_type": "markdown",
   "metadata": {},
   "source": [
    "## Random Search CV"
   ]
  },
  {
   "cell_type": "code",
   "execution_count": 22,
   "metadata": {},
   "outputs": [],
   "source": [
    "X = data[x_cols]\n",
    "y = data[\"outcome\"]\n",
    "\n",
    "smt = SMOTE(sampling_strategy='not majority')\n",
    "\n",
    "numeric_features = ['time_in_hospital', 'num_lab_procedures', 'num_procedures',\n",
    "       'num_medications', 'number_outpatient', 'number_emergency',\n",
    "       'number_inpatient', 'number_diagnoses']\n",
    "\n",
    "categorical_features = ['race', 'gender', 'admission_type_id', 'discharge_disposition_id',\n",
    "       'admission_source_id', 'diag_1', 'diag_2', 'diag_3', 'max_glu_serum',\n",
    "       'A1Cresult', 'metformin', 'repaglinide', 'nateglinide',\n",
    "       'chlorpropamide', 'glimepiride', 'acetohexamide', 'glipizide',\n",
    "       'glyburide', 'tolbutamide', 'pioglitazone', 'rosiglitazone', 'acarbose',\n",
    "       'miglitol', 'troglitazone', 'tolazamide', 'insulin',\n",
    "       'glyburide-metformin', 'glipizide-metformin',\n",
    "       'glimepiride-pioglitazone', 'metformin-rosiglitazone',\n",
    "       'metformin-pioglitazone', 'change', 'diabetesMed', 'ageGrp']\n",
    "\n",
    "numeric_transformer = Pipeline(steps=[\n",
    "    ('imputer', SimpleImputer(missing_values=np.nan, strategy=\"median\"))])\n",
    "\n",
    "categorical_transformer = Pipeline(steps=[\n",
    "    ('imputer', SimpleImputer(missing_values=np.nan, strategy=\"most_frequent\")),\n",
    "    ('onehot', OneHotEncoder(handle_unknown='ignore'))])\n",
    "\n",
    "preprocessor = ColumnTransformer(\n",
    "    transformers=[\n",
    "        ('num', numeric_transformer, numeric_features),\n",
    "        ('cat', categorical_transformer, categorical_features)])\n",
    "\n",
    "nb = MultinomialNB()\n",
    "knn = KNeighborsClassifier()\n",
    "logreg = LogisticRegression(random_state=1)\n",
    "dt = DecisionTreeClassifier(random_state=1)\n",
    "rf = RandomForestClassifier(random_state=1)\n",
    "gb = GradientBoostingClassifier(random_state=1)\n",
    "\n",
    "\n",
    "pipe_nb = Pipeline([['preprocessor', preprocessor], \n",
    "                 # ['rs', RobustScaler()],             <<< ValueError: Negative values in data passed to MultinomialNB (input X)\n",
    "                 ['clf', nb]])\n",
    "\n",
    "\n",
    "# 10 Fold Cross Validation Scores (CVD):\n",
    "\n",
    "# Model :  multinomialnb\n",
    "# Best ROC AUC :  0.6243667240727768\n",
    "# Best Params :  {'clf__alpha': 0.001}\n",
    "# Mean Fit Time:  11.950120096206664\n",
    "# Mean Score Time:  0.08393266201019287\n",
    "# Cross Validation Time :  168.83361959457397\n",
    "# Prediction Accuracy :  0.9008858408344049\n",
    "\n",
    "\n",
    "\n",
    "pipe_knn = Pipeline([['preprocessor', preprocessor], \n",
    "                  ['rs', RobustScaler(with_centering=False)],\n",
    "                  ['clf', knn]])\n",
    "\n",
    "pipe_logreg = Pipeline([['preprocessor', preprocessor], \n",
    "                  ['rs', RobustScaler(with_centering=False)],\n",
    "                  ['clf', logreg]])\n",
    "\n",
    "# 10 Fold Cross Validation Scores (CVD):\n",
    "\n",
    "# Model :  logisticregression\n",
    "# Best ROC AUC :  0.6295486410654638\n",
    "# Best Params :  {'clf__penalty': 'l2', 'clf__C': 0.1}\n",
    "# Mean Fit Time:  12.83408024787903\n",
    "# Mean Score Time:  0.04670456647872925\n",
    "# Cross Validation Time :  339.9854803085327\n",
    "# Prediction Accuracy :  0.9100585797971139\n",
    "                  \n",
    "pipe_dt = Pipeline([['preprocessor', preprocessor], \n",
    "                  ['rs', RobustScaler(with_centering=False)],\n",
    "                  ['smt', smt],\n",
    "                  ['clf', dt]])\n",
    "\n",
    "\n",
    "# 10 Fold Cross Validation Scores (CVD):\n",
    "\n",
    "# Model :  decisiontreeclassifier\n",
    "# Best ROC AUC :  0.5389389923090644\n",
    "# Best Params :  {'clf__splitter': 'random', 'clf__min_samples_split': 2, 'clf__min_samples_leaf': 4, 'clf__max_features': 'sqrt', 'clf__criterion': 'gini', 'clf__class_weight': 'balanced'}\n",
    "# Mean Fit Time:  18.665657408237458\n",
    "# Mean Score Time:  0.09496973991394043\n",
    "# Cross Validation Time :  491.8946530818939\n",
    "# Prediction Accuracy :  0.8512787541077297\n",
    "\n",
    "\n",
    "pipe_rf = Pipeline([['preprocessor', preprocessor], \n",
    "                  ['rs', RobustScaler(with_centering=False)],\n",
    "                  ['smt', smt],\n",
    "                  ['clf', rf]])\n",
    "\n",
    "\n",
    "# 10 Fold Cross Validation Scores (CVD):\n",
    "\n",
    "# Model :  randomforestclassifier\n",
    "# Best ROC AUC :  0.6182717549324442\n",
    "# Best Params :  {'clf__n_estimators': 150, 'clf__min_samples_split': 2, 'clf__min_samples_leaf': 4}\n",
    "# Mean Fit Time:  251.22587335551225\n",
    "# Mean Score Time:  1.2240822226912889\n",
    "# Cross Validation Time :  2088.7690176963806\n",
    "# Prediction Accuracy :  0.9247178168309759\n",
    "\n",
    "\n",
    "pipe_gb = Pipeline([['preprocessor', preprocessor], \n",
    "                  ['rs', RobustScaler(with_centering=False)],\n",
    "                  ['smt', smt],\n",
    "                  ['clf', gb]])\n",
    "\n",
    "\n",
    "\n",
    "# 10 Fold Cross Validation Scores (CVD):\n",
    "\n",
    "# Model :  gradientboostingclassifier\n",
    "# Best ROC AUC :  0.5959537087801374\n",
    "# Best Params :  {'clf__n_estimators': 400, 'clf__min_samples_split': 0.6, 'clf__min_samples_leaf': 0.1, 'clf__max_features': 18, 'clf__max_depth': 9.0, 'clf__loss': 'deviance'}\n",
    "# Mean Fit Time:  28.568998503685\n",
    "# Mean Score Time:  0.1080346941947937\n",
    "# Cross Validation Time :  776.4922952651978\n",
    "# Prediction Accuracy :  0.8961851693099014\n",
    "\n",
    "\n",
    "model_params = {\n",
    "    # \"multinomialnb\": {\n",
    "    #     \"model\": pipe_nb,\n",
    "    #     \"params\": {\n",
    "    #         \"clf__alpha\": [0.0001, 0.001, 0.01, 0.1, 1.0]\n",
    "    #     }\n",
    "    # },\n",
    "    # \"kneighborsClassifier\": {\n",
    "    #     \"model\": pipe_knn,\n",
    "    #     \"params\": {\n",
    "    #         \"clf__n_neighbors\": np.arange(5,51),\n",
    "    #         \"clf__weights\": [\"uniform\", \"distance\"]\n",
    "    #     }\n",
    "    # },\n",
    "    # \"logisticregression\": {\n",
    "    #     \"model\": pipe_logreg,\n",
    "    #     \"params\": {\n",
    "    #         \"clf__C\": [.01, .1, 1, 5, 10, 25, 50],\n",
    "    #         \"clf__penalty\": [\"l1\", \"l2\"]\n",
    "    #     }\n",
    "    # },\n",
    "    # \"decisiontreeclassifier\": {\n",
    "    #     \"model\": pipe_dt,\n",
    "    #     \"params\": {\n",
    "    #         \"clf__criterion\": ['gini','entropy'],\n",
    "    #         \"clf__splitter\": ['best', 'random'],\n",
    "    #         \"clf__min_samples_split\": [2, 5, 10],\n",
    "    #         \"clf__min_samples_leaf\": [1, 2, 4],\n",
    "    #         \"clf__max_features\": ['auto', 'sqrt', 'log2'],\n",
    "    #         \"clf__class_weight\": [None, 'balanced']\n",
    "    #     }\n",
    "    # },\n",
    "    \"randomforestclassifier\": {\n",
    "        \"model\": pipe_rf,\n",
    "        \"params\": {\n",
    "            \"clf__n_estimators\": [150], #[100, 150, 200, 300, 400, 500, 600],\n",
    "            # \"clf__criterion\": ['gini','entropy'],\n",
    "            # \"clf__max_features\": ['auto', 'sqrt'],\n",
    "            \"clf__min_samples_split\": [2, 5, 10],\n",
    "            \"clf__min_samples_leaf\": [1, 2, 4]\n",
    "            # \"clf__bootstrap\": [True, False]\n",
    "        }\n",
    "    }\n",
    "    # \"gradientboostingclassifier\": {\n",
    "    #     \"model\": pipe_gb,\n",
    "    #     \"params\": {\n",
    "    #         \"clf__loss\": ['deviance', 'exponential'],\n",
    "    #         \"clf__n_estimators\": [1, 2, 4, 8, 16, 32, 64, 100, 200, 400],\n",
    "    #         \"clf__max_depth\": np.linspace(1, 32, 32, endpoint=True),\n",
    "    #         \"clf__min_samples_split\": np.linspace(0.1, 1.0, 10, endpoint=True),\n",
    "    #         \"clf__min_samples_leaf\": np.linspace(0.1, 0.5, 5, endpoint=True),\n",
    "    #         \"clf__max_features\": list(range(1,X.shape[1]))\n",
    "    #     }\n",
    "    # }\n",
    "}\n",
    "\n",
    "\n",
    "\n",
    "scores = []\n",
    "\n",
    "for model_name, mp in model_params.items():\n",
    "    start = time.time()\n",
    "    # clf = GridSearchCV(estimator = mp[\"model\"], param_grid=mp[\"params\"], cv=3, scoring=\"roc_auc\", n_jobs=-1)\n",
    "    clf = RandomizedSearchCV(estimator = mp[\"model\"], param_distributions=mp[\"params\"], cv=3, scoring=\"roc_auc\", n_jobs=-1)\n",
    "    clf.fit(X, y)\n",
    "    elapsed_time = (time.time() - start)\n",
    "\n",
    "    scores.append({\"Model\": model_name,\n",
    "    \"Best ROC AUC\": clf.best_score_, # Mean cross-validated score of the best_estimator\n",
    "    \"Best Params\": clf.best_params_,\n",
    "    \"results\": clf.cv_results_,\n",
    "    \"Cross Validation Time\": elapsed_time,\n",
    "    \"Best Estimator\": clf.best_estimator_\n",
    "    })"
   ]
  },
  {
   "cell_type": "code",
   "execution_count": 23,
   "metadata": {
    "tags": []
   },
   "outputs": [
    {
     "output_type": "stream",
     "name": "stdout",
     "text": "10 Fold Cross Validation Scores (CVD):\n\nModel :  randomforestclassifier\nBest ROC AUC :  0.6182717549324442\nBest Params :  {'clf__n_estimators': 150, 'clf__min_samples_split': 2, 'clf__min_samples_leaf': 4}\nMean Fit Time:  251.22587335551225\nMean Score Time:  1.2240822226912889\nCross Validation Time :  2088.7690176963806\nPrediction Accuracy :  0.9247178168309759\n"
    }
   ],
   "source": [
    "print('10 Fold Cross Validation Scores (CVD):')\n",
    "\n",
    "for model in scores:\n",
    "    print()\n",
    "    for key, value in model.items():\n",
    "        if key == 'Best Estimator':\n",
    "            print(\"Prediction Accuracy\",': ',value.score(X, y))\n",
    "        elif key == 'results':\n",
    "            print('Mean Fit Time: ', value['mean_fit_time'].mean())\n",
    "            print('Mean Score Time: ', value['mean_score_time'].mean())\n",
    "        else:\n",
    "            print(key,': ',value)"
   ]
  },
  {
   "cell_type": "code",
   "execution_count": 24,
   "metadata": {},
   "outputs": [],
   "source": [
    "# X_train, X_test, y_train, y_test =\\\n",
    "#     train_test_split(X, y,\n",
    "#     test_size=0.2,\n",
    "#     random_state=1,\n",
    "#     stratify=y)\n",
    "\n",
    "\n",
    "# numeric_features = ['time_in_hospital', 'num_lab_procedures', 'num_procedures',\n",
    "#        'num_medications', 'number_outpatient', 'number_emergency',\n",
    "#        'number_inpatient', 'number_diagnoses']\n",
    "\n",
    "# categorical_features = ['race', 'gender', 'admission_type_id', 'discharge_disposition_id',\n",
    "#        'admission_source_id', 'diag_1', 'diag_2', 'diag_3', 'max_glu_serum',\n",
    "#        'A1Cresult', 'metformin', 'repaglinide', 'nateglinide',\n",
    "#        'chlorpropamide', 'glimepiride', 'acetohexamide', 'glipizide',\n",
    "#        'glyburide', 'tolbutamide', 'pioglitazone', 'rosiglitazone', 'acarbose',\n",
    "#        'miglitol', 'troglitazone', 'tolazamide', 'insulin',\n",
    "#        'glyburide-metformin', 'glipizide-metformin',\n",
    "#        'glimepiride-pioglitazone', 'metformin-rosiglitazone',\n",
    "#        'metformin-pioglitazone', 'change', 'diabetesMed', 'ageGrp']\n",
    "\n",
    "# numeric_transformer = Pipeline(steps=[\n",
    "#     ('imputer', SimpleImputer(missing_values=np.nan, strategy=\"median\"))])\n",
    "\n",
    "# categorical_transformer = Pipeline(steps=[\n",
    "#     ('imputer', SimpleImputer(missing_values=np.nan, strategy=\"most_frequent\")),\n",
    "#     ('onehot', OneHotEncoder(handle_unknown='ignore'))])\n",
    "\n",
    "# preprocessor = ColumnTransformer(\n",
    "#     transformers=[\n",
    "#         ('num', numeric_transformer, numeric_features),\n",
    "#         ('cat', categorical_transformer, categorical_features)])\n",
    "\n",
    "\n",
    "# nb = MultinomialNB(alpha=0.001)\n",
    "# knn = KNeighborsClassifier(n_neighbors=45)\n",
    "# logreg = LogisticRegression(random_state=1, penalty = \"l2\", C=0.1)\n",
    "# dt = DecisionTreeClassifier(random_state=1, min_samples_split=2, min_samples_leaf=4, max_features='sqrt', criterion='gini', class_weight='balanced')\n",
    "# rf = RandomForestClassifier(random_state=1)\n",
    "# gb = GradientBoostingClassifier(random_state=1, n_estimators=400, min_samples_split=0.6, min_samples_leaf=0.1, max_features=18, max_depth=9.0, loss='deviance')\n",
    "\n",
    "\n",
    "\n",
    "\n",
    "# pipe_knn = Pipeline([['preprocessor', preprocessor], \n",
    "#                   ['rs', RobustScaler(with_centering=False)],\n",
    "#                   ['smt', smt],\n",
    "#                   ['clf', knn]])\n",
    "\n",
    "# pipe_logreg = Pipeline([['preprocessor', preprocessor], \n",
    "#                   ['rs', RobustScaler(with_centering=False)],\n",
    "#                   ['smt', smt],\n",
    "#                   ['clf', logreg]])\n",
    "\n",
    "# pipe_dt = Pipeline([['preprocessor', preprocessor], \n",
    "#                   ['rs', RobustScaler(with_centering=False)],\n",
    "#                   ['smt', smt],\n",
    "#                   ['clf', dt]])\n",
    "\n",
    "# pipe_gb = Pipeline([['preprocessor', preprocessor], \n",
    "#                   ['rs', RobustScaler(with_centering=False)],\n",
    "#                   ['smt', smt],\n",
    "#                   ['clf', dt]])\n",
    "\n",
    "\n",
    "\n",
    "\n",
    "# # fitt_nb = MultinomialNB(alpha=0.001)\n",
    "# # fit_knn = pipe_knn.fit(X_train, y_train)\n",
    "# fit_logreg = pipe_logreg.fit(X_train, y_train)\n",
    "# # fit_dt = pipe_dt.fit(X_train, y_train)\n",
    "# # fit_gb = pipe_gb.fit(X_train, y_train)\n",
    "# # fit2 = pipe2.fit(X_train, y_train)\n",
    "# # fit5 = pipe5.fit(X_train, y_train)\n"
   ]
  },
  {
   "cell_type": "code",
   "execution_count": 25,
   "metadata": {
    "tags": []
   },
   "outputs": [],
   "source": [
    "# y_pred = fit_logreg.predict(X_test)\n",
    "# print(classification_report(y_test, y_pred))\n",
    "\n",
    "# fig = plt.figure(1, figsize=(20, 5))\n",
    "\n",
    "# chart_1 = fig.add_subplot(121)\n",
    "# chart_2 = fig.add_subplot(122)\n",
    "\n",
    "# # Pass Fitted Model, and our test sets, see how they do\n",
    "# plot_confusion_matrix(pipe_logreg, X_test, y_test, normalize='true', ax=chart_1)\n",
    "# chart_1.set_title('Confusion Matrix')\n",
    "\n",
    "# plot_roc_curve(pipe_logreg, X_test, y_test, ax=chart_2)\n",
    "# chart_2.set_title('ROC Curve')\n",
    "\n",
    "# plt.show()"
   ]
  }
 ]
}