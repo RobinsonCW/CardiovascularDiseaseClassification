{
 "cells": [
  {
   "cell_type": "markdown",
   "metadata": {},
   "source": [
    "# Data Preparation Part 1 (10 points)\n",
    "\n",
    "\n",
    "Define and prepare your class variables. Use proper variable representations (int, float, one-hot, etc.). Use pre-processing methods (as needed) for dimensionality reduction, scaling, etc. Remove variables that are not needed/useful for the analysis."
   ]
  },
  {
   "cell_type": "markdown",
   "metadata": {},
   "source": [
    "## Library Imports"
   ]
  },
  {
   "cell_type": "code",
   "execution_count": 23,
   "metadata": {},
   "outputs": [],
   "source": [
    "# Base Imports\n",
    "import pandas as pd\n",
    "import numpy as np \n",
    "import time\n",
    "from matplotlib import pyplot as plt\n",
    "from matplotlib.ticker import MaxNLocator\n",
    "import seaborn as sns\n",
    "%matplotlib inline\n",
    "\n",
    "# Pre-Processing\n",
    "from sklearn.preprocessing import RobustScaler\n",
    "from sklearn.preprocessing import StandardScaler\n",
    "from sklearn.preprocessing import OneHotEncoder\n",
    "from sklearn.impute import SimpleImputer\n",
    "from sklearn.compose import ColumnTransformer\n",
    "\n",
    "# Metrics and Evaluation\n",
    "from sklearn import metrics\n",
    "from sklearn.metrics import classification_report\n",
    "from sklearn.metrics import plot_confusion_matrix\n",
    "from sklearn.metrics import plot_roc_curve\n",
    "\n",
    "# Train/ Test Split\n",
    "from sklearn.model_selection import train_test_split\n",
    "from sklearn.model_selection import cross_val_score\n",
    "\n",
    "# from sklearn.pipeline import Pipeline\n",
    "\n",
    "# Estimators\n",
    "from sklearn.naive_bayes import MultinomialNB\n",
    "from sklearn.neighbors import KNeighborsClassifier\n",
    "from sklearn.ensemble import RandomForestClassifier\n",
    "from sklearn.ensemble import GradientBoostingClassifier\n",
    "from sklearn.linear_model import LogisticRegression\n",
    "# from sklearn.linear_model import SGDClassifier\n",
    "# from sklearn.svm import LinearSVC\n",
    "# from sklearn.svm import SVC\n",
    "\n",
    "# Hyper Parameter Tuning\n",
    "from sklearn.model_selection import GridSearchCV\n",
    "from sklearn.model_selection import RandomizedSearchCV\n",
    "\n",
    "# Imbalanced Data\n",
    "from imblearn.pipeline import make_pipeline, Pipeline\n",
    "from imblearn.over_sampling import SMOTE\n",
    "from imblearn.over_sampling import BorderlineSMOTE\n",
    "\n",
    "smt = SMOTE(sampling_strategy='not majority')\n",
    "\n"
   ]
  },
  {
   "cell_type": "markdown",
   "metadata": {},
   "source": [
    "## Load Data"
   ]
  },
  {
   "cell_type": "code",
   "execution_count": 24,
   "metadata": {},
   "outputs": [],
   "source": [
    "df = pd.read_csv('../../../../../../data/cardio_train.csv', delimiter=';')\n",
    "# set id as index\n",
    "df.set_index(\"id\", inplace=True)\n",
    "# copy original data\n",
    "df_clean = df.copy(deep=True)\n",
    "# drop duplicates\n",
    "df_clean.drop_duplicates(inplace=True)"
   ]
  },
  {
   "cell_type": "code",
   "execution_count": 25,
   "metadata": {},
   "outputs": [],
   "source": [
    "# %%time\n",
    "\n",
    "# Convert age into years\n",
    "df_clean['age'] = (df_clean['age'] / 365).round().astype('int')\n",
    "\n",
    "# re-encode gender to male (1) and female (0)\n",
    "df_clean['gender'] = np.where((df_clean.gender == 2), 1, 0)\n",
    "\n",
    "# compute the body mass index based on weight and height\n",
    "df_clean['bmi'] = df_clean['weight'] / (df_clean['height']/100)**2\n",
    "\n",
    "# create a BMI group\n",
    "df_clean['bmiGrp'] = np.where((df_clean.bmi < 18.5), 1, 0)\n",
    "df_clean['bmiGrp'] = np.where((df_clean.bmi >= 18.5) & (df_clean.bmi < 25), 2, df_clean.bmiGrp)\n",
    "df_clean['bmiGrp'] = np.where((df_clean.bmi >= 25) & (df_clean.bmi < 30), 3, df_clean.bmiGrp)\n",
    "df_clean['bmiGrp'] = np.where((df_clean.bmi >= 30), 4, df_clean.bmiGrp)\n",
    "\n",
    "# bin blood pressure groups based on the api hi/ lo variables\n",
    "df_clean['bp'] = np.where((df_clean.ap_hi < 120) & (df_clean.ap_lo < 80), 1, 0)\n",
    "df_clean['bp'] = np.where((df_clean.ap_hi >= 120) & (df_clean.ap_hi < 130) & (df_clean.ap_lo < 80), 2, df_clean.bp)\n",
    "df_clean['bp'] = np.where((df_clean.ap_hi >= 130) & (df_clean.ap_hi < 140) | ((df_clean.ap_lo >= 80) & (df_clean.ap_lo < 90)), 3, df_clean.bp)\n",
    "df_clean['bp'] = np.where((df_clean.ap_hi >= 140) | (df_clean.ap_lo >= 90), 4, df_clean.bp)\n",
    "df_clean['bp'] = np.where((df_clean.ap_hi > 180) | (df_clean.ap_lo > 120), 5, df_clean.bp)\n",
    "\n"
   ]
  },
  {
   "cell_type": "markdown",
   "metadata": {},
   "source": [
    "# Data Preparation Part 2 (5 points)\n",
    "\n",
    "\n",
    "Describe the final dataset that is used for classification/regression (include a description of any newly formed variables you created)."
   ]
  },
  {
   "cell_type": "markdown",
   "metadata": {},
   "source": []
  },
  {
   "cell_type": "code",
   "execution_count": 26,
   "metadata": {},
   "outputs": [],
   "source": [
    "# New Feature Model\n",
    "X_cols = ['age', 'gender', 'bmiGrp', 'bp', 'cholesterol', 'gluc', 'cardio', 'alco', 'active']\n",
    "\n",
    "# Store feature matrix \n",
    "X = df_clean[X_cols] #.to_numpy()\n",
    "# Store response vector\n",
    "y = df_clean['smoke'] #.to_numpy()\n",
    "\n",
    "# Full Model\n",
    "# X_cols = ['age', 'gender', 'height', 'weight', 'ap_hi', 'ap_lo', 'cholesterol', 'gluc', 'smoke', 'alco', 'active']\n"
   ]
  },
  {
   "cell_type": "markdown",
   "metadata": {},
   "source": [
    "# Modeling and Evaluation 1 (10 points)\n",
    "\n",
    "\n",
    "Choose and explain your evaluation metrics that you will use (i.e., accuracy,\n",
    "precision, recall, F-measure, or any metric we have discussed). Why are the measure(s) appropriate for analyzing the results of your modeling? Give a detailed explanation backing up any assertions.\n",
    "\n"
   ]
  },
  {
   "cell_type": "code",
   "execution_count": 5,
   "metadata": {},
   "outputs": [],
   "source": []
  },
  {
   "cell_type": "markdown",
   "metadata": {},
   "source": [
    "# Modeling and Evaluation 2 (10 points)\n",
    "\n",
    "Choose the method you will use for dividing your data into training and testing splits (i.e., are you using Stratified 10-fold cross validation? Why?). Explain why your chosen method is appropriate or use more than one method as appropriate. For example, if you are using time series data then you should be using continuous training and testing sets across time.\n",
    "\n",
    "\n"
   ]
  },
  {
   "cell_type": "markdown",
   "metadata": {},
   "source": [
    "# Modeling and Evaluation 3\n",
    "\n",
    "Create three different classification/regression models for each task (e.g., random forest, KNN, and SVM for task one and the same or different algorithms for task two). Two modeling techniques must be new (but the third could be SVM or logistic regression). Adjust parameters as appropriate to increase generalization performance using your chosen metric. You must investigate different parameters of the algorithms!\n"
   ]
  },
  {
   "cell_type": "code",
   "execution_count": 27,
   "metadata": {
    "tags": []
   },
   "outputs": [
    {
     "output_type": "stream",
     "name": "stdout",
     "text": "10-fold cross validation:\n\nROC AUC: 0.835 (+/- 0.01) [Naive Bayes]\nROC AUC: 0.825 (+/- 0.01) [KNN]\nROC AUC: 0.832 (+/- 0.01) [Random Forest]\nROC AUC: 0.835 (+/- 0.01) [Gradient Boosting]\nROC AUC: 0.842 (+/- 0.01) [Logistic Regression]\n"
    }
   ],
   "source": [
    "numeric_features = ['age', 'cholesterol', 'bp', 'bmiGrp', 'gluc']\n",
    "categorical_features = ['gender', 'cardio', 'alco', 'active']\n",
    "\n",
    "numeric_transformer = Pipeline(steps=[\n",
    "    ('imputer', SimpleImputer(missing_values=np.nan, strategy=\"median\"))])\n",
    "\n",
    "categorical_transformer = Pipeline(steps=[\n",
    "    ('imputer', SimpleImputer(missing_values=np.nan, strategy=\"median\")),\n",
    "    ('onehot', OneHotEncoder(handle_unknown='ignore'))])\n",
    "\n",
    "preprocessor = ColumnTransformer(\n",
    "    transformers=[\n",
    "        ('num', numeric_transformer, numeric_features),\n",
    "        ('cat', categorical_transformer, categorical_features)])\n",
    "\n",
    "clf1 = MultinomialNB(alpha=1.0)\n",
    "clf2 = KNeighborsClassifier(n_neighbors=41)\n",
    "clf3 = RandomForestClassifier(random_state=1, n_estimators=400, min_samples_split=5, min_samples_leaf=4, max_features='sqrt', bootstrap=True)\n",
    "clf4 = GradientBoostingClassifier(random_state=1, n_estimators=8, min_samples_split=0.5, min_samples_leaf=0.1, max_features=3, max_depth=16.0)\n",
    "clf5 = LogisticRegression(random_state=1)\n",
    "\n",
    "\n",
    "pipe1 = Pipeline([['preprocessor', preprocessor], \n",
    "                 # ['rs', RobustScaler()],             <<< ValueError: Negative values in data passed to MultinomialNB (input X)\n",
    "                 ['smt', smt],\n",
    "                 ['clf', clf1]])\n",
    "\n",
    "pipe2 = Pipeline([['preprocessor', preprocessor], \n",
    "                  ['rs', RobustScaler()],\n",
    "                  ['smt', smt],\n",
    "                  ['clf', clf2]])\n",
    "\n",
    "pipe3 = Pipeline([['preprocessor', preprocessor], \n",
    "                  ['rs', RobustScaler()],\n",
    "                  ['smt', smt],\n",
    "                  ['clf', clf3]])\n",
    "                  \n",
    "pipe4 = Pipeline([['preprocessor', preprocessor], \n",
    "                  ['rs', RobustScaler()],\n",
    "                  ['smt', smt],\n",
    "                  ['clf', clf4]])\n",
    "\n",
    "pipe5 = Pipeline([['preprocessor', preprocessor], \n",
    "                  ['rs', RobustScaler()],\n",
    "                  ['smt', smt],\n",
    "                  ['clf', clf5]])\n",
    "\n",
    "clf_labels = ['Naive Bayes', 'KNN', 'Random Forest', 'Gradient Boosting', 'Logistic Regression']\n",
    "\n",
    "# Note n_jobs below. Setting it to -1 will create cv number of threads\n",
    "print('10-fold cross validation:\\n')\n",
    "for clf, label in zip([pipe1, pipe2, pipe3, pipe4, pipe5], clf_labels):\n",
    "    scores = cross_val_score(estimator=clf,\n",
    "                             X=X,\n",
    "                             y=y,\n",
    "                             cv=10,\n",
    "                             scoring='roc_auc',\n",
    "                             n_jobs=-1)\n",
    "    print(\"ROC AUC: %0.3f (+/- %0.2f) [%s]\"\n",
    "          % (scores.mean(), scores.std(), label))"
   ]
  },
  {
   "cell_type": "markdown",
   "metadata": {},
   "source": [
    "\n"
   ]
  },
  {
   "cell_type": "markdown",
   "metadata": {},
   "source": [
    "## Grid Search"
   ]
  },
  {
   "cell_type": "code",
   "execution_count": 28,
   "metadata": {
    "tags": []
   },
   "outputs": [],
   "source": [
    "numeric_features = ['age', 'cholesterol', 'bp', 'bmiGrp', 'gluc']\n",
    "categorical_features = ['gender', 'cardio', 'alco', 'active']\n",
    "\n",
    "numeric_transformer = Pipeline(steps=[\n",
    "    ('imputer', SimpleImputer(missing_values=np.nan, strategy=\"median\"))])\n",
    "\n",
    "categorical_transformer = Pipeline(steps=[\n",
    "    ('imputer', SimpleImputer(missing_values=np.nan, strategy=\"median\")),\n",
    "    ('onehot', OneHotEncoder(handle_unknown='ignore'))])\n",
    "\n",
    "preprocessor = ColumnTransformer(\n",
    "    transformers=[\n",
    "        ('num', numeric_transformer, numeric_features),\n",
    "        ('cat', categorical_transformer, categorical_features)])\n",
    "\n",
    "clf1 = MultinomialNB()\n",
    "clf2 = KNeighborsClassifier()\n",
    "clf3 = RandomForestClassifier(random_state=1)\n",
    "clf4 = GradientBoostingClassifier(random_state=1)\n",
    "clf5 = LogisticRegression(random_state=1)\n",
    "\n",
    "\n",
    "pipe1 = Pipeline([['preprocessor', preprocessor], \n",
    "                 # ['rs', RobustScaler()],             <<< ValueError: Negative values in data passed to MultinomialNB (input X)\n",
    "                 ['smt', smt],\n",
    "                 ['clf', clf1]])\n",
    "\n",
    "# 10 Fold Cross Validation Scores:\n",
    "\n",
    "# Model :  multinomialnb\n",
    "# Best ROC AUC :  0.8368920567845517\n",
    "# Best Params :  {'clf__alpha': 1.0}\n",
    "# Mean Fit Time:  0.07257645130157471\n",
    "# Mean Score Time:  0.040400218963623044\n",
    "# Cross Validation Time :  0.49883437156677246\n",
    "# Prediction Accuracy :  0.9226207487853673\n",
    "\n",
    "pipe2 = Pipeline([['preprocessor', preprocessor], \n",
    "                  ['rs', RobustScaler()],\n",
    "                  ['smt', smt],\n",
    "                  ['clf', clf2]])\n",
    "\n",
    "# 10 Fold Cross Validation Scores:\n",
    "\n",
    "# Model :  kneighborsClassifier\n",
    "# Best ROC AUC :  0.8350751363162301\n",
    "# Best Params :  {'clf__weights': 'uniform', 'clf__n_neighbors': 41}\n",
    "# Mean Fit Time:  3.0239290308952333\n",
    "# Mean Score Time:  1.8149034547805787\n",
    "# Cross Validation Time :  125.22991991043091\n",
    "# Prediction Accuracy :  0.922049156901972\n",
    "\n",
    "                  \n",
    "pipe3 = Pipeline([['preprocessor', preprocessor], \n",
    "                  ['rs', RobustScaler()],\n",
    "                  ['smt', smt],\n",
    "                  ['clf', clf3]])\n",
    "\n",
    "# 10 Fold Cross Validation Scores:\n",
    "\n",
    "# Model :  randomforestclassifier\n",
    "# Best ROC AUC :  0.8316152723884954\n",
    "# Best Params :  {'clf__n_estimators': 400, 'clf__min_samples_split': 5, 'clf__min_samples_leaf': 4, 'clf__max_features': 'sqrt', 'clf__bootstrap': True}\n",
    "# Mean Fit Time:  36.287376403808594\n",
    "# Mean Score Time:  1.1152954840660096\n",
    "# Cross Validation Time :  981.8869123458862\n",
    "# Prediction Accuracy :  0.9259031668000457\n",
    "\n",
    "\n",
    "pipe4 = Pipeline([['preprocessor', preprocessor], \n",
    "                  ['rs', RobustScaler()],\n",
    "                  ['smt', smt],\n",
    "                  ['clf', clf4]])\n",
    "\n",
    "# 10 Fold Cross Validation Scores:\n",
    "\n",
    "# Model :  gradientboostingclassifier\n",
    "# Best ROC AUC :  0.8345389123375059\n",
    "# Best Params :  {'clf__n_estimators': 8, 'clf__min_samples_split': 0.5, 'clf__min_samples_leaf': 0.1, 'clf__max_features': 3, 'clf__max_depth': 16.0}\n",
    "# Mean Fit Time:  2.4474071407318116\n",
    "# Mean Score Time:  0.020083580017089844\n",
    "# Cross Validation Time :  65.13263440132141\n",
    "# Prediction Accuracy :  0.7032554018520636\n",
    "\n",
    "\n",
    "pipe5 = Pipeline([['preprocessor', preprocessor], \n",
    "                  ['rs', RobustScaler()],\n",
    "                  ['smt', smt],\n",
    "                  ['clf', clf5]])\n",
    "\n",
    "model_params = {\n",
    "    # \"multinomialnb\": {\n",
    "    #     \"model\": pipe1,\n",
    "    #     \"params\": {\n",
    "    #         \"clf__alpha\": [0.0001, 0.001, 0.01, 0.1, 1.0]\n",
    "    #     }\n",
    "    # },\n",
    "    # \"kneighborsClassifier\": {\n",
    "    #     \"model\": pipe2,\n",
    "    #     \"params\": {\n",
    "    #         \"clf__n_neighbors\": np.arange(5,51),\n",
    "    #         \"clf__weights\": [\"uniform\", \"distance\"]\n",
    "    #     }\n",
    "    # },\n",
    "    # \"randomforestclassifier\": {\n",
    "    #     \"model\": pipe3,\n",
    "    #     \"params\": {\n",
    "    #         \"clf__n_estimators\": [200, 400, 600, 800, 1000, 1200, 1400, 1600, 1800, 2000],\n",
    "    #         # \"clf__criterion\": ['gini','entropy'],\n",
    "    #         \"clf__max_features\": ['auto', 'sqrt'],\n",
    "    #         \"clf__min_samples_split\": [2, 5, 10],\n",
    "    #         \"clf__min_samples_leaf\": [1, 2, 4],\n",
    "    #         \"clf__bootstrap\": [True, False]\n",
    "    #     }\n",
    "    # },\n",
    "    # \"gradientboostingclassifier\": {\n",
    "    #     \"model\": pipe4,\n",
    "    #     \"params\": {\n",
    "    #         # \"clf__loss\": ['deviance', 'exponential'],\n",
    "    #         \"clf__n_estimators\": [1, 2, 4, 8, 16, 32, 64, 100, 200],\n",
    "    #         \"clf__max_depth\": np.linspace(1, 32, 32, endpoint=True),\n",
    "    #         \"clf__min_samples_split\": np.linspace(0.1, 1.0, 10, endpoint=True),\n",
    "    #         \"clf__min_samples_leaf\": np.linspace(0.1, 0.5, 5, endpoint=True),\n",
    "    #         \"clf__max_features\": list(range(1,X.shape[1]))\n",
    "    #     }\n",
    "    # }\n",
    "}\n",
    "\n",
    "\n",
    "# 10 Fold Cross Validation Scores:\n",
    "\n",
    "scores = []\n",
    "\n",
    "for model_name, mp in model_params.items():\n",
    "    start = time.time()\n",
    "    # clf = GridSearchCV(estimator = mp[\"model\"], param_grid=mp[\"params\"], cv=3, scoring=\"roc_auc\", n_jobs=-1)\n",
    "    clf = RandomizedSearchCV(estimator = mp[\"model\"], param_distributions=mp[\"params\"], cv=10, scoring=\"roc_auc\", n_jobs=-1)\n",
    "    clf.fit(X, y)\n",
    "    elapsed_time = (time.time() - start)\n",
    "\n",
    "    scores.append({\"Model\": model_name,\n",
    "    \"Best ROC AUC\": clf.best_score_, # Mean cross-validated score of the best_estimator\n",
    "    \"Best Params\": clf.best_params_,\n",
    "    \"results\": clf.cv_results_,\n",
    "    \"Cross Validation Time\": elapsed_time,\n",
    "    \"Best Estimator\": clf.best_estimator_\n",
    "    })"
   ]
  },
  {
   "cell_type": "code",
   "execution_count": 29,
   "metadata": {
    "tags": []
   },
   "outputs": [
    {
     "output_type": "stream",
     "name": "stdout",
     "text": "10 Fold Cross Validation Scores:\n"
    }
   ],
   "source": [
    "# Although not pretty, it's quick and easy to read\n",
    "print('10 Fold Cross Validation Scores:')\n",
    "\n",
    "for model in scores:\n",
    "    print()\n",
    "    for key, value in model.items():\n",
    "        if key == 'Best Estimator':\n",
    "            print(\"Prediction Accuracy\",': ',value.score(X, y))\n",
    "        elif key == 'results':\n",
    "            print('Mean Fit Time: ', value['mean_fit_time'].mean())\n",
    "            print('Mean Score Time: ', value['mean_score_time'].mean())\n",
    "        else:\n",
    "            print(key,': ',value)"
   ]
  },
  {
   "cell_type": "markdown",
   "metadata": {},
   "source": []
  },
  {
   "cell_type": "markdown",
   "metadata": {},
   "source": [
    "# Modeling and Evaluation 4 (10 Points)\n",
    "\n",
    "\n",
    "Analyze the results using your chosen method of evaluation. Use visualizations of the results to bolster the analysis. Explain any visuals and analyze why they are interesting to someone that might use this model.\n",
    "\n"
   ]
  },
  {
   "cell_type": "markdown",
   "metadata": {},
   "source": [
    "# Modeling and Evaluation 5 (10 Points)\n",
    "\n",
    "\n",
    "Discuss the advantages of each model for each classification task, if any. If there are not advantages, explain why. Is any model better than another? Is the difference significant with 95% confidence? Use proper statistical comparison methods. You must use statistical comparison techniques—be sure they are appropriate for your chosen method of validation as discussed in unit 7 of the course.\n",
    "\n",
    "\n"
   ]
  },
  {
   "cell_type": "markdown",
   "metadata": {},
   "source": [
    "# Modeling and Evaluation 6 (10 Points)\n",
    "\n",
    "\n",
    "Which attributes from your analysis are most important? Use proper methods discussed in class to evaluate the importance of different attributes. Discuss the results and hypothesize about why certain attributes are more important than others for a given classification task.\n"
   ]
  },
  {
   "cell_type": "markdown",
   "metadata": {},
   "source": [
    "# Deployment (5 Points)\n",
    "\n",
    "\n",
    "How useful is your model for interested parties (i.e., the companies or organizations that might want to use it for prediction)? How would you measure the model's value if it was used by these parties? How would your deploy your model for interested parties? What other data should be collected? How often would the model need to be updated, etc.? \n"
   ]
  },
  {
   "cell_type": "markdown",
   "metadata": {},
   "source": [
    "# Exceptional Work (10 points)\n",
    "\n",
    "\n",
    "You have free reign to provide additional analyses. One idea: grid search parameters in a parallelized fashion and visualize the performances across attributes. Which parameters are most significant for making a good model for each classification algorithm?\n"
   ]
  },
  {
   "cell_type": "code",
   "execution_count": 30,
   "metadata": {},
   "outputs": [],
   "source": [
    "X_train, X_test, y_train, y_test =\\\n",
    "    train_test_split(X, y,\n",
    "    test_size=0.2,\n",
    "    random_state=1,\n",
    "    stratify=y)\n",
    "\n",
    "numeric_features = ['age', 'cholesterol', 'bp', 'bmiGrp', 'gluc']\n",
    "categorical_features = ['gender', 'cardio', 'alco', 'active']\n",
    "\n",
    "numeric_transformer = Pipeline(steps=[\n",
    "    ('imputer', SimpleImputer(missing_values=np.nan, strategy=\"median\"))])\n",
    "\n",
    "categorical_transformer = Pipeline(steps=[\n",
    "    ('imputer', SimpleImputer(missing_values=np.nan, strategy=\"median\")),\n",
    "    ('onehot', OneHotEncoder(handle_unknown='ignore'))])\n",
    "\n",
    "preprocessor = ColumnTransformer(\n",
    "    transformers=[\n",
    "        ('num', numeric_transformer, numeric_features),\n",
    "        ('cat', categorical_transformer, categorical_features)])\n",
    "\n",
    "nb = MultinomialNB(alpha=1.0)\n",
    "knn = KNeighborsClassifier(n_neighbors=38)\n",
    "rf = RandomForestClassifier(random_state=1, n_estimators=200, min_samples_split=10, min_samples_leaf=4, max_features='sqrt', bootstrap=True)\n",
    "gb = GradientBoostingClassifier(random_state=1, n_estimators=8, min_samples_split=0.5, min_samples_leaf=0.1, max_features=3, max_depth=16.0)\n",
    "logreg = LogisticRegression(random_state=1)\n",
    "\n",
    "pipe1 = Pipeline([['preprocessor', preprocessor], \n",
    "                 ['rs', RobustScaler()],\n",
    "                 ['smt', smt],\n",
    "                 ['classifer', logreg]])\n",
    "\n",
    "fit = pipe1.fit(X_train, y_train)"
   ]
  },
  {
   "cell_type": "code",
   "execution_count": 31,
   "metadata": {
    "tags": []
   },
   "outputs": [
    {
     "output_type": "stream",
     "name": "stdout",
     "text": "precision    recall  f1-score   support\n\n  non-smoker       0.99      0.68      0.81     12762\n      smoker       0.22      0.91      0.35      1234\n\n    accuracy                           0.70     13996\n   macro avg       0.60      0.80      0.58     13996\nweighted avg       0.92      0.70      0.77     13996\n\n"
    },
    {
     "output_type": "display_data",
     "data": {
      "text/plain": "<Figure size 1440x360 with 3 Axes>",
      "image/svg+xml": "<?xml version=\"1.0\" encoding=\"utf-8\" standalone=\"no\"?>\r\n<!DOCTYPE svg PUBLIC \"-//W3C//DTD SVG 1.1//EN\"\r\n  \"http://www.w3.org/Graphics/SVG/1.1/DTD/svg11.dtd\">\r\n<!-- Created with matplotlib (https://matplotlib.org/) -->\r\n<svg height=\"331.674375pt\" version=\"1.1\" viewBox=\"0 0 1023.422443 331.674375\" width=\"1023.422443pt\" xmlns=\"http://www.w3.org/2000/svg\" xmlns:xlink=\"http://www.w3.org/1999/xlink\">\r\n <defs>\r\n  <style type=\"text/css\">\r\n*{stroke-linecap:butt;stroke-linejoin:round;}\r\n  </style>\r\n </defs>\r\n <g id=\"figure_1\">\r\n  <g id=\"patch_1\">\r\n   <path d=\"M 0 331.674375 \r\nL 1023.422443 331.674375 \r\nL 1023.422443 0 \r\nL 0 0 \r\nz\r\n\" style=\"fill:none;\"/>\r\n  </g>\r\n  <g id=\"axes_1\">\r\n   <g id=\"patch_2\">\r\n    <path d=\"M 34.240625 294.118125 \r\nL 306.040625 294.118125 \r\nL 306.040625 22.318125 \r\nL 34.240625 22.318125 \r\nz\r\n\" style=\"fill:#ffffff;\"/>\r\n   </g>\r\n   <g clip-path=\"url(#p46ead0c9d3)\">\r\n    <image height=\"272\" id=\"imagefb3e77f2a9\" transform=\"scale(1 -1)translate(0 -272)\" width=\"272\" x=\"34.240625\" xlink:href=\"data:image/png;base64,\r\niVBORw0KGgoAAAANSUhEUgAAARAAAAEQCAYAAAB4CisVAAAABHNCSVQICAgIfAhkiAAAA3RJREFUeJzt1jERwlAABUHCpEEBXqiREBHUuEsZB6jABiigueZ/ZnYVvOrmLfdl+5zgh/39Gj2BiZ1HDwD+l4AAmYAAmYAAmYAAmYAAmYAAmYAAmYAAmYAAmYAAmYAAmYAAmYAAmYAAmYAAmYAAmYAAmYAAmYAAmYAAmYAAmYAAmYAAmYAAmYAAmYAAmYAAmYAAmYAAmYAAmYAAmYAAmYAAmYAAmYAAmYAAmYAAmYAAmYAAmYAAmYAAmYAAmYAAmYAAmYAAmYAAmYAAmYAAmYAAmYAAmYAAmYAAmYAAmYAAmYAAmYAAmYAAmYAAmYAAmYAAmYAAmYAAmYAAmYAAmYAAmYAAmYAAmYAAmYAAmYAAmYAAmYAAmYAAmYAAmYAAmYAAmYAAmYAAmYAAmYAAmYAAmYAAmYAAmYAAmYAAmYAAmYAAmYAAmYAAmYAAmYAAmYAAmYAAmYAAmYAAmYAAmYAAmYAAmYAAmYAAmYAAmYAAmYAAmYAAmYAAmYAAmYAAmYAAmYAAmYAAmYAAmYAAmYAAmYAAmYAAmYAAmYAAmYAAmYAAmYAAmYAAmYAAmYAAmYAAmYAAmYAAmYAAmYAAmYAAmYAAmYAAmYAAmYAAmYAA2Xo5rqM3MLHb8zF6AhPzQIBMQIBMQIBMQIBMQIBMQIBMQIBMQIBMQIBMQIBMQIBMQIBMQIBMQIBMQIBMQIBMQIBMQIBMQIBMQIBMQIBMQIBMQIBMQIBMQIBMQIBMQIBMQIBMQIBMQIBMQIBMQIBMQIBMQIBMQIBMQIBMQIBMQIBMQIBMQIBMQIBMQIBMQIBMQIBMQIBMQIBMQIBMQIBMQIBMQIBMQIBMQIBMQIBMQIBMQIBMQIBMQIBMQIBMQIBMQIBMQIBMQIBMQIBMQIBMQIBMQIBMQIBMQIBMQIBMQIBMQIBMQIBMQIBMQIBMQIBMQIBMQIBMQIBMQIBMQIBMQIBMQIBMQIBMQIBMQIBMQIBMQIBMQIBMQIBMQIBMQIBMQIBMQIBMQIBMQIBMQIBMQIBMQIBMQIBMQIBMQIBMQIBMQIBMQIBMQIBMQIBMQIBMQIBMQIBMQIBMQIBMQIBMQIBMQIBMQIBMQIBMQIBMQIBMQIBMQIBMQIBMQIBMQIBMQIBMQIBMQIBMQIBMQIBMQIBMQIBMQIBMQIBMQIBMQIBMQIDsC5mPCB5cgFFZAAAAAElFTkSuQmCC\" y=\"-22.118125\"/>\r\n   </g>\r\n   <g id=\"matplotlib.axis_1\">\r\n    <g id=\"xtick_1\">\r\n     <g id=\"line2d_1\">\r\n      <defs>\r\n       <path d=\"M 0 0 \r\nL 0 3.5 \r\n\" id=\"me3b09d74bd\" style=\"stroke:#000000;stroke-width:0.8;\"/>\r\n      </defs>\r\n      <g>\r\n       <use style=\"stroke:#000000;stroke-width:0.8;\" x=\"102.190625\" xlink:href=\"#me3b09d74bd\" y=\"294.118125\"/>\r\n      </g>\r\n     </g>\r\n     <g id=\"text_1\">\r\n      <!-- 0 -->\r\n      <defs>\r\n       <path d=\"M 31.78125 66.40625 \r\nQ 24.171875 66.40625 20.328125 58.90625 \r\nQ 16.5 51.421875 16.5 36.375 \r\nQ 16.5 21.390625 20.328125 13.890625 \r\nQ 24.171875 6.390625 31.78125 6.390625 \r\nQ 39.453125 6.390625 43.28125 13.890625 \r\nQ 47.125 21.390625 47.125 36.375 \r\nQ 47.125 51.421875 43.28125 58.90625 \r\nQ 39.453125 66.40625 31.78125 66.40625 \r\nz\r\nM 31.78125 74.21875 \r\nQ 44.046875 74.21875 50.515625 64.515625 \r\nQ 56.984375 54.828125 56.984375 36.375 \r\nQ 56.984375 17.96875 50.515625 8.265625 \r\nQ 44.046875 -1.421875 31.78125 -1.421875 \r\nQ 19.53125 -1.421875 13.0625 8.265625 \r\nQ 6.59375 17.96875 6.59375 36.375 \r\nQ 6.59375 54.828125 13.0625 64.515625 \r\nQ 19.53125 74.21875 31.78125 74.21875 \r\nz\r\n\" id=\"DejaVuSans-48\"/>\r\n      </defs>\r\n      <g transform=\"translate(99.009375 308.716563)scale(0.1 -0.1)\">\r\n       <use xlink:href=\"#DejaVuSans-48\"/>\r\n      </g>\r\n     </g>\r\n    </g>\r\n    <g id=\"xtick_2\">\r\n     <g id=\"line2d_2\">\r\n      <g>\r\n       <use style=\"stroke:#000000;stroke-width:0.8;\" x=\"238.090625\" xlink:href=\"#me3b09d74bd\" y=\"294.118125\"/>\r\n      </g>\r\n     </g>\r\n     <g id=\"text_2\">\r\n      <!-- 1 -->\r\n      <defs>\r\n       <path d=\"M 12.40625 8.296875 \r\nL 28.515625 8.296875 \r\nL 28.515625 63.921875 \r\nL 10.984375 60.40625 \r\nL 10.984375 69.390625 \r\nL 28.421875 72.90625 \r\nL 38.28125 72.90625 \r\nL 38.28125 8.296875 \r\nL 54.390625 8.296875 \r\nL 54.390625 0 \r\nL 12.40625 0 \r\nz\r\n\" id=\"DejaVuSans-49\"/>\r\n      </defs>\r\n      <g transform=\"translate(234.909375 308.716563)scale(0.1 -0.1)\">\r\n       <use xlink:href=\"#DejaVuSans-49\"/>\r\n      </g>\r\n     </g>\r\n    </g>\r\n    <g id=\"text_3\">\r\n     <!-- Predicted label -->\r\n     <defs>\r\n      <path d=\"M 19.671875 64.796875 \r\nL 19.671875 37.40625 \r\nL 32.078125 37.40625 \r\nQ 38.96875 37.40625 42.71875 40.96875 \r\nQ 46.484375 44.53125 46.484375 51.125 \r\nQ 46.484375 57.671875 42.71875 61.234375 \r\nQ 38.96875 64.796875 32.078125 64.796875 \r\nz\r\nM 9.8125 72.90625 \r\nL 32.078125 72.90625 \r\nQ 44.34375 72.90625 50.609375 67.359375 \r\nQ 56.890625 61.8125 56.890625 51.125 \r\nQ 56.890625 40.328125 50.609375 34.8125 \r\nQ 44.34375 29.296875 32.078125 29.296875 \r\nL 19.671875 29.296875 \r\nL 19.671875 0 \r\nL 9.8125 0 \r\nz\r\n\" id=\"DejaVuSans-80\"/>\r\n      <path d=\"M 41.109375 46.296875 \r\nQ 39.59375 47.171875 37.8125 47.578125 \r\nQ 36.03125 48 33.890625 48 \r\nQ 26.265625 48 22.1875 43.046875 \r\nQ 18.109375 38.09375 18.109375 28.8125 \r\nL 18.109375 0 \r\nL 9.078125 0 \r\nL 9.078125 54.6875 \r\nL 18.109375 54.6875 \r\nL 18.109375 46.1875 \r\nQ 20.953125 51.171875 25.484375 53.578125 \r\nQ 30.03125 56 36.53125 56 \r\nQ 37.453125 56 38.578125 55.875 \r\nQ 39.703125 55.765625 41.0625 55.515625 \r\nz\r\n\" id=\"DejaVuSans-114\"/>\r\n      <path d=\"M 56.203125 29.59375 \r\nL 56.203125 25.203125 \r\nL 14.890625 25.203125 \r\nQ 15.484375 15.921875 20.484375 11.0625 \r\nQ 25.484375 6.203125 34.421875 6.203125 \r\nQ 39.59375 6.203125 44.453125 7.46875 \r\nQ 49.3125 8.734375 54.109375 11.28125 \r\nL 54.109375 2.78125 \r\nQ 49.265625 0.734375 44.1875 -0.34375 \r\nQ 39.109375 -1.421875 33.890625 -1.421875 \r\nQ 20.796875 -1.421875 13.15625 6.1875 \r\nQ 5.515625 13.8125 5.515625 26.8125 \r\nQ 5.515625 40.234375 12.765625 48.109375 \r\nQ 20.015625 56 32.328125 56 \r\nQ 43.359375 56 49.78125 48.890625 \r\nQ 56.203125 41.796875 56.203125 29.59375 \r\nz\r\nM 47.21875 32.234375 \r\nQ 47.125 39.59375 43.09375 43.984375 \r\nQ 39.0625 48.390625 32.421875 48.390625 \r\nQ 24.90625 48.390625 20.390625 44.140625 \r\nQ 15.875 39.890625 15.1875 32.171875 \r\nz\r\n\" id=\"DejaVuSans-101\"/>\r\n      <path d=\"M 45.40625 46.390625 \r\nL 45.40625 75.984375 \r\nL 54.390625 75.984375 \r\nL 54.390625 0 \r\nL 45.40625 0 \r\nL 45.40625 8.203125 \r\nQ 42.578125 3.328125 38.25 0.953125 \r\nQ 33.9375 -1.421875 27.875 -1.421875 \r\nQ 17.96875 -1.421875 11.734375 6.484375 \r\nQ 5.515625 14.40625 5.515625 27.296875 \r\nQ 5.515625 40.1875 11.734375 48.09375 \r\nQ 17.96875 56 27.875 56 \r\nQ 33.9375 56 38.25 53.625 \r\nQ 42.578125 51.265625 45.40625 46.390625 \r\nz\r\nM 14.796875 27.296875 \r\nQ 14.796875 17.390625 18.875 11.75 \r\nQ 22.953125 6.109375 30.078125 6.109375 \r\nQ 37.203125 6.109375 41.296875 11.75 \r\nQ 45.40625 17.390625 45.40625 27.296875 \r\nQ 45.40625 37.203125 41.296875 42.84375 \r\nQ 37.203125 48.484375 30.078125 48.484375 \r\nQ 22.953125 48.484375 18.875 42.84375 \r\nQ 14.796875 37.203125 14.796875 27.296875 \r\nz\r\n\" id=\"DejaVuSans-100\"/>\r\n      <path d=\"M 9.421875 54.6875 \r\nL 18.40625 54.6875 \r\nL 18.40625 0 \r\nL 9.421875 0 \r\nz\r\nM 9.421875 75.984375 \r\nL 18.40625 75.984375 \r\nL 18.40625 64.59375 \r\nL 9.421875 64.59375 \r\nz\r\n\" id=\"DejaVuSans-105\"/>\r\n      <path d=\"M 48.78125 52.59375 \r\nL 48.78125 44.1875 \r\nQ 44.96875 46.296875 41.140625 47.34375 \r\nQ 37.3125 48.390625 33.40625 48.390625 \r\nQ 24.65625 48.390625 19.8125 42.84375 \r\nQ 14.984375 37.3125 14.984375 27.296875 \r\nQ 14.984375 17.28125 19.8125 11.734375 \r\nQ 24.65625 6.203125 33.40625 6.203125 \r\nQ 37.3125 6.203125 41.140625 7.25 \r\nQ 44.96875 8.296875 48.78125 10.40625 \r\nL 48.78125 2.09375 \r\nQ 45.015625 0.34375 40.984375 -0.53125 \r\nQ 36.96875 -1.421875 32.421875 -1.421875 \r\nQ 20.0625 -1.421875 12.78125 6.34375 \r\nQ 5.515625 14.109375 5.515625 27.296875 \r\nQ 5.515625 40.671875 12.859375 48.328125 \r\nQ 20.21875 56 33.015625 56 \r\nQ 37.15625 56 41.109375 55.140625 \r\nQ 45.0625 54.296875 48.78125 52.59375 \r\nz\r\n\" id=\"DejaVuSans-99\"/>\r\n      <path d=\"M 18.3125 70.21875 \r\nL 18.3125 54.6875 \r\nL 36.8125 54.6875 \r\nL 36.8125 47.703125 \r\nL 18.3125 47.703125 \r\nL 18.3125 18.015625 \r\nQ 18.3125 11.328125 20.140625 9.421875 \r\nQ 21.96875 7.515625 27.59375 7.515625 \r\nL 36.8125 7.515625 \r\nL 36.8125 0 \r\nL 27.59375 0 \r\nQ 17.1875 0 13.234375 3.875 \r\nQ 9.28125 7.765625 9.28125 18.015625 \r\nL 9.28125 47.703125 \r\nL 2.6875 47.703125 \r\nL 2.6875 54.6875 \r\nL 9.28125 54.6875 \r\nL 9.28125 70.21875 \r\nz\r\n\" id=\"DejaVuSans-116\"/>\r\n      <path id=\"DejaVuSans-32\"/>\r\n      <path d=\"M 9.421875 75.984375 \r\nL 18.40625 75.984375 \r\nL 18.40625 0 \r\nL 9.421875 0 \r\nz\r\n\" id=\"DejaVuSans-108\"/>\r\n      <path d=\"M 34.28125 27.484375 \r\nQ 23.390625 27.484375 19.1875 25 \r\nQ 14.984375 22.515625 14.984375 16.5 \r\nQ 14.984375 11.71875 18.140625 8.90625 \r\nQ 21.296875 6.109375 26.703125 6.109375 \r\nQ 34.1875 6.109375 38.703125 11.40625 \r\nQ 43.21875 16.703125 43.21875 25.484375 \r\nL 43.21875 27.484375 \r\nz\r\nM 52.203125 31.203125 \r\nL 52.203125 0 \r\nL 43.21875 0 \r\nL 43.21875 8.296875 \r\nQ 40.140625 3.328125 35.546875 0.953125 \r\nQ 30.953125 -1.421875 24.3125 -1.421875 \r\nQ 15.921875 -1.421875 10.953125 3.296875 \r\nQ 6 8.015625 6 15.921875 \r\nQ 6 25.140625 12.171875 29.828125 \r\nQ 18.359375 34.515625 30.609375 34.515625 \r\nL 43.21875 34.515625 \r\nL 43.21875 35.40625 \r\nQ 43.21875 41.609375 39.140625 45 \r\nQ 35.0625 48.390625 27.6875 48.390625 \r\nQ 23 48.390625 18.546875 47.265625 \r\nQ 14.109375 46.140625 10.015625 43.890625 \r\nL 10.015625 52.203125 \r\nQ 14.9375 54.109375 19.578125 55.046875 \r\nQ 24.21875 56 28.609375 56 \r\nQ 40.484375 56 46.34375 49.84375 \r\nQ 52.203125 43.703125 52.203125 31.203125 \r\nz\r\n\" id=\"DejaVuSans-97\"/>\r\n      <path d=\"M 48.6875 27.296875 \r\nQ 48.6875 37.203125 44.609375 42.84375 \r\nQ 40.53125 48.484375 33.40625 48.484375 \r\nQ 26.265625 48.484375 22.1875 42.84375 \r\nQ 18.109375 37.203125 18.109375 27.296875 \r\nQ 18.109375 17.390625 22.1875 11.75 \r\nQ 26.265625 6.109375 33.40625 6.109375 \r\nQ 40.53125 6.109375 44.609375 11.75 \r\nQ 48.6875 17.390625 48.6875 27.296875 \r\nz\r\nM 18.109375 46.390625 \r\nQ 20.953125 51.265625 25.265625 53.625 \r\nQ 29.59375 56 35.59375 56 \r\nQ 45.5625 56 51.78125 48.09375 \r\nQ 58.015625 40.1875 58.015625 27.296875 \r\nQ 58.015625 14.40625 51.78125 6.484375 \r\nQ 45.5625 -1.421875 35.59375 -1.421875 \r\nQ 29.59375 -1.421875 25.265625 0.953125 \r\nQ 20.953125 3.328125 18.109375 8.203125 \r\nL 18.109375 0 \r\nL 9.078125 0 \r\nL 9.078125 75.984375 \r\nL 18.109375 75.984375 \r\nz\r\n\" id=\"DejaVuSans-98\"/>\r\n     </defs>\r\n     <g transform=\"translate(132.988281 322.394687)scale(0.1 -0.1)\">\r\n      <use xlink:href=\"#DejaVuSans-80\"/>\r\n      <use x=\"58.552734\" xlink:href=\"#DejaVuSans-114\"/>\r\n      <use x=\"97.416016\" xlink:href=\"#DejaVuSans-101\"/>\r\n      <use x=\"158.939453\" xlink:href=\"#DejaVuSans-100\"/>\r\n      <use x=\"222.416016\" xlink:href=\"#DejaVuSans-105\"/>\r\n      <use x=\"250.199219\" xlink:href=\"#DejaVuSans-99\"/>\r\n      <use x=\"305.179688\" xlink:href=\"#DejaVuSans-116\"/>\r\n      <use x=\"344.388672\" xlink:href=\"#DejaVuSans-101\"/>\r\n      <use x=\"405.912109\" xlink:href=\"#DejaVuSans-100\"/>\r\n      <use x=\"469.388672\" xlink:href=\"#DejaVuSans-32\"/>\r\n      <use x=\"501.175781\" xlink:href=\"#DejaVuSans-108\"/>\r\n      <use x=\"528.958984\" xlink:href=\"#DejaVuSans-97\"/>\r\n      <use x=\"590.238281\" xlink:href=\"#DejaVuSans-98\"/>\r\n      <use x=\"653.714844\" xlink:href=\"#DejaVuSans-101\"/>\r\n      <use x=\"715.238281\" xlink:href=\"#DejaVuSans-108\"/>\r\n     </g>\r\n    </g>\r\n   </g>\r\n   <g id=\"matplotlib.axis_2\">\r\n    <g id=\"ytick_1\">\r\n     <g id=\"line2d_3\">\r\n      <defs>\r\n       <path d=\"M 0 0 \r\nL -3.5 0 \r\n\" id=\"m792619df2f\" style=\"stroke:#000000;stroke-width:0.8;\"/>\r\n      </defs>\r\n      <g>\r\n       <use style=\"stroke:#000000;stroke-width:0.8;\" x=\"34.240625\" xlink:href=\"#m792619df2f\" y=\"90.268125\"/>\r\n      </g>\r\n     </g>\r\n     <g id=\"text_4\">\r\n      <!-- 0 -->\r\n      <g transform=\"translate(20.878125 94.067344)scale(0.1 -0.1)\">\r\n       <use xlink:href=\"#DejaVuSans-48\"/>\r\n      </g>\r\n     </g>\r\n    </g>\r\n    <g id=\"ytick_2\">\r\n     <g id=\"line2d_4\">\r\n      <g>\r\n       <use style=\"stroke:#000000;stroke-width:0.8;\" x=\"34.240625\" xlink:href=\"#m792619df2f\" y=\"226.168125\"/>\r\n      </g>\r\n     </g>\r\n     <g id=\"text_5\">\r\n      <!-- 1 -->\r\n      <g transform=\"translate(20.878125 229.967344)scale(0.1 -0.1)\">\r\n       <use xlink:href=\"#DejaVuSans-49\"/>\r\n      </g>\r\n     </g>\r\n    </g>\r\n    <g id=\"text_6\">\r\n     <!-- True label -->\r\n     <defs>\r\n      <path d=\"M -0.296875 72.90625 \r\nL 61.375 72.90625 \r\nL 61.375 64.59375 \r\nL 35.5 64.59375 \r\nL 35.5 0 \r\nL 25.59375 0 \r\nL 25.59375 64.59375 \r\nL -0.296875 64.59375 \r\nz\r\n\" id=\"DejaVuSans-84\"/>\r\n      <path d=\"M 8.5 21.578125 \r\nL 8.5 54.6875 \r\nL 17.484375 54.6875 \r\nL 17.484375 21.921875 \r\nQ 17.484375 14.15625 20.5 10.265625 \r\nQ 23.53125 6.390625 29.59375 6.390625 \r\nQ 36.859375 6.390625 41.078125 11.03125 \r\nQ 45.3125 15.671875 45.3125 23.6875 \r\nL 45.3125 54.6875 \r\nL 54.296875 54.6875 \r\nL 54.296875 0 \r\nL 45.3125 0 \r\nL 45.3125 8.40625 \r\nQ 42.046875 3.421875 37.71875 1 \r\nQ 33.40625 -1.421875 27.6875 -1.421875 \r\nQ 18.265625 -1.421875 13.375 4.4375 \r\nQ 8.5 10.296875 8.5 21.578125 \r\nz\r\nM 31.109375 56 \r\nz\r\n\" id=\"DejaVuSans-117\"/>\r\n     </defs>\r\n     <g transform=\"translate(14.798438 182.517344)rotate(-90)scale(0.1 -0.1)\">\r\n      <use xlink:href=\"#DejaVuSans-84\"/>\r\n      <use x=\"46.333984\" xlink:href=\"#DejaVuSans-114\"/>\r\n      <use x=\"87.447266\" xlink:href=\"#DejaVuSans-117\"/>\r\n      <use x=\"150.826172\" xlink:href=\"#DejaVuSans-101\"/>\r\n      <use x=\"212.349609\" xlink:href=\"#DejaVuSans-32\"/>\r\n      <use x=\"244.136719\" xlink:href=\"#DejaVuSans-108\"/>\r\n      <use x=\"271.919922\" xlink:href=\"#DejaVuSans-97\"/>\r\n      <use x=\"333.199219\" xlink:href=\"#DejaVuSans-98\"/>\r\n      <use x=\"396.675781\" xlink:href=\"#DejaVuSans-101\"/>\r\n      <use x=\"458.199219\" xlink:href=\"#DejaVuSans-108\"/>\r\n     </g>\r\n    </g>\r\n   </g>\r\n   <g id=\"patch_3\">\r\n    <path d=\"M 34.240625 294.118125 \r\nL 34.240625 22.318125 \r\n\" style=\"fill:none;stroke:#000000;stroke-linecap:square;stroke-linejoin:miter;stroke-width:0.8;\"/>\r\n   </g>\r\n   <g id=\"patch_4\">\r\n    <path d=\"M 306.040625 294.118125 \r\nL 306.040625 22.318125 \r\n\" style=\"fill:none;stroke:#000000;stroke-linecap:square;stroke-linejoin:miter;stroke-width:0.8;\"/>\r\n   </g>\r\n   <g id=\"patch_5\">\r\n    <path d=\"M 34.240625 294.118125 \r\nL 306.040625 294.118125 \r\n\" style=\"fill:none;stroke:#000000;stroke-linecap:square;stroke-linejoin:miter;stroke-width:0.8;\"/>\r\n   </g>\r\n   <g id=\"patch_6\">\r\n    <path d=\"M 34.240625 22.318125 \r\nL 306.040625 22.318125 \r\n\" style=\"fill:none;stroke:#000000;stroke-linecap:square;stroke-linejoin:miter;stroke-width:0.8;\"/>\r\n   </g>\r\n   <g id=\"text_7\">\r\n    <!-- 0.68 -->\r\n    <defs>\r\n     <path d=\"M 10.6875 12.40625 \r\nL 21 12.40625 \r\nL 21 0 \r\nL 10.6875 0 \r\nz\r\n\" id=\"DejaVuSans-46\"/>\r\n     <path d=\"M 33.015625 40.375 \r\nQ 26.375 40.375 22.484375 35.828125 \r\nQ 18.609375 31.296875 18.609375 23.390625 \r\nQ 18.609375 15.53125 22.484375 10.953125 \r\nQ 26.375 6.390625 33.015625 6.390625 \r\nQ 39.65625 6.390625 43.53125 10.953125 \r\nQ 47.40625 15.53125 47.40625 23.390625 \r\nQ 47.40625 31.296875 43.53125 35.828125 \r\nQ 39.65625 40.375 33.015625 40.375 \r\nz\r\nM 52.59375 71.296875 \r\nL 52.59375 62.3125 \r\nQ 48.875 64.0625 45.09375 64.984375 \r\nQ 41.3125 65.921875 37.59375 65.921875 \r\nQ 27.828125 65.921875 22.671875 59.328125 \r\nQ 17.53125 52.734375 16.796875 39.40625 \r\nQ 19.671875 43.65625 24.015625 45.921875 \r\nQ 28.375 48.1875 33.59375 48.1875 \r\nQ 44.578125 48.1875 50.953125 41.515625 \r\nQ 57.328125 34.859375 57.328125 23.390625 \r\nQ 57.328125 12.15625 50.6875 5.359375 \r\nQ 44.046875 -1.421875 33.015625 -1.421875 \r\nQ 20.359375 -1.421875 13.671875 8.265625 \r\nQ 6.984375 17.96875 6.984375 36.375 \r\nQ 6.984375 53.65625 15.1875 63.9375 \r\nQ 23.390625 74.21875 37.203125 74.21875 \r\nQ 40.921875 74.21875 44.703125 73.484375 \r\nQ 48.484375 72.75 52.59375 71.296875 \r\nz\r\n\" id=\"DejaVuSans-54\"/>\r\n     <path d=\"M 31.78125 34.625 \r\nQ 24.75 34.625 20.71875 30.859375 \r\nQ 16.703125 27.09375 16.703125 20.515625 \r\nQ 16.703125 13.921875 20.71875 10.15625 \r\nQ 24.75 6.390625 31.78125 6.390625 \r\nQ 38.8125 6.390625 42.859375 10.171875 \r\nQ 46.921875 13.96875 46.921875 20.515625 \r\nQ 46.921875 27.09375 42.890625 30.859375 \r\nQ 38.875 34.625 31.78125 34.625 \r\nz\r\nM 21.921875 38.8125 \r\nQ 15.578125 40.375 12.03125 44.71875 \r\nQ 8.5 49.078125 8.5 55.328125 \r\nQ 8.5 64.0625 14.71875 69.140625 \r\nQ 20.953125 74.21875 31.78125 74.21875 \r\nQ 42.671875 74.21875 48.875 69.140625 \r\nQ 55.078125 64.0625 55.078125 55.328125 \r\nQ 55.078125 49.078125 51.53125 44.71875 \r\nQ 48 40.375 41.703125 38.8125 \r\nQ 48.828125 37.15625 52.796875 32.3125 \r\nQ 56.78125 27.484375 56.78125 20.515625 \r\nQ 56.78125 9.90625 50.3125 4.234375 \r\nQ 43.84375 -1.421875 31.78125 -1.421875 \r\nQ 19.734375 -1.421875 13.25 4.234375 \r\nQ 6.78125 9.90625 6.78125 20.515625 \r\nQ 6.78125 27.484375 10.78125 32.3125 \r\nQ 14.796875 37.15625 21.921875 38.8125 \r\nz\r\nM 18.3125 54.390625 \r\nQ 18.3125 48.734375 21.84375 45.5625 \r\nQ 25.390625 42.390625 31.78125 42.390625 \r\nQ 38.140625 42.390625 41.71875 45.5625 \r\nQ 45.3125 48.734375 45.3125 54.390625 \r\nQ 45.3125 60.0625 41.71875 63.234375 \r\nQ 38.140625 66.40625 31.78125 66.40625 \r\nQ 25.390625 66.40625 21.84375 63.234375 \r\nQ 18.3125 60.0625 18.3125 54.390625 \r\nz\r\n\" id=\"DejaVuSans-56\"/>\r\n    </defs>\r\n    <g style=\"fill:#440154;\" transform=\"translate(91.057813 93.0275)scale(0.1 -0.1)\">\r\n     <use xlink:href=\"#DejaVuSans-48\"/>\r\n     <use x=\"63.623047\" xlink:href=\"#DejaVuSans-46\"/>\r\n     <use x=\"95.410156\" xlink:href=\"#DejaVuSans-54\"/>\r\n     <use x=\"159.033203\" xlink:href=\"#DejaVuSans-56\"/>\r\n    </g>\r\n   </g>\r\n   <g id=\"text_8\">\r\n    <!-- 0.32 -->\r\n    <defs>\r\n     <path d=\"M 40.578125 39.3125 \r\nQ 47.65625 37.796875 51.625 33 \r\nQ 55.609375 28.21875 55.609375 21.1875 \r\nQ 55.609375 10.40625 48.1875 4.484375 \r\nQ 40.765625 -1.421875 27.09375 -1.421875 \r\nQ 22.515625 -1.421875 17.65625 -0.515625 \r\nQ 12.796875 0.390625 7.625 2.203125 \r\nL 7.625 11.71875 \r\nQ 11.71875 9.328125 16.59375 8.109375 \r\nQ 21.484375 6.890625 26.8125 6.890625 \r\nQ 36.078125 6.890625 40.9375 10.546875 \r\nQ 45.796875 14.203125 45.796875 21.1875 \r\nQ 45.796875 27.640625 41.28125 31.265625 \r\nQ 36.765625 34.90625 28.71875 34.90625 \r\nL 20.21875 34.90625 \r\nL 20.21875 43.015625 \r\nL 29.109375 43.015625 \r\nQ 36.375 43.015625 40.234375 45.921875 \r\nQ 44.09375 48.828125 44.09375 54.296875 \r\nQ 44.09375 59.90625 40.109375 62.90625 \r\nQ 36.140625 65.921875 28.71875 65.921875 \r\nQ 24.65625 65.921875 20.015625 65.03125 \r\nQ 15.375 64.15625 9.8125 62.3125 \r\nL 9.8125 71.09375 \r\nQ 15.4375 72.65625 20.34375 73.4375 \r\nQ 25.25 74.21875 29.59375 74.21875 \r\nQ 40.828125 74.21875 47.359375 69.109375 \r\nQ 53.90625 64.015625 53.90625 55.328125 \r\nQ 53.90625 49.265625 50.4375 45.09375 \r\nQ 46.96875 40.921875 40.578125 39.3125 \r\nz\r\n\" id=\"DejaVuSans-51\"/>\r\n     <path d=\"M 19.1875 8.296875 \r\nL 53.609375 8.296875 \r\nL 53.609375 0 \r\nL 7.328125 0 \r\nL 7.328125 8.296875 \r\nQ 12.9375 14.109375 22.625 23.890625 \r\nQ 32.328125 33.6875 34.8125 36.53125 \r\nQ 39.546875 41.84375 41.421875 45.53125 \r\nQ 43.3125 49.21875 43.3125 52.78125 \r\nQ 43.3125 58.59375 39.234375 62.25 \r\nQ 35.15625 65.921875 28.609375 65.921875 \r\nQ 23.96875 65.921875 18.8125 64.3125 \r\nQ 13.671875 62.703125 7.8125 59.421875 \r\nL 7.8125 69.390625 \r\nQ 13.765625 71.78125 18.9375 73 \r\nQ 24.125 74.21875 28.421875 74.21875 \r\nQ 39.75 74.21875 46.484375 68.546875 \r\nQ 53.21875 62.890625 53.21875 53.421875 \r\nQ 53.21875 48.921875 51.53125 44.890625 \r\nQ 49.859375 40.875 45.40625 35.40625 \r\nQ 44.1875 33.984375 37.640625 27.21875 \r\nQ 31.109375 20.453125 19.1875 8.296875 \r\nz\r\n\" id=\"DejaVuSans-50\"/>\r\n    </defs>\r\n    <g style=\"fill:#fde725;\" transform=\"translate(226.957812 93.0275)scale(0.1 -0.1)\">\r\n     <use xlink:href=\"#DejaVuSans-48\"/>\r\n     <use x=\"63.623047\" xlink:href=\"#DejaVuSans-46\"/>\r\n     <use x=\"95.410156\" xlink:href=\"#DejaVuSans-51\"/>\r\n     <use x=\"159.033203\" xlink:href=\"#DejaVuSans-50\"/>\r\n    </g>\r\n   </g>\r\n   <g id=\"text_9\">\r\n    <!-- 0.09 -->\r\n    <defs>\r\n     <path d=\"M 10.984375 1.515625 \r\nL 10.984375 10.5 \r\nQ 14.703125 8.734375 18.5 7.8125 \r\nQ 22.3125 6.890625 25.984375 6.890625 \r\nQ 35.75 6.890625 40.890625 13.453125 \r\nQ 46.046875 20.015625 46.78125 33.40625 \r\nQ 43.953125 29.203125 39.59375 26.953125 \r\nQ 35.25 24.703125 29.984375 24.703125 \r\nQ 19.046875 24.703125 12.671875 31.3125 \r\nQ 6.296875 37.9375 6.296875 49.421875 \r\nQ 6.296875 60.640625 12.9375 67.421875 \r\nQ 19.578125 74.21875 30.609375 74.21875 \r\nQ 43.265625 74.21875 49.921875 64.515625 \r\nQ 56.59375 54.828125 56.59375 36.375 \r\nQ 56.59375 19.140625 48.40625 8.859375 \r\nQ 40.234375 -1.421875 26.421875 -1.421875 \r\nQ 22.703125 -1.421875 18.890625 -0.6875 \r\nQ 15.09375 0.046875 10.984375 1.515625 \r\nz\r\nM 30.609375 32.421875 \r\nQ 37.25 32.421875 41.125 36.953125 \r\nQ 45.015625 41.5 45.015625 49.421875 \r\nQ 45.015625 57.28125 41.125 61.84375 \r\nQ 37.25 66.40625 30.609375 66.40625 \r\nQ 23.96875 66.40625 20.09375 61.84375 \r\nQ 16.21875 57.28125 16.21875 49.421875 \r\nQ 16.21875 41.5 20.09375 36.953125 \r\nQ 23.96875 32.421875 30.609375 32.421875 \r\nz\r\n\" id=\"DejaVuSans-57\"/>\r\n    </defs>\r\n    <g style=\"fill:#fde725;\" transform=\"translate(91.057813 228.9275)scale(0.1 -0.1)\">\r\n     <use xlink:href=\"#DejaVuSans-48\"/>\r\n     <use x=\"63.623047\" xlink:href=\"#DejaVuSans-46\"/>\r\n     <use x=\"95.410156\" xlink:href=\"#DejaVuSans-48\"/>\r\n     <use x=\"159.033203\" xlink:href=\"#DejaVuSans-57\"/>\r\n    </g>\r\n   </g>\r\n   <g id=\"text_10\">\r\n    <!-- 0.91 -->\r\n    <g style=\"fill:#440154;\" transform=\"translate(226.957812 228.9275)scale(0.1 -0.1)\">\r\n     <use xlink:href=\"#DejaVuSans-48\"/>\r\n     <use x=\"63.623047\" xlink:href=\"#DejaVuSans-46\"/>\r\n     <use x=\"95.410156\" xlink:href=\"#DejaVuSans-57\"/>\r\n     <use x=\"159.033203\" xlink:href=\"#DejaVuSans-49\"/>\r\n    </g>\r\n   </g>\r\n   <g id=\"text_11\">\r\n    <!-- Confusion Matrix -->\r\n    <defs>\r\n     <path d=\"M 64.40625 67.28125 \r\nL 64.40625 56.890625 \r\nQ 59.421875 61.53125 53.78125 63.8125 \r\nQ 48.140625 66.109375 41.796875 66.109375 \r\nQ 29.296875 66.109375 22.65625 58.46875 \r\nQ 16.015625 50.828125 16.015625 36.375 \r\nQ 16.015625 21.96875 22.65625 14.328125 \r\nQ 29.296875 6.6875 41.796875 6.6875 \r\nQ 48.140625 6.6875 53.78125 8.984375 \r\nQ 59.421875 11.28125 64.40625 15.921875 \r\nL 64.40625 5.609375 \r\nQ 59.234375 2.09375 53.4375 0.328125 \r\nQ 47.65625 -1.421875 41.21875 -1.421875 \r\nQ 24.65625 -1.421875 15.125 8.703125 \r\nQ 5.609375 18.84375 5.609375 36.375 \r\nQ 5.609375 53.953125 15.125 64.078125 \r\nQ 24.65625 74.21875 41.21875 74.21875 \r\nQ 47.75 74.21875 53.53125 72.484375 \r\nQ 59.328125 70.75 64.40625 67.28125 \r\nz\r\n\" id=\"DejaVuSans-67\"/>\r\n     <path d=\"M 30.609375 48.390625 \r\nQ 23.390625 48.390625 19.1875 42.75 \r\nQ 14.984375 37.109375 14.984375 27.296875 \r\nQ 14.984375 17.484375 19.15625 11.84375 \r\nQ 23.34375 6.203125 30.609375 6.203125 \r\nQ 37.796875 6.203125 41.984375 11.859375 \r\nQ 46.1875 17.53125 46.1875 27.296875 \r\nQ 46.1875 37.015625 41.984375 42.703125 \r\nQ 37.796875 48.390625 30.609375 48.390625 \r\nz\r\nM 30.609375 56 \r\nQ 42.328125 56 49.015625 48.375 \r\nQ 55.71875 40.765625 55.71875 27.296875 \r\nQ 55.71875 13.875 49.015625 6.21875 \r\nQ 42.328125 -1.421875 30.609375 -1.421875 \r\nQ 18.84375 -1.421875 12.171875 6.21875 \r\nQ 5.515625 13.875 5.515625 27.296875 \r\nQ 5.515625 40.765625 12.171875 48.375 \r\nQ 18.84375 56 30.609375 56 \r\nz\r\n\" id=\"DejaVuSans-111\"/>\r\n     <path d=\"M 54.890625 33.015625 \r\nL 54.890625 0 \r\nL 45.90625 0 \r\nL 45.90625 32.71875 \r\nQ 45.90625 40.484375 42.875 44.328125 \r\nQ 39.84375 48.1875 33.796875 48.1875 \r\nQ 26.515625 48.1875 22.3125 43.546875 \r\nQ 18.109375 38.921875 18.109375 30.90625 \r\nL 18.109375 0 \r\nL 9.078125 0 \r\nL 9.078125 54.6875 \r\nL 18.109375 54.6875 \r\nL 18.109375 46.1875 \r\nQ 21.34375 51.125 25.703125 53.5625 \r\nQ 30.078125 56 35.796875 56 \r\nQ 45.21875 56 50.046875 50.171875 \r\nQ 54.890625 44.34375 54.890625 33.015625 \r\nz\r\n\" id=\"DejaVuSans-110\"/>\r\n     <path d=\"M 37.109375 75.984375 \r\nL 37.109375 68.5 \r\nL 28.515625 68.5 \r\nQ 23.6875 68.5 21.796875 66.546875 \r\nQ 19.921875 64.59375 19.921875 59.515625 \r\nL 19.921875 54.6875 \r\nL 34.71875 54.6875 \r\nL 34.71875 47.703125 \r\nL 19.921875 47.703125 \r\nL 19.921875 0 \r\nL 10.890625 0 \r\nL 10.890625 47.703125 \r\nL 2.296875 47.703125 \r\nL 2.296875 54.6875 \r\nL 10.890625 54.6875 \r\nL 10.890625 58.5 \r\nQ 10.890625 67.625 15.140625 71.796875 \r\nQ 19.390625 75.984375 28.609375 75.984375 \r\nz\r\n\" id=\"DejaVuSans-102\"/>\r\n     <path d=\"M 44.28125 53.078125 \r\nL 44.28125 44.578125 \r\nQ 40.484375 46.53125 36.375 47.5 \r\nQ 32.28125 48.484375 27.875 48.484375 \r\nQ 21.1875 48.484375 17.84375 46.4375 \r\nQ 14.5 44.390625 14.5 40.28125 \r\nQ 14.5 37.15625 16.890625 35.375 \r\nQ 19.28125 33.59375 26.515625 31.984375 \r\nL 29.59375 31.296875 \r\nQ 39.15625 29.25 43.1875 25.515625 \r\nQ 47.21875 21.78125 47.21875 15.09375 \r\nQ 47.21875 7.46875 41.1875 3.015625 \r\nQ 35.15625 -1.421875 24.609375 -1.421875 \r\nQ 20.21875 -1.421875 15.453125 -0.5625 \r\nQ 10.6875 0.296875 5.421875 2 \r\nL 5.421875 11.28125 \r\nQ 10.40625 8.6875 15.234375 7.390625 \r\nQ 20.0625 6.109375 24.8125 6.109375 \r\nQ 31.15625 6.109375 34.5625 8.28125 \r\nQ 37.984375 10.453125 37.984375 14.40625 \r\nQ 37.984375 18.0625 35.515625 20.015625 \r\nQ 33.0625 21.96875 24.703125 23.78125 \r\nL 21.578125 24.515625 \r\nQ 13.234375 26.265625 9.515625 29.90625 \r\nQ 5.8125 33.546875 5.8125 39.890625 \r\nQ 5.8125 47.609375 11.28125 51.796875 \r\nQ 16.75 56 26.8125 56 \r\nQ 31.78125 56 36.171875 55.265625 \r\nQ 40.578125 54.546875 44.28125 53.078125 \r\nz\r\n\" id=\"DejaVuSans-115\"/>\r\n     <path d=\"M 9.8125 72.90625 \r\nL 24.515625 72.90625 \r\nL 43.109375 23.296875 \r\nL 61.8125 72.90625 \r\nL 76.515625 72.90625 \r\nL 76.515625 0 \r\nL 66.890625 0 \r\nL 66.890625 64.015625 \r\nL 48.09375 14.015625 \r\nL 38.1875 14.015625 \r\nL 19.390625 64.015625 \r\nL 19.390625 0 \r\nL 9.8125 0 \r\nz\r\n\" id=\"DejaVuSans-77\"/>\r\n     <path d=\"M 54.890625 54.6875 \r\nL 35.109375 28.078125 \r\nL 55.90625 0 \r\nL 45.3125 0 \r\nL 29.390625 21.484375 \r\nL 13.484375 0 \r\nL 2.875 0 \r\nL 24.125 28.609375 \r\nL 4.6875 54.6875 \r\nL 15.28125 54.6875 \r\nL 29.78125 35.203125 \r\nL 44.28125 54.6875 \r\nz\r\n\" id=\"DejaVuSans-120\"/>\r\n    </defs>\r\n    <g transform=\"translate(119.49875 16.318125)scale(0.12 -0.12)\">\r\n     <use xlink:href=\"#DejaVuSans-67\"/>\r\n     <use x=\"69.824219\" xlink:href=\"#DejaVuSans-111\"/>\r\n     <use x=\"131.005859\" xlink:href=\"#DejaVuSans-110\"/>\r\n     <use x=\"194.384766\" xlink:href=\"#DejaVuSans-102\"/>\r\n     <use x=\"229.589844\" xlink:href=\"#DejaVuSans-117\"/>\r\n     <use x=\"292.96875\" xlink:href=\"#DejaVuSans-115\"/>\r\n     <use x=\"345.068359\" xlink:href=\"#DejaVuSans-105\"/>\r\n     <use x=\"372.851562\" xlink:href=\"#DejaVuSans-111\"/>\r\n     <use x=\"434.033203\" xlink:href=\"#DejaVuSans-110\"/>\r\n     <use x=\"497.412109\" xlink:href=\"#DejaVuSans-32\"/>\r\n     <use x=\"529.199219\" xlink:href=\"#DejaVuSans-77\"/>\r\n     <use x=\"615.478516\" xlink:href=\"#DejaVuSans-97\"/>\r\n     <use x=\"676.757812\" xlink:href=\"#DejaVuSans-116\"/>\r\n     <use x=\"715.966797\" xlink:href=\"#DejaVuSans-114\"/>\r\n     <use x=\"757.080078\" xlink:href=\"#DejaVuSans-105\"/>\r\n     <use x=\"784.863281\" xlink:href=\"#DejaVuSans-120\"/>\r\n    </g>\r\n   </g>\r\n  </g>\r\n  <g id=\"axes_2\">\r\n   <g id=\"patch_7\">\r\n    <path d=\"M 508.949716 294.118125 \r\nL 1016.222443 294.118125 \r\nL 1016.222443 22.318125 \r\nL 508.949716 22.318125 \r\nz\r\n\" style=\"fill:#ffffff;\"/>\r\n   </g>\r\n   <g id=\"matplotlib.axis_3\">\r\n    <g id=\"xtick_3\">\r\n     <g id=\"line2d_5\">\r\n      <g>\r\n       <use style=\"stroke:#000000;stroke-width:0.8;\" x=\"532.007567\" xlink:href=\"#me3b09d74bd\" y=\"294.118125\"/>\r\n      </g>\r\n     </g>\r\n     <g id=\"text_12\">\r\n      <!-- 0.0 -->\r\n      <g transform=\"translate(524.056005 308.716563)scale(0.1 -0.1)\">\r\n       <use xlink:href=\"#DejaVuSans-48\"/>\r\n       <use x=\"63.623047\" xlink:href=\"#DejaVuSans-46\"/>\r\n       <use x=\"95.410156\" xlink:href=\"#DejaVuSans-48\"/>\r\n      </g>\r\n     </g>\r\n    </g>\r\n    <g id=\"xtick_4\">\r\n     <g id=\"line2d_6\">\r\n      <g>\r\n       <use style=\"stroke:#000000;stroke-width:0.8;\" x=\"624.238972\" xlink:href=\"#me3b09d74bd\" y=\"294.118125\"/>\r\n      </g>\r\n     </g>\r\n     <g id=\"text_13\">\r\n      <!-- 0.2 -->\r\n      <g transform=\"translate(616.28741 308.716563)scale(0.1 -0.1)\">\r\n       <use xlink:href=\"#DejaVuSans-48\"/>\r\n       <use x=\"63.623047\" xlink:href=\"#DejaVuSans-46\"/>\r\n       <use x=\"95.410156\" xlink:href=\"#DejaVuSans-50\"/>\r\n      </g>\r\n     </g>\r\n    </g>\r\n    <g id=\"xtick_5\">\r\n     <g id=\"line2d_7\">\r\n      <g>\r\n       <use style=\"stroke:#000000;stroke-width:0.8;\" x=\"716.470377\" xlink:href=\"#me3b09d74bd\" y=\"294.118125\"/>\r\n      </g>\r\n     </g>\r\n     <g id=\"text_14\">\r\n      <!-- 0.4 -->\r\n      <defs>\r\n       <path d=\"M 37.796875 64.3125 \r\nL 12.890625 25.390625 \r\nL 37.796875 25.390625 \r\nz\r\nM 35.203125 72.90625 \r\nL 47.609375 72.90625 \r\nL 47.609375 25.390625 \r\nL 58.015625 25.390625 \r\nL 58.015625 17.1875 \r\nL 47.609375 17.1875 \r\nL 47.609375 0 \r\nL 37.796875 0 \r\nL 37.796875 17.1875 \r\nL 4.890625 17.1875 \r\nL 4.890625 26.703125 \r\nz\r\n\" id=\"DejaVuSans-52\"/>\r\n      </defs>\r\n      <g transform=\"translate(708.518815 308.716563)scale(0.1 -0.1)\">\r\n       <use xlink:href=\"#DejaVuSans-48\"/>\r\n       <use x=\"63.623047\" xlink:href=\"#DejaVuSans-46\"/>\r\n       <use x=\"95.410156\" xlink:href=\"#DejaVuSans-52\"/>\r\n      </g>\r\n     </g>\r\n    </g>\r\n    <g id=\"xtick_6\">\r\n     <g id=\"line2d_8\">\r\n      <g>\r\n       <use style=\"stroke:#000000;stroke-width:0.8;\" x=\"808.701782\" xlink:href=\"#me3b09d74bd\" y=\"294.118125\"/>\r\n      </g>\r\n     </g>\r\n     <g id=\"text_15\">\r\n      <!-- 0.6 -->\r\n      <g transform=\"translate(800.75022 308.716563)scale(0.1 -0.1)\">\r\n       <use xlink:href=\"#DejaVuSans-48\"/>\r\n       <use x=\"63.623047\" xlink:href=\"#DejaVuSans-46\"/>\r\n       <use x=\"95.410156\" xlink:href=\"#DejaVuSans-54\"/>\r\n      </g>\r\n     </g>\r\n    </g>\r\n    <g id=\"xtick_7\">\r\n     <g id=\"line2d_9\">\r\n      <g>\r\n       <use style=\"stroke:#000000;stroke-width:0.8;\" x=\"900.933187\" xlink:href=\"#me3b09d74bd\" y=\"294.118125\"/>\r\n      </g>\r\n     </g>\r\n     <g id=\"text_16\">\r\n      <!-- 0.8 -->\r\n      <g transform=\"translate(892.981624 308.716563)scale(0.1 -0.1)\">\r\n       <use xlink:href=\"#DejaVuSans-48\"/>\r\n       <use x=\"63.623047\" xlink:href=\"#DejaVuSans-46\"/>\r\n       <use x=\"95.410156\" xlink:href=\"#DejaVuSans-56\"/>\r\n      </g>\r\n     </g>\r\n    </g>\r\n    <g id=\"xtick_8\">\r\n     <g id=\"line2d_10\">\r\n      <g>\r\n       <use style=\"stroke:#000000;stroke-width:0.8;\" x=\"993.164592\" xlink:href=\"#me3b09d74bd\" y=\"294.118125\"/>\r\n      </g>\r\n     </g>\r\n     <g id=\"text_17\">\r\n      <!-- 1.0 -->\r\n      <g transform=\"translate(985.213029 308.716563)scale(0.1 -0.1)\">\r\n       <use xlink:href=\"#DejaVuSans-49\"/>\r\n       <use x=\"63.623047\" xlink:href=\"#DejaVuSans-46\"/>\r\n       <use x=\"95.410156\" xlink:href=\"#DejaVuSans-48\"/>\r\n      </g>\r\n     </g>\r\n    </g>\r\n    <g id=\"text_18\">\r\n     <!-- False Positive Rate -->\r\n     <defs>\r\n      <path d=\"M 9.8125 72.90625 \r\nL 51.703125 72.90625 \r\nL 51.703125 64.59375 \r\nL 19.671875 64.59375 \r\nL 19.671875 43.109375 \r\nL 48.578125 43.109375 \r\nL 48.578125 34.8125 \r\nL 19.671875 34.8125 \r\nL 19.671875 0 \r\nL 9.8125 0 \r\nz\r\n\" id=\"DejaVuSans-70\"/>\r\n      <path d=\"M 2.984375 54.6875 \r\nL 12.5 54.6875 \r\nL 29.59375 8.796875 \r\nL 46.6875 54.6875 \r\nL 56.203125 54.6875 \r\nL 35.6875 0 \r\nL 23.484375 0 \r\nz\r\n\" id=\"DejaVuSans-118\"/>\r\n      <path d=\"M 44.390625 34.1875 \r\nQ 47.5625 33.109375 50.5625 29.59375 \r\nQ 53.5625 26.078125 56.59375 19.921875 \r\nL 66.609375 0 \r\nL 56 0 \r\nL 46.6875 18.703125 \r\nQ 43.0625 26.03125 39.671875 28.421875 \r\nQ 36.28125 30.8125 30.421875 30.8125 \r\nL 19.671875 30.8125 \r\nL 19.671875 0 \r\nL 9.8125 0 \r\nL 9.8125 72.90625 \r\nL 32.078125 72.90625 \r\nQ 44.578125 72.90625 50.734375 67.671875 \r\nQ 56.890625 62.453125 56.890625 51.90625 \r\nQ 56.890625 45.015625 53.6875 40.46875 \r\nQ 50.484375 35.9375 44.390625 34.1875 \r\nz\r\nM 19.671875 64.796875 \r\nL 19.671875 38.921875 \r\nL 32.078125 38.921875 \r\nQ 39.203125 38.921875 42.84375 42.21875 \r\nQ 46.484375 45.515625 46.484375 51.90625 \r\nQ 46.484375 58.296875 42.84375 61.546875 \r\nQ 39.203125 64.796875 32.078125 64.796875 \r\nz\r\n\" id=\"DejaVuSans-82\"/>\r\n     </defs>\r\n     <g transform=\"translate(716.119673 322.394687)scale(0.1 -0.1)\">\r\n      <use xlink:href=\"#DejaVuSans-70\"/>\r\n      <use x=\"48.394531\" xlink:href=\"#DejaVuSans-97\"/>\r\n      <use x=\"109.673828\" xlink:href=\"#DejaVuSans-108\"/>\r\n      <use x=\"137.457031\" xlink:href=\"#DejaVuSans-115\"/>\r\n      <use x=\"189.556641\" xlink:href=\"#DejaVuSans-101\"/>\r\n      <use x=\"251.080078\" xlink:href=\"#DejaVuSans-32\"/>\r\n      <use x=\"282.867188\" xlink:href=\"#DejaVuSans-80\"/>\r\n      <use x=\"339.544922\" xlink:href=\"#DejaVuSans-111\"/>\r\n      <use x=\"400.726562\" xlink:href=\"#DejaVuSans-115\"/>\r\n      <use x=\"452.826172\" xlink:href=\"#DejaVuSans-105\"/>\r\n      <use x=\"480.609375\" xlink:href=\"#DejaVuSans-116\"/>\r\n      <use x=\"519.818359\" xlink:href=\"#DejaVuSans-105\"/>\r\n      <use x=\"547.601562\" xlink:href=\"#DejaVuSans-118\"/>\r\n      <use x=\"606.78125\" xlink:href=\"#DejaVuSans-101\"/>\r\n      <use x=\"668.304688\" xlink:href=\"#DejaVuSans-32\"/>\r\n      <use x=\"700.091797\" xlink:href=\"#DejaVuSans-82\"/>\r\n      <use x=\"767.324219\" xlink:href=\"#DejaVuSans-97\"/>\r\n      <use x=\"828.603516\" xlink:href=\"#DejaVuSans-116\"/>\r\n      <use x=\"867.8125\" xlink:href=\"#DejaVuSans-101\"/>\r\n     </g>\r\n    </g>\r\n   </g>\r\n   <g id=\"matplotlib.axis_4\">\r\n    <g id=\"ytick_3\">\r\n     <g id=\"line2d_11\">\r\n      <g>\r\n       <use style=\"stroke:#000000;stroke-width:0.8;\" x=\"508.949716\" xlink:href=\"#m792619df2f\" y=\"281.76358\"/>\r\n      </g>\r\n     </g>\r\n     <g id=\"text_19\">\r\n      <!-- 0.0 -->\r\n      <g transform=\"translate(486.046591 285.562798)scale(0.1 -0.1)\">\r\n       <use xlink:href=\"#DejaVuSans-48\"/>\r\n       <use x=\"63.623047\" xlink:href=\"#DejaVuSans-46\"/>\r\n       <use x=\"95.410156\" xlink:href=\"#DejaVuSans-48\"/>\r\n      </g>\r\n     </g>\r\n    </g>\r\n    <g id=\"ytick_4\">\r\n     <g id=\"line2d_12\">\r\n      <g>\r\n       <use style=\"stroke:#000000;stroke-width:0.8;\" x=\"508.949716\" xlink:href=\"#m792619df2f\" y=\"232.345398\"/>\r\n      </g>\r\n     </g>\r\n     <g id=\"text_20\">\r\n      <!-- 0.2 -->\r\n      <g transform=\"translate(486.046591 236.144616)scale(0.1 -0.1)\">\r\n       <use xlink:href=\"#DejaVuSans-48\"/>\r\n       <use x=\"63.623047\" xlink:href=\"#DejaVuSans-46\"/>\r\n       <use x=\"95.410156\" xlink:href=\"#DejaVuSans-50\"/>\r\n      </g>\r\n     </g>\r\n    </g>\r\n    <g id=\"ytick_5\">\r\n     <g id=\"line2d_13\">\r\n      <g>\r\n       <use style=\"stroke:#000000;stroke-width:0.8;\" x=\"508.949716\" xlink:href=\"#m792619df2f\" y=\"182.927216\"/>\r\n      </g>\r\n     </g>\r\n     <g id=\"text_21\">\r\n      <!-- 0.4 -->\r\n      <g transform=\"translate(486.046591 186.726435)scale(0.1 -0.1)\">\r\n       <use xlink:href=\"#DejaVuSans-48\"/>\r\n       <use x=\"63.623047\" xlink:href=\"#DejaVuSans-46\"/>\r\n       <use x=\"95.410156\" xlink:href=\"#DejaVuSans-52\"/>\r\n      </g>\r\n     </g>\r\n    </g>\r\n    <g id=\"ytick_6\">\r\n     <g id=\"line2d_14\">\r\n      <g>\r\n       <use style=\"stroke:#000000;stroke-width:0.8;\" x=\"508.949716\" xlink:href=\"#m792619df2f\" y=\"133.509034\"/>\r\n      </g>\r\n     </g>\r\n     <g id=\"text_22\">\r\n      <!-- 0.6 -->\r\n      <g transform=\"translate(486.046591 137.308253)scale(0.1 -0.1)\">\r\n       <use xlink:href=\"#DejaVuSans-48\"/>\r\n       <use x=\"63.623047\" xlink:href=\"#DejaVuSans-46\"/>\r\n       <use x=\"95.410156\" xlink:href=\"#DejaVuSans-54\"/>\r\n      </g>\r\n     </g>\r\n    </g>\r\n    <g id=\"ytick_7\">\r\n     <g id=\"line2d_15\">\r\n      <g>\r\n       <use style=\"stroke:#000000;stroke-width:0.8;\" x=\"508.949716\" xlink:href=\"#m792619df2f\" y=\"84.090852\"/>\r\n      </g>\r\n     </g>\r\n     <g id=\"text_23\">\r\n      <!-- 0.8 -->\r\n      <g transform=\"translate(486.046591 87.890071)scale(0.1 -0.1)\">\r\n       <use xlink:href=\"#DejaVuSans-48\"/>\r\n       <use x=\"63.623047\" xlink:href=\"#DejaVuSans-46\"/>\r\n       <use x=\"95.410156\" xlink:href=\"#DejaVuSans-56\"/>\r\n      </g>\r\n     </g>\r\n    </g>\r\n    <g id=\"ytick_8\">\r\n     <g id=\"line2d_16\">\r\n      <g>\r\n       <use style=\"stroke:#000000;stroke-width:0.8;\" x=\"508.949716\" xlink:href=\"#m792619df2f\" y=\"34.67267\"/>\r\n      </g>\r\n     </g>\r\n     <g id=\"text_24\">\r\n      <!-- 1.0 -->\r\n      <g transform=\"translate(486.046591 38.471889)scale(0.1 -0.1)\">\r\n       <use xlink:href=\"#DejaVuSans-49\"/>\r\n       <use x=\"63.623047\" xlink:href=\"#DejaVuSans-46\"/>\r\n       <use x=\"95.410156\" xlink:href=\"#DejaVuSans-48\"/>\r\n      </g>\r\n     </g>\r\n    </g>\r\n    <g id=\"text_25\">\r\n     <!-- True Positive Rate -->\r\n     <g transform=\"translate(479.966903 202.747813)rotate(-90)scale(0.1 -0.1)\">\r\n      <use xlink:href=\"#DejaVuSans-84\"/>\r\n      <use x=\"46.333984\" xlink:href=\"#DejaVuSans-114\"/>\r\n      <use x=\"87.447266\" xlink:href=\"#DejaVuSans-117\"/>\r\n      <use x=\"150.826172\" xlink:href=\"#DejaVuSans-101\"/>\r\n      <use x=\"212.349609\" xlink:href=\"#DejaVuSans-32\"/>\r\n      <use x=\"244.136719\" xlink:href=\"#DejaVuSans-80\"/>\r\n      <use x=\"300.814453\" xlink:href=\"#DejaVuSans-111\"/>\r\n      <use x=\"361.996094\" xlink:href=\"#DejaVuSans-115\"/>\r\n      <use x=\"414.095703\" xlink:href=\"#DejaVuSans-105\"/>\r\n      <use x=\"441.878906\" xlink:href=\"#DejaVuSans-116\"/>\r\n      <use x=\"481.087891\" xlink:href=\"#DejaVuSans-105\"/>\r\n      <use x=\"508.871094\" xlink:href=\"#DejaVuSans-118\"/>\r\n      <use x=\"568.050781\" xlink:href=\"#DejaVuSans-101\"/>\r\n      <use x=\"629.574219\" xlink:href=\"#DejaVuSans-32\"/>\r\n      <use x=\"661.361328\" xlink:href=\"#DejaVuSans-82\"/>\r\n      <use x=\"728.59375\" xlink:href=\"#DejaVuSans-97\"/>\r\n      <use x=\"789.873047\" xlink:href=\"#DejaVuSans-116\"/>\r\n      <use x=\"829.082031\" xlink:href=\"#DejaVuSans-101\"/>\r\n     </g>\r\n    </g>\r\n   </g>\r\n   <g id=\"line2d_17\">\r\n    <path clip-path=\"url(#pdbcad28c7f)\" d=\"M 532.007567 281.76358 \r\nL 532.10875 281.042614 \r\nL 532.115978 281.042614 \r\nL 532.13766 280.962507 \r\nL 532.238843 279.640737 \r\nL 532.267753 279.560629 \r\nL 532.376163 278.078645 \r\nL 532.513483 276.716821 \r\nL 532.708622 274.233495 \r\nL 532.744759 274.153388 \r\nL 533.004945 271.549901 \r\nL 533.055536 270.268185 \r\nL 533.106128 270.268185 \r\nL 533.149492 270.268185 \r\nL 533.893912 263.098583 \r\nL 533.922821 263.058529 \r\nL 533.922821 263.018476 \r\nL 534.074596 260.735418 \r\nL 534.103505 260.735418 \r\nL 534.204689 259.373594 \r\nL 534.226371 259.293487 \r\nL 534.313099 258.732736 \r\nL 534.42151 256.890269 \r\nL 534.435965 256.850215 \r\nL 534.544375 256.089196 \r\nL 535.27434 248.198629 \r\nL 535.288795 248.118521 \r\nL 535.397205 246.556429 \r\nL 535.418887 246.516376 \r\nL 535.614027 243.392192 \r\nL 535.635709 243.312085 \r\nL 535.744119 242.230636 \r\nL 535.830848 241.790046 \r\nL 535.939258 239.587096 \r\nL 535.946486 239.587096 \r\nL 535.946486 239.506989 \r\nL 536.2934 237.10377 \r\nL 536.40181 235.461571 \r\nL 536.416265 235.461571 \r\nL 536.416265 235.381464 \r\nL 536.517448 234.300015 \r\nL 536.553585 234.139801 \r\nL 536.828225 231.295992 \r\nL 536.886044 231.05567 \r\nL 537.659373 222.36403 \r\nL 537.912331 219.480168 \r\nL 538.042424 218.238505 \r\nL 538.13638 217.036896 \r\nL 538.150835 217.036896 \r\nL 538.223108 216.716467 \r\nL 538.309837 215.955448 \r\nL 538.317064 215.955448 \r\nL 538.374883 215.875341 \r\nL 538.476066 215.034214 \r\nL 538.54834 214.513517 \r\nL 538.656751 213.832605 \r\nL 538.794071 213.592283 \r\nL 538.837435 213.55223 \r\nL 538.945846 213.432069 \r\nL 539.025347 213.351961 \r\nL 539.119303 212.991479 \r\nL 539.133757 212.991479 \r\nL 539.220486 212.911371 \r\nL 539.328897 212.79121 \r\nL 539.40117 212.711103 \r\nL 539.632446 212.510835 \r\nL 539.755312 212.430728 \r\nL 539.863722 212.030191 \r\nL 539.972133 211.950084 \r\nL 540.875555 210.628314 \r\nL 540.991192 210.428046 \r\nL 541.121285 210.347938 \r\nL 541.208014 210.227777 \r\nL 541.345334 210.187724 \r\nL 541.482654 209.867295 \r\nL 541.554928 209.787187 \r\nL 541.554928 209.747134 \r\nL 542.761899 207.624291 \r\nL 542.826945 207.584237 \r\nL 542.906446 207.303862 \r\nL 542.913674 207.303862 \r\nL 543.159405 206.743111 \r\nL 543.246133 206.703057 \r\nL 543.275043 206.582896 \r\nL 543.470182 206.302521 \r\nL 543.470182 206.262467 \r\nL 544.084508 205.501448 \r\nL 544.178464 205.42134 \r\nL 544.279647 205.140965 \r\nL 544.359149 205.140965 \r\nL 544.503696 204.900643 \r\nL 544.641016 204.820536 \r\nL 544.814473 204.299839 \r\nL 544.814473 204.259785 \r\nL 544.908429 204.259785 \r\nL 546.939321 201.415976 \r\nL 548.066791 199.333187 \r\nL 548.131838 199.25308 \r\nL 548.233021 198.932651 \r\nL 548.355886 198.852543 \r\nL 548.42816 198.772436 \r\nL 548.442615 198.772436 \r\nL 548.507661 198.692329 \r\nL 548.753392 198.612222 \r\nL 548.941303 198.251739 \r\nL 549.121988 198.011417 \r\nL 549.902544 196.929969 \r\nL 550.292822 196.689647 \r\nL 550.480734 196.249057 \r\nL 550.603599 196.16895 \r\nL 550.921604 195.608199 \r\nL 551.203471 194.847179 \r\nL 551.268518 194.646911 \r\nL 551.376928 194.486697 \r\nL 551.528703 194.166267 \r\nL 551.810571 193.965999 \r\nL 552.020165 193.605517 \r\nL 552.359851 193.285087 \r\nL 552.44658 193.124873 \r\nL 553.480094 191.602834 \r\nL 553.624641 191.282405 \r\nL 553.920964 190.961976 \r\nL 553.971555 190.881869 \r\nL 554.224513 190.361172 \r\nL 554.549745 189.640206 \r\nL 555.749489 188.35849 \r\nL 556.096403 187.837792 \r\nL 556.558955 186.996666 \r\nL 557.01428 186.2757 \r\nL 557.520196 185.674896 \r\nL 557.520196 185.634842 \r\nL 559.970275 182.110122 \r\nL 560.230461 182.030014 \r\nL 560.273825 181.8698 \r\nL 560.295507 181.8698 \r\nL 560.526783 181.829746 \r\nL 560.967653 180.948566 \r\nL 561.025472 180.708244 \r\nL 561.032699 180.708244 \r\nL 561.82771 179.546689 \r\nL 562.254126 178.705562 \r\nL 562.290262 178.665509 \r\nL 562.290262 178.625455 \r\nL 562.499856 178.144811 \r\nL 563.157547 177.58406 \r\nL 563.251503 177.503953 \r\nL 563.873057 176.582719 \r\nL 563.916421 176.502612 \r\nL 564.472929 176.222236 \r\nL 564.646386 175.781646 \r\nL 564.848753 175.661485 \r\nL 564.870435 175.661485 \r\nL 565.029437 175.220895 \r\nL 565.058346 175.220895 \r\nL 565.585945 174.539984 \r\nL 565.636536 174.539984 \r\nL 566.45323 173.538643 \r\nL 566.532731 173.378428 \r\nL 566.547185 173.378428 \r\nL 566.655596 173.17816 \r\nL 566.850735 172.937838 \r\nL 566.923009 172.857731 \r\nL 566.951918 172.817677 \r\nL 567.371106 172.577355 \r\nL 567.530108 172.29698 \r\nL 567.848113 171.936497 \r\nL 567.905932 171.85639 \r\nL 567.942068 171.696175 \r\nL 567.99266 171.696175 \r\nL 568.036024 171.696175 \r\nL 570.587287 168.612045 \r\nL 570.8547 168.171455 \r\nL 570.984793 168.091347 \r\nL 571.049839 167.971186 \r\nL 571.40398 167.730865 \r\nL 571.635256 167.57065 \r\nL 572.032762 167.009899 \r\nL 572.141173 166.969845 \r\nL 572.379676 166.529255 \r\nL 573.246961 165.327646 \r\nL 573.41319 165.287593 \r\nL 574.547888 164.166091 \r\nL 574.750254 164.04593 \r\nL 574.793619 163.965822 \r\nL 575.104396 163.645393 \r\nL 575.126078 163.565286 \r\nL 575.162215 163.565286 \r\nL 575.949998 162.40373 \r\nL 576.217411 161.96314 \r\nL 576.390868 161.883033 \r\nL 577.749614 160.401048 \r\nL 578.161575 160.080619 \r\nL 578.566308 159.439761 \r\nL 578.595217 159.439761 \r\nL 578.840948 159.199439 \r\nL 578.992723 158.919064 \r\nL 579.41191 158.117991 \r\nL 579.780506 157.797562 \r\nL 580.655019 156.796221 \r\nL 581.066979 156.475792 \r\nL 581.370529 156.115309 \r\nL 581.522303 155.834933 \r\nL 581.536758 155.834933 \r\nL 582.057129 154.9137 \r\nL 582.143858 154.753485 \r\nL 583.611014 153.031179 \r\nL 583.726652 152.951071 \r\nL 584.066339 152.550535 \r\nL 584.196432 152.39032 \r\nL 584.666211 152.029838 \r\nL 588.554538 147.183347 \r\nL 588.619584 147.10324 \r\nL 588.71354 146.822864 \r\nL 588.973726 146.141952 \r\nL 589.443505 145.901631 \r\nL 589.544688 145.78147 \r\nL 590.101196 145.140611 \r\nL 590.28188 144.860236 \r\nL 590.672158 144.780129 \r\nL 590.802251 144.57986 \r\nL 591.431033 143.69868 \r\nL 592.522366 142.37691 \r\nL 592.609094 142.136588 \r\nL 592.623549 142.136588 \r\nL 592.934326 141.816159 \r\nL 593.107783 141.695998 \r\nL 593.541426 141.295462 \r\nL 593.541426 141.255408 \r\nL 593.570335 141.255408 \r\nL 594.126843 140.694657 \r\nL 594.567713 140.053799 \r\nL 594.697805 139.973692 \r\nL 594.892945 139.693316 \r\nL 596.533558 137.570473 \r\nL 597.046702 137.250044 \r\nL 597.205704 137.169937 \r\nL 597.408071 136.689293 \r\nL 597.718848 136.569132 \r\nL 597.747757 136.408918 \r\nL 600.508614 132.683929 \r\nL 600.826618 132.563768 \r\nL 601.202442 132.123178 \r\nL 601.303625 131.682588 \r\nL 601.874587 131.201944 \r\nL 602.069726 131.121837 \r\nL 602.17091 130.841462 \r\nL 602.214274 130.841462 \r\nL 603.934389 128.51835 \r\nL 604.230711 127.957599 \r\nL 604.404168 127.917546 \r\nL 604.736627 127.597117 \r\nL 604.787219 127.557063 \r\nL 605.835188 126.555722 \r\nL 606.7097 125.394166 \r\nL 607.208389 124.472933 \r\nL 607.59144 124.392825 \r\nL 607.59144 124.312718 \r\nL 607.678168 124.312718 \r\nL 607.945581 123.872128 \r\nL 608.155175 123.391484 \r\nL 608.574363 123.031002 \r\nL 608.704455 122.79068 \r\nL 609.73797 122.029661 \r\nL 609.759652 122.029661 \r\nL 610.569118 121.308695 \r\nL 611.537586 120.427515 \r\nL 611.660451 120.387461 \r\nL 611.660451 120.347408 \r\nL 611.674906 120.307354 \r\nL 612.231414 119.866764 \r\nL 612.751785 119.225906 \r\nL 612.852968 119.145799 \r\nL 612.997515 118.905477 \r\nL 614.876632 116.942848 \r\nL 614.99227 116.902795 \r\nL 615.490959 116.422151 \r\nL 616.936434 114.339362 \r\nL 617.948266 113.698503 \r\nL 618.179542 113.177806 \r\nL 618.815551 112.496894 \r\nL 618.981781 112.056304 \r\nL 619.104646 111.815982 \r\nL 619.682836 111.495553 \r\nL 620.340527 110.774588 \r\nL 620.340527 110.69448 \r\nL 620.391118 110.69448 \r\nL 621.518589 109.853354 \r\nL 622.17628 108.972174 \r\nL 622.342509 108.892067 \r\nL 622.429238 108.811959 \r\nL 622.436465 108.811959 \r\nL 622.479829 108.731852 \r\nL 622.826743 108.531584 \r\nL 622.964063 108.171101 \r\nL 623.867485 107.329975 \r\nL 625.125048 105.527561 \r\nL 625.349097 105.327293 \r\nL 625.602055 105.127024 \r\nL 625.645419 105.046917 \r\nL 625.948969 104.806595 \r\nL 626.324792 104.245844 \r\nL 626.382611 104.245844 \r\nL 627.098121 103.404718 \r\nL 627.177622 103.324611 \r\nL 628.138863 102.363323 \r\nL 628.348457 101.762519 \r\nL 629.013375 101.321928 \r\nL 629.020602 101.201768 \r\nL 629.092876 101.201768 \r\nL 629.338607 100.961446 \r\nL 629.822841 100.641017 \r\nL 630.841901 99.719783 \r\nL 630.935856 99.519515 \r\nL 631.015358 99.439407 \r\nL 631.239406 99.239139 \r\nL 631.709185 98.878656 \r\nL 631.730868 98.798549 \r\nL 632.569243 98.197745 \r\nL 632.988431 97.917369 \r\nL 633.132978 97.636994 \r\nL 633.826806 97.356618 \r\nL 633.913534 97.236457 \r\nL 633.927989 97.236457 \r\nL 633.993035 97.116296 \r\nL 635.149415 96.235116 \r\nL 635.200007 96.114955 \r\nL 635.915517 95.39399 \r\nL 636.168475 95.193721 \r\nL 636.435888 94.913346 \r\nL 636.486479 94.833239 \r\nL 636.529844 94.833239 \r\nL 637.180307 94.232434 \r\nL 637.295945 94.152327 \r\nL 637.606722 93.992112 \r\nL 637.707905 93.791844 \r\nL 637.736815 93.791844 \r\nL 638.43787 92.910664 \r\nL 638.553508 92.910664 \r\nL 638.994378 92.550181 \r\nL 639.037742 92.389967 \r\nL 639.196744 92.309859 \r\nL 639.370201 92.109591 \r\nL 639.406338 92.109591 \r\nL 640.88795 90.307177 \r\nL 641.046952 90.187016 \r\nL 641.408321 90.066855 \r\nL 641.567323 89.746426 \r\nL 642.008193 89.305836 \r\nL 642.15274 89.225729 \r\nL 642.969433 88.144281 \r\nL 643.330802 87.863905 \r\nL 643.424758 87.623583 \r\nL 644.545001 86.502081 \r\nL 645.144873 86.181652 \r\nL 645.31833 86.141599 \r\nL 646.922807 84.539453 \r\nL 646.951716 84.459346 \r\nL 647.031217 84.459346 \r\nL 647.204674 84.17897 \r\nL 647.869593 83.658273 \r\nL 647.90573 83.578166 \r\nL 648.259871 83.377897 \r\nL 649.040427 82.576825 \r\nL 649.257248 82.336503 \r\nL 649.401796 82.256396 \r\nL 649.47407 82.056127 \r\nL 649.510207 82.056127 \r\nL 649.517434 82.056127 \r\nL 649.763165 81.935966 \r\nL 649.88603 81.695645 \r\nL 650.283535 81.53543 \r\nL 650.500357 81.255055 \r\nL 650.608767 81.174947 \r\nL 652.979346 78.89189 \r\nL 653.145575 78.731675 \r\nL 653.376851 78.371192 \r\nL 653.796039 78.090817 \r\nL 654.338092 77.650227 \r\nL 654.605505 77.490012 \r\nL 654.75728 77.409905 \r\nL 654.8946 77.24969 \r\nL 654.981328 77.24969 \r\nL 656.087116 76.769047 \r\nL 657.648229 75.527384 \r\nL 658.33483 74.846472 \r\nL 658.385421 74.766365 \r\nL 658.573333 74.526043 \r\nL 658.703426 74.445936 \r\nL 659.100931 74.005346 \r\nL 659.888715 73.044058 \r\nL 661.522101 71.922556 \r\nL 662.042472 71.682234 \r\nL 663.639722 69.999981 \r\nL 663.769815 69.919874 \r\nL 664.160093 69.75966 \r\nL 664.340777 69.679552 \r\nL 664.340777 69.639499 \r\nL 664.362459 69.639499 \r\nL 664.781647 69.359123 \r\nL 664.825011 69.238962 \r\nL 664.832238 69.238962 \r\nL 665.526066 68.87848 \r\nL 666.34276 67.716924 \r\nL 666.530671 67.636817 \r\nL 667.304 67.276334 \r\nL 667.426866 67.196227 \r\nL 667.730415 67.116119 \r\nL 667.874963 67.076066 \r\nL 668.366424 66.715583 \r\nL 668.474835 66.515315 \r\nL 668.944614 66.475261 \r\nL 668.995206 66.3551 \r\nL 669.8914 65.874457 \r\nL 670.288905 65.393813 \r\nL 670.534636 65.233598 \r\nL 670.592455 65.113437 \r\nL 670.60691 65.113437 \r\nL 670.968279 65.03333 \r\nL 671.495877 64.752955 \r\nL 671.73438 64.752955 \r\nL 671.907837 64.552686 \r\nL 672.977488 63.831721 \r\nL 673.100354 63.751614 \r\nL 673.367767 63.551345 \r\nL 673.526769 63.471238 \r\nL 673.721908 63.351077 \r\nL 673.873683 63.110755 \r\nL 674.227824 62.950541 \r\nL 674.769877 62.590058 \r\nL 674.936107 62.550004 \r\nL 675.268566 62.229575 \r\nL 675.362522 62.149468 \r\nL 675.376976 62.109414 \r\nL 676.244261 61.628771 \r\nL 676.504447 61.548663 \r\nL 676.504447 61.50861 \r\nL 676.591175 61.50861 \r\nL 676.836906 61.228234 \r\nL 676.858588 61.108073 \r\nL 676.945317 61.108073 \r\nL 677.060955 61.027966 \r\nL 677.118774 60.947859 \r\nL 677.162138 60.947859 \r\nL 677.364504 60.867751 \r\nL 677.444005 60.787644 \r\nL 677.472915 60.787644 \r\nL 677.660827 60.707537 \r\nL 677.660827 60.667483 \r\nL 677.76201 60.667483 \r\nL 677.993286 60.587376 \r\nL 678.072787 60.547322 \r\nL 678.643749 60.467215 \r\nL 678.831661 60.347054 \r\nL 680.992646 60.266947 \r\nL 680.992646 60.226893 \r\nL 681.101056 60.226893 \r\nL 682.705533 60.146786 \r\nL 682.900672 60.026625 \r\nL 683.89805 59.986571 \r\nL 684.461785 59.826357 \r\nL 686.008443 59.746249 \r\nL 686.1819 59.706196 \r\nL 688.704253 59.42582 \r\nL 688.7693 59.385767 \r\nL 693.351455 58.664801 \r\nL 695.006523 58.424479 \r\nL 695.852126 58.344372 \r\nL 695.974991 58.264265 \r\nL 696.300223 58.224211 \r\nL 697.116916 58.144104 \r\nL 701.424431 57.863728 \r\nL 701.511159 57.823675 \r\nL 702.414581 57.583353 \r\nL 712.041443 56.78228 \r\nL 712.243809 56.702173 \r\nL 713.429098 56.501905 \r\nL 714.274701 56.34169 \r\nL 715.640675 56.261583 \r\nL 715.749085 56.181475 \r\nL 716.594688 56.141422 \r\nL 717.266834 56.021261 \r\nL 717.902843 55.941154 \r\nL 722.159766 55.620725 \r\nL 722.571726 55.580671 \r\nL 723.287236 55.540617 \r\nL 723.373964 55.420456 \r\nL 726.062547 55.220188 \r\nL 727.703161 54.779598 \r\nL 733.990976 54.058633 \r\nL 734.048795 54.018579 \r\nL 734.511347 53.978525 \r\nL 737.351705 53.69815 \r\nL 737.785347 53.618042 \r\nL 738.659859 53.537935 \r\nL 739.021228 53.497882 \r\nL 740.763025 53.417774 \r\nL 740.849754 53.377721 \r\nL 741.124394 53.337667 \r\nL 745.287361 52.937131 \r\nL 745.359635 52.857023 \r\nL 745.374089 52.857023 \r\nL 746.111282 52.776916 \r\nL 748.489087 52.576648 \r\nL 750.895803 52.296272 \r\nL 752.652055 52.216165 \r\nL 756.822249 51.975843 \r\nL 758.802549 51.775575 \r\nL 760.435936 51.61536 \r\nL 763.587071 51.214824 \r\nL 763.64489 51.134717 \r\nL 764.345945 51.054609 \r\nL 765.104819 51.014556 \r\nL 765.104819 50.934449 \r\nL 765.148183 50.934449 \r\nL 765.972104 50.894395 \r\nL 768.740188 50.573966 \r\nL 769.809839 50.373698 \r\nL 770.901173 50.29359 \r\nL 772.816427 50.013215 \r\nL 775.280961 49.893054 \r\nL 776.784255 49.812947 \r\nL 776.791482 49.772893 \r\nL 777.095032 49.692786 \r\nL 777.890043 49.652732 \r\nL 779.639067 49.572625 \r\nL 782.363787 49.492517 \r\nL 785.334238 49.172088 \r\nL 785.52215 49.051927 \r\nL 788.752786 48.771552 \r\nL 792.323108 48.611337 \r\nL 792.670022 48.371016 \r\nL 799.904623 48.010533 \r\nL 799.919078 48.010533 \r\nL 800.815272 47.770211 \r\nL 802.05838 47.690104 \r\nL 802.679934 47.609996 \r\nL 805.101105 47.529889 \r\nL 806.308076 47.369675 \r\nL 809.473666 47.289567 \r\nL 814.886968 46.969138 \r\nL 816.80945 46.889031 \r\nL 816.80945 46.848977 \r\nL 816.867269 46.848977 \r\nL 817.300911 46.808924 \r\nL 819.389622 46.568602 \r\nL 823.270722 46.488494 \r\nL 827.578236 45.687422 \r\nL 831.618338 45.366993 \r\nL 831.856841 45.246832 \r\nL 833.576956 45.166724 \r\nL 833.64923 45.126671 \r\nL 835.058568 45.046563 \r\nL 835.564484 45.00651 \r\nL 836.872639 44.926402 \r\nL 836.959367 44.886349 \r\nL 839.944272 44.726134 \r\nL 841.678842 44.646027 \r\nL 846.383862 44.325598 \r\nL 847.482423 44.245491 \r\nL 849.838547 44.12533 \r\nL 850.966017 44.045222 \r\nL 851.573117 44.005169 \r\nL 853.893103 43.925061 \r\nL 854.348428 43.764847 \r\nL 855.244622 43.604632 \r\nL 856.278137 43.524525 \r\nL 856.921373 43.444418 \r\nL 857.499563 43.404364 \r\nL 861.033749 43.043881 \r\nL 863.382645 43.003828 \r\nL 868.95495 42.603291 \r\nL 875.336721 42.202755 \r\nL 876.630421 42.04254 \r\nL 876.868924 42.002487 \r\nL 879.261185 41.922379 \r\nL 880.468156 41.762165 \r\nL 882.484593 41.682058 \r\nL 890.564797 40.72077 \r\nL 896.274422 40.640663 \r\nL 896.397287 40.600609 \r\nL 898.818457 40.520502 \r\nL 899.122007 40.400341 \r\nL 906.414427 39.919697 \r\nL 909.146374 39.639322 \r\nL 911.603681 39.559215 \r\nL 912.507103 39.519161 \r\nL 918.419095 39.238785 \r\nL 918.67928 39.198732 \r\nL 919.546565 39.118625 \r\nL 920.009117 39.078571 \r\nL 922.661563 38.998464 \r\nL 923.405982 38.878303 \r\nL 925.566967 38.798195 \r\nL 926.564345 38.758142 \r\nL 927.807453 38.678035 \r\nL 927.966455 38.637981 \r\nL 929.592614 38.557874 \r\nL 931.276592 38.357605 \r\nL 931.927056 38.317552 \r\nL 932.187241 38.197391 \r\nL 934.825233 38.117284 \r\nL 937.622226 37.997123 \r\nL 937.810138 37.917015 \r\nL 939.479661 37.756801 \r\nL 941.235913 37.676694 \r\nL 941.510553 37.63664 \r\nL 944.285865 37.556533 \r\nL 945.247105 37.436372 \r\nL 945.384425 37.396318 \r\nL 954.505371 36.915674 \r\nL 954.888422 36.835567 \r\nL 955.466611 36.795513 \r\nL 957.432457 36.715406 \r\nL 958.755066 36.635299 \r\nL 958.96466 36.555192 \r\nL 961.595424 36.475084 \r\nL 961.696607 36.435031 \r\nL 964.341826 36.194709 \r\nL 966.726859 36.114602 \r\nL 966.900316 36.074548 \r\nL 970.68746 35.994441 \r\nL 970.904281 35.954387 \r\nL 973.484454 35.87428 \r\nL 974.09878 35.794172 \r\nL 977.719695 35.714065 \r\nL 977.893152 35.633958 \r\nL 983.935236 35.553851 \r\nL 984.137602 35.513797 \r\nL 985.611987 35.43369 \r\nL 985.727625 35.353582 \r\nL 986.233541 35.273475 \r\nL 988.228296 35.033153 \r\nL 989.948411 34.953046 \r\nL 989.970093 34.912992 \r\nL 992.01544 34.832885 \r\nL 992.145532 34.752778 \r\nL 993.164592 34.67267 \r\nL 993.164592 34.67267 \r\n\" style=\"fill:none;stroke:#1f77b4;stroke-linecap:square;stroke-width:1.5;\"/>\r\n   </g>\r\n   <g id=\"patch_8\">\r\n    <path d=\"M 508.949716 294.118125 \r\nL 508.949716 22.318125 \r\n\" style=\"fill:none;stroke:#000000;stroke-linecap:square;stroke-linejoin:miter;stroke-width:0.8;\"/>\r\n   </g>\r\n   <g id=\"patch_9\">\r\n    <path d=\"M 1016.222443 294.118125 \r\nL 1016.222443 22.318125 \r\n\" style=\"fill:none;stroke:#000000;stroke-linecap:square;stroke-linejoin:miter;stroke-width:0.8;\"/>\r\n   </g>\r\n   <g id=\"patch_10\">\r\n    <path d=\"M 508.949716 294.118125 \r\nL 1016.222443 294.118125 \r\n\" style=\"fill:none;stroke:#000000;stroke-linecap:square;stroke-linejoin:miter;stroke-width:0.8;\"/>\r\n   </g>\r\n   <g id=\"patch_11\">\r\n    <path d=\"M 508.949716 22.318125 \r\nL 1016.222443 22.318125 \r\n\" style=\"fill:none;stroke:#000000;stroke-linecap:square;stroke-linejoin:miter;stroke-width:0.8;\"/>\r\n   </g>\r\n   <g id=\"text_26\">\r\n    <!-- ROC Curve -->\r\n    <defs>\r\n     <path d=\"M 39.40625 66.21875 \r\nQ 28.65625 66.21875 22.328125 58.203125 \r\nQ 16.015625 50.203125 16.015625 36.375 \r\nQ 16.015625 22.609375 22.328125 14.59375 \r\nQ 28.65625 6.59375 39.40625 6.59375 \r\nQ 50.140625 6.59375 56.421875 14.59375 \r\nQ 62.703125 22.609375 62.703125 36.375 \r\nQ 62.703125 50.203125 56.421875 58.203125 \r\nQ 50.140625 66.21875 39.40625 66.21875 \r\nz\r\nM 39.40625 74.21875 \r\nQ 54.734375 74.21875 63.90625 63.9375 \r\nQ 73.09375 53.65625 73.09375 36.375 \r\nQ 73.09375 19.140625 63.90625 8.859375 \r\nQ 54.734375 -1.421875 39.40625 -1.421875 \r\nQ 24.03125 -1.421875 14.8125 8.828125 \r\nQ 5.609375 19.09375 5.609375 36.375 \r\nQ 5.609375 53.65625 14.8125 63.9375 \r\nQ 24.03125 74.21875 39.40625 74.21875 \r\nz\r\n\" id=\"DejaVuSans-79\"/>\r\n    </defs>\r\n    <g transform=\"translate(729.895455 16.318125)scale(0.12 -0.12)\">\r\n     <use xlink:href=\"#DejaVuSans-82\"/>\r\n     <use x=\"69.482422\" xlink:href=\"#DejaVuSans-79\"/>\r\n     <use x=\"148.193359\" xlink:href=\"#DejaVuSans-67\"/>\r\n     <use x=\"218.017578\" xlink:href=\"#DejaVuSans-32\"/>\r\n     <use x=\"249.804688\" xlink:href=\"#DejaVuSans-67\"/>\r\n     <use x=\"319.628906\" xlink:href=\"#DejaVuSans-117\"/>\r\n     <use x=\"383.007812\" xlink:href=\"#DejaVuSans-114\"/>\r\n     <use x=\"424.121094\" xlink:href=\"#DejaVuSans-118\"/>\r\n     <use x=\"483.300781\" xlink:href=\"#DejaVuSans-101\"/>\r\n    </g>\r\n   </g>\r\n   <g id=\"legend_1\">\r\n    <g id=\"patch_12\">\r\n     <path d=\"M 868.966193 289.118125 \r\nL 1009.222443 289.118125 \r\nQ 1011.222443 289.118125 1011.222443 287.118125 \r\nL 1011.222443 273.44 \r\nQ 1011.222443 271.44 1009.222443 271.44 \r\nL 868.966193 271.44 \r\nQ 866.966193 271.44 866.966193 273.44 \r\nL 866.966193 287.118125 \r\nQ 866.966193 289.118125 868.966193 289.118125 \r\nz\r\n\" style=\"fill:#ffffff;opacity:0.8;stroke:#cccccc;stroke-linejoin:miter;\"/>\r\n    </g>\r\n    <g id=\"line2d_18\">\r\n     <path d=\"M 870.966193 279.538437 \r\nL 890.966193 279.538437 \r\n\" style=\"fill:none;stroke:#1f77b4;stroke-linecap:square;stroke-width:1.5;\"/>\r\n    </g>\r\n    <g id=\"line2d_19\"/>\r\n    <g id=\"text_27\">\r\n     <!-- Pipeline (AUC = 0.84) -->\r\n     <defs>\r\n      <path d=\"M 18.109375 8.203125 \r\nL 18.109375 -20.796875 \r\nL 9.078125 -20.796875 \r\nL 9.078125 54.6875 \r\nL 18.109375 54.6875 \r\nL 18.109375 46.390625 \r\nQ 20.953125 51.265625 25.265625 53.625 \r\nQ 29.59375 56 35.59375 56 \r\nQ 45.5625 56 51.78125 48.09375 \r\nQ 58.015625 40.1875 58.015625 27.296875 \r\nQ 58.015625 14.40625 51.78125 6.484375 \r\nQ 45.5625 -1.421875 35.59375 -1.421875 \r\nQ 29.59375 -1.421875 25.265625 0.953125 \r\nQ 20.953125 3.328125 18.109375 8.203125 \r\nz\r\nM 48.6875 27.296875 \r\nQ 48.6875 37.203125 44.609375 42.84375 \r\nQ 40.53125 48.484375 33.40625 48.484375 \r\nQ 26.265625 48.484375 22.1875 42.84375 \r\nQ 18.109375 37.203125 18.109375 27.296875 \r\nQ 18.109375 17.390625 22.1875 11.75 \r\nQ 26.265625 6.109375 33.40625 6.109375 \r\nQ 40.53125 6.109375 44.609375 11.75 \r\nQ 48.6875 17.390625 48.6875 27.296875 \r\nz\r\n\" id=\"DejaVuSans-112\"/>\r\n      <path d=\"M 31 75.875 \r\nQ 24.46875 64.65625 21.28125 53.65625 \r\nQ 18.109375 42.671875 18.109375 31.390625 \r\nQ 18.109375 20.125 21.3125 9.0625 \r\nQ 24.515625 -2 31 -13.1875 \r\nL 23.1875 -13.1875 \r\nQ 15.875 -1.703125 12.234375 9.375 \r\nQ 8.59375 20.453125 8.59375 31.390625 \r\nQ 8.59375 42.28125 12.203125 53.3125 \r\nQ 15.828125 64.359375 23.1875 75.875 \r\nz\r\n\" id=\"DejaVuSans-40\"/>\r\n      <path d=\"M 34.1875 63.1875 \r\nL 20.796875 26.90625 \r\nL 47.609375 26.90625 \r\nz\r\nM 28.609375 72.90625 \r\nL 39.796875 72.90625 \r\nL 67.578125 0 \r\nL 57.328125 0 \r\nL 50.6875 18.703125 \r\nL 17.828125 18.703125 \r\nL 11.1875 0 \r\nL 0.78125 0 \r\nz\r\n\" id=\"DejaVuSans-65\"/>\r\n      <path d=\"M 8.6875 72.90625 \r\nL 18.609375 72.90625 \r\nL 18.609375 28.609375 \r\nQ 18.609375 16.890625 22.84375 11.734375 \r\nQ 27.09375 6.59375 36.625 6.59375 \r\nQ 46.09375 6.59375 50.34375 11.734375 \r\nQ 54.59375 16.890625 54.59375 28.609375 \r\nL 54.59375 72.90625 \r\nL 64.5 72.90625 \r\nL 64.5 27.390625 \r\nQ 64.5 13.140625 57.4375 5.859375 \r\nQ 50.390625 -1.421875 36.625 -1.421875 \r\nQ 22.796875 -1.421875 15.734375 5.859375 \r\nQ 8.6875 13.140625 8.6875 27.390625 \r\nz\r\n\" id=\"DejaVuSans-85\"/>\r\n      <path d=\"M 10.59375 45.40625 \r\nL 73.1875 45.40625 \r\nL 73.1875 37.203125 \r\nL 10.59375 37.203125 \r\nz\r\nM 10.59375 25.484375 \r\nL 73.1875 25.484375 \r\nL 73.1875 17.1875 \r\nL 10.59375 17.1875 \r\nz\r\n\" id=\"DejaVuSans-61\"/>\r\n      <path d=\"M 8.015625 75.875 \r\nL 15.828125 75.875 \r\nQ 23.140625 64.359375 26.78125 53.3125 \r\nQ 30.421875 42.28125 30.421875 31.390625 \r\nQ 30.421875 20.453125 26.78125 9.375 \r\nQ 23.140625 -1.703125 15.828125 -13.1875 \r\nL 8.015625 -13.1875 \r\nQ 14.5 -2 17.703125 9.0625 \r\nQ 20.90625 20.125 20.90625 31.390625 \r\nQ 20.90625 42.671875 17.703125 53.65625 \r\nQ 14.5 64.65625 8.015625 75.875 \r\nz\r\n\" id=\"DejaVuSans-41\"/>\r\n     </defs>\r\n     <g transform=\"translate(898.966193 283.038437)scale(0.1 -0.1)\">\r\n      <use xlink:href=\"#DejaVuSans-80\"/>\r\n      <use x=\"58.052734\" xlink:href=\"#DejaVuSans-105\"/>\r\n      <use x=\"85.835938\" xlink:href=\"#DejaVuSans-112\"/>\r\n      <use x=\"149.3125\" xlink:href=\"#DejaVuSans-101\"/>\r\n      <use x=\"210.835938\" xlink:href=\"#DejaVuSans-108\"/>\r\n      <use x=\"238.619141\" xlink:href=\"#DejaVuSans-105\"/>\r\n      <use x=\"266.402344\" xlink:href=\"#DejaVuSans-110\"/>\r\n      <use x=\"329.78125\" xlink:href=\"#DejaVuSans-101\"/>\r\n      <use x=\"391.304688\" xlink:href=\"#DejaVuSans-32\"/>\r\n      <use x=\"423.091797\" xlink:href=\"#DejaVuSans-40\"/>\r\n      <use x=\"462.105469\" xlink:href=\"#DejaVuSans-65\"/>\r\n      <use x=\"530.513672\" xlink:href=\"#DejaVuSans-85\"/>\r\n      <use x=\"603.707031\" xlink:href=\"#DejaVuSans-67\"/>\r\n      <use x=\"673.53125\" xlink:href=\"#DejaVuSans-32\"/>\r\n      <use x=\"705.318359\" xlink:href=\"#DejaVuSans-61\"/>\r\n      <use x=\"789.107422\" xlink:href=\"#DejaVuSans-32\"/>\r\n      <use x=\"820.894531\" xlink:href=\"#DejaVuSans-48\"/>\r\n      <use x=\"884.517578\" xlink:href=\"#DejaVuSans-46\"/>\r\n      <use x=\"916.304688\" xlink:href=\"#DejaVuSans-56\"/>\r\n      <use x=\"979.927734\" xlink:href=\"#DejaVuSans-52\"/>\r\n      <use x=\"1043.550781\" xlink:href=\"#DejaVuSans-41\"/>\r\n     </g>\r\n    </g>\r\n   </g>\r\n  </g>\r\n  <g id=\"axes_3\">\r\n   <g id=\"patch_13\">\r\n    <path clip-path=\"url(#p36cc359e31)\" d=\"M 331.404261 294.118125 \r\nL 331.404261 293.056406 \r\nL 331.404261 23.379844 \r\nL 331.404261 22.318125 \r\nL 344.994261 22.318125 \r\nL 344.994261 23.379844 \r\nL 344.994261 293.056406 \r\nL 344.994261 294.118125 \r\nz\r\n\" style=\"fill:#ffffff;stroke:#ffffff;stroke-linejoin:miter;stroke-width:0.01;\"/>\r\n   </g>\r\n   <image height=\"271\" id=\"imagef94ec1e18d\" transform=\"scale(1 -1)translate(0 -271)\" width=\"14\" x=\"331\" xlink:href=\"data:image/png;base64,\r\niVBORw0KGgoAAAANSUhEUgAAAA4AAAEPCAYAAAByY/XAAAAABHNCSVQICAgIfAhkiAAAAXZJREFUaIHtm8sNwzAMQ2Uno3WG7j9J0wmSwyNKgbVzJyjxYzdAOl7zfRV4zjEHwdVZYzKgn7E4IwOyOavqHJPuCEc9q4ERAkdMAKLsaNjRPypTlRc5KXI5Pl58VISLsmMFceiOSpEp0O8jwymjNojjZsSq+vvoT47dDl5kYVQKpPejf1R/rfaOj4wQKBzIlBEChRs5yI7N+BPGoGvODcwJgHICQOD28YmR4RYRZyfn9lmiyDsA90/US1mMqkk+1mC3xw7Aj4BmO7KuAChOh48M2FDkFXyE751ZkSu/qiswMmBDkbE4uB1BAYCEkqpuO2bDqP+/44TnqvAtWZA4OYzUx45Rg4BU1ZwdeZGjVP24GXN2PBp2dNtxBI3qL3L57fCrShlpcjgjLrI95B2MMVmlAVCK7G+H+9IRAuCOnHCxmiMnqGqPHD9zcoosnKv2U65hVP+PQISTskoZ+ajw6zVhVMwIgcKO7s/CBXHgP/W4qvT/j3TUL7WjjR5hEDXdAAAAAElFTkSuQmCC\" y=\"-22\"/>\r\n   <g id=\"matplotlib.axis_5\"/>\r\n   <g id=\"matplotlib.axis_6\">\r\n    <g id=\"ytick_9\">\r\n     <g id=\"line2d_20\">\r\n      <defs>\r\n       <path d=\"M 0 0 \r\nL 3.5 0 \r\n\" id=\"me99e70b6e8\" style=\"stroke:#000000;stroke-width:0.8;\"/>\r\n      </defs>\r\n      <g>\r\n       <use style=\"stroke:#000000;stroke-width:0.8;\" x=\"344.994261\" xlink:href=\"#me99e70b6e8\" y=\"290.787769\"/>\r\n      </g>\r\n     </g>\r\n     <g id=\"text_28\">\r\n      <!-- 0.1 -->\r\n      <g transform=\"translate(351.994261 294.586988)scale(0.1 -0.1)\">\r\n       <use xlink:href=\"#DejaVuSans-48\"/>\r\n       <use x=\"63.623047\" xlink:href=\"#DejaVuSans-46\"/>\r\n       <use x=\"95.410156\" xlink:href=\"#DejaVuSans-49\"/>\r\n      </g>\r\n     </g>\r\n    </g>\r\n    <g id=\"ytick_10\">\r\n     <g id=\"line2d_21\">\r\n      <g>\r\n       <use style=\"stroke:#000000;stroke-width:0.8;\" x=\"344.994261\" xlink:href=\"#me99e70b6e8\" y=\"257.645358\"/>\r\n      </g>\r\n     </g>\r\n     <g id=\"text_29\">\r\n      <!-- 0.2 -->\r\n      <g transform=\"translate(351.994261 261.444577)scale(0.1 -0.1)\">\r\n       <use xlink:href=\"#DejaVuSans-48\"/>\r\n       <use x=\"63.623047\" xlink:href=\"#DejaVuSans-46\"/>\r\n       <use x=\"95.410156\" xlink:href=\"#DejaVuSans-50\"/>\r\n      </g>\r\n     </g>\r\n    </g>\r\n    <g id=\"ytick_11\">\r\n     <g id=\"line2d_22\">\r\n      <g>\r\n       <use style=\"stroke:#000000;stroke-width:0.8;\" x=\"344.994261\" xlink:href=\"#me99e70b6e8\" y=\"224.502947\"/>\r\n      </g>\r\n     </g>\r\n     <g id=\"text_30\">\r\n      <!-- 0.3 -->\r\n      <g transform=\"translate(351.994261 228.302166)scale(0.1 -0.1)\">\r\n       <use xlink:href=\"#DejaVuSans-48\"/>\r\n       <use x=\"63.623047\" xlink:href=\"#DejaVuSans-46\"/>\r\n       <use x=\"95.410156\" xlink:href=\"#DejaVuSans-51\"/>\r\n      </g>\r\n     </g>\r\n    </g>\r\n    <g id=\"ytick_12\">\r\n     <g id=\"line2d_23\">\r\n      <g>\r\n       <use style=\"stroke:#000000;stroke-width:0.8;\" x=\"344.994261\" xlink:href=\"#me99e70b6e8\" y=\"191.360536\"/>\r\n      </g>\r\n     </g>\r\n     <g id=\"text_31\">\r\n      <!-- 0.4 -->\r\n      <g transform=\"translate(351.994261 195.159755)scale(0.1 -0.1)\">\r\n       <use xlink:href=\"#DejaVuSans-48\"/>\r\n       <use x=\"63.623047\" xlink:href=\"#DejaVuSans-46\"/>\r\n       <use x=\"95.410156\" xlink:href=\"#DejaVuSans-52\"/>\r\n      </g>\r\n     </g>\r\n    </g>\r\n    <g id=\"ytick_13\">\r\n     <g id=\"line2d_24\">\r\n      <g>\r\n       <use style=\"stroke:#000000;stroke-width:0.8;\" x=\"344.994261\" xlink:href=\"#me99e70b6e8\" y=\"158.218125\"/>\r\n      </g>\r\n     </g>\r\n     <g id=\"text_32\">\r\n      <!-- 0.5 -->\r\n      <defs>\r\n       <path d=\"M 10.796875 72.90625 \r\nL 49.515625 72.90625 \r\nL 49.515625 64.59375 \r\nL 19.828125 64.59375 \r\nL 19.828125 46.734375 \r\nQ 21.96875 47.46875 24.109375 47.828125 \r\nQ 26.265625 48.1875 28.421875 48.1875 \r\nQ 40.625 48.1875 47.75 41.5 \r\nQ 54.890625 34.8125 54.890625 23.390625 \r\nQ 54.890625 11.625 47.5625 5.09375 \r\nQ 40.234375 -1.421875 26.90625 -1.421875 \r\nQ 22.3125 -1.421875 17.546875 -0.640625 \r\nQ 12.796875 0.140625 7.71875 1.703125 \r\nL 7.71875 11.625 \r\nQ 12.109375 9.234375 16.796875 8.0625 \r\nQ 21.484375 6.890625 26.703125 6.890625 \r\nQ 35.15625 6.890625 40.078125 11.328125 \r\nQ 45.015625 15.765625 45.015625 23.390625 \r\nQ 45.015625 31 40.078125 35.4375 \r\nQ 35.15625 39.890625 26.703125 39.890625 \r\nQ 22.75 39.890625 18.8125 39.015625 \r\nQ 14.890625 38.140625 10.796875 36.28125 \r\nz\r\n\" id=\"DejaVuSans-53\"/>\r\n      </defs>\r\n      <g transform=\"translate(351.994261 162.017344)scale(0.1 -0.1)\">\r\n       <use xlink:href=\"#DejaVuSans-48\"/>\r\n       <use x=\"63.623047\" xlink:href=\"#DejaVuSans-46\"/>\r\n       <use x=\"95.410156\" xlink:href=\"#DejaVuSans-53\"/>\r\n      </g>\r\n     </g>\r\n    </g>\r\n    <g id=\"ytick_14\">\r\n     <g id=\"line2d_25\">\r\n      <g>\r\n       <use style=\"stroke:#000000;stroke-width:0.8;\" x=\"344.994261\" xlink:href=\"#me99e70b6e8\" y=\"125.075714\"/>\r\n      </g>\r\n     </g>\r\n     <g id=\"text_33\">\r\n      <!-- 0.6 -->\r\n      <g transform=\"translate(351.994261 128.874933)scale(0.1 -0.1)\">\r\n       <use xlink:href=\"#DejaVuSans-48\"/>\r\n       <use x=\"63.623047\" xlink:href=\"#DejaVuSans-46\"/>\r\n       <use x=\"95.410156\" xlink:href=\"#DejaVuSans-54\"/>\r\n      </g>\r\n     </g>\r\n    </g>\r\n    <g id=\"ytick_15\">\r\n     <g id=\"line2d_26\">\r\n      <g>\r\n       <use style=\"stroke:#000000;stroke-width:0.8;\" x=\"344.994261\" xlink:href=\"#me99e70b6e8\" y=\"91.933303\"/>\r\n      </g>\r\n     </g>\r\n     <g id=\"text_34\">\r\n      <!-- 0.7 -->\r\n      <defs>\r\n       <path d=\"M 8.203125 72.90625 \r\nL 55.078125 72.90625 \r\nL 55.078125 68.703125 \r\nL 28.609375 0 \r\nL 18.3125 0 \r\nL 43.21875 64.59375 \r\nL 8.203125 64.59375 \r\nz\r\n\" id=\"DejaVuSans-55\"/>\r\n      </defs>\r\n      <g transform=\"translate(351.994261 95.732522)scale(0.1 -0.1)\">\r\n       <use xlink:href=\"#DejaVuSans-48\"/>\r\n       <use x=\"63.623047\" xlink:href=\"#DejaVuSans-46\"/>\r\n       <use x=\"95.410156\" xlink:href=\"#DejaVuSans-55\"/>\r\n      </g>\r\n     </g>\r\n    </g>\r\n    <g id=\"ytick_16\">\r\n     <g id=\"line2d_27\">\r\n      <g>\r\n       <use style=\"stroke:#000000;stroke-width:0.8;\" x=\"344.994261\" xlink:href=\"#me99e70b6e8\" y=\"58.790892\"/>\r\n      </g>\r\n     </g>\r\n     <g id=\"text_35\">\r\n      <!-- 0.8 -->\r\n      <g transform=\"translate(351.994261 62.590111)scale(0.1 -0.1)\">\r\n       <use xlink:href=\"#DejaVuSans-48\"/>\r\n       <use x=\"63.623047\" xlink:href=\"#DejaVuSans-46\"/>\r\n       <use x=\"95.410156\" xlink:href=\"#DejaVuSans-56\"/>\r\n      </g>\r\n     </g>\r\n    </g>\r\n    <g id=\"ytick_17\">\r\n     <g id=\"line2d_28\">\r\n      <g>\r\n       <use style=\"stroke:#000000;stroke-width:0.8;\" x=\"344.994261\" xlink:href=\"#me99e70b6e8\" y=\"25.648481\"/>\r\n      </g>\r\n     </g>\r\n     <g id=\"text_36\">\r\n      <!-- 0.9 -->\r\n      <g transform=\"translate(351.994261 29.447699)scale(0.1 -0.1)\">\r\n       <use xlink:href=\"#DejaVuSans-48\"/>\r\n       <use x=\"63.623047\" xlink:href=\"#DejaVuSans-46\"/>\r\n       <use x=\"95.410156\" xlink:href=\"#DejaVuSans-57\"/>\r\n      </g>\r\n     </g>\r\n    </g>\r\n   </g>\r\n   <g id=\"patch_14\">\r\n    <path d=\"M 331.404261 294.118125 \r\nL 331.404261 293.056406 \r\nL 331.404261 23.379844 \r\nL 331.404261 22.318125 \r\nL 344.994261 22.318125 \r\nL 344.994261 23.379844 \r\nL 344.994261 293.056406 \r\nL 344.994261 294.118125 \r\nz\r\n\" style=\"fill:none;stroke:#000000;stroke-linejoin:miter;stroke-width:0.8;\"/>\r\n   </g>\r\n  </g>\r\n </g>\r\n <defs>\r\n  <clipPath id=\"p46ead0c9d3\">\r\n   <rect height=\"271.8\" width=\"271.8\" x=\"34.240625\" y=\"22.318125\"/>\r\n  </clipPath>\r\n  <clipPath id=\"pdbcad28c7f\">\r\n   <rect height=\"271.8\" width=\"507.272727\" x=\"508.949716\" y=\"22.318125\"/>\r\n  </clipPath>\r\n  <clipPath id=\"p36cc359e31\">\r\n   <rect height=\"271.8\" width=\"13.59\" x=\"331.404261\" y=\"22.318125\"/>\r\n  </clipPath>\r\n </defs>\r\n</svg>\r\n",
      "image/png": "[encoded data removed]"
     },
     "metadata": {
      "needs_background": "light"
     }
    }
   ],
   "source": [
    "y_pred = fit.predict(X_test)\n",
    "print(classification_report(y_test, y_pred, target_names=[\"non-smoker\", \"smoker\"]))\n",
    "\n",
    "fig = plt.figure(1, figsize=(20, 5))\n",
    "\n",
    "chart_1 = fig.add_subplot(121)\n",
    "chart_2 = fig.add_subplot(122)\n",
    "\n",
    "# Pass Fitted Model, and our test sets, see how they do\n",
    "plot_confusion_matrix(pipe1, X_test, y_test, normalize='true', ax=chart_1)\n",
    "chart_1.set_title('Confusion Matrix')\n",
    "\n",
    "plot_roc_curve(pipe1, X, y, ax=chart_2)\n",
    "chart_2.set_title('ROC Curve')\n",
    "\n",
    "plt.show()"
   ]
  },
  {
   "cell_type": "code",
   "execution_count": 32,
   "metadata": {},
   "outputs": [],
   "source": [
    "from mlxtend.evaluate import paired_ttest_5x2cv"
   ]
  },
  {
   "cell_type": "code",
   "execution_count": 22,
   "metadata": {
    "tags": []
   },
   "outputs": [
    {
     "output_type": "stream",
     "name": "stdout",
     "text": "t statistic: 1.259\np value: 0.264\n"
    }
   ],
   "source": [
    "t, p = paired_ttest_5x2cv(estimator1=logreg,\n",
    "                          estimator2=rf,\n",
    "                          X=X_train, y=y_train,\n",
    "                          random_seed=1)\n",
    "\n",
    "print('t statistic: %.3f' % t)\n",
    "print('p value: %.3f' % p)"
   ]
  }
 ],
 "metadata": {
  "kernelspec": {
   "display_name": "Python 3.7.1 64-bit ('ML7331': conda)",
   "language": "python",
   "name": "python37164bitml7331condacf2794d0fef349cfa281e1878aa68ff6"
  },
  "language_info": {
   "codemirror_mode": {
    "name": "ipython",
    "version": 3
   },
   "file_extension": ".py",
   "mimetype": "text/x-python",
   "name": "python",
   "nbconvert_exporter": "python",
   "pygments_lexer": "ipython3",
   "version": "3.7.1-final"
  }
 },
 "nbformat": 4,
 "nbformat_minor": 2
}