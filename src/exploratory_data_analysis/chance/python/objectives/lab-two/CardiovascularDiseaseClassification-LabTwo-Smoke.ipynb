{
 "cells": [
  {
   "cell_type": "markdown",
   "metadata": {},
   "source": [
    "# Data Preparation Part 1 (10 points)\n",
    "\n",
    "\n",
    "Define and prepare your class variables. Use proper variable representations (int, float, one-hot, etc.). Use pre-processing methods (as needed) for dimensionality reduction, scaling, etc. Remove variables that are not needed/useful for the analysis."
   ]
  },
  {
   "cell_type": "markdown",
   "metadata": {},
   "source": [
    "## Library Imports"
   ]
  },
  {
   "cell_type": "code",
   "execution_count": 1,
   "metadata": {},
   "outputs": [],
   "source": [
    "# Base Imports\n",
    "import pandas as pd\n",
    "import numpy as np \n",
    "import time\n",
    "from matplotlib import pyplot as plt\n",
    "from matplotlib.ticker import MaxNLocator\n",
    "import seaborn as sns\n",
    "%matplotlib inline\n",
    "\n",
    "# Pre-Processing\n",
    "from sklearn.preprocessing import RobustScaler\n",
    "from sklearn.preprocessing import StandardScaler\n",
    "from sklearn.preprocessing import OneHotEncoder\n",
    "from sklearn.impute import SimpleImputer\n",
    "from sklearn.compose import ColumnTransformer\n",
    "\n",
    "# Metrics and Evaluation\n",
    "from sklearn import metrics\n",
    "from sklearn.metrics import classification_report\n",
    "from sklearn.metrics import plot_confusion_matrix\n",
    "from sklearn.metrics import plot_roc_curve\n",
    "\n",
    "# Train/ Test Split\n",
    "from sklearn.model_selection import train_test_split\n",
    "from sklearn.model_selection import cross_val_score\n",
    "\n",
    "# from sklearn.pipeline import Pipeline\n",
    "\n",
    "# Estimators\n",
    "from sklearn.naive_bayes import MultinomialNB\n",
    "from sklearn.neighbors import KNeighborsClassifier\n",
    "from sklearn.ensemble import RandomForestClassifier\n",
    "from sklearn.ensemble import GradientBoostingClassifier\n",
    "from sklearn.linear_model import LogisticRegression\n",
    "# from sklearn.linear_model import SGDClassifier\n",
    "# from sklearn.svm import LinearSVC\n",
    "# from sklearn.svm import SVC\n",
    "\n",
    "# Hyper Parameter Tuning\n",
    "from sklearn.model_selection import GridSearchCV\n",
    "from sklearn.model_selection import RandomizedSearchCV\n",
    "\n",
    "# Imbalanced Data\n",
    "from imblearn.pipeline import make_pipeline, Pipeline\n",
    "from imblearn.over_sampling import SMOTE\n",
    "from imblearn.over_sampling import BorderlineSMOTE\n",
    "\n",
    "smt = SMOTE(sampling_strategy='not majority')\n",
    "\n"
   ]
  },
  {
   "cell_type": "markdown",
   "metadata": {},
   "source": [
    "## Load Data"
   ]
  },
  {
   "cell_type": "code",
   "execution_count": 2,
   "metadata": {},
   "outputs": [],
   "source": [
    "df = pd.read_csv('../../../../../../data/cardio_train.csv', delimiter=';')\n",
    "# set id as index\n",
    "df.set_index(\"id\", inplace=True)\n",
    "# copy original data\n",
    "df_clean = df.copy(deep=True)\n",
    "# drop duplicates\n",
    "df_clean.drop_duplicates(inplace=True)"
   ]
  },
  {
   "cell_type": "code",
   "execution_count": 3,
   "metadata": {},
   "outputs": [],
   "source": [
    "# %%time\n",
    "\n",
    "# Convert age into years\n",
    "df_clean['age'] = (df_clean['age'] / 365).round().astype('int')\n",
    "\n",
    "# re-encode gender to male (1) and female (0)\n",
    "df_clean['gender'] = np.where((df_clean.gender == 2), 1, 0)\n",
    "\n",
    "# compute the body mass index based on weight and height\n",
    "df_clean['bmi'] = df_clean['weight'] / (df_clean['height']/100)**2\n",
    "\n",
    "# create a BMI group\n",
    "df_clean['bmiGrp'] = np.where((df_clean.bmi < 18.5), 1, 0)\n",
    "df_clean['bmiGrp'] = np.where((df_clean.bmi >= 18.5) & (df_clean.bmi < 25), 2, df_clean.bmiGrp)\n",
    "df_clean['bmiGrp'] = np.where((df_clean.bmi >= 25) & (df_clean.bmi < 30), 3, df_clean.bmiGrp)\n",
    "df_clean['bmiGrp'] = np.where((df_clean.bmi >= 30), 4, df_clean.bmiGrp)\n",
    "\n",
    "# bin blood pressure groups based on the api hi/ lo variables\n",
    "df_clean['bp'] = np.where((df_clean.ap_hi < 120) & (df_clean.ap_lo < 80), 1, 0)\n",
    "df_clean['bp'] = np.where((df_clean.ap_hi >= 120) & (df_clean.ap_hi < 130) & (df_clean.ap_lo < 80), 2, df_clean.bp)\n",
    "df_clean['bp'] = np.where((df_clean.ap_hi >= 130) & (df_clean.ap_hi < 140) | ((df_clean.ap_lo >= 80) & (df_clean.ap_lo < 90)), 3, df_clean.bp)\n",
    "df_clean['bp'] = np.where((df_clean.ap_hi >= 140) | (df_clean.ap_lo >= 90), 4, df_clean.bp)\n",
    "df_clean['bp'] = np.where((df_clean.ap_hi > 180) | (df_clean.ap_lo > 120), 5, df_clean.bp)\n",
    "\n"
   ]
  },
  {
   "cell_type": "markdown",
   "metadata": {},
   "source": [
    "# Data Preparation Part 2 (5 points)\n",
    "\n",
    "\n",
    "Describe the final dataset that is used for classification/regression (include a description of any newly formed variables you created)."
   ]
  },
  {
   "cell_type": "markdown",
   "metadata": {},
   "source": []
  },
  {
   "cell_type": "code",
   "execution_count": 4,
   "metadata": {},
   "outputs": [],
   "source": [
    "# New Feature Model\n",
    "X_cols = ['age', 'gender', 'bmiGrp', 'bp', 'cholesterol', 'gluc', 'cardio', 'alco', 'active']\n",
    "\n",
    "# Store feature matrix \n",
    "X = df_clean[X_cols] #.to_numpy()\n",
    "# Store response vector\n",
    "y = df_clean['smoke'] #.to_numpy()\n",
    "\n",
    "# Full Model\n",
    "# X_cols = ['age', 'gender', 'height', 'weight', 'ap_hi', 'ap_lo', 'cholesterol', 'gluc', 'smoke', 'alco', 'active']\n"
   ]
  },
  {
   "cell_type": "markdown",
   "metadata": {},
   "source": [
    "# Modeling and Evaluation 1 (10 points)\n",
    "\n",
    "\n",
    "Choose and explain your evaluation metrics that you will use (i.e., accuracy,\n",
    "precision, recall, F-measure, or any metric we have discussed). Why are the measure(s) appropriate for analyzing the results of your modeling? Give a detailed explanation backing up any assertions.\n",
    "\n"
   ]
  },
  {
   "cell_type": "code",
   "execution_count": 5,
   "metadata": {},
   "outputs": [],
   "source": []
  },
  {
   "cell_type": "markdown",
   "metadata": {},
   "source": [
    "# Modeling and Evaluation 2 (10 points)\n",
    "\n",
    "Choose the method you will use for dividing your data into training and testing splits (i.e., are you using Stratified 10-fold cross validation? Why?). Explain why your chosen method is appropriate or use more than one method as appropriate. For example, if you are using time series data then you should be using continuous training and testing sets across time.\n",
    "\n",
    "\n"
   ]
  },
  {
   "cell_type": "markdown",
   "metadata": {},
   "source": [
    "# Modeling and Evaluation 3\n",
    "\n",
    "Create three different classification/regression models for each task (e.g., random forest, KNN, and SVM for task one and the same or different algorithms for task two). Two modeling techniques must be new (but the third could be SVM or logistic regression). Adjust parameters as appropriate to increase generalization performance using your chosen metric. You must investigate different parameters of the algorithms!\n"
   ]
  },
  {
   "cell_type": "code",
   "execution_count": 5,
   "metadata": {
    "tags": []
   },
   "outputs": [
    {
     "output_type": "stream",
     "name": "stdout",
     "text": "10-fold cross validation:\n\nROC AUC: 0.835 (+/- 0.01) [Naive Bayes]\nROC AUC: 0.824 (+/- 0.01) [KNN]\nROC AUC: 0.832 (+/- 0.01) [Random Forest]\nROC AUC: 0.834 (+/- 0.01) [Gradient Boosting]\nROC AUC: 0.842 (+/- 0.01) [Logistic Regression]\n"
    }
   ],
   "source": [
    "numeric_features = ['age', 'cholesterol', 'bp', 'bmiGrp', 'gluc']\n",
    "categorical_features = ['gender', 'cardio', 'alco', 'active']\n",
    "\n",
    "numeric_transformer = Pipeline(steps=[\n",
    "    ('imputer', SimpleImputer(missing_values=np.nan, strategy=\"median\"))])\n",
    "\n",
    "categorical_transformer = Pipeline(steps=[\n",
    "    ('imputer', SimpleImputer(missing_values=np.nan, strategy=\"median\")),\n",
    "    ('onehot', OneHotEncoder(handle_unknown='ignore'))])\n",
    "\n",
    "preprocessor = ColumnTransformer(\n",
    "    transformers=[\n",
    "        ('num', numeric_transformer, numeric_features),\n",
    "        ('cat', categorical_transformer, categorical_features)])\n",
    "\n",
    "clf1 = MultinomialNB(alpha=1.0)\n",
    "clf2 = KNeighborsClassifier(n_neighbors=41)\n",
    "clf3 = RandomForestClassifier(random_state=1, n_estimators=400, min_samples_split=5, min_samples_leaf=4, max_features='sqrt', bootstrap=True)\n",
    "clf4 = GradientBoostingClassifier(random_state=1, n_estimators=8, min_samples_split=0.5, min_samples_leaf=0.1, max_features=3, max_depth=16.0)\n",
    "clf5 = LogisticRegression(random_state=1, penalty=\"l2\", C=0.01)\n",
    "\n",
    "\n",
    "pipe1 = Pipeline([['preprocessor', preprocessor], \n",
    "                 # ['rs', RobustScaler()],             <<< ValueError: Negative values in data passed to MultinomialNB (input X)\n",
    "                 ['smt', smt],\n",
    "                 ['clf', clf1]])\n",
    "\n",
    "pipe2 = Pipeline([['preprocessor', preprocessor], \n",
    "                  ['rs', RobustScaler()],\n",
    "                  ['smt', smt],\n",
    "                  ['clf', clf2]])\n",
    "\n",
    "pipe3 = Pipeline([['preprocessor', preprocessor], \n",
    "                  ['rs', RobustScaler()],\n",
    "                  ['smt', smt],\n",
    "                  ['clf', clf3]])\n",
    "                  \n",
    "pipe4 = Pipeline([['preprocessor', preprocessor], \n",
    "                  ['rs', RobustScaler()],\n",
    "                  ['smt', smt],\n",
    "                  ['clf', clf4]])\n",
    "\n",
    "pipe5 = Pipeline([['preprocessor', preprocessor], \n",
    "                  ['rs', RobustScaler()],\n",
    "                  ['smt', smt],\n",
    "                  ['clf', clf5]])\n",
    "\n",
    "clf_labels = ['Naive Bayes', 'KNN', 'Random Forest', 'Gradient Boosting', 'Logistic Regression']\n",
    "\n",
    "# Note n_jobs below. Setting it to -1 will create cv number of threads\n",
    "print('10-fold cross validation:\\n')\n",
    "for clf, label in zip([pipe1, pipe2, pipe3, pipe4, pipe5], clf_labels):\n",
    "    scores = cross_val_score(estimator=clf,\n",
    "                             X=X,\n",
    "                             y=y,\n",
    "                             cv=10,\n",
    "                             scoring='roc_auc',\n",
    "                             n_jobs=-1)\n",
    "    print(\"ROC AUC: %0.3f (+/- %0.2f) [%s]\"\n",
    "          % (scores.mean(), scores.std(), label))"
   ]
  },
  {
   "cell_type": "markdown",
   "metadata": {},
   "source": [
    "\n"
   ]
  },
  {
   "cell_type": "markdown",
   "metadata": {},
   "source": [
    "## Grid Search"
   ]
  },
  {
   "cell_type": "code",
   "execution_count": 6,
   "metadata": {
    "tags": []
   },
   "outputs": [],
   "source": [
    "numeric_features = ['age', 'cholesterol', 'bp', 'bmiGrp', 'gluc']\n",
    "categorical_features = ['gender', 'cardio', 'alco', 'active']\n",
    "\n",
    "numeric_transformer = Pipeline(steps=[\n",
    "    ('imputer', SimpleImputer(missing_values=np.nan, strategy=\"median\"))])\n",
    "\n",
    "categorical_transformer = Pipeline(steps=[\n",
    "    ('imputer', SimpleImputer(missing_values=np.nan, strategy=\"median\")),\n",
    "    ('onehot', OneHotEncoder(handle_unknown='ignore'))])\n",
    "\n",
    "preprocessor = ColumnTransformer(\n",
    "    transformers=[\n",
    "        ('num', numeric_transformer, numeric_features),\n",
    "        ('cat', categorical_transformer, categorical_features)])\n",
    "\n",
    "clf1 = MultinomialNB()\n",
    "clf2 = KNeighborsClassifier()\n",
    "clf3 = RandomForestClassifier(random_state=1)\n",
    "clf4 = GradientBoostingClassifier(random_state=1)\n",
    "clf5 = LogisticRegression(random_state=1)\n",
    "\n",
    "\n",
    "pipe1 = Pipeline([['preprocessor', preprocessor], \n",
    "                 # ['rs', RobustScaler()],             <<< ValueError: Negative values in data passed to MultinomialNB (input X)\n",
    "                 ['smt', smt],\n",
    "                 ['clf', clf1]])\n",
    "\n",
    "# 10 Fold Cross Validation Scores:\n",
    "\n",
    "# Model :  multinomialnb\n",
    "# Best ROC AUC :  0.8368920567845517\n",
    "# Best Params :  {'clf__alpha': 1.0}\n",
    "# Mean Fit Time:  0.07257645130157471\n",
    "# Mean Score Time:  0.040400218963623044\n",
    "# Cross Validation Time :  0.49883437156677246\n",
    "# Prediction Accuracy :  0.9226207487853673\n",
    "\n",
    "pipe2 = Pipeline([['preprocessor', preprocessor], \n",
    "                  ['rs', RobustScaler()],\n",
    "                  ['smt', smt],\n",
    "                  ['clf', clf2]])\n",
    "\n",
    "# 10 Fold Cross Validation Scores:\n",
    "\n",
    "# Model :  kneighborsClassifier\n",
    "# Best ROC AUC :  0.8350751363162301\n",
    "# Best Params :  {'clf__weights': 'uniform', 'clf__n_neighbors': 41}\n",
    "# Mean Fit Time:  3.0239290308952333\n",
    "# Mean Score Time:  1.8149034547805787\n",
    "# Cross Validation Time :  125.22991991043091\n",
    "# Prediction Accuracy :  0.922049156901972\n",
    "\n",
    "                  \n",
    "pipe3 = Pipeline([['preprocessor', preprocessor], \n",
    "                  ['rs', RobustScaler()],\n",
    "                  ['smt', smt],\n",
    "                  ['clf', clf3]])\n",
    "\n",
    "# 10 Fold Cross Validation Scores:\n",
    "\n",
    "# Model :  randomforestclassifier\n",
    "# Best ROC AUC :  0.8316152723884954\n",
    "# Best Params :  {'clf__n_estimators': 400, 'clf__min_samples_split': 5, 'clf__min_samples_leaf': 4, 'clf__max_features': 'sqrt', 'clf__bootstrap': True}\n",
    "# Mean Fit Time:  36.287376403808594\n",
    "# Mean Score Time:  1.1152954840660096\n",
    "# Cross Validation Time :  981.8869123458862\n",
    "# Prediction Accuracy :  0.9259031668000457\n",
    "\n",
    "\n",
    "pipe4 = Pipeline([['preprocessor', preprocessor], \n",
    "                  ['rs', RobustScaler()],\n",
    "                  ['smt', smt],\n",
    "                  ['clf', clf4]])\n",
    "\n",
    "# 10 Fold Cross Validation Scores:\n",
    "\n",
    "# Model :  gradientboostingclassifier\n",
    "# Best ROC AUC :  0.8345389123375059\n",
    "# Best Params :  {'clf__n_estimators': 8, 'clf__min_samples_split': 0.5, 'clf__min_samples_leaf': 0.1, 'clf__max_features': 3, 'clf__max_depth': 16.0}\n",
    "# Mean Fit Time:  2.4474071407318116\n",
    "# Mean Score Time:  0.020083580017089844\n",
    "# Cross Validation Time :  65.13263440132141\n",
    "# Prediction Accuracy :  0.7032554018520636\n",
    "\n",
    "\n",
    "pipe5 = Pipeline([['preprocessor', preprocessor], \n",
    "                  ['rs', RobustScaler()],\n",
    "                  ['smt', smt],\n",
    "                  ['clf', clf5]])\n",
    "\n",
    "\n",
    "# 10 Fold Cross Validation Scores:\n",
    "\n",
    "# Model :  logisticregression\n",
    "# Best ROC AUC :  0.8419229164549697\n",
    "# Best Params :  {'clf__penalty': 'l2', 'clf__C': 0.01}\n",
    "# Mean Fit Time:  0.49091886758804326\n",
    "# Mean Score Time:  0.0059380531311035165\n",
    "# Cross Validation Time :  13.529561281204224\n",
    "# Prediction Accuracy :  0.7038984794786785\n",
    "\n",
    "model_params = {\n",
    "    # \"multinomialnb\": {\n",
    "    #     \"model\": pipe1,\n",
    "    #     \"params\": {\n",
    "    #         \"clf__alpha\": [0.0001, 0.001, 0.01, 0.1, 1.0]\n",
    "    #     }\n",
    "    # },\n",
    "    # \"kneighborsClassifier\": {\n",
    "    #     \"model\": pipe2,\n",
    "    #     \"params\": {\n",
    "    #         \"clf__n_neighbors\": np.arange(5,51),\n",
    "    #         \"clf__weights\": [\"uniform\", \"distance\"]\n",
    "    #     }\n",
    "    # },\n",
    "    # \"randomforestclassifier\": {\n",
    "    #     \"model\": pipe3,\n",
    "    #     \"params\": {\n",
    "    #         \"clf__n_estimators\": [200, 400, 600, 800, 1000, 1200, 1400, 1600, 1800, 2000],\n",
    "    #         # \"clf__criterion\": ['gini','entropy'],\n",
    "    #         \"clf__max_features\": ['auto', 'sqrt'],\n",
    "    #         \"clf__min_samples_split\": [2, 5, 10],\n",
    "    #         \"clf__min_samples_leaf\": [1, 2, 4],\n",
    "    #         \"clf__bootstrap\": [True, False]\n",
    "    #     }\n",
    "    # },\n",
    "    # \"gradientboostingclassifier\": {\n",
    "    #     \"model\": pipe4,\n",
    "    #     \"params\": {\n",
    "    #         # \"clf__loss\": ['deviance', 'exponential'],\n",
    "    #         \"clf__n_estimators\": [1, 2, 4, 8, 16, 32, 64, 100, 200],\n",
    "    #         \"clf__max_depth\": np.linspace(1, 32, 32, endpoint=True),\n",
    "    #         \"clf__min_samples_split\": np.linspace(0.1, 1.0, 10, endpoint=True),\n",
    "    #         \"clf__min_samples_leaf\": np.linspace(0.1, 0.5, 5, endpoint=True),\n",
    "    #         \"clf__max_features\": list(range(1,X.shape[1]))\n",
    "    #     }\n",
    "    # },\n",
    "    # \"logisticregression\": {\n",
    "    #     \"model\": pipe5,\n",
    "    #     \"params\": {\n",
    "    #         \"clf__C\": [.01, .1, 1, 5, 10, 25, 50],\n",
    "    #         \"clf__penalty\": [\"l1\", \"l2\"]\n",
    "    #     }\n",
    "    # }\n",
    "}\n",
    "\n",
    "\n",
    "\n",
    "scores = []\n",
    "\n",
    "for model_name, mp in model_params.items():\n",
    "    start = time.time()\n",
    "    # clf = GridSearchCV(estimator = mp[\"model\"], param_grid=mp[\"params\"], cv=3, scoring=\"roc_auc\", n_jobs=-1)\n",
    "    clf = RandomizedSearchCV(estimator = mp[\"model\"], param_distributions=mp[\"params\"], cv=10, scoring=\"roc_auc\", n_jobs=-1)\n",
    "    clf.fit(X, y)\n",
    "    elapsed_time = (time.time() - start)\n",
    "\n",
    "    scores.append({\"Model\": model_name,\n",
    "    \"Best ROC AUC\": clf.best_score_, # Mean cross-validated score of the best_estimator\n",
    "    \"Best Params\": clf.best_params_,\n",
    "    \"results\": clf.cv_results_,\n",
    "    \"Cross Validation Time\": elapsed_time,\n",
    "    \"Best Estimator\": clf.best_estimator_\n",
    "    })"
   ]
  },
  {
   "cell_type": "code",
   "execution_count": 7,
   "metadata": {
    "tags": []
   },
   "outputs": [
    {
     "output_type": "stream",
     "name": "stdout",
     "text": "10 Fold Cross Validation Scores:\n"
    }
   ],
   "source": [
    "# Although not pretty, it's quick and easy to read\n",
    "print('10 Fold Cross Validation Scores:')\n",
    "\n",
    "for model in scores:\n",
    "    print()\n",
    "    for key, value in model.items():\n",
    "        if key == 'Best Estimator':\n",
    "            print(\"Prediction Accuracy\",': ',value.score(X, y))\n",
    "        elif key == 'results':\n",
    "            print('Mean Fit Time: ', value['mean_fit_time'].mean())\n",
    "            print('Mean Score Time: ', value['mean_score_time'].mean())\n",
    "        else:\n",
    "            print(key,': ',value)"
   ]
  },
  {
   "cell_type": "markdown",
   "metadata": {},
   "source": []
  },
  {
   "cell_type": "markdown",
   "metadata": {},
   "source": [
    "# Modeling and Evaluation 4 (10 Points)\n",
    "\n",
    "\n",
    "Analyze the results using your chosen method of evaluation. Use visualizations of the results to bolster the analysis. Explain any visuals and analyze why they are interesting to someone that might use this model.\n",
    "\n"
   ]
  },
  {
   "cell_type": "markdown",
   "metadata": {},
   "source": [
    "# Modeling and Evaluation 5 (10 Points)\n",
    "\n",
    "\n",
    "Discuss the advantages of each model for each classification task, if any. If there are not advantages, explain why. Is any model better than another? Is the difference significant with 95% confidence? Use proper statistical comparison methods. You must use statistical comparison techniques—be sure they are appropriate for your chosen method of validation as discussed in unit 7 of the course.\n",
    "\n",
    "\n"
   ]
  },
  {
   "cell_type": "markdown",
   "metadata": {},
   "source": [
    "# Modeling and Evaluation 6 (10 Points)\n",
    "\n",
    "\n",
    "Which attributes from your analysis are most important? Use proper methods discussed in class to evaluate the importance of different attributes. Discuss the results and hypothesize about why certain attributes are more important than others for a given classification task.\n"
   ]
  },
  {
   "cell_type": "markdown",
   "metadata": {},
   "source": [
    "# Deployment (5 Points)\n",
    "\n",
    "\n",
    "How useful is your model for interested parties (i.e., the companies or organizations that might want to use it for prediction)? How would you measure the model's value if it was used by these parties? How would your deploy your model for interested parties? What other data should be collected? How often would the model need to be updated, etc.? \n"
   ]
  },
  {
   "cell_type": "markdown",
   "metadata": {},
   "source": [
    "# Exceptional Work (10 points)\n",
    "\n",
    "\n",
    "You have free reign to provide additional analyses. One idea: grid search parameters in a parallelized fashion and visualize the performances across attributes. Which parameters are most significant for making a good model for each classification algorithm?\n"
   ]
  },
  {
   "cell_type": "code",
   "execution_count": 8,
   "metadata": {},
   "outputs": [],
   "source": [
    "X_train, X_test, y_train, y_test =\\\n",
    "    train_test_split(X, y,\n",
    "    test_size=0.2,\n",
    "    random_state=1,\n",
    "    stratify=y)\n",
    "\n",
    "numeric_features = ['age', 'cholesterol', 'bp', 'bmiGrp', 'gluc']\n",
    "categorical_features = ['gender', 'cardio', 'alco', 'active']\n",
    "\n",
    "numeric_transformer = Pipeline(steps=[\n",
    "    ('imputer', SimpleImputer(missing_values=np.nan, strategy=\"median\"))])\n",
    "\n",
    "categorical_transformer = Pipeline(steps=[\n",
    "    ('imputer', SimpleImputer(missing_values=np.nan, strategy=\"median\")),\n",
    "    ('onehot', OneHotEncoder(handle_unknown='ignore'))])\n",
    "\n",
    "preprocessor = ColumnTransformer(\n",
    "    transformers=[\n",
    "        ('num', numeric_transformer, numeric_features),\n",
    "        ('cat', categorical_transformer, categorical_features)])\n",
    "\n",
    "nb = MultinomialNB(alpha=1.0)\n",
    "knn = KNeighborsClassifier(n_neighbors=38)\n",
    "rf = RandomForestClassifier(random_state=1, n_estimators=200, min_samples_split=10, min_samples_leaf=4, max_features='sqrt', bootstrap=True)\n",
    "gb = GradientBoostingClassifier(random_state=1, n_estimators=8, min_samples_split=0.5, min_samples_leaf=0.1, max_features=3, max_depth=16.0)\n",
    "logreg = LogisticRegression(random_state=1)\n",
    "\n",
    "pipe1 = Pipeline([['preprocessor', preprocessor], \n",
    "                 ['rs', RobustScaler()],\n",
    "                 ['smt', smt],\n",
    "                 ['classifer', logreg]])\n",
    "\n",
    "fit = pipe1.fit(X_train, y_train)"
   ]
  },
  {
   "cell_type": "code",
   "execution_count": 9,
   "metadata": {
    "tags": []
   },
   "outputs": [
    {
     "output_type": "stream",
     "name": "stdout",
     "text": "precision    recall  f1-score   support\n\n  non-smoker       0.99      0.68      0.81     12762\n      smoker       0.22      0.91      0.35      1234\n\n    accuracy                           0.70     13996\n   macro avg       0.60      0.80      0.58     13996\nweighted avg       0.92      0.70      0.77     13996\n\n"
    },
    {
     "output_type": "display_data",
     "data": {
      "text/plain": "<Figure size 1440x360 with 3 Axes>",
      "image/svg+xml": "<?xml version=\"1.0\" encoding=\"utf-8\" standalone=\"no\"?>\r\n<!DOCTYPE svg PUBLIC \"-//W3C//DTD SVG 1.1//EN\"\r\n  \"http://www.w3.org/Graphics/SVG/1.1/DTD/svg11.dtd\">\r\n<!-- Created with matplotlib (https://matplotlib.org/) -->\r\n<svg height=\"331.674375pt\" version=\"1.1\" viewBox=\"0 0 1023.422443 331.674375\" width=\"1023.422443pt\" xmlns=\"http://www.w3.org/2000/svg\" xmlns:xlink=\"http://www.w3.org/1999/xlink\">\r\n <defs>\r\n  <style type=\"text/css\">\r\n*{stroke-linecap:butt;stroke-linejoin:round;}\r\n  </style>\r\n </defs>\r\n <g id=\"figure_1\">\r\n  <g id=\"patch_1\">\r\n   <path d=\"M 0 331.674375 \r\nL 1023.422443 331.674375 \r\nL 1023.422443 0 \r\nL 0 0 \r\nz\r\n\" style=\"fill:none;\"/>\r\n  </g>\r\n  <g id=\"axes_1\">\r\n   <g id=\"patch_2\">\r\n    <path d=\"M 34.240625 294.118125 \r\nL 306.040625 294.118125 \r\nL 306.040625 22.318125 \r\nL 34.240625 22.318125 \r\nz\r\n\" style=\"fill:#ffffff;\"/>\r\n   </g>\r\n   <g clip-path=\"url(#pd7fea51610)\">\r\n    <image height=\"272\" id=\"imagea12d7f80c4\" transform=\"scale(1 -1)translate(0 -272)\" width=\"272\" x=\"34.240625\" xlink:href=\"data:image/png;base64,\r\niVBORw0KGgoAAAANSUhEUgAAARAAAAEQCAYAAAB4CisVAAAABHNCSVQICAgIfAhkiAAAA3RJREFUeJzt1jERwlAABUHCpEEBXqiREBHUuEsZB6jABiigueZ/ZnYVvOrmLfdl+5zgh/39Gj2BiZ1HDwD+l4AAmYAAmYAAmYAAmYAAmYAAmYAAmYAAmYAAmYAAmYAAmYAAmYAAmYAAmYAAmYAAmYAAmYAAmYAAmYAAmYAAmYAAmYAAmYAAmYAAmYAAmYAAmYAAmYAAmYAAmYAAmYAAmYAAmYAAmYAAmYAAmYAAmYAAmYAAmYAAmYAAmYAAmYAAmYAAmYAAmYAAmYAAmYAAmYAAmYAAmYAAmYAAmYAAmYAAmYAAmYAAmYAAmYAAmYAAmYAAmYAAmYAAmYAAmYAAmYAAmYAAmYAAmYAAmYAAmYAAmYAAmYAAmYAAmYAAmYAAmYAAmYAAmYAAmYAAmYAAmYAAmYAAmYAAmYAAmYAAmYAAmYAAmYAAmYAAmYAAmYAAmYAAmYAAmYAAmYAAmYAAmYAAmYAAmYAAmYAAmYAAmYAAmYAAmYAAmYAAmYAAmYAAmYAAmYAAmYAAmYAAmYAAmYAAmYAAmYAAmYAAmYAAmYAAmYAAmYAAmYAAmYAAmYAAmYAAmYAAmYAAmYAAmYAAmYAAmYAAmYAAmYAAmYAAmYAA2Xo5rqM3MLHb8zF6AhPzQIBMQIBMQIBMQIBMQIBMQIBMQIBMQIBMQIBMQIBMQIBMQIBMQIBMQIBMQIBMQIBMQIBMQIBMQIBMQIBMQIBMQIBMQIBMQIBMQIBMQIBMQIBMQIBMQIBMQIBMQIBMQIBMQIBMQIBMQIBMQIBMQIBMQIBMQIBMQIBMQIBMQIBMQIBMQIBMQIBMQIBMQIBMQIBMQIBMQIBMQIBMQIBMQIBMQIBMQIBMQIBMQIBMQIBMQIBMQIBMQIBMQIBMQIBMQIBMQIBMQIBMQIBMQIBMQIBMQIBMQIBMQIBMQIBMQIBMQIBMQIBMQIBMQIBMQIBMQIBMQIBMQIBMQIBMQIBMQIBMQIBMQIBMQIBMQIBMQIBMQIBMQIBMQIBMQIBMQIBMQIBMQIBMQIBMQIBMQIBMQIBMQIBMQIBMQIBMQIBMQIBMQIBMQIBMQIBMQIBMQIBMQIBMQIBMQIBMQIBMQIBMQIBMQIBMQIBMQIBMQIBMQIBMQIBMQIBMQIBMQIBMQIBMQIBMQIBMQIBMQIBMQIBMQIBMQIBMQIDsC5mPCB5cgFFZAAAAAElFTkSuQmCC\" y=\"-22.118125\"/>\r\n   </g>\r\n   <g id=\"matplotlib.axis_1\">\r\n    <g id=\"xtick_1\">\r\n     <g id=\"line2d_1\">\r\n      <defs>\r\n       <path d=\"M 0 0 \r\nL 0 3.5 \r\n\" id=\"m1c6190b104\" style=\"stroke:#000000;stroke-width:0.8;\"/>\r\n      </defs>\r\n      <g>\r\n       <use style=\"stroke:#000000;stroke-width:0.8;\" x=\"102.190625\" xlink:href=\"#m1c6190b104\" y=\"294.118125\"/>\r\n      </g>\r\n     </g>\r\n     <g id=\"text_1\">\r\n      <!-- 0 -->\r\n      <defs>\r\n       <path d=\"M 31.78125 66.40625 \r\nQ 24.171875 66.40625 20.328125 58.90625 \r\nQ 16.5 51.421875 16.5 36.375 \r\nQ 16.5 21.390625 20.328125 13.890625 \r\nQ 24.171875 6.390625 31.78125 6.390625 \r\nQ 39.453125 6.390625 43.28125 13.890625 \r\nQ 47.125 21.390625 47.125 36.375 \r\nQ 47.125 51.421875 43.28125 58.90625 \r\nQ 39.453125 66.40625 31.78125 66.40625 \r\nz\r\nM 31.78125 74.21875 \r\nQ 44.046875 74.21875 50.515625 64.515625 \r\nQ 56.984375 54.828125 56.984375 36.375 \r\nQ 56.984375 17.96875 50.515625 8.265625 \r\nQ 44.046875 -1.421875 31.78125 -1.421875 \r\nQ 19.53125 -1.421875 13.0625 8.265625 \r\nQ 6.59375 17.96875 6.59375 36.375 \r\nQ 6.59375 54.828125 13.0625 64.515625 \r\nQ 19.53125 74.21875 31.78125 74.21875 \r\nz\r\n\" id=\"DejaVuSans-48\"/>\r\n      </defs>\r\n      <g transform=\"translate(99.009375 308.716563)scale(0.1 -0.1)\">\r\n       <use xlink:href=\"#DejaVuSans-48\"/>\r\n      </g>\r\n     </g>\r\n    </g>\r\n    <g id=\"xtick_2\">\r\n     <g id=\"line2d_2\">\r\n      <g>\r\n       <use style=\"stroke:#000000;stroke-width:0.8;\" x=\"238.090625\" xlink:href=\"#m1c6190b104\" y=\"294.118125\"/>\r\n      </g>\r\n     </g>\r\n     <g id=\"text_2\">\r\n      <!-- 1 -->\r\n      <defs>\r\n       <path d=\"M 12.40625 8.296875 \r\nL 28.515625 8.296875 \r\nL 28.515625 63.921875 \r\nL 10.984375 60.40625 \r\nL 10.984375 69.390625 \r\nL 28.421875 72.90625 \r\nL 38.28125 72.90625 \r\nL 38.28125 8.296875 \r\nL 54.390625 8.296875 \r\nL 54.390625 0 \r\nL 12.40625 0 \r\nz\r\n\" id=\"DejaVuSans-49\"/>\r\n      </defs>\r\n      <g transform=\"translate(234.909375 308.716563)scale(0.1 -0.1)\">\r\n       <use xlink:href=\"#DejaVuSans-49\"/>\r\n      </g>\r\n     </g>\r\n    </g>\r\n    <g id=\"text_3\">\r\n     <!-- Predicted label -->\r\n     <defs>\r\n      <path d=\"M 19.671875 64.796875 \r\nL 19.671875 37.40625 \r\nL 32.078125 37.40625 \r\nQ 38.96875 37.40625 42.71875 40.96875 \r\nQ 46.484375 44.53125 46.484375 51.125 \r\nQ 46.484375 57.671875 42.71875 61.234375 \r\nQ 38.96875 64.796875 32.078125 64.796875 \r\nz\r\nM 9.8125 72.90625 \r\nL 32.078125 72.90625 \r\nQ 44.34375 72.90625 50.609375 67.359375 \r\nQ 56.890625 61.8125 56.890625 51.125 \r\nQ 56.890625 40.328125 50.609375 34.8125 \r\nQ 44.34375 29.296875 32.078125 29.296875 \r\nL 19.671875 29.296875 \r\nL 19.671875 0 \r\nL 9.8125 0 \r\nz\r\n\" id=\"DejaVuSans-80\"/>\r\n      <path d=\"M 41.109375 46.296875 \r\nQ 39.59375 47.171875 37.8125 47.578125 \r\nQ 36.03125 48 33.890625 48 \r\nQ 26.265625 48 22.1875 43.046875 \r\nQ 18.109375 38.09375 18.109375 28.8125 \r\nL 18.109375 0 \r\nL 9.078125 0 \r\nL 9.078125 54.6875 \r\nL 18.109375 54.6875 \r\nL 18.109375 46.1875 \r\nQ 20.953125 51.171875 25.484375 53.578125 \r\nQ 30.03125 56 36.53125 56 \r\nQ 37.453125 56 38.578125 55.875 \r\nQ 39.703125 55.765625 41.0625 55.515625 \r\nz\r\n\" id=\"DejaVuSans-114\"/>\r\n      <path d=\"M 56.203125 29.59375 \r\nL 56.203125 25.203125 \r\nL 14.890625 25.203125 \r\nQ 15.484375 15.921875 20.484375 11.0625 \r\nQ 25.484375 6.203125 34.421875 6.203125 \r\nQ 39.59375 6.203125 44.453125 7.46875 \r\nQ 49.3125 8.734375 54.109375 11.28125 \r\nL 54.109375 2.78125 \r\nQ 49.265625 0.734375 44.1875 -0.34375 \r\nQ 39.109375 -1.421875 33.890625 -1.421875 \r\nQ 20.796875 -1.421875 13.15625 6.1875 \r\nQ 5.515625 13.8125 5.515625 26.8125 \r\nQ 5.515625 40.234375 12.765625 48.109375 \r\nQ 20.015625 56 32.328125 56 \r\nQ 43.359375 56 49.78125 48.890625 \r\nQ 56.203125 41.796875 56.203125 29.59375 \r\nz\r\nM 47.21875 32.234375 \r\nQ 47.125 39.59375 43.09375 43.984375 \r\nQ 39.0625 48.390625 32.421875 48.390625 \r\nQ 24.90625 48.390625 20.390625 44.140625 \r\nQ 15.875 39.890625 15.1875 32.171875 \r\nz\r\n\" id=\"DejaVuSans-101\"/>\r\n      <path d=\"M 45.40625 46.390625 \r\nL 45.40625 75.984375 \r\nL 54.390625 75.984375 \r\nL 54.390625 0 \r\nL 45.40625 0 \r\nL 45.40625 8.203125 \r\nQ 42.578125 3.328125 38.25 0.953125 \r\nQ 33.9375 -1.421875 27.875 -1.421875 \r\nQ 17.96875 -1.421875 11.734375 6.484375 \r\nQ 5.515625 14.40625 5.515625 27.296875 \r\nQ 5.515625 40.1875 11.734375 48.09375 \r\nQ 17.96875 56 27.875 56 \r\nQ 33.9375 56 38.25 53.625 \r\nQ 42.578125 51.265625 45.40625 46.390625 \r\nz\r\nM 14.796875 27.296875 \r\nQ 14.796875 17.390625 18.875 11.75 \r\nQ 22.953125 6.109375 30.078125 6.109375 \r\nQ 37.203125 6.109375 41.296875 11.75 \r\nQ 45.40625 17.390625 45.40625 27.296875 \r\nQ 45.40625 37.203125 41.296875 42.84375 \r\nQ 37.203125 48.484375 30.078125 48.484375 \r\nQ 22.953125 48.484375 18.875 42.84375 \r\nQ 14.796875 37.203125 14.796875 27.296875 \r\nz\r\n\" id=\"DejaVuSans-100\"/>\r\n      <path d=\"M 9.421875 54.6875 \r\nL 18.40625 54.6875 \r\nL 18.40625 0 \r\nL 9.421875 0 \r\nz\r\nM 9.421875 75.984375 \r\nL 18.40625 75.984375 \r\nL 18.40625 64.59375 \r\nL 9.421875 64.59375 \r\nz\r\n\" id=\"DejaVuSans-105\"/>\r\n      <path d=\"M 48.78125 52.59375 \r\nL 48.78125 44.1875 \r\nQ 44.96875 46.296875 41.140625 47.34375 \r\nQ 37.3125 48.390625 33.40625 48.390625 \r\nQ 24.65625 48.390625 19.8125 42.84375 \r\nQ 14.984375 37.3125 14.984375 27.296875 \r\nQ 14.984375 17.28125 19.8125 11.734375 \r\nQ 24.65625 6.203125 33.40625 6.203125 \r\nQ 37.3125 6.203125 41.140625 7.25 \r\nQ 44.96875 8.296875 48.78125 10.40625 \r\nL 48.78125 2.09375 \r\nQ 45.015625 0.34375 40.984375 -0.53125 \r\nQ 36.96875 -1.421875 32.421875 -1.421875 \r\nQ 20.0625 -1.421875 12.78125 6.34375 \r\nQ 5.515625 14.109375 5.515625 27.296875 \r\nQ 5.515625 40.671875 12.859375 48.328125 \r\nQ 20.21875 56 33.015625 56 \r\nQ 37.15625 56 41.109375 55.140625 \r\nQ 45.0625 54.296875 48.78125 52.59375 \r\nz\r\n\" id=\"DejaVuSans-99\"/>\r\n      <path d=\"M 18.3125 70.21875 \r\nL 18.3125 54.6875 \r\nL 36.8125 54.6875 \r\nL 36.8125 47.703125 \r\nL 18.3125 47.703125 \r\nL 18.3125 18.015625 \r\nQ 18.3125 11.328125 20.140625 9.421875 \r\nQ 21.96875 7.515625 27.59375 7.515625 \r\nL 36.8125 7.515625 \r\nL 36.8125 0 \r\nL 27.59375 0 \r\nQ 17.1875 0 13.234375 3.875 \r\nQ 9.28125 7.765625 9.28125 18.015625 \r\nL 9.28125 47.703125 \r\nL 2.6875 47.703125 \r\nL 2.6875 54.6875 \r\nL 9.28125 54.6875 \r\nL 9.28125 70.21875 \r\nz\r\n\" id=\"DejaVuSans-116\"/>\r\n      <path id=\"DejaVuSans-32\"/>\r\n      <path d=\"M 9.421875 75.984375 \r\nL 18.40625 75.984375 \r\nL 18.40625 0 \r\nL 9.421875 0 \r\nz\r\n\" id=\"DejaVuSans-108\"/>\r\n      <path d=\"M 34.28125 27.484375 \r\nQ 23.390625 27.484375 19.1875 25 \r\nQ 14.984375 22.515625 14.984375 16.5 \r\nQ 14.984375 11.71875 18.140625 8.90625 \r\nQ 21.296875 6.109375 26.703125 6.109375 \r\nQ 34.1875 6.109375 38.703125 11.40625 \r\nQ 43.21875 16.703125 43.21875 25.484375 \r\nL 43.21875 27.484375 \r\nz\r\nM 52.203125 31.203125 \r\nL 52.203125 0 \r\nL 43.21875 0 \r\nL 43.21875 8.296875 \r\nQ 40.140625 3.328125 35.546875 0.953125 \r\nQ 30.953125 -1.421875 24.3125 -1.421875 \r\nQ 15.921875 -1.421875 10.953125 3.296875 \r\nQ 6 8.015625 6 15.921875 \r\nQ 6 25.140625 12.171875 29.828125 \r\nQ 18.359375 34.515625 30.609375 34.515625 \r\nL 43.21875 34.515625 \r\nL 43.21875 35.40625 \r\nQ 43.21875 41.609375 39.140625 45 \r\nQ 35.0625 48.390625 27.6875 48.390625 \r\nQ 23 48.390625 18.546875 47.265625 \r\nQ 14.109375 46.140625 10.015625 43.890625 \r\nL 10.015625 52.203125 \r\nQ 14.9375 54.109375 19.578125 55.046875 \r\nQ 24.21875 56 28.609375 56 \r\nQ 40.484375 56 46.34375 49.84375 \r\nQ 52.203125 43.703125 52.203125 31.203125 \r\nz\r\n\" id=\"DejaVuSans-97\"/>\r\n      <path d=\"M 48.6875 27.296875 \r\nQ 48.6875 37.203125 44.609375 42.84375 \r\nQ 40.53125 48.484375 33.40625 48.484375 \r\nQ 26.265625 48.484375 22.1875 42.84375 \r\nQ 18.109375 37.203125 18.109375 27.296875 \r\nQ 18.109375 17.390625 22.1875 11.75 \r\nQ 26.265625 6.109375 33.40625 6.109375 \r\nQ 40.53125 6.109375 44.609375 11.75 \r\nQ 48.6875 17.390625 48.6875 27.296875 \r\nz\r\nM 18.109375 46.390625 \r\nQ 20.953125 51.265625 25.265625 53.625 \r\nQ 29.59375 56 35.59375 56 \r\nQ 45.5625 56 51.78125 48.09375 \r\nQ 58.015625 40.1875 58.015625 27.296875 \r\nQ 58.015625 14.40625 51.78125 6.484375 \r\nQ 45.5625 -1.421875 35.59375 -1.421875 \r\nQ 29.59375 -1.421875 25.265625 0.953125 \r\nQ 20.953125 3.328125 18.109375 8.203125 \r\nL 18.109375 0 \r\nL 9.078125 0 \r\nL 9.078125 75.984375 \r\nL 18.109375 75.984375 \r\nz\r\n\" id=\"DejaVuSans-98\"/>\r\n     </defs>\r\n     <g transform=\"translate(132.988281 322.394687)scale(0.1 -0.1)\">\r\n      <use xlink:href=\"#DejaVuSans-80\"/>\r\n      <use x=\"58.552734\" xlink:href=\"#DejaVuSans-114\"/>\r\n      <use x=\"97.416016\" xlink:href=\"#DejaVuSans-101\"/>\r\n      <use x=\"158.939453\" xlink:href=\"#DejaVuSans-100\"/>\r\n      <use x=\"222.416016\" xlink:href=\"#DejaVuSans-105\"/>\r\n      <use x=\"250.199219\" xlink:href=\"#DejaVuSans-99\"/>\r\n      <use x=\"305.179688\" xlink:href=\"#DejaVuSans-116\"/>\r\n      <use x=\"344.388672\" xlink:href=\"#DejaVuSans-101\"/>\r\n      <use x=\"405.912109\" xlink:href=\"#DejaVuSans-100\"/>\r\n      <use x=\"469.388672\" xlink:href=\"#DejaVuSans-32\"/>\r\n      <use x=\"501.175781\" xlink:href=\"#DejaVuSans-108\"/>\r\n      <use x=\"528.958984\" xlink:href=\"#DejaVuSans-97\"/>\r\n      <use x=\"590.238281\" xlink:href=\"#DejaVuSans-98\"/>\r\n      <use x=\"653.714844\" xlink:href=\"#DejaVuSans-101\"/>\r\n      <use x=\"715.238281\" xlink:href=\"#DejaVuSans-108\"/>\r\n     </g>\r\n    </g>\r\n   </g>\r\n   <g id=\"matplotlib.axis_2\">\r\n    <g id=\"ytick_1\">\r\n     <g id=\"line2d_3\">\r\n      <defs>\r\n       <path d=\"M 0 0 \r\nL -3.5 0 \r\n\" id=\"me3060a318d\" style=\"stroke:#000000;stroke-width:0.8;\"/>\r\n      </defs>\r\n      <g>\r\n       <use style=\"stroke:#000000;stroke-width:0.8;\" x=\"34.240625\" xlink:href=\"#me3060a318d\" y=\"90.268125\"/>\r\n      </g>\r\n     </g>\r\n     <g id=\"text_4\">\r\n      <!-- 0 -->\r\n      <g transform=\"translate(20.878125 94.067344)scale(0.1 -0.1)\">\r\n       <use xlink:href=\"#DejaVuSans-48\"/>\r\n      </g>\r\n     </g>\r\n    </g>\r\n    <g id=\"ytick_2\">\r\n     <g id=\"line2d_4\">\r\n      <g>\r\n       <use style=\"stroke:#000000;stroke-width:0.8;\" x=\"34.240625\" xlink:href=\"#me3060a318d\" y=\"226.168125\"/>\r\n      </g>\r\n     </g>\r\n     <g id=\"text_5\">\r\n      <!-- 1 -->\r\n      <g transform=\"translate(20.878125 229.967344)scale(0.1 -0.1)\">\r\n       <use xlink:href=\"#DejaVuSans-49\"/>\r\n      </g>\r\n     </g>\r\n    </g>\r\n    <g id=\"text_6\">\r\n     <!-- True label -->\r\n     <defs>\r\n      <path d=\"M -0.296875 72.90625 \r\nL 61.375 72.90625 \r\nL 61.375 64.59375 \r\nL 35.5 64.59375 \r\nL 35.5 0 \r\nL 25.59375 0 \r\nL 25.59375 64.59375 \r\nL -0.296875 64.59375 \r\nz\r\n\" id=\"DejaVuSans-84\"/>\r\n      <path d=\"M 8.5 21.578125 \r\nL 8.5 54.6875 \r\nL 17.484375 54.6875 \r\nL 17.484375 21.921875 \r\nQ 17.484375 14.15625 20.5 10.265625 \r\nQ 23.53125 6.390625 29.59375 6.390625 \r\nQ 36.859375 6.390625 41.078125 11.03125 \r\nQ 45.3125 15.671875 45.3125 23.6875 \r\nL 45.3125 54.6875 \r\nL 54.296875 54.6875 \r\nL 54.296875 0 \r\nL 45.3125 0 \r\nL 45.3125 8.40625 \r\nQ 42.046875 3.421875 37.71875 1 \r\nQ 33.40625 -1.421875 27.6875 -1.421875 \r\nQ 18.265625 -1.421875 13.375 4.4375 \r\nQ 8.5 10.296875 8.5 21.578125 \r\nz\r\nM 31.109375 56 \r\nz\r\n\" id=\"DejaVuSans-117\"/>\r\n     </defs>\r\n     <g transform=\"translate(14.798438 182.517344)rotate(-90)scale(0.1 -0.1)\">\r\n      <use xlink:href=\"#DejaVuSans-84\"/>\r\n      <use x=\"46.333984\" xlink:href=\"#DejaVuSans-114\"/>\r\n      <use x=\"87.447266\" xlink:href=\"#DejaVuSans-117\"/>\r\n      <use x=\"150.826172\" xlink:href=\"#DejaVuSans-101\"/>\r\n      <use x=\"212.349609\" xlink:href=\"#DejaVuSans-32\"/>\r\n      <use x=\"244.136719\" xlink:href=\"#DejaVuSans-108\"/>\r\n      <use x=\"271.919922\" xlink:href=\"#DejaVuSans-97\"/>\r\n      <use x=\"333.199219\" xlink:href=\"#DejaVuSans-98\"/>\r\n      <use x=\"396.675781\" xlink:href=\"#DejaVuSans-101\"/>\r\n      <use x=\"458.199219\" xlink:href=\"#DejaVuSans-108\"/>\r\n     </g>\r\n    </g>\r\n   </g>\r\n   <g id=\"patch_3\">\r\n    <path d=\"M 34.240625 294.118125 \r\nL 34.240625 22.318125 \r\n\" style=\"fill:none;stroke:#000000;stroke-linecap:square;stroke-linejoin:miter;stroke-width:0.8;\"/>\r\n   </g>\r\n   <g id=\"patch_4\">\r\n    <path d=\"M 306.040625 294.118125 \r\nL 306.040625 22.318125 \r\n\" style=\"fill:none;stroke:#000000;stroke-linecap:square;stroke-linejoin:miter;stroke-width:0.8;\"/>\r\n   </g>\r\n   <g id=\"patch_5\">\r\n    <path d=\"M 34.240625 294.118125 \r\nL 306.040625 294.118125 \r\n\" style=\"fill:none;stroke:#000000;stroke-linecap:square;stroke-linejoin:miter;stroke-width:0.8;\"/>\r\n   </g>\r\n   <g id=\"patch_6\">\r\n    <path d=\"M 34.240625 22.318125 \r\nL 306.040625 22.318125 \r\n\" style=\"fill:none;stroke:#000000;stroke-linecap:square;stroke-linejoin:miter;stroke-width:0.8;\"/>\r\n   </g>\r\n   <g id=\"text_7\">\r\n    <!-- 0.68 -->\r\n    <defs>\r\n     <path d=\"M 10.6875 12.40625 \r\nL 21 12.40625 \r\nL 21 0 \r\nL 10.6875 0 \r\nz\r\n\" id=\"DejaVuSans-46\"/>\r\n     <path d=\"M 33.015625 40.375 \r\nQ 26.375 40.375 22.484375 35.828125 \r\nQ 18.609375 31.296875 18.609375 23.390625 \r\nQ 18.609375 15.53125 22.484375 10.953125 \r\nQ 26.375 6.390625 33.015625 6.390625 \r\nQ 39.65625 6.390625 43.53125 10.953125 \r\nQ 47.40625 15.53125 47.40625 23.390625 \r\nQ 47.40625 31.296875 43.53125 35.828125 \r\nQ 39.65625 40.375 33.015625 40.375 \r\nz\r\nM 52.59375 71.296875 \r\nL 52.59375 62.3125 \r\nQ 48.875 64.0625 45.09375 64.984375 \r\nQ 41.3125 65.921875 37.59375 65.921875 \r\nQ 27.828125 65.921875 22.671875 59.328125 \r\nQ 17.53125 52.734375 16.796875 39.40625 \r\nQ 19.671875 43.65625 24.015625 45.921875 \r\nQ 28.375 48.1875 33.59375 48.1875 \r\nQ 44.578125 48.1875 50.953125 41.515625 \r\nQ 57.328125 34.859375 57.328125 23.390625 \r\nQ 57.328125 12.15625 50.6875 5.359375 \r\nQ 44.046875 -1.421875 33.015625 -1.421875 \r\nQ 20.359375 -1.421875 13.671875 8.265625 \r\nQ 6.984375 17.96875 6.984375 36.375 \r\nQ 6.984375 53.65625 15.1875 63.9375 \r\nQ 23.390625 74.21875 37.203125 74.21875 \r\nQ 40.921875 74.21875 44.703125 73.484375 \r\nQ 48.484375 72.75 52.59375 71.296875 \r\nz\r\n\" id=\"DejaVuSans-54\"/>\r\n     <path d=\"M 31.78125 34.625 \r\nQ 24.75 34.625 20.71875 30.859375 \r\nQ 16.703125 27.09375 16.703125 20.515625 \r\nQ 16.703125 13.921875 20.71875 10.15625 \r\nQ 24.75 6.390625 31.78125 6.390625 \r\nQ 38.8125 6.390625 42.859375 10.171875 \r\nQ 46.921875 13.96875 46.921875 20.515625 \r\nQ 46.921875 27.09375 42.890625 30.859375 \r\nQ 38.875 34.625 31.78125 34.625 \r\nz\r\nM 21.921875 38.8125 \r\nQ 15.578125 40.375 12.03125 44.71875 \r\nQ 8.5 49.078125 8.5 55.328125 \r\nQ 8.5 64.0625 14.71875 69.140625 \r\nQ 20.953125 74.21875 31.78125 74.21875 \r\nQ 42.671875 74.21875 48.875 69.140625 \r\nQ 55.078125 64.0625 55.078125 55.328125 \r\nQ 55.078125 49.078125 51.53125 44.71875 \r\nQ 48 40.375 41.703125 38.8125 \r\nQ 48.828125 37.15625 52.796875 32.3125 \r\nQ 56.78125 27.484375 56.78125 20.515625 \r\nQ 56.78125 9.90625 50.3125 4.234375 \r\nQ 43.84375 -1.421875 31.78125 -1.421875 \r\nQ 19.734375 -1.421875 13.25 4.234375 \r\nQ 6.78125 9.90625 6.78125 20.515625 \r\nQ 6.78125 27.484375 10.78125 32.3125 \r\nQ 14.796875 37.15625 21.921875 38.8125 \r\nz\r\nM 18.3125 54.390625 \r\nQ 18.3125 48.734375 21.84375 45.5625 \r\nQ 25.390625 42.390625 31.78125 42.390625 \r\nQ 38.140625 42.390625 41.71875 45.5625 \r\nQ 45.3125 48.734375 45.3125 54.390625 \r\nQ 45.3125 60.0625 41.71875 63.234375 \r\nQ 38.140625 66.40625 31.78125 66.40625 \r\nQ 25.390625 66.40625 21.84375 63.234375 \r\nQ 18.3125 60.0625 18.3125 54.390625 \r\nz\r\n\" id=\"DejaVuSans-56\"/>\r\n    </defs>\r\n    <g style=\"fill:#440154;\" transform=\"translate(91.057813 93.0275)scale(0.1 -0.1)\">\r\n     <use xlink:href=\"#DejaVuSans-48\"/>\r\n     <use x=\"63.623047\" xlink:href=\"#DejaVuSans-46\"/>\r\n     <use x=\"95.410156\" xlink:href=\"#DejaVuSans-54\"/>\r\n     <use x=\"159.033203\" xlink:href=\"#DejaVuSans-56\"/>\r\n    </g>\r\n   </g>\r\n   <g id=\"text_8\">\r\n    <!-- 0.32 -->\r\n    <defs>\r\n     <path d=\"M 40.578125 39.3125 \r\nQ 47.65625 37.796875 51.625 33 \r\nQ 55.609375 28.21875 55.609375 21.1875 \r\nQ 55.609375 10.40625 48.1875 4.484375 \r\nQ 40.765625 -1.421875 27.09375 -1.421875 \r\nQ 22.515625 -1.421875 17.65625 -0.515625 \r\nQ 12.796875 0.390625 7.625 2.203125 \r\nL 7.625 11.71875 \r\nQ 11.71875 9.328125 16.59375 8.109375 \r\nQ 21.484375 6.890625 26.8125 6.890625 \r\nQ 36.078125 6.890625 40.9375 10.546875 \r\nQ 45.796875 14.203125 45.796875 21.1875 \r\nQ 45.796875 27.640625 41.28125 31.265625 \r\nQ 36.765625 34.90625 28.71875 34.90625 \r\nL 20.21875 34.90625 \r\nL 20.21875 43.015625 \r\nL 29.109375 43.015625 \r\nQ 36.375 43.015625 40.234375 45.921875 \r\nQ 44.09375 48.828125 44.09375 54.296875 \r\nQ 44.09375 59.90625 40.109375 62.90625 \r\nQ 36.140625 65.921875 28.71875 65.921875 \r\nQ 24.65625 65.921875 20.015625 65.03125 \r\nQ 15.375 64.15625 9.8125 62.3125 \r\nL 9.8125 71.09375 \r\nQ 15.4375 72.65625 20.34375 73.4375 \r\nQ 25.25 74.21875 29.59375 74.21875 \r\nQ 40.828125 74.21875 47.359375 69.109375 \r\nQ 53.90625 64.015625 53.90625 55.328125 \r\nQ 53.90625 49.265625 50.4375 45.09375 \r\nQ 46.96875 40.921875 40.578125 39.3125 \r\nz\r\n\" id=\"DejaVuSans-51\"/>\r\n     <path d=\"M 19.1875 8.296875 \r\nL 53.609375 8.296875 \r\nL 53.609375 0 \r\nL 7.328125 0 \r\nL 7.328125 8.296875 \r\nQ 12.9375 14.109375 22.625 23.890625 \r\nQ 32.328125 33.6875 34.8125 36.53125 \r\nQ 39.546875 41.84375 41.421875 45.53125 \r\nQ 43.3125 49.21875 43.3125 52.78125 \r\nQ 43.3125 58.59375 39.234375 62.25 \r\nQ 35.15625 65.921875 28.609375 65.921875 \r\nQ 23.96875 65.921875 18.8125 64.3125 \r\nQ 13.671875 62.703125 7.8125 59.421875 \r\nL 7.8125 69.390625 \r\nQ 13.765625 71.78125 18.9375 73 \r\nQ 24.125 74.21875 28.421875 74.21875 \r\nQ 39.75 74.21875 46.484375 68.546875 \r\nQ 53.21875 62.890625 53.21875 53.421875 \r\nQ 53.21875 48.921875 51.53125 44.890625 \r\nQ 49.859375 40.875 45.40625 35.40625 \r\nQ 44.1875 33.984375 37.640625 27.21875 \r\nQ 31.109375 20.453125 19.1875 8.296875 \r\nz\r\n\" id=\"DejaVuSans-50\"/>\r\n    </defs>\r\n    <g style=\"fill:#fde725;\" transform=\"translate(226.957812 93.0275)scale(0.1 -0.1)\">\r\n     <use xlink:href=\"#DejaVuSans-48\"/>\r\n     <use x=\"63.623047\" xlink:href=\"#DejaVuSans-46\"/>\r\n     <use x=\"95.410156\" xlink:href=\"#DejaVuSans-51\"/>\r\n     <use x=\"159.033203\" xlink:href=\"#DejaVuSans-50\"/>\r\n    </g>\r\n   </g>\r\n   <g id=\"text_9\">\r\n    <!-- 0.09 -->\r\n    <defs>\r\n     <path d=\"M 10.984375 1.515625 \r\nL 10.984375 10.5 \r\nQ 14.703125 8.734375 18.5 7.8125 \r\nQ 22.3125 6.890625 25.984375 6.890625 \r\nQ 35.75 6.890625 40.890625 13.453125 \r\nQ 46.046875 20.015625 46.78125 33.40625 \r\nQ 43.953125 29.203125 39.59375 26.953125 \r\nQ 35.25 24.703125 29.984375 24.703125 \r\nQ 19.046875 24.703125 12.671875 31.3125 \r\nQ 6.296875 37.9375 6.296875 49.421875 \r\nQ 6.296875 60.640625 12.9375 67.421875 \r\nQ 19.578125 74.21875 30.609375 74.21875 \r\nQ 43.265625 74.21875 49.921875 64.515625 \r\nQ 56.59375 54.828125 56.59375 36.375 \r\nQ 56.59375 19.140625 48.40625 8.859375 \r\nQ 40.234375 -1.421875 26.421875 -1.421875 \r\nQ 22.703125 -1.421875 18.890625 -0.6875 \r\nQ 15.09375 0.046875 10.984375 1.515625 \r\nz\r\nM 30.609375 32.421875 \r\nQ 37.25 32.421875 41.125 36.953125 \r\nQ 45.015625 41.5 45.015625 49.421875 \r\nQ 45.015625 57.28125 41.125 61.84375 \r\nQ 37.25 66.40625 30.609375 66.40625 \r\nQ 23.96875 66.40625 20.09375 61.84375 \r\nQ 16.21875 57.28125 16.21875 49.421875 \r\nQ 16.21875 41.5 20.09375 36.953125 \r\nQ 23.96875 32.421875 30.609375 32.421875 \r\nz\r\n\" id=\"DejaVuSans-57\"/>\r\n    </defs>\r\n    <g style=\"fill:#fde725;\" transform=\"translate(91.057813 228.9275)scale(0.1 -0.1)\">\r\n     <use xlink:href=\"#DejaVuSans-48\"/>\r\n     <use x=\"63.623047\" xlink:href=\"#DejaVuSans-46\"/>\r\n     <use x=\"95.410156\" xlink:href=\"#DejaVuSans-48\"/>\r\n     <use x=\"159.033203\" xlink:href=\"#DejaVuSans-57\"/>\r\n    </g>\r\n   </g>\r\n   <g id=\"text_10\">\r\n    <!-- 0.91 -->\r\n    <g style=\"fill:#440154;\" transform=\"translate(226.957812 228.9275)scale(0.1 -0.1)\">\r\n     <use xlink:href=\"#DejaVuSans-48\"/>\r\n     <use x=\"63.623047\" xlink:href=\"#DejaVuSans-46\"/>\r\n     <use x=\"95.410156\" xlink:href=\"#DejaVuSans-57\"/>\r\n     <use x=\"159.033203\" xlink:href=\"#DejaVuSans-49\"/>\r\n    </g>\r\n   </g>\r\n   <g id=\"text_11\">\r\n    <!-- Confusion Matrix -->\r\n    <defs>\r\n     <path d=\"M 64.40625 67.28125 \r\nL 64.40625 56.890625 \r\nQ 59.421875 61.53125 53.78125 63.8125 \r\nQ 48.140625 66.109375 41.796875 66.109375 \r\nQ 29.296875 66.109375 22.65625 58.46875 \r\nQ 16.015625 50.828125 16.015625 36.375 \r\nQ 16.015625 21.96875 22.65625 14.328125 \r\nQ 29.296875 6.6875 41.796875 6.6875 \r\nQ 48.140625 6.6875 53.78125 8.984375 \r\nQ 59.421875 11.28125 64.40625 15.921875 \r\nL 64.40625 5.609375 \r\nQ 59.234375 2.09375 53.4375 0.328125 \r\nQ 47.65625 -1.421875 41.21875 -1.421875 \r\nQ 24.65625 -1.421875 15.125 8.703125 \r\nQ 5.609375 18.84375 5.609375 36.375 \r\nQ 5.609375 53.953125 15.125 64.078125 \r\nQ 24.65625 74.21875 41.21875 74.21875 \r\nQ 47.75 74.21875 53.53125 72.484375 \r\nQ 59.328125 70.75 64.40625 67.28125 \r\nz\r\n\" id=\"DejaVuSans-67\"/>\r\n     <path d=\"M 30.609375 48.390625 \r\nQ 23.390625 48.390625 19.1875 42.75 \r\nQ 14.984375 37.109375 14.984375 27.296875 \r\nQ 14.984375 17.484375 19.15625 11.84375 \r\nQ 23.34375 6.203125 30.609375 6.203125 \r\nQ 37.796875 6.203125 41.984375 11.859375 \r\nQ 46.1875 17.53125 46.1875 27.296875 \r\nQ 46.1875 37.015625 41.984375 42.703125 \r\nQ 37.796875 48.390625 30.609375 48.390625 \r\nz\r\nM 30.609375 56 \r\nQ 42.328125 56 49.015625 48.375 \r\nQ 55.71875 40.765625 55.71875 27.296875 \r\nQ 55.71875 13.875 49.015625 6.21875 \r\nQ 42.328125 -1.421875 30.609375 -1.421875 \r\nQ 18.84375 -1.421875 12.171875 6.21875 \r\nQ 5.515625 13.875 5.515625 27.296875 \r\nQ 5.515625 40.765625 12.171875 48.375 \r\nQ 18.84375 56 30.609375 56 \r\nz\r\n\" id=\"DejaVuSans-111\"/>\r\n     <path d=\"M 54.890625 33.015625 \r\nL 54.890625 0 \r\nL 45.90625 0 \r\nL 45.90625 32.71875 \r\nQ 45.90625 40.484375 42.875 44.328125 \r\nQ 39.84375 48.1875 33.796875 48.1875 \r\nQ 26.515625 48.1875 22.3125 43.546875 \r\nQ 18.109375 38.921875 18.109375 30.90625 \r\nL 18.109375 0 \r\nL 9.078125 0 \r\nL 9.078125 54.6875 \r\nL 18.109375 54.6875 \r\nL 18.109375 46.1875 \r\nQ 21.34375 51.125 25.703125 53.5625 \r\nQ 30.078125 56 35.796875 56 \r\nQ 45.21875 56 50.046875 50.171875 \r\nQ 54.890625 44.34375 54.890625 33.015625 \r\nz\r\n\" id=\"DejaVuSans-110\"/>\r\n     <path d=\"M 37.109375 75.984375 \r\nL 37.109375 68.5 \r\nL 28.515625 68.5 \r\nQ 23.6875 68.5 21.796875 66.546875 \r\nQ 19.921875 64.59375 19.921875 59.515625 \r\nL 19.921875 54.6875 \r\nL 34.71875 54.6875 \r\nL 34.71875 47.703125 \r\nL 19.921875 47.703125 \r\nL 19.921875 0 \r\nL 10.890625 0 \r\nL 10.890625 47.703125 \r\nL 2.296875 47.703125 \r\nL 2.296875 54.6875 \r\nL 10.890625 54.6875 \r\nL 10.890625 58.5 \r\nQ 10.890625 67.625 15.140625 71.796875 \r\nQ 19.390625 75.984375 28.609375 75.984375 \r\nz\r\n\" id=\"DejaVuSans-102\"/>\r\n     <path d=\"M 44.28125 53.078125 \r\nL 44.28125 44.578125 \r\nQ 40.484375 46.53125 36.375 47.5 \r\nQ 32.28125 48.484375 27.875 48.484375 \r\nQ 21.1875 48.484375 17.84375 46.4375 \r\nQ 14.5 44.390625 14.5 40.28125 \r\nQ 14.5 37.15625 16.890625 35.375 \r\nQ 19.28125 33.59375 26.515625 31.984375 \r\nL 29.59375 31.296875 \r\nQ 39.15625 29.25 43.1875 25.515625 \r\nQ 47.21875 21.78125 47.21875 15.09375 \r\nQ 47.21875 7.46875 41.1875 3.015625 \r\nQ 35.15625 -1.421875 24.609375 -1.421875 \r\nQ 20.21875 -1.421875 15.453125 -0.5625 \r\nQ 10.6875 0.296875 5.421875 2 \r\nL 5.421875 11.28125 \r\nQ 10.40625 8.6875 15.234375 7.390625 \r\nQ 20.0625 6.109375 24.8125 6.109375 \r\nQ 31.15625 6.109375 34.5625 8.28125 \r\nQ 37.984375 10.453125 37.984375 14.40625 \r\nQ 37.984375 18.0625 35.515625 20.015625 \r\nQ 33.0625 21.96875 24.703125 23.78125 \r\nL 21.578125 24.515625 \r\nQ 13.234375 26.265625 9.515625 29.90625 \r\nQ 5.8125 33.546875 5.8125 39.890625 \r\nQ 5.8125 47.609375 11.28125 51.796875 \r\nQ 16.75 56 26.8125 56 \r\nQ 31.78125 56 36.171875 55.265625 \r\nQ 40.578125 54.546875 44.28125 53.078125 \r\nz\r\n\" id=\"DejaVuSans-115\"/>\r\n     <path d=\"M 9.8125 72.90625 \r\nL 24.515625 72.90625 \r\nL 43.109375 23.296875 \r\nL 61.8125 72.90625 \r\nL 76.515625 72.90625 \r\nL 76.515625 0 \r\nL 66.890625 0 \r\nL 66.890625 64.015625 \r\nL 48.09375 14.015625 \r\nL 38.1875 14.015625 \r\nL 19.390625 64.015625 \r\nL 19.390625 0 \r\nL 9.8125 0 \r\nz\r\n\" id=\"DejaVuSans-77\"/>\r\n     <path d=\"M 54.890625 54.6875 \r\nL 35.109375 28.078125 \r\nL 55.90625 0 \r\nL 45.3125 0 \r\nL 29.390625 21.484375 \r\nL 13.484375 0 \r\nL 2.875 0 \r\nL 24.125 28.609375 \r\nL 4.6875 54.6875 \r\nL 15.28125 54.6875 \r\nL 29.78125 35.203125 \r\nL 44.28125 54.6875 \r\nz\r\n\" id=\"DejaVuSans-120\"/>\r\n    </defs>\r\n    <g transform=\"translate(119.49875 16.318125)scale(0.12 -0.12)\">\r\n     <use xlink:href=\"#DejaVuSans-67\"/>\r\n     <use x=\"69.824219\" xlink:href=\"#DejaVuSans-111\"/>\r\n     <use x=\"131.005859\" xlink:href=\"#DejaVuSans-110\"/>\r\n     <use x=\"194.384766\" xlink:href=\"#DejaVuSans-102\"/>\r\n     <use x=\"229.589844\" xlink:href=\"#DejaVuSans-117\"/>\r\n     <use x=\"292.96875\" xlink:href=\"#DejaVuSans-115\"/>\r\n     <use x=\"345.068359\" xlink:href=\"#DejaVuSans-105\"/>\r\n     <use x=\"372.851562\" xlink:href=\"#DejaVuSans-111\"/>\r\n     <use x=\"434.033203\" xlink:href=\"#DejaVuSans-110\"/>\r\n     <use x=\"497.412109\" xlink:href=\"#DejaVuSans-32\"/>\r\n     <use x=\"529.199219\" xlink:href=\"#DejaVuSans-77\"/>\r\n     <use x=\"615.478516\" xlink:href=\"#DejaVuSans-97\"/>\r\n     <use x=\"676.757812\" xlink:href=\"#DejaVuSans-116\"/>\r\n     <use x=\"715.966797\" xlink:href=\"#DejaVuSans-114\"/>\r\n     <use x=\"757.080078\" xlink:href=\"#DejaVuSans-105\"/>\r\n     <use x=\"784.863281\" xlink:href=\"#DejaVuSans-120\"/>\r\n    </g>\r\n   </g>\r\n  </g>\r\n  <g id=\"axes_2\">\r\n   <g id=\"patch_7\">\r\n    <path d=\"M 508.949716 294.118125 \r\nL 1016.222443 294.118125 \r\nL 1016.222443 22.318125 \r\nL 508.949716 22.318125 \r\nz\r\n\" style=\"fill:#ffffff;\"/>\r\n   </g>\r\n   <g id=\"matplotlib.axis_3\">\r\n    <g id=\"xtick_3\">\r\n     <g id=\"line2d_5\">\r\n      <g>\r\n       <use style=\"stroke:#000000;stroke-width:0.8;\" x=\"532.007567\" xlink:href=\"#m1c6190b104\" y=\"294.118125\"/>\r\n      </g>\r\n     </g>\r\n     <g id=\"text_12\">\r\n      <!-- 0.0 -->\r\n      <g transform=\"translate(524.056005 308.716563)scale(0.1 -0.1)\">\r\n       <use xlink:href=\"#DejaVuSans-48\"/>\r\n       <use x=\"63.623047\" xlink:href=\"#DejaVuSans-46\"/>\r\n       <use x=\"95.410156\" xlink:href=\"#DejaVuSans-48\"/>\r\n      </g>\r\n     </g>\r\n    </g>\r\n    <g id=\"xtick_4\">\r\n     <g id=\"line2d_6\">\r\n      <g>\r\n       <use style=\"stroke:#000000;stroke-width:0.8;\" x=\"624.238972\" xlink:href=\"#m1c6190b104\" y=\"294.118125\"/>\r\n      </g>\r\n     </g>\r\n     <g id=\"text_13\">\r\n      <!-- 0.2 -->\r\n      <g transform=\"translate(616.28741 308.716563)scale(0.1 -0.1)\">\r\n       <use xlink:href=\"#DejaVuSans-48\"/>\r\n       <use x=\"63.623047\" xlink:href=\"#DejaVuSans-46\"/>\r\n       <use x=\"95.410156\" xlink:href=\"#DejaVuSans-50\"/>\r\n      </g>\r\n     </g>\r\n    </g>\r\n    <g id=\"xtick_5\">\r\n     <g id=\"line2d_7\">\r\n      <g>\r\n       <use style=\"stroke:#000000;stroke-width:0.8;\" x=\"716.470377\" xlink:href=\"#m1c6190b104\" y=\"294.118125\"/>\r\n      </g>\r\n     </g>\r\n     <g id=\"text_14\">\r\n      <!-- 0.4 -->\r\n      <defs>\r\n       <path d=\"M 37.796875 64.3125 \r\nL 12.890625 25.390625 \r\nL 37.796875 25.390625 \r\nz\r\nM 35.203125 72.90625 \r\nL 47.609375 72.90625 \r\nL 47.609375 25.390625 \r\nL 58.015625 25.390625 \r\nL 58.015625 17.1875 \r\nL 47.609375 17.1875 \r\nL 47.609375 0 \r\nL 37.796875 0 \r\nL 37.796875 17.1875 \r\nL 4.890625 17.1875 \r\nL 4.890625 26.703125 \r\nz\r\n\" id=\"DejaVuSans-52\"/>\r\n      </defs>\r\n      <g transform=\"translate(708.518815 308.716563)scale(0.1 -0.1)\">\r\n       <use xlink:href=\"#DejaVuSans-48\"/>\r\n       <use x=\"63.623047\" xlink:href=\"#DejaVuSans-46\"/>\r\n       <use x=\"95.410156\" xlink:href=\"#DejaVuSans-52\"/>\r\n      </g>\r\n     </g>\r\n    </g>\r\n    <g id=\"xtick_6\">\r\n     <g id=\"line2d_8\">\r\n      <g>\r\n       <use style=\"stroke:#000000;stroke-width:0.8;\" x=\"808.701782\" xlink:href=\"#m1c6190b104\" y=\"294.118125\"/>\r\n      </g>\r\n     </g>\r\n     <g id=\"text_15\">\r\n      <!-- 0.6 -->\r\n      <g transform=\"translate(800.75022 308.716563)scale(0.1 -0.1)\">\r\n       <use xlink:href=\"#DejaVuSans-48\"/>\r\n       <use x=\"63.623047\" xlink:href=\"#DejaVuSans-46\"/>\r\n       <use x=\"95.410156\" xlink:href=\"#DejaVuSans-54\"/>\r\n      </g>\r\n     </g>\r\n    </g>\r\n    <g id=\"xtick_7\">\r\n     <g id=\"line2d_9\">\r\n      <g>\r\n       <use style=\"stroke:#000000;stroke-width:0.8;\" x=\"900.933187\" xlink:href=\"#m1c6190b104\" y=\"294.118125\"/>\r\n      </g>\r\n     </g>\r\n     <g id=\"text_16\">\r\n      <!-- 0.8 -->\r\n      <g transform=\"translate(892.981624 308.716563)scale(0.1 -0.1)\">\r\n       <use xlink:href=\"#DejaVuSans-48\"/>\r\n       <use x=\"63.623047\" xlink:href=\"#DejaVuSans-46\"/>\r\n       <use x=\"95.410156\" xlink:href=\"#DejaVuSans-56\"/>\r\n      </g>\r\n     </g>\r\n    </g>\r\n    <g id=\"xtick_8\">\r\n     <g id=\"line2d_10\">\r\n      <g>\r\n       <use style=\"stroke:#000000;stroke-width:0.8;\" x=\"993.164592\" xlink:href=\"#m1c6190b104\" y=\"294.118125\"/>\r\n      </g>\r\n     </g>\r\n     <g id=\"text_17\">\r\n      <!-- 1.0 -->\r\n      <g transform=\"translate(985.213029 308.716563)scale(0.1 -0.1)\">\r\n       <use xlink:href=\"#DejaVuSans-49\"/>\r\n       <use x=\"63.623047\" xlink:href=\"#DejaVuSans-46\"/>\r\n       <use x=\"95.410156\" xlink:href=\"#DejaVuSans-48\"/>\r\n      </g>\r\n     </g>\r\n    </g>\r\n    <g id=\"text_18\">\r\n     <!-- False Positive Rate -->\r\n     <defs>\r\n      <path d=\"M 9.8125 72.90625 \r\nL 51.703125 72.90625 \r\nL 51.703125 64.59375 \r\nL 19.671875 64.59375 \r\nL 19.671875 43.109375 \r\nL 48.578125 43.109375 \r\nL 48.578125 34.8125 \r\nL 19.671875 34.8125 \r\nL 19.671875 0 \r\nL 9.8125 0 \r\nz\r\n\" id=\"DejaVuSans-70\"/>\r\n      <path d=\"M 2.984375 54.6875 \r\nL 12.5 54.6875 \r\nL 29.59375 8.796875 \r\nL 46.6875 54.6875 \r\nL 56.203125 54.6875 \r\nL 35.6875 0 \r\nL 23.484375 0 \r\nz\r\n\" id=\"DejaVuSans-118\"/>\r\n      <path d=\"M 44.390625 34.1875 \r\nQ 47.5625 33.109375 50.5625 29.59375 \r\nQ 53.5625 26.078125 56.59375 19.921875 \r\nL 66.609375 0 \r\nL 56 0 \r\nL 46.6875 18.703125 \r\nQ 43.0625 26.03125 39.671875 28.421875 \r\nQ 36.28125 30.8125 30.421875 30.8125 \r\nL 19.671875 30.8125 \r\nL 19.671875 0 \r\nL 9.8125 0 \r\nL 9.8125 72.90625 \r\nL 32.078125 72.90625 \r\nQ 44.578125 72.90625 50.734375 67.671875 \r\nQ 56.890625 62.453125 56.890625 51.90625 \r\nQ 56.890625 45.015625 53.6875 40.46875 \r\nQ 50.484375 35.9375 44.390625 34.1875 \r\nz\r\nM 19.671875 64.796875 \r\nL 19.671875 38.921875 \r\nL 32.078125 38.921875 \r\nQ 39.203125 38.921875 42.84375 42.21875 \r\nQ 46.484375 45.515625 46.484375 51.90625 \r\nQ 46.484375 58.296875 42.84375 61.546875 \r\nQ 39.203125 64.796875 32.078125 64.796875 \r\nz\r\n\" id=\"DejaVuSans-82\"/>\r\n     </defs>\r\n     <g transform=\"translate(716.119673 322.394687)scale(0.1 -0.1)\">\r\n      <use xlink:href=\"#DejaVuSans-70\"/>\r\n      <use x=\"48.394531\" xlink:href=\"#DejaVuSans-97\"/>\r\n      <use x=\"109.673828\" xlink:href=\"#DejaVuSans-108\"/>\r\n      <use x=\"137.457031\" xlink:href=\"#DejaVuSans-115\"/>\r\n      <use x=\"189.556641\" xlink:href=\"#DejaVuSans-101\"/>\r\n      <use x=\"251.080078\" xlink:href=\"#DejaVuSans-32\"/>\r\n      <use x=\"282.867188\" xlink:href=\"#DejaVuSans-80\"/>\r\n      <use x=\"339.544922\" xlink:href=\"#DejaVuSans-111\"/>\r\n      <use x=\"400.726562\" xlink:href=\"#DejaVuSans-115\"/>\r\n      <use x=\"452.826172\" xlink:href=\"#DejaVuSans-105\"/>\r\n      <use x=\"480.609375\" xlink:href=\"#DejaVuSans-116\"/>\r\n      <use x=\"519.818359\" xlink:href=\"#DejaVuSans-105\"/>\r\n      <use x=\"547.601562\" xlink:href=\"#DejaVuSans-118\"/>\r\n      <use x=\"606.78125\" xlink:href=\"#DejaVuSans-101\"/>\r\n      <use x=\"668.304688\" xlink:href=\"#DejaVuSans-32\"/>\r\n      <use x=\"700.091797\" xlink:href=\"#DejaVuSans-82\"/>\r\n      <use x=\"767.324219\" xlink:href=\"#DejaVuSans-97\"/>\r\n      <use x=\"828.603516\" xlink:href=\"#DejaVuSans-116\"/>\r\n      <use x=\"867.8125\" xlink:href=\"#DejaVuSans-101\"/>\r\n     </g>\r\n    </g>\r\n   </g>\r\n   <g id=\"matplotlib.axis_4\">\r\n    <g id=\"ytick_3\">\r\n     <g id=\"line2d_11\">\r\n      <g>\r\n       <use style=\"stroke:#000000;stroke-width:0.8;\" x=\"508.949716\" xlink:href=\"#me3060a318d\" y=\"281.76358\"/>\r\n      </g>\r\n     </g>\r\n     <g id=\"text_19\">\r\n      <!-- 0.0 -->\r\n      <g transform=\"translate(486.046591 285.562798)scale(0.1 -0.1)\">\r\n       <use xlink:href=\"#DejaVuSans-48\"/>\r\n       <use x=\"63.623047\" xlink:href=\"#DejaVuSans-46\"/>\r\n       <use x=\"95.410156\" xlink:href=\"#DejaVuSans-48\"/>\r\n      </g>\r\n     </g>\r\n    </g>\r\n    <g id=\"ytick_4\">\r\n     <g id=\"line2d_12\">\r\n      <g>\r\n       <use style=\"stroke:#000000;stroke-width:0.8;\" x=\"508.949716\" xlink:href=\"#me3060a318d\" y=\"232.345398\"/>\r\n      </g>\r\n     </g>\r\n     <g id=\"text_20\">\r\n      <!-- 0.2 -->\r\n      <g transform=\"translate(486.046591 236.144616)scale(0.1 -0.1)\">\r\n       <use xlink:href=\"#DejaVuSans-48\"/>\r\n       <use x=\"63.623047\" xlink:href=\"#DejaVuSans-46\"/>\r\n       <use x=\"95.410156\" xlink:href=\"#DejaVuSans-50\"/>\r\n      </g>\r\n     </g>\r\n    </g>\r\n    <g id=\"ytick_5\">\r\n     <g id=\"line2d_13\">\r\n      <g>\r\n       <use style=\"stroke:#000000;stroke-width:0.8;\" x=\"508.949716\" xlink:href=\"#me3060a318d\" y=\"182.927216\"/>\r\n      </g>\r\n     </g>\r\n     <g id=\"text_21\">\r\n      <!-- 0.4 -->\r\n      <g transform=\"translate(486.046591 186.726435)scale(0.1 -0.1)\">\r\n       <use xlink:href=\"#DejaVuSans-48\"/>\r\n       <use x=\"63.623047\" xlink:href=\"#DejaVuSans-46\"/>\r\n       <use x=\"95.410156\" xlink:href=\"#DejaVuSans-52\"/>\r\n      </g>\r\n     </g>\r\n    </g>\r\n    <g id=\"ytick_6\">\r\n     <g id=\"line2d_14\">\r\n      <g>\r\n       <use style=\"stroke:#000000;stroke-width:0.8;\" x=\"508.949716\" xlink:href=\"#me3060a318d\" y=\"133.509034\"/>\r\n      </g>\r\n     </g>\r\n     <g id=\"text_22\">\r\n      <!-- 0.6 -->\r\n      <g transform=\"translate(486.046591 137.308253)scale(0.1 -0.1)\">\r\n       <use xlink:href=\"#DejaVuSans-48\"/>\r\n       <use x=\"63.623047\" xlink:href=\"#DejaVuSans-46\"/>\r\n       <use x=\"95.410156\" xlink:href=\"#DejaVuSans-54\"/>\r\n      </g>\r\n     </g>\r\n    </g>\r\n    <g id=\"ytick_7\">\r\n     <g id=\"line2d_15\">\r\n      <g>\r\n       <use style=\"stroke:#000000;stroke-width:0.8;\" x=\"508.949716\" xlink:href=\"#me3060a318d\" y=\"84.090852\"/>\r\n      </g>\r\n     </g>\r\n     <g id=\"text_23\">\r\n      <!-- 0.8 -->\r\n      <g transform=\"translate(486.046591 87.890071)scale(0.1 -0.1)\">\r\n       <use xlink:href=\"#DejaVuSans-48\"/>\r\n       <use x=\"63.623047\" xlink:href=\"#DejaVuSans-46\"/>\r\n       <use x=\"95.410156\" xlink:href=\"#DejaVuSans-56\"/>\r\n      </g>\r\n     </g>\r\n    </g>\r\n    <g id=\"ytick_8\">\r\n     <g id=\"line2d_16\">\r\n      <g>\r\n       <use style=\"stroke:#000000;stroke-width:0.8;\" x=\"508.949716\" xlink:href=\"#me3060a318d\" y=\"34.67267\"/>\r\n      </g>\r\n     </g>\r\n     <g id=\"text_24\">\r\n      <!-- 1.0 -->\r\n      <g transform=\"translate(486.046591 38.471889)scale(0.1 -0.1)\">\r\n       <use xlink:href=\"#DejaVuSans-49\"/>\r\n       <use x=\"63.623047\" xlink:href=\"#DejaVuSans-46\"/>\r\n       <use x=\"95.410156\" xlink:href=\"#DejaVuSans-48\"/>\r\n      </g>\r\n     </g>\r\n    </g>\r\n    <g id=\"text_25\">\r\n     <!-- True Positive Rate -->\r\n     <g transform=\"translate(479.966903 202.747813)rotate(-90)scale(0.1 -0.1)\">\r\n      <use xlink:href=\"#DejaVuSans-84\"/>\r\n      <use x=\"46.333984\" xlink:href=\"#DejaVuSans-114\"/>\r\n      <use x=\"87.447266\" xlink:href=\"#DejaVuSans-117\"/>\r\n      <use x=\"150.826172\" xlink:href=\"#DejaVuSans-101\"/>\r\n      <use x=\"212.349609\" xlink:href=\"#DejaVuSans-32\"/>\r\n      <use x=\"244.136719\" xlink:href=\"#DejaVuSans-80\"/>\r\n      <use x=\"300.814453\" xlink:href=\"#DejaVuSans-111\"/>\r\n      <use x=\"361.996094\" xlink:href=\"#DejaVuSans-115\"/>\r\n      <use x=\"414.095703\" xlink:href=\"#DejaVuSans-105\"/>\r\n      <use x=\"441.878906\" xlink:href=\"#DejaVuSans-116\"/>\r\n      <use x=\"481.087891\" xlink:href=\"#DejaVuSans-105\"/>\r\n      <use x=\"508.871094\" xlink:href=\"#DejaVuSans-118\"/>\r\n      <use x=\"568.050781\" xlink:href=\"#DejaVuSans-101\"/>\r\n      <use x=\"629.574219\" xlink:href=\"#DejaVuSans-32\"/>\r\n      <use x=\"661.361328\" xlink:href=\"#DejaVuSans-82\"/>\r\n      <use x=\"728.59375\" xlink:href=\"#DejaVuSans-97\"/>\r\n      <use x=\"789.873047\" xlink:href=\"#DejaVuSans-116\"/>\r\n      <use x=\"829.082031\" xlink:href=\"#DejaVuSans-101\"/>\r\n     </g>\r\n    </g>\r\n   </g>\r\n   <g id=\"line2d_17\">\r\n    <path clip-path=\"url(#pac8ec647f8)\" d=\"M 532.007567 281.76358 \r\nL 532.101523 281.00256 \r\nL 532.115978 281.00256 \r\nL 532.130432 281.00256 \r\nL 532.130432 280.922453 \r\nL 532.188251 280.441809 \r\nL 532.289435 279.360361 \r\nL 532.296662 279.360361 \r\nL 532.361708 278.399074 \r\nL 532.448437 277.117357 \r\nL 532.455664 277.117357 \r\nL 532.679713 274.513871 \r\nL 532.918216 273.031886 \r\nL 532.925444 273.031886 \r\nL 532.925444 272.951779 \r\nL 532.954353 272.431081 \r\nL 533.120583 270.148024 \r\nL 533.163947 270.148024 \r\nL 535.100883 249.720667 \r\nL 535.151475 249.600506 \r\nL 535.773029 241.669885 \r\nL 535.82362 241.229295 \r\nL 535.932031 239.947579 \r\nL 536.062124 238.665862 \r\nL 536.12717 238.305379 \r\nL 536.213899 237.624468 \r\nL 536.459629 234.580391 \r\nL 536.466857 234.580391 \r\nL 536.575267 233.779318 \r\nL 536.596949 233.739264 \r\nL 536.67645 232.657816 \r\nL 537.298005 226.609716 \r\nL 537.399188 225.007571 \r\nL 537.42087 225.007571 \r\nL 537.42087 224.927463 \r\nL 538.324292 216.035555 \r\nL 538.338746 216.035555 \r\nL 538.700115 213.752498 \r\nL 538.808526 213.67239 \r\nL 538.895254 213.472122 \r\nL 538.909709 213.472122 \r\nL 539.003665 213.392015 \r\nL 539.191576 212.951425 \r\nL 539.285532 212.871318 \r\nL 539.372261 212.711103 \r\nL 539.509581 212.630996 \r\nL 539.581855 212.470781 \r\nL 539.589082 212.470781 \r\nL 539.719175 212.390674 \r\nL 539.813131 212.190406 \r\nL 539.863722 212.150352 \r\nL 540.304592 211.389333 \r\nL 540.355184 211.309226 \r\nL 540.413003 211.309226 \r\nL 540.702098 210.988797 \r\nL 540.767144 210.948743 \r\nL 540.767144 210.908689 \r\nL 540.875555 210.868636 \r\nL 540.933373 210.788528 \r\nL 541.244151 210.227777 \r\nL 541.316424 210.14767 \r\nL 541.591064 209.426705 \r\nL 541.670566 209.26649 \r\nL 542.031934 208.785846 \r\nL 542.053616 208.745793 \r\nL 542.40053 208.185042 \r\nL 542.414985 208.185042 \r\nL 542.573987 207.824559 \r\nL 542.805263 207.424023 \r\nL 543.014857 207.023486 \r\nL 543.152177 206.823218 \r\nL 543.455727 206.18236 \r\nL 547.351281 200.614904 \r\nL 547.351281 200.57485 \r\nL 547.387418 200.57485 \r\nL 547.972835 199.453348 \r\nL 548.081246 199.213026 \r\nL 548.218566 199.132919 \r\nL 548.435387 198.81249 \r\nL 548.695573 198.772436 \r\nL 548.897939 198.411953 \r\nL 549.779679 197.290451 \r\nL 550.018182 196.809808 \r\nL 550.119365 196.7297 \r\nL 550.249458 196.569486 \r\nL 550.328959 196.489379 \r\nL 550.379551 196.209003 \r\nL 550.87824 195.888574 \r\nL 551.167334 195.127555 \r\nL 551.26129 195.047448 \r\nL 551.514248 194.847179 \r\nL 551.579295 194.606858 \r\nL 551.890072 193.925946 \r\nL 553.718597 191.242352 \r\nL 553.863145 190.921923 \r\nL 553.942646 190.881869 \r\nL 554.231741 190.401225 \r\nL 554.253423 190.401225 \r\nL 554.369061 190.12085 \r\nL 555.330302 188.959294 \r\nL 555.792854 188.118168 \r\nL 555.821763 188.03806 \r\nL 555.915719 187.837792 \r\nL 555.922946 187.837792 \r\nL 556.060266 187.757685 \r\nL 556.761322 186.676237 \r\nL 556.927551 186.395861 \r\nL 557.028734 186.315754 \r\nL 557.274465 185.915218 \r\nL 557.498514 185.514681 \r\nL 558.026112 184.913876 \r\nL 558.040567 184.913876 \r\nL 559.348721 183.031355 \r\nL 559.522178 182.550712 \r\nL 559.673953 182.470604 \r\nL 559.869092 182.150175 \r\nL 559.905229 182.110122 \r\nL 560.100368 181.829746 \r\nL 560.201551 181.749639 \r\nL 560.346099 181.669532 \r\nL 560.411145 181.589424 \r\nL 560.59183 181.349102 \r\nL 561.921666 179.306367 \r\nL 562.174624 179.025991 \r\nL 562.239671 178.865777 \r\nL 562.622722 178.46524 \r\nL 562.702223 178.224918 \r\nL 564.060969 176.182183 \r\nL 564.595795 175.781646 \r\nL 565.014982 175.060681 \r\nL 566.048497 173.859072 \r\nL 566.14968 173.578696 \r\nL 566.554413 173.418482 \r\nL 566.648369 173.378428 \r\nL 566.720642 173.17816 \r\nL 566.756779 173.17816 \r\nL 566.995283 173.057999 \r\nL 567.385561 172.657462 \r\nL 567.41447 172.617409 \r\nL 568.325119 171.295639 \r\nL 568.520258 171.175478 \r\nL 569.893459 169.453171 \r\nL 569.987415 169.172796 \r\nL 570.081371 169.172796 \r\nL 570.290965 168.812313 \r\nL 571.70753 167.170114 \r\nL 572.408585 166.088665 \r\nL 572.936184 165.648075 \r\nL 572.957866 165.527914 \r\nL 572.965093 165.527914 \r\nL 574.172065 164.366359 \r\nL 574.237111 164.246198 \r\nL 574.952621 163.525232 \r\nL 575.162215 163.485179 \r\nL 575.501901 163.124696 \r\nL 575.595857 163.044589 \r\nL 575.798224 162.72416 \r\nL 575.841588 162.644052 \r\nL 576.022272 162.443784 \r\nL 577.858025 160.240834 \r\nL 578.125438 160.000512 \r\nL 578.645809 158.959117 \r\nL 578.653036 158.959117 \r\nL 578.653036 158.919064 \r\nL 579.780506 157.99783 \r\nL 579.939509 157.917723 \r\nL 580.112966 157.397025 \r\nL 580.12742 157.397025 \r\nL 580.337014 157.11665 \r\nL 581.045297 156.23547 \r\nL 581.074206 156.115309 \r\nL 581.717442 155.434397 \r\nL 582.801549 154.112627 \r\nL 582.830458 154.072573 \r\nL 583.061734 153.912359 \r\nL 583.798926 153.111286 \r\nL 583.849518 153.071232 \r\nL 583.986838 152.83091 \r\nL 584.015747 152.790857 \r\nL 584.153067 152.590588 \r\nL 584.5578 152.310213 \r\nL 584.745712 151.909677 \r\nL 584.839668 151.869623 \r\nL 585.627452 151.148657 \r\nL 585.670816 151.108604 \r\nL 585.873182 150.708067 \r\nL 586.234551 150.467746 \r\nL 586.422463 150.267477 \r\nL 587.571615 148.745439 \r\nL 587.578842 148.505117 \r\nL 588.966498 146.66265 \r\nL 589.01709 146.66265 \r\nL 589.450732 146.021791 \r\nL 589.573598 145.941684 \r\nL 589.689236 145.621255 \r\nL 589.804874 145.621255 \r\nL 589.906057 145.46104 \r\nL 590.108423 145.300826 \r\nL 590.708295 144.659968 \r\nL 591.004618 144.13927 \r\nL 591.257576 144.019109 \r\nL 592.934326 141.976374 \r\nL 593.461925 141.215355 \r\nL 593.606472 141.175301 \r\nL 593.736565 140.975033 \r\nL 593.931704 140.814818 \r\nL 594.170207 140.534443 \r\nL 594.488212 139.973692 \r\nL 594.726715 139.893584 \r\nL 594.84958 139.853531 \r\nL 594.979673 139.773423 \r\nL 595.203722 139.533102 \r\nL 595.203722 139.412941 \r\nL 596.027642 138.772082 \r\nL 596.186644 138.491707 \r\nL 597.147885 137.20999 \r\nL 597.523708 137.049776 \r\nL 597.588755 136.929615 \r\nL 597.610437 136.929615 \r\nL 598.275355 135.848167 \r\nL 598.383766 135.487684 \r\nL 598.607815 135.207308 \r\nL 598.889682 135.127201 \r\nL 599.099276 134.806772 \r\nL 599.402826 134.606504 \r\nL 599.410053 134.486343 \r\nL 599.460645 134.486343 \r\nL 601.845678 131.762695 \r\nL 601.881815 131.762695 \r\nL 604.859493 127.837439 \r\nL 605.134133 127.717278 \r\nL 605.365409 127.476956 \r\nL 605.517184 127.116473 \r\nL 605.777369 126.675883 \r\nL 605.88578 126.595776 \r\nL 606.030327 126.395508 \r\nL 606.088146 126.395508 \r\nL 606.391696 125.794703 \r\nL 606.543471 125.754649 \r\nL 606.912067 125.674542 \r\nL 607.244526 124.99363 \r\nL 608.082901 123.952235 \r\nL 609.174235 123.071055 \r\nL 609.318782 122.830733 \r\nL 609.391056 122.750626 \r\nL 609.651241 122.430197 \r\nL 609.766879 122.35009 \r\nL 610.5908 121.709232 \r\nL 610.720893 121.388802 \r\nL 611.132853 120.707891 \r\nL 611.255718 120.707891 \r\nL 611.255718 120.667837 \r\nL 611.515904 120.307354 \r\nL 611.573723 120.2673 \r\nL 612.686738 119.225906 \r\nL 612.946924 118.985584 \r\nL 614.233396 117.463546 \r\nL 615.816191 115.140434 \r\nL 615.910147 115.060327 \r\nL 616.17756 114.860059 \r\nL 616.979798 114.379415 \r\nL 617.00148 114.299308 \r\nL 617.088209 114.299308 \r\nL 617.102663 114.299308 \r\nL 617.203847 114.09904 \r\nL 617.543533 113.898772 \r\nL 617.601352 113.65845 \r\nL 619.307012 112.096358 \r\nL 619.740655 111.856036 \r\nL 619.75511 111.695821 \r\nL 620.571803 110.774588 \r\nL 620.636849 110.69448 \r\nL 620.860898 110.414105 \r\nL 621.135538 110.133729 \r\nL 621.316222 109.933461 \r\nL 621.952231 109.37271 \r\nL 622.299145 108.771906 \r\nL 622.393101 108.691798 \r\nL 622.573785 108.611691 \r\nL 622.595467 108.611691 \r\nL 623.383251 107.530243 \r\nL 623.88194 107.129706 \r\nL 624.763679 105.84799 \r\nL 625.580373 105.086971 \r\nL 626.613887 103.805254 \r\nL 627.163167 103.484825 \r\nL 627.45949 102.964128 \r\nL 627.575128 102.924074 \r\nL 627.719675 102.723806 \r\nL 627.799176 102.723806 \r\nL 627.799176 102.683752 \r\nL 628.695371 102.00284 \r\nL 628.941101 101.682411 \r\nL 630.827446 100.000158 \r\nL 630.863583 100.000158 \r\nL 630.943084 99.79989 \r\nL 631.044267 99.719783 \r\nL 631.138223 99.599622 \r\nL 631.441773 99.319246 \r\nL 631.651366 99.159032 \r\nL 631.687503 98.998817 \r\nL 631.738095 98.998817 \r\nL 631.788687 98.998817 \r\nL 632.337967 98.398013 \r\nL 632.569243 97.957423 \r\nL 633.949671 96.835921 \r\nL 634.188175 96.515492 \r\nL 635.265053 95.794526 \r\nL 635.872153 95.514151 \r\nL 635.922744 95.39399 \r\nL 636.443115 94.753131 \r\nL 636.804484 94.472756 \r\nL 636.818939 94.472756 \r\nL 637.042987 94.19238 \r\nL 637.100806 94.112273 \r\nL 639.283473 92.550181 \r\nL 639.391884 92.389967 \r\nL 639.435248 92.389967 \r\nL 640.772312 90.587553 \r\nL 640.837358 90.507446 \r\nL 641.119226 89.986748 \r\nL 641.314365 89.906641 \r\nL 641.733553 89.666319 \r\nL 641.856418 89.586212 \r\nL 641.899782 89.506104 \r\nL 642.622519 88.9053 \r\nL 642.716475 88.705032 \r\nL 642.824886 88.624924 \r\nL 642.911614 88.46471 \r\nL 642.918842 88.46471 \r\nL 642.983888 88.344549 \r\nL 643.511486 87.863905 \r\nL 643.562078 87.823852 \r\nL 643.815036 87.423315 \r\nL 645.874838 85.220365 \r\nL 646.113341 85.180311 \r\nL 646.113341 85.140258 \r\nL 646.236206 85.020097 \r\nL 646.416891 84.819829 \r\nL 646.677076 84.659614 \r\nL 646.872215 84.339185 \r\nL 647.168537 84.259078 \r\nL 647.407041 84.018756 \r\nL 647.674454 83.858541 \r\nL 648.252644 83.377897 \r\nL 648.303235 83.29779 \r\nL 648.303235 83.257737 \r\nL 648.585103 82.977361 \r\nL 648.86697 82.817147 \r\nL 649.553571 82.176288 \r\nL 649.878803 81.575484 \r\nL 650.305218 81.174947 \r\nL 650.399173 80.854518 \r\nL 650.406401 80.854518 \r\nL 650.507584 80.814464 \r\nL 650.825588 80.534089 \r\nL 651.027955 80.494035 \r\nL 651.360414 80.093499 \r\nL 651.541098 80.053445 \r\nL 652.14097 79.893231 \r\nL 652.184335 79.733016 \r\nL 653.239531 78.731675 \r\nL 653.261213 78.731675 \r\nL 653.470807 78.491353 \r\nL 655.349924 77.12953 \r\nL 655.501699 76.889208 \r\nL 655.71852 76.8091 \r\nL 655.85584 76.568779 \r\nL 655.913659 76.528725 \r\nL 655.913659 76.488671 \r\nL 656.079889 76.288403 \r\nL 656.802626 75.887867 \r\nL 657.930097 74.966633 \r\nL 658.096326 74.726311 \r\nL 658.88411 74.405882 \r\nL 658.905792 74.325775 \r\nL 658.970838 74.325775 \r\nL 659.231024 74.285721 \r\nL 659.29607 74.205614 \r\nL 661.326962 71.922556 \r\nL 661.399236 71.882503 \r\nL 661.514874 71.802395 \r\nL 662.43275 71.321752 \r\nL 662.526706 71.121483 \r\nL 662.533934 71.121483 \r\nL 662.59898 70.961269 \r\nL 663.278353 70.720947 \r\nL 664.174547 69.599445 \r\nL 664.535916 69.519338 \r\nL 664.557598 69.439231 \r\nL 665.612795 68.678211 \r\nL 665.685069 68.598104 \r\nL 665.721205 68.598104 \r\nL 665.73566 68.598104 \r\nL 666.364442 67.716924 \r\nL 666.769175 67.596763 \r\nL 666.86313 67.516656 \r\nL 668.951841 66.435207 \r\nL 668.987978 66.435207 \r\nL 669.34212 66.114778 \r\nL 669.486667 66.034671 \r\nL 669.602305 65.834403 \r\nL 669.674579 65.834403 \r\nL 671.192327 64.993276 \r\nL 671.315193 64.833062 \r\nL 671.503104 64.752955 \r\nL 672.695621 63.991935 \r\nL 672.897987 63.911828 \r\nL 674.618102 62.670165 \r\nL 674.784332 62.590058 \r\nL 675.00838 62.349736 \r\nL 675.160155 62.269629 \r\nL 675.268566 62.189522 \r\nL 675.31193 62.189522 \r\nL 676.208124 61.628771 \r\nL 676.540584 61.50861 \r\nL 676.540584 61.388449 \r\nL 676.620085 61.388449 \r\nL 676.663449 61.388449 \r\nL 676.663449 61.348395 \r\nL 677.169365 60.947859 \r\nL 677.364504 60.867751 \r\nL 677.444005 60.787644 \r\nL 677.465687 60.787644 \r\nL 677.711418 60.707537 \r\nL 677.790919 60.62743 \r\nL 677.812601 60.62743 \r\nL 678.347427 60.547322 \r\nL 678.629295 60.467215 \r\nL 679.084619 60.387108 \r\nL 679.200257 60.347054 \r\nL 681.231149 60.266947 \r\nL 681.455198 60.226893 \r\nL 682.43812 60.146786 \r\nL 682.640487 60.106732 \r\nL 683.702911 60.026625 \r\nL 683.912505 59.946518 \r\nL 684.830381 59.906464 \r\nL 685.307388 59.786303 \r\nL 686.246946 59.706196 \r\nL 686.384266 59.626089 \r\nL 687.237096 59.545981 \r\nL 687.374417 59.505928 \r\nL 688.313975 59.42582 \r\nL 688.509114 59.385767 \r\nL 689.282443 59.305659 \r\nL 689.333035 59.265606 \r\nL 691.696386 58.945177 \r\nL 692.195075 58.865069 \r\nL 692.419123 58.784962 \r\nL 692.448033 58.784962 \r\nL 693.792324 58.504587 \r\nL 697.247009 58.184158 \r\nL 698.584073 58.144104 \r\nL 702.074894 57.863728 \r\nL 702.992771 57.66346 \r\nL 704.026285 57.583353 \r\nL 704.084104 57.543299 \r\nL 705.941539 57.463192 \r\nL 705.999358 57.423138 \r\nL 706.938917 57.343031 \r\nL 707.488197 57.22287 \r\nL 707.748383 57.182816 \r\nL 707.864021 57.102709 \r\nL 718.517169 55.941154 \r\nL 718.517169 55.9011 \r\nL 718.538851 55.9011 \r\nL 719.586821 55.820993 \r\nL 720.16501 55.700832 \r\nL 720.786565 55.620725 \r\nL 720.945567 55.540617 \r\nL 721.914035 55.46051 \r\nL 722.044128 55.420456 \r\nL 723.663059 55.340349 \r\nL 727.811572 54.699491 \r\nL 727.941664 54.659437 \r\nL 728.939042 54.57933 \r\nL 729.126954 54.539276 \r\nL 730.131559 54.419115 \r\nL 731.663762 54.339008 \r\nL 731.974539 54.298954 \r\nL 735.118446 54.018579 \r\nL 735.458133 53.978525 \r\nL 736.715696 53.778257 \r\nL 736.939744 53.69815 \r\nL 737.532389 53.618042 \r\nL 737.662482 53.577989 \r\nL 738.320173 53.537935 \r\nL 738.963409 53.457828 \r\nL 739.389824 53.377721 \r\nL 741.427943 53.297613 \r\nL 743.675657 53.057292 \r\nL 747.339935 52.696809 \r\nL 747.925352 52.616701 \r\nL 748.31563 52.536594 \r\nL 753.157971 52.256219 \r\nL 753.251927 52.176111 \r\nL 753.880708 52.136058 \r\nL 762.669194 51.134717 \r\nL 762.669194 51.094663 \r\nL 762.705331 51.094663 \r\nL 763.131746 51.054609 \r\nL 764.158033 51.014556 \r\nL 774.594361 50.053268 \r\nL 774.970184 49.973161 \r\nL 775.483328 49.933108 \r\nL 777.145624 49.732839 \r\nL 777.933407 49.652732 \r\nL 778.012908 49.612678 \r\nL 779.783615 49.532571 \r\nL 780.571399 49.332303 \r\nL 784.19954 49.172088 \r\nL 784.358542 49.132035 \r\nL 786.931487 49.051927 \r\nL 791.788282 48.571284 \r\nL 791.896693 48.451123 \r\nL 794.18777 48.371016 \r\nL 794.245589 48.330962 \r\nL 808.685882 47.409728 \r\nL 809.878398 47.329621 \r\nL 809.878398 47.289567 \r\nL 809.885626 47.289567 \r\nL 810.803502 47.20946 \r\nL 811.959882 46.969138 \r\nL 813.853454 46.929084 \r\nL 815.703662 46.76887 \r\nL 821.608426 46.448441 \r\nL 821.745746 46.408387 \r\nL 822.295026 46.368334 \r\nL 824.398192 45.927743 \r\nL 832.709672 45.286885 \r\nL 837.349645 44.966456 \r\nL 837.508648 44.926402 \r\nL 838.484343 44.846295 \r\nL 838.903531 44.766188 \r\nL 846.412772 44.325598 \r\nL 846.66573 44.245491 \r\nL 848.739986 44.165383 \r\nL 849.332631 44.12533 \r\nL 849.780728 44.045222 \r\nL 852.953545 43.764847 \r\nL 853.748556 43.764847 \r\nL 854.240017 43.604632 \r\nL 856.480503 43.564579 \r\nL 860.014689 43.204096 \r\nL 861.033749 43.123989 \r\nL 863.014049 42.80356 \r\nL 865.362945 42.723452 \r\nL 865.637585 42.643345 \r\nL 867.473338 42.563238 \r\nL 873.313056 42.202755 \r\nL 874.40439 42.122648 \r\nL 876.377463 42.04254 \r\nL 876.420827 42.002487 \r\nL 879.716509 41.922379 \r\nL 880.446474 41.842272 \r\nL 882.036496 41.802218 \r\nL 890.875574 40.800877 \r\nL 891.511583 40.72077 \r\nL 892.256002 40.640663 \r\nL 892.761918 40.600609 \r\nL 896.809248 40.520502 \r\nL 902.049093 40.119966 \r\nL 902.309279 40.079912 \r\nL 906.479473 40.039858 \r\nL 910.389483 39.599268 \r\nL 911.422997 39.519161 \r\nL 911.495271 39.479107 \r\nL 912.152962 39.439054 \r\nL 916.496613 39.198732 \r\nL 928.660283 38.718088 \r\nL 928.703647 38.678035 \r\nL 930.81404 38.397659 \r\nL 932.049921 38.317552 \r\nL 932.881069 38.277498 \r\nL 933.170164 38.277498 \r\nL 935.540743 37.957069 \r\nL 940.195171 37.756801 \r\nL 941.170867 37.63664 \r\nL 943.158394 37.596586 \r\nL 943.960633 37.476425 \r\nL 952.460024 37.075889 \r\nL 952.467251 37.035835 \r\nL 954.801693 36.875621 \r\nL 955.242563 36.795513 \r\nL 958.726157 36.435031 \r\nL 962.867442 36.354923 \r\nL 962.98308 36.31487 \r\nL 964.132232 36.234762 \r\nL 964.811605 36.154655 \r\nL 968.013332 36.074548 \r\nL 979.945726 35.633958 \r\nL 984.311059 35.553851 \r\nL 984.354424 35.513797 \r\nL 990.374826 34.912992 \r\nL 992.12385 34.832885 \r\nL 992.225033 34.712724 \r\nL 993.164592 34.67267 \r\nL 993.164592 34.67267 \r\n\" style=\"fill:none;stroke:#1f77b4;stroke-linecap:square;stroke-width:1.5;\"/>\r\n   </g>\r\n   <g id=\"patch_8\">\r\n    <path d=\"M 508.949716 294.118125 \r\nL 508.949716 22.318125 \r\n\" style=\"fill:none;stroke:#000000;stroke-linecap:square;stroke-linejoin:miter;stroke-width:0.8;\"/>\r\n   </g>\r\n   <g id=\"patch_9\">\r\n    <path d=\"M 1016.222443 294.118125 \r\nL 1016.222443 22.318125 \r\n\" style=\"fill:none;stroke:#000000;stroke-linecap:square;stroke-linejoin:miter;stroke-width:0.8;\"/>\r\n   </g>\r\n   <g id=\"patch_10\">\r\n    <path d=\"M 508.949716 294.118125 \r\nL 1016.222443 294.118125 \r\n\" style=\"fill:none;stroke:#000000;stroke-linecap:square;stroke-linejoin:miter;stroke-width:0.8;\"/>\r\n   </g>\r\n   <g id=\"patch_11\">\r\n    <path d=\"M 508.949716 22.318125 \r\nL 1016.222443 22.318125 \r\n\" style=\"fill:none;stroke:#000000;stroke-linecap:square;stroke-linejoin:miter;stroke-width:0.8;\"/>\r\n   </g>\r\n   <g id=\"text_26\">\r\n    <!-- ROC Curve -->\r\n    <defs>\r\n     <path d=\"M 39.40625 66.21875 \r\nQ 28.65625 66.21875 22.328125 58.203125 \r\nQ 16.015625 50.203125 16.015625 36.375 \r\nQ 16.015625 22.609375 22.328125 14.59375 \r\nQ 28.65625 6.59375 39.40625 6.59375 \r\nQ 50.140625 6.59375 56.421875 14.59375 \r\nQ 62.703125 22.609375 62.703125 36.375 \r\nQ 62.703125 50.203125 56.421875 58.203125 \r\nQ 50.140625 66.21875 39.40625 66.21875 \r\nz\r\nM 39.40625 74.21875 \r\nQ 54.734375 74.21875 63.90625 63.9375 \r\nQ 73.09375 53.65625 73.09375 36.375 \r\nQ 73.09375 19.140625 63.90625 8.859375 \r\nQ 54.734375 -1.421875 39.40625 -1.421875 \r\nQ 24.03125 -1.421875 14.8125 8.828125 \r\nQ 5.609375 19.09375 5.609375 36.375 \r\nQ 5.609375 53.65625 14.8125 63.9375 \r\nQ 24.03125 74.21875 39.40625 74.21875 \r\nz\r\n\" id=\"DejaVuSans-79\"/>\r\n    </defs>\r\n    <g transform=\"translate(729.895455 16.318125)scale(0.12 -0.12)\">\r\n     <use xlink:href=\"#DejaVuSans-82\"/>\r\n     <use x=\"69.482422\" xlink:href=\"#DejaVuSans-79\"/>\r\n     <use x=\"148.193359\" xlink:href=\"#DejaVuSans-67\"/>\r\n     <use x=\"218.017578\" xlink:href=\"#DejaVuSans-32\"/>\r\n     <use x=\"249.804688\" xlink:href=\"#DejaVuSans-67\"/>\r\n     <use x=\"319.628906\" xlink:href=\"#DejaVuSans-117\"/>\r\n     <use x=\"383.007812\" xlink:href=\"#DejaVuSans-114\"/>\r\n     <use x=\"424.121094\" xlink:href=\"#DejaVuSans-118\"/>\r\n     <use x=\"483.300781\" xlink:href=\"#DejaVuSans-101\"/>\r\n    </g>\r\n   </g>\r\n   <g id=\"legend_1\">\r\n    <g id=\"patch_12\">\r\n     <path d=\"M 868.966193 289.118125 \r\nL 1009.222443 289.118125 \r\nQ 1011.222443 289.118125 1011.222443 287.118125 \r\nL 1011.222443 273.44 \r\nQ 1011.222443 271.44 1009.222443 271.44 \r\nL 868.966193 271.44 \r\nQ 866.966193 271.44 866.966193 273.44 \r\nL 866.966193 287.118125 \r\nQ 866.966193 289.118125 868.966193 289.118125 \r\nz\r\n\" style=\"fill:#ffffff;opacity:0.8;stroke:#cccccc;stroke-linejoin:miter;\"/>\r\n    </g>\r\n    <g id=\"line2d_18\">\r\n     <path d=\"M 870.966193 279.538437 \r\nL 890.966193 279.538437 \r\n\" style=\"fill:none;stroke:#1f77b4;stroke-linecap:square;stroke-width:1.5;\"/>\r\n    </g>\r\n    <g id=\"line2d_19\"/>\r\n    <g id=\"text_27\">\r\n     <!-- Pipeline (AUC = 0.84) -->\r\n     <defs>\r\n      <path d=\"M 18.109375 8.203125 \r\nL 18.109375 -20.796875 \r\nL 9.078125 -20.796875 \r\nL 9.078125 54.6875 \r\nL 18.109375 54.6875 \r\nL 18.109375 46.390625 \r\nQ 20.953125 51.265625 25.265625 53.625 \r\nQ 29.59375 56 35.59375 56 \r\nQ 45.5625 56 51.78125 48.09375 \r\nQ 58.015625 40.1875 58.015625 27.296875 \r\nQ 58.015625 14.40625 51.78125 6.484375 \r\nQ 45.5625 -1.421875 35.59375 -1.421875 \r\nQ 29.59375 -1.421875 25.265625 0.953125 \r\nQ 20.953125 3.328125 18.109375 8.203125 \r\nz\r\nM 48.6875 27.296875 \r\nQ 48.6875 37.203125 44.609375 42.84375 \r\nQ 40.53125 48.484375 33.40625 48.484375 \r\nQ 26.265625 48.484375 22.1875 42.84375 \r\nQ 18.109375 37.203125 18.109375 27.296875 \r\nQ 18.109375 17.390625 22.1875 11.75 \r\nQ 26.265625 6.109375 33.40625 6.109375 \r\nQ 40.53125 6.109375 44.609375 11.75 \r\nQ 48.6875 17.390625 48.6875 27.296875 \r\nz\r\n\" id=\"DejaVuSans-112\"/>\r\n      <path d=\"M 31 75.875 \r\nQ 24.46875 64.65625 21.28125 53.65625 \r\nQ 18.109375 42.671875 18.109375 31.390625 \r\nQ 18.109375 20.125 21.3125 9.0625 \r\nQ 24.515625 -2 31 -13.1875 \r\nL 23.1875 -13.1875 \r\nQ 15.875 -1.703125 12.234375 9.375 \r\nQ 8.59375 20.453125 8.59375 31.390625 \r\nQ 8.59375 42.28125 12.203125 53.3125 \r\nQ 15.828125 64.359375 23.1875 75.875 \r\nz\r\n\" id=\"DejaVuSans-40\"/>\r\n      <path d=\"M 34.1875 63.1875 \r\nL 20.796875 26.90625 \r\nL 47.609375 26.90625 \r\nz\r\nM 28.609375 72.90625 \r\nL 39.796875 72.90625 \r\nL 67.578125 0 \r\nL 57.328125 0 \r\nL 50.6875 18.703125 \r\nL 17.828125 18.703125 \r\nL 11.1875 0 \r\nL 0.78125 0 \r\nz\r\n\" id=\"DejaVuSans-65\"/>\r\n      <path d=\"M 8.6875 72.90625 \r\nL 18.609375 72.90625 \r\nL 18.609375 28.609375 \r\nQ 18.609375 16.890625 22.84375 11.734375 \r\nQ 27.09375 6.59375 36.625 6.59375 \r\nQ 46.09375 6.59375 50.34375 11.734375 \r\nQ 54.59375 16.890625 54.59375 28.609375 \r\nL 54.59375 72.90625 \r\nL 64.5 72.90625 \r\nL 64.5 27.390625 \r\nQ 64.5 13.140625 57.4375 5.859375 \r\nQ 50.390625 -1.421875 36.625 -1.421875 \r\nQ 22.796875 -1.421875 15.734375 5.859375 \r\nQ 8.6875 13.140625 8.6875 27.390625 \r\nz\r\n\" id=\"DejaVuSans-85\"/>\r\n      <path d=\"M 10.59375 45.40625 \r\nL 73.1875 45.40625 \r\nL 73.1875 37.203125 \r\nL 10.59375 37.203125 \r\nz\r\nM 10.59375 25.484375 \r\nL 73.1875 25.484375 \r\nL 73.1875 17.1875 \r\nL 10.59375 17.1875 \r\nz\r\n\" id=\"DejaVuSans-61\"/>\r\n      <path d=\"M 8.015625 75.875 \r\nL 15.828125 75.875 \r\nQ 23.140625 64.359375 26.78125 53.3125 \r\nQ 30.421875 42.28125 30.421875 31.390625 \r\nQ 30.421875 20.453125 26.78125 9.375 \r\nQ 23.140625 -1.703125 15.828125 -13.1875 \r\nL 8.015625 -13.1875 \r\nQ 14.5 -2 17.703125 9.0625 \r\nQ 20.90625 20.125 20.90625 31.390625 \r\nQ 20.90625 42.671875 17.703125 53.65625 \r\nQ 14.5 64.65625 8.015625 75.875 \r\nz\r\n\" id=\"DejaVuSans-41\"/>\r\n     </defs>\r\n     <g transform=\"translate(898.966193 283.038437)scale(0.1 -0.1)\">\r\n      <use xlink:href=\"#DejaVuSans-80\"/>\r\n      <use x=\"58.052734\" xlink:href=\"#DejaVuSans-105\"/>\r\n      <use x=\"85.835938\" xlink:href=\"#DejaVuSans-112\"/>\r\n      <use x=\"149.3125\" xlink:href=\"#DejaVuSans-101\"/>\r\n      <use x=\"210.835938\" xlink:href=\"#DejaVuSans-108\"/>\r\n      <use x=\"238.619141\" xlink:href=\"#DejaVuSans-105\"/>\r\n      <use x=\"266.402344\" xlink:href=\"#DejaVuSans-110\"/>\r\n      <use x=\"329.78125\" xlink:href=\"#DejaVuSans-101\"/>\r\n      <use x=\"391.304688\" xlink:href=\"#DejaVuSans-32\"/>\r\n      <use x=\"423.091797\" xlink:href=\"#DejaVuSans-40\"/>\r\n      <use x=\"462.105469\" xlink:href=\"#DejaVuSans-65\"/>\r\n      <use x=\"530.513672\" xlink:href=\"#DejaVuSans-85\"/>\r\n      <use x=\"603.707031\" xlink:href=\"#DejaVuSans-67\"/>\r\n      <use x=\"673.53125\" xlink:href=\"#DejaVuSans-32\"/>\r\n      <use x=\"705.318359\" xlink:href=\"#DejaVuSans-61\"/>\r\n      <use x=\"789.107422\" xlink:href=\"#DejaVuSans-32\"/>\r\n      <use x=\"820.894531\" xlink:href=\"#DejaVuSans-48\"/>\r\n      <use x=\"884.517578\" xlink:href=\"#DejaVuSans-46\"/>\r\n      <use x=\"916.304688\" xlink:href=\"#DejaVuSans-56\"/>\r\n      <use x=\"979.927734\" xlink:href=\"#DejaVuSans-52\"/>\r\n      <use x=\"1043.550781\" xlink:href=\"#DejaVuSans-41\"/>\r\n     </g>\r\n    </g>\r\n   </g>\r\n  </g>\r\n  <g id=\"axes_3\">\r\n   <g id=\"patch_13\">\r\n    <path clip-path=\"url(#p58786551fb)\" d=\"M 331.404261 294.118125 \r\nL 331.404261 293.056406 \r\nL 331.404261 23.379844 \r\nL 331.404261 22.318125 \r\nL 344.994261 22.318125 \r\nL 344.994261 23.379844 \r\nL 344.994261 293.056406 \r\nL 344.994261 294.118125 \r\nz\r\n\" style=\"fill:#ffffff;stroke:#ffffff;stroke-linejoin:miter;stroke-width:0.01;\"/>\r\n   </g>\r\n   <image height=\"271\" id=\"image849a88bdf4\" transform=\"scale(1 -1)translate(0 -271)\" width=\"14\" x=\"331\" xlink:href=\"data:image/png;base64,\r\niVBORw0KGgoAAAANSUhEUgAAAA4AAAEPCAYAAAByY/XAAAAABHNCSVQICAgIfAhkiAAAAXZJREFUaIHtm8sNwzAMQ2Uno3WG7j9J0wmSwyNKgbVzJyjxYzdAOl7zfRV4zjEHwdVZYzKgn7E4IwOyOavqHJPuCEc9q4ERAkdMAKLsaNjRPypTlRc5KXI5Pl58VISLsmMFceiOSpEp0O8jwymjNojjZsSq+vvoT47dDl5kYVQKpPejf1R/rfaOj4wQKBzIlBEChRs5yI7N+BPGoGvODcwJgHICQOD28YmR4RYRZyfn9lmiyDsA90/US1mMqkk+1mC3xw7Aj4BmO7KuAChOh48M2FDkFXyE751ZkSu/qiswMmBDkbE4uB1BAYCEkqpuO2bDqP+/44TnqvAtWZA4OYzUx45Rg4BU1ZwdeZGjVP24GXN2PBp2dNtxBI3qL3L57fCrShlpcjgjLrI95B2MMVmlAVCK7G+H+9IRAuCOnHCxmiMnqGqPHD9zcoosnKv2U65hVP+PQISTskoZ+ajw6zVhVMwIgcKO7s/CBXHgP/W4qvT/j3TUL7WjjR5hEDXdAAAAAElFTkSuQmCC\" y=\"-22\"/>\r\n   <g id=\"matplotlib.axis_5\"/>\r\n   <g id=\"matplotlib.axis_6\">\r\n    <g id=\"ytick_9\">\r\n     <g id=\"line2d_20\">\r\n      <defs>\r\n       <path d=\"M 0 0 \r\nL 3.5 0 \r\n\" id=\"m2149995d1f\" style=\"stroke:#000000;stroke-width:0.8;\"/>\r\n      </defs>\r\n      <g>\r\n       <use style=\"stroke:#000000;stroke-width:0.8;\" x=\"344.994261\" xlink:href=\"#m2149995d1f\" y=\"290.787769\"/>\r\n      </g>\r\n     </g>\r\n     <g id=\"text_28\">\r\n      <!-- 0.1 -->\r\n      <g transform=\"translate(351.994261 294.586988)scale(0.1 -0.1)\">\r\n       <use xlink:href=\"#DejaVuSans-48\"/>\r\n       <use x=\"63.623047\" xlink:href=\"#DejaVuSans-46\"/>\r\n       <use x=\"95.410156\" xlink:href=\"#DejaVuSans-49\"/>\r\n      </g>\r\n     </g>\r\n    </g>\r\n    <g id=\"ytick_10\">\r\n     <g id=\"line2d_21\">\r\n      <g>\r\n       <use style=\"stroke:#000000;stroke-width:0.8;\" x=\"344.994261\" xlink:href=\"#m2149995d1f\" y=\"257.645358\"/>\r\n      </g>\r\n     </g>\r\n     <g id=\"text_29\">\r\n      <!-- 0.2 -->\r\n      <g transform=\"translate(351.994261 261.444577)scale(0.1 -0.1)\">\r\n       <use xlink:href=\"#DejaVuSans-48\"/>\r\n       <use x=\"63.623047\" xlink:href=\"#DejaVuSans-46\"/>\r\n       <use x=\"95.410156\" xlink:href=\"#DejaVuSans-50\"/>\r\n      </g>\r\n     </g>\r\n    </g>\r\n    <g id=\"ytick_11\">\r\n     <g id=\"line2d_22\">\r\n      <g>\r\n       <use style=\"stroke:#000000;stroke-width:0.8;\" x=\"344.994261\" xlink:href=\"#m2149995d1f\" y=\"224.502947\"/>\r\n      </g>\r\n     </g>\r\n     <g id=\"text_30\">\r\n      <!-- 0.3 -->\r\n      <g transform=\"translate(351.994261 228.302166)scale(0.1 -0.1)\">\r\n       <use xlink:href=\"#DejaVuSans-48\"/>\r\n       <use x=\"63.623047\" xlink:href=\"#DejaVuSans-46\"/>\r\n       <use x=\"95.410156\" xlink:href=\"#DejaVuSans-51\"/>\r\n      </g>\r\n     </g>\r\n    </g>\r\n    <g id=\"ytick_12\">\r\n     <g id=\"line2d_23\">\r\n      <g>\r\n       <use style=\"stroke:#000000;stroke-width:0.8;\" x=\"344.994261\" xlink:href=\"#m2149995d1f\" y=\"191.360536\"/>\r\n      </g>\r\n     </g>\r\n     <g id=\"text_31\">\r\n      <!-- 0.4 -->\r\n      <g transform=\"translate(351.994261 195.159755)scale(0.1 -0.1)\">\r\n       <use xlink:href=\"#DejaVuSans-48\"/>\r\n       <use x=\"63.623047\" xlink:href=\"#DejaVuSans-46\"/>\r\n       <use x=\"95.410156\" xlink:href=\"#DejaVuSans-52\"/>\r\n      </g>\r\n     </g>\r\n    </g>\r\n    <g id=\"ytick_13\">\r\n     <g id=\"line2d_24\">\r\n      <g>\r\n       <use style=\"stroke:#000000;stroke-width:0.8;\" x=\"344.994261\" xlink:href=\"#m2149995d1f\" y=\"158.218125\"/>\r\n      </g>\r\n     </g>\r\n     <g id=\"text_32\">\r\n      <!-- 0.5 -->\r\n      <defs>\r\n       <path d=\"M 10.796875 72.90625 \r\nL 49.515625 72.90625 \r\nL 49.515625 64.59375 \r\nL 19.828125 64.59375 \r\nL 19.828125 46.734375 \r\nQ 21.96875 47.46875 24.109375 47.828125 \r\nQ 26.265625 48.1875 28.421875 48.1875 \r\nQ 40.625 48.1875 47.75 41.5 \r\nQ 54.890625 34.8125 54.890625 23.390625 \r\nQ 54.890625 11.625 47.5625 5.09375 \r\nQ 40.234375 -1.421875 26.90625 -1.421875 \r\nQ 22.3125 -1.421875 17.546875 -0.640625 \r\nQ 12.796875 0.140625 7.71875 1.703125 \r\nL 7.71875 11.625 \r\nQ 12.109375 9.234375 16.796875 8.0625 \r\nQ 21.484375 6.890625 26.703125 6.890625 \r\nQ 35.15625 6.890625 40.078125 11.328125 \r\nQ 45.015625 15.765625 45.015625 23.390625 \r\nQ 45.015625 31 40.078125 35.4375 \r\nQ 35.15625 39.890625 26.703125 39.890625 \r\nQ 22.75 39.890625 18.8125 39.015625 \r\nQ 14.890625 38.140625 10.796875 36.28125 \r\nz\r\n\" id=\"DejaVuSans-53\"/>\r\n      </defs>\r\n      <g transform=\"translate(351.994261 162.017344)scale(0.1 -0.1)\">\r\n       <use xlink:href=\"#DejaVuSans-48\"/>\r\n       <use x=\"63.623047\" xlink:href=\"#DejaVuSans-46\"/>\r\n       <use x=\"95.410156\" xlink:href=\"#DejaVuSans-53\"/>\r\n      </g>\r\n     </g>\r\n    </g>\r\n    <g id=\"ytick_14\">\r\n     <g id=\"line2d_25\">\r\n      <g>\r\n       <use style=\"stroke:#000000;stroke-width:0.8;\" x=\"344.994261\" xlink:href=\"#m2149995d1f\" y=\"125.075714\"/>\r\n      </g>\r\n     </g>\r\n     <g id=\"text_33\">\r\n      <!-- 0.6 -->\r\n      <g transform=\"translate(351.994261 128.874933)scale(0.1 -0.1)\">\r\n       <use xlink:href=\"#DejaVuSans-48\"/>\r\n       <use x=\"63.623047\" xlink:href=\"#DejaVuSans-46\"/>\r\n       <use x=\"95.410156\" xlink:href=\"#DejaVuSans-54\"/>\r\n      </g>\r\n     </g>\r\n    </g>\r\n    <g id=\"ytick_15\">\r\n     <g id=\"line2d_26\">\r\n      <g>\r\n       <use style=\"stroke:#000000;stroke-width:0.8;\" x=\"344.994261\" xlink:href=\"#m2149995d1f\" y=\"91.933303\"/>\r\n      </g>\r\n     </g>\r\n     <g id=\"text_34\">\r\n      <!-- 0.7 -->\r\n      <defs>\r\n       <path d=\"M 8.203125 72.90625 \r\nL 55.078125 72.90625 \r\nL 55.078125 68.703125 \r\nL 28.609375 0 \r\nL 18.3125 0 \r\nL 43.21875 64.59375 \r\nL 8.203125 64.59375 \r\nz\r\n\" id=\"DejaVuSans-55\"/>\r\n      </defs>\r\n      <g transform=\"translate(351.994261 95.732522)scale(0.1 -0.1)\">\r\n       <use xlink:href=\"#DejaVuSans-48\"/>\r\n       <use x=\"63.623047\" xlink:href=\"#DejaVuSans-46\"/>\r\n       <use x=\"95.410156\" xlink:href=\"#DejaVuSans-55\"/>\r\n      </g>\r\n     </g>\r\n    </g>\r\n    <g id=\"ytick_16\">\r\n     <g id=\"line2d_27\">\r\n      <g>\r\n       <use style=\"stroke:#000000;stroke-width:0.8;\" x=\"344.994261\" xlink:href=\"#m2149995d1f\" y=\"58.790892\"/>\r\n      </g>\r\n     </g>\r\n     <g id=\"text_35\">\r\n      <!-- 0.8 -->\r\n      <g transform=\"translate(351.994261 62.590111)scale(0.1 -0.1)\">\r\n       <use xlink:href=\"#DejaVuSans-48\"/>\r\n       <use x=\"63.623047\" xlink:href=\"#DejaVuSans-46\"/>\r\n       <use x=\"95.410156\" xlink:href=\"#DejaVuSans-56\"/>\r\n      </g>\r\n     </g>\r\n    </g>\r\n    <g id=\"ytick_17\">\r\n     <g id=\"line2d_28\">\r\n      <g>\r\n       <use style=\"stroke:#000000;stroke-width:0.8;\" x=\"344.994261\" xlink:href=\"#m2149995d1f\" y=\"25.648481\"/>\r\n      </g>\r\n     </g>\r\n     <g id=\"text_36\">\r\n      <!-- 0.9 -->\r\n      <g transform=\"translate(351.994261 29.447699)scale(0.1 -0.1)\">\r\n       <use xlink:href=\"#DejaVuSans-48\"/>\r\n       <use x=\"63.623047\" xlink:href=\"#DejaVuSans-46\"/>\r\n       <use x=\"95.410156\" xlink:href=\"#DejaVuSans-57\"/>\r\n      </g>\r\n     </g>\r\n    </g>\r\n   </g>\r\n   <g id=\"patch_14\">\r\n    <path d=\"M 331.404261 294.118125 \r\nL 331.404261 293.056406 \r\nL 331.404261 23.379844 \r\nL 331.404261 22.318125 \r\nL 344.994261 22.318125 \r\nL 344.994261 23.379844 \r\nL 344.994261 293.056406 \r\nL 344.994261 294.118125 \r\nz\r\n\" style=\"fill:none;stroke:#000000;stroke-linejoin:miter;stroke-width:0.8;\"/>\r\n   </g>\r\n  </g>\r\n </g>\r\n <defs>\r\n  <clipPath id=\"pd7fea51610\">\r\n   <rect height=\"271.8\" width=\"271.8\" x=\"34.240625\" y=\"22.318125\"/>\r\n  </clipPath>\r\n  <clipPath id=\"pac8ec647f8\">\r\n   <rect height=\"271.8\" width=\"507.272727\" x=\"508.949716\" y=\"22.318125\"/>\r\n  </clipPath>\r\n  <clipPath id=\"p58786551fb\">\r\n   <rect height=\"271.8\" width=\"13.59\" x=\"331.404261\" y=\"22.318125\"/>\r\n  </clipPath>\r\n </defs>\r\n</svg>\r\n",
      "image/png": "[encoded data removed]"
     },
     "metadata": {
      "needs_background": "light"
     }
    }
   ],
   "source": [
    "y_pred = fit.predict(X_test)\n",
    "print(classification_report(y_test, y_pred, target_names=[\"non-smoker\", \"smoker\"]))\n",
    "\n",
    "fig = plt.figure(1, figsize=(20, 5))\n",
    "\n",
    "chart_1 = fig.add_subplot(121)\n",
    "chart_2 = fig.add_subplot(122)\n",
    "\n",
    "# Pass Fitted Model, and our test sets, see how they do\n",
    "plot_confusion_matrix(pipe1, X_test, y_test, normalize='true', ax=chart_1)\n",
    "chart_1.set_title('Confusion Matrix')\n",
    "\n",
    "plot_roc_curve(pipe1, X, y, ax=chart_2)\n",
    "chart_2.set_title('ROC Curve')\n",
    "\n",
    "plt.show()"
   ]
  },
  {
   "cell_type": "code",
   "execution_count": 10,
   "metadata": {},
   "outputs": [],
   "source": [
    "from mlxtend.evaluate import paired_ttest_5x2cv"
   ]
  },
  {
   "cell_type": "code",
   "execution_count": 11,
   "metadata": {
    "tags": []
   },
   "outputs": [
    {
     "output_type": "stream",
     "name": "stdout",
     "text": "t statistic: 1.259\np value: 0.264\n"
    }
   ],
   "source": [
    "t, p = paired_ttest_5x2cv(estimator1=logreg,\n",
    "                          estimator2=rf,\n",
    "                          X=X_train, y=y_train,\n",
    "                          random_seed=1)\n",
    "\n",
    "print('t statistic: %.3f' % t)\n",
    "print('p value: %.3f' % p)"
   ]
  }
 ],
 "metadata": {
  "kernelspec": {
   "display_name": "Python 3.7.1 64-bit ('ML7331': conda)",
   "language": "python",
   "name": "python37164bitml7331condacf2794d0fef349cfa281e1878aa68ff6"
  },
  "language_info": {
   "codemirror_mode": {
    "name": "ipython",
    "version": 3
   },
   "file_extension": ".py",
   "mimetype": "text/x-python",
   "name": "python",
   "nbconvert_exporter": "python",
   "pygments_lexer": "ipython3",
   "version": "3.7.1-final"
  }
 },
 "nbformat": 4,
 "nbformat_minor": 2
}