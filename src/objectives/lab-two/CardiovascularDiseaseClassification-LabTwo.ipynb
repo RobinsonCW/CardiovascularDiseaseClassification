{
 "cells": [
  {
   "cell_type": "markdown",
   "metadata": {},
   "source": [
    "# Data Preparation Part 1 (10 points)\n",
    "\n",
    "\n",
    "Define and prepare your class variables. Use proper variable representations (int, float, one-hot, etc.). Use pre-processing methods (as needed) for dimensionality reduction, scaling, etc. Remove variables that are not needed/useful for the analysis."
   ]
  },
  {
   "cell_type": "markdown",
   "metadata": {},
   "source": [
    "## Library Imports"
   ]
  },
  {
   "cell_type": "code",
   "execution_count": 1,
   "metadata": {},
   "outputs": [],
   "source": [
    "# Base Imports\n",
    "import pandas as pd\n",
    "import numpy as np \n",
    "import time\n",
    "from matplotlib import pyplot as plt\n",
    "from matplotlib.ticker import MaxNLocator\n",
    "import seaborn as sns\n",
    "%matplotlib inline\n",
    "\n",
    "# Pre-Processing\n",
    "from sklearn.preprocessing import RobustScaler\n",
    "from sklearn.preprocessing import StandardScaler\n",
    "from sklearn.preprocessing import OneHotEncoder\n",
    "from sklearn.impute import SimpleImputer\n",
    "from sklearn.compose import ColumnTransformer\n",
    "\n",
    "# Metrics and Evaluation\n",
    "from sklearn import metrics\n",
    "from sklearn.metrics import classification_report\n",
    "from sklearn.metrics import plot_confusion_matrix\n",
    "from sklearn.metrics import plot_roc_curve\n",
    "\n",
    "# Train/ Test Split\n",
    "from sklearn.model_selection import train_test_split\n",
    "from sklearn.model_selection import cross_val_score\n",
    "\n",
    "from sklearn.pipeline import Pipeline\n",
    "\n",
    "# IMBLearn\n",
    "from imblearn.over_sampling import SMOTE\n",
    "from imblearn.over_sampling import BorderlineSMOTE\n",
    "\n",
    "# Estimators\n",
    "from sklearn.naive_bayes import MultinomialNB\n",
    "from sklearn.neighbors import KNeighborsClassifier\n",
    "from sklearn.ensemble import RandomForestClassifier\n",
    "from sklearn.ensemble import GradientBoostingClassifier\n",
    "from sklearn.linear_model import LogisticRegression\n",
    "from sklearn.tree import DecisionTreeClassifier\n",
    "# from sklearn.linear_model import SGDClassifier\n",
    "# from sklearn.svm import LinearSVC\n",
    "# from sklearn.svm import SVC\n",
    "\n",
    "# Hyper Parameter Tuning\n",
    "from sklearn.model_selection import GridSearchCV\n",
    "from sklearn.model_selection import RandomizedSearchCV\n",
    "\n"
   ]
  },
  {
   "cell_type": "markdown",
   "metadata": {},
   "source": [
    "## Load Data"
   ]
  },
  {
   "cell_type": "code",
   "execution_count": 2,
   "metadata": {},
   "outputs": [],
   "source": [
    "df = pd.read_csv('../../../data/cardio_train.csv', delimiter=';')\n",
    "# set id as index\n",
    "df.set_index(\"id\", inplace=True)\n",
    "# copy original data\n",
    "df_clean = df.copy(deep=True)\n",
    "# drop duplicates\n",
    "df_clean.drop_duplicates(inplace=True)"
   ]
  },
  {
   "cell_type": "code",
   "execution_count": 3,
   "metadata": {},
   "outputs": [],
   "source": [
    "# %%time\n",
    "\n",
    "# Convert age into years\n",
    "df_clean['age'] = (df_clean['age'] / 365).round().astype('int')\n",
    "\n",
    "# re-encode gender to male (1) and female (0)\n",
    "df_clean['gender'] = np.where((df_clean.gender == 2), 1, 0)\n",
    "\n",
    "# compute the body mass index based on weight and height\n",
    "df_clean['bmi'] = df_clean['weight'] / (df_clean['height']/100)**2\n",
    "\n",
    "# create a BMI group\n",
    "df_clean['bmiGrp'] = np.where((df_clean.bmi < 18.5), 1, 0)\n",
    "df_clean['bmiGrp'] = np.where((df_clean.bmi >= 18.5) & (df_clean.bmi < 25), 2, df_clean.bmiGrp)\n",
    "df_clean['bmiGrp'] = np.where((df_clean.bmi >= 25) & (df_clean.bmi < 30), 3, df_clean.bmiGrp)\n",
    "df_clean['bmiGrp'] = np.where((df_clean.bmi >= 30), 4, df_clean.bmiGrp)\n",
    "\n",
    "# bin blood pressure groups based on the api hi/ lo variables\n",
    "df_clean['bp'] = np.where((df_clean.ap_hi < 120) & (df_clean.ap_lo < 80), 1, 0)\n",
    "df_clean['bp'] = np.where((df_clean.ap_hi >= 120) & (df_clean.ap_hi < 130) & (df_clean.ap_lo < 80), 2, df_clean.bp)\n",
    "df_clean['bp'] = np.where((df_clean.ap_hi >= 130) & (df_clean.ap_hi < 140) | ((df_clean.ap_lo >= 80) & (df_clean.ap_lo < 90)), 3, df_clean.bp)\n",
    "df_clean['bp'] = np.where((df_clean.ap_hi >= 140) | (df_clean.ap_lo >= 90), 4, df_clean.bp)\n",
    "df_clean['bp'] = np.where((df_clean.ap_hi > 180) | (df_clean.ap_lo > 120), 5, df_clean.bp)\n",
    "\n"
   ]
  },
  {
   "cell_type": "markdown",
   "metadata": {},
   "source": [
    "# Data Preparation Part 2 (5 points)\n",
    "\n",
    "\n",
    "Describe the final dataset that is used for classification/regression (include a description of any newly formed variables you created)."
   ]
  },
  {
   "cell_type": "markdown",
   "metadata": {},
   "source": []
  },
  {
   "cell_type": "code",
   "execution_count": 4,
   "metadata": {},
   "outputs": [],
   "source": [
    "# # New Feature Model\n",
    "# X_cols = ['age', 'gender', 'bmiGrp', 'bp', 'cholesterol', 'gluc', 'smoke', 'alco', 'active']\n",
    "\n",
    "# # Store feature matrix \n",
    "# X = df_clean[X_cols] #.to_numpy()\n",
    "# # Store response vector\n",
    "# y = df_clean['cardio'] #.to_numpy()\n",
    "\n",
    "# # Full Model\n",
    "# # X_cols = ['age', 'gender', 'height', 'weight', 'ap_hi', 'ap_lo', 'cholesterol', 'gluc', 'smoke', 'alco', 'active']\n",
    "\n",
    "# *dcrouthamel\n",
    "# Create CVD and SMK sets\n",
    "X_cols_cvd = ['age', 'gender', 'bmiGrp', 'bp', 'cholesterol', 'gluc', 'smoke', 'alco', 'active']\n",
    "X_cols_smk = ['age', 'gender', 'bmiGrp', 'bp', 'cholesterol', 'gluc', 'cardio', 'alco', 'active']\n",
    "\n",
    "X_cvd = df_clean[X_cols_cvd]\n",
    "X_smk = df_clean[X_cols_smk]\n",
    "\n",
    "y_cardio = df_clean['cardio']\n",
    "y_smoke = df_clean['smoke']\n",
    "\n",
    "# ## Remove Smokers, Only Look at Healthy Population\n",
    "# df_no_smoke = df_clean[df_clean.smoke == 1].copy()\n",
    "\n",
    "# X_cols = ['age', 'gender', 'bmiGrp', 'bp', 'cholesterol', 'alco', 'gluc', 'active']\n",
    "# X = df_no_smoke[X_cols]\n",
    "# y = df_no_smoke['cardio']\n"
   ]
  },
  {
   "cell_type": "markdown",
   "metadata": {},
   "source": [
    "# Modeling and Evaluation 1 (10 points)\n",
    "\n",
    "\n",
    "Choose and explain your evaluation metrics that you will use (i.e., accuracy,\n",
    "precision, recall, F-measure, or any metric we have discussed). Why are the measure(s) appropriate for analyzing the results of your modeling? Give a detailed explanation backing up any assertions.\n",
    "\n"
   ]
  },
  {
   "cell_type": "code",
   "execution_count": 5,
   "metadata": {},
   "outputs": [],
   "source": []
  },
  {
   "cell_type": "markdown",
   "metadata": {},
   "source": [
    "# Modeling and Evaluation 2 (10 points)\n",
    "\n",
    "Choose the method you will use for dividing your data into training and testing splits (i.e., are you using Stratified 10-fold cross validation? Why?). Explain why your chosen method is appropriate or use more than one method as appropriate. For example, if you are using time series data then you should be using continuous training and testing sets across time.\n",
    "\n",
    "\n"
   ]
  },
  {
   "cell_type": "code",
   "execution_count": 5,
   "metadata": {
    "tags": []
   },
   "outputs": [
    {
     "output_type": "stream",
     "name": "stdout",
     "text": "10-fold cross validation:\n\nROC AUC: 0.703 (+/- 0.00) [Naive Bayes]\nROC AUC: 0.775 (+/- 0.00) [KNN]\nROC AUC: 0.776 (+/- 0.00) [Random Forest]\nROC AUC: 0.782 (+/- 0.00) [Gradient Boosting]\nROC AUC: 0.768 (+/- 0.00) [Logistic Regression]\nROC AUC: 0.726 (+/- 0.00) [Decision Tree]\n"
    }
   ],
   "source": [
    "# Going to use all of data\n",
    "X = X_cvd\n",
    "y = y_cardio\n",
    "\n",
    "numeric_features = ['age', 'cholesterol', 'bp', 'bmiGrp', 'gluc']\n",
    "categorical_features = ['gender', 'smoke', 'alco', 'active']\n",
    "\n",
    "numeric_transformer = Pipeline(steps=[\n",
    "    ('imputer', SimpleImputer(missing_values=np.nan, strategy=\"median\"))])\n",
    "\n",
    "categorical_transformer = Pipeline(steps=[\n",
    "    ('imputer', SimpleImputer(missing_values=np.nan, strategy=\"median\")),\n",
    "    ('onehot', OneHotEncoder(handle_unknown='ignore'))])\n",
    "\n",
    "preprocessor = ColumnTransformer(\n",
    "    transformers=[\n",
    "        ('num', numeric_transformer, numeric_features),\n",
    "        ('cat', categorical_transformer, categorical_features)])\n",
    "\n",
    "clf1 = MultinomialNB(alpha=1.0)\n",
    "clf2 = KNeighborsClassifier(n_neighbors=38)\n",
    "clf3 = RandomForestClassifier(random_state=1, n_estimators=200, min_samples_split=10, min_samples_leaf=4, max_features='sqrt', bootstrap=True)\n",
    "clf4 = GradientBoostingClassifier(random_state=1, n_estimators=200, min_samples_split=0.4, min_samples_leaf=0.1, max_features=5, max_depth=21.0)\n",
    "clf5 = LogisticRegression(random_state=1, C=.01, class_weight=\"balanced\")\n",
    "clf6 = DecisionTreeClassifier()\n",
    "\n",
    "\n",
    "pipe1 = Pipeline([['preprocessor', preprocessor], \n",
    "                 # ['rs', RobustScaler()],             <<< ValueError: Negative values in data passed to MultinomialNB (input X)\n",
    "                 ['clf', clf1]])\n",
    "\n",
    "pipe2 = Pipeline([['preprocessor', preprocessor], \n",
    "                  ['rs', RobustScaler()],\n",
    "                  ['clf', clf2]])\n",
    "\n",
    "pipe3 = Pipeline([['preprocessor', preprocessor], \n",
    "                  ['rs', RobustScaler()],\n",
    "                  ['clf', clf3]])\n",
    "                  \n",
    "pipe4 = Pipeline([['preprocessor', preprocessor], \n",
    "                  ['rs', RobustScaler()],\n",
    "                  ['clf', clf4]])\n",
    "\n",
    "pipe5 = Pipeline([['preprocessor', preprocessor], \n",
    "                  ['rs', RobustScaler()],\n",
    "                  ['clf', clf5]])\n",
    "\n",
    "pipe6 = Pipeline([['preprocessor', preprocessor], \n",
    "                  ['rs', RobustScaler()],\n",
    "                  ['clf', clf6]])\n",
    "\n",
    "clf_labels = ['Naive Bayes', 'KNN', 'Random Forest', 'Gradient Boosting', 'Logistic Regression', 'Decision Tree']\n",
    "\n",
    "# Note n_jobs below. Setting it to -1 will create cv number of threads\n",
    "print('10-fold cross validation:\\n')\n",
    "for clf, label in zip([pipe1, pipe2, pipe3, pipe4, pipe5, pipe6], clf_labels):\n",
    "    scores = cross_val_score(estimator=clf,\n",
    "                             X=X,\n",
    "                             y=y,\n",
    "                             cv=2,\n",
    "                             scoring='roc_auc',\n",
    "                             n_jobs=-1)\n",
    "    print(\"ROC AUC: %0.3f (+/- %0.2f) [%s]\"\n",
    "          % (scores.mean(), scores.std(), label))"
   ]
  },
  {
   "cell_type": "markdown",
   "metadata": {},
   "source": [
    "### Same as above, but against smoke set and using SMOTE"
   ]
  },
  {
   "cell_type": "code",
   "execution_count": 6,
   "metadata": {
    "tags": []
   },
   "outputs": [
    {
     "output_type": "stream",
     "name": "stdout",
     "text": "10-fold cross validation:\n\nRecall: 0.902 (+/- 0.01) [Naive Bayes]\nRecall: 0.830 (+/- 0.00) [KNN]\nRecall: 0.898 (+/- 0.01) [Random Forest]\nRecall: 0.910 (+/- 0.01) [Gradient Boosting]\nRecall: 0.897 (+/- 0.01) [Logistic Regression]\nRecall: 0.902 (+/- 0.01) [Decision Tree]\n"
    }
   ],
   "source": [
    "# Going to use all of data\n",
    "X = X_smk\n",
    "y = y_smoke\n",
    "\n",
    "#sm = SMOTE(sampling_strategy='not majority')\n",
    "sm = BorderlineSMOTE(sampling_strategy='not majority')\n",
    "X_sm, y_sm = sm.fit_sample(X, y)\n",
    "\n",
    "numeric_features = ['age', 'cholesterol', 'bp', 'bmiGrp', 'gluc']\n",
    "categorical_features = ['gender', 'cardio', 'alco', 'active']\n",
    "\n",
    "numeric_transformer = Pipeline(steps=[\n",
    "    ('imputer', SimpleImputer(missing_values=np.nan, strategy=\"median\"))])\n",
    "\n",
    "categorical_transformer = Pipeline(steps=[\n",
    "    ('imputer', SimpleImputer(missing_values=np.nan, strategy=\"median\")),\n",
    "    ('onehot', OneHotEncoder(handle_unknown='ignore'))])\n",
    "\n",
    "preprocessor = ColumnTransformer(\n",
    "    transformers=[\n",
    "        ('num', numeric_transformer, numeric_features),\n",
    "        ('cat', categorical_transformer, categorical_features)])\n",
    "\n",
    "clf1 = MultinomialNB(alpha=1.0)\n",
    "clf2 = KNeighborsClassifier(n_neighbors=38)\n",
    "clf3 = RandomForestClassifier(random_state=1, n_estimators=200, min_samples_split=10, min_samples_leaf=4, max_features='sqrt', bootstrap=True)\n",
    "clf4 = GradientBoostingClassifier(random_state=1, n_estimators=200, min_samples_split=0.4, min_samples_leaf=0.1, max_features=5, max_depth=21.0)\n",
    "clf5 = LogisticRegression(random_state=1, C=.01, class_weight=\"balanced\")\n",
    "clf6 = DecisionTreeClassifier()\n",
    "\n",
    "\n",
    "pipe1 = Pipeline([['preprocessor', preprocessor], \n",
    "                 # ['rs', RobustScaler()],             <<< ValueError: Negative values in data passed to MultinomialNB (input X)\n",
    "                 ['clf', clf1]])\n",
    "\n",
    "pipe2 = Pipeline([['preprocessor', preprocessor], \n",
    "                  ['rs', RobustScaler()],\n",
    "                  ['clf', clf2]])\n",
    "\n",
    "pipe3 = Pipeline([['preprocessor', preprocessor], \n",
    "                  ['rs', RobustScaler()],\n",
    "                  ['clf', clf3]])\n",
    "                  \n",
    "pipe4 = Pipeline([['preprocessor', preprocessor], \n",
    "                  ['rs', RobustScaler()],\n",
    "                  ['clf', clf4]])\n",
    "\n",
    "pipe5 = Pipeline([['preprocessor', preprocessor], \n",
    "                  ['rs', RobustScaler()],\n",
    "                  ['clf', clf5]])\n",
    "\n",
    "pipe6 = Pipeline([['preprocessor', preprocessor], \n",
    "                  ['rs', RobustScaler()],\n",
    "                  ['clf', clf6]])\n",
    "\n",
    "clf_labels = ['Naive Bayes', 'KNN', 'Random Forest', 'Gradient Boosting', 'Logistic Regression', 'Decision Tree']\n",
    "\n",
    "# Note n_jobs below. Setting it to -1 will create cv number of threads\n",
    "print('10-fold cross validation:\\n')\n",
    "for clf, label in zip([pipe1, pipe2, pipe3, pipe4, pipe5, pipe6], clf_labels):\n",
    "    scores = cross_val_score(estimator=clf,\n",
    "                             X=X_sm,\n",
    "                             y=y_sm,\n",
    "                             cv=2,\n",
    "                             scoring='recall',\n",
    "                             n_jobs=-1)\n",
    "    print(\"Recall: %0.3f (+/- %0.2f) [%s]\"\n",
    "          % (scores.mean(), scores.std(), label))"
   ]
  },
  {
   "cell_type": "markdown",
   "metadata": {},
   "source": [
    "### Check prediction against entire set using SMOTE, and just the Tree classifier (we could have used any, this is just an example)"
   ]
  },
  {
   "cell_type": "code",
   "execution_count": 7,
   "metadata": {
    "tags": []
   },
   "outputs": [
    {
     "output_type": "stream",
     "name": "stdout",
     "text": "accuracy: 0.8646465121381667\nf1: 0.8725305703764381\nrecall: 0.9264970927954613\nprecision: 0.8245048814504882\n"
    }
   ],
   "source": [
    "from sklearn.tree import DecisionTreeClassifier\n",
    "\n",
    "dt_clf = DecisionTreeClassifier()\n",
    "dt_clf.fit(X_sm,y_sm)\n",
    "yhat = dt_clf.predict(X_sm)\n",
    "print ('accuracy:', metrics.accuracy_score(y_sm,yhat))\n",
    "\n",
    "print('f1:', metrics.f1_score(y_sm,yhat))\n",
    "\n",
    "print('recall:', metrics.recall_score(y_sm,yhat))\n",
    "\n",
    "print('precision:', metrics.precision_score(y_sm,yhat))\n"
   ]
  },
  {
   "cell_type": "markdown",
   "metadata": {},
   "source": [
    "### Now do same test, but against the imbalanced set (No SMOTE). The accuracy of this set is higher, but has a much lower recall score compared to SMOTE above."
   ]
  },
  {
   "cell_type": "code",
   "execution_count": 8,
   "metadata": {
    "tags": []
   },
   "outputs": [
    {
     "output_type": "stream",
     "name": "stdout",
     "text": "accuracy: 0.9376500514462102\nf1: 0.4929692039511911\nrecall: 0.34381585346085264\nprecision: 0.8706896551724138\n"
    }
   ],
   "source": [
    "from sklearn.tree import DecisionTreeClassifier\n",
    "\n",
    "dt_clf = DecisionTreeClassifier()\n",
    "dt_clf.fit(X,y)\n",
    "yhat = dt_clf.predict(X)\n",
    "print ('accuracy:', metrics.accuracy_score(y,yhat))\n",
    "\n",
    "print('f1:', metrics.f1_score(y,yhat))\n",
    "\n",
    "print('recall:', metrics.recall_score(y,yhat))\n",
    "\n",
    "print('precision:', metrics.precision_score(y,yhat))"
   ]
  },
  {
   "cell_type": "markdown",
   "metadata": {},
   "source": [
    "# Modeling and Evaluation 3\n",
    "\n",
    "Create three different classification/regression models for each task (e.g., random forest, KNN, and SVM for task one and the same or different algorithms for task two). Two modeling techniques must be new (but the third could be SVM or logistic regression). Adjust parameters as appropriate to increase generalization performance using your chosen metric. You must investigate different parameters of the algorithms!\n"
   ]
  },
  {
   "cell_type": "markdown",
   "metadata": {},
   "source": [
    "\n"
   ]
  },
  {
   "cell_type": "markdown",
   "metadata": {},
   "source": [
    "## Test Accuracy"
   ]
  },
  {
   "cell_type": "code",
   "execution_count": 6,
   "metadata": {
    "tags": []
   },
   "outputs": [
    {
     "output_type": "stream",
     "name": "stdout",
     "text": "Test Accuracy:  0.650 [Naive Bayes]\nTest Accuracy:  0.719 [KNN]\nTest Accuracy:  0.721 [Random Forest]\nTest Accuracy:  0.725 [Gradient Boosting]\nTest Accuracy:  0.708 [Logistic Regression]\n"
    }
   ],
   "source": [
    "for clf, label in zip([pipe1, pipe2, pipe3, pipe4, pipe5], clf_labels):\n",
    "    fit = clf.fit(X_train, y_train)\n",
    "    # print(\"Test Accuracy: \", clf.score(X_test, y_test), \" [%s]\" % (label))\n",
    "    print(\"Test Accuracy: \", \"%0.3f [%s]\" % (clf.score(X_test, y_test), label))"
   ]
  },
  {
   "cell_type": "markdown",
   "metadata": {},
   "source": [
    "## Grid Search"
   ]
  },
  {
   "cell_type": "code",
   "execution_count": 7,
   "metadata": {
    "tags": []
   },
   "outputs": [],
   "source": [
    "X_train, X_test, y_train, y_test =\\\n",
    "    train_test_split(X, y,\n",
    "    test_size=0.2,\n",
    "    random_state=1,\n",
    "    stratify=y)\n",
    "\n",
    "numeric_features = ['age', 'cholesterol', 'bp', 'bmiGrp', 'gluc']\n",
    "categorical_features = ['gender', 'smoke', 'alco', 'active']\n",
    "\n",
    "numeric_transformer = Pipeline(steps=[\n",
    "    ('imputer', SimpleImputer(missing_values=np.nan, strategy=\"median\"))])\n",
    "\n",
    "categorical_transformer = Pipeline(steps=[\n",
    "    ('imputer', SimpleImputer(missing_values=np.nan, strategy=\"median\")),\n",
    "    ('onehot', OneHotEncoder(handle_unknown='ignore'))])\n",
    "\n",
    "preprocessor = ColumnTransformer(\n",
    "    transformers=[\n",
    "        ('num', numeric_transformer, numeric_features),\n",
    "        ('cat', categorical_transformer, categorical_features)])\n",
    "\n",
    "clf1 = MultinomialNB()\n",
    "clf2 = KNeighborsClassifier()\n",
    "clf3 = RandomForestClassifier(random_state=1)\n",
    "clf4 = GradientBoostingClassifier(random_state=1)\n",
    "clf5 = LogisticRegression(random_state=1)\n",
    "\n",
    "\n",
    "pipe1 = Pipeline([['preprocessor', preprocessor], \n",
    "                 # ['rs', RobustScaler()],             <<< ValueError: Negative values in data passed to MultinomialNB (input X)\n",
    "                 ['clf', clf1]])\n",
    "\n",
    "\n",
    "pipe2 = Pipeline([['preprocessor', preprocessor], \n",
    "                  ['rs', RobustScaler()],\n",
    "                  ['clf', clf2]])\n",
    "\n",
    "                  \n",
    "pipe3 = Pipeline([['preprocessor', preprocessor], \n",
    "                  ['rs', RobustScaler()],\n",
    "                  ['clf', clf3]])\n",
    "\n",
    "\n",
    "pipe4 = Pipeline([['preprocessor', preprocessor], \n",
    "                  ['rs', RobustScaler()],\n",
    "                  ['clf', clf4]])\n",
    "\n",
    "\n",
    "pipe5 = Pipeline([['preprocessor', preprocessor], \n",
    "                  ['rs', RobustScaler()],\n",
    "                  ['clf', clf5]])\n",
    "\n",
    "model_params = {\n",
    "    # \"multinomialnb\": {\n",
    "    #     \"model\": pipe1,\n",
    "    #     \"params\": {\n",
    "    #         \"clf__alpha\": [0.0001, 0.001, 0.01, 0.1, 1.0]\n",
    "    #     }\n",
    "    # },\n",
    "    # \"kneighborsClassifier\": {\n",
    "    #     \"model\": pipe2,\n",
    "    #     \"params\": {\n",
    "    #         \"clf__n_neighbors\": np.arange(5,51),\n",
    "    #         \"clf__weights\": [\"uniform\", \"distance\"]\n",
    "    #     }\n",
    "    # },\n",
    "    # \"randomforestclassifier\": {\n",
    "    #     \"model\": pipe3,\n",
    "    #     \"params\": {\n",
    "    #         \"clf__n_estimators\": [200, 400, 600, 800, 1000, 1200, 1400, 1600, 1800, 2000],\n",
    "    #         # \"clf__criterion\": ['gini','entropy'],\n",
    "    #         \"clf__max_features\": ['auto', 'sqrt'],\n",
    "    #         \"clf__min_samples_split\": [2, 5, 10],\n",
    "    #         \"clf__min_samples_leaf\": [1, 2, 4],\n",
    "    #         \"clf__bootstrap\": [True, False]\n",
    "    #     }\n",
    "    # },\n",
    "    # \"gradientboostingclassifier\": {\n",
    "    #     \"model\": pipe4,\n",
    "    #     \"params\": {\n",
    "    #         # \"clf__loss\": ['deviance', 'exponential'],\n",
    "    #         \"clf__n_estimators\": [1, 2, 4, 8, 16, 32, 64, 100, 200],\n",
    "    #         \"clf__max_depth\": np.linspace(1, 32, 32, endpoint=True),\n",
    "    #         \"clf__min_samples_split\": np.linspace(0.1, 1.0, 10, endpoint=True),\n",
    "    #         \"clf__min_samples_leaf\": np.linspace(0.1, 0.5, 5, endpoint=True),\n",
    "    #         \"clf__max_features\": list(range(1,X_train.shape[1]))\n",
    "    #     }\n",
    "    # }\n",
    "}\n",
    "\n",
    "\n",
    "# 10 Fold Cross Validation Scores:\n",
    "\n",
    "# Model :  multinomialnb\n",
    "# Best ROC AUC :  0.7039886570248002\n",
    "# Best Params :  {'clf__alpha': 1.0}\n",
    "# Mean Fit Time:  0.09001021385192871\n",
    "# Mean Score Time:  0.010836691856384278\n",
    "# Cross Validation Time :  1.5674855709075928\n",
    "# Prediction Accuracy :  0.6502572163475279\n",
    "\n",
    "# Model :  kneighborsClassifier\n",
    "# Best ROC AUC :  0.7759942366177848\n",
    "# Best Params :  {'clf__weights': 'uniform', 'clf__n_neighbors': 38}\n",
    "# Mean Fit Time:  1.5368758678436278\n",
    "# Mean Score Time:  1.2352046370506289\n",
    "# Cross Validation Time :  71.85842871665955\n",
    "# Prediction Accuracy :  0.7188482423549586\n",
    "\n",
    "# Model :  randomforestclassifier\n",
    "# Best ROC AUC :  0.7782195829547498\n",
    "# Best Params :  {'clf__n_estimators': 200, 'clf__min_samples_split': 10, 'clf__min_samples_leaf': 4, 'clf__max_features': 'sqrt', 'clf__bootstrap': True}\n",
    "# Mean Fit Time:  26.95976847410202\n",
    "# Mean Score Time:  1.0157970905303955\n",
    "# Cross Validation Time :  728.354642868042\n",
    "# Prediction Accuracy :  0.7213489568448128\n",
    "\n",
    "# Model :  gradientboostingclassifier\n",
    "# Best ROC AUC :  0.7831910812015063\n",
    "# Best Params :  {'clf__n_estimators': 200, 'clf__min_samples_split': 0.4, 'clf__min_samples_leaf': 0.1, 'clf__max_features': 5, 'clf__max_depth': 21.0}\n",
    "# Mean Fit Time:  1.3435683274269101\n",
    "# Mean Score Time:  0.014065687656402589\n",
    "# Cross Validation Time :  37.449716329574585\n",
    "# Prediction Accuracy :  0.7247785081451843\n",
    "\n",
    "\n",
    "scores = []\n",
    "\n",
    "for model_name, mp in model_params.items():\n",
    "    start = time.time()\n",
    "    # clf = GridSearchCV(estimator = mp[\"model\"], param_grid=mp[\"params\"], cv=3, scoring=\"roc_auc\", n_jobs=-1)\n",
    "    clf = RandomizedSearchCV(estimator = mp[\"model\"], param_distributions=mp[\"params\"], cv=10, scoring=\"roc_auc\", n_jobs=-1)\n",
    "    clf.fit(X_train, y_train)\n",
    "    elapsed_time = (time.time() - start)\n",
    "\n",
    "    scores.append({\"Model\": model_name,\n",
    "    \"Best ROC AUC\": clf.best_score_, # Mean cross-validated score of the best_estimator\n",
    "    \"Best Params\": clf.best_params_,\n",
    "    \"results\": clf.cv_results_,\n",
    "    \"Cross Validation Time\": elapsed_time,\n",
    "    \"Best Estimator\": clf.best_estimator_\n",
    "    })"
   ]
  },
  {
   "cell_type": "code",
   "execution_count": 8,
   "metadata": {
    "tags": []
   },
   "outputs": [
    {
     "output_type": "stream",
     "name": "stdout",
     "text": "10 Fold Cross Validation Scores:\n"
    }
   ],
   "source": [
    "# Although not pretty, it's quick and easy to read\n",
    "print('10 Fold Cross Validation Scores:')\n",
    "\n",
    "for model in scores:\n",
    "    print()\n",
    "    for key, value in model.items():\n",
    "        if key == 'Best Estimator':\n",
    "            print(\"Prediction Accuracy\",': ',value.score(X_test, y_test))\n",
    "        elif key == 'results':\n",
    "            print('Mean Fit Time: ', value['mean_fit_time'].mean())\n",
    "            print('Mean Score Time: ', value['mean_score_time'].mean())\n",
    "        else:\n",
    "            print(key,': ',value)"
   ]
  },
  {
   "cell_type": "markdown",
   "metadata": {},
   "source": []
  },
  {
   "cell_type": "markdown",
   "metadata": {},
   "source": [
    "# Modeling and Evaluation 4 (10 Points)\n",
    "\n",
    "\n",
    "Analyze the results using your chosen method of evaluation. Use visualizations of the results to bolster the analysis. Explain any visuals and analyze why they are interesting to someone that might use this model.\n",
    "\n"
   ]
  },
  {
   "cell_type": "markdown",
   "metadata": {},
   "source": [
    "# Modeling and Evaluation 5 (10 Points)\n",
    "\n",
    "\n",
    "Discuss the advantages of each model for each classification task, if any. If there are not advantages, explain why. Is any model better than another? Is the difference significant with 95% confidence? Use proper statistical comparison methods. You must use statistical comparison techniques—be sure they are appropriate for your chosen method of validation as discussed in unit 7 of the course.\n",
    "\n",
    "\n"
   ]
  },
  {
   "cell_type": "markdown",
   "metadata": {},
   "source": [
    "# Modeling and Evaluation 6 (10 Points)\n",
    "\n",
    "\n",
    "Which attributes from your analysis are most important? Use proper methods discussed in class to evaluate the importance of different attributes. Discuss the results and hypothesize about why certain attributes are more important than others for a given classification task.\n"
   ]
  },
  {
   "cell_type": "markdown",
   "metadata": {},
   "source": [
    "# Deployment (5 Points)\n",
    "\n",
    "\n",
    "How useful is your model for interested parties (i.e., the companies or organizations that might want to use it for prediction)? How would you measure the model's value if it was used by these parties? How would your deploy your model for interested parties? What other data should be collected? How often would the model need to be updated, etc.? \n"
   ]
  },
  {
   "cell_type": "markdown",
   "metadata": {},
   "source": [
    "# Exceptional Work (10 points)\n",
    "\n",
    "\n",
    "You have free reign to provide additional analyses. One idea: grid search parameters in a parallelized fashion and visualize the performances across attributes. Which parameters are most significant for making a good model for each classification algorithm?\n"
   ]
  },
  {
   "cell_type": "code",
   "execution_count": 9,
   "metadata": {},
   "outputs": [],
   "source": [
    "X_train, X_test, y_train, y_test =\\\n",
    "    train_test_split(X, y,\n",
    "    test_size=0.2,\n",
    "    random_state=1,\n",
    "    stratify=y)\n",
    "\n",
    "numeric_features = ['age', 'cholesterol', 'bp', 'bmiGrp', 'gluc']\n",
    "categorical_features = ['gender', 'smoke', 'alco', 'active']\n",
    "\n",
    "numeric_transformer = Pipeline(steps=[\n",
    "    ('imputer', SimpleImputer(missing_values=np.nan, strategy=\"median\"))])\n",
    "\n",
    "categorical_transformer = Pipeline(steps=[\n",
    "    ('imputer', SimpleImputer(missing_values=np.nan, strategy=\"median\")),\n",
    "    ('onehot', OneHotEncoder(handle_unknown='ignore'))])\n",
    "\n",
    "preprocessor = ColumnTransformer(\n",
    "    transformers=[\n",
    "        ('num', numeric_transformer, numeric_features),\n",
    "        ('cat', categorical_transformer, categorical_features)])\n",
    "\n",
    "\n",
    "# nb = MultinomialNB(alpha=1.0)\n",
    "# knn = KNeighborsClassifier(n_neighbors=38)\n",
    "# rf = RandomForestClassifier(random_state=1, n_estimators=200, min_samples_split=10, min_samples_leaf=4, max_features='sqrt', bootstrap=True)\n",
    "# gb = GradientBoostingClassifier(random_state=1, n_estimators=200, min_samples_split=0.4, min_samples_leaf=0.1, max_features=5, max_depth=21.0)\n",
    "logreg = LogisticRegression(random_state=1, C=.01)\n",
    "\n",
    "\n",
    "\n",
    "pipe1 = Pipeline([['preprocessor', preprocessor], \n",
    "                 ['rs', RobustScaler()],\n",
    "                 ['gradientboosting', logreg]])\n",
    "\n",
    "fit = pipe1.fit(X_train, y_train)"
   ]
  },
  {
   "cell_type": "code",
   "execution_count": 10,
   "metadata": {
    "tags": []
   },
   "outputs": [
    {
     "output_type": "stream",
     "name": "stdout",
     "text": "precision    recall  f1-score   support\n\n           0       0.71      0.70      0.70      7001\n           1       0.70      0.72      0.71      6995\n\n    accuracy                           0.71     13996\n   macro avg       0.71      0.71      0.71     13996\nweighted avg       0.71      0.71      0.71     13996\n\n"
    },
    {
     "output_type": "display_data",
     "data": {
      "text/plain": "<Figure size 1440x360 with 3 Axes>",
      "image/svg+xml": "<?xml version=\"1.0\" encoding=\"utf-8\" standalone=\"no\"?>\r\n<!DOCTYPE svg PUBLIC \"-//W3C//DTD SVG 1.1//EN\"\r\n  \"http://www.w3.org/Graphics/SVG/1.1/DTD/svg11.dtd\">\r\n<!-- Created with matplotlib (https://matplotlib.org/) -->\r\n<svg height=\"331.674375pt\" version=\"1.1\" viewBox=\"0 0 1023.422443 331.674375\" width=\"1023.422443pt\" xmlns=\"http://www.w3.org/2000/svg\" xmlns:xlink=\"http://www.w3.org/1999/xlink\">\r\n <defs>\r\n  <style type=\"text/css\">\r\n*{stroke-linecap:butt;stroke-linejoin:round;}\r\n  </style>\r\n </defs>\r\n <g id=\"figure_1\">\r\n  <g id=\"patch_1\">\r\n   <path d=\"M 0 331.674375 \r\nL 1023.422443 331.674375 \r\nL 1023.422443 0 \r\nL 0 0 \r\nz\r\n\" style=\"fill:none;\"/>\r\n  </g>\r\n  <g id=\"axes_1\">\r\n   <g id=\"patch_2\">\r\n    <path d=\"M 34.240625 294.118125 \r\nL 306.040625 294.118125 \r\nL 306.040625 22.318125 \r\nL 34.240625 22.318125 \r\nz\r\n\" style=\"fill:#ffffff;\"/>\r\n   </g>\r\n   <g clip-path=\"url(#p01552932c8)\">\r\n    <image height=\"272\" id=\"image39002dea9f\" transform=\"scale(1 -1)translate(0 -272)\" width=\"272\" x=\"34.240625\" xlink:href=\"data:image/png;base64,\r\niVBORw0KGgoAAAANSUhEUgAAARAAAAEQCAYAAAB4CisVAAAABHNCSVQICAgIfAhkiAAAA3NJREFUeJzt1jERAkEABEEOFfjAAjkJNhD4LogJCbDxKPhkkjuquhVsNLXjNh77CQ5s39fsCSzsPHsA8L8EBMgEBMgEBMgEBMgEBMgEBMgEBMgEBMgEBMgEBMgEBMgEBMgEBMgEBMgEBMgEBMgEBMgEBMgEBMgEBMgEBMgEBMgEBMgEBMgEBMgEBMgEBMgEBMgEBMgEBMgEBMgEBMgEBMgEBMgEBMgEBMgEBMgEBMgEBMgEBMgEBMgEBMgEBMgEBMgEBMgEBMgEBMgEBMgEBMgEBMgEBMgEBMgEBMgEBMgEBMgEBMgEBMgEBMgEBMgEBMgEBMgEBMgEBMgEBMgEBMgEBMgEBMgEBMgEBMgEBMgEBMgEBMgEBMgEBMgEBMgEBMgEBMgEBMgEBMgEBMgEBMgEBMgEBMgEBMgEBMgEBMgEBMgEBMgEBMgEBMgEBMgEBMgEBMgEBMgEBMgEBMgEBMgEBMgEBMgEBMgEBMgEBMgEBMgEBMgEBMgEBMgEBMgEBMgEBMgEBMgEBMgEBMgEBMgEBMgEBMgEBMgEBMgEBMgEBMgEBMgEBMgEBMgEBMgEBMgEBMgEBMgEBMgEBMgEBMgEBMgEBMgEBMgEBMgEBMjG+3PZZ49gXc/rffYEFuaBAJmAAJmAAJmAAJmAAJmAAJmAAJmAAJmAAJmAAJmAAJmAAJmAAJmAAJmAAJmAAJmAAJmAAJmAAJmAAJmAAJmAAJmAAJmAAJmAAJmAAJmAAJmAAJmAAJmAAJmAAJmAAJmAAJmAAJmAAJmAAJmAAJmAAJmAAJmAAJmAAJmAAJmAAJmAAJmAAJmAAJmAAJmAAJmAAJmAAJmAAJmAAJmAAJmAAJmAAJmAAJmAAJmAAJmAAJmAAJmAAJmAAJmAAJmAAJmAAJmAAJmAAJmAAJmAAJmAAJmAAJmAAJmAAJmAAJmAAJmAAJmAAJmAAJmAAJmAAJmAAJmAAJmAAJmAAJmAAJmAAJmAAJmAAJmAAJmAAJmAAJmAAJmAAJmAAJmAAJmAAJmAAJmAAJmAAJmAAJmAAJmAAJmAAJmAAJmAAJmAAJmAAJmAAJmAAJmAAJmAAJmAAJmAAJmAAJmAAJmAAJmAAJmAAJmAAJmAAJmAAJmAAJmAAJmAAJmAAJmAAJmAAJmAAJmAAJmAAJmAAJmAAJmAAJmAAJmAANkPJ7cJ6LKYNbMAAAAASUVORK5CYII=\" y=\"-22.118125\"/>\r\n   </g>\r\n   <g id=\"matplotlib.axis_1\">\r\n    <g id=\"xtick_1\">\r\n     <g id=\"line2d_1\">\r\n      <defs>\r\n       <path d=\"M 0 0 \r\nL 0 3.5 \r\n\" id=\"mf0c2b76377\" style=\"stroke:#000000;stroke-width:0.8;\"/>\r\n      </defs>\r\n      <g>\r\n       <use style=\"stroke:#000000;stroke-width:0.8;\" x=\"102.190625\" xlink:href=\"#mf0c2b76377\" y=\"294.118125\"/>\r\n      </g>\r\n     </g>\r\n     <g id=\"text_1\">\r\n      <!-- 0 -->\r\n      <defs>\r\n       <path d=\"M 31.78125 66.40625 \r\nQ 24.171875 66.40625 20.328125 58.90625 \r\nQ 16.5 51.421875 16.5 36.375 \r\nQ 16.5 21.390625 20.328125 13.890625 \r\nQ 24.171875 6.390625 31.78125 6.390625 \r\nQ 39.453125 6.390625 43.28125 13.890625 \r\nQ 47.125 21.390625 47.125 36.375 \r\nQ 47.125 51.421875 43.28125 58.90625 \r\nQ 39.453125 66.40625 31.78125 66.40625 \r\nz\r\nM 31.78125 74.21875 \r\nQ 44.046875 74.21875 50.515625 64.515625 \r\nQ 56.984375 54.828125 56.984375 36.375 \r\nQ 56.984375 17.96875 50.515625 8.265625 \r\nQ 44.046875 -1.421875 31.78125 -1.421875 \r\nQ 19.53125 -1.421875 13.0625 8.265625 \r\nQ 6.59375 17.96875 6.59375 36.375 \r\nQ 6.59375 54.828125 13.0625 64.515625 \r\nQ 19.53125 74.21875 31.78125 74.21875 \r\nz\r\n\" id=\"DejaVuSans-48\"/>\r\n      </defs>\r\n      <g transform=\"translate(99.009375 308.716563)scale(0.1 -0.1)\">\r\n       <use xlink:href=\"#DejaVuSans-48\"/>\r\n      </g>\r\n     </g>\r\n    </g>\r\n    <g id=\"xtick_2\">\r\n     <g id=\"line2d_2\">\r\n      <g>\r\n       <use style=\"stroke:#000000;stroke-width:0.8;\" x=\"238.090625\" xlink:href=\"#mf0c2b76377\" y=\"294.118125\"/>\r\n      </g>\r\n     </g>\r\n     <g id=\"text_2\">\r\n      <!-- 1 -->\r\n      <defs>\r\n       <path d=\"M 12.40625 8.296875 \r\nL 28.515625 8.296875 \r\nL 28.515625 63.921875 \r\nL 10.984375 60.40625 \r\nL 10.984375 69.390625 \r\nL 28.421875 72.90625 \r\nL 38.28125 72.90625 \r\nL 38.28125 8.296875 \r\nL 54.390625 8.296875 \r\nL 54.390625 0 \r\nL 12.40625 0 \r\nz\r\n\" id=\"DejaVuSans-49\"/>\r\n      </defs>\r\n      <g transform=\"translate(234.909375 308.716563)scale(0.1 -0.1)\">\r\n       <use xlink:href=\"#DejaVuSans-49\"/>\r\n      </g>\r\n     </g>\r\n    </g>\r\n    <g id=\"text_3\">\r\n     <!-- Predicted label -->\r\n     <defs>\r\n      <path d=\"M 19.671875 64.796875 \r\nL 19.671875 37.40625 \r\nL 32.078125 37.40625 \r\nQ 38.96875 37.40625 42.71875 40.96875 \r\nQ 46.484375 44.53125 46.484375 51.125 \r\nQ 46.484375 57.671875 42.71875 61.234375 \r\nQ 38.96875 64.796875 32.078125 64.796875 \r\nz\r\nM 9.8125 72.90625 \r\nL 32.078125 72.90625 \r\nQ 44.34375 72.90625 50.609375 67.359375 \r\nQ 56.890625 61.8125 56.890625 51.125 \r\nQ 56.890625 40.328125 50.609375 34.8125 \r\nQ 44.34375 29.296875 32.078125 29.296875 \r\nL 19.671875 29.296875 \r\nL 19.671875 0 \r\nL 9.8125 0 \r\nz\r\n\" id=\"DejaVuSans-80\"/>\r\n      <path d=\"M 41.109375 46.296875 \r\nQ 39.59375 47.171875 37.8125 47.578125 \r\nQ 36.03125 48 33.890625 48 \r\nQ 26.265625 48 22.1875 43.046875 \r\nQ 18.109375 38.09375 18.109375 28.8125 \r\nL 18.109375 0 \r\nL 9.078125 0 \r\nL 9.078125 54.6875 \r\nL 18.109375 54.6875 \r\nL 18.109375 46.1875 \r\nQ 20.953125 51.171875 25.484375 53.578125 \r\nQ 30.03125 56 36.53125 56 \r\nQ 37.453125 56 38.578125 55.875 \r\nQ 39.703125 55.765625 41.0625 55.515625 \r\nz\r\n\" id=\"DejaVuSans-114\"/>\r\n      <path d=\"M 56.203125 29.59375 \r\nL 56.203125 25.203125 \r\nL 14.890625 25.203125 \r\nQ 15.484375 15.921875 20.484375 11.0625 \r\nQ 25.484375 6.203125 34.421875 6.203125 \r\nQ 39.59375 6.203125 44.453125 7.46875 \r\nQ 49.3125 8.734375 54.109375 11.28125 \r\nL 54.109375 2.78125 \r\nQ 49.265625 0.734375 44.1875 -0.34375 \r\nQ 39.109375 -1.421875 33.890625 -1.421875 \r\nQ 20.796875 -1.421875 13.15625 6.1875 \r\nQ 5.515625 13.8125 5.515625 26.8125 \r\nQ 5.515625 40.234375 12.765625 48.109375 \r\nQ 20.015625 56 32.328125 56 \r\nQ 43.359375 56 49.78125 48.890625 \r\nQ 56.203125 41.796875 56.203125 29.59375 \r\nz\r\nM 47.21875 32.234375 \r\nQ 47.125 39.59375 43.09375 43.984375 \r\nQ 39.0625 48.390625 32.421875 48.390625 \r\nQ 24.90625 48.390625 20.390625 44.140625 \r\nQ 15.875 39.890625 15.1875 32.171875 \r\nz\r\n\" id=\"DejaVuSans-101\"/>\r\n      <path d=\"M 45.40625 46.390625 \r\nL 45.40625 75.984375 \r\nL 54.390625 75.984375 \r\nL 54.390625 0 \r\nL 45.40625 0 \r\nL 45.40625 8.203125 \r\nQ 42.578125 3.328125 38.25 0.953125 \r\nQ 33.9375 -1.421875 27.875 -1.421875 \r\nQ 17.96875 -1.421875 11.734375 6.484375 \r\nQ 5.515625 14.40625 5.515625 27.296875 \r\nQ 5.515625 40.1875 11.734375 48.09375 \r\nQ 17.96875 56 27.875 56 \r\nQ 33.9375 56 38.25 53.625 \r\nQ 42.578125 51.265625 45.40625 46.390625 \r\nz\r\nM 14.796875 27.296875 \r\nQ 14.796875 17.390625 18.875 11.75 \r\nQ 22.953125 6.109375 30.078125 6.109375 \r\nQ 37.203125 6.109375 41.296875 11.75 \r\nQ 45.40625 17.390625 45.40625 27.296875 \r\nQ 45.40625 37.203125 41.296875 42.84375 \r\nQ 37.203125 48.484375 30.078125 48.484375 \r\nQ 22.953125 48.484375 18.875 42.84375 \r\nQ 14.796875 37.203125 14.796875 27.296875 \r\nz\r\n\" id=\"DejaVuSans-100\"/>\r\n      <path d=\"M 9.421875 54.6875 \r\nL 18.40625 54.6875 \r\nL 18.40625 0 \r\nL 9.421875 0 \r\nz\r\nM 9.421875 75.984375 \r\nL 18.40625 75.984375 \r\nL 18.40625 64.59375 \r\nL 9.421875 64.59375 \r\nz\r\n\" id=\"DejaVuSans-105\"/>\r\n      <path d=\"M 48.78125 52.59375 \r\nL 48.78125 44.1875 \r\nQ 44.96875 46.296875 41.140625 47.34375 \r\nQ 37.3125 48.390625 33.40625 48.390625 \r\nQ 24.65625 48.390625 19.8125 42.84375 \r\nQ 14.984375 37.3125 14.984375 27.296875 \r\nQ 14.984375 17.28125 19.8125 11.734375 \r\nQ 24.65625 6.203125 33.40625 6.203125 \r\nQ 37.3125 6.203125 41.140625 7.25 \r\nQ 44.96875 8.296875 48.78125 10.40625 \r\nL 48.78125 2.09375 \r\nQ 45.015625 0.34375 40.984375 -0.53125 \r\nQ 36.96875 -1.421875 32.421875 -1.421875 \r\nQ 20.0625 -1.421875 12.78125 6.34375 \r\nQ 5.515625 14.109375 5.515625 27.296875 \r\nQ 5.515625 40.671875 12.859375 48.328125 \r\nQ 20.21875 56 33.015625 56 \r\nQ 37.15625 56 41.109375 55.140625 \r\nQ 45.0625 54.296875 48.78125 52.59375 \r\nz\r\n\" id=\"DejaVuSans-99\"/>\r\n      <path d=\"M 18.3125 70.21875 \r\nL 18.3125 54.6875 \r\nL 36.8125 54.6875 \r\nL 36.8125 47.703125 \r\nL 18.3125 47.703125 \r\nL 18.3125 18.015625 \r\nQ 18.3125 11.328125 20.140625 9.421875 \r\nQ 21.96875 7.515625 27.59375 7.515625 \r\nL 36.8125 7.515625 \r\nL 36.8125 0 \r\nL 27.59375 0 \r\nQ 17.1875 0 13.234375 3.875 \r\nQ 9.28125 7.765625 9.28125 18.015625 \r\nL 9.28125 47.703125 \r\nL 2.6875 47.703125 \r\nL 2.6875 54.6875 \r\nL 9.28125 54.6875 \r\nL 9.28125 70.21875 \r\nz\r\n\" id=\"DejaVuSans-116\"/>\r\n      <path id=\"DejaVuSans-32\"/>\r\n      <path d=\"M 9.421875 75.984375 \r\nL 18.40625 75.984375 \r\nL 18.40625 0 \r\nL 9.421875 0 \r\nz\r\n\" id=\"DejaVuSans-108\"/>\r\n      <path d=\"M 34.28125 27.484375 \r\nQ 23.390625 27.484375 19.1875 25 \r\nQ 14.984375 22.515625 14.984375 16.5 \r\nQ 14.984375 11.71875 18.140625 8.90625 \r\nQ 21.296875 6.109375 26.703125 6.109375 \r\nQ 34.1875 6.109375 38.703125 11.40625 \r\nQ 43.21875 16.703125 43.21875 25.484375 \r\nL 43.21875 27.484375 \r\nz\r\nM 52.203125 31.203125 \r\nL 52.203125 0 \r\nL 43.21875 0 \r\nL 43.21875 8.296875 \r\nQ 40.140625 3.328125 35.546875 0.953125 \r\nQ 30.953125 -1.421875 24.3125 -1.421875 \r\nQ 15.921875 -1.421875 10.953125 3.296875 \r\nQ 6 8.015625 6 15.921875 \r\nQ 6 25.140625 12.171875 29.828125 \r\nQ 18.359375 34.515625 30.609375 34.515625 \r\nL 43.21875 34.515625 \r\nL 43.21875 35.40625 \r\nQ 43.21875 41.609375 39.140625 45 \r\nQ 35.0625 48.390625 27.6875 48.390625 \r\nQ 23 48.390625 18.546875 47.265625 \r\nQ 14.109375 46.140625 10.015625 43.890625 \r\nL 10.015625 52.203125 \r\nQ 14.9375 54.109375 19.578125 55.046875 \r\nQ 24.21875 56 28.609375 56 \r\nQ 40.484375 56 46.34375 49.84375 \r\nQ 52.203125 43.703125 52.203125 31.203125 \r\nz\r\n\" id=\"DejaVuSans-97\"/>\r\n      <path d=\"M 48.6875 27.296875 \r\nQ 48.6875 37.203125 44.609375 42.84375 \r\nQ 40.53125 48.484375 33.40625 48.484375 \r\nQ 26.265625 48.484375 22.1875 42.84375 \r\nQ 18.109375 37.203125 18.109375 27.296875 \r\nQ 18.109375 17.390625 22.1875 11.75 \r\nQ 26.265625 6.109375 33.40625 6.109375 \r\nQ 40.53125 6.109375 44.609375 11.75 \r\nQ 48.6875 17.390625 48.6875 27.296875 \r\nz\r\nM 18.109375 46.390625 \r\nQ 20.953125 51.265625 25.265625 53.625 \r\nQ 29.59375 56 35.59375 56 \r\nQ 45.5625 56 51.78125 48.09375 \r\nQ 58.015625 40.1875 58.015625 27.296875 \r\nQ 58.015625 14.40625 51.78125 6.484375 \r\nQ 45.5625 -1.421875 35.59375 -1.421875 \r\nQ 29.59375 -1.421875 25.265625 0.953125 \r\nQ 20.953125 3.328125 18.109375 8.203125 \r\nL 18.109375 0 \r\nL 9.078125 0 \r\nL 9.078125 75.984375 \r\nL 18.109375 75.984375 \r\nz\r\n\" id=\"DejaVuSans-98\"/>\r\n     </defs>\r\n     <g transform=\"translate(132.988281 322.394687)scale(0.1 -0.1)\">\r\n      <use xlink:href=\"#DejaVuSans-80\"/>\r\n      <use x=\"58.552734\" xlink:href=\"#DejaVuSans-114\"/>\r\n      <use x=\"97.416016\" xlink:href=\"#DejaVuSans-101\"/>\r\n      <use x=\"158.939453\" xlink:href=\"#DejaVuSans-100\"/>\r\n      <use x=\"222.416016\" xlink:href=\"#DejaVuSans-105\"/>\r\n      <use x=\"250.199219\" xlink:href=\"#DejaVuSans-99\"/>\r\n      <use x=\"305.179688\" xlink:href=\"#DejaVuSans-116\"/>\r\n      <use x=\"344.388672\" xlink:href=\"#DejaVuSans-101\"/>\r\n      <use x=\"405.912109\" xlink:href=\"#DejaVuSans-100\"/>\r\n      <use x=\"469.388672\" xlink:href=\"#DejaVuSans-32\"/>\r\n      <use x=\"501.175781\" xlink:href=\"#DejaVuSans-108\"/>\r\n      <use x=\"528.958984\" xlink:href=\"#DejaVuSans-97\"/>\r\n      <use x=\"590.238281\" xlink:href=\"#DejaVuSans-98\"/>\r\n      <use x=\"653.714844\" xlink:href=\"#DejaVuSans-101\"/>\r\n      <use x=\"715.238281\" xlink:href=\"#DejaVuSans-108\"/>\r\n     </g>\r\n    </g>\r\n   </g>\r\n   <g id=\"matplotlib.axis_2\">\r\n    <g id=\"ytick_1\">\r\n     <g id=\"line2d_3\">\r\n      <defs>\r\n       <path d=\"M 0 0 \r\nL -3.5 0 \r\n\" id=\"mbe4c50847c\" style=\"stroke:#000000;stroke-width:0.8;\"/>\r\n      </defs>\r\n      <g>\r\n       <use style=\"stroke:#000000;stroke-width:0.8;\" x=\"34.240625\" xlink:href=\"#mbe4c50847c\" y=\"90.268125\"/>\r\n      </g>\r\n     </g>\r\n     <g id=\"text_4\">\r\n      <!-- 0 -->\r\n      <g transform=\"translate(20.878125 94.067344)scale(0.1 -0.1)\">\r\n       <use xlink:href=\"#DejaVuSans-48\"/>\r\n      </g>\r\n     </g>\r\n    </g>\r\n    <g id=\"ytick_2\">\r\n     <g id=\"line2d_4\">\r\n      <g>\r\n       <use style=\"stroke:#000000;stroke-width:0.8;\" x=\"34.240625\" xlink:href=\"#mbe4c50847c\" y=\"226.168125\"/>\r\n      </g>\r\n     </g>\r\n     <g id=\"text_5\">\r\n      <!-- 1 -->\r\n      <g transform=\"translate(20.878125 229.967344)scale(0.1 -0.1)\">\r\n       <use xlink:href=\"#DejaVuSans-49\"/>\r\n      </g>\r\n     </g>\r\n    </g>\r\n    <g id=\"text_6\">\r\n     <!-- True label -->\r\n     <defs>\r\n      <path d=\"M -0.296875 72.90625 \r\nL 61.375 72.90625 \r\nL 61.375 64.59375 \r\nL 35.5 64.59375 \r\nL 35.5 0 \r\nL 25.59375 0 \r\nL 25.59375 64.59375 \r\nL -0.296875 64.59375 \r\nz\r\n\" id=\"DejaVuSans-84\"/>\r\n      <path d=\"M 8.5 21.578125 \r\nL 8.5 54.6875 \r\nL 17.484375 54.6875 \r\nL 17.484375 21.921875 \r\nQ 17.484375 14.15625 20.5 10.265625 \r\nQ 23.53125 6.390625 29.59375 6.390625 \r\nQ 36.859375 6.390625 41.078125 11.03125 \r\nQ 45.3125 15.671875 45.3125 23.6875 \r\nL 45.3125 54.6875 \r\nL 54.296875 54.6875 \r\nL 54.296875 0 \r\nL 45.3125 0 \r\nL 45.3125 8.40625 \r\nQ 42.046875 3.421875 37.71875 1 \r\nQ 33.40625 -1.421875 27.6875 -1.421875 \r\nQ 18.265625 -1.421875 13.375 4.4375 \r\nQ 8.5 10.296875 8.5 21.578125 \r\nz\r\nM 31.109375 56 \r\nz\r\n\" id=\"DejaVuSans-117\"/>\r\n     </defs>\r\n     <g transform=\"translate(14.798438 182.517344)rotate(-90)scale(0.1 -0.1)\">\r\n      <use xlink:href=\"#DejaVuSans-84\"/>\r\n      <use x=\"46.333984\" xlink:href=\"#DejaVuSans-114\"/>\r\n      <use x=\"87.447266\" xlink:href=\"#DejaVuSans-117\"/>\r\n      <use x=\"150.826172\" xlink:href=\"#DejaVuSans-101\"/>\r\n      <use x=\"212.349609\" xlink:href=\"#DejaVuSans-32\"/>\r\n      <use x=\"244.136719\" xlink:href=\"#DejaVuSans-108\"/>\r\n      <use x=\"271.919922\" xlink:href=\"#DejaVuSans-97\"/>\r\n      <use x=\"333.199219\" xlink:href=\"#DejaVuSans-98\"/>\r\n      <use x=\"396.675781\" xlink:href=\"#DejaVuSans-101\"/>\r\n      <use x=\"458.199219\" xlink:href=\"#DejaVuSans-108\"/>\r\n     </g>\r\n    </g>\r\n   </g>\r\n   <g id=\"patch_3\">\r\n    <path d=\"M 34.240625 294.118125 \r\nL 34.240625 22.318125 \r\n\" style=\"fill:none;stroke:#000000;stroke-linecap:square;stroke-linejoin:miter;stroke-width:0.8;\"/>\r\n   </g>\r\n   <g id=\"patch_4\">\r\n    <path d=\"M 306.040625 294.118125 \r\nL 306.040625 22.318125 \r\n\" style=\"fill:none;stroke:#000000;stroke-linecap:square;stroke-linejoin:miter;stroke-width:0.8;\"/>\r\n   </g>\r\n   <g id=\"patch_5\">\r\n    <path d=\"M 34.240625 294.118125 \r\nL 306.040625 294.118125 \r\n\" style=\"fill:none;stroke:#000000;stroke-linecap:square;stroke-linejoin:miter;stroke-width:0.8;\"/>\r\n   </g>\r\n   <g id=\"patch_6\">\r\n    <path d=\"M 34.240625 22.318125 \r\nL 306.040625 22.318125 \r\n\" style=\"fill:none;stroke:#000000;stroke-linecap:square;stroke-linejoin:miter;stroke-width:0.8;\"/>\r\n   </g>\r\n   <g id=\"text_7\">\r\n    <!-- 0.7 -->\r\n    <defs>\r\n     <path d=\"M 10.6875 12.40625 \r\nL 21 12.40625 \r\nL 21 0 \r\nL 10.6875 0 \r\nz\r\n\" id=\"DejaVuSans-46\"/>\r\n     <path d=\"M 8.203125 72.90625 \r\nL 55.078125 72.90625 \r\nL 55.078125 68.703125 \r\nL 28.609375 0 \r\nL 18.3125 0 \r\nL 43.21875 64.59375 \r\nL 8.203125 64.59375 \r\nz\r\n\" id=\"DejaVuSans-55\"/>\r\n    </defs>\r\n    <g style=\"fill:#440154;\" transform=\"translate(94.239063 93.0275)scale(0.1 -0.1)\">\r\n     <use xlink:href=\"#DejaVuSans-48\"/>\r\n     <use x=\"63.623047\" xlink:href=\"#DejaVuSans-46\"/>\r\n     <use x=\"95.410156\" xlink:href=\"#DejaVuSans-55\"/>\r\n    </g>\r\n   </g>\r\n   <g id=\"text_8\">\r\n    <!-- 0.3 -->\r\n    <defs>\r\n     <path d=\"M 40.578125 39.3125 \r\nQ 47.65625 37.796875 51.625 33 \r\nQ 55.609375 28.21875 55.609375 21.1875 \r\nQ 55.609375 10.40625 48.1875 4.484375 \r\nQ 40.765625 -1.421875 27.09375 -1.421875 \r\nQ 22.515625 -1.421875 17.65625 -0.515625 \r\nQ 12.796875 0.390625 7.625 2.203125 \r\nL 7.625 11.71875 \r\nQ 11.71875 9.328125 16.59375 8.109375 \r\nQ 21.484375 6.890625 26.8125 6.890625 \r\nQ 36.078125 6.890625 40.9375 10.546875 \r\nQ 45.796875 14.203125 45.796875 21.1875 \r\nQ 45.796875 27.640625 41.28125 31.265625 \r\nQ 36.765625 34.90625 28.71875 34.90625 \r\nL 20.21875 34.90625 \r\nL 20.21875 43.015625 \r\nL 29.109375 43.015625 \r\nQ 36.375 43.015625 40.234375 45.921875 \r\nQ 44.09375 48.828125 44.09375 54.296875 \r\nQ 44.09375 59.90625 40.109375 62.90625 \r\nQ 36.140625 65.921875 28.71875 65.921875 \r\nQ 24.65625 65.921875 20.015625 65.03125 \r\nQ 15.375 64.15625 9.8125 62.3125 \r\nL 9.8125 71.09375 \r\nQ 15.4375 72.65625 20.34375 73.4375 \r\nQ 25.25 74.21875 29.59375 74.21875 \r\nQ 40.828125 74.21875 47.359375 69.109375 \r\nQ 53.90625 64.015625 53.90625 55.328125 \r\nQ 53.90625 49.265625 50.4375 45.09375 \r\nQ 46.96875 40.921875 40.578125 39.3125 \r\nz\r\n\" id=\"DejaVuSans-51\"/>\r\n    </defs>\r\n    <g style=\"fill:#fde725;\" transform=\"translate(230.139062 93.0275)scale(0.1 -0.1)\">\r\n     <use xlink:href=\"#DejaVuSans-48\"/>\r\n     <use x=\"63.623047\" xlink:href=\"#DejaVuSans-46\"/>\r\n     <use x=\"95.410156\" xlink:href=\"#DejaVuSans-51\"/>\r\n    </g>\r\n   </g>\r\n   <g id=\"text_9\">\r\n    <!-- 0.28 -->\r\n    <defs>\r\n     <path d=\"M 19.1875 8.296875 \r\nL 53.609375 8.296875 \r\nL 53.609375 0 \r\nL 7.328125 0 \r\nL 7.328125 8.296875 \r\nQ 12.9375 14.109375 22.625 23.890625 \r\nQ 32.328125 33.6875 34.8125 36.53125 \r\nQ 39.546875 41.84375 41.421875 45.53125 \r\nQ 43.3125 49.21875 43.3125 52.78125 \r\nQ 43.3125 58.59375 39.234375 62.25 \r\nQ 35.15625 65.921875 28.609375 65.921875 \r\nQ 23.96875 65.921875 18.8125 64.3125 \r\nQ 13.671875 62.703125 7.8125 59.421875 \r\nL 7.8125 69.390625 \r\nQ 13.765625 71.78125 18.9375 73 \r\nQ 24.125 74.21875 28.421875 74.21875 \r\nQ 39.75 74.21875 46.484375 68.546875 \r\nQ 53.21875 62.890625 53.21875 53.421875 \r\nQ 53.21875 48.921875 51.53125 44.890625 \r\nQ 49.859375 40.875 45.40625 35.40625 \r\nQ 44.1875 33.984375 37.640625 27.21875 \r\nQ 31.109375 20.453125 19.1875 8.296875 \r\nz\r\n\" id=\"DejaVuSans-50\"/>\r\n     <path d=\"M 31.78125 34.625 \r\nQ 24.75 34.625 20.71875 30.859375 \r\nQ 16.703125 27.09375 16.703125 20.515625 \r\nQ 16.703125 13.921875 20.71875 10.15625 \r\nQ 24.75 6.390625 31.78125 6.390625 \r\nQ 38.8125 6.390625 42.859375 10.171875 \r\nQ 46.921875 13.96875 46.921875 20.515625 \r\nQ 46.921875 27.09375 42.890625 30.859375 \r\nQ 38.875 34.625 31.78125 34.625 \r\nz\r\nM 21.921875 38.8125 \r\nQ 15.578125 40.375 12.03125 44.71875 \r\nQ 8.5 49.078125 8.5 55.328125 \r\nQ 8.5 64.0625 14.71875 69.140625 \r\nQ 20.953125 74.21875 31.78125 74.21875 \r\nQ 42.671875 74.21875 48.875 69.140625 \r\nQ 55.078125 64.0625 55.078125 55.328125 \r\nQ 55.078125 49.078125 51.53125 44.71875 \r\nQ 48 40.375 41.703125 38.8125 \r\nQ 48.828125 37.15625 52.796875 32.3125 \r\nQ 56.78125 27.484375 56.78125 20.515625 \r\nQ 56.78125 9.90625 50.3125 4.234375 \r\nQ 43.84375 -1.421875 31.78125 -1.421875 \r\nQ 19.734375 -1.421875 13.25 4.234375 \r\nQ 6.78125 9.90625 6.78125 20.515625 \r\nQ 6.78125 27.484375 10.78125 32.3125 \r\nQ 14.796875 37.15625 21.921875 38.8125 \r\nz\r\nM 18.3125 54.390625 \r\nQ 18.3125 48.734375 21.84375 45.5625 \r\nQ 25.390625 42.390625 31.78125 42.390625 \r\nQ 38.140625 42.390625 41.71875 45.5625 \r\nQ 45.3125 48.734375 45.3125 54.390625 \r\nQ 45.3125 60.0625 41.71875 63.234375 \r\nQ 38.140625 66.40625 31.78125 66.40625 \r\nQ 25.390625 66.40625 21.84375 63.234375 \r\nQ 18.3125 60.0625 18.3125 54.390625 \r\nz\r\n\" id=\"DejaVuSans-56\"/>\r\n    </defs>\r\n    <g style=\"fill:#fde725;\" transform=\"translate(91.057813 228.9275)scale(0.1 -0.1)\">\r\n     <use xlink:href=\"#DejaVuSans-48\"/>\r\n     <use x=\"63.623047\" xlink:href=\"#DejaVuSans-46\"/>\r\n     <use x=\"95.410156\" xlink:href=\"#DejaVuSans-50\"/>\r\n     <use x=\"159.033203\" xlink:href=\"#DejaVuSans-56\"/>\r\n    </g>\r\n   </g>\r\n   <g id=\"text_10\">\r\n    <!-- 0.72 -->\r\n    <g style=\"fill:#440154;\" transform=\"translate(226.957812 228.9275)scale(0.1 -0.1)\">\r\n     <use xlink:href=\"#DejaVuSans-48\"/>\r\n     <use x=\"63.623047\" xlink:href=\"#DejaVuSans-46\"/>\r\n     <use x=\"95.410156\" xlink:href=\"#DejaVuSans-55\"/>\r\n     <use x=\"159.033203\" xlink:href=\"#DejaVuSans-50\"/>\r\n    </g>\r\n   </g>\r\n   <g id=\"text_11\">\r\n    <!-- Confusion Matrix -->\r\n    <defs>\r\n     <path d=\"M 64.40625 67.28125 \r\nL 64.40625 56.890625 \r\nQ 59.421875 61.53125 53.78125 63.8125 \r\nQ 48.140625 66.109375 41.796875 66.109375 \r\nQ 29.296875 66.109375 22.65625 58.46875 \r\nQ 16.015625 50.828125 16.015625 36.375 \r\nQ 16.015625 21.96875 22.65625 14.328125 \r\nQ 29.296875 6.6875 41.796875 6.6875 \r\nQ 48.140625 6.6875 53.78125 8.984375 \r\nQ 59.421875 11.28125 64.40625 15.921875 \r\nL 64.40625 5.609375 \r\nQ 59.234375 2.09375 53.4375 0.328125 \r\nQ 47.65625 -1.421875 41.21875 -1.421875 \r\nQ 24.65625 -1.421875 15.125 8.703125 \r\nQ 5.609375 18.84375 5.609375 36.375 \r\nQ 5.609375 53.953125 15.125 64.078125 \r\nQ 24.65625 74.21875 41.21875 74.21875 \r\nQ 47.75 74.21875 53.53125 72.484375 \r\nQ 59.328125 70.75 64.40625 67.28125 \r\nz\r\n\" id=\"DejaVuSans-67\"/>\r\n     <path d=\"M 30.609375 48.390625 \r\nQ 23.390625 48.390625 19.1875 42.75 \r\nQ 14.984375 37.109375 14.984375 27.296875 \r\nQ 14.984375 17.484375 19.15625 11.84375 \r\nQ 23.34375 6.203125 30.609375 6.203125 \r\nQ 37.796875 6.203125 41.984375 11.859375 \r\nQ 46.1875 17.53125 46.1875 27.296875 \r\nQ 46.1875 37.015625 41.984375 42.703125 \r\nQ 37.796875 48.390625 30.609375 48.390625 \r\nz\r\nM 30.609375 56 \r\nQ 42.328125 56 49.015625 48.375 \r\nQ 55.71875 40.765625 55.71875 27.296875 \r\nQ 55.71875 13.875 49.015625 6.21875 \r\nQ 42.328125 -1.421875 30.609375 -1.421875 \r\nQ 18.84375 -1.421875 12.171875 6.21875 \r\nQ 5.515625 13.875 5.515625 27.296875 \r\nQ 5.515625 40.765625 12.171875 48.375 \r\nQ 18.84375 56 30.609375 56 \r\nz\r\n\" id=\"DejaVuSans-111\"/>\r\n     <path d=\"M 54.890625 33.015625 \r\nL 54.890625 0 \r\nL 45.90625 0 \r\nL 45.90625 32.71875 \r\nQ 45.90625 40.484375 42.875 44.328125 \r\nQ 39.84375 48.1875 33.796875 48.1875 \r\nQ 26.515625 48.1875 22.3125 43.546875 \r\nQ 18.109375 38.921875 18.109375 30.90625 \r\nL 18.109375 0 \r\nL 9.078125 0 \r\nL 9.078125 54.6875 \r\nL 18.109375 54.6875 \r\nL 18.109375 46.1875 \r\nQ 21.34375 51.125 25.703125 53.5625 \r\nQ 30.078125 56 35.796875 56 \r\nQ 45.21875 56 50.046875 50.171875 \r\nQ 54.890625 44.34375 54.890625 33.015625 \r\nz\r\n\" id=\"DejaVuSans-110\"/>\r\n     <path d=\"M 37.109375 75.984375 \r\nL 37.109375 68.5 \r\nL 28.515625 68.5 \r\nQ 23.6875 68.5 21.796875 66.546875 \r\nQ 19.921875 64.59375 19.921875 59.515625 \r\nL 19.921875 54.6875 \r\nL 34.71875 54.6875 \r\nL 34.71875 47.703125 \r\nL 19.921875 47.703125 \r\nL 19.921875 0 \r\nL 10.890625 0 \r\nL 10.890625 47.703125 \r\nL 2.296875 47.703125 \r\nL 2.296875 54.6875 \r\nL 10.890625 54.6875 \r\nL 10.890625 58.5 \r\nQ 10.890625 67.625 15.140625 71.796875 \r\nQ 19.390625 75.984375 28.609375 75.984375 \r\nz\r\n\" id=\"DejaVuSans-102\"/>\r\n     <path d=\"M 44.28125 53.078125 \r\nL 44.28125 44.578125 \r\nQ 40.484375 46.53125 36.375 47.5 \r\nQ 32.28125 48.484375 27.875 48.484375 \r\nQ 21.1875 48.484375 17.84375 46.4375 \r\nQ 14.5 44.390625 14.5 40.28125 \r\nQ 14.5 37.15625 16.890625 35.375 \r\nQ 19.28125 33.59375 26.515625 31.984375 \r\nL 29.59375 31.296875 \r\nQ 39.15625 29.25 43.1875 25.515625 \r\nQ 47.21875 21.78125 47.21875 15.09375 \r\nQ 47.21875 7.46875 41.1875 3.015625 \r\nQ 35.15625 -1.421875 24.609375 -1.421875 \r\nQ 20.21875 -1.421875 15.453125 -0.5625 \r\nQ 10.6875 0.296875 5.421875 2 \r\nL 5.421875 11.28125 \r\nQ 10.40625 8.6875 15.234375 7.390625 \r\nQ 20.0625 6.109375 24.8125 6.109375 \r\nQ 31.15625 6.109375 34.5625 8.28125 \r\nQ 37.984375 10.453125 37.984375 14.40625 \r\nQ 37.984375 18.0625 35.515625 20.015625 \r\nQ 33.0625 21.96875 24.703125 23.78125 \r\nL 21.578125 24.515625 \r\nQ 13.234375 26.265625 9.515625 29.90625 \r\nQ 5.8125 33.546875 5.8125 39.890625 \r\nQ 5.8125 47.609375 11.28125 51.796875 \r\nQ 16.75 56 26.8125 56 \r\nQ 31.78125 56 36.171875 55.265625 \r\nQ 40.578125 54.546875 44.28125 53.078125 \r\nz\r\n\" id=\"DejaVuSans-115\"/>\r\n     <path d=\"M 9.8125 72.90625 \r\nL 24.515625 72.90625 \r\nL 43.109375 23.296875 \r\nL 61.8125 72.90625 \r\nL 76.515625 72.90625 \r\nL 76.515625 0 \r\nL 66.890625 0 \r\nL 66.890625 64.015625 \r\nL 48.09375 14.015625 \r\nL 38.1875 14.015625 \r\nL 19.390625 64.015625 \r\nL 19.390625 0 \r\nL 9.8125 0 \r\nz\r\n\" id=\"DejaVuSans-77\"/>\r\n     <path d=\"M 54.890625 54.6875 \r\nL 35.109375 28.078125 \r\nL 55.90625 0 \r\nL 45.3125 0 \r\nL 29.390625 21.484375 \r\nL 13.484375 0 \r\nL 2.875 0 \r\nL 24.125 28.609375 \r\nL 4.6875 54.6875 \r\nL 15.28125 54.6875 \r\nL 29.78125 35.203125 \r\nL 44.28125 54.6875 \r\nz\r\n\" id=\"DejaVuSans-120\"/>\r\n    </defs>\r\n    <g transform=\"translate(119.49875 16.318125)scale(0.12 -0.12)\">\r\n     <use xlink:href=\"#DejaVuSans-67\"/>\r\n     <use x=\"69.824219\" xlink:href=\"#DejaVuSans-111\"/>\r\n     <use x=\"131.005859\" xlink:href=\"#DejaVuSans-110\"/>\r\n     <use x=\"194.384766\" xlink:href=\"#DejaVuSans-102\"/>\r\n     <use x=\"229.589844\" xlink:href=\"#DejaVuSans-117\"/>\r\n     <use x=\"292.96875\" xlink:href=\"#DejaVuSans-115\"/>\r\n     <use x=\"345.068359\" xlink:href=\"#DejaVuSans-105\"/>\r\n     <use x=\"372.851562\" xlink:href=\"#DejaVuSans-111\"/>\r\n     <use x=\"434.033203\" xlink:href=\"#DejaVuSans-110\"/>\r\n     <use x=\"497.412109\" xlink:href=\"#DejaVuSans-32\"/>\r\n     <use x=\"529.199219\" xlink:href=\"#DejaVuSans-77\"/>\r\n     <use x=\"615.478516\" xlink:href=\"#DejaVuSans-97\"/>\r\n     <use x=\"676.757812\" xlink:href=\"#DejaVuSans-116\"/>\r\n     <use x=\"715.966797\" xlink:href=\"#DejaVuSans-114\"/>\r\n     <use x=\"757.080078\" xlink:href=\"#DejaVuSans-105\"/>\r\n     <use x=\"784.863281\" xlink:href=\"#DejaVuSans-120\"/>\r\n    </g>\r\n   </g>\r\n  </g>\r\n  <g id=\"axes_2\">\r\n   <g id=\"patch_7\">\r\n    <path d=\"M 508.949716 294.118125 \r\nL 1016.222443 294.118125 \r\nL 1016.222443 22.318125 \r\nL 508.949716 22.318125 \r\nz\r\n\" style=\"fill:#ffffff;\"/>\r\n   </g>\r\n   <g id=\"matplotlib.axis_3\">\r\n    <g id=\"xtick_3\">\r\n     <g id=\"line2d_5\">\r\n      <g>\r\n       <use style=\"stroke:#000000;stroke-width:0.8;\" x=\"532.007567\" xlink:href=\"#mf0c2b76377\" y=\"294.118125\"/>\r\n      </g>\r\n     </g>\r\n     <g id=\"text_12\">\r\n      <!-- 0.0 -->\r\n      <g transform=\"translate(524.056005 308.716563)scale(0.1 -0.1)\">\r\n       <use xlink:href=\"#DejaVuSans-48\"/>\r\n       <use x=\"63.623047\" xlink:href=\"#DejaVuSans-46\"/>\r\n       <use x=\"95.410156\" xlink:href=\"#DejaVuSans-48\"/>\r\n      </g>\r\n     </g>\r\n    </g>\r\n    <g id=\"xtick_4\">\r\n     <g id=\"line2d_6\">\r\n      <g>\r\n       <use style=\"stroke:#000000;stroke-width:0.8;\" x=\"624.238972\" xlink:href=\"#mf0c2b76377\" y=\"294.118125\"/>\r\n      </g>\r\n     </g>\r\n     <g id=\"text_13\">\r\n      <!-- 0.2 -->\r\n      <g transform=\"translate(616.28741 308.716563)scale(0.1 -0.1)\">\r\n       <use xlink:href=\"#DejaVuSans-48\"/>\r\n       <use x=\"63.623047\" xlink:href=\"#DejaVuSans-46\"/>\r\n       <use x=\"95.410156\" xlink:href=\"#DejaVuSans-50\"/>\r\n      </g>\r\n     </g>\r\n    </g>\r\n    <g id=\"xtick_5\">\r\n     <g id=\"line2d_7\">\r\n      <g>\r\n       <use style=\"stroke:#000000;stroke-width:0.8;\" x=\"716.470377\" xlink:href=\"#mf0c2b76377\" y=\"294.118125\"/>\r\n      </g>\r\n     </g>\r\n     <g id=\"text_14\">\r\n      <!-- 0.4 -->\r\n      <defs>\r\n       <path d=\"M 37.796875 64.3125 \r\nL 12.890625 25.390625 \r\nL 37.796875 25.390625 \r\nz\r\nM 35.203125 72.90625 \r\nL 47.609375 72.90625 \r\nL 47.609375 25.390625 \r\nL 58.015625 25.390625 \r\nL 58.015625 17.1875 \r\nL 47.609375 17.1875 \r\nL 47.609375 0 \r\nL 37.796875 0 \r\nL 37.796875 17.1875 \r\nL 4.890625 17.1875 \r\nL 4.890625 26.703125 \r\nz\r\n\" id=\"DejaVuSans-52\"/>\r\n      </defs>\r\n      <g transform=\"translate(708.518815 308.716563)scale(0.1 -0.1)\">\r\n       <use xlink:href=\"#DejaVuSans-48\"/>\r\n       <use x=\"63.623047\" xlink:href=\"#DejaVuSans-46\"/>\r\n       <use x=\"95.410156\" xlink:href=\"#DejaVuSans-52\"/>\r\n      </g>\r\n     </g>\r\n    </g>\r\n    <g id=\"xtick_6\">\r\n     <g id=\"line2d_8\">\r\n      <g>\r\n       <use style=\"stroke:#000000;stroke-width:0.8;\" x=\"808.701782\" xlink:href=\"#mf0c2b76377\" y=\"294.118125\"/>\r\n      </g>\r\n     </g>\r\n     <g id=\"text_15\">\r\n      <!-- 0.6 -->\r\n      <defs>\r\n       <path d=\"M 33.015625 40.375 \r\nQ 26.375 40.375 22.484375 35.828125 \r\nQ 18.609375 31.296875 18.609375 23.390625 \r\nQ 18.609375 15.53125 22.484375 10.953125 \r\nQ 26.375 6.390625 33.015625 6.390625 \r\nQ 39.65625 6.390625 43.53125 10.953125 \r\nQ 47.40625 15.53125 47.40625 23.390625 \r\nQ 47.40625 31.296875 43.53125 35.828125 \r\nQ 39.65625 40.375 33.015625 40.375 \r\nz\r\nM 52.59375 71.296875 \r\nL 52.59375 62.3125 \r\nQ 48.875 64.0625 45.09375 64.984375 \r\nQ 41.3125 65.921875 37.59375 65.921875 \r\nQ 27.828125 65.921875 22.671875 59.328125 \r\nQ 17.53125 52.734375 16.796875 39.40625 \r\nQ 19.671875 43.65625 24.015625 45.921875 \r\nQ 28.375 48.1875 33.59375 48.1875 \r\nQ 44.578125 48.1875 50.953125 41.515625 \r\nQ 57.328125 34.859375 57.328125 23.390625 \r\nQ 57.328125 12.15625 50.6875 5.359375 \r\nQ 44.046875 -1.421875 33.015625 -1.421875 \r\nQ 20.359375 -1.421875 13.671875 8.265625 \r\nQ 6.984375 17.96875 6.984375 36.375 \r\nQ 6.984375 53.65625 15.1875 63.9375 \r\nQ 23.390625 74.21875 37.203125 74.21875 \r\nQ 40.921875 74.21875 44.703125 73.484375 \r\nQ 48.484375 72.75 52.59375 71.296875 \r\nz\r\n\" id=\"DejaVuSans-54\"/>\r\n      </defs>\r\n      <g transform=\"translate(800.75022 308.716563)scale(0.1 -0.1)\">\r\n       <use xlink:href=\"#DejaVuSans-48\"/>\r\n       <use x=\"63.623047\" xlink:href=\"#DejaVuSans-46\"/>\r\n       <use x=\"95.410156\" xlink:href=\"#DejaVuSans-54\"/>\r\n      </g>\r\n     </g>\r\n    </g>\r\n    <g id=\"xtick_7\">\r\n     <g id=\"line2d_9\">\r\n      <g>\r\n       <use style=\"stroke:#000000;stroke-width:0.8;\" x=\"900.933187\" xlink:href=\"#mf0c2b76377\" y=\"294.118125\"/>\r\n      </g>\r\n     </g>\r\n     <g id=\"text_16\">\r\n      <!-- 0.8 -->\r\n      <g transform=\"translate(892.981624 308.716563)scale(0.1 -0.1)\">\r\n       <use xlink:href=\"#DejaVuSans-48\"/>\r\n       <use x=\"63.623047\" xlink:href=\"#DejaVuSans-46\"/>\r\n       <use x=\"95.410156\" xlink:href=\"#DejaVuSans-56\"/>\r\n      </g>\r\n     </g>\r\n    </g>\r\n    <g id=\"xtick_8\">\r\n     <g id=\"line2d_10\">\r\n      <g>\r\n       <use style=\"stroke:#000000;stroke-width:0.8;\" x=\"993.164592\" xlink:href=\"#mf0c2b76377\" y=\"294.118125\"/>\r\n      </g>\r\n     </g>\r\n     <g id=\"text_17\">\r\n      <!-- 1.0 -->\r\n      <g transform=\"translate(985.213029 308.716563)scale(0.1 -0.1)\">\r\n       <use xlink:href=\"#DejaVuSans-49\"/>\r\n       <use x=\"63.623047\" xlink:href=\"#DejaVuSans-46\"/>\r\n       <use x=\"95.410156\" xlink:href=\"#DejaVuSans-48\"/>\r\n      </g>\r\n     </g>\r\n    </g>\r\n    <g id=\"text_18\">\r\n     <!-- False Positive Rate -->\r\n     <defs>\r\n      <path d=\"M 9.8125 72.90625 \r\nL 51.703125 72.90625 \r\nL 51.703125 64.59375 \r\nL 19.671875 64.59375 \r\nL 19.671875 43.109375 \r\nL 48.578125 43.109375 \r\nL 48.578125 34.8125 \r\nL 19.671875 34.8125 \r\nL 19.671875 0 \r\nL 9.8125 0 \r\nz\r\n\" id=\"DejaVuSans-70\"/>\r\n      <path d=\"M 2.984375 54.6875 \r\nL 12.5 54.6875 \r\nL 29.59375 8.796875 \r\nL 46.6875 54.6875 \r\nL 56.203125 54.6875 \r\nL 35.6875 0 \r\nL 23.484375 0 \r\nz\r\n\" id=\"DejaVuSans-118\"/>\r\n      <path d=\"M 44.390625 34.1875 \r\nQ 47.5625 33.109375 50.5625 29.59375 \r\nQ 53.5625 26.078125 56.59375 19.921875 \r\nL 66.609375 0 \r\nL 56 0 \r\nL 46.6875 18.703125 \r\nQ 43.0625 26.03125 39.671875 28.421875 \r\nQ 36.28125 30.8125 30.421875 30.8125 \r\nL 19.671875 30.8125 \r\nL 19.671875 0 \r\nL 9.8125 0 \r\nL 9.8125 72.90625 \r\nL 32.078125 72.90625 \r\nQ 44.578125 72.90625 50.734375 67.671875 \r\nQ 56.890625 62.453125 56.890625 51.90625 \r\nQ 56.890625 45.015625 53.6875 40.46875 \r\nQ 50.484375 35.9375 44.390625 34.1875 \r\nz\r\nM 19.671875 64.796875 \r\nL 19.671875 38.921875 \r\nL 32.078125 38.921875 \r\nQ 39.203125 38.921875 42.84375 42.21875 \r\nQ 46.484375 45.515625 46.484375 51.90625 \r\nQ 46.484375 58.296875 42.84375 61.546875 \r\nQ 39.203125 64.796875 32.078125 64.796875 \r\nz\r\n\" id=\"DejaVuSans-82\"/>\r\n     </defs>\r\n     <g transform=\"translate(716.119673 322.394687)scale(0.1 -0.1)\">\r\n      <use xlink:href=\"#DejaVuSans-70\"/>\r\n      <use x=\"48.394531\" xlink:href=\"#DejaVuSans-97\"/>\r\n      <use x=\"109.673828\" xlink:href=\"#DejaVuSans-108\"/>\r\n      <use x=\"137.457031\" xlink:href=\"#DejaVuSans-115\"/>\r\n      <use x=\"189.556641\" xlink:href=\"#DejaVuSans-101\"/>\r\n      <use x=\"251.080078\" xlink:href=\"#DejaVuSans-32\"/>\r\n      <use x=\"282.867188\" xlink:href=\"#DejaVuSans-80\"/>\r\n      <use x=\"339.544922\" xlink:href=\"#DejaVuSans-111\"/>\r\n      <use x=\"400.726562\" xlink:href=\"#DejaVuSans-115\"/>\r\n      <use x=\"452.826172\" xlink:href=\"#DejaVuSans-105\"/>\r\n      <use x=\"480.609375\" xlink:href=\"#DejaVuSans-116\"/>\r\n      <use x=\"519.818359\" xlink:href=\"#DejaVuSans-105\"/>\r\n      <use x=\"547.601562\" xlink:href=\"#DejaVuSans-118\"/>\r\n      <use x=\"606.78125\" xlink:href=\"#DejaVuSans-101\"/>\r\n      <use x=\"668.304688\" xlink:href=\"#DejaVuSans-32\"/>\r\n      <use x=\"700.091797\" xlink:href=\"#DejaVuSans-82\"/>\r\n      <use x=\"767.324219\" xlink:href=\"#DejaVuSans-97\"/>\r\n      <use x=\"828.603516\" xlink:href=\"#DejaVuSans-116\"/>\r\n      <use x=\"867.8125\" xlink:href=\"#DejaVuSans-101\"/>\r\n     </g>\r\n    </g>\r\n   </g>\r\n   <g id=\"matplotlib.axis_4\">\r\n    <g id=\"ytick_3\">\r\n     <g id=\"line2d_11\">\r\n      <g>\r\n       <use style=\"stroke:#000000;stroke-width:0.8;\" x=\"508.949716\" xlink:href=\"#mbe4c50847c\" y=\"281.76358\"/>\r\n      </g>\r\n     </g>\r\n     <g id=\"text_19\">\r\n      <!-- 0.0 -->\r\n      <g transform=\"translate(486.046591 285.562798)scale(0.1 -0.1)\">\r\n       <use xlink:href=\"#DejaVuSans-48\"/>\r\n       <use x=\"63.623047\" xlink:href=\"#DejaVuSans-46\"/>\r\n       <use x=\"95.410156\" xlink:href=\"#DejaVuSans-48\"/>\r\n      </g>\r\n     </g>\r\n    </g>\r\n    <g id=\"ytick_4\">\r\n     <g id=\"line2d_12\">\r\n      <g>\r\n       <use style=\"stroke:#000000;stroke-width:0.8;\" x=\"508.949716\" xlink:href=\"#mbe4c50847c\" y=\"232.345398\"/>\r\n      </g>\r\n     </g>\r\n     <g id=\"text_20\">\r\n      <!-- 0.2 -->\r\n      <g transform=\"translate(486.046591 236.144616)scale(0.1 -0.1)\">\r\n       <use xlink:href=\"#DejaVuSans-48\"/>\r\n       <use x=\"63.623047\" xlink:href=\"#DejaVuSans-46\"/>\r\n       <use x=\"95.410156\" xlink:href=\"#DejaVuSans-50\"/>\r\n      </g>\r\n     </g>\r\n    </g>\r\n    <g id=\"ytick_5\">\r\n     <g id=\"line2d_13\">\r\n      <g>\r\n       <use style=\"stroke:#000000;stroke-width:0.8;\" x=\"508.949716\" xlink:href=\"#mbe4c50847c\" y=\"182.927216\"/>\r\n      </g>\r\n     </g>\r\n     <g id=\"text_21\">\r\n      <!-- 0.4 -->\r\n      <g transform=\"translate(486.046591 186.726435)scale(0.1 -0.1)\">\r\n       <use xlink:href=\"#DejaVuSans-48\"/>\r\n       <use x=\"63.623047\" xlink:href=\"#DejaVuSans-46\"/>\r\n       <use x=\"95.410156\" xlink:href=\"#DejaVuSans-52\"/>\r\n      </g>\r\n     </g>\r\n    </g>\r\n    <g id=\"ytick_6\">\r\n     <g id=\"line2d_14\">\r\n      <g>\r\n       <use style=\"stroke:#000000;stroke-width:0.8;\" x=\"508.949716\" xlink:href=\"#mbe4c50847c\" y=\"133.509034\"/>\r\n      </g>\r\n     </g>\r\n     <g id=\"text_22\">\r\n      <!-- 0.6 -->\r\n      <g transform=\"translate(486.046591 137.308253)scale(0.1 -0.1)\">\r\n       <use xlink:href=\"#DejaVuSans-48\"/>\r\n       <use x=\"63.623047\" xlink:href=\"#DejaVuSans-46\"/>\r\n       <use x=\"95.410156\" xlink:href=\"#DejaVuSans-54\"/>\r\n      </g>\r\n     </g>\r\n    </g>\r\n    <g id=\"ytick_7\">\r\n     <g id=\"line2d_15\">\r\n      <g>\r\n       <use style=\"stroke:#000000;stroke-width:0.8;\" x=\"508.949716\" xlink:href=\"#mbe4c50847c\" y=\"84.090852\"/>\r\n      </g>\r\n     </g>\r\n     <g id=\"text_23\">\r\n      <!-- 0.8 -->\r\n      <g transform=\"translate(486.046591 87.890071)scale(0.1 -0.1)\">\r\n       <use xlink:href=\"#DejaVuSans-48\"/>\r\n       <use x=\"63.623047\" xlink:href=\"#DejaVuSans-46\"/>\r\n       <use x=\"95.410156\" xlink:href=\"#DejaVuSans-56\"/>\r\n      </g>\r\n     </g>\r\n    </g>\r\n    <g id=\"ytick_8\">\r\n     <g id=\"line2d_16\">\r\n      <g>\r\n       <use style=\"stroke:#000000;stroke-width:0.8;\" x=\"508.949716\" xlink:href=\"#mbe4c50847c\" y=\"34.67267\"/>\r\n      </g>\r\n     </g>\r\n     <g id=\"text_24\">\r\n      <!-- 1.0 -->\r\n      <g transform=\"translate(486.046591 38.471889)scale(0.1 -0.1)\">\r\n       <use xlink:href=\"#DejaVuSans-49\"/>\r\n       <use x=\"63.623047\" xlink:href=\"#DejaVuSans-46\"/>\r\n       <use x=\"95.410156\" xlink:href=\"#DejaVuSans-48\"/>\r\n      </g>\r\n     </g>\r\n    </g>\r\n    <g id=\"text_25\">\r\n     <!-- True Positive Rate -->\r\n     <g transform=\"translate(479.966903 202.747813)rotate(-90)scale(0.1 -0.1)\">\r\n      <use xlink:href=\"#DejaVuSans-84\"/>\r\n      <use x=\"46.333984\" xlink:href=\"#DejaVuSans-114\"/>\r\n      <use x=\"87.447266\" xlink:href=\"#DejaVuSans-117\"/>\r\n      <use x=\"150.826172\" xlink:href=\"#DejaVuSans-101\"/>\r\n      <use x=\"212.349609\" xlink:href=\"#DejaVuSans-32\"/>\r\n      <use x=\"244.136719\" xlink:href=\"#DejaVuSans-80\"/>\r\n      <use x=\"300.814453\" xlink:href=\"#DejaVuSans-111\"/>\r\n      <use x=\"361.996094\" xlink:href=\"#DejaVuSans-115\"/>\r\n      <use x=\"414.095703\" xlink:href=\"#DejaVuSans-105\"/>\r\n      <use x=\"441.878906\" xlink:href=\"#DejaVuSans-116\"/>\r\n      <use x=\"481.087891\" xlink:href=\"#DejaVuSans-105\"/>\r\n      <use x=\"508.871094\" xlink:href=\"#DejaVuSans-118\"/>\r\n      <use x=\"568.050781\" xlink:href=\"#DejaVuSans-101\"/>\r\n      <use x=\"629.574219\" xlink:href=\"#DejaVuSans-32\"/>\r\n      <use x=\"661.361328\" xlink:href=\"#DejaVuSans-82\"/>\r\n      <use x=\"728.59375\" xlink:href=\"#DejaVuSans-97\"/>\r\n      <use x=\"789.873047\" xlink:href=\"#DejaVuSans-116\"/>\r\n      <use x=\"829.082031\" xlink:href=\"#DejaVuSans-101\"/>\r\n     </g>\r\n    </g>\r\n   </g>\r\n   <g id=\"line2d_17\">\r\n    <path clip-path=\"url(#p0fb6578e9b)\" d=\"M 532.007567 281.76358 \r\nL 532.073437 281.233721 \r\nL 532.139307 281.233721 \r\nL 532.205178 280.527242 \r\nL 532.402788 280.24465 \r\nL 532.600399 279.4322 \r\nL 532.600399 278.902341 \r\nL 532.666269 278.902341 \r\nL 532.732139 278.761045 \r\nL 532.798009 278.407806 \r\nL 533.12736 277.030173 \r\nL 533.19323 276.782905 \r\nL 533.456711 276.11175 \r\nL 533.720191 274.981384 \r\nL 533.786062 274.981384 \r\nL 533.786062 274.910737 \r\nL 533.851932 274.451525 \r\nL 533.917802 274.31023 \r\nL 534.576504 273.568427 \r\nL 534.576504 273.427131 \r\nL 534.708244 273.427131 \r\nL 535.103465 272.438061 \r\nL 535.169335 271.97885 \r\nL 535.498686 271.590287 \r\nL 535.564556 271.272372 \r\nL 535.696296 271.131076 \r\nL 535.696296 271.060428 \r\nL 535.762167 271.060428 \r\nL 535.959777 270.742513 \r\nL 536.025647 270.212654 \r\nL 536.223258 270.142006 \r\nL 536.420868 269.647471 \r\nL 536.552609 269.294231 \r\nL 536.750219 269.117612 \r\nL 536.816089 268.976316 \r\nL 536.816089 268.517105 \r\nL 537.0137 268.305161 \r\nL 537.07957 267.66933 \r\nL 537.14544 267.528035 \r\nL 537.21131 267.351415 \r\nL 537.27718 267.351415 \r\nL 537.343051 266.962852 \r\nL 537.408921 266.538965 \r\nL 537.474791 266.538965 \r\nL 537.474791 266.503641 \r\nL 537.540661 266.256373 \r\nL 537.738271 265.761838 \r\nL 538.067622 265.055359 \r\nL 538.133492 264.737444 \r\nL 538.331103 264.5255 \r\nL 538.396973 264.348881 \r\nL 538.462843 264.172261 \r\nL 538.528713 263.006571 \r\nL 538.792194 262.900599 \r\nL 538.792194 262.829952 \r\nL 538.989805 262.794628 \r\nL 539.055675 262.300093 \r\nL 539.385026 260.887135 \r\nL 539.450896 260.321952 \r\nL 539.780247 260.039361 \r\nL 539.780247 259.297558 \r\nL 539.846117 259.297558 \r\nL 540.043727 258.485108 \r\nL 540.043727 258.273164 \r\nL 540.438948 257.813953 \r\nL 540.96591 256.966179 \r\nL 541.16352 256.577616 \r\nL 541.361131 256.224376 \r\nL 541.427001 255.977109 \r\nL 541.492871 255.906461 \r\nL 541.492871 255.800489 \r\nL 541.690481 255.694517 \r\nL 541.690481 255.235306 \r\nL 541.822222 255.164658 \r\nL 541.953962 254.705447 \r\nL 542.151573 254.705447 \r\nL 542.151573 254.670123 \r\nL 542.217443 254.034292 \r\nL 542.678534 253.504433 \r\nL 542.744404 253.11587 \r\nL 542.810274 253.11587 \r\nL 542.810274 253.080546 \r\nL 542.942015 252.586011 \r\nL 543.337236 252.30342 \r\nL 543.403106 251.914856 \r\nL 543.534846 251.773561 \r\nL 543.600716 251.667589 \r\nL 543.732457 251.667589 \r\nL 543.732457 251.596941 \r\nL 543.798327 251.455645 \r\nL 543.864197 251.208378 \r\nL 543.995937 251.13773 \r\nL 543.995937 251.102406 \r\nL 544.127677 250.96111 \r\nL 544.193548 250.113336 \r\nL 544.391158 249.830744 \r\nL 544.457028 249.371533 \r\nL 544.786379 249.230238 \r\nL 544.852249 249.018294 \r\nL 545.11573 248.665055 \r\nL 545.1816 248.453111 \r\nL 545.24747 248.453111 \r\nL 545.24747 247.852604 \r\nL 545.379211 247.746632 \r\nL 545.379211 247.393393 \r\nL 545.510951 247.393393 \r\nL 545.510951 247.358069 \r\nL 546.103782 246.192379 \r\nL 546.564874 245.556549 \r\nL 546.564874 245.344605 \r\nL 546.696614 245.238633 \r\nL 547.355316 244.037619 \r\nL 547.421186 244.037619 \r\nL 547.421186 243.931648 \r\nL 547.487056 243.790352 \r\nL 547.684666 243.719704 \r\nL 547.750537 242.87193 \r\nL 547.816407 242.836606 \r\nL 547.882277 242.554014 \r\nL 548.211628 242.377395 \r\nL 548.475108 241.847536 \r\nL 548.540979 241.388324 \r\nL 549.00207 240.328607 \r\nL 549.06794 239.7281 \r\nL 549.26555 239.7281 \r\nL 549.26555 239.622128 \r\nL 549.26555 239.516156 \r\nL 550.055992 238.244494 \r\nL 550.121863 237.749959 \r\nL 550.253603 237.57334 \r\nL 550.319473 237.149453 \r\nL 550.451213 236.902185 \r\nL 550.648824 236.902185 \r\nL 550.648824 236.831537 \r\nL 550.648824 236.760889 \r\nL 550.912304 236.40765 \r\nL 550.912304 236.23103 \r\nL 550.978175 236.23103 \r\nL 551.175785 236.160382 \r\nL 551.175785 236.125059 \r\nL 551.834487 235.100664 \r\nL 551.834487 234.924045 \r\nL 551.900357 234.924045 \r\nL 551.966227 234.888721 \r\nL 551.966227 234.606129 \r\nL 552.229708 234.394186 \r\nL 552.229708 234.25289 \r\nL 552.361448 234.111594 \r\nL 552.361448 233.617059 \r\nL 552.822539 231.992158 \r\nL 553.15189 231.674243 \r\nL 553.481241 230.649849 \r\nL 553.744722 230.543877 \r\nL 553.810592 230.11999 \r\nL 553.942332 230.049342 \r\nL 554.271683 229.272216 \r\nL 554.337553 229.272216 \r\nL 554.337553 229.201568 \r\nL 554.469293 228.883652 \r\nL 554.535164 228.283145 \r\nL 555.523216 227.117456 \r\nL 555.589086 226.940836 \r\nL 555.918437 226.658245 \r\nL 556.313658 225.492555 \r\nL 556.445398 225.245287 \r\nL 556.774749 224.574133 \r\nL 556.840619 224.397513 \r\nL 557.1041 224.044274 \r\nL 557.894542 222.525344 \r\nL 558.158023 222.066133 \r\nL 558.487373 221.077063 \r\nL 558.619114 220.829796 \r\nL 558.684984 220.6885 \r\nL 558.948465 220.370585 \r\nL 559.146075 219.558134 \r\nL 559.475426 218.922303 \r\nL 559.541296 218.675036 \r\nL 559.673036 218.675036 \r\nL 559.738907 218.180501 \r\nL 559.936517 218.074529 \r\nL 560.199998 217.897909 \r\nL 560.199998 217.438698 \r\nL 560.397608 217.332726 \r\nL 560.463478 217.262078 \r\nL 560.595219 217.226755 \r\nL 560.661089 216.732219 \r\nL 560.792829 216.20236 \r\nL 560.792829 216.131713 \r\nL 560.99044 215.637178 \r\nL 561.12218 215.637178 \r\nL 561.25392 215.319262 \r\nL 561.319791 214.683431 \r\nL 561.451531 214.683431 \r\nL 561.451531 214.648107 \r\nL 562.044362 212.987883 \r\nL 563.230025 211.786869 \r\nL 563.295895 211.504277 \r\nL 563.822857 209.9147 \r\nL 563.888727 209.9147 \r\nL 563.888727 209.879377 \r\nL 564.745039 208.360447 \r\nL 564.745039 208.2898 \r\nL 564.94265 208.148504 \r\nL 565.00852 207.795265 \r\nL 565.272 207.583321 \r\nL 565.337871 207.159434 \r\nL 565.864832 206.594251 \r\nL 566.062442 206.13504 \r\nL 566.523534 205.887772 \r\nL 566.721144 205.569857 \r\nL 566.852884 205.569857 \r\nL 566.852884 205.499209 \r\nL 567.050495 205.287265 \r\nL 567.050495 205.251941 \r\nL 567.182235 205.181293 \r\nL 567.248105 204.722082 \r\nL 567.313976 204.722082 \r\nL 567.445716 204.298195 \r\nL 567.643326 204.192223 \r\nL 567.643326 204.015604 \r\nL 567.906807 203.838984 \r\nL 568.038547 203.662364 \r\nL 568.763119 202.99121 \r\nL 568.828989 202.320055 \r\nL 568.89486 202.320055 \r\nL 569.290081 201.684224 \r\nL 570.278133 199.988675 \r\nL 570.278133 199.812056 \r\nL 571.332056 198.257803 \r\nL 571.463796 198.151831 \r\nL 571.463796 198.116507 \r\nL 571.924887 196.632902 \r\nL 571.990757 196.632902 \r\nL 571.990757 196.52693 \r\nL 572.517719 196.067719 \r\nL 572.715329 195.961747 \r\nL 572.715329 195.643832 \r\nL 572.91294 195.608508 \r\nL 573.900992 194.160227 \r\nL 573.966862 194.160227 \r\nL 574.032732 193.842311 \r\nL 574.164473 193.771663 \r\nL 574.691434 192.959213 \r\nL 574.757304 192.57065 \r\nL 575.086655 191.722875 \r\nL 575.218395 191.722875 \r\nL 575.284266 191.475608 \r\nL 575.481876 191.334312 \r\nL 575.547746 191.05172 \r\nL 575.745357 191.05172 \r\nL 576.008837 190.23927 \r\nL 576.99689 189.002932 \r\nL 577.06276 188.720341 \r\nL 577.392111 188.508397 \r\nL 578.248423 186.883496 \r\nL 578.380163 186.777525 \r\nL 578.709514 185.823778 \r\nL 579.038865 185.647159 \r\nL 579.104735 185.329243 \r\nL 579.697567 184.976004 \r\nL 579.829307 184.481469 \r\nL 579.895177 184.304849 \r\nL 580.026917 184.269525 \r\nL 580.092788 183.845638 \r\nL 580.290398 183.810314 \r\nL 580.290398 183.739666 \r\nL 580.422138 183.351103 \r\nL 580.619749 183.351103 \r\nL 581.21258 182.432681 \r\nL 581.278451 182.397357 \r\nL 581.344321 182.114765 \r\nL 581.410191 182.114765 \r\nL 581.410191 181.761526 \r\nL 582.003022 181.302315 \r\nL 582.068893 180.772456 \r\nL 582.134763 180.63116 \r\nL 582.200633 179.359499 \r\nL 582.464113 179.182879 \r\nL 582.464113 178.900288 \r\nL 582.661724 178.900288 \r\nL 582.991075 178.370429 \r\nL 583.056945 177.981865 \r\nL 583.188685 177.946541 \r\nL 583.847387 176.639556 \r\nL 583.847387 176.604232 \r\nL 583.913257 176.604232 \r\nL 584.176738 176.427612 \r\nL 584.242608 176.286317 \r\nL 584.308478 176.286317 \r\nL 584.308478 176.250993 \r\nL 585.625881 174.590768 \r\nL 585.691752 174.3435 \r\nL 586.152843 174.308176 \r\nL 586.152843 174.237528 \r\nL 586.679804 173.460402 \r\nL 586.877415 173.35443 \r\nL 586.943285 173.142487 \r\nL 587.075025 173.142487 \r\nL 587.140895 172.895219 \r\nL 587.206765 172.895219 \r\nL 587.206765 172.824571 \r\nL 587.470246 172.224064 \r\nL 587.997207 172.047445 \r\nL 587.997207 172.012121 \r\nL 588.260688 171.764853 \r\nL 588.326558 171.658881 \r\nL 588.655909 171.234994 \r\nL 588.91939 171.023051 \r\nL 588.91939 170.917079 \r\nL 589.380481 170.705135 \r\nL 589.578091 170.139952 \r\nL 589.643961 169.928009 \r\nL 589.841572 169.433474 \r\nL 589.841572 169.39815 \r\nL 590.170923 168.868291 \r\nL 590.302663 168.691671 \r\nL 590.368533 168.444404 \r\nL 590.434403 168.444404 \r\nL 590.434403 168.40908 \r\nL 591.422456 167.208066 \r\nL 591.620066 167.172742 \r\nL 591.620066 167.06677 \r\nL 592.212898 166.466263 \r\nL 592.278768 166.25432 \r\nL 592.344638 166.25432 \r\nL 593.266821 164.876686 \r\nL 593.596171 164.594095 \r\nL 594.254873 163.710997 \r\nL 594.452484 163.428405 \r\nL 594.650094 163.287109 \r\nL 594.715964 162.898546 \r\nL 594.913575 162.863222 \r\nL 594.913575 162.686602 \r\nL 595.045315 161.909476 \r\nL 595.572276 161.379617 \r\nL 596.099238 160.849758 \r\nL 596.296848 160.355223 \r\nL 598.997525 158.942266 \r\nL 598.997525 158.871618 \r\nL 599.524486 158.165139 \r\nL 599.590356 158.023843 \r\nL 600.117318 157.529308 \r\nL 600.183188 157.070097 \r\nL 600.512539 156.964125 \r\nL 600.512539 156.893478 \r\nL 601.237111 156.540238 \r\nL 601.829942 155.939731 \r\nL 602.093423 155.798436 \r\nL 602.159293 155.586492 \r\nL 602.225163 155.586492 \r\nL 602.225163 155.551168 \r\nL 602.554514 154.809365 \r\nL 603.213215 154.102887 \r\nL 603.279086 153.749648 \r\nL 603.410826 153.643676 \r\nL 603.476696 153.573028 \r\nL 603.937787 152.195394 \r\nL 604.333008 151.983451 \r\nL 604.596489 151.877479 \r\nL 604.596489 151.806831 \r\nL 604.794099 151.736183 \r\nL 604.794099 151.630212 \r\nL 604.92584 151.52424 \r\nL 605.584541 150.464522 \r\nL 605.584541 150.252578 \r\nL 605.913892 150.146606 \r\nL 606.045633 149.934663 \r\nL 607.033685 149.19286 \r\nL 607.033685 149.122212 \r\nL 607.428906 148.874945 \r\nL 607.494776 148.521705 \r\nL 607.692387 148.451058 \r\nL 607.824127 148.20379 \r\nL 608.87805 147.709255 \r\nL 608.94392 147.673931 \r\nL 608.94392 147.532635 \r\nL 609.2074 147.426664 \r\nL 609.470881 147.250044 \r\nL 609.470881 147.108748 \r\nL 610.063713 146.967452 \r\nL 610.327193 146.649537 \r\nL 610.524804 146.649537 \r\nL 610.722414 146.331622 \r\nL 610.788284 146.155002 \r\nL 610.920025 146.155002 \r\nL 610.920025 146.119678 \r\nL 611.446986 145.448523 \r\nL 611.446986 145.413199 \r\nL 611.842207 145.130608 \r\nL 611.842207 145.024636 \r\nL 612.435039 144.636073 \r\nL 612.698519 144.388805 \r\nL 612.83026 144.106214 \r\nL 613.225481 144.07089 \r\nL 613.225481 144.000242 \r\nL 613.225481 143.964918 \r\nL 613.357221 143.964918 \r\nL 613.357221 143.89427 \r\nL 614.015923 142.799228 \r\nL 614.081793 142.728581 \r\nL 614.542884 142.587285 \r\nL 614.542884 142.516637 \r\nL 614.740494 142.375341 \r\nL 614.740494 142.340017 \r\nL 614.806364 142.340017 \r\nL 615.333326 142.269369 \r\nL 615.333326 142.198722 \r\nL 616.716599 140.715116 \r\nL 617.243561 140.609145 \r\nL 617.441171 140.432525 \r\nL 617.704652 140.326553 \r\nL 617.770522 140.079286 \r\nL 617.836392 140.079286 \r\nL 619.351406 139.443455 \r\nL 620.010108 138.878272 \r\nL 620.075978 138.878272 \r\nL 620.075978 138.736976 \r\nL 620.86642 137.641934 \r\nL 620.86642 137.500638 \r\nL 620.93229 137.500638 \r\nL 621.525121 137.006103 \r\nL 622.315563 136.864808 \r\nL 622.644914 136.61754 \r\nL 623.435356 136.123005 \r\nL 623.435356 135.981709 \r\nL 623.501226 135.981709 \r\nL 623.632967 135.769766 \r\nL 624.159928 135.416526 \r\nL 624.159928 135.310555 \r\nL 625.08211 134.745372 \r\nL 625.08211 134.604076 \r\nL 625.213851 134.46278 \r\nL 625.213851 134.392132 \r\nL 625.674942 134.250837 \r\nL 625.872552 134.074217 \r\nL 626.070163 134.074217 \r\nL 626.070163 133.968245 \r\nL 626.531254 133.438386 \r\nL 626.794735 133.403062 \r\nL 627.189955 133.155795 \r\nL 627.453436 132.696584 \r\nL 627.914527 132.48464 \r\nL 627.980397 132.378668 \r\nL 628.243878 132.378668 \r\nL 628.243878 132.343344 \r\nL 628.573229 131.707514 \r\nL 628.83671 131.49557 \r\nL 629.297801 131.460246 \r\nL 629.824762 131.248302 \r\nL 629.956502 130.612472 \r\nL 630.615204 130.188584 \r\nL 630.681074 129.976641 \r\nL 630.746944 129.976641 \r\nL 630.746944 129.870669 \r\nL 630.746944 129.729373 \r\nL 631.339776 129.482106 \r\nL 631.405646 129.376134 \r\nL 633.184141 128.387064 \r\nL 633.315881 128.316416 \r\nL 633.381751 128.069148 \r\nL 635.028505 127.080078 \r\nL 635.094375 126.903459 \r\nL 635.160245 126.726839 \r\nL 635.291986 126.726839 \r\nL 635.884817 126.338276 \r\nL 635.884817 126.232304 \r\nL 636.082428 126.232304 \r\nL 636.082428 126.126332 \r\nL 636.082428 126.02036 \r\nL 636.280038 125.985036 \r\nL 636.280038 125.949712 \r\nL 636.93874 125.525825 \r\nL 637.268091 125.419854 \r\nL 637.860922 124.889995 \r\nL 637.926792 124.678051 \r\nL 637.992663 124.678051 \r\nL 638.387884 124.289488 \r\nL 638.519624 124.254164 \r\nL 638.519624 124.183516 \r\nL 638.980715 123.759629 \r\nL 639.705287 123.512361 \r\nL 639.705287 123.371065 \r\nL 639.837027 123.371065 \r\nL 639.837027 123.335741 \r\nL 640.759209 122.664587 \r\nL 641.02269 122.170052 \r\nL 641.352041 122.06408 \r\nL 641.417911 121.958108 \r\nL 641.681392 121.852136 \r\nL 641.813132 121.781488 \r\nL 642.076613 121.392925 \r\nL 642.735314 121.07501 \r\nL 642.735314 121.004362 \r\nL 643.130535 120.792418 \r\nL 643.657497 119.838672 \r\nL 644.77729 119.308813 \r\nL 644.90903 119.308813 \r\nL 644.90903 119.238165 \r\nL 645.04077 119.132193 \r\nL 646.226433 118.74363 \r\nL 647.280356 118.284419 \r\nL 647.346226 118.072476 \r\nL 649.651682 116.906786 \r\nL 652.286488 115.423181 \r\nL 652.286488 115.387857 \r\nL 652.352359 115.387857 \r\nL 653.274541 115.034617 \r\nL 654.657814 113.833604 \r\nL 655.843477 113.162449 \r\nL 656.568049 112.950505 \r\nL 656.568049 112.915181 \r\nL 657.753712 112.279351 \r\nL 657.951323 111.537548 \r\nL 657.951323 111.502224 \r\nL 658.017193 111.502224 \r\nL 658.478284 111.148985 \r\nL 658.544154 111.007689 \r\nL 658.610024 110.937041 \r\nL 658.873505 110.407182 \r\nL 659.466336 110.265886 \r\nL 659.927427 109.806675 \r\nL 660.125038 109.700703 \r\nL 660.125038 109.66538 \r\nL 660.651999 109.48876 \r\nL 660.98135 109.135521 \r\nL 661.837662 108.852929 \r\nL 662.232883 108.782281 \r\nL 662.364624 108.181774 \r\nL 663.879637 107.651915 \r\nL 663.879637 107.545944 \r\nL 664.604209 107.192704 \r\nL 664.670079 107.122056 \r\nL 666.448574 106.380254 \r\nL 669.215121 105.214564 \r\nL 669.676212 105.108592 \r\nL 669.742082 105.00262 \r\nL 671.849927 103.942902 \r\nL 672.96972 103.695635 \r\nL 674.550604 102.671241 \r\nL 675.670397 102.282678 \r\nL 675.670397 102.21203 \r\nL 675.802137 102.21203 \r\nL 676.197358 101.964762 \r\nL 676.526709 101.929438 \r\nL 677.251281 101.434903 \r\nL 677.514762 101.434903 \r\nL 677.844112 101.152312 \r\nL 677.909983 100.905044 \r\nL 678.041723 100.799072 \r\nL 678.634554 100.657777 \r\nL 678.898035 100.622453 \r\nL 678.898035 100.587129 \r\nL 679.227386 100.304537 \r\nL 679.227386 100.269213 \r\nL 679.293256 100.269213 \r\nL 680.7424 100.021946 \r\nL 680.7424 99.88065 \r\nL 681.137621 99.774678 \r\nL 682.059803 99.562735 \r\nL 682.191543 99.174172 \r\nL 683.443076 98.679636 \r\nL 683.574817 98.679636 \r\nL 683.574817 98.608989 \r\nL 683.706557 98.149777 \r\nL 688.646819 96.772144 \r\nL 690.293574 96.171637 \r\nL 690.754665 95.853722 \r\nL 690.952275 95.853722 \r\nL 690.952275 95.74775 \r\nL 691.084015 95.677102 \r\nL 696.156018 94.334793 \r\nL 696.221888 94.122849 \r\nL 696.353629 94.087525 \r\nL 701.03041 92.074061 \r\nL 701.557372 91.862117 \r\nL 702.874775 91.650174 \r\nL 703.731087 91.296935 \r\nL 704.126308 91.155639 \r\nL 704.192178 90.731752 \r\nL 704.455659 90.731752 \r\nL 705.246101 90.343188 \r\nL 705.377841 90.343188 \r\nL 705.443711 90.166569 \r\nL 705.575452 90.166569 \r\nL 707.353946 89.46009 \r\nL 707.419816 89.212823 \r\nL 708.012648 89.177499 \r\nL 708.276129 88.894907 \r\nL 711.240286 88.400372 \r\nL 711.306156 88.365048 \r\nL 711.372026 88.153105 \r\nL 717.432081 87.12871 \r\nL 721.054941 85.821725 \r\nL 725.995203 84.33812 \r\nL 726.653905 83.596317 \r\nL 726.851515 83.596317 \r\nL 728.234789 82.925162 \r\nL 728.432399 82.819191 \r\nL 728.432399 82.677895 \r\nL 729.683932 82.430627 \r\nL 729.749802 82.35998 \r\nL 730.145023 82.254008 \r\nL 730.671985 81.724149 \r\nL 731.396556 81.618177 \r\nL 731.396556 81.582853 \r\nL 731.725907 81.476881 \r\nL 731.791777 81.264938 \r\nL 731.923518 81.264938 \r\nL 734.492454 80.346515 \r\nL 734.492454 80.311191 \r\nL 734.558324 80.311191 \r\nL 741.211211 78.650967 \r\nL 741.540562 78.368375 \r\nL 742.133393 78.156432 \r\nL 746.546694 76.284263 \r\nL 746.612565 76.178291 \r\nL 746.744305 76.178291 \r\nL 746.744305 76.142967 \r\nL 746.744305 76.036996 \r\nL 747.073656 75.966348 \r\nL 747.403007 75.71908 \r\nL 748.72041 75.295193 \r\nL 748.85215 75.224545 \r\nL 750.103683 75.012602 \r\nL 750.169553 74.800658 \r\nL 751.618697 74.482743 \r\nL 752.475009 74.447419 \r\nL 754.978075 73.952884 \r\nL 757.283531 73.246405 \r\nL 761.565092 71.974743 \r\nL 761.762702 71.904095 \r\nL 766.571225 71.091645 \r\nL 766.834705 71.020997 \r\nL 771.511487 69.996603 \r\nL 772.038448 69.890631 \r\nL 772.038448 69.855307 \r\nL 772.104318 69.855307 \r\nL 772.170189 69.819983 \r\nL 772.63128 69.819983 \r\nL 772.63128 69.78466 \r\nL 774.080423 69.466744 \r\nL 774.475644 69.360772 \r\nL 774.870865 69.290124 \r\nL 774.870865 69.184153 \r\nL 774.936735 69.184153 \r\nL 775.397827 69.078181 \r\nL 776.254139 68.936885 \r\nL 776.254139 68.866237 \r\nL 776.320009 68.866237 \r\nL 777.176321 68.830913 \r\nL 779.679387 68.477674 \r\nL 779.679387 68.44235 \r\nL 780.008738 68.407026 \r\nL 781.721362 68.089111 \r\nL 782.445934 67.983139 \r\nL 784.61965 67.135365 \r\nL 785.871183 66.711477 \r\nL 785.871183 66.676153 \r\nL 786.266404 66.64083 \r\nL 787.847288 66.146294 \r\nL 788.308379 66.146294 \r\nL 792.72168 65.510464 \r\nL 792.919291 65.439816 \r\nL 794.500174 65.192548 \r\nL 794.829525 64.980605 \r\nL 796.146929 64.803985 \r\nL 796.937371 64.48607 \r\nL 797.793683 64.380098 \r\nL 797.925423 64.344774 \r\nL 799.967398 64.274126 \r\nL 799.967398 64.203478 \r\nL 800.428489 64.097506 \r\nL 800.428489 64.026859 \r\nL 802.470464 63.673619 \r\nL 803.063296 63.602971 \r\nL 803.063296 63.567647 \r\nL 804.380699 63.14376 \r\nL 806.488544 62.896493 \r\nL 806.488544 62.825845 \r\nL 808.925741 62.33131 \r\nL 814.129484 61.448211 \r\nL 814.327094 61.34224 \r\nL 814.788185 61.236268 \r\nL 814.788185 61.200944 \r\nL 815.644497 60.918352 \r\nL 815.710368 60.777057 \r\nL 816.896031 60.600437 \r\nL 816.896031 60.529789 \r\nL 818.213434 60.211874 \r\nL 818.213434 60.105902 \r\nL 819.596707 59.646691 \r\nL 819.596707 59.611367 \r\nL 820.7165 59.540719 \r\nL 821.770423 59.258128 \r\nL 821.770423 59.18748 \r\nL 821.836293 59.18748 \r\nL 825.986113 58.763593 \r\nL 826.183724 58.692945 \r\nL 831.585077 57.951142 \r\nL 831.585077 57.880494 \r\nL 832.77074 57.739198 \r\nL 833.034221 57.668551 \r\nL 833.956403 57.597903 \r\nL 834.088144 57.527255 \r\nL 834.615105 57.527255 \r\nL 834.615105 57.491931 \r\nL 835.734898 57.03272 \r\nL 836.195989 56.8561 \r\nL 836.65708 56.750128 \r\nL 836.72295 56.679481 \r\nL 838.172094 56.396889 \r\nL 845.286072 55.478467 \r\nL 846.932826 55.019256 \r\nL 846.932826 54.983932 \r\nL 847.262177 54.87796 \r\nL 848.052619 54.771988 \r\nL 850.358074 54.454073 \r\nL 850.423945 54.418749 \r\nL 851.675478 54.348101 \r\nL 851.741348 54.242129 \r\nL 852.268309 54.206805 \r\nL 854.705505 53.747594 \r\nL 854.705505 53.676946 \r\nL 855.298337 53.676946 \r\nL 857.340312 53.359031 \r\nL 857.340312 53.288383 \r\nL 860.106859 53.076439 \r\nL 863.400367 52.652552 \r\nL 863.400367 52.617228 \r\nL 863.993198 52.511256 \r\nL 864.45429 52.263989 \r\nL 864.52016 52.158017 \r\nL 865.442342 52.052045 \r\nL 866.166914 51.946074 \r\nL 866.628005 51.91075 \r\nL 868.077149 51.522186 \r\nL 868.867591 51.416215 \r\nL 868.933461 51.380891 \r\nL 871.436527 50.851032 \r\nL 871.502397 50.74506 \r\nL 871.897618 50.709736 \r\nL 874.334814 50.356497 \r\nL 874.532425 50.215201 \r\nL 875.652218 50.109229 \r\nL 875.718088 50.038581 \r\nL 878.155284 49.508722 \r\nL 878.155284 49.473398 \r\nL 878.221154 49.473398 \r\nL 878.418765 49.261455 \r\nL 881.975754 49.084835 \r\nL 881.975754 49.014187 \r\nL 882.305104 48.837567 \r\nL 885.203392 48.5903 \r\nL 885.664483 48.272385 \r\nL 886.981886 48.201737 \r\nL 886.981886 48.131089 \r\nL 887.574718 48.025117 \r\nL 889.353212 47.636554 \r\nL 890.604745 47.530582 \r\nL 890.736485 47.459934 \r\nL 891.197577 47.389286 \r\nL 891.263447 47.283314 \r\nL 891.658668 47.177343 \r\nL 891.658668 47.142019 \r\nL 892.910201 47.071371 \r\nL 892.910201 47.000723 \r\nL 893.503032 46.930075 \r\nL 897.455242 45.976329 \r\nL 897.718723 45.835033 \r\nL 898.575035 45.693737 \r\nL 898.640905 45.62309 \r\nL 898.838516 45.552442 \r\nL 898.838516 45.481794 \r\nL 899.365477 45.411146 \r\nL 899.431347 45.305174 \r\nL 899.628958 45.305174 \r\nL 900.155919 45.057907 \r\nL 900.55114 45.057907 \r\nL 900.814621 44.916611 \r\nL 901.275712 44.775315 \r\nL 901.605063 44.739991 \r\nL 901.605063 44.669343 \r\nL 901.605063 44.598696 \r\nL 901.934413 44.563372 \r\nL 901.934413 44.528048 \r\nL 902.527245 44.351428 \r\nL 903.120076 44.245456 \r\nL 903.185947 44.174808 \r\nL 907.928599 43.503654 \r\nL 908.52143 43.29171 \r\nL 909.246002 43.221062 \r\nL 909.575353 43.079766 \r\nL 910.695145 42.867823 \r\nL 910.695145 42.797175 \r\nL 910.761016 42.797175 \r\nL 910.958626 42.761851 \r\nL 912.53951 42.373288 \r\nL 912.60538 42.30264 \r\nL 914.383875 41.843429 \r\nL 914.647355 41.843429 \r\nL 921.629593 40.642415 \r\nL 925.252452 40.253852 \r\nL 925.252452 40.218528 \r\nL 925.318322 40.218528 \r\nL 925.977024 40.14788 \r\nL 926.701596 40.041908 \r\nL 927.426167 39.97126 \r\nL 928.282479 39.935936 \r\nL 928.743571 39.794641 \r\nL 929.599883 39.723993 \r\nL 932.49817 39.229458 \r\nL 932.827521 39.123486 \r\nL 935.528198 38.840895 \r\nL 935.594068 38.805571 \r\nL 936.779731 38.734923 \r\nL 937.372562 38.628951 \r\nL 941.522383 38.381683 \r\nL 941.851733 38.275712 \r\nL 944.157189 38.063768 \r\nL 944.223059 37.957796 \r\nL 945.935684 37.887148 \r\nL 946.923736 37.710529 \r\nL 951.600518 37.215994 \r\nL 952.5227 37.18067 \r\nL 954.301195 37.039374 \r\nL 958.846236 36.898078 \r\nL 958.846236 36.862754 \r\nL 958.912106 36.862754 \r\nL 959.504938 36.82743 \r\nL 962.073874 36.721459 \r\nL 962.073874 36.686135 \r\nL 963.523018 36.615487 \r\nL 963.523018 36.544839 \r\nL 965.894344 36.332895 \r\nL 965.894344 36.297571 \r\nL 966.882396 36.1916 \r\nL 968.990241 35.83836 \r\nL 970.834606 35.732388 \r\nL 973.469413 35.414473 \r\nL 976.631181 35.308501 \r\nL 976.631181 35.273177 \r\nL 976.697051 35.273177 \r\nL 977.948584 35.202529 \r\nL 987.697368 34.778642 \r\nL 988.35607 34.67267 \r\nL 993.164592 34.67267 \r\nL 993.164592 34.67267 \r\n\" style=\"fill:none;stroke:#1f77b4;stroke-linecap:square;stroke-width:1.5;\"/>\r\n   </g>\r\n   <g id=\"patch_8\">\r\n    <path d=\"M 508.949716 294.118125 \r\nL 508.949716 22.318125 \r\n\" style=\"fill:none;stroke:#000000;stroke-linecap:square;stroke-linejoin:miter;stroke-width:0.8;\"/>\r\n   </g>\r\n   <g id=\"patch_9\">\r\n    <path d=\"M 1016.222443 294.118125 \r\nL 1016.222443 22.318125 \r\n\" style=\"fill:none;stroke:#000000;stroke-linecap:square;stroke-linejoin:miter;stroke-width:0.8;\"/>\r\n   </g>\r\n   <g id=\"patch_10\">\r\n    <path d=\"M 508.949716 294.118125 \r\nL 1016.222443 294.118125 \r\n\" style=\"fill:none;stroke:#000000;stroke-linecap:square;stroke-linejoin:miter;stroke-width:0.8;\"/>\r\n   </g>\r\n   <g id=\"patch_11\">\r\n    <path d=\"M 508.949716 22.318125 \r\nL 1016.222443 22.318125 \r\n\" style=\"fill:none;stroke:#000000;stroke-linecap:square;stroke-linejoin:miter;stroke-width:0.8;\"/>\r\n   </g>\r\n   <g id=\"text_26\">\r\n    <!-- ROC Curve -->\r\n    <defs>\r\n     <path d=\"M 39.40625 66.21875 \r\nQ 28.65625 66.21875 22.328125 58.203125 \r\nQ 16.015625 50.203125 16.015625 36.375 \r\nQ 16.015625 22.609375 22.328125 14.59375 \r\nQ 28.65625 6.59375 39.40625 6.59375 \r\nQ 50.140625 6.59375 56.421875 14.59375 \r\nQ 62.703125 22.609375 62.703125 36.375 \r\nQ 62.703125 50.203125 56.421875 58.203125 \r\nQ 50.140625 66.21875 39.40625 66.21875 \r\nz\r\nM 39.40625 74.21875 \r\nQ 54.734375 74.21875 63.90625 63.9375 \r\nQ 73.09375 53.65625 73.09375 36.375 \r\nQ 73.09375 19.140625 63.90625 8.859375 \r\nQ 54.734375 -1.421875 39.40625 -1.421875 \r\nQ 24.03125 -1.421875 14.8125 8.828125 \r\nQ 5.609375 19.09375 5.609375 36.375 \r\nQ 5.609375 53.65625 14.8125 63.9375 \r\nQ 24.03125 74.21875 39.40625 74.21875 \r\nz\r\n\" id=\"DejaVuSans-79\"/>\r\n    </defs>\r\n    <g transform=\"translate(729.895455 16.318125)scale(0.12 -0.12)\">\r\n     <use xlink:href=\"#DejaVuSans-82\"/>\r\n     <use x=\"69.482422\" xlink:href=\"#DejaVuSans-79\"/>\r\n     <use x=\"148.193359\" xlink:href=\"#DejaVuSans-67\"/>\r\n     <use x=\"218.017578\" xlink:href=\"#DejaVuSans-32\"/>\r\n     <use x=\"249.804688\" xlink:href=\"#DejaVuSans-67\"/>\r\n     <use x=\"319.628906\" xlink:href=\"#DejaVuSans-117\"/>\r\n     <use x=\"383.007812\" xlink:href=\"#DejaVuSans-114\"/>\r\n     <use x=\"424.121094\" xlink:href=\"#DejaVuSans-118\"/>\r\n     <use x=\"483.300781\" xlink:href=\"#DejaVuSans-101\"/>\r\n    </g>\r\n   </g>\r\n   <g id=\"legend_1\">\r\n    <g id=\"patch_12\">\r\n     <path d=\"M 868.966193 289.118125 \r\nL 1009.222443 289.118125 \r\nQ 1011.222443 289.118125 1011.222443 287.118125 \r\nL 1011.222443 273.44 \r\nQ 1011.222443 271.44 1009.222443 271.44 \r\nL 868.966193 271.44 \r\nQ 866.966193 271.44 866.966193 273.44 \r\nL 866.966193 287.118125 \r\nQ 866.966193 289.118125 868.966193 289.118125 \r\nz\r\n\" style=\"fill:#ffffff;opacity:0.8;stroke:#cccccc;stroke-linejoin:miter;\"/>\r\n    </g>\r\n    <g id=\"line2d_18\">\r\n     <path d=\"M 870.966193 279.538437 \r\nL 890.966193 279.538437 \r\n\" style=\"fill:none;stroke:#1f77b4;stroke-linecap:square;stroke-width:1.5;\"/>\r\n    </g>\r\n    <g id=\"line2d_19\"/>\r\n    <g id=\"text_27\">\r\n     <!-- Pipeline (AUC = 0.76) -->\r\n     <defs>\r\n      <path d=\"M 18.109375 8.203125 \r\nL 18.109375 -20.796875 \r\nL 9.078125 -20.796875 \r\nL 9.078125 54.6875 \r\nL 18.109375 54.6875 \r\nL 18.109375 46.390625 \r\nQ 20.953125 51.265625 25.265625 53.625 \r\nQ 29.59375 56 35.59375 56 \r\nQ 45.5625 56 51.78125 48.09375 \r\nQ 58.015625 40.1875 58.015625 27.296875 \r\nQ 58.015625 14.40625 51.78125 6.484375 \r\nQ 45.5625 -1.421875 35.59375 -1.421875 \r\nQ 29.59375 -1.421875 25.265625 0.953125 \r\nQ 20.953125 3.328125 18.109375 8.203125 \r\nz\r\nM 48.6875 27.296875 \r\nQ 48.6875 37.203125 44.609375 42.84375 \r\nQ 40.53125 48.484375 33.40625 48.484375 \r\nQ 26.265625 48.484375 22.1875 42.84375 \r\nQ 18.109375 37.203125 18.109375 27.296875 \r\nQ 18.109375 17.390625 22.1875 11.75 \r\nQ 26.265625 6.109375 33.40625 6.109375 \r\nQ 40.53125 6.109375 44.609375 11.75 \r\nQ 48.6875 17.390625 48.6875 27.296875 \r\nz\r\n\" id=\"DejaVuSans-112\"/>\r\n      <path d=\"M 31 75.875 \r\nQ 24.46875 64.65625 21.28125 53.65625 \r\nQ 18.109375 42.671875 18.109375 31.390625 \r\nQ 18.109375 20.125 21.3125 9.0625 \r\nQ 24.515625 -2 31 -13.1875 \r\nL 23.1875 -13.1875 \r\nQ 15.875 -1.703125 12.234375 9.375 \r\nQ 8.59375 20.453125 8.59375 31.390625 \r\nQ 8.59375 42.28125 12.203125 53.3125 \r\nQ 15.828125 64.359375 23.1875 75.875 \r\nz\r\n\" id=\"DejaVuSans-40\"/>\r\n      <path d=\"M 34.1875 63.1875 \r\nL 20.796875 26.90625 \r\nL 47.609375 26.90625 \r\nz\r\nM 28.609375 72.90625 \r\nL 39.796875 72.90625 \r\nL 67.578125 0 \r\nL 57.328125 0 \r\nL 50.6875 18.703125 \r\nL 17.828125 18.703125 \r\nL 11.1875 0 \r\nL 0.78125 0 \r\nz\r\n\" id=\"DejaVuSans-65\"/>\r\n      <path d=\"M 8.6875 72.90625 \r\nL 18.609375 72.90625 \r\nL 18.609375 28.609375 \r\nQ 18.609375 16.890625 22.84375 11.734375 \r\nQ 27.09375 6.59375 36.625 6.59375 \r\nQ 46.09375 6.59375 50.34375 11.734375 \r\nQ 54.59375 16.890625 54.59375 28.609375 \r\nL 54.59375 72.90625 \r\nL 64.5 72.90625 \r\nL 64.5 27.390625 \r\nQ 64.5 13.140625 57.4375 5.859375 \r\nQ 50.390625 -1.421875 36.625 -1.421875 \r\nQ 22.796875 -1.421875 15.734375 5.859375 \r\nQ 8.6875 13.140625 8.6875 27.390625 \r\nz\r\n\" id=\"DejaVuSans-85\"/>\r\n      <path d=\"M 10.59375 45.40625 \r\nL 73.1875 45.40625 \r\nL 73.1875 37.203125 \r\nL 10.59375 37.203125 \r\nz\r\nM 10.59375 25.484375 \r\nL 73.1875 25.484375 \r\nL 73.1875 17.1875 \r\nL 10.59375 17.1875 \r\nz\r\n\" id=\"DejaVuSans-61\"/>\r\n      <path d=\"M 8.015625 75.875 \r\nL 15.828125 75.875 \r\nQ 23.140625 64.359375 26.78125 53.3125 \r\nQ 30.421875 42.28125 30.421875 31.390625 \r\nQ 30.421875 20.453125 26.78125 9.375 \r\nQ 23.140625 -1.703125 15.828125 -13.1875 \r\nL 8.015625 -13.1875 \r\nQ 14.5 -2 17.703125 9.0625 \r\nQ 20.90625 20.125 20.90625 31.390625 \r\nQ 20.90625 42.671875 17.703125 53.65625 \r\nQ 14.5 64.65625 8.015625 75.875 \r\nz\r\n\" id=\"DejaVuSans-41\"/>\r\n     </defs>\r\n     <g transform=\"translate(898.966193 283.038437)scale(0.1 -0.1)\">\r\n      <use xlink:href=\"#DejaVuSans-80\"/>\r\n      <use x=\"58.052734\" xlink:href=\"#DejaVuSans-105\"/>\r\n      <use x=\"85.835938\" xlink:href=\"#DejaVuSans-112\"/>\r\n      <use x=\"149.3125\" xlink:href=\"#DejaVuSans-101\"/>\r\n      <use x=\"210.835938\" xlink:href=\"#DejaVuSans-108\"/>\r\n      <use x=\"238.619141\" xlink:href=\"#DejaVuSans-105\"/>\r\n      <use x=\"266.402344\" xlink:href=\"#DejaVuSans-110\"/>\r\n      <use x=\"329.78125\" xlink:href=\"#DejaVuSans-101\"/>\r\n      <use x=\"391.304688\" xlink:href=\"#DejaVuSans-32\"/>\r\n      <use x=\"423.091797\" xlink:href=\"#DejaVuSans-40\"/>\r\n      <use x=\"462.105469\" xlink:href=\"#DejaVuSans-65\"/>\r\n      <use x=\"530.513672\" xlink:href=\"#DejaVuSans-85\"/>\r\n      <use x=\"603.707031\" xlink:href=\"#DejaVuSans-67\"/>\r\n      <use x=\"673.53125\" xlink:href=\"#DejaVuSans-32\"/>\r\n      <use x=\"705.318359\" xlink:href=\"#DejaVuSans-61\"/>\r\n      <use x=\"789.107422\" xlink:href=\"#DejaVuSans-32\"/>\r\n      <use x=\"820.894531\" xlink:href=\"#DejaVuSans-48\"/>\r\n      <use x=\"884.517578\" xlink:href=\"#DejaVuSans-46\"/>\r\n      <use x=\"916.304688\" xlink:href=\"#DejaVuSans-55\"/>\r\n      <use x=\"979.927734\" xlink:href=\"#DejaVuSans-54\"/>\r\n      <use x=\"1043.550781\" xlink:href=\"#DejaVuSans-41\"/>\r\n     </g>\r\n    </g>\r\n   </g>\r\n  </g>\r\n  <g id=\"axes_3\">\r\n   <g id=\"patch_13\">\r\n    <path clip-path=\"url(#p3abbf3a6c9)\" d=\"M 331.404261 294.118125 \r\nL 331.404261 293.056406 \r\nL 331.404261 23.379844 \r\nL 331.404261 22.318125 \r\nL 344.994261 22.318125 \r\nL 344.994261 23.379844 \r\nL 344.994261 293.056406 \r\nL 344.994261 294.118125 \r\nz\r\n\" style=\"fill:#ffffff;stroke:#ffffff;stroke-linejoin:miter;stroke-width:0.01;\"/>\r\n   </g>\r\n   <image height=\"271\" id=\"imagec470e3366f\" transform=\"scale(1 -1)translate(0 -271)\" width=\"14\" x=\"331\" xlink:href=\"data:image/png;base64,\r\niVBORw0KGgoAAAANSUhEUgAAAA4AAAEPCAYAAAByY/XAAAAABHNCSVQICAgIfAhkiAAAAXZJREFUaIHtm8sNwzAMQ2Uno3WG7j9J0wmSwyNKgbVzJyjxYzdAOl7zfRV4zjEHwdVZYzKgn7E4IwOyOavqHJPuCEc9q4ERAkdMAKLsaNjRPypTlRc5KXI5Pl58VISLsmMFceiOSpEp0O8jwymjNojjZsSq+vvoT47dDl5kYVQKpPejf1R/rfaOj4wQKBzIlBEChRs5yI7N+BPGoGvODcwJgHICQOD28YmR4RYRZyfn9lmiyDsA90/US1mMqkk+1mC3xw7Aj4BmO7KuAChOh48M2FDkFXyE751ZkSu/qiswMmBDkbE4uB1BAYCEkqpuO2bDqP+/44TnqvAtWZA4OYzUx45Rg4BU1ZwdeZGjVP24GXN2PBp2dNtxBI3qL3L57fCrShlpcjgjLrI95B2MMVmlAVCK7G+H+9IRAuCOnHCxmiMnqGqPHD9zcoosnKv2U65hVP+PQISTskoZ+ajw6zVhVMwIgcKO7s/CBXHgP/W4qvT/j3TUL7WjjR5hEDXdAAAAAElFTkSuQmCC\" y=\"-22\"/>\r\n   <g id=\"matplotlib.axis_5\"/>\r\n   <g id=\"matplotlib.axis_6\">\r\n    <g id=\"ytick_9\">\r\n     <g id=\"line2d_20\">\r\n      <defs>\r\n       <path d=\"M 0 0 \r\nL 3.5 0 \r\n\" id=\"m124833f9aa\" style=\"stroke:#000000;stroke-width:0.8;\"/>\r\n      </defs>\r\n      <g>\r\n       <use style=\"stroke:#000000;stroke-width:0.8;\" x=\"344.994261\" xlink:href=\"#m124833f9aa\" y=\"281.715429\"/>\r\n      </g>\r\n     </g>\r\n     <g id=\"text_28\">\r\n      <!-- 0.30 -->\r\n      <g transform=\"translate(351.994261 285.514648)scale(0.1 -0.1)\">\r\n       <use xlink:href=\"#DejaVuSans-48\"/>\r\n       <use x=\"63.623047\" xlink:href=\"#DejaVuSans-46\"/>\r\n       <use x=\"95.410156\" xlink:href=\"#DejaVuSans-51\"/>\r\n       <use x=\"159.033203\" xlink:href=\"#DejaVuSans-48\"/>\r\n      </g>\r\n     </g>\r\n    </g>\r\n    <g id=\"ytick_10\">\r\n     <g id=\"line2d_21\">\r\n      <g>\r\n       <use style=\"stroke:#000000;stroke-width:0.8;\" x=\"344.994261\" xlink:href=\"#m124833f9aa\" y=\"250.841103\"/>\r\n      </g>\r\n     </g>\r\n     <g id=\"text_29\">\r\n      <!-- 0.35 -->\r\n      <defs>\r\n       <path d=\"M 10.796875 72.90625 \r\nL 49.515625 72.90625 \r\nL 49.515625 64.59375 \r\nL 19.828125 64.59375 \r\nL 19.828125 46.734375 \r\nQ 21.96875 47.46875 24.109375 47.828125 \r\nQ 26.265625 48.1875 28.421875 48.1875 \r\nQ 40.625 48.1875 47.75 41.5 \r\nQ 54.890625 34.8125 54.890625 23.390625 \r\nQ 54.890625 11.625 47.5625 5.09375 \r\nQ 40.234375 -1.421875 26.90625 -1.421875 \r\nQ 22.3125 -1.421875 17.546875 -0.640625 \r\nQ 12.796875 0.140625 7.71875 1.703125 \r\nL 7.71875 11.625 \r\nQ 12.109375 9.234375 16.796875 8.0625 \r\nQ 21.484375 6.890625 26.703125 6.890625 \r\nQ 35.15625 6.890625 40.078125 11.328125 \r\nQ 45.015625 15.765625 45.015625 23.390625 \r\nQ 45.015625 31 40.078125 35.4375 \r\nQ 35.15625 39.890625 26.703125 39.890625 \r\nQ 22.75 39.890625 18.8125 39.015625 \r\nQ 14.890625 38.140625 10.796875 36.28125 \r\nz\r\n\" id=\"DejaVuSans-53\"/>\r\n      </defs>\r\n      <g transform=\"translate(351.994261 254.640322)scale(0.1 -0.1)\">\r\n       <use xlink:href=\"#DejaVuSans-48\"/>\r\n       <use x=\"63.623047\" xlink:href=\"#DejaVuSans-46\"/>\r\n       <use x=\"95.410156\" xlink:href=\"#DejaVuSans-51\"/>\r\n       <use x=\"159.033203\" xlink:href=\"#DejaVuSans-53\"/>\r\n      </g>\r\n     </g>\r\n    </g>\r\n    <g id=\"ytick_11\">\r\n     <g id=\"line2d_22\">\r\n      <g>\r\n       <use style=\"stroke:#000000;stroke-width:0.8;\" x=\"344.994261\" xlink:href=\"#m124833f9aa\" y=\"219.966777\"/>\r\n      </g>\r\n     </g>\r\n     <g id=\"text_30\">\r\n      <!-- 0.40 -->\r\n      <g transform=\"translate(351.994261 223.765996)scale(0.1 -0.1)\">\r\n       <use xlink:href=\"#DejaVuSans-48\"/>\r\n       <use x=\"63.623047\" xlink:href=\"#DejaVuSans-46\"/>\r\n       <use x=\"95.410156\" xlink:href=\"#DejaVuSans-52\"/>\r\n       <use x=\"159.033203\" xlink:href=\"#DejaVuSans-48\"/>\r\n      </g>\r\n     </g>\r\n    </g>\r\n    <g id=\"ytick_12\">\r\n     <g id=\"line2d_23\">\r\n      <g>\r\n       <use style=\"stroke:#000000;stroke-width:0.8;\" x=\"344.994261\" xlink:href=\"#m124833f9aa\" y=\"189.092451\"/>\r\n      </g>\r\n     </g>\r\n     <g id=\"text_31\">\r\n      <!-- 0.45 -->\r\n      <g transform=\"translate(351.994261 192.89167)scale(0.1 -0.1)\">\r\n       <use xlink:href=\"#DejaVuSans-48\"/>\r\n       <use x=\"63.623047\" xlink:href=\"#DejaVuSans-46\"/>\r\n       <use x=\"95.410156\" xlink:href=\"#DejaVuSans-52\"/>\r\n       <use x=\"159.033203\" xlink:href=\"#DejaVuSans-53\"/>\r\n      </g>\r\n     </g>\r\n    </g>\r\n    <g id=\"ytick_13\">\r\n     <g id=\"line2d_24\">\r\n      <g>\r\n       <use style=\"stroke:#000000;stroke-width:0.8;\" x=\"344.994261\" xlink:href=\"#m124833f9aa\" y=\"158.218125\"/>\r\n      </g>\r\n     </g>\r\n     <g id=\"text_32\">\r\n      <!-- 0.50 -->\r\n      <g transform=\"translate(351.994261 162.017344)scale(0.1 -0.1)\">\r\n       <use xlink:href=\"#DejaVuSans-48\"/>\r\n       <use x=\"63.623047\" xlink:href=\"#DejaVuSans-46\"/>\r\n       <use x=\"95.410156\" xlink:href=\"#DejaVuSans-53\"/>\r\n       <use x=\"159.033203\" xlink:href=\"#DejaVuSans-48\"/>\r\n      </g>\r\n     </g>\r\n    </g>\r\n    <g id=\"ytick_14\">\r\n     <g id=\"line2d_25\">\r\n      <g>\r\n       <use style=\"stroke:#000000;stroke-width:0.8;\" x=\"344.994261\" xlink:href=\"#m124833f9aa\" y=\"127.343799\"/>\r\n      </g>\r\n     </g>\r\n     <g id=\"text_33\">\r\n      <!-- 0.55 -->\r\n      <g transform=\"translate(351.994261 131.143018)scale(0.1 -0.1)\">\r\n       <use xlink:href=\"#DejaVuSans-48\"/>\r\n       <use x=\"63.623047\" xlink:href=\"#DejaVuSans-46\"/>\r\n       <use x=\"95.410156\" xlink:href=\"#DejaVuSans-53\"/>\r\n       <use x=\"159.033203\" xlink:href=\"#DejaVuSans-53\"/>\r\n      </g>\r\n     </g>\r\n    </g>\r\n    <g id=\"ytick_15\">\r\n     <g id=\"line2d_26\">\r\n      <g>\r\n       <use style=\"stroke:#000000;stroke-width:0.8;\" x=\"344.994261\" xlink:href=\"#m124833f9aa\" y=\"96.469473\"/>\r\n      </g>\r\n     </g>\r\n     <g id=\"text_34\">\r\n      <!-- 0.60 -->\r\n      <g transform=\"translate(351.994261 100.268692)scale(0.1 -0.1)\">\r\n       <use xlink:href=\"#DejaVuSans-48\"/>\r\n       <use x=\"63.623047\" xlink:href=\"#DejaVuSans-46\"/>\r\n       <use x=\"95.410156\" xlink:href=\"#DejaVuSans-54\"/>\r\n       <use x=\"159.033203\" xlink:href=\"#DejaVuSans-48\"/>\r\n      </g>\r\n     </g>\r\n    </g>\r\n    <g id=\"ytick_16\">\r\n     <g id=\"line2d_27\">\r\n      <g>\r\n       <use style=\"stroke:#000000;stroke-width:0.8;\" x=\"344.994261\" xlink:href=\"#m124833f9aa\" y=\"65.595147\"/>\r\n      </g>\r\n     </g>\r\n     <g id=\"text_35\">\r\n      <!-- 0.65 -->\r\n      <g transform=\"translate(351.994261 69.394366)scale(0.1 -0.1)\">\r\n       <use xlink:href=\"#DejaVuSans-48\"/>\r\n       <use x=\"63.623047\" xlink:href=\"#DejaVuSans-46\"/>\r\n       <use x=\"95.410156\" xlink:href=\"#DejaVuSans-54\"/>\r\n       <use x=\"159.033203\" xlink:href=\"#DejaVuSans-53\"/>\r\n      </g>\r\n     </g>\r\n    </g>\r\n    <g id=\"ytick_17\">\r\n     <g id=\"line2d_28\">\r\n      <g>\r\n       <use style=\"stroke:#000000;stroke-width:0.8;\" x=\"344.994261\" xlink:href=\"#m124833f9aa\" y=\"34.720821\"/>\r\n      </g>\r\n     </g>\r\n     <g id=\"text_36\">\r\n      <!-- 0.70 -->\r\n      <g transform=\"translate(351.994261 38.520039)scale(0.1 -0.1)\">\r\n       <use xlink:href=\"#DejaVuSans-48\"/>\r\n       <use x=\"63.623047\" xlink:href=\"#DejaVuSans-46\"/>\r\n       <use x=\"95.410156\" xlink:href=\"#DejaVuSans-55\"/>\r\n       <use x=\"159.033203\" xlink:href=\"#DejaVuSans-48\"/>\r\n      </g>\r\n     </g>\r\n    </g>\r\n   </g>\r\n   <g id=\"patch_14\">\r\n    <path d=\"M 331.404261 294.118125 \r\nL 331.404261 293.056406 \r\nL 331.404261 23.379844 \r\nL 331.404261 22.318125 \r\nL 344.994261 22.318125 \r\nL 344.994261 23.379844 \r\nL 344.994261 293.056406 \r\nL 344.994261 294.118125 \r\nz\r\n\" style=\"fill:none;stroke:#000000;stroke-linejoin:miter;stroke-width:0.8;\"/>\r\n   </g>\r\n  </g>\r\n </g>\r\n <defs>\r\n  <clipPath id=\"p01552932c8\">\r\n   <rect height=\"271.8\" width=\"271.8\" x=\"34.240625\" y=\"22.318125\"/>\r\n  </clipPath>\r\n  <clipPath id=\"p0fb6578e9b\">\r\n   <rect height=\"271.8\" width=\"507.272727\" x=\"508.949716\" y=\"22.318125\"/>\r\n  </clipPath>\r\n  <clipPath id=\"p3abbf3a6c9\">\r\n   <rect height=\"271.8\" width=\"13.59\" x=\"331.404261\" y=\"22.318125\"/>\r\n  </clipPath>\r\n </defs>\r\n</svg>\r\n",
      "image/png": "[encoded data removed]"
     },
     "metadata": {
      "needs_background": "light"
     }
    }
   ],
   "source": [
    "y_pred = fit.predict(X_test)\n",
    "print(classification_report(y_test, y_pred))\n",
    "\n",
    "fig = plt.figure(1, figsize=(20, 5))\n",
    "\n",
    "chart_1 = fig.add_subplot(121)\n",
    "chart_2 = fig.add_subplot(122)\n",
    "\n",
    "# Pass Fitted Model, and our test sets, see how they do\n",
    "plot_confusion_matrix(pipe1, X_test, y_test, normalize='true', ax=chart_1)\n",
    "chart_1.set_title('Confusion Matrix')\n",
    "\n",
    "plot_roc_curve(pipe1, X_test, y_test, ax=chart_2)\n",
    "chart_2.set_title('ROC Curve')\n",
    "\n",
    "plt.show()"
   ]
  },
  {
   "cell_type": "code",
   "execution_count": null,
   "metadata": {},
   "outputs": [],
   "source": []
  }
 ],
 "metadata": {
  "kernelspec": {
   "display_name": "Python 3.6.8 64-bit ('PY368': conda)",
   "language": "python",
   "name": "python36864bitpy368conda0ce77b370c9347859b5fd633d2c78dc0"
  },
  "language_info": {
   "codemirror_mode": {
    "name": "ipython",
    "version": 3
   },
   "file_extension": ".py",
   "mimetype": "text/x-python",
   "name": "python",
   "nbconvert_exporter": "python",
   "pygments_lexer": "ipython3",
   "version": "3.6.8-final"
  }
 },
 "nbformat": 4,
 "nbformat_minor": 2
}